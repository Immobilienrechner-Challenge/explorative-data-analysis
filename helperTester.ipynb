{
 "cells": [
  {
   "cell_type": "code",
   "execution_count": 1,
   "metadata": {},
   "outputs": [],
   "source": [
    "from helper import ImmoHelper\n",
    "\n",
    "helper = ImmoHelper()\n",
    "X, y = helper.process_data()"
   ]
  },
  {
   "cell_type": "code",
   "execution_count": 2,
   "metadata": {},
   "outputs": [
    {
     "data": {
      "text/plain": [
       "array([[0.99697914, 0.04984896, 0.05872207, ..., 0.        , 0.        ,\n",
       "        0.        ],\n",
       "       [0.99875537, 0.03201139, 0.03770942, ..., 0.        , 0.00640228,\n",
       "        0.        ],\n",
       "       [0.99872289, 0.03242607, 0.03819791, ..., 0.        , 0.        ,\n",
       "        0.        ],\n",
       "       ...,\n",
       "       [0.99900706, 0.03330024, 0.028838  , ..., 0.        , 0.00666005,\n",
       "        0.        ],\n",
       "       [0.99867274, 0.04132439, 0.02996018, ..., 0.        , 0.        ,\n",
       "        0.        ],\n",
       "       [0.99983201, 0.01298483, 0.0126732 , ..., 0.        , 0.        ,\n",
       "        0.        ]])"
      ]
     },
     "execution_count": 2,
     "metadata": {},
     "output_type": "execute_result"
    }
   ],
   "source": [
    "X"
   ]
  },
  {
   "cell_type": "code",
   "execution_count": 3,
   "metadata": {},
   "outputs": [
    {
     "data": {
      "text/plain": [
       "array([1150000., 1420000., 1430000., ..., 1415000., 1465000., 2750000.])"
      ]
     },
     "execution_count": 3,
     "metadata": {},
     "output_type": "execute_result"
    }
   ],
   "source": [
    "y"
   ]
  }
 ],
 "metadata": {
  "kernelspec": {
   "display_name": "Python 3.9.7 ('base')",
   "language": "python",
   "name": "python3"
  },
  "language_info": {
   "codemirror_mode": {
    "name": "ipython",
    "version": 3
   },
   "file_extension": ".py",
   "mimetype": "text/x-python",
   "name": "python",
   "nbconvert_exporter": "python",
   "pygments_lexer": "ipython3",
   "version": "3.9.7"
  },
  "orig_nbformat": 4,
  "vscode": {
   "interpreter": {
    "hash": "f46e390ebb1ddf5491fd89d9ad6ad07bce30ede12b9a11821d34b748251f6923"
   }
  }
 },
 "nbformat": 4,
 "nbformat_minor": 2
}
