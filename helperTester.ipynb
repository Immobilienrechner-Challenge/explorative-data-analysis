{
 "cells": [
  {
   "cell_type": "code",
   "execution_count": 16,
   "metadata": {},
   "outputs": [],
   "source": [
    "# Import all important modules\n",
    "import pandas as pd\n",
    "import numpy as np\n",
    "import matplotlib.pyplot as plt\n",
    "import seaborn as sns\n",
    "\n",
    "# import helper functions\n",
    "from helper import ImmoHelper"
   ]
  },
  {
   "cell_type": "code",
   "execution_count": 9,
   "metadata": {},
   "outputs": [
    {
     "data": {
      "text/html": [
       "<div>\n",
       "<style scoped>\n",
       "    .dataframe tbody tr th:only-of-type {\n",
       "        vertical-align: middle;\n",
       "    }\n",
       "\n",
       "    .dataframe tbody tr th {\n",
       "        vertical-align: top;\n",
       "    }\n",
       "\n",
       "    .dataframe thead th {\n",
       "        text-align: right;\n",
       "    }\n",
       "</style>\n",
       "<table border=\"1\" class=\"dataframe\">\n",
       "  <thead>\n",
       "    <tr style=\"text-align: right;\">\n",
       "      <th></th>\n",
       "      <th>Unnamed: 0.1</th>\n",
       "      <th>Unnamed: 0</th>\n",
       "      <th>Municipality</th>\n",
       "      <th>Living space</th>\n",
       "      <th>Plot area</th>\n",
       "      <th>Floor space</th>\n",
       "      <th>Availability</th>\n",
       "      <th>location</th>\n",
       "      <th>description</th>\n",
       "      <th>detailed_description</th>\n",
       "      <th>...</th>\n",
       "      <th>gde_social_help_quota</th>\n",
       "      <th>gde_tax</th>\n",
       "      <th>gde_workers_sector1</th>\n",
       "      <th>gde_workers_sector2</th>\n",
       "      <th>gde_workers_sector3</th>\n",
       "      <th>gde_workers_total</th>\n",
       "      <th>price_cleaned</th>\n",
       "      <th>type</th>\n",
       "      <th>Space extracted</th>\n",
       "      <th>rooms</th>\n",
       "    </tr>\n",
       "  </thead>\n",
       "  <tbody>\n",
       "    <tr>\n",
       "      <th>0</th>\n",
       "      <td>0</td>\n",
       "      <td>0</td>\n",
       "      <td>Biberstein</td>\n",
       "      <td>100 m²</td>\n",
       "      <td>NaN</td>\n",
       "      <td>NaN</td>\n",
       "      <td>On request</td>\n",
       "      <td>5023 Biberstein, AG</td>\n",
       "      <td>3.5 rooms, 100 m²«Luxuriöse Attika-Wohnung mit...</td>\n",
       "      <td>DescriptionLuxuriöse Attika-Wohnung direkt an ...</td>\n",
       "      <td>...</td>\n",
       "      <td>2.234259</td>\n",
       "      <td>5.89</td>\n",
       "      <td>14.0</td>\n",
       "      <td>9.0</td>\n",
       "      <td>308.0</td>\n",
       "      <td>331.0</td>\n",
       "      <td>1150000.0</td>\n",
       "      <td>penthouse</td>\n",
       "      <td>100.0</td>\n",
       "      <td>5.0</td>\n",
       "    </tr>\n",
       "    <tr>\n",
       "      <th>1</th>\n",
       "      <td>1</td>\n",
       "      <td>1</td>\n",
       "      <td>Biberstein</td>\n",
       "      <td>156 m²</td>\n",
       "      <td>222 m²</td>\n",
       "      <td>242 m²</td>\n",
       "      <td>On request</td>\n",
       "      <td>Buhldenstrasse 8d5023 Biberstein, AG</td>\n",
       "      <td>4.5 rooms, 156 m²«Stilvolle Liegenschaft - ruh...</td>\n",
       "      <td>DescriptionStilvolle Liegenschaft an ruhiger L...</td>\n",
       "      <td>...</td>\n",
       "      <td>2.234259</td>\n",
       "      <td>5.89</td>\n",
       "      <td>14.0</td>\n",
       "      <td>9.0</td>\n",
       "      <td>308.0</td>\n",
       "      <td>331.0</td>\n",
       "      <td>1420000.0</td>\n",
       "      <td>terrace-house</td>\n",
       "      <td>156.0</td>\n",
       "      <td>5.0</td>\n",
       "    </tr>\n",
       "  </tbody>\n",
       "</table>\n",
       "<p>2 rows × 108 columns</p>\n",
       "</div>"
      ],
      "text/plain": [
       "   Unnamed: 0.1  Unnamed: 0 Municipality Living space Plot area Floor space  \\\n",
       "0             0           0   Biberstein       100 m²       NaN         NaN   \n",
       "1             1           1   Biberstein       156 m²    222 m²      242 m²   \n",
       "\n",
       "  Availability                              location  \\\n",
       "0   On request                   5023 Biberstein, AG   \n",
       "1   On request  Buhldenstrasse 8d5023 Biberstein, AG   \n",
       "\n",
       "                                         description  \\\n",
       "0  3.5 rooms, 100 m²«Luxuriöse Attika-Wohnung mit...   \n",
       "1  4.5 rooms, 156 m²«Stilvolle Liegenschaft - ruh...   \n",
       "\n",
       "                                detailed_description  ...  \\\n",
       "0  DescriptionLuxuriöse Attika-Wohnung direkt an ...  ...   \n",
       "1  DescriptionStilvolle Liegenschaft an ruhiger L...  ...   \n",
       "\n",
       "  gde_social_help_quota gde_tax gde_workers_sector1 gde_workers_sector2  \\\n",
       "0              2.234259    5.89                14.0                 9.0   \n",
       "1              2.234259    5.89                14.0                 9.0   \n",
       "\n",
       "  gde_workers_sector3 gde_workers_total price_cleaned           type  \\\n",
       "0               308.0             331.0     1150000.0      penthouse   \n",
       "1               308.0             331.0     1420000.0  terrace-house   \n",
       "\n",
       "  Space extracted rooms  \n",
       "0           100.0   5.0  \n",
       "1           156.0   5.0  \n",
       "\n",
       "[2 rows x 108 columns]"
      ]
     },
     "execution_count": 9,
     "metadata": {},
     "output_type": "execute_result"
    }
   ],
   "source": [
    "# import DataFarme\n",
    "df = pd.read_csv(\"https://raw.githubusercontent.com/Immobilienrechner-Challenge/data/main/immoscout_cleaned_lat_lon_fixed_v9.csv\")\n",
    "\n",
    "# display column\n",
    "df.head(2)\n"
   ]
  },
  {
   "cell_type": "code",
   "execution_count": 19,
   "metadata": {},
   "outputs": [
    {
     "data": {
      "text/plain": [
       "(array([[100.0, 3.5, nan, ..., 308.0, 331.0, 'penthouse'],\n",
       "        [156.0, 4.5, 222.0, ..., 308.0, 331.0, 'terrace-house'],\n",
       "        [93.0, 2.5, nan, ..., 30364.0, 33493.0, 'penthouse'],\n",
       "        ...,\n",
       "        [150.0, 6.5, 160.0, ..., 358.0, 626.0, 'terrace-house'],\n",
       "        [145.0, 6.0, 853.0, ..., 624.0, 857.0, 'detached-house'],\n",
       "        [385.0, 7.5, 1306.0, ..., 58299.0, 70633.0, 'detached-house']],\n",
       "       dtype=object),\n",
       " array([1150000., 1420000.,  720000., ..., 1415000., 1465000., 2750000.]))"
      ]
     },
     "execution_count": 19,
     "metadata": {},
     "output_type": "execute_result"
    }
   ],
   "source": [
    "# testing the helper functions for cleaning DataFrame!\n",
    "helper = ImmoHelper()\n",
    "X, Y = helper.process_data()\n",
    "X, Y"
   ]
  }
 ],
 "metadata": {
  "kernelspec": {
   "display_name": "Python 3.10.6 ('base')",
   "language": "python",
   "name": "python3"
  },
  "language_info": {
   "codemirror_mode": {
    "name": "ipython",
    "version": 3
   },
   "file_extension": ".py",
   "mimetype": "text/x-python",
   "name": "python",
   "nbconvert_exporter": "python",
   "pygments_lexer": "ipython3",
   "version": "3.10.6"
  },
  "orig_nbformat": 4,
  "vscode": {
   "interpreter": {
    "hash": "d4d1e4263499bec80672ea0156c357c1ee493ec2b1c70f0acce89fc37c4a6abe"
   }
  }
 },
 "nbformat": 4,
 "nbformat_minor": 2
}
