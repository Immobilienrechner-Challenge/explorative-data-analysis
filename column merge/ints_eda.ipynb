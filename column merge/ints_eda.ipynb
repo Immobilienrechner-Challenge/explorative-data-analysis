{
 "cells": [
  {
   "cell_type": "code",
   "execution_count": 79,
   "metadata": {},
   "outputs": [],
   "source": [
    "import pandas as pd\n",
    "import numpy as np\n",
    "import re\n",
    "import json\n",
    "from itertools import permutations\n",
    "from itertools import combinations\n",
    "\n",
    "pd.set_option('display.max_columns', None, 'display.max_rows', 100)\n",
    "\n",
    "df = pd.read_csv('../../data/immoscout_cleaned_lat_lon_fixed_v9.csv', low_memory=False)\n",
    "\n",
    "col_names = df.columns.array\n",
    "col_names[0:2] = ['Index1', 'Index2']\n",
    "df.columns = col_names\n",
    "\n",
    "df_cleaned = pd.DataFrame()"
   ]
  },
  {
   "cell_type": "markdown",
   "metadata": {},
   "source": [
    "In this part of the data analysis we focus primarily on the variables containing information about 'Living Space', 'Plot Area', 'Floor Space' and 'Floor'. For each one of them we find at least 6 columns containing relevant data (columns with corresponding names in German, French, Italian, English, one '..._merged' and one 'detail_responsive#...').  \n",
    "\n",
    "For the living space there's also another column called 'Space extracted'.  \n",
    "\n",
    "How the '_merged' column has been merged is unclear, therefore we cannot assume that this column contains all the data.  "
   ]
  },
  {
   "cell_type": "markdown",
   "metadata": {},
   "source": [
    "# Living Space"
   ]
  },
  {
   "cell_type": "markdown",
   "metadata": {},
   "source": [
    "To investigate, how we can get the full set of data for living space, let's first create a subset containing only the columns with data on the living space."
   ]
  },
  {
   "cell_type": "code",
   "execution_count": 80,
   "metadata": {},
   "outputs": [],
   "source": [
    "living_space = ['Living space', 'Wohnfläche', 'Surface habitable', 'Superficie abitabile', 'detail_responsive#surface_living', 'Living_space_merged', 'Space extracted']\n",
    "df_living_space = df.loc[:, living_space]"
   ]
  },
  {
   "cell_type": "markdown",
   "metadata": {},
   "source": [
    "The cumulative sum of the value counts per column can be checked against the 'merged'-count to see if any combination of value counts add up to the same number."
   ]
  },
  {
   "cell_type": "code",
   "execution_count": 81,
   "metadata": {},
   "outputs": [
    {
     "data": {
      "text/plain": [
       "Living space                        False\n",
       "Wohnfläche                          False\n",
       "Surface habitable                   False\n",
       "Superficie abitabile                 True\n",
       "detail_responsive#surface_living    False\n",
       "dtype: bool"
      ]
     },
     "execution_count": 81,
     "metadata": {},
     "output_type": "execute_result"
    }
   ],
   "source": [
    "df_living_space[living_space[0:5]].count().cumsum() == df_living_space[living_space[5]].count()"
   ]
  },
  {
   "cell_type": "markdown",
   "metadata": {},
   "source": [
    "Here we see, that the cumulative sum of the values in columns 'Living space', 'Wohnfläche', 'Surface habitable', 'Superficie abitabile' adds up to the same amount as the 'Living_space_merged' value count.  \n",
    "\n",
    "Let's see if the data contained in 'Living_space_merged' is actually the same data contained in columns 'Living space', 'Wohnfläche', 'Surface habitable' and 'Superficie abitabile'.  \n",
    "\n",
    "To do so we first combine the respective columns into one so we can compare the columns."
   ]
  },
  {
   "cell_type": "code",
   "execution_count": 82,
   "metadata": {},
   "outputs": [
    {
     "data": {
      "text/plain": [
       "True"
      ]
     },
     "execution_count": 82,
     "metadata": {},
     "output_type": "execute_result"
    }
   ],
   "source": [
    "df_living_space['living_space'] = df_living_space[living_space[0]].fillna('') + \\\n",
    "  (df_living_space[living_space[1]]).fillna('') + \\\n",
    "  (df_living_space[living_space[2]]).fillna('') + \\\n",
    "  (df_living_space[living_space[3]]).fillna('')\n",
    "\n",
    "(df_living_space.loc[:, 'living_space'] == df_living_space.loc[:, living_space[5]].fillna('')).sum() == df.shape[0]"
   ]
  },
  {
   "cell_type": "markdown",
   "metadata": {},
   "source": [
    "Counting the `True` values of the comparison of the two columns yields the same count as the column count of the dataset meaning that all rows of the two columns are identical.\n",
    "\n",
    "Therefore we can confirm, that the '_merged'-column contains all information from the columns 'Living space', 'Wohnfläche', 'Surface habitable' and 'Superficie abitabile'.  \n",
    "\n",
    "There are still two remaining columns with data about the living space: 'detail_responsive#surface_living' and 'Space extracted'.  \n",
    "\n",
    "Let's check if there's any new data in 'detail_responsive#surface_living':"
   ]
  },
  {
   "cell_type": "code",
   "execution_count": 83,
   "metadata": {},
   "outputs": [
    {
     "data": {
      "text/html": [
       "<div>\n",
       "<style scoped>\n",
       "    .dataframe tbody tr th:only-of-type {\n",
       "        vertical-align: middle;\n",
       "    }\n",
       "\n",
       "    .dataframe tbody tr th {\n",
       "        vertical-align: top;\n",
       "    }\n",
       "\n",
       "    .dataframe thead th {\n",
       "        text-align: right;\n",
       "    }\n",
       "</style>\n",
       "<table border=\"1\" class=\"dataframe\">\n",
       "  <thead>\n",
       "    <tr style=\"text-align: right;\">\n",
       "      <th></th>\n",
       "      <th>Living space</th>\n",
       "      <th>Wohnfläche</th>\n",
       "      <th>Surface habitable</th>\n",
       "      <th>Superficie abitabile</th>\n",
       "      <th>detail_responsive#surface_living</th>\n",
       "      <th>Living_space_merged</th>\n",
       "      <th>Space extracted</th>\n",
       "      <th>living_space</th>\n",
       "    </tr>\n",
       "  </thead>\n",
       "  <tbody>\n",
       "    <tr>\n",
       "      <th>2</th>\n",
       "      <td>NaN</td>\n",
       "      <td>NaN</td>\n",
       "      <td>NaN</td>\n",
       "      <td>NaN</td>\n",
       "      <td>93 m²</td>\n",
       "      <td>NaN</td>\n",
       "      <td>93.0</td>\n",
       "      <td>NaN</td>\n",
       "    </tr>\n",
       "    <tr>\n",
       "      <th>39</th>\n",
       "      <td>NaN</td>\n",
       "      <td>NaN</td>\n",
       "      <td>NaN</td>\n",
       "      <td>NaN</td>\n",
       "      <td>97 m²</td>\n",
       "      <td>NaN</td>\n",
       "      <td>97.0</td>\n",
       "      <td>NaN</td>\n",
       "    </tr>\n",
       "    <tr>\n",
       "      <th>44</th>\n",
       "      <td>NaN</td>\n",
       "      <td>NaN</td>\n",
       "      <td>NaN</td>\n",
       "      <td>NaN</td>\n",
       "      <td>216 m²</td>\n",
       "      <td>NaN</td>\n",
       "      <td>216.0</td>\n",
       "      <td>NaN</td>\n",
       "    </tr>\n",
       "    <tr>\n",
       "      <th>170</th>\n",
       "      <td>NaN</td>\n",
       "      <td>NaN</td>\n",
       "      <td>NaN</td>\n",
       "      <td>NaN</td>\n",
       "      <td>70 m²</td>\n",
       "      <td>NaN</td>\n",
       "      <td>70.0</td>\n",
       "      <td>NaN</td>\n",
       "    </tr>\n",
       "    <tr>\n",
       "      <th>178</th>\n",
       "      <td>NaN</td>\n",
       "      <td>NaN</td>\n",
       "      <td>NaN</td>\n",
       "      <td>NaN</td>\n",
       "      <td>127 m²</td>\n",
       "      <td>NaN</td>\n",
       "      <td>127.0</td>\n",
       "      <td>NaN</td>\n",
       "    </tr>\n",
       "    <tr>\n",
       "      <th>...</th>\n",
       "      <td>...</td>\n",
       "      <td>...</td>\n",
       "      <td>...</td>\n",
       "      <td>...</td>\n",
       "      <td>...</td>\n",
       "      <td>...</td>\n",
       "      <td>...</td>\n",
       "      <td>...</td>\n",
       "    </tr>\n",
       "    <tr>\n",
       "      <th>13351</th>\n",
       "      <td>NaN</td>\n",
       "      <td>NaN</td>\n",
       "      <td>NaN</td>\n",
       "      <td>NaN</td>\n",
       "      <td>93 m²</td>\n",
       "      <td>NaN</td>\n",
       "      <td>93.0</td>\n",
       "      <td>NaN</td>\n",
       "    </tr>\n",
       "    <tr>\n",
       "      <th>13356</th>\n",
       "      <td>NaN</td>\n",
       "      <td>NaN</td>\n",
       "      <td>NaN</td>\n",
       "      <td>NaN</td>\n",
       "      <td>157 m²</td>\n",
       "      <td>NaN</td>\n",
       "      <td>157.0</td>\n",
       "      <td>NaN</td>\n",
       "    </tr>\n",
       "    <tr>\n",
       "      <th>13357</th>\n",
       "      <td>NaN</td>\n",
       "      <td>NaN</td>\n",
       "      <td>NaN</td>\n",
       "      <td>NaN</td>\n",
       "      <td>121 m²</td>\n",
       "      <td>NaN</td>\n",
       "      <td>121.0</td>\n",
       "      <td>NaN</td>\n",
       "    </tr>\n",
       "    <tr>\n",
       "      <th>13359</th>\n",
       "      <td>NaN</td>\n",
       "      <td>NaN</td>\n",
       "      <td>NaN</td>\n",
       "      <td>NaN</td>\n",
       "      <td>83 m²</td>\n",
       "      <td>NaN</td>\n",
       "      <td>83.0</td>\n",
       "      <td>NaN</td>\n",
       "    </tr>\n",
       "    <tr>\n",
       "      <th>13363</th>\n",
       "      <td>NaN</td>\n",
       "      <td>NaN</td>\n",
       "      <td>NaN</td>\n",
       "      <td>NaN</td>\n",
       "      <td>164 m²</td>\n",
       "      <td>NaN</td>\n",
       "      <td>164.0</td>\n",
       "      <td>NaN</td>\n",
       "    </tr>\n",
       "  </tbody>\n",
       "</table>\n",
       "<p>430 rows × 8 columns</p>\n",
       "</div>"
      ],
      "text/plain": [
       "      Living space Wohnfläche Surface habitable Superficie abitabile  \\\n",
       "2              NaN        NaN               NaN                  NaN   \n",
       "39             NaN        NaN               NaN                  NaN   \n",
       "44             NaN        NaN               NaN                  NaN   \n",
       "170            NaN        NaN               NaN                  NaN   \n",
       "178            NaN        NaN               NaN                  NaN   \n",
       "...            ...        ...               ...                  ...   \n",
       "13351          NaN        NaN               NaN                  NaN   \n",
       "13356          NaN        NaN               NaN                  NaN   \n",
       "13357          NaN        NaN               NaN                  NaN   \n",
       "13359          NaN        NaN               NaN                  NaN   \n",
       "13363          NaN        NaN               NaN                  NaN   \n",
       "\n",
       "      detail_responsive#surface_living Living_space_merged  Space extracted  \\\n",
       "2                                93 m²                 NaN             93.0   \n",
       "39                               97 m²                 NaN             97.0   \n",
       "44                              216 m²                 NaN            216.0   \n",
       "170                              70 m²                 NaN             70.0   \n",
       "178                             127 m²                 NaN            127.0   \n",
       "...                                ...                 ...              ...   \n",
       "13351                            93 m²                 NaN             93.0   \n",
       "13356                           157 m²                 NaN            157.0   \n",
       "13357                           121 m²                 NaN            121.0   \n",
       "13359                            83 m²                 NaN             83.0   \n",
       "13363                           164 m²                 NaN            164.0   \n",
       "\n",
       "      living_space  \n",
       "2              NaN  \n",
       "39             NaN  \n",
       "44             NaN  \n",
       "170            NaN  \n",
       "178            NaN  \n",
       "...            ...  \n",
       "13351          NaN  \n",
       "13356          NaN  \n",
       "13357          NaN  \n",
       "13359          NaN  \n",
       "13363          NaN  \n",
       "\n",
       "[430 rows x 8 columns]"
      ]
     },
     "execution_count": 83,
     "metadata": {},
     "output_type": "execute_result"
    }
   ],
   "source": [
    "df_living_space['living_space'] = df_living_space['living_space'].replace('', np.NaN)\n",
    "\n",
    "df_living_space[df_living_space['living_space'].isna() & df_living_space[\"detail_responsive#surface_living\"].notna()]"
   ]
  },
  {
   "cell_type": "markdown",
   "metadata": {},
   "source": [
    "Interesting. This output shows that not only 'detail_responsive#surface_living' but also 'Space extracted' contains more information on living space. In a first step we can merge the 'detail_responsive#surface_living' into 'living_space' and compare the counts."
   ]
  },
  {
   "cell_type": "code",
   "execution_count": 84,
   "metadata": {},
   "outputs": [
    {
     "data": {
      "text/plain": [
       "(12304, 12308)"
      ]
     },
     "execution_count": 84,
     "metadata": {},
     "output_type": "execute_result"
    }
   ],
   "source": [
    "df_living_space['living_space'] = df_living_space[living_space[5]].fillna('') + \\\n",
    "  (df_living_space[living_space[4]]).fillna('')\n",
    "\n",
    "df_living_space['living_space'] = df_living_space['living_space'].replace('', np.nan)\n",
    "\n",
    "df_living_space['living_space'].count(), df_living_space['Space extracted'].count()"
   ]
  },
  {
   "cell_type": "markdown",
   "metadata": {},
   "source": [
    "With all columns containing direct information about the living space except 'Space extracted' we get 12304 rows of data. 'Space extracted' has 12308, 4 more rows."
   ]
  },
  {
   "cell_type": "code",
   "execution_count": 85,
   "metadata": {},
   "outputs": [
    {
     "data": {
      "text/html": [
       "<div>\n",
       "<style scoped>\n",
       "    .dataframe tbody tr th:only-of-type {\n",
       "        vertical-align: middle;\n",
       "    }\n",
       "\n",
       "    .dataframe tbody tr th {\n",
       "        vertical-align: top;\n",
       "    }\n",
       "\n",
       "    .dataframe thead th {\n",
       "        text-align: right;\n",
       "    }\n",
       "</style>\n",
       "<table border=\"1\" class=\"dataframe\">\n",
       "  <thead>\n",
       "    <tr style=\"text-align: right;\">\n",
       "      <th></th>\n",
       "      <th>Living space</th>\n",
       "      <th>Wohnfläche</th>\n",
       "      <th>Surface habitable</th>\n",
       "      <th>Superficie abitabile</th>\n",
       "      <th>detail_responsive#surface_living</th>\n",
       "      <th>Living_space_merged</th>\n",
       "      <th>Space extracted</th>\n",
       "      <th>living_space</th>\n",
       "    </tr>\n",
       "  </thead>\n",
       "  <tbody>\n",
       "    <tr>\n",
       "      <th>786</th>\n",
       "      <td>NaN</td>\n",
       "      <td>NaN</td>\n",
       "      <td>NaN</td>\n",
       "      <td>NaN</td>\n",
       "      <td>NaN</td>\n",
       "      <td>NaN</td>\n",
       "      <td>200.0</td>\n",
       "      <td>NaN</td>\n",
       "    </tr>\n",
       "    <tr>\n",
       "      <th>3380</th>\n",
       "      <td>NaN</td>\n",
       "      <td>NaN</td>\n",
       "      <td>NaN</td>\n",
       "      <td>NaN</td>\n",
       "      <td>NaN</td>\n",
       "      <td>NaN</td>\n",
       "      <td>210.0</td>\n",
       "      <td>NaN</td>\n",
       "    </tr>\n",
       "    <tr>\n",
       "      <th>3696</th>\n",
       "      <td>NaN</td>\n",
       "      <td>NaN</td>\n",
       "      <td>NaN</td>\n",
       "      <td>NaN</td>\n",
       "      <td>NaN</td>\n",
       "      <td>NaN</td>\n",
       "      <td>228.0</td>\n",
       "      <td>NaN</td>\n",
       "    </tr>\n",
       "    <tr>\n",
       "      <th>6506</th>\n",
       "      <td>NaN</td>\n",
       "      <td>NaN</td>\n",
       "      <td>NaN</td>\n",
       "      <td>NaN</td>\n",
       "      <td>NaN</td>\n",
       "      <td>NaN</td>\n",
       "      <td>200.0</td>\n",
       "      <td>NaN</td>\n",
       "    </tr>\n",
       "  </tbody>\n",
       "</table>\n",
       "</div>"
      ],
      "text/plain": [
       "     Living space Wohnfläche Surface habitable Superficie abitabile  \\\n",
       "786           NaN        NaN               NaN                  NaN   \n",
       "3380          NaN        NaN               NaN                  NaN   \n",
       "3696          NaN        NaN               NaN                  NaN   \n",
       "6506          NaN        NaN               NaN                  NaN   \n",
       "\n",
       "     detail_responsive#surface_living Living_space_merged  Space extracted  \\\n",
       "786                               NaN                 NaN            200.0   \n",
       "3380                              NaN                 NaN            210.0   \n",
       "3696                              NaN                 NaN            228.0   \n",
       "6506                              NaN                 NaN            200.0   \n",
       "\n",
       "     living_space  \n",
       "786           NaN  \n",
       "3380          NaN  \n",
       "3696          NaN  \n",
       "6506          NaN  "
      ]
     },
     "execution_count": 85,
     "metadata": {},
     "output_type": "execute_result"
    }
   ],
   "source": [
    "df_living_space.loc[df['Space extracted'].notna() & df_living_space['living_space'].isna(), :] "
   ]
  },
  {
   "cell_type": "markdown",
   "metadata": {},
   "source": [
    "Does the column 'Space extracted' contain the same information as the merged column plus 4 more rows? To check that, the data has to be parsed the same way. "
   ]
  },
  {
   "cell_type": "code",
   "execution_count": 86,
   "metadata": {},
   "outputs": [
    {
     "data": {
      "text/plain": [
       "True"
      ]
     },
     "execution_count": 86,
     "metadata": {},
     "output_type": "execute_result"
    }
   ],
   "source": [
    "df_living_space['living_space'] = df_living_space.living_space.str.extract('(\\d+)').astype(float)\n",
    "\n",
    "df_living_space['living_space'].dtype == df_living_space['Space extracted'].dtype"
   ]
  },
  {
   "cell_type": "markdown",
   "metadata": {},
   "source": [
    "Now with the same datatype, the data can be merged and compared once more."
   ]
  },
  {
   "cell_type": "code",
   "execution_count": 87,
   "metadata": {},
   "outputs": [
    {
     "data": {
      "text/plain": [
       "13378"
      ]
     },
     "execution_count": 87,
     "metadata": {},
     "output_type": "execute_result"
    }
   ],
   "source": [
    "df_living_space.loc[df_living_space['Space extracted'].notna() & df_living_space['living_space'].isna(), 'living_space'] = df_living_space.loc[df_living_space['Space extracted'].notna() & df_living_space['living_space'].isna(), 'Space extracted']\n",
    "(df_living_space['Space extracted'].astype(float) == df_living_space['living_space']).count()"
   ]
  },
  {
   "cell_type": "markdown",
   "metadata": {},
   "source": [
    "And with this we can see that the column 'Space extracted' contained the most complete data of the investigated columns for living space. 4 more than the '..._merged' and 'detail_responsive#...' combined. "
   ]
  },
  {
   "cell_type": "code",
   "execution_count": 88,
   "metadata": {},
   "outputs": [
    {
     "data": {
      "text/plain": [
       "count    12308.000000\n",
       "mean       158.687195\n",
       "std        120.631122\n",
       "min          1.000000\n",
       "25%        100.000000\n",
       "50%        131.000000\n",
       "75%        180.000000\n",
       "max       4390.000000\n",
       "Name: living_space, dtype: float64"
      ]
     },
     "execution_count": 88,
     "metadata": {},
     "output_type": "execute_result"
    }
   ],
   "source": [
    "df_living_space['living_space'] = df_living_space['Space extracted']\n",
    "df_living_space.drop(['Living space', 'Wohnfläche', 'Surface habitable', 'Superficie abitabile', 'detail_responsive#surface_living', 'Living_space_merged', 'Space extracted'], axis=1, inplace=True)\n",
    "df_living_space.living_space.describe()"
   ]
  },
  {
   "cell_type": "markdown",
   "metadata": {},
   "source": [
    "Now the next question is, where did those 4 more rows come from?  \n",
    "In the dataset we have many redundant columns but we discovered a pattern for the above described columns. They are all extracted from different forms (mobile, desktop, different languages) of the website immoscout24.ch and the column names 'description', 'detailed_description', 'table', 'details', 'details_structured' suggest that they may contain raw data. "
   ]
  },
  {
   "cell_type": "markdown",
   "metadata": {},
   "source": [
    "# Description"
   ]
  },
  {
   "cell_type": "markdown",
   "metadata": {},
   "source": [
    "To get an idea of the information contained in the 'description' column, let's look at the `value_counts()`"
   ]
  },
  {
   "cell_type": "code",
   "execution_count": 89,
   "metadata": {},
   "outputs": [
    {
     "data": {
      "text/plain": [
       "4.5 rooms, 153 m²«Duplex dans les combles avec 2 terrasses !»CHF 686,700.—Favourite                                                                               4\n",
       "3.5 rooms, 98 m²«Belle promotion Minergie de 22 appartements au calme ! Du 2.5 pces au 4.5 pces !»CHF 495,000.—Favourite                                          4\n",
       "5.5 rooms, 153 m²«####Les Vergers d Ollon#### à Ollon VD Magnifique Villa Mitoyenne avec un grand jardin d environ 1 000 m2 à vendre»CHF 1,260,000.—Favourite     4\n",
       "5.5 rooms, 170 m²«NOUVELLE PROMOTION»CHF 1,795,000.—Favourite                                                                                                     4\n",
       "2.5 rooms, 82 m²«Quartier Saint-Michel Appartement 2.5 pces au 3e»CHF 492,000.—Favourite                                                                          3\n",
       "                                                                                                                                                                 ..\n",
       "3.5 rooms, 101 m²«LES 3 DERNIÈRES MAISONS DISPONIBLE»CHF 316,000.—Favourite                                                                                       1\n",
       "4.5 rooms, 115 m²«Maison atypique en ville historique de Porrentruy.»CHF 395,000.—Favourite                                                                       1\n",
       "6.5 rooms, 367 m²«Très jolie maison avec grand terrain et beaucoup de potentiel»CHF 595,000.—Favourite                                                            1\n",
       "4.5 rooms«4.5-Zimmer-Wohnung | Schachenweid»CHF 790,000.—FavouriteNew building projectThis property is part of the project ####Schachenweid####.To the project    1\n",
       "7.5 rooms, 385 m²«Wohnen an ruhiger, sonniger Wohnlage mit bester Aussicht»CHF 2,750,000.—Favourite                                                               1\n",
       "Name: description, Length: 13167, dtype: int64"
      ]
     },
     "execution_count": 89,
     "metadata": {},
     "output_type": "execute_result"
    }
   ],
   "source": [
    "df['description'].value_counts()"
   ]
  },
  {
   "cell_type": "markdown",
   "metadata": {},
   "source": [
    "Two things immediately stand out:\n",
    "- The same description (and maybe more features) have been recorded multiple times for some observations\n",
    "- There seems to be a distinctive pattern in the data contained in the 'description'-column.  \n",
    "\n",
    "Since we cannot inspect every column manually, we've built a regex matching group to check, if the structure of the data is consistent in all observations."
   ]
  },
  {
   "cell_type": "code",
   "execution_count": 90,
   "metadata": {},
   "outputs": [
    {
     "data": {
      "text/plain": [
       "13378"
      ]
     },
     "execution_count": 90,
     "metadata": {},
     "output_type": "execute_result"
    }
   ],
   "source": [
    "df['description'].count()"
   ]
  },
  {
   "cell_type": "code",
   "execution_count": 91,
   "metadata": {},
   "outputs": [
    {
     "data": {
      "text/plain": [
       "11201"
      ]
     },
     "execution_count": 91,
     "metadata": {},
     "output_type": "execute_result"
    }
   ],
   "source": [
    "description_pattern = '\\d+\\.?\\d? rooms, \\d+ m²«.+»CHF [\\d,]+\\.'\n",
    "df['description'].str.contains(description_pattern).sum()"
   ]
  },
  {
   "cell_type": "markdown",
   "metadata": {},
   "source": [
    "The column 'description' contains information for every observation in the dataset. 11201 of which follow the defined structure. What about the rest?"
   ]
  },
  {
   "cell_type": "code",
   "execution_count": 92,
   "metadata": {},
   "outputs": [
    {
     "data": {
      "text/plain": [
       "2177"
      ]
     },
     "execution_count": 92,
     "metadata": {},
     "output_type": "execute_result"
    }
   ],
   "source": [
    "is_structured = df['description'].str.contains(description_pattern)\n",
    "not_structured = is_structured[is_structured == False]\n",
    "not_structured.count()"
   ]
  },
  {
   "cell_type": "code",
   "execution_count": 93,
   "metadata": {},
   "outputs": [
    {
     "data": {
      "text/plain": [
       "7     4.5 rooms«Preishit! Grossräumige Wohnung mitte...\n",
       "15    258 m²«Mehrgenerationenhaus mit grossem Garten...\n",
       "21    4.5 rooms, 236 m²«Terrassenhaus mit malerische...\n",
       "22    167 m²«EFH 6.5 davon 1 Zi-Studio (Büro / Praxi...\n",
       "33    258 m²«Mehrgenerationenhaus mit grossem Garten...\n",
       "35    4.5 rooms«Preishit! Grossräumige Wohnung mitte...\n",
       "41    4.5 rooms, 150 m²«####Two in One#### mit Einli...\n",
       "44    7.5 rooms, 216 m²«Verzauberndes Generationenha...\n",
       "45    5 rooms, 104 m²«#### Top Einfamilienhaus einge...\n",
       "52    5.5 rooms, 160 m²«FAMILIENGLÜCK MIT VIEL PLATZ...\n",
       "Name: description, dtype: object"
      ]
     },
     "execution_count": 93,
     "metadata": {},
     "output_type": "execute_result"
    }
   ],
   "source": [
    "df.iloc[not_structured.index]['description'].head(10)"
   ]
  },
  {
   "cell_type": "markdown",
   "metadata": {},
   "source": [
    "So not every row of 'description' contains complete information about the rooms, living space and price. Let's check how it compares to the information contained in other columns in the dataset. \n",
    "\n",
    "## Rooms"
   ]
  },
  {
   "cell_type": "code",
   "execution_count": 95,
   "metadata": {},
   "outputs": [
    {
     "data": {
      "text/plain": [
       "count    11998.000000\n",
       "mean         5.149817\n",
       "std          2.208763\n",
       "min          1.500000\n",
       "25%          3.500000\n",
       "50%          4.500000\n",
       "75%          5.500000\n",
       "max         29.000000\n",
       "Name: details_rooms, dtype: float64"
      ]
     },
     "execution_count": 95,
     "metadata": {},
     "output_type": "execute_result"
    }
   ],
   "source": [
    "df_rooms = pd.DataFrame(df.loc[:, 'rooms'])\n",
    "df_rooms['details_rooms'] = df['description'].str.extract('(\\d+\\.?\\d?) rooms, ').astype(float)\n",
    "df_rooms['details_rooms'].describe()"
   ]
  },
  {
   "cell_type": "markdown",
   "metadata": {},
   "source": [
    "11998 rows of rooms-data can be extracted from 'description'"
   ]
  },
  {
   "cell_type": "markdown",
   "metadata": {},
   "source": [
    "## Living Space"
   ]
  },
  {
   "cell_type": "code",
   "execution_count": 96,
   "metadata": {},
   "outputs": [
    {
     "data": {
      "text/plain": [
       "12304"
      ]
     },
     "execution_count": 96,
     "metadata": {},
     "output_type": "execute_result"
    }
   ],
   "source": [
    "df['description'].str.contains('\\d+ m²«').sum()"
   ]
  },
  {
   "cell_type": "markdown",
   "metadata": {},
   "source": [
    "Interesting, here we see the same count as before, when we merged all columns except 'Space extracted'. Is it actually the same information?"
   ]
  },
  {
   "cell_type": "code",
   "execution_count": 97,
   "metadata": {},
   "outputs": [
    {
     "data": {
      "text/plain": [
       "12304"
      ]
     },
     "execution_count": 97,
     "metadata": {},
     "output_type": "execute_result"
    }
   ],
   "source": [
    "df_living_space['extracted_ls'] = df['description'].str.extract('(\\d+) m²«')\n",
    "(df_living_space['extracted_ls'].astype(float) == df_living_space['living_space']).sum()"
   ]
  },
  {
   "cell_type": "code",
   "execution_count": 98,
   "metadata": {},
   "outputs": [
    {
     "data": {
      "text/html": [
       "<div>\n",
       "<style scoped>\n",
       "    .dataframe tbody tr th:only-of-type {\n",
       "        vertical-align: middle;\n",
       "    }\n",
       "\n",
       "    .dataframe tbody tr th {\n",
       "        vertical-align: top;\n",
       "    }\n",
       "\n",
       "    .dataframe thead th {\n",
       "        text-align: right;\n",
       "    }\n",
       "</style>\n",
       "<table border=\"1\" class=\"dataframe\">\n",
       "  <thead>\n",
       "    <tr style=\"text-align: right;\">\n",
       "      <th></th>\n",
       "      <th>living_space</th>\n",
       "      <th>extracted_ls</th>\n",
       "    </tr>\n",
       "  </thead>\n",
       "  <tbody>\n",
       "    <tr>\n",
       "      <th>786</th>\n",
       "      <td>200.0</td>\n",
       "      <td>NaN</td>\n",
       "    </tr>\n",
       "    <tr>\n",
       "      <th>3380</th>\n",
       "      <td>210.0</td>\n",
       "      <td>NaN</td>\n",
       "    </tr>\n",
       "    <tr>\n",
       "      <th>3696</th>\n",
       "      <td>228.0</td>\n",
       "      <td>NaN</td>\n",
       "    </tr>\n",
       "    <tr>\n",
       "      <th>6506</th>\n",
       "      <td>200.0</td>\n",
       "      <td>NaN</td>\n",
       "    </tr>\n",
       "  </tbody>\n",
       "</table>\n",
       "</div>"
      ],
      "text/plain": [
       "      living_space extracted_ls\n",
       "786          200.0          NaN\n",
       "3380         210.0          NaN\n",
       "3696         228.0          NaN\n",
       "6506         200.0          NaN"
      ]
     },
     "execution_count": 98,
     "metadata": {},
     "output_type": "execute_result"
    }
   ],
   "source": [
    "df_living_space.loc[df_living_space['living_space'].notna() & df_living_space['extracted_ls'].isna(), :]"
   ]
  },
  {
   "cell_type": "code",
   "execution_count": 99,
   "metadata": {},
   "outputs": [],
   "source": [
    "df_living_space.drop('extracted_ls', axis=1, inplace=True)"
   ]
  },
  {
   "cell_type": "markdown",
   "metadata": {},
   "source": [
    "Indeed! with this we have proven, that the column 'description' does not contain more information about the living space. But the question, where those 4 rows come from, remains unanswered for now.  \n",
    "\n",
    "## Price"
   ]
  },
  {
   "cell_type": "code",
   "execution_count": 101,
   "metadata": {},
   "outputs": [
    {
     "data": {
      "text/plain": [
       "12359"
      ]
     },
     "execution_count": 101,
     "metadata": {},
     "output_type": "execute_result"
    }
   ],
   "source": [
    "df_price = df.loc[:, ['price', 'price_cleaned']]\n",
    "df_price['description_price'] = df['description'].str.extract('CHF ([\\d.,]+)')\n",
    "df_price['description_price'].count()"
   ]
  },
  {
   "cell_type": "markdown",
   "metadata": {},
   "source": [
    "We can extract 12359 rows of data containing information about the price. We'll keep that in mind and move forward.  \n",
    "\n",
    "# Detailed Description"
   ]
  },
  {
   "cell_type": "code",
   "execution_count": 102,
   "metadata": {},
   "outputs": [
    {
     "data": {
      "text/plain": [
       "Extract from the debt collection registerIn a few days by e-mail and by post at your home. Per invoice, for CHF 29.–Order the extract                                                                                                                                                                                                                                                                                                                                                                                                                                                                                                                                                                                                                                                                                                                                                                                                                                                                                                                                                                                                                                                                                                                                                                                                                                                                                                                                                                                                                                                                                                                                                                                                                                                                                                                                                                                                                                                                                                                                                                                                                                                                                                                                                                                                                                                                                                                                                                                                                                                                                                                                                                                                                                                                                                                                                                                                                                                                                                                                                                                                                                                                                                                                                                         41\n",
       "DescriptionWillkommen im Chürzi-ParkIm Quartier am Sonnenhang von Gelterkinden heissen Sie bald die Eigentumswohnungen ####Chürzi-Park#### willkommen. Hier entstehen grosszügige Wohnungen welche durch einen zeitlosen Stil und edle Materialisierung brillieren. Abgesehen von technischen Highlights wie der Tiefgarage mit zwei Autoliften ist im ####Chürzi-Park#### vor allem der Bezug zur Natur zu spüren. Die Erdgeschosswohnungen haben alle einen grossen Garten und für jede Wohnung ist Weitsicht in die grüne Hügellandschaft um Gelterkinden garantiert! Der ####Chürzi-Park#### entspricht den neuesten bautechnischen Ansprüchen und bietet trotz verdichteter Bauweise genügend Freiraum und Rückzugsmöglichkeit für ein angenehmes Zuhause.Wohnen, wohlfühlen, leben!Übersicht ProjektDas Projekt Chürzi-Park umfasst drei Gebäude mit je fünf Wohnungen an sonniger Lage in Gelterkinden.Die Erschliessung erfolgt über den ####Oberen Chürziweg#### Nebst Besucherparkplätzen befinden sich dort auch die Haupteingänge zu den Häusern sowie die Einstellhallenzufahrt via Autolift. Die Einstellhalle erstreckt sich unter dem gesamten ####Chürzi-Park#### und bietet jedem Eigentümer mindestens 2 Parkplätze.Zwischen den Gebäuden befinden sich Freizeitflächen mit Sitzgelegenheiten und Bepflanzung die zum Verweilen einlädt.Im Erd- und Obergeschoss befinden sich jeweils eine 3.5- und eine 4.5-Zimmer Wohnung. Die Wohnungen verfügen über einen grosszügigen Sitzplatz bzw. Loggia, welche durch eine Verglasung auch vor Regen und Wind geschützt ist. Auf dem gesamten Attikageschoss erstreckt sich eine luxuriöse 6.5-Zimmer Wohnung mit Terrasse über die ganze Gebäudelänge.Ein Autoeinstellplatz in der Tiefgarage ist im Kaufpreis inbegriffen. Zusätzlich kann ein weiterer Einstellplatz für CHF 38 000.00 erworben werden.Dieses Objekt können Sie per Videoanruf besichtigen.                                                                                                                                                                                                                                                                                                                                                                                                                                                                                                                                                                                                                                                                                                                                                                                                                                                                                                                                                                                                                                                                                                                                                                                                                                                                                                                                                                                  15\n",
       "DescriptionDie Überbauung ####Eichgarten#### in Pfeffikon Luzern, umfasst 15 Hauseinheiten mit eigenem Grundstück und einer Architektur die in diesem Preissegment seinesgleichen sucht! Wir haben uns zum Ziel gesetz, den Eigentümern dieser Häuser all das zu bieten, was ein Haus im anspruchsvollen Jahr 2022 bieten muss:massive Bauweise die auch zu einem späteren Zeitpunkt Ihren Bedürfnissen angepasst werden kannhochwertiger InnenausbauPhotovoltaikanlageTiefgarage für komplette Überbauung mit direktem HauszugangEigene Wärmepumpe mit Erdwärmegrosszügige Budgetpositionenund vieles mehr!!Der Baustart ist per Oktober / November 2022 geplant und im Juni 2024 können die Häuser bezogen werden. Sie entscheiden mitteils grosszügiger Budgetpositionen wie Ihr zukünftiges Haus aussehen wird. Ein professionelles Innenarchitektur Team unterstützt Sie bei bedarf gerne bei der Auswahl der Materialien. Das Innenleben wird nach Ihrem ####Gusto#### bemustert.Ganz nach dem Prinzip ####first come, first serve#### veräussert DK Homes & Investments ohne Bieterverfahren. Beeilen Sie sich und ergattern Sie eine der begehrten Häuser!Es het solangs het!                                                                                                                                                                                                                                                                                                                                                                                                                                                                                                                                                                                                                                                                                                                                                                                                                                                                                                                                                                                                                                                                                                                                                                                                                                                                                                                                                                                                                                                                                                                                                                                                                                                                                                                                                                                                                                                                                                                                                                                                                                                                                                                         13\n",
       "DescriptionMagnifiques logements du studio au 4.5 pces, jouissant d espaces lumineux dans un cadre champêtre et offrant le confort d une habitation contemporaine et chaleureuse.Des places de parc intérieures et extérieures sont à disposition (en sus).Début des travaux : automne 2022                                                                                                                                                                                                                                                                                                                                                                                                                                                                                                                                                                                                                                                                                                                                                                                                                                                                                                                                                                                                                                                                                                                                                                                                                                                                                                                                                                                                                                                                                                                                                                                                                                                                                                                                                                                                                                                                                                                                                                                                                                                                                                                                                                                                                                                                                                                                                                                                                                                                                                                                                                                                                                                                                                                                                                                                                                                                                                                                                                                                                   13\n",
       "DescriptionNaturverbundene Lebensqualität am Bodensee  Die Grundrisse sowie detaillierte Informationen zum Projekt ####Wohnen im Park#### in Salmsach finden Sie auf https://www.salmsach-park.ch/ oder in der umfassenden Dokumentation, die wir Ihnen auf Anfrage gerne zustellen.Inmitten eines Parks im Salmsach, nur fünf Fussminuten vom Bodenseeufer entfernt, entstehen sechs freistehende, zu drei Clustern komponierte Mehrfamilienhäuser. Diese bieten auf vier Wohngeschossen insgesamt 21 hochwertig ausgestattete 2½ bis 5½ -Zimmer-Eigentumswohnungen und werden in ökologisch wegweisender Holz-Hybridbauweise realisiert. Für ein optimales Wohnklima und modernes Wohnen im Einklang mit der Natur.Drei Gebäude, drei Namen, eine VisionAdventure - Balance - Courage. Die Namen der drei Dual-Gebäude sind Ausdruck unserer Vision von zukunftsorientiertem, ökologisch nachhaltigen Bauen, Leben und Wohnen. Die Architektur der Wohnüberbauung ist modern, integral - und begeisternd anders. Die Gebäude entstehen mitten im Park - für ein Leben im Einklang mit der Natur. Die Gebäude werden in Holz-Hybridbauweise errichtet - mit Mut zur Innovation, und weil Holzgebäude klare Vorteile bieten.Zentral, im Grünen, nahe am SeeDie im Süden von Romanshorn gelegene Gemeinde Salmsach ist der ideale Lebensort für aktive, naturbegeistere Familien, Paare und Individualisten. Das Dorf bezaubert mit viel Natur, dem milden Bodenseeklima, hohem Freizeitwert und besticht mit seiner ländlichen, aber doch zentralen Lage. Romanshorn und der Fährhafen sind nur einen Katzensprung entfernt und St.Gallen sowie Kreuzlingen und Konstanz liegen im 30-Minuten-Radius. Zudem existiert ein breites Bildungsangebot und der Kultur- und Freizeitwert der Bodenseeregion ist sprichwörtlich.Individuell, komfortabel, naturverbundenDie sechs freistehenden Gebäude sind über offene Zugangsbereiche zu drei Doppel-Clustern zusammengefasst, sehr hochwertig ausgestattet - und gehen auf Tuchfühlung mit der Natur des umliegenden Parks. Mit raumhohen Fenstern, einem ####Gartenzimmer####, mindestens drei Blickrichtungen sowie teilweise mit Balkon oder Terrasse. Zudem verfügt jede Wohnung dank der besonders cleveren Architektur über ihre eigenen vier Wände - für Diskretion und Komfort wie im Einfamilienhaus.Ökologisch, langlebig, wertstabilDie Gebäude von ####Wohnen im Park#### werden in innovativer Hybridbauweise errichtet. Dabei werden die 40 Stellplätze zählende Tiefgarage, von der aus alle Wohnungen direkt zugänglich sind, sowie die Keller-, Velo- und Technikräume aus Stahlbeton errichtet. Darüber, ab Niveau Umgebung, werden die Häuser im Systemholzbau realisiert ? aus regionalem Holz, dem ökologischsten und nachhaltigsten Baustoff. Das bietet zahlreiche Vorteile: Ein unerreicht natürliches Wohnklima, hervorragende Energieeffizienz, präzise Qualität sowie hohe Sicherheit und Wertbeständigkeit.Jetzt informierenReservieren Sie jetzt ihre Traumwohnung - und geniessen Sie schon bald das Leben am Ufer des Bodensees! An zentraler Lage mitten im Grünen, modern, nachhaltig, mit exzellentem Komfort und einem unübertrefflichen Wohnklima.Dieses Objekt können Sie per Videoanruf besichtigen.Further information    11\n",
       "                                                                                                                                                                                                                                                                                                                                                                                                                                                                                                                                                                                                                                                                                                                                                                                                                                                                                                                                                                                                                                                                                                                                                                                                                                                                                                                                                                                                                                                                                                                                                                                                                                                                                                                                                                                                                                                                                                                                                                                                                                                                                                                                                                                                                                                                                                                                                                                                                                                                                                                                                                                                                                                                                                                                                                                                                                                                                                                                                                                                                                                                                                                                                                                                                                                                                                              ..\n",
       "DescriptionNebst einem innovativen, modernen Wohnkonzept mit vielen Annehmlichkeiten und toller Lage welche durch gute Anschliessung die Eleganz und den Komfort noch weiter vorhebt. Der Extravagante fast 50m2 grosse Wohnraum: perfekt für alle, die sich nach den Vorzügen einer urbanen und dennoch ruhigen Umgebung sehnen.Hier werden also keine Wünsche offen gelassen. Profitieren Sie und überzeugen Sie sich selbst!Dieses PREMIUM HOMES Angebot bietet:Tageslicht mittels OblichtEinbauschränkediverse EinbauspotsEichenparkettDusche/WCKüche mit Glaskeramikherd und Kühlschrankund, und, und...Interessiert? Gerne führen wir Sie durch eine unverbindliche Besichtigung!Sie wollen Ihr Haus oder Ihre Wohnung sorgenfrei verkaufen?Wir sagen Ihnen den aktuellen Marktwert Ihrer Immobilie, diskret und unverbindlich!Haben Sie Interesse an einem ersten unverbindlichen Gedankenaustausch? Zögern Sie nicht und kontaktieren Sie uns.Wir freuen uns auf Sie.                                                                                                                                                                                                                                                                                                                                                                                                                                                                                                                                                                                                                                                                                                                                                                                                                                                                                                                                                                                                                                                                                                                                                                                                                                                                                                                                                                                                                                                                                                                                                                                                                                                                                                                                                                                                                                                                                                                                                                                                                                                                                                                                                                                                                                                                                                                                  1\n",
       "DescriptionWohnfläche: ca.53.54 m²Weitere Informationen und zusätzliche Bilder finden Sie unter folgendem Link: https://angebot.home-visit.ch/de/objects/detail/3779677Raumkonzept:UG:  KellerWaschen4.OG:  EingangKücheWohn-/Esszimmer1 ZimmerWC/BadBalkonTerrasseInteressiert? Kontaktieren Sie uns gerne für eine unverbindliche Besichtigung!Sie wollen Ihr Haus oder Ihre Wohnung sorgenfrei verkaufen, aber wissen nicht zu welchen Preis Sie es verkaufen können?Wir sagen Ihnen den aktuellen Marktwert Ihrer Immobilie, diskret und unverbindlich!Haben Sie Interesse an einem ersten kostenlosen und unverbindlichen Informationsgespräch?Zögern Sie nicht und kontaktieren Sie uns.Wir freuen uns auf Sie!Weitere Informationen und zusätzliche Bilder finden Sie unter folgendem Link: https://angebot.home-visit.ch/de/objects/detail/3779677Weitere Interessante Liegenschaften finden Sie unter: www.home-visit.chFurther information                                                                                                                                                                                                                                                                                                                                                                                                                                                                                                                                                                                                                                                                                                                                                                                                                                                                                                                                                                                                                                                                                                                                                                                                                                                                                                                                                                                                                                                                                                                                                                                                                                                                                                                                                                                                                                                                                                                                                                                                                                                                                                                                                                                                                                                                                                                                                           1\n",
       "DescriptionEin DEFH mit mehr als nur phänomenaler Aussicht...Hier in der Neuhushöhe an unverbaubarer Lage entsteht ein wunderschönes Doppeleinfamilienhaus mit zwei 5,5 Zimmer-Wohnungen und ca. je 127 m² beeindruckender Wohnfläche und 48m² Nebenflächen.Die nordwestlich ausgerichtete Wohnlage bietet eine tolle Weitsicht auf den Pilatus und überzeugt mit der perfekten Ausrichtung für eine ganztägige Besonnung.Die Räume sind hell, lichtdurchflutet und entsprechen einem unvergleichbaren modernen Wohnerlebnis.Über die Garage gelangt man direkt in den Keller, worin auch die Technik untergebracht ist. Zusätzlich gibt es einen separater Raum, der als Hobby-, Büro- oder Gästeraum genutzt werden kann. Ein Stockwerk hinauf auf der Erdgeschossebene, worin ebenfalls der offizelle Hauseingang von Aussen befindlich ist, finden sich drei weitere schöne Räumlichkeiten. Auf dem nächsten Zwischengeschoss befindet sich eine moderne Nasszelle mit Doppellavabo, Badewanne, WC und Dusche. Im Obergeschoss befindet sich die Wohn- Essküche und ein grosses Wohnzimmer.Luxus ist zudem, wer eine Aussentreppe benutzen kann, um auf das eigene begehbare Dach zu gelangen, bei der eine ca. 30m² grosse Terrasse überrascht und für unvergessliche Abende sorgt.Was Materialien und Geräte betrifft, sind wir offen für Ihre Wünsche und Vorstellungen und erledigen es über ein +/- zum Basispreis.Wenn Sie interessiert sind, freuen wir uns über Ihre Kontaktaufnahme. Herr Marcus Waldmeier gibt Ihnen gerne Auskunft und begleitet Sie durch die weiteren Schritte zu Ihrem neuen Wohntraum.Dieses Objekt können Sie per Videoanruf besichtigen.                                                                                                                                                                                                                                                                                                                                                                                                                                                                                                                                                                                                                                                                                                                                                                                                                                                                                                                                                                                                                                                                                                                                                                                                                                                                                                                                                                                                                                                                                                                                                                                                                                  1\n",
       "DescriptionAbsolute Ruhe und eine traumhafte Sicht auf den Vierwaldstättersee und die Zentralschweizer Voralpen sind hier garantiert. Der durchdachte Grundriss verteilt auf 3 Etagen verschafft eine individuelle Bühne für seine Bewohner. Grosszügige Räumlichkeiten mit edlen Materialien sind hier eine Selbstverständlichkeit. Der Innen- und Aussenraum dieses Wohnjuwels bilden einen faszinierenden Lebenstraum. Geniesser erfreuen sich ganz besonders über den privaten Fitnessraum mit Sauna, den eigenen Weinkeller sowie die wunderschön angelegte Gartenanlage mit Swimmingpool, ideal für ein gemütliches Sonnenbad. Lassen Sie sich von diesem exklusiven Anwesen verzaubern und schaffen Sie Ihre persönliche Wohlfühloase. Zwei zusätzliche Seeparzelle mit einem verbrieften Baderecht, ermöglichen Ihnen den Zugang zum Vierwaldstättersee.Highlights:Traumhafte und unverbaubare Sicht über den VierwaldstätterseeRuhiges und bevorzugtes WohnquartierIdyllisch und doch StadtnahTraumhafte GartenanlageHochwertiger InnenausbauWellnessbereich mit SaunaWhirlpool mit SeesichtPool mit GegenstromanlageBaderecht an einer SeeparzelleWeitere Informationen zum Objekt finden Sie auf unserer Website www.domba.ch. Fragen Sie uns nach dem ausführlichen Exposé oder kontaktieren Sie uns für eine unverbindliche Besichtigung. Frau Martina Knobel freut sich auf Ihre Kontaktaufnahme!Gerne weisen wir Sie drauf hin, dass wir jederzeit auch via Telefon, WhatsApp, FaceTime und E-Mail für Sie erreichbar sind.Martina Knobel041 418 08 55079 418 53 53martina.knobel@domba.ch                                                                                                                                                                                                                                                                                                                                                                                                                                                                                                                                                                                                                                                                                                                                                                                                                                                                                                                                                                                                                                                                                                                                                                                                                                                                                                                                                                                                                                                                                                                                                                                                                                                                                                      1\n",
       "DescriptionDas freistehende Einfamilienhaus an erhöhter und ruhiger Wohnlage ist von einem schön gestalteten Garten umgeben, in dem es diverse Aufenthaltsbereiche gibt. Bei herrlicher Aus- und Weitsicht ins Grüne und bis in die Stadt lässt es sich gut erholen. Die vielen Spaziermöglichkeiten in der Nähe laden in die Natur ein.Das schöne Haus besteht aus 2 Wohngeschossen mit diversen Neben- und Disporäumen und besticht durch seine praktische Grösse. Je nach Bedürfnissen kann das Innere noch nach Geschmack angepasst werden.Kommen Sie vorbei und überzeugen Sie sich selbt. Alle Details entnehmen Sie der angehängten Verkaufsdokumentation.                                                                                                                                                                                                                                                                                                                                                                                                                                                                                                                                                                                                                                                                                                                                                                                                                                                                                                                                                                                                                                                                                                                                                                                                                                                                                                                                                                                                                                                                                                                                                                                                                                                                                                                                                                                                                                                                                                                                                                                                                                                                                                                                                                                                                                                                                                                                                                                                                                                                                                                                                                                                                                              1\n",
       "Name: detailed_description, Length: 12543, dtype: int64"
      ]
     },
     "execution_count": 102,
     "metadata": {},
     "output_type": "execute_result"
    }
   ],
   "source": [
    "df['detailed_description'].value_counts()"
   ]
  },
  {
   "cell_type": "markdown",
   "metadata": {},
   "source": [
    "In this column we find, as the name suggests, the detailed description of the posting. This data does not follow any specific pattern and does not contain any reliable information on the features we are investigating in this notebook. Therefore we discard it.  \n",
    "With nlp techniques applied it may become useful for fine tuning predictions though. \n",
    "\n",
    "# Table"
   ]
  },
  {
   "cell_type": "code",
   "execution_count": 103,
   "metadata": {},
   "outputs": [
    {
     "data": {
      "text/plain": [
       "b <article class=####Box-cYFBPY hKrxoH####><h2 class=####Box-cYFBPY gZLPvm####>Main information</h2><table class=####DataTable__StyledTable-sc-1o2xig5-1 jbXaEC####><tbody><tr><td class=####DataTable__SimpleCell-sc-1o2xig5-2 DataTable__Cell-sc-1o2xig5-4 edrNfG dGBatU####>Municipality</td><td class=####DataTable__SimpleCell-sc-1o2xig5-2 DataTable__CellValue-sc-1o2xig5-3 edrNfG rJZBK####>Le Mouret</td></tr><tr><td class=####DataTable__SimpleCell-sc-1o2xig5-2 DataTable__Cell-sc-1o2xig5-4 edrNfG dGBatU####>Availability</td><td class=####DataTable__SimpleCell-sc-1o2xig5-2 DataTable__CellValue-sc-1o2xig5-3 edrNfG rJZBK####>On request</td></tr></tbody></table><hr class=####Divider-iprSaI bBhTLQ####/></article>                                                                                                                                                                                                                                                                                                                                                                                                                                                                                                                                                                                                                                                                                                                                                                                                                                                                                                                                                                                                                                                                                                                                                                                                                                                                                                                                                                                                                                                                                                                                                                                                                                                                                                                                                                                                                                                                                                                                                                                                                                                                                                                                                                                                                                                                                                                                                                                                                                                                                                                                                                                                                                                                                                                                                                                                                                                                                                                                                                                                                                                                                                                                                                                                                                                                                                                                                                                                                                                                                                                                                                                                                                                                                                                                                                                                                                                                                                     7\n",
       "b <article class=####Box-cYFBPY hKrxoH####><h2 class=####Box-cYFBPY gZLPvm####>Main information</h2><table class=####DataTable__StyledTable-sc-1o2xig5-1 jbXaEC####><tbody><tr><td class=####DataTable__SimpleCell-sc-1o2xig5-2 DataTable__Cell-sc-1o2xig5-4 edrNfG dGBatU####>Municipality</td><td class=####DataTable__SimpleCell-sc-1o2xig5-2 DataTable__CellValue-sc-1o2xig5-3 edrNfG rJZBK####>Lugano</td></tr><tr><td class=####DataTable__SimpleCell-sc-1o2xig5-2 DataTable__Cell-sc-1o2xig5-4 edrNfG dGBatU####>Floor</td><td class=####DataTable__SimpleCell-sc-1o2xig5-2 DataTable__CellValue-sc-1o2xig5-3 edrNfG rJZBK####>1. floor</td></tr><tr><td class=####DataTable__SimpleCell-sc-1o2xig5-2 DataTable__Cell-sc-1o2xig5-4 edrNfG dGBatU####>Availability</td><td class=####DataTable__SimpleCell-sc-1o2xig5-2 DataTable__CellValue-sc-1o2xig5-3 edrNfG rJZBK####>On request</td></tr></tbody></table><hr class=####Divider-iprSaI bBhTLQ####/></article>                                                                                                                                                                                                                                                                                                                                                                                                                                                                                                                                                                                                                                                                                                                                                                                                                                                                                                                                                                                                                                                                                                                                                                                                                                                                                                                                                                                                                                                                                                                                                                                                                                                                                                                                                                                                                                                                                                                                                                                                                                                                                                                                                                                                                                                                                                                                                                                                                                                                                                                                                                                                                                                                                                                                                                                                                                                                                                                                                                                                                                                                                                                                                                                                                                                                                                                                                                                                                                                                                                                                                                                                                                                                    6\n",
       "b <article class=####Box-cYFBPY hKrxoH####><h2 class=####Box-cYFBPY gZLPvm####>Main information</h2><table class=####DataTable__StyledTable-sc-1o2xig5-1 jbXaEC####><tbody><tr><td class=####DataTable__SimpleCell-sc-1o2xig5-2 DataTable__Cell-sc-1o2xig5-4 edrNfG dGBatU####>Municipality</td><td class=####DataTable__SimpleCell-sc-1o2xig5-2 DataTable__CellValue-sc-1o2xig5-3 edrNfG rJZBK####>Courrendlin</td></tr><tr><td class=####DataTable__SimpleCell-sc-1o2xig5-2 DataTable__Cell-sc-1o2xig5-4 edrNfG dGBatU####>Availability</td><td class=####DataTable__SimpleCell-sc-1o2xig5-2 DataTable__CellValue-sc-1o2xig5-3 edrNfG rJZBK####>On request</td></tr></tbody></table><hr class=####Divider-iprSaI bBhTLQ####/></article>                                                                                                                                                                                                                                                                                                                                                                                                                                                                                                                                                                                                                                                                                                                                                                                                                                                                                                                                                                                                                                                                                                                                                                                                                                                                                                                                                                                                                                                                                                                                                                                                                                                                                                                                                                                                                                                                                                                                                                                                                                                                                                                                                                                                                                                                                                                                                                                                                                                                                                                                                                                                                                                                                                                                                                                                                                                                                                                                                                                                                                                                                                                                                                                                                                                                                                                                                                                                                                                                                                                                                                                                                                                                                                                                                                                                                                                                                                   6\n",
       "b <article class=####Box-cYFBPY hKrxoH####><h2 class=####Box-cYFBPY gZLPvm####>Main information</h2><table class=####DataTable__StyledTable-sc-1o2xig5-1 jbXaEC####><tbody><tr><td class=####DataTable__SimpleCell-sc-1o2xig5-2 DataTable__Cell-sc-1o2xig5-4 edrNfG dGBatU####>Municipality</td><td class=####DataTable__SimpleCell-sc-1o2xig5-2 DataTable__CellValue-sc-1o2xig5-3 edrNfG rJZBK####>Lugano</td></tr><tr><td class=####DataTable__SimpleCell-sc-1o2xig5-2 DataTable__Cell-sc-1o2xig5-4 edrNfG dGBatU####>Availability</td><td class=####DataTable__SimpleCell-sc-1o2xig5-2 DataTable__CellValue-sc-1o2xig5-3 edrNfG rJZBK####>On request</td></tr></tbody></table><hr class=####Divider-iprSaI bBhTLQ####/></article>                                                                                                                                                                                                                                                                                                                                                                                                                                                                                                                                                                                                                                                                                                                                                                                                                                                                                                                                                                                                                                                                                                                                                                                                                                                                                                                                                                                                                                                                                                                                                                                                                                                                                                                                                                                                                                                                                                                                                                                                                                                                                                                                                                                                                                                                                                                                                                                                                                                                                                                                                                                                                                                                                                                                                                                                                                                                                                                                                                                                                                                                                                                                                                                                                                                                                                                                                                                                                                                                                                                                                                                                                                                                                                                                                                                                                                                                                                        6\n",
       "b <article class=####Box-cYFBPY hKrxoH####><h2 class=####Box-cYFBPY gZLPvm####>Main information</h2><table class=####DataTable__StyledTable-sc-1o2xig5-1 jbXaEC####><tbody><tr><td class=####DataTable__SimpleCell-sc-1o2xig5-2 DataTable__Cell-sc-1o2xig5-4 edrNfG dGBatU####>Municipality</td><td class=####DataTable__SimpleCell-sc-1o2xig5-2 DataTable__CellValue-sc-1o2xig5-3 edrNfG rJZBK####>Au (SG)</td></tr><tr><td class=####DataTable__SimpleCell-sc-1o2xig5-2 DataTable__Cell-sc-1o2xig5-4 edrNfG dGBatU####>Living space</td><td class=####DataTable__SimpleCell-sc-1o2xig5-2 DataTable__CellValue-sc-1o2xig5-3 edrNfG rJZBK####>154 m&#178;</td></tr><tr><td class=####DataTable__SimpleCell-sc-1o2xig5-2 DataTable__Cell-sc-1o2xig5-4 edrNfG dGBatU####>Availability</td><td class=####DataTable__SimpleCell-sc-1o2xig5-2 DataTable__CellValue-sc-1o2xig5-3 edrNfG rJZBK####>On request</td></tr></tbody></table><hr class=####Divider-iprSaI bBhTLQ####/></article>                                                                                                                                                                                                                                                                                                                                                                                                                                                                                                                                                                                                                                                                                                                                                                                                                                                                                                                                                                                                                                                                                                                                                                                                                                                                                                                                                                                                                                                                                                                                                                                                                                                                                                                                                                                                                                                                                                                                                                                                                                                                                                                                                                                                                                                                                                                                                                                                                                                                                                                                                                                                                                                                                                                                                                                                                                                                                                                                                                                                                                                                                                                                                                                                                                                                                                                                                                                                                                                                                                                                                                                                                                                         6\n",
       "                                                                                                                                                                                                                                                                                                                                                                                                                                                                                                                                                                                                                                                                                                                                                                                                                                                                                                                                                                                                                                                                                                                                                                                                                                                                                                                                                                                                                                                                                                                                                                                                                                                                                                                                                                                                                                                                                                                                                                                                                                                                                                                                                                                                                                                                                                                                                                                                                                                                                                                                                                                                                                                                                                                                                                                                                                                                                                                                                                                                                                                                                                                                                                                                                                                                                                                                                                                                                                                                                                                                                                                                                                                                                                                                                                                                                                                                                                                                                                                                                                                                                                                                                                                                                                                                                                                                                                                                                                                                                                                                                                                                                                           ..\n",
       "b <article class=####Box-cYFBPY hKrxoH####><h2 class=####Box-cYFBPY gZLPvm####>Main information</h2><table class=####DataTable__StyledTable-sc-1o2xig5-1 jbXaEC####><tbody><tr><td class=####DataTable__SimpleCell-sc-1o2xig5-2 DataTable__Cell-sc-1o2xig5-4 edrNfG dGBatU####>Municipality</td><td class=####DataTable__SimpleCell-sc-1o2xig5-2 DataTable__CellValue-sc-1o2xig5-3 edrNfG rJZBK####>Entlebuch</td></tr><tr><td class=####DataTable__SimpleCell-sc-1o2xig5-2 DataTable__Cell-sc-1o2xig5-4 edrNfG dGBatU####>Living space</td><td class=####DataTable__SimpleCell-sc-1o2xig5-2 DataTable__CellValue-sc-1o2xig5-3 edrNfG rJZBK####>130 m&#178;</td></tr><tr><td class=####DataTable__SimpleCell-sc-1o2xig5-2 DataTable__Cell-sc-1o2xig5-4 edrNfG dGBatU####>Floor</td><td class=####DataTable__SimpleCell-sc-1o2xig5-2 DataTable__CellValue-sc-1o2xig5-3 edrNfG rJZBK####>1. floor</td></tr><tr><td class=####DataTable__SimpleCell-sc-1o2xig5-2 DataTable__Cell-sc-1o2xig5-4 edrNfG dGBatU####>Availability</td><td class=####DataTable__SimpleCell-sc-1o2xig5-2 DataTable__CellValue-sc-1o2xig5-3 edrNfG rJZBK####>Immediately</td></tr></tbody></table><hr class=####Divider-iprSaI bBhTLQ####/></article>                                                                                                                                                                                                                                                                                                                                                                                                                                                                                                                                                                                                                                                                                                                                                                                                                                                                                                                                                                                                                                                                                                                                                                                                                                                                                                                                                                                                                                                                                                                                                                                                                                                                                                                                                                                                                                                                                                                                                                                                                                                                                                                                                                                                                                                                                                                                                                                                                                                                                                                                                                                                                                                                                                                                                                                                                                                                                                                                                                                                                                                                                                                                                                                                                                                                                                                                                                                                                  1\n",
       "b <article class=####Box-cYFBPY hKrxoH####><h2 class=####Box-cYFBPY gZLPvm####>Main information</h2><table class=####DataTable__StyledTable-sc-1o2xig5-1 jbXaEC####><tbody><tr><td class=####DataTable__SimpleCell-sc-1o2xig5-2 DataTable__Cell-sc-1o2xig5-4 edrNfG dGBatU####>Municipality</td><td class=####DataTable__SimpleCell-sc-1o2xig5-2 DataTable__CellValue-sc-1o2xig5-3 edrNfG rJZBK####>Entlebuch</td></tr><tr><td class=####DataTable__SimpleCell-sc-1o2xig5-2 DataTable__Cell-sc-1o2xig5-4 edrNfG dGBatU####>Living space</td><td class=####DataTable__SimpleCell-sc-1o2xig5-2 DataTable__CellValue-sc-1o2xig5-3 edrNfG rJZBK####>153 m&#178;</td></tr><tr><td class=####DataTable__SimpleCell-sc-1o2xig5-2 DataTable__Cell-sc-1o2xig5-4 edrNfG dGBatU####>Floor</td><td class=####DataTable__SimpleCell-sc-1o2xig5-2 DataTable__CellValue-sc-1o2xig5-3 edrNfG rJZBK####>1. floor</td></tr><tr><td class=####DataTable__SimpleCell-sc-1o2xig5-2 DataTable__Cell-sc-1o2xig5-4 edrNfG dGBatU####>Floor space</td><td class=####DataTable__SimpleCell-sc-1o2xig5-2 DataTable__CellValue-sc-1o2xig5-3 edrNfG rJZBK####>153 m&#178;</td></tr><tr><td class=####DataTable__SimpleCell-sc-1o2xig5-2 DataTable__Cell-sc-1o2xig5-4 edrNfG dGBatU####>Availability</td><td class=####DataTable__SimpleCell-sc-1o2xig5-2 DataTable__CellValue-sc-1o2xig5-3 edrNfG rJZBK####>On request</td></tr><tr class=####Box-cYFBPY fgkiRl####><td colspan=####2#### class=####DataTable__SimpleCell-sc-1o2xig5-2 DataTable__Cell-sc-1o2xig5-4 edrNfG fFglmV####><a href=####https://cis01.immoscout24.ch/is24media/f4/33/cff5a04644-220629.pdf#### target=####_blank#### rel=####noopener#### class=####Box-cYFBPY Link__Shell-kMBQAv ljXWtL hMCCae####><svg width=####24#### height=####24#### viewbox=####0 0 24 24#### fill=####none#### class=####Pdf__SvgPdf-fVqkQz jPOpoj####><path d=####M18 18v2H6v-2H4v4h16v-5l-2 1zM4 10V8l6-6h10v8h-2V4h-6v6H4zm6-5L7 8h3V5zm-2.042 7.386a2.131 2.131 0 00-1.405-1.228A6.203 6.203 0 005 11H4v6h1v-1.995a6.2 6.2 0 001.552-.159 2.131 2.131 0 001.406-1.227 2.756 2.756 0 000-1.233zM5.995 14L5 14.002V12h1s1.073 0 1.036 1a1.026 1.026 0 01-1.041 1zM19 12v-1h-4v6h1v-2h2v-1h-2v-2h3zm-5.033 1.886C13.927 11.931 12.79 11 10.913 11H9v6h1.913c1.877 0 3.014-.931 3.054-2.886v-.228zM11 16h-1v-4h1a1.789 1.789 0 012.003 2A1.788 1.788 0 0111 16z#### fill=#####333####/></svg>Verkaufsdokument 2021.12.22.pdf</a></td></tr><tr class=####Box-cYFBPY fgkiRl####><td colspan=####2#### class=####DataTable__SimpleCell-sc-1o2xig5-2 DataTable__Cell-sc-1o2xig5-4 edrNfG fFglmV####><a href=####https://cis01.immoscout24.ch/is24media/ea/7c/8e23ee2841-220629.pdf#### target=####_blank#### rel=####noopener#### class=####Box-cYFBPY Link__Shell-kMBQAv ljXWtL hMCCae####><svg width=####24#### height=####24#### viewbox=####0 0 24 24#### fill=####none#### class=####Pdf__SvgPdf-fVqkQz jPOpoj####><path d=####M18 18v2H6v-2H4v4h16v-5l-2 1zM4 10V8l6-6h10v8h-2V4h-6v6H4zm6-5L7 8h3V5zm-2.042 7.386a2.131 2.131 0 00-1.405-1.228A6.203 6.203 0 005 11H4v6h1v-1.995a6.2 6.2 0 001.552-.159 2.131 2.131 0 001.406-1.227 2.756 2.756 0 000-1.233zM5.995 14L5 14.002V12h1s1.073 0 1.036 1a1.026 1.026 0 01-1.041 1zM19 12v-1h-4v6h1v-2h2v-1h-2v-2h3zm-5.033 1.886C13.927 11.931 12.79 11 10.913 11H9v6h1.913c1.877 0 3.014-.931 3.054-2.886v-.228zM11 16h-1v-4h1a1.789 1.789 0 012.003 2A1.788 1.788 0 0111 16z#### fill=#####333####/></svg>Baubeschrieb.pdf</a></td></tr><tr class=####Box-cYFBPY fgkiRl####><td colspan=####2#### class=####DataTable__SimpleCell-sc-1o2xig5-2 DataTable__Cell-sc-1o2xig5-4 edrNfG fFglmV####><a href=####https://cis01.immoscout24.ch/is24media/b5/f5/21a82aa04f-220629.pdf#### target=####_blank#### rel=####noopener#### class=####Box-cYFBPY Link__Shell-kMBQAv ljXWtL hMCCae####><svg width=####24#### height=####24#### viewbox=####0 0 24 24#### fill=####none#### class=####Pdf__SvgPdf-fVqkQz jPOpoj####><path d=####M18 18v2H6v-2H4v4h16v-5l-2 1zM4 10V8l6-6h10v8h-2V4h-6v6H4zm6-5L7 8h3V5zm-2.042 7.386a2.131 2.131 0 00-1.405-1.228A6.203 6.203 0 005 11H4v6h1v-1.995a6.2 6.2 0 001.552-.159 2.131 2.131 0 001.406-1.227 2.756 2.756 0 000-1.233zM5.995 14L5 14.002V12h1s1.073 0 1.036 1a1.026 1.026 0 01-1.041 1zM19 12v-1h-4v6h1v-2h2v-1h-2v-2h3zm-5.033 1.886C13.927 11.931 12.79 11 10.913 11H9v6h1.913c1.877 0 3.014-.931 3.054-2.886v-.228zM11 16h-1v-4h1a1.789 1.789 0 012.003 2A1.788 1.788 0 0111 16z#### fill=#####333####/></svg>Allgemeines zum Kauf.pdf</a></td></tr></tbody></table><hr class=####Divider-iprSaI bBhTLQ####/></article>     1\n",
       "b <article class=####Box-cYFBPY hKrxoH####><h2 class=####Box-cYFBPY gZLPvm####>Main information</h2><table class=####DataTable__StyledTable-sc-1o2xig5-1 jbXaEC####><tbody><tr><td class=####DataTable__SimpleCell-sc-1o2xig5-2 DataTable__Cell-sc-1o2xig5-4 edrNfG dGBatU####>Municipality</td><td class=####DataTable__SimpleCell-sc-1o2xig5-2 DataTable__CellValue-sc-1o2xig5-3 edrNfG rJZBK####>Cornol</td></tr><tr><td class=####DataTable__SimpleCell-sc-1o2xig5-2 DataTable__Cell-sc-1o2xig5-4 edrNfG dGBatU####>Living space</td><td class=####DataTable__SimpleCell-sc-1o2xig5-2 DataTable__CellValue-sc-1o2xig5-3 edrNfG rJZBK####>300 m&#178;</td></tr><tr><td class=####DataTable__SimpleCell-sc-1o2xig5-2 DataTable__Cell-sc-1o2xig5-4 edrNfG dGBatU####>Availability</td><td class=####DataTable__SimpleCell-sc-1o2xig5-2 DataTable__CellValue-sc-1o2xig5-3 edrNfG rJZBK####>On request</td></tr></tbody></table><hr class=####Divider-iprSaI bBhTLQ####/></article>                                                                                                                                                                                                                                                                                                                                                                                                                                                                                                                                                                                                                                                                                                                                                                                                                                                                                                                                                                                                                                                                                                                                                                                                                                                                                                                                                                                                                                                                                                                                                                                                                                                                                                                                                                                                                                                                                                                                                                                                                                                                                                                                                                                                                                                                                                                                                                                                                                                                                                                                                                                                                                                                                                                                                                                                                                                                                                                                                                                                                                                                                                                                                                                                                                                                                                                                                                                                                                                                                                                                                                                                                                                          1\n",
       "b <article class=####Box-cYFBPY hKrxoH####><h2 class=####Box-cYFBPY gZLPvm####>Main information</h2><table class=####DataTable__StyledTable-sc-1o2xig5-1 jbXaEC####><tbody><tr><td class=####DataTable__SimpleCell-sc-1o2xig5-2 DataTable__Cell-sc-1o2xig5-4 edrNfG dGBatU####>Municipality</td><td class=####DataTable__SimpleCell-sc-1o2xig5-2 DataTable__CellValue-sc-1o2xig5-3 edrNfG rJZBK####>Boncourt</td></tr><tr><td class=####DataTable__SimpleCell-sc-1o2xig5-2 DataTable__Cell-sc-1o2xig5-4 edrNfG dGBatU####>Plot area</td><td class=####DataTable__SimpleCell-sc-1o2xig5-2 DataTable__CellValue-sc-1o2xig5-3 edrNfG rJZBK####>2941 m&#178;</td></tr><tr><td class=####DataTable__SimpleCell-sc-1o2xig5-2 DataTable__Cell-sc-1o2xig5-4 edrNfG dGBatU####>Availability</td><td class=####DataTable__SimpleCell-sc-1o2xig5-2 DataTable__CellValue-sc-1o2xig5-3 edrNfG rJZBK####>On request</td></tr></tbody></table><hr class=####Divider-iprSaI bBhTLQ####/></article>                                                                                                                                                                                                                                                                                                                                                                                                                                                                                                                                                                                                                                                                                                                                                                                                                                                                                                                                                                                                                                                                                                                                                                                                                                                                                                                                                                                                                                                                                                                                                                                                                                                                                                                                                                                                                                                                                                                                                                                                                                                                                                                                                                                                                                                                                                                                                                                                                                                                                                                                                                                                                                                                                                                                                                                                                                                                                                                                                                                                                                                                                                                                                                                                                                                                                                                                                                                                                                                                                                                                                                                                                                                          1\n",
       "b <article class=####Box-cYFBPY hKrxoH####><h2 class=####Box-cYFBPY gZLPvm####>Main information</h2><table class=####DataTable__StyledTable-sc-1o2xig5-1 jbXaEC####><tbody><tr><td class=####DataTable__SimpleCell-sc-1o2xig5-2 DataTable__Cell-sc-1o2xig5-4 edrNfG dGBatU####>Municipality</td><td class=####DataTable__SimpleCell-sc-1o2xig5-2 DataTable__CellValue-sc-1o2xig5-3 edrNfG rJZBK####>Winterthur</td></tr><tr><td class=####DataTable__SimpleCell-sc-1o2xig5-2 DataTable__Cell-sc-1o2xig5-4 edrNfG dGBatU####>Living space</td><td class=####DataTable__SimpleCell-sc-1o2xig5-2 DataTable__CellValue-sc-1o2xig5-3 edrNfG rJZBK####>385 m&#178;</td></tr><tr><td class=####DataTable__SimpleCell-sc-1o2xig5-2 DataTable__Cell-sc-1o2xig5-4 edrNfG dGBatU####>Plot area</td><td class=####DataTable__SimpleCell-sc-1o2xig5-2 DataTable__CellValue-sc-1o2xig5-3 edrNfG rJZBK####>1306 m&#178;</td></tr><tr><td class=####DataTable__SimpleCell-sc-1o2xig5-2 DataTable__Cell-sc-1o2xig5-4 edrNfG dGBatU####>Availability</td><td class=####DataTable__SimpleCell-sc-1o2xig5-2 DataTable__CellValue-sc-1o2xig5-3 edrNfG rJZBK####>Immediately</td></tr><tr class=####Box-cYFBPY fgkiRl####><td colspan=####2#### class=####DataTable__SimpleCell-sc-1o2xig5-2 DataTable__Cell-sc-1o2xig5-4 edrNfG fFglmV####><a href=####https://cis01.immoscout24.ch/is24media/64/82/e5669c254c-220815.pdf#### target=####_blank#### rel=####noopener#### class=####Box-cYFBPY Link__Shell-kMBQAv ljXWtL hMCCae####><svg width=####24#### height=####24#### viewbox=####0 0 24 24#### fill=####none#### class=####Pdf__SvgPdf-fVqkQz jPOpoj####><path d=####M18 18v2H6v-2H4v4h16v-5l-2 1zM4 10V8l6-6h10v8h-2V4h-6v6H4zm6-5L7 8h3V5zm-2.042 7.386a2.131 2.131 0 00-1.405-1.228A6.203 6.203 0 005 11H4v6h1v-1.995a6.2 6.2 0 001.552-.159 2.131 2.131 0 001.406-1.227 2.756 2.756 0 000-1.233zM5.995 14L5 14.002V12h1s1.073 0 1.036 1a1.026 1.026 0 01-1.041 1zM19 12v-1h-4v6h1v-2h2v-1h-2v-2h3zm-5.033 1.886C13.927 11.931 12.79 11 10.913 11H9v6h1.913c1.877 0 3.014-.931 3.054-2.886v-.228zM11 16h-1v-4h1a1.789 1.789 0 012.003 2A1.788 1.788 0 0111 16z#### fill=#####333####/></svg>Verkaufsdoku.pdf</a></td></tr></tbody></table><hr class=####Divider-iprSaI bBhTLQ####/></article>                                                                                                                                                                                                                                                                                                                                                                                                                                                                                                                                                                                                                                                                                                                                                                                                                                                                                                                                                                                                                                                                                                                                                                                                                                                                                                                                                                                                                                                                                                                                                                                                                                                                                                                                                                                                                                                                                                                                                                                                                                                                                                                                                                                                                                                                                                                                                           1\n",
       "Name: table, Length: 12713, dtype: int64"
      ]
     },
     "execution_count": 103,
     "metadata": {},
     "output_type": "execute_result"
    }
   ],
   "source": [
    "df['table'].value_counts()"
   ]
  },
  {
   "cell_type": "markdown",
   "metadata": {},
   "source": [
    "In this column, we see information about the Municipality, Living space, Plot area, Availability, Floor and so on. Maybe this is where our information originates from?\n",
    "\n",
    "## Living Space"
   ]
  },
  {
   "cell_type": "code",
   "execution_count": 104,
   "metadata": {},
   "outputs": [
    {
     "data": {
      "text/plain": [
       "11634"
      ]
     },
     "execution_count": 104,
     "metadata": {},
     "output_type": "execute_result"
    }
   ],
   "source": [
    "df['table'].str.contains('Living space').sum()"
   ]
  },
  {
   "cell_type": "markdown",
   "metadata": {},
   "source": [
    "Countwise we're well below the data we've gathered so far for the living space. \n",
    "Let's also check if there are any values for rows where `living_space` is na:"
   ]
  },
  {
   "cell_type": "code",
   "execution_count": 105,
   "metadata": {},
   "outputs": [
    {
     "data": {
      "text/plain": [
       "0"
      ]
     },
     "execution_count": 105,
     "metadata": {},
     "output_type": "execute_result"
    }
   ],
   "source": [
    "df_living_space['table_ls'] = df['table'].str.extract('Living space.+####>(\\d+) m').astype(float)\n",
    "df_living_space.loc[df_living_space['living_space'].isna() & df_living_space['table_ls'].notna(), 'living_space'].count()"
   ]
  },
  {
   "cell_type": "code",
   "execution_count": 179,
   "metadata": {},
   "outputs": [],
   "source": [
    "df_living_space.drop('table_ls', axis=1, inplace=True)"
   ]
  },
  {
   "cell_type": "markdown",
   "metadata": {},
   "source": [
    "And this confirms, that we cannot extract any more information on the living space from the 'table' column. We'll now extract relevant variables for further investigation."
   ]
  },
  {
   "cell_type": "markdown",
   "metadata": {},
   "source": [
    "## Municipality"
   ]
  },
  {
   "cell_type": "code",
   "execution_count": 106,
   "metadata": {},
   "outputs": [
    {
     "data": {
      "text/plain": [
       "True"
      ]
     },
     "execution_count": 106,
     "metadata": {},
     "output_type": "execute_result"
    }
   ],
   "source": [
    "df['table'].str.contains('Municipality').sum() == df['Municipality'].count()"
   ]
  },
  {
   "cell_type": "code",
   "execution_count": 107,
   "metadata": {},
   "outputs": [
    {
     "data": {
      "text/html": [
       "<div>\n",
       "<style scoped>\n",
       "    .dataframe tbody tr th:only-of-type {\n",
       "        vertical-align: middle;\n",
       "    }\n",
       "\n",
       "    .dataframe tbody tr th {\n",
       "        vertical-align: top;\n",
       "    }\n",
       "\n",
       "    .dataframe thead th {\n",
       "        text-align: right;\n",
       "    }\n",
       "</style>\n",
       "<table border=\"1\" class=\"dataframe\">\n",
       "  <thead>\n",
       "    <tr style=\"text-align: right;\">\n",
       "      <th></th>\n",
       "      <th>table_municipality</th>\n",
       "      <th>Municipality</th>\n",
       "    </tr>\n",
       "  </thead>\n",
       "  <tbody>\n",
       "    <tr>\n",
       "      <th>4</th>\n",
       "      <td>K&amp;#252;ttigen</td>\n",
       "      <td>Küttigen</td>\n",
       "    </tr>\n",
       "    <tr>\n",
       "      <th>43</th>\n",
       "      <td>K&amp;#252;ttigen</td>\n",
       "      <td>Küttigen</td>\n",
       "    </tr>\n",
       "    <tr>\n",
       "      <th>47</th>\n",
       "      <td>K&amp;#252;ttigen</td>\n",
       "      <td>Küttigen</td>\n",
       "    </tr>\n",
       "    <tr>\n",
       "      <th>51</th>\n",
       "      <td>K&amp;#252;ttigen</td>\n",
       "      <td>Küttigen</td>\n",
       "    </tr>\n",
       "    <tr>\n",
       "      <th>55</th>\n",
       "      <td>K&amp;#252;ttigen</td>\n",
       "      <td>Küttigen</td>\n",
       "    </tr>\n",
       "    <tr>\n",
       "      <th>...</th>\n",
       "      <td>...</td>\n",
       "      <td>...</td>\n",
       "    </tr>\n",
       "    <tr>\n",
       "      <th>13291</th>\n",
       "      <td>F&amp;#228;llanden</td>\n",
       "      <td>Fällanden</td>\n",
       "    </tr>\n",
       "    <tr>\n",
       "      <th>13293</th>\n",
       "      <td>D&amp;#252;bendorf, Kreis 7 (Zurich)</td>\n",
       "      <td>Dübendorf, Kreis 7 (Zurich)</td>\n",
       "    </tr>\n",
       "    <tr>\n",
       "      <th>13295</th>\n",
       "      <td>F&amp;#228;llanden</td>\n",
       "      <td>Fällanden</td>\n",
       "    </tr>\n",
       "    <tr>\n",
       "      <th>13297</th>\n",
       "      <td>Z&amp;#252;rich, Kreis 6 (Zurich)</td>\n",
       "      <td>Zürich, Kreis 6 (Zurich)</td>\n",
       "    </tr>\n",
       "    <tr>\n",
       "      <th>13298</th>\n",
       "      <td>F&amp;#228;llanden</td>\n",
       "      <td>Fällanden</td>\n",
       "    </tr>\n",
       "  </tbody>\n",
       "</table>\n",
       "<p>462 rows × 2 columns</p>\n",
       "</div>"
      ],
      "text/plain": [
       "                     table_municipality                 Municipality\n",
       "4                         K&#252;ttigen                     Küttigen\n",
       "43                        K&#252;ttigen                     Küttigen\n",
       "47                        K&#252;ttigen                     Küttigen\n",
       "51                        K&#252;ttigen                     Küttigen\n",
       "55                        K&#252;ttigen                     Küttigen\n",
       "...                                 ...                          ...\n",
       "13291                    F&#228;llanden                    Fällanden\n",
       "13293  D&#252;bendorf, Kreis 7 (Zurich)  Dübendorf, Kreis 7 (Zurich)\n",
       "13295                    F&#228;llanden                    Fällanden\n",
       "13297     Z&#252;rich, Kreis 6 (Zurich)     Zürich, Kreis 6 (Zurich)\n",
       "13298                    F&#228;llanden                    Fällanden\n",
       "\n",
       "[462 rows x 2 columns]"
      ]
     },
     "execution_count": 107,
     "metadata": {},
     "output_type": "execute_result"
    }
   ],
   "source": [
    "df['table_municipality'] = df['table'].str.extract('Municipality<\\/td><td .+?####.+?####>(.+?)<')\n",
    "df.loc[df['table_municipality'].fillna('') != df['Municipality'].fillna(''), ['table_municipality', 'Municipality']]"
   ]
  },
  {
   "cell_type": "markdown",
   "metadata": {},
   "source": [
    "It looks like 'table' contains the same amount of information about the municipality as 'Municipality' but with encoding issues, so no need to extract any data from here. "
   ]
  },
  {
   "cell_type": "markdown",
   "metadata": {},
   "source": [
    "## Plot Area"
   ]
  },
  {
   "cell_type": "code",
   "execution_count": 108,
   "metadata": {},
   "outputs": [
    {
     "data": {
      "text/plain": [
       "True"
      ]
     },
     "execution_count": 108,
     "metadata": {},
     "output_type": "execute_result"
    }
   ],
   "source": [
    "df['table'].str.contains('Plot area').sum() == df['Plot area'].count()"
   ]
  },
  {
   "cell_type": "code",
   "execution_count": 109,
   "metadata": {},
   "outputs": [
    {
     "data": {
      "text/html": [
       "<div>\n",
       "<style scoped>\n",
       "    .dataframe tbody tr th:only-of-type {\n",
       "        vertical-align: middle;\n",
       "    }\n",
       "\n",
       "    .dataframe tbody tr th {\n",
       "        vertical-align: top;\n",
       "    }\n",
       "\n",
       "    .dataframe thead th {\n",
       "        text-align: right;\n",
       "    }\n",
       "</style>\n",
       "<table border=\"1\" class=\"dataframe\">\n",
       "  <thead>\n",
       "    <tr style=\"text-align: right;\">\n",
       "      <th></th>\n",
       "      <th>table_pa</th>\n",
       "      <th>Plot area</th>\n",
       "    </tr>\n",
       "  </thead>\n",
       "  <tbody>\n",
       "    <tr>\n",
       "      <th>1</th>\n",
       "      <td>222 m&amp;#178;</td>\n",
       "      <td>222 m²</td>\n",
       "    </tr>\n",
       "    <tr>\n",
       "      <th>3</th>\n",
       "      <td>370 m&amp;#178;</td>\n",
       "      <td>370 m²</td>\n",
       "    </tr>\n",
       "    <tr>\n",
       "      <th>5</th>\n",
       "      <td>1063 m&amp;#178;</td>\n",
       "      <td>1063 m²</td>\n",
       "    </tr>\n",
       "    <tr>\n",
       "      <th>6</th>\n",
       "      <td>200 m&amp;#178;</td>\n",
       "      <td>200 m²</td>\n",
       "    </tr>\n",
       "    <tr>\n",
       "      <th>9</th>\n",
       "      <td>2116 m&amp;#178;</td>\n",
       "      <td>2116 m²</td>\n",
       "    </tr>\n",
       "    <tr>\n",
       "      <th>...</th>\n",
       "      <td>...</td>\n",
       "      <td>...</td>\n",
       "    </tr>\n",
       "    <tr>\n",
       "      <th>13370</th>\n",
       "      <td>575 m&amp;#178;</td>\n",
       "      <td>575 m²</td>\n",
       "    </tr>\n",
       "    <tr>\n",
       "      <th>13374</th>\n",
       "      <td>284 m&amp;#178;</td>\n",
       "      <td>284 m²</td>\n",
       "    </tr>\n",
       "    <tr>\n",
       "      <th>13375</th>\n",
       "      <td>160 m&amp;#178;</td>\n",
       "      <td>160 m²</td>\n",
       "    </tr>\n",
       "    <tr>\n",
       "      <th>13376</th>\n",
       "      <td>853 m&amp;#178;</td>\n",
       "      <td>853 m²</td>\n",
       "    </tr>\n",
       "    <tr>\n",
       "      <th>13377</th>\n",
       "      <td>1306 m&amp;#178;</td>\n",
       "      <td>1306 m²</td>\n",
       "    </tr>\n",
       "  </tbody>\n",
       "</table>\n",
       "<p>4696 rows × 2 columns</p>\n",
       "</div>"
      ],
      "text/plain": [
       "           table_pa Plot area\n",
       "1       222 m&#178;    222 m²\n",
       "3       370 m&#178;    370 m²\n",
       "5      1063 m&#178;   1063 m²\n",
       "6       200 m&#178;    200 m²\n",
       "9      2116 m&#178;   2116 m²\n",
       "...             ...       ...\n",
       "13370   575 m&#178;    575 m²\n",
       "13374   284 m&#178;    284 m²\n",
       "13375   160 m&#178;    160 m²\n",
       "13376   853 m&#178;    853 m²\n",
       "13377  1306 m&#178;   1306 m²\n",
       "\n",
       "[4696 rows x 2 columns]"
      ]
     },
     "execution_count": 109,
     "metadata": {},
     "output_type": "execute_result"
    }
   ],
   "source": [
    "df_plot_area = df.loc[:, ['Plot area', 'Grundstücksfläche', 'Surface du terrain', 'Superficie del terreno', 'detail_responsive#surface_property', 'Plot_area_merged']]\n",
    "df_plot_area['table_pa'] = df['table'].str.extract('Plot area<\\/td><td .+?####.+?####>(.+?)<')\n",
    "df_plot_area.loc[df_plot_area['table_pa'].fillna('') != df_plot_area['Plot area'].fillna(''), ['table_pa', 'Plot area']]"
   ]
  },
  {
   "cell_type": "markdown",
   "metadata": {},
   "source": [
    "And the same goes for the `plot_area`"
   ]
  },
  {
   "cell_type": "code",
   "execution_count": 187,
   "metadata": {},
   "outputs": [],
   "source": [
    "df_plot_area.drop('table_pa', axis=1, inplace=True)"
   ]
  },
  {
   "cell_type": "markdown",
   "metadata": {},
   "source": [
    "\n",
    "## Availability"
   ]
  },
  {
   "cell_type": "code",
   "execution_count": 110,
   "metadata": {},
   "outputs": [
    {
     "data": {
      "text/plain": [
       "True"
      ]
     },
     "execution_count": 110,
     "metadata": {},
     "output_type": "execute_result"
    }
   ],
   "source": [
    "df['table'].str.contains('Availability').sum() == df['Availability'].count()"
   ]
  },
  {
   "cell_type": "markdown",
   "metadata": {},
   "source": [
    "## Floor"
   ]
  },
  {
   "cell_type": "code",
   "execution_count": 111,
   "metadata": {},
   "outputs": [
    {
     "data": {
      "text/plain": [
       "True"
      ]
     },
     "execution_count": 111,
     "metadata": {},
     "output_type": "execute_result"
    }
   ],
   "source": [
    "df['table'].str.contains('Floor<').sum() == df['Floor'].count()"
   ]
  },
  {
   "cell_type": "markdown",
   "metadata": {},
   "source": [
    "## Floor Space"
   ]
  },
  {
   "cell_type": "code",
   "execution_count": 112,
   "metadata": {},
   "outputs": [
    {
     "data": {
      "text/plain": [
       "True"
      ]
     },
     "execution_count": 112,
     "metadata": {},
     "output_type": "execute_result"
    }
   ],
   "source": [
    "df['table'].str.contains('Floor space<').sum() == df['Floor space'].count()"
   ]
  },
  {
   "cell_type": "markdown",
   "metadata": {},
   "source": [
    "# Details"
   ]
  },
  {
   "cell_type": "code",
   "execution_count": 113,
   "metadata": {},
   "outputs": [
    {
     "data": {
      "text/plain": [
       "4.5 rooms, 120 m²,     135\n",
       "4.5 rooms, 110 m²,     132\n",
       "4.5 rooms,             120\n",
       "3.5 rooms, 100 m²,     111\n",
       "4.5 rooms, 100 m²,     102\n",
       "                      ... \n",
       "121 m²,                  1\n",
       "6 rooms, 132 m²,         1\n",
       "5.5 rooms, 340 m²,       1\n",
       "393 m²,                  1\n",
       "7.5 rooms, 385 m²,       1\n",
       "Name: details, Length: 2741, dtype: int64"
      ]
     },
     "execution_count": 113,
     "metadata": {},
     "output_type": "execute_result"
    }
   ],
   "source": [
    "df['details'].value_counts()"
   ]
  },
  {
   "cell_type": "markdown",
   "metadata": {},
   "source": [
    "It looks like we've got another column with information about the rooms and living space (or some other space). Let's extract and compare it.  \n",
    "\n",
    "## Living Space"
   ]
  },
  {
   "cell_type": "code",
   "execution_count": 115,
   "metadata": {},
   "outputs": [
    {
     "data": {
      "text/plain": [
       "count    12431.000000\n",
       "mean       176.496983\n",
       "std        272.100450\n",
       "min          1.000000\n",
       "25%        100.000000\n",
       "50%        132.000000\n",
       "75%        183.000000\n",
       "max       9681.000000\n",
       "Name: details_ls, dtype: float64"
      ]
     },
     "execution_count": 115,
     "metadata": {},
     "output_type": "execute_result"
    }
   ],
   "source": [
    "df_living_space['details_ls'] = df['details'].str.extract(', (\\d+) m').astype(float)\n",
    "df_living_space['details_ls'].describe()"
   ]
  },
  {
   "cell_type": "markdown",
   "metadata": {},
   "source": [
    "This count is greater than the number before! But also the max value raises from 4390 to 9681. Upon manual inspection of the articles, it becomes clear that this number not always containes the `living_space` attribute, but sometimes also `plot_area` or `floor_space` and since there's no keyword to classify this value, we cannot use it. "
   ]
  },
  {
   "cell_type": "code",
   "execution_count": 193,
   "metadata": {},
   "outputs": [
    {
     "data": {
      "text/html": [
       "<div>\n",
       "<style scoped>\n",
       "    .dataframe tbody tr th:only-of-type {\n",
       "        vertical-align: middle;\n",
       "    }\n",
       "\n",
       "    .dataframe tbody tr th {\n",
       "        vertical-align: top;\n",
       "    }\n",
       "\n",
       "    .dataframe thead th {\n",
       "        text-align: right;\n",
       "    }\n",
       "</style>\n",
       "<table border=\"1\" class=\"dataframe\">\n",
       "  <thead>\n",
       "    <tr style=\"text-align: right;\">\n",
       "      <th></th>\n",
       "      <th>living_space</th>\n",
       "      <th>details_ls</th>\n",
       "    </tr>\n",
       "  </thead>\n",
       "  <tbody>\n",
       "    <tr>\n",
       "      <th>53</th>\n",
       "      <td>NaN</td>\n",
       "      <td>95.0</td>\n",
       "    </tr>\n",
       "    <tr>\n",
       "      <th>88</th>\n",
       "      <td>NaN</td>\n",
       "      <td>284.0</td>\n",
       "    </tr>\n",
       "    <tr>\n",
       "      <th>141</th>\n",
       "      <td>NaN</td>\n",
       "      <td>114.0</td>\n",
       "    </tr>\n",
       "    <tr>\n",
       "      <th>182</th>\n",
       "      <td>NaN</td>\n",
       "      <td>259.0</td>\n",
       "    </tr>\n",
       "    <tr>\n",
       "      <th>186</th>\n",
       "      <td>NaN</td>\n",
       "      <td>259.0</td>\n",
       "    </tr>\n",
       "    <tr>\n",
       "      <th>...</th>\n",
       "      <td>...</td>\n",
       "      <td>...</td>\n",
       "    </tr>\n",
       "    <tr>\n",
       "      <th>13204</th>\n",
       "      <td>NaN</td>\n",
       "      <td>803.0</td>\n",
       "    </tr>\n",
       "    <tr>\n",
       "      <th>13207</th>\n",
       "      <td>NaN</td>\n",
       "      <td>1436.0</td>\n",
       "    </tr>\n",
       "    <tr>\n",
       "      <th>13278</th>\n",
       "      <td>NaN</td>\n",
       "      <td>345.0</td>\n",
       "    </tr>\n",
       "    <tr>\n",
       "      <th>13337</th>\n",
       "      <td>NaN</td>\n",
       "      <td>544.0</td>\n",
       "    </tr>\n",
       "    <tr>\n",
       "      <th>13374</th>\n",
       "      <td>NaN</td>\n",
       "      <td>284.0</td>\n",
       "    </tr>\n",
       "  </tbody>\n",
       "</table>\n",
       "<p>378 rows × 2 columns</p>\n",
       "</div>"
      ],
      "text/plain": [
       "       living_space  details_ls\n",
       "53              NaN        95.0\n",
       "88              NaN       284.0\n",
       "141             NaN       114.0\n",
       "182             NaN       259.0\n",
       "186             NaN       259.0\n",
       "...             ...         ...\n",
       "13204           NaN       803.0\n",
       "13207           NaN      1436.0\n",
       "13278           NaN       345.0\n",
       "13337           NaN       544.0\n",
       "13374           NaN       284.0\n",
       "\n",
       "[378 rows x 2 columns]"
      ]
     },
     "execution_count": 193,
     "metadata": {},
     "output_type": "execute_result"
    }
   ],
   "source": [
    "# df_living_space[df_living_space['details_ls'].notna() & df_living_space['living_space'].isna()]"
   ]
  },
  {
   "cell_type": "markdown",
   "metadata": {},
   "source": [
    "<!-- Okay, 378 rows with information, where 'living_space' is NA. But is this data even about living space? -->"
   ]
  },
  {
   "cell_type": "code",
   "execution_count": 194,
   "metadata": {},
   "outputs": [
    {
     "data": {
      "text/plain": [
       "12744"
      ]
     },
     "execution_count": 194,
     "metadata": {},
     "output_type": "execute_result"
    }
   ],
   "source": [
    "# (df_living_space['details_ls'].fillna(0) == df_living_space['living_space'].fillna(0)).sum()"
   ]
  },
  {
   "cell_type": "code",
   "execution_count": 195,
   "metadata": {},
   "outputs": [
    {
     "data": {
      "text/html": [
       "<div>\n",
       "<style scoped>\n",
       "    .dataframe tbody tr th:only-of-type {\n",
       "        vertical-align: middle;\n",
       "    }\n",
       "\n",
       "    .dataframe tbody tr th {\n",
       "        vertical-align: top;\n",
       "    }\n",
       "\n",
       "    .dataframe thead th {\n",
       "        text-align: right;\n",
       "    }\n",
       "</style>\n",
       "<table border=\"1\" class=\"dataframe\">\n",
       "  <thead>\n",
       "    <tr style=\"text-align: right;\">\n",
       "      <th></th>\n",
       "      <th>details_ls</th>\n",
       "      <th>living_space</th>\n",
       "    </tr>\n",
       "  </thead>\n",
       "  <tbody>\n",
       "    <tr>\n",
       "      <th>15</th>\n",
       "      <td>NaN</td>\n",
       "      <td>258.0</td>\n",
       "    </tr>\n",
       "    <tr>\n",
       "      <th>22</th>\n",
       "      <td>NaN</td>\n",
       "      <td>167.0</td>\n",
       "    </tr>\n",
       "    <tr>\n",
       "      <th>33</th>\n",
       "      <td>NaN</td>\n",
       "      <td>258.0</td>\n",
       "    </tr>\n",
       "    <tr>\n",
       "      <th>53</th>\n",
       "      <td>95.0</td>\n",
       "      <td>NaN</td>\n",
       "    </tr>\n",
       "    <tr>\n",
       "      <th>57</th>\n",
       "      <td>NaN</td>\n",
       "      <td>167.0</td>\n",
       "    </tr>\n",
       "    <tr>\n",
       "      <th>...</th>\n",
       "      <td>...</td>\n",
       "      <td>...</td>\n",
       "    </tr>\n",
       "    <tr>\n",
       "      <th>13204</th>\n",
       "      <td>803.0</td>\n",
       "      <td>NaN</td>\n",
       "    </tr>\n",
       "    <tr>\n",
       "      <th>13207</th>\n",
       "      <td>1436.0</td>\n",
       "      <td>NaN</td>\n",
       "    </tr>\n",
       "    <tr>\n",
       "      <th>13278</th>\n",
       "      <td>345.0</td>\n",
       "      <td>NaN</td>\n",
       "    </tr>\n",
       "    <tr>\n",
       "      <th>13337</th>\n",
       "      <td>544.0</td>\n",
       "      <td>NaN</td>\n",
       "    </tr>\n",
       "    <tr>\n",
       "      <th>13374</th>\n",
       "      <td>284.0</td>\n",
       "      <td>NaN</td>\n",
       "    </tr>\n",
       "  </tbody>\n",
       "</table>\n",
       "<p>634 rows × 2 columns</p>\n",
       "</div>"
      ],
      "text/plain": [
       "       details_ls  living_space\n",
       "15            NaN         258.0\n",
       "22            NaN         167.0\n",
       "33            NaN         258.0\n",
       "53           95.0           NaN\n",
       "57            NaN         167.0\n",
       "...           ...           ...\n",
       "13204       803.0           NaN\n",
       "13207      1436.0           NaN\n",
       "13278       345.0           NaN\n",
       "13337       544.0           NaN\n",
       "13374       284.0           NaN\n",
       "\n",
       "[634 rows x 2 columns]"
      ]
     },
     "execution_count": 195,
     "metadata": {},
     "output_type": "execute_result"
    }
   ],
   "source": [
    "# not_equal = df_living_space['details_ls'].fillna(0) != df_living_space['living_space'].fillna(0)\n",
    "# df_living_space.loc[not_equal[not_equal == True].index, ['details_ls', 'living_space']]"
   ]
  },
  {
   "cell_type": "code",
   "execution_count": 196,
   "metadata": {},
   "outputs": [
    {
     "data": {
      "text/plain": [
       "12686"
      ]
     },
     "execution_count": 196,
     "metadata": {},
     "output_type": "execute_result"
    }
   ],
   "source": [
    "# df_living_space.loc[df_living_space['details_ls'].notna() & df_living_space['living_space'].isna(), 'living_space'] = df_living_space.loc[df_living_space['details_ls'].notna() & df_living_space['living_space'].isna(), 'details_ls']\n",
    "# df_living_space['living_space'].count()"
   ]
  },
  {
   "cell_type": "code",
   "execution_count": 197,
   "metadata": {},
   "outputs": [],
   "source": [
    "# df_living_space.drop('details_ls', axis=1, inplace=True)"
   ]
  },
  {
   "cell_type": "markdown",
   "metadata": {},
   "source": [
    "<!-- We could extract 378 more rows for the living space from 'details'.   -->\n",
    "\n",
    "## Rooms"
   ]
  },
  {
   "cell_type": "code",
   "execution_count": 125,
   "metadata": {},
   "outputs": [
    {
     "data": {
      "text/plain": [
       "True"
      ]
     },
     "execution_count": 125,
     "metadata": {},
     "output_type": "execute_result"
    }
   ],
   "source": [
    "df_rooms['details_rooms'] = df['details'].str.extract('(\\d+\\.?\\d?) rooms, ').astype(float)\n",
    "df_rooms['details_rooms'].count() == df_rooms['rooms'].count()"
   ]
  },
  {
   "cell_type": "code",
   "execution_count": 126,
   "metadata": {},
   "outputs": [
    {
     "data": {
      "text/html": [
       "<div>\n",
       "<style scoped>\n",
       "    .dataframe tbody tr th:only-of-type {\n",
       "        vertical-align: middle;\n",
       "    }\n",
       "\n",
       "    .dataframe tbody tr th {\n",
       "        vertical-align: top;\n",
       "    }\n",
       "\n",
       "    .dataframe thead th {\n",
       "        text-align: right;\n",
       "    }\n",
       "</style>\n",
       "<table border=\"1\" class=\"dataframe\">\n",
       "  <thead>\n",
       "    <tr style=\"text-align: right;\">\n",
       "      <th></th>\n",
       "      <th>details_rooms</th>\n",
       "      <th>rooms</th>\n",
       "    </tr>\n",
       "  </thead>\n",
       "  <tbody>\n",
       "  </tbody>\n",
       "</table>\n",
       "</div>"
      ],
      "text/plain": [
       "Empty DataFrame\n",
       "Columns: [details_rooms, rooms]\n",
       "Index: []"
      ]
     },
     "execution_count": 126,
     "metadata": {},
     "output_type": "execute_result"
    }
   ],
   "source": [
    "df_rooms.loc[df_rooms['details_rooms'].notna() & df_rooms['rooms'].isna(), ['details_rooms', 'rooms']]"
   ]
  },
  {
   "cell_type": "markdown",
   "metadata": {},
   "source": [
    "We do not gather more rows of information on the room counts but what information is contained in each column?"
   ]
  },
  {
   "cell_type": "code",
   "execution_count": 129,
   "metadata": {},
   "outputs": [
    {
     "data": {
      "text/plain": [
       "4.5     3481\n",
       "3.5     2314\n",
       "5.5     2186\n",
       "6.5      918\n",
       "2.5      849\n",
       "7.5      362\n",
       "5.0      343\n",
       "6.0      333\n",
       "7.0      298\n",
       "8.0      228\n",
       "4.0      222\n",
       "8.5      195\n",
       "3.0      173\n",
       "9.0      135\n",
       "10.0     125\n",
       "2.0       85\n",
       "11.0      85\n",
       "1.5       85\n",
       "12.0      66\n",
       "9.5       64\n",
       "10.5      42\n",
       "14.0      28\n",
       "13.0      23\n",
       "12.5      23\n",
       "11.5      21\n",
       "15.0      20\n",
       "20.0      13\n",
       "13.5      12\n",
       "14.5      11\n",
       "18.0      11\n",
       "16.0      11\n",
       "17.0      11\n",
       "21.0       5\n",
       "23.0       4\n",
       "19.0       4\n",
       "15.5       3\n",
       "17.5       3\n",
       "25.0       2\n",
       "16.5       2\n",
       "21.5       1\n",
       "22.0       1\n",
       "29.0       1\n",
       "Name: details_rooms, dtype: int64"
      ]
     },
     "execution_count": 129,
     "metadata": {},
     "output_type": "execute_result"
    }
   ],
   "source": [
    "df_rooms['details_rooms'].value_counts()"
   ]
  },
  {
   "cell_type": "code",
   "execution_count": 128,
   "metadata": {},
   "outputs": [
    {
     "data": {
      "text/plain": [
       "count    12799.000000\n",
       "mean         5.157200\n",
       "std          2.211891\n",
       "min          1.500000\n",
       "25%          3.500000\n",
       "50%          4.500000\n",
       "75%          5.500000\n",
       "max         29.000000\n",
       "Name: details_rooms, dtype: float64"
      ]
     },
     "execution_count": 128,
     "metadata": {},
     "output_type": "execute_result"
    }
   ],
   "source": [
    "df_rooms['details_rooms'].describe()"
   ]
  },
  {
   "cell_type": "code",
   "execution_count": 130,
   "metadata": {},
   "outputs": [
    {
     "data": {
      "text/plain": [
       "4.5     3481\n",
       "3.5     2314\n",
       "5.5     2186\n",
       "6.5      918\n",
       "2.5      849\n",
       "7.5      362\n",
       "5.0      343\n",
       "6.0      333\n",
       "7.0      298\n",
       "8.0      228\n",
       "4.0      222\n",
       "8.5      195\n",
       "3.0      173\n",
       "9.0      135\n",
       "10.0     125\n",
       "2.0       85\n",
       "11.0      85\n",
       "1.5       85\n",
       "12.0      66\n",
       "9.5       64\n",
       "10.5      42\n",
       "14.0      28\n",
       "13.0      23\n",
       "12.5      23\n",
       "11.5      21\n",
       "15.0      20\n",
       "20.0      13\n",
       "13.5      12\n",
       "14.5      11\n",
       "18.0      11\n",
       "16.0      11\n",
       "17.0      11\n",
       "21.0       5\n",
       "23.0       4\n",
       "19.0       4\n",
       "15.5       3\n",
       "17.5       3\n",
       "25.0       2\n",
       "16.5       2\n",
       "21.5       1\n",
       "22.0       1\n",
       "29.0       1\n",
       "Name: rooms, dtype: int64"
      ]
     },
     "execution_count": 130,
     "metadata": {},
     "output_type": "execute_result"
    }
   ],
   "source": [
    "df_rooms['rooms'].value_counts()"
   ]
  },
  {
   "cell_type": "code",
   "execution_count": 123,
   "metadata": {},
   "outputs": [
    {
     "data": {
      "text/plain": [
       "count    12799.000000\n",
       "mean         5.157200\n",
       "std          2.211891\n",
       "min          1.500000\n",
       "25%          3.500000\n",
       "50%          4.500000\n",
       "75%          5.500000\n",
       "max         29.000000\n",
       "Name: rooms, dtype: float64"
      ]
     },
     "execution_count": 123,
     "metadata": {},
     "output_type": "execute_result"
    }
   ],
   "source": [
    "df_rooms['rooms'].describe()"
   ]
  },
  {
   "cell_type": "markdown",
   "metadata": {},
   "source": [
    "It looks like the extracted information is more accurate and therefore we can drop the 'rooms' column.  "
   ]
  },
  {
   "cell_type": "code",
   "execution_count": 131,
   "metadata": {},
   "outputs": [],
   "source": [
    "df_rooms['rooms'] = df_rooms.loc[:, 'details_rooms']\n",
    "df_rooms.drop('details_rooms', axis=1, inplace=True)\n"
   ]
  },
  {
   "cell_type": "code",
   "execution_count": 132,
   "metadata": {},
   "outputs": [
    {
     "data": {
      "text/html": [
       "<div>\n",
       "<style scoped>\n",
       "    .dataframe tbody tr th:only-of-type {\n",
       "        vertical-align: middle;\n",
       "    }\n",
       "\n",
       "    .dataframe tbody tr th {\n",
       "        vertical-align: top;\n",
       "    }\n",
       "\n",
       "    .dataframe thead th {\n",
       "        text-align: right;\n",
       "    }\n",
       "</style>\n",
       "<table border=\"1\" class=\"dataframe\">\n",
       "  <thead>\n",
       "    <tr style=\"text-align: right;\">\n",
       "      <th></th>\n",
       "      <th>rooms</th>\n",
       "    </tr>\n",
       "  </thead>\n",
       "  <tbody>\n",
       "    <tr>\n",
       "      <th>count</th>\n",
       "      <td>12799.000000</td>\n",
       "    </tr>\n",
       "    <tr>\n",
       "      <th>mean</th>\n",
       "      <td>5.157200</td>\n",
       "    </tr>\n",
       "    <tr>\n",
       "      <th>std</th>\n",
       "      <td>2.211891</td>\n",
       "    </tr>\n",
       "    <tr>\n",
       "      <th>min</th>\n",
       "      <td>1.500000</td>\n",
       "    </tr>\n",
       "    <tr>\n",
       "      <th>25%</th>\n",
       "      <td>3.500000</td>\n",
       "    </tr>\n",
       "    <tr>\n",
       "      <th>50%</th>\n",
       "      <td>4.500000</td>\n",
       "    </tr>\n",
       "    <tr>\n",
       "      <th>75%</th>\n",
       "      <td>5.500000</td>\n",
       "    </tr>\n",
       "    <tr>\n",
       "      <th>max</th>\n",
       "      <td>29.000000</td>\n",
       "    </tr>\n",
       "  </tbody>\n",
       "</table>\n",
       "</div>"
      ],
      "text/plain": [
       "              rooms\n",
       "count  12799.000000\n",
       "mean       5.157200\n",
       "std        2.211891\n",
       "min        1.500000\n",
       "25%        3.500000\n",
       "50%        4.500000\n",
       "75%        5.500000\n",
       "max       29.000000"
      ]
     },
     "execution_count": 132,
     "metadata": {},
     "output_type": "execute_result"
    }
   ],
   "source": [
    "df_rooms.describe()"
   ]
  },
  {
   "cell_type": "markdown",
   "metadata": {},
   "source": [
    "# Details Structured"
   ]
  },
  {
   "cell_type": "code",
   "execution_count": 133,
   "metadata": {},
   "outputs": [
    {
     "data": {
      "text/plain": [
       "{'Municipality': 'Biberstein', 'Living space': '100 m²', 'Floor': '4. floor', 'Availability': 'On request', 'location': '5023 Biberstein, AG', 'description': '3.5 rooms, 100 m²«Luxuriöse Attika-Wohnung mit herrlicher Aussicht»CHF 1,150,000.—Favourite', 'detailed_description': 'DescriptionLuxuriöse Attika-Wohnung direkt an der Aare und angrenzend an die Landwirtschaftszone, mit unverbaubarer Weitsicht, grosszügiger Garage und Option auf ein zusätzliches Zimmer.Einzigartige Lage, top Aussicht und hochwertige Innenausstattung? Das alles bietet diese charmante Eigentumswohnung auf 100m2 im steuergünstigen Biberstein. Stadtnah gelegen und mit direktem Naturzugang sorgt sie für ein rundum angenehmes Wohngefühl.In der ganzen Wohnung sind hochwertige Materialien mit einem südländischen Touch verbaut. Der Boden ist mit einem Jurastein und die beiden Zimmer mit Holz versehen (mit Bodenheizung).In die Wohnung gelangt man über einen separaten Eingang, ein halbes Stockwerk vom gewachsenen Boden erhöht (kein gemeinsames Treppenhaus). Die grosse Terrasse (rund 70m2) öffnet nach Süden ein einzigartiges Panorama mit einem herrlichen Blick auf Natur, Aare und Alpen.Naturfreunde können von der Haustür direkt an die Aare oder in die Wälder gelangen. Zur Arbeit ist die Bushaltestelle nur 200m entfernt (Bahnhof Aarau ist innerhalb von wenigen Minuten erreichbar). Für die Fahrzeuge bestehen 3 Parkmöglichkeiten: Eine grosse Garage mit Fenster direkt unterhalb der Wohnung (Länge: 7m / Breite: 3m), ein Aussenparkplatz vor der Garage und daneben ein grosszügiger Carport.Die Wohnung zeichnet sich besonders durch ihren grosszügigen Wohn-/Essbereich mit einer bodentiefen Fensterfronst nach Süden aus. Vom Eingangsbereich mit Garderobe gelangt man auf beiden Seiten direkt in zwei separate Zimmer. Anschliessend findet sich links das ideal ausgestattete Badezimmer (Badewanne, Dusche, zwei Lavabos, elektrischer Handtuchwärmer, alles in hochwertiger Qualität - Villeroy&Boch/Granit/Jurastein/Murano-Glas). Die Küche ist grosszügig und halb offen zum Essbereich konzipiert. Zwischen dem Badezimmer und der Küche befindet sich ein grosser Abstellraum (fast 10m2) mit eigener Waschmaschine / Tumbler/Lavabo. Noch mehr Stauraum bietet ein grosszügiger Keller im Untergeschoss. Im Wohn-/Essbereich war ursprünglich ein weiteres Zimmer geplant, womit die Wohnung mit wenig Aufwand zu einer 4.5-Zimmer-Wohnung erweitert werden könnte.Neben der grossen Süd-Terrasse hat es einen weiteren Balkon Richtung Osten, wo sich das Frühstück wunderbar an der Morgensonne geniessen lässt. Die eingebaute Klimaanlage bietet zudem auch an heissen Sommertagen eine angenehme Raumtemperatur.Das Haus ist mit einer modernen, effizienten Ölheizung ausgestattet. Sie überzeugt mit einem sehr tiefen Verbrauch und wird jährlich per Serviceabonnement gewartet. Der wohnungseigene Warmwasser-Boiler fasst 300 Liter und ist ab Service.Es würde uns freuen, Ihnen diese einzigartige Wohnung an einem individuellen Besichtigungstermin vorzustellen.', 'url': 'https://www.immoscout24.ch//en/d/penthouse-buy-biberstein/7255200', 'table': 'b\\'<article class=\"Box-cYFBPY hKrxoH\"><h2 class=\"Box-cYFBPY gZLPvm\">Main information</h2><table class=\"DataTable__StyledTable-sc-1o2xig5-1 jbXaEC\"><tbody><tr><td class=\"DataTable__SimpleCell-sc-1o2xig5-2 DataTable__Cell-sc-1o2xig5-4 edrNfG dGBatU\">Municipality</td><td class=\"DataTable__SimpleCell-sc-1o2xig5-2 DataTable__CellValue-sc-1o2xig5-3 edrNfG rJZBK\">Biberstein</td></tr><tr><td class=\"DataTable__SimpleCell-sc-1o2xig5-2 DataTable__Cell-sc-1o2xig5-4 edrNfG dGBatU\">Living space</td><td class=\"DataTable__SimpleCell-sc-1o2xig5-2 DataTable__CellValue-sc-1o2xig5-3 edrNfG rJZBK\">100 m&#178;</td></tr><tr><td class=\"DataTable__SimpleCell-sc-1o2xig5-2 DataTable__Cell-sc-1o2xig5-4 edrNfG dGBatU\">Floor</td><td class=\"DataTable__SimpleCell-sc-1o2xig5-2 DataTable__CellValue-sc-1o2xig5-3 edrNfG rJZBK\">4. floor</td></tr><tr><td class=\"DataTable__SimpleCell-sc-1o2xig5-2 DataTable__Cell-sc-1o2xig5-4 edrNfG dGBatU\">Availability</td><td class=\"DataTable__SimpleCell-sc-1o2xig5-2 DataTable__CellValue-sc-1o2xig5-3 edrNfG rJZBK\">On request</td></tr><tr class=\"Box-cYFBPY fgkiRl\"><td colspan=\"2\" class=\"DataTable__SimpleCell-sc-1o2xig5-2 DataTable__Cell-sc-1o2xig5-4 edrNfG fFglmV\"><a href=\"https://cis01.immoscout24.ch/is24media/13/d5/2bb0f98746-220805.pdf\" target=\"_blank\" rel=\"noopener\" class=\"Box-cYFBPY Link__Shell-kMBQAv ljXWtL hMCCae\"><svg width=\"24\" height=\"24\" viewbox=\"0 0 24 24\" fill=\"none\" class=\"Pdf__SvgPdf-fVqkQz jPOpoj\"><path d=\"M18 18v2H6v-2H4v4h16v-5l-2 1zM4 10V8l6-6h10v8h-2V4h-6v6H4zm6-5L7 8h3V5zm-2.042 7.386a2.131 2.131 0 00-1.405-1.228A6.203 6.203 0 005 11H4v6h1v-1.995a6.2 6.2 0 001.552-.159 2.131 2.131 0 001.406-1.227 2.756 2.756 0 000-1.233zM5.995 14L5 14.002V12h1s1.073 0 1.036 1a1.026 1.026 0 01-1.041 1zM19 12v-1h-4v6h1v-2h2v-1h-2v-2h3zm-5.033 1.886C13.927 11.931 12.79 11 10.913 11H9v6h1.913c1.877 0 3.014-.931 3.054-2.886v-.228zM11 16h-1v-4h1a1.789 1.789 0 012.003 2A1.788 1.788 0 0111 16z\" fill=\"#333\"/></svg>A_Grundriss.pdf</a></td></tr></tbody></table><hr class=\"Divider-iprSaI bBhTLQ\"/></article>\\''}    2\n",
       "{'Municipality': 'Aarau', 'Living space': '152 m²', 'Plot area': '839 m²', 'Floor space': '132 m²', 'Availability': 'On request', 'location': 'Schönenwerderstrasse 545000 Aarau, AG', 'description': '5 rooms, 152 m²«RESERVIERT.»CHF 1,200,000.—Favourite', 'detailed_description': 'DescriptionDas im Jahr 1936 massiv in Beton erbaute, lichtdurchflutete Künstler-Atelier wurde 1957 zum Wohnhaus umgebaut, mit Innenhof und Anbau erweitert (zweischaliger Backstein) und Gartenmauer eingefriedet.Von 2008 bis 2020 wurde das Haus umfassend fachmännisch renoviert (Bäder, Küche, Parkett, Fenster, Rolläden, Wände), und auch das Flach- und das Giebeldach wurden von Grund auf erneuert. 2015 wurde eine neue Gasheizung mit einer Thermo- und Photovoltaik-Anlage kombiniert, 2017 ein Schwedenofen installiert.Mit zwei Hauseingängen ist das Gebäude auch für eine WG oder zwei Generationen geeignet.', 'url': 'https://www.immoscout24.ch//en/d/detached-house-buy-aarau/7257409', 'table': 'b\\'<article class=\"Box-cYFBPY hKrxoH\"><h2 class=\"Box-cYFBPY gZLPvm\">Main information</h2><table class=\"DataTable__StyledTable-sc-1o2xig5-1 jbXaEC\"><tbody><tr><td class=\"DataTable__SimpleCell-sc-1o2xig5-2 DataTable__Cell-sc-1o2xig5-4 edrNfG dGBatU\">Municipality</td><td class=\"DataTable__SimpleCell-sc-1o2xig5-2 DataTable__CellValue-sc-1o2xig5-3 edrNfG rJZBK\">Aarau</td></tr><tr><td class=\"DataTable__SimpleCell-sc-1o2xig5-2 DataTable__Cell-sc-1o2xig5-4 edrNfG dGBatU\">Living space</td><td class=\"DataTable__SimpleCell-sc-1o2xig5-2 DataTable__CellValue-sc-1o2xig5-3 edrNfG rJZBK\">152 m&#178;</td></tr><tr><td class=\"DataTable__SimpleCell-sc-1o2xig5-2 DataTable__Cell-sc-1o2xig5-4 edrNfG dGBatU\">Plot area</td><td class=\"DataTable__SimpleCell-sc-1o2xig5-2 DataTable__CellValue-sc-1o2xig5-3 edrNfG rJZBK\">839 m&#178;</td></tr><tr><td class=\"DataTable__SimpleCell-sc-1o2xig5-2 DataTable__Cell-sc-1o2xig5-4 edrNfG dGBatU\">Floor space</td><td class=\"DataTable__SimpleCell-sc-1o2xig5-2 DataTable__CellValue-sc-1o2xig5-3 edrNfG rJZBK\">132 m&#178;</td></tr><tr><td class=\"DataTable__SimpleCell-sc-1o2xig5-2 DataTable__Cell-sc-1o2xig5-4 edrNfG dGBatU\">Availability</td><td class=\"DataTable__SimpleCell-sc-1o2xig5-2 DataTable__CellValue-sc-1o2xig5-3 edrNfG rJZBK\">On request</td></tr></tbody></table><hr class=\"Divider-iprSaI bBhTLQ\"/></article>\\''}                                                                                                                                                                                                                                                                                                                                                                                                                                                                                                                                                                                                                                                                                                                                                                                                                                                                                                                                                                                                                                                                                                                                                                                                                                                                                                                                                                                                                                                                                                                                                                                                                                                                                                                                                                                                                                                                                                                                                                                                                                                                                                                                                                                                                                                                                                                                                                                                                                                                                                                                                                                                                                                                                                                                                                                                                                                                                                                                            2\n",
       "{'Municipality': 'Biberstein', 'Living space': '156 m²', 'Plot area': '222 m²', 'Floor space': '242 m²', 'Availability': 'On request', 'location': 'Buhldenstrasse 8d5023 Biberstein, AG', 'description': '4.5 rooms, 156 m²«Stilvolle Liegenschaft - ruhige Lage, unverbaubare Aussicht»CHF 1,420,000.—Favourite', 'detailed_description': 'DescriptionStilvolle Liegenschaft an ruhiger Lage mit unverbaubarer Aussicht in den JuraDiese hochwertige Liegenschaft mit Baujahr 2013 liegt an ruhiger Aussichtslage im steuergünstigen Biberstein. Die Liegenschaft präsentiert sich in neuwertigem Zustand. Die Materialisierung ist sehr stilvoll und der Ausbaustandard sehr hoch. Das ganze Haus verfügt über einen hochwertigen Eichenparkett (Echtholz) sowie Wände mit Gipsglattstrich und Küchengeräte der Marke V-Zug. Die Liegenschaft ist im Minergie Standard erstellt und zertifiziert.Das Haus eignet sich bestens für eine Familie oder ein Paar in Kombination mit Homeoffice. Es verfügt über eine Nettogeschossfläche (beheizte Wohnfläche) von 156.50m2 und eine Nutzfläche (inkl. Garage, Hobbyraum und Waschen/Trocknen/Technik) von 242.00m2.Erdgeschoss  Sie betreten das Haus über einen grosszügigen Eingangsbereich. Der grosse Garderobenschrank bietet Platz für die ganze Familie, Sporttaschen und vieles mehr.Vom Eingangsbereich gelangen Sie direkt in die übergrosse Garage (ca. 47.50m2). Zwei Autos finden mühelos darin Platz und im hinteren Teil der Garage verfügen Sie über zusätzlichen Raum um eine Werkstatt einzurichten oder Velos und Kinderwagen zu parkieren.Obergeschoss  Über die Sichtbetontreppe erreichen Sie das Obergeschoss. Die ganze Treppe gleicht einer Skulptur und der grosszügige Vorbereich führt zu den beiden Kinderzimmer. gegenüber befindet sich WC/Dusche und der Eingangsbereich in den Masterbedroom (Elternzimmer mit separater Ankleide und Bad).Fernen befindet sich auf diesem Geschoss der Hobbyraum (ca. 22.00m2) und dahinter liegend der Technikraum mit Waschmaschine und Tumbler (ca. 16.00m2).Das Haus wird mit einer eigenen Wärmepumpe (Luft-Wasser) beheizt und die Wärmeverteilung erfolgt über eine Fussbodenheizung. Zudem verfügt das Haus über eine eigene, kontrollierte Wohnungslüftung. Anschlüsse für eine Wasserentkalkung sind vorhanden.Attikageschoss  Im Attikageschoss befindet sich der offen Wohn-, Ess, und Kochbereich. Die Küche mit viel Stauraum verfügt über eine Chromstahlabdeckung, Topgeräte der Firma V-Zug (Induktionsherd, Backofen, Steamer, Geschirrwaschmaschine), einen grosse Kühlschrank sowie einen Dampfabzug. Der Küche direkt angegliedert ist ein Reduit. Der perfekte Raum für Vorräte und alles was nicht täglich in der Küche gebraucht wird.Dem Essbereich zugeordnet befindet sich die Ostterrasse (Morgensonne, ca. 25.00m2). Ein schön bepflanzter Gartenteil bildet den Abschluss.Die grosse Westterrasse (Mittag- und Abendsonne, ca. 52.50m2) erreichen Sie über den Wohnbereich. Die Aussicht in den nahen Jura ist phänomenal.Das ganze Haus verfügt über einen hochwertigen Eichenparkett (Echtholz) sowie Wände mit Gipsglattstrich.Haben wir Ihr Interesse geweckt?Gerne zeigen wir Ihnen diese stilvolle Liegenschaft unverbindlich vor Ort.', 'url': 'https://www.immoscout24.ch//en/d/terrace-house-buy-biberstein/7266694', 'table': 'b\\'<article class=\"Box-cYFBPY hKrxoH\"><h2 class=\"Box-cYFBPY gZLPvm\">Main information</h2><table class=\"DataTable__StyledTable-sc-1o2xig5-1 jbXaEC\"><tbody><tr><td class=\"DataTable__SimpleCell-sc-1o2xig5-2 DataTable__Cell-sc-1o2xig5-4 edrNfG dGBatU\">Municipality</td><td class=\"DataTable__SimpleCell-sc-1o2xig5-2 DataTable__CellValue-sc-1o2xig5-3 edrNfG rJZBK\">Biberstein</td></tr><tr><td class=\"DataTable__SimpleCell-sc-1o2xig5-2 DataTable__Cell-sc-1o2xig5-4 edrNfG dGBatU\">Living space</td><td class=\"DataTable__SimpleCell-sc-1o2xig5-2 DataTable__CellValue-sc-1o2xig5-3 edrNfG rJZBK\">156 m&#178;</td></tr><tr><td class=\"DataTable__SimpleCell-sc-1o2xig5-2 DataTable__Cell-sc-1o2xig5-4 edrNfG dGBatU\">Plot area</td><td class=\"DataTable__SimpleCell-sc-1o2xig5-2 DataTable__CellValue-sc-1o2xig5-3 edrNfG rJZBK\">222 m&#178;</td></tr><tr><td class=\"DataTable__SimpleCell-sc-1o2xig5-2 DataTable__Cell-sc-1o2xig5-4 edrNfG dGBatU\">Floor space</td><td class=\"DataTable__SimpleCell-sc-1o2xig5-2 DataTable__CellValue-sc-1o2xig5-3 edrNfG rJZBK\">242 m&#178;</td></tr><tr><td class=\"DataTable__SimpleCell-sc-1o2xig5-2 DataTable__Cell-sc-1o2xig5-4 edrNfG dGBatU\">Availability</td><td class=\"DataTable__SimpleCell-sc-1o2xig5-2 DataTable__CellValue-sc-1o2xig5-3 edrNfG rJZBK\">On request</td></tr></tbody></table><hr class=\"Divider-iprSaI bBhTLQ\"/></article>\\''}                                                                                                                                                                                                                                                                                                                                                                                                                                                                                                                                                           2\n",
       "{'Municipality': 'Erlinsbach (AG)', 'Living space': '228 m²', 'Plot area': '700 m²', 'Availability': 'On request', 'location': 'Erlenweg 45018 Erlinsbach, AG', 'description': '6.5 rooms, 228 m²«WOHNTRAUM - 6½-Zimmer-Einfamilienhaus an bester Lage!»CHF 1,990,000.—Favourite', 'detailed_description': 'DescriptionDieses traumhafte, moderne und grosszügige Haus wird voraussichtlich im 2023 erbaut. Aktuell ist das Baugesuch bei der Bauverwaltung eingereicht und wird bald publiziert. Somit besteht die Möglichkeit, beim kompletten Innenausbau, in gewissem Umfang, mit zu entscheiden.Ihr Haus liegt in einem ruhigen Quartier direkt am Rande eines Naherholungsgebiets und einem kleinen Bach. Sie schmiegen sich an einen sanften Hang; beide Häuser sind sehr gut besonnt. Die Höhe der Räume und die grosse Fensterfläche sorgen für eine freundliche, lichtdurchflutete Atmosphäre. Die grossflächigen Balkone und Gartensitzplätze können optional auch verglast werden. Besonderes Augenmerk lag beim Planen auf den grosszügig geschnittenen, praktischen Grundrissen, auf einer hohen Bauqualität und auf erstklassigen Einbauten, Geräten und Armaturen.Ein weiteres Highlight ist natürlich das grosse Grundstück mit ca. 700m2. Ausreichend Platz, für Kinder & Gartenliebhaber.', 'url': 'https://www.immoscout24.ch//en/d/detached-house-buy-erlinsbach/7221252', 'table': 'b\\'<article class=\"Box-cYFBPY hKrxoH\"><h2 class=\"Box-cYFBPY gZLPvm\">Main information</h2><table class=\"DataTable__StyledTable-sc-1o2xig5-1 jbXaEC\"><tbody><tr><td class=\"DataTable__SimpleCell-sc-1o2xig5-2 DataTable__Cell-sc-1o2xig5-4 edrNfG dGBatU\">Municipality</td><td class=\"DataTable__SimpleCell-sc-1o2xig5-2 DataTable__CellValue-sc-1o2xig5-3 edrNfG rJZBK\">Erlinsbach (AG)</td></tr><tr><td class=\"DataTable__SimpleCell-sc-1o2xig5-2 DataTable__Cell-sc-1o2xig5-4 edrNfG dGBatU\">Living space</td><td class=\"DataTable__SimpleCell-sc-1o2xig5-2 DataTable__CellValue-sc-1o2xig5-3 edrNfG rJZBK\">228 m&#178;</td></tr><tr><td class=\"DataTable__SimpleCell-sc-1o2xig5-2 DataTable__Cell-sc-1o2xig5-4 edrNfG dGBatU\">Plot area</td><td class=\"DataTable__SimpleCell-sc-1o2xig5-2 DataTable__CellValue-sc-1o2xig5-3 edrNfG rJZBK\">700 m&#178;</td></tr><tr><td class=\"DataTable__SimpleCell-sc-1o2xig5-2 DataTable__Cell-sc-1o2xig5-4 edrNfG dGBatU\">Availability</td><td class=\"DataTable__SimpleCell-sc-1o2xig5-2 DataTable__CellValue-sc-1o2xig5-3 edrNfG rJZBK\">On request</td></tr></tbody></table><hr class=\"Divider-iprSaI bBhTLQ\"/></article>\\''}                                                                                                                                                                                                                                                                                                                                                                                                                                                                                                                                                                                                                                                                                                                                                                                                                                                                                                                                                                                                                                                                                                                                                                                                                                                                                                                                                                                                                                                                                                                                                                                                                                                                                                                                                                                                                                                                                                                                                                                                                                                                                                                                                                                                                                                                                                                                                                                                                                                                                                                                                                                                                                                                                                                                                                      2\n",
       "{'Municipality': 'Buchs (AG)', 'Living space': '93 m²', 'Floor': 'Ground floor', 'Availability': 'On request', 'location': 'Trieschweg 265033 Buchs AG, AG', 'description': '3.5 rooms, 93 m²«Neuwertige 3½ Zimmer Parterre-Wohnung ? ideal als erstes Eigenheim»CHF 695,000.—Favourite', 'detailed_description': \"DescriptionIn dem im 2020 neu erbauten Trieschpark-Quartier in Buchs AG ist diese moderne Gartenwohnung zu verkaufen. Das Wohnquartier befindet sich an ruhiger und idealer Lage und ist doch verkehrstechnisch ideal gelegen. Kinder sind herzlich willkommen.Die Wohnung überzeug durch folgende Eckdaten:Praktischer Grundriss ? 93 m² WohnflächeOffene Küche mit KochinselBadezimmer en Suite mit Dusche/WCGästebad mit BadewanneReduit mit Waschmaschine/Tumbler in der WohnungOffene Einbaugarderobe im EntréeHelles Wohnzimmer mit grossen Fensterfronten und Zugang zum SitzplatzMorderner, zeitgemässer AusbaustandardEichenparkett im Wohn-/Esszimmer und in allen SchlafräumenGedeckter Gartensitzplatz 12 m²Mittag- und AbendsonneElektrische Lamellen- und SonnenstorenFussbodenheizungRollstuhlgängigKellerraum rund 10 m²Der ökologische Wohnkomfort wird durch die Ausführung im Minergie-P-Standard ? dem Gütesiegel für geringen Energiebedarf gewährt.Distanzen:Bushaltestelle Alterszentrum 500 mKindergarten Triesch: 200 mSchulanlage Risiacher: 400 mSchulhaus Suhrenmatte: 550 mEinkaufen: 1.4 km (Wynencenter)Autobahnanschluss:In 3 Min. ist die Schnellstrasse T5 mit Anschluss an die A1 zu erreichenPreisübersicht:3½\\xa0Zimmer-Parterre-Wohnung: CHF 695'000.-Parkplatz in der Tiefgarage: CHF 30'000.-Möglichkeit, eine Festhypothek zu 0.98% zu übernehmen (Laufzeit bis Februar 2030)Könnte dies Ihr zukünftiges Zuhause sein? Dann freuen wir uns auf Ihre Kontaktaufnahme.\", 'url': 'https://www.immoscout24.ch//en/d/flat-buy-buchs-ag/7295068', 'table': 'b\\'<article class=\"Box-cYFBPY hKrxoH\"><h2 class=\"Box-cYFBPY gZLPvm\">Main information</h2><table class=\"DataTable__StyledTable-sc-1o2xig5-1 jbXaEC\"><tbody><tr><td class=\"DataTable__SimpleCell-sc-1o2xig5-2 DataTable__Cell-sc-1o2xig5-4 edrNfG dGBatU\">Municipality</td><td class=\"DataTable__SimpleCell-sc-1o2xig5-2 DataTable__CellValue-sc-1o2xig5-3 edrNfG rJZBK\">Buchs (AG)</td></tr><tr><td class=\"DataTable__SimpleCell-sc-1o2xig5-2 DataTable__Cell-sc-1o2xig5-4 edrNfG dGBatU\">Living space</td><td class=\"DataTable__SimpleCell-sc-1o2xig5-2 DataTable__CellValue-sc-1o2xig5-3 edrNfG rJZBK\">93 m&#178;</td></tr><tr><td class=\"DataTable__SimpleCell-sc-1o2xig5-2 DataTable__Cell-sc-1o2xig5-4 edrNfG dGBatU\">Floor</td><td class=\"DataTable__SimpleCell-sc-1o2xig5-2 DataTable__CellValue-sc-1o2xig5-3 edrNfG rJZBK\">Ground floor</td></tr><tr><td class=\"DataTable__SimpleCell-sc-1o2xig5-2 DataTable__Cell-sc-1o2xig5-4 edrNfG dGBatU\">Availability</td><td class=\"DataTable__SimpleCell-sc-1o2xig5-2 DataTable__CellValue-sc-1o2xig5-3 edrNfG rJZBK\">On request</td></tr></tbody></table><hr class=\"Divider-iprSaI bBhTLQ\"/></article>\\''}                                                                                                                                                                                                                                                                                                                                                                                                                                                                                                                                                                                                                                                                                                                                                                                                                                                                                                                                                                                                                                                                                                                                                                                                                                                                                                                                                                                                                                                                                                                                                                                                                                                                                                                                                                                                                                                                                                                                                                                                                                                                                                                                                                                                                                                                       2\n",
       "                                                                                                                                                                                                                                                                                                                                                                                                                                                                                                                                                                                                                                                                                                                                                                                                                                                                                                                                                                                                                                                                                                                                                                                                                                                                                                                                                                                                                                                                                                                                                                                                                                                                                                                                                                                                                                                                                                                                                                                                                                                                                                                                                                                                                                                                                                                                                                                                                                                                                                                                                                                                                                                                                                                                                                                                                                                                                                                                                                                                                                                                                                                                                                                                                                                                                                                                                                                                                                                                                                                                                                                                                                                                                                                                                                                                                                                                                                                                                                                                                                                                                                                                                                                                                                                                                                                                                                                                                                                                                                                                                                                                                                                                                                                                                                                                                                                                                                                                                                                                                                                                                                                                                                                                                                                                                                                                                  ..\n",
       "{'Municipality': 'Werthenstein', 'Availability': 'On request', 'location': 'Bahnhofstrasse6105 Schachen LU, LU', 'description': '3.5 rooms«3.5-Zimmer-Wohnung | Schachenweid»CHF 630,000.—FavouriteNew building projectThis property is part of the project \"Schachenweid\".To the project', 'detailed_description': 'DescriptionOptimales Wohnen für vielseitige Bedürfnisse  Mit der ?Schachenweid? erhält die Gemeinde Werthenstein eine stilvolle Wohnüberbauung an attraktivster Lage, direkt neben dem Bahnhof Schachen. Hier, entstehen moderne Neubau Eigentumswohnungen für Singles, Paare und Familien. Insgesamt sind es 36 Wohnungen in den Grössen 2.5- bis 4.5-Zimmer.Ideale Grundrisse, moderne und zeitlose Innenausstattungen, ein eigener Kinderspielplatz sowie die direkte Anbindung an den Bahnhof Schachen machen die ?Schachenweid? zum optimalen Wohnort. Nebst der Einbettung in die grüne und kinderfreundliche Umgebung, punktet die Überbauung mit einer hochwertigen Wohnungsausstattung. Entsprechend finden sich nur werthaltige, zeitlose Materialien und energieeffiziente Geräte in dieser einzigartigen Liegenschaft. Sämtliche Wohnungen verfügen über eine eigene Waschmaschine sowie einen Tumbler.Diverse Einkaufs- und Sportmöglichkeiten finden Sie in unmittelbarer Gehdistanz, genauso wie der Kindergarten oder die Schule. Durch den direkten Bahnanschluss erreichen Sie alle Ziele der Schweiz, wie beispielsweise die Stadt Luzern in nur 15 Minuten. Natürlich hält die Überbauung noch viele weitere Details für Sie bereit.Verkaufsangebot:  6x 2.5-Zimmer-Wohnung | ab 65 m² | ab CHF 350000.0014x 3.5-Zimmer-Wohnung | ab 103 m² | ab CHF 505000.0016x 4.5-Zimmer-Wohnung | ab 134 m² | ab CHF 650000.00Einstellhallen-Parkplatz à CHF 35000.00Haben wir Ihr Interesse geweckt?Gerne erklären wir Ihnen bei einem unverbindlichen Gespräch das Projekt im Detail.Bei Fragen können Sie uns jederzeit kontaktieren.', 'url': 'https://www.immoscout24.ch//en/d/flat-buy-schachen-lu/7270211', 'table': 'b\\'<article class=\"Box-cYFBPY hKrxoH\"><h2 class=\"Box-cYFBPY gZLPvm\">Main information</h2><table class=\"DataTable__StyledTable-sc-1o2xig5-1 jbXaEC\"><tbody><tr><td class=\"DataTable__SimpleCell-sc-1o2xig5-2 DataTable__Cell-sc-1o2xig5-4 edrNfG dGBatU\">Municipality</td><td class=\"DataTable__SimpleCell-sc-1o2xig5-2 DataTable__CellValue-sc-1o2xig5-3 edrNfG rJZBK\">Werthenstein</td></tr><tr><td class=\"DataTable__SimpleCell-sc-1o2xig5-2 DataTable__Cell-sc-1o2xig5-4 edrNfG dGBatU\">Availability</td><td class=\"DataTable__SimpleCell-sc-1o2xig5-2 DataTable__CellValue-sc-1o2xig5-3 edrNfG rJZBK\">On request</td></tr></tbody></table><hr class=\"Divider-iprSaI bBhTLQ\"/></article>\\''}                                                                                                                                                                                                                                                                                                                                                                                                                                                                                                                                                                                                                                                                                                                                                                                                                                                                                                                                                                                                                                                                                                                                                                                                                                                                                                                                                                                                                                                                                                                                                                                                                                                                                                                                                                                                                                                                                                                                                                                                                                                                                                                                                                                                                                                                                                                                                                                                                                                                                                                                                                                         1\n",
       "{'Municipality': 'Boncourt', 'Living space': '101 m²', 'Plot area': '45 m²', 'Availability': 'On request', 'location': '2926 Boncourt, JU', 'description': '3.5 rooms, 101 m²«LES 3 DERNIÈRES MAISONS DISPONIBLE»CHF 316,000.—Favourite', 'detailed_description': \"DescriptionCharmante petite maison écologique et original. Vous rêvez d'une petite maison qui allie confort et écologie, ne manquez pas ce nouveau projet de 12 petite villa d'environ 100m2 avec sa terrasse un espace jardin et une place de parc. Ses maisons serons disponible dès mars 2021 information et plan sur demande. Minergie A, Une consommation pour le chauffage virtuellement inexistanteChaque maison aura son propre système photovoltaïqueChaque maison aura système de chauffage avec le système UNICO, des split capable de générer air chaude et air conditionnée pendant lété pour une gérance optimale de la temperature pendant toutes les périodes de lannée.Cette offre de BETTERHOMES se caractérise par les avantages suivants:charmanteécologiqueau calmeneuvedisponible dès mai 2022 plus que 3 maisons disponibleprix très intéressantIntéressé? Contactez-nous pour une visite sans engagement - visite en ligne également possible!Rien qui correspond? Vous trouverez plus de 2'300 autres objets sur: www.betterhomes.ch - Le spécialiste suisse des transactions immobilières.Vous avez un bien immobilier à commercialiser?Profitez de notre savoir-faire: https://www.betterhomes.ch/fr/profiterVous souhaitez connaître la valeur de votre bien immobilier?Découvrez sa valeur dès maintenant grâce à notre estimation gratuite, immédiate et sans engagement!https://www.betterhomes.ch/fr/knowledge/estimationPlus détailsSituation: au calme et idéalement situéSalles de bain: 1 (1x douche/baignoire/wc/lavabo)Transport publics: bus, 1 min. à piedEcole: école primaire et secondaire, 5 min. à piedCommerces: Coop et Migros, 500 mFurther information\", 'url': 'https://www.immoscout24.ch//en/d/detached-house-buy-boncourt/7272683', 'table': 'b\\'<article class=\"Box-cYFBPY hKrxoH\"><h2 class=\"Box-cYFBPY gZLPvm\">Main information</h2><table class=\"DataTable__StyledTable-sc-1o2xig5-1 jbXaEC\"><tbody><tr><td class=\"DataTable__SimpleCell-sc-1o2xig5-2 DataTable__Cell-sc-1o2xig5-4 edrNfG dGBatU\">Municipality</td><td class=\"DataTable__SimpleCell-sc-1o2xig5-2 DataTable__CellValue-sc-1o2xig5-3 edrNfG rJZBK\">Boncourt</td></tr><tr><td class=\"DataTable__SimpleCell-sc-1o2xig5-2 DataTable__Cell-sc-1o2xig5-4 edrNfG dGBatU\">Living space</td><td class=\"DataTable__SimpleCell-sc-1o2xig5-2 DataTable__CellValue-sc-1o2xig5-3 edrNfG rJZBK\">101 m&#178;</td></tr><tr><td class=\"DataTable__SimpleCell-sc-1o2xig5-2 DataTable__Cell-sc-1o2xig5-4 edrNfG dGBatU\">Plot area</td><td class=\"DataTable__SimpleCell-sc-1o2xig5-2 DataTable__CellValue-sc-1o2xig5-3 edrNfG rJZBK\">45 m&#178;</td></tr><tr><td class=\"DataTable__SimpleCell-sc-1o2xig5-2 DataTable__Cell-sc-1o2xig5-4 edrNfG dGBatU\">Availability</td><td class=\"DataTable__SimpleCell-sc-1o2xig5-2 DataTable__CellValue-sc-1o2xig5-3 edrNfG rJZBK\">On request</td></tr></tbody></table><hr class=\"Divider-iprSaI bBhTLQ\"/></article>\\''}                                                                                                                                                                                                                                                                                                                                                                                                                                                                                                                                                                                                                                                                                                                                                                                                                                                                                                                                                                                                                                                                                                                                                                                                                                                                                                                                                                                                                                                                                                                                                                                                                                                                                                                                                                                                                                                                                                                                                                                                                                                                                                                  1\n",
       "{'Municipality': 'Porrentruy', 'Living space': '115 m²', 'Plot area': '38 m²', 'Availability': 'Immediately', 'location': '2900 Porrentruy, JU', 'description': '4.5 rooms, 115 m²«Maison atypique en ville historique de Porrentruy.»CHF 395,000.—Favourite', 'detailed_description': \"DescriptionSur les hauteurs du centre historique se dresse une maison que l'on peut désigner comme une habitation typique de la ville ancienne. On peut l'habiter sur quatre étages qui sont reliés les uns aux autres par des escaliers de pierre en colimaçon. Les propriétaires précédents l'ont bien entretenue et rénovée. Les pierres apparentes dans l'entrée et dans la cage d'escaliers donnent à ce bâtiment une âme authentique. Au rez de chaussée se trouvent une entrée, un WC et une buanderie. Le premier étage, très chaleureux, est occupé par le séjour et la cuisine. A l'étage supérieur, deux chambres et une mezzanine complètent cette charmante demeure. La maison est chauffée par des poêles à pellets.Auf den Höhen des historischen Zentrums steht ein Haus, das als typisches Wohnhaus der Altstadt bezeichnet werden kann. Es kann auf vier Etagen bewohnt werden, die durch steinerne Wendeltreppen miteinander verbunden sind. Die Vorbesitzer haben es gut gepflegt und renoviert. Die freigelegten Steine im Eingangsbereich und im Treppenhaus verleihen diesem Gebäude eine authentische Seele. Im Erdgeschoss befinden sich ein Eingang, eine Toilette und eine Waschküche. Der erste Stock, sehr warm, wird vom Wohnzimmer und der Küche eingenommen. Im Obergeschoss vervollständigen zwei Schlafzimmer und ein Zwischengeschoss diese charmante Residenz. Das Haus wird mit Pelletöfen beheizt.Further information\", 'url': 'https://www.immoscout24.ch//en/d/detached-house-buy-porrentruy/7193252', 'table': 'b\\'<article class=\"Box-cYFBPY hKrxoH\"><h2 class=\"Box-cYFBPY gZLPvm\">Main information</h2><table class=\"DataTable__StyledTable-sc-1o2xig5-1 jbXaEC\"><tbody><tr><td class=\"DataTable__SimpleCell-sc-1o2xig5-2 DataTable__Cell-sc-1o2xig5-4 edrNfG dGBatU\">Municipality</td><td class=\"DataTable__SimpleCell-sc-1o2xig5-2 DataTable__CellValue-sc-1o2xig5-3 edrNfG rJZBK\">Porrentruy</td></tr><tr><td class=\"DataTable__SimpleCell-sc-1o2xig5-2 DataTable__Cell-sc-1o2xig5-4 edrNfG dGBatU\">Living space</td><td class=\"DataTable__SimpleCell-sc-1o2xig5-2 DataTable__CellValue-sc-1o2xig5-3 edrNfG rJZBK\">115 m&#178;</td></tr><tr><td class=\"DataTable__SimpleCell-sc-1o2xig5-2 DataTable__Cell-sc-1o2xig5-4 edrNfG dGBatU\">Plot area</td><td class=\"DataTable__SimpleCell-sc-1o2xig5-2 DataTable__CellValue-sc-1o2xig5-3 edrNfG rJZBK\">38 m&#178;</td></tr><tr><td class=\"DataTable__SimpleCell-sc-1o2xig5-2 DataTable__Cell-sc-1o2xig5-4 edrNfG dGBatU\">Availability</td><td class=\"DataTable__SimpleCell-sc-1o2xig5-2 DataTable__CellValue-sc-1o2xig5-3 edrNfG rJZBK\">Immediately</td></tr></tbody></table><hr class=\"Divider-iprSaI bBhTLQ\"/></article>\\''}                                                                                                                                                                                                                                                                                                                                                                                                                                                                                                                                                                                                                                                                                                                                                                                                                                                                                                                                                                                                                                                                                                                                                                                                                                                                                                                                                                                                                                                                                                                                                                                                                                                                                                                                                                                                                                                                                                                                                                                                                                                                                                                                                                                                                                                                                                                                    1\n",
       "{'Municipality': 'Cornol', 'Living space': '367 m²', 'Plot area': '911 m²', 'Availability': 'Immediately', 'location': 'Cornol2952 Cornol, JU', 'description': '6.5 rooms, 367 m²«Très jolie maison avec grand terrain et beaucoup de potentiel»CHF 595,000.—Favourite', 'detailed_description': \"DescriptionTrès jolie maison avec grand terrain et beaucoup de potentielIdéalement exposée et située dans un endroit très calme, cette jolie maison bénéficie d'un splendide environnement et d'un grand terrain. Les surfaces généreuses des pièces, le grand jardin réparti des 2 côtés de la maison, l'atelier de 50 m2, l'énorme potentiel d'aménagement du volume du grenier, le cachet de la maison ou les travaux effectués sont autant d'arguments qui vous séduiront. N'attendez pas pour demander une visite!Adresse exacte disponible après inscription sur neho.ch.VOUS SOUHAITEZ VISITER ? MERCI DE BIEN VOULOIR VOUS INSCRIRE D'ABORD : https://neho.ch/p/2952-22-1Sehr schönes Haus mit großem Grundstück und viel PotenzialDieses hübsche Haus ist ideal gelegen und befindet sich in einer sehr ruhigen Gegend. Es profitiert von einer herrlichen Umgebung und einem großen Grundstück. Die großzügigen Flächen der Zimmer, der große Garten auf beiden Seiten des Hauses, das 50 m2 große Atelier, das enorme Ausbaupotenzial des Dachbodens, der Charakter des Hauses und die durchgeführten Arbeiten sind allesamt Argumente, die Sie begeistern werden. Warten Sie nicht, um eine Besichtigung anzufordern!Genaue Adresse verfügbar nach Registrierung auf neho.ch.AN EINER BESICHTIGUNG INTERESSIERT? BITTE ANMELDEN: https://neho.ch/p/2952-22-1Very nice house with a large plot and a lot of potentialIdeally exposed and located in a very quiet area, this pretty house benefits from a splendid environment and a large plot of land. The generous surfaces of the rooms, the large garden on both sides of the house, the workshop of 50 m2, the enormous potential of development of the volume of the attic, the character of the house or the work carried out are as many arguments which will allure you. Do not wait to ask for a visit!Exact address available upon registration on neho.ch.INTERESTED IN VISITING THE PROPERTY? PLEASE REGISTER FIRST : https://neho.ch/p/2952-22-1Further information\", 'url': 'https://www.immoscout24.ch//en/d/detached-house-buy-cornol/7195073', 'table': 'b\\'<article class=\"Box-cYFBPY hKrxoH\"><h2 class=\"Box-cYFBPY gZLPvm\">Main information</h2><table class=\"DataTable__StyledTable-sc-1o2xig5-1 jbXaEC\"><tbody><tr><td class=\"DataTable__SimpleCell-sc-1o2xig5-2 DataTable__Cell-sc-1o2xig5-4 edrNfG dGBatU\">Municipality</td><td class=\"DataTable__SimpleCell-sc-1o2xig5-2 DataTable__CellValue-sc-1o2xig5-3 edrNfG rJZBK\">Cornol</td></tr><tr><td class=\"DataTable__SimpleCell-sc-1o2xig5-2 DataTable__Cell-sc-1o2xig5-4 edrNfG dGBatU\">Living space</td><td class=\"DataTable__SimpleCell-sc-1o2xig5-2 DataTable__CellValue-sc-1o2xig5-3 edrNfG rJZBK\">367 m&#178;</td></tr><tr><td class=\"DataTable__SimpleCell-sc-1o2xig5-2 DataTable__Cell-sc-1o2xig5-4 edrNfG dGBatU\">Plot area</td><td class=\"DataTable__SimpleCell-sc-1o2xig5-2 DataTable__CellValue-sc-1o2xig5-3 edrNfG rJZBK\">911 m&#178;</td></tr><tr><td class=\"DataTable__SimpleCell-sc-1o2xig5-2 DataTable__Cell-sc-1o2xig5-4 edrNfG dGBatU\">Availability</td><td class=\"DataTable__SimpleCell-sc-1o2xig5-2 DataTable__CellValue-sc-1o2xig5-3 edrNfG rJZBK\">Immediately</td></tr></tbody></table><hr class=\"Divider-iprSaI bBhTLQ\"/></article>\\''}                                                                                                                                                                                                                                                                                                                                                                                                                                                                                                                                                                                                                                                                                                                                                                                                                                                                                                                                                                                                                                                                                                                                                                                                                                                                                                                                                                                                                                                                                                                                                                                                                                                                                                                                                1\n",
       "{'Municipality': 'Winterthur', 'Living space': '385 m²', 'Plot area': '1306 m²', 'Availability': 'Immediately', 'location': 'Im Eichbühl 508405 Winterthur, ZH', 'description': '7.5 rooms, 385 m²«Wohnen an ruhiger, sonniger Wohnlage mit bester Aussicht»CHF 2,750,000.—Favourite', 'detailed_description': 'DescriptionDas freistehende Einfamilienhaus an erhöhter und ruhiger Wohnlage ist von einem schön gestalteten Garten umgeben, in dem es diverse Aufenthaltsbereiche gibt. Bei herrlicher Aus- und Weitsicht ins Grüne und bis in die Stadt lässt es sich gut erholen. Die vielen Spaziermöglichkeiten in der Nähe laden in die Natur ein.Das schöne Haus besteht aus 2 Wohngeschossen mit diversen Neben- und Disporäumen und besticht durch seine praktische Grösse. Je nach Bedürfnissen kann das Innere noch nach Geschmack angepasst werden.Kommen Sie vorbei und überzeugen Sie sich selbt. Alle Details entnehmen Sie der angehängten Verkaufsdokumentation.', 'url': 'https://www.immoscout24.ch//en/d/detached-house-buy-winterthur/7269251', 'table': 'b\\'<article class=\"Box-cYFBPY hKrxoH\"><h2 class=\"Box-cYFBPY gZLPvm\">Main information</h2><table class=\"DataTable__StyledTable-sc-1o2xig5-1 jbXaEC\"><tbody><tr><td class=\"DataTable__SimpleCell-sc-1o2xig5-2 DataTable__Cell-sc-1o2xig5-4 edrNfG dGBatU\">Municipality</td><td class=\"DataTable__SimpleCell-sc-1o2xig5-2 DataTable__CellValue-sc-1o2xig5-3 edrNfG rJZBK\">Winterthur</td></tr><tr><td class=\"DataTable__SimpleCell-sc-1o2xig5-2 DataTable__Cell-sc-1o2xig5-4 edrNfG dGBatU\">Living space</td><td class=\"DataTable__SimpleCell-sc-1o2xig5-2 DataTable__CellValue-sc-1o2xig5-3 edrNfG rJZBK\">385 m&#178;</td></tr><tr><td class=\"DataTable__SimpleCell-sc-1o2xig5-2 DataTable__Cell-sc-1o2xig5-4 edrNfG dGBatU\">Plot area</td><td class=\"DataTable__SimpleCell-sc-1o2xig5-2 DataTable__CellValue-sc-1o2xig5-3 edrNfG rJZBK\">1306 m&#178;</td></tr><tr><td class=\"DataTable__SimpleCell-sc-1o2xig5-2 DataTable__Cell-sc-1o2xig5-4 edrNfG dGBatU\">Availability</td><td class=\"DataTable__SimpleCell-sc-1o2xig5-2 DataTable__CellValue-sc-1o2xig5-3 edrNfG rJZBK\">Immediately</td></tr><tr class=\"Box-cYFBPY fgkiRl\"><td colspan=\"2\" class=\"DataTable__SimpleCell-sc-1o2xig5-2 DataTable__Cell-sc-1o2xig5-4 edrNfG fFglmV\"><a href=\"https://cis01.immoscout24.ch/is24media/64/82/e5669c254c-220815.pdf\" target=\"_blank\" rel=\"noopener\" class=\"Box-cYFBPY Link__Shell-kMBQAv ljXWtL hMCCae\"><svg width=\"24\" height=\"24\" viewbox=\"0 0 24 24\" fill=\"none\" class=\"Pdf__SvgPdf-fVqkQz jPOpoj\"><path d=\"M18 18v2H6v-2H4v4h16v-5l-2 1zM4 10V8l6-6h10v8h-2V4h-6v6H4zm6-5L7 8h3V5zm-2.042 7.386a2.131 2.131 0 00-1.405-1.228A6.203 6.203 0 005 11H4v6h1v-1.995a6.2 6.2 0 001.552-.159 2.131 2.131 0 001.406-1.227 2.756 2.756 0 000-1.233zM5.995 14L5 14.002V12h1s1.073 0 1.036 1a1.026 1.026 0 01-1.041 1zM19 12v-1h-4v6h1v-2h2v-1h-2v-2h3zm-5.033 1.886C13.927 11.931 12.79 11 10.913 11H9v6h1.913c1.877 0 3.014-.931 3.054-2.886v-.228zM11 16h-1v-4h1a1.789 1.789 0 012.003 2A1.788 1.788 0 0111 16z\" fill=\"#333\"/></svg>Verkaufsdoku.pdf</a></td></tr></tbody></table><hr class=\"Divider-iprSaI bBhTLQ\"/></article>\\''}                                                                                                                                                                                                                                                                                                                                                                                                                                                                                                                                                                                                                                                                                                                                                                                                                                                                                                                                                                                                                                                                                                                                                                                                                                                                                                                                                                                                                                                                                                                                                                                                                                                                                                                                                                                                                                                                                                                                                                                                                                                                                                                                          1\n",
       "Name: details_structured, Length: 13358, dtype: int64"
      ]
     },
     "execution_count": 133,
     "metadata": {},
     "output_type": "execute_result"
    }
   ],
   "source": [
    "df['details_structured'].value_counts()"
   ]
  },
  {
   "cell_type": "markdown",
   "metadata": {},
   "source": [
    "Municipality, Living space, Plot area, Availability, location, description, detailed_description, url, table, Floor space, Floor"
   ]
  },
  {
   "cell_type": "code",
   "execution_count": 134,
   "metadata": {},
   "outputs": [
    {
     "data": {
      "text/plain": [
       "True"
      ]
     },
     "execution_count": 134,
     "metadata": {},
     "output_type": "execute_result"
    }
   ],
   "source": [
    "df['details_structured'].str.contains(\"'Municipality'\").sum() == df['Municipality'].count()"
   ]
  },
  {
   "cell_type": "code",
   "execution_count": 135,
   "metadata": {},
   "outputs": [
    {
     "data": {
      "text/plain": [
       "True"
      ]
     },
     "execution_count": 135,
     "metadata": {},
     "output_type": "execute_result"
    }
   ],
   "source": [
    "df['details_structured'].str.contains(\"'Living space'\").sum() == df['Living space'].count()"
   ]
  },
  {
   "cell_type": "code",
   "execution_count": 136,
   "metadata": {},
   "outputs": [
    {
     "data": {
      "text/plain": [
       "True"
      ]
     },
     "execution_count": 136,
     "metadata": {},
     "output_type": "execute_result"
    }
   ],
   "source": [
    "df['details_structured'].str.contains(\"'Plot area'\").sum() == df['Plot area'].count()"
   ]
  },
  {
   "cell_type": "code",
   "execution_count": 137,
   "metadata": {},
   "outputs": [
    {
     "data": {
      "text/plain": [
       "True"
      ]
     },
     "execution_count": 137,
     "metadata": {},
     "output_type": "execute_result"
    }
   ],
   "source": [
    "df['details_structured'].str.contains(\"'Floor space'\").sum() == df['Floor space'].count()"
   ]
  },
  {
   "cell_type": "code",
   "execution_count": 138,
   "metadata": {},
   "outputs": [
    {
     "data": {
      "text/plain": [
       "True"
      ]
     },
     "execution_count": 138,
     "metadata": {},
     "output_type": "execute_result"
    }
   ],
   "source": [
    "df['details_structured'].str.contains(\"'Availability'\").sum() == df['Availability'].count()"
   ]
  },
  {
   "cell_type": "code",
   "execution_count": 139,
   "metadata": {},
   "outputs": [
    {
     "data": {
      "text/plain": [
       "True"
      ]
     },
     "execution_count": 139,
     "metadata": {},
     "output_type": "execute_result"
    }
   ],
   "source": [
    "df['details_structured'].str.contains(\"'location'\").sum() == df['location'].count()"
   ]
  },
  {
   "cell_type": "code",
   "execution_count": 140,
   "metadata": {},
   "outputs": [
    {
     "data": {
      "text/plain": [
       "True"
      ]
     },
     "execution_count": 140,
     "metadata": {},
     "output_type": "execute_result"
    }
   ],
   "source": [
    "df['details_structured'].str.contains(\"'description'\").sum() == df['description'].count()"
   ]
  },
  {
   "cell_type": "code",
   "execution_count": 141,
   "metadata": {},
   "outputs": [
    {
     "data": {
      "text/plain": [
       "True"
      ]
     },
     "execution_count": 141,
     "metadata": {},
     "output_type": "execute_result"
    }
   ],
   "source": [
    "df['details_structured'].str.contains(\"'detailed_description'\").sum() == df['detailed_description'].count()"
   ]
  },
  {
   "cell_type": "code",
   "execution_count": 142,
   "metadata": {},
   "outputs": [
    {
     "data": {
      "text/plain": [
       "True"
      ]
     },
     "execution_count": 142,
     "metadata": {},
     "output_type": "execute_result"
    }
   ],
   "source": [
    "df['details_structured'].str.contains(\"'url'\").sum() == df['url'].count()"
   ]
  },
  {
   "cell_type": "code",
   "execution_count": 143,
   "metadata": {},
   "outputs": [
    {
     "data": {
      "text/plain": [
       "True"
      ]
     },
     "execution_count": 143,
     "metadata": {},
     "output_type": "execute_result"
    }
   ],
   "source": [
    "df['details_structured'].str.contains(\"'table'\").sum() == df['table'].count()"
   ]
  },
  {
   "cell_type": "code",
   "execution_count": 144,
   "metadata": {},
   "outputs": [
    {
     "data": {
      "text/plain": [
       "True"
      ]
     },
     "execution_count": 144,
     "metadata": {},
     "output_type": "execute_result"
    }
   ],
   "source": [
    "df['details_structured'].str.contains(\"'Floor'\").sum() == df['Floor'].count()"
   ]
  },
  {
   "cell_type": "markdown",
   "metadata": {},
   "source": [
    "## Plot Area"
   ]
  },
  {
   "cell_type": "code",
   "execution_count": 145,
   "metadata": {},
   "outputs": [
    {
     "data": {
      "text/html": [
       "<div>\n",
       "<style scoped>\n",
       "    .dataframe tbody tr th:only-of-type {\n",
       "        vertical-align: middle;\n",
       "    }\n",
       "\n",
       "    .dataframe tbody tr th {\n",
       "        vertical-align: top;\n",
       "    }\n",
       "\n",
       "    .dataframe thead th {\n",
       "        text-align: right;\n",
       "    }\n",
       "</style>\n",
       "<table border=\"1\" class=\"dataframe\">\n",
       "  <thead>\n",
       "    <tr style=\"text-align: right;\">\n",
       "      <th></th>\n",
       "      <th>Plot area</th>\n",
       "      <th>Grundstücksfläche</th>\n",
       "      <th>Surface du terrain</th>\n",
       "      <th>Superficie del terreno</th>\n",
       "      <th>detail_responsive#surface_property</th>\n",
       "      <th>Plot_area_merged</th>\n",
       "      <th>table_pa</th>\n",
       "    </tr>\n",
       "  </thead>\n",
       "  <tbody>\n",
       "    <tr>\n",
       "      <th>0</th>\n",
       "      <td>NaN</td>\n",
       "      <td>NaN</td>\n",
       "      <td>NaN</td>\n",
       "      <td>NaN</td>\n",
       "      <td>NaN</td>\n",
       "      <td>NaN</td>\n",
       "      <td>NaN</td>\n",
       "    </tr>\n",
       "    <tr>\n",
       "      <th>1</th>\n",
       "      <td>222 m²</td>\n",
       "      <td>NaN</td>\n",
       "      <td>NaN</td>\n",
       "      <td>NaN</td>\n",
       "      <td>NaN</td>\n",
       "      <td>222 m²</td>\n",
       "      <td>222 m&amp;#178;</td>\n",
       "    </tr>\n",
       "    <tr>\n",
       "      <th>2</th>\n",
       "      <td>NaN</td>\n",
       "      <td>NaN</td>\n",
       "      <td>NaN</td>\n",
       "      <td>NaN</td>\n",
       "      <td>NaN</td>\n",
       "      <td>NaN</td>\n",
       "      <td>NaN</td>\n",
       "    </tr>\n",
       "    <tr>\n",
       "      <th>3</th>\n",
       "      <td>370 m²</td>\n",
       "      <td>NaN</td>\n",
       "      <td>NaN</td>\n",
       "      <td>NaN</td>\n",
       "      <td>NaN</td>\n",
       "      <td>370 m²</td>\n",
       "      <td>370 m&amp;#178;</td>\n",
       "    </tr>\n",
       "    <tr>\n",
       "      <th>4</th>\n",
       "      <td>NaN</td>\n",
       "      <td>NaN</td>\n",
       "      <td>NaN</td>\n",
       "      <td>NaN</td>\n",
       "      <td>NaN</td>\n",
       "      <td>NaN</td>\n",
       "      <td>NaN</td>\n",
       "    </tr>\n",
       "    <tr>\n",
       "      <th>...</th>\n",
       "      <td>...</td>\n",
       "      <td>...</td>\n",
       "      <td>...</td>\n",
       "      <td>...</td>\n",
       "      <td>...</td>\n",
       "      <td>...</td>\n",
       "      <td>...</td>\n",
       "    </tr>\n",
       "    <tr>\n",
       "      <th>13373</th>\n",
       "      <td>NaN</td>\n",
       "      <td>NaN</td>\n",
       "      <td>NaN</td>\n",
       "      <td>NaN</td>\n",
       "      <td>NaN</td>\n",
       "      <td>NaN</td>\n",
       "      <td>NaN</td>\n",
       "    </tr>\n",
       "    <tr>\n",
       "      <th>13374</th>\n",
       "      <td>284 m²</td>\n",
       "      <td>NaN</td>\n",
       "      <td>NaN</td>\n",
       "      <td>NaN</td>\n",
       "      <td>NaN</td>\n",
       "      <td>284 m²</td>\n",
       "      <td>284 m&amp;#178;</td>\n",
       "    </tr>\n",
       "    <tr>\n",
       "      <th>13375</th>\n",
       "      <td>160 m²</td>\n",
       "      <td>NaN</td>\n",
       "      <td>NaN</td>\n",
       "      <td>NaN</td>\n",
       "      <td>NaN</td>\n",
       "      <td>160 m²</td>\n",
       "      <td>160 m&amp;#178;</td>\n",
       "    </tr>\n",
       "    <tr>\n",
       "      <th>13376</th>\n",
       "      <td>853 m²</td>\n",
       "      <td>NaN</td>\n",
       "      <td>NaN</td>\n",
       "      <td>NaN</td>\n",
       "      <td>NaN</td>\n",
       "      <td>853 m²</td>\n",
       "      <td>853 m&amp;#178;</td>\n",
       "    </tr>\n",
       "    <tr>\n",
       "      <th>13377</th>\n",
       "      <td>1306 m²</td>\n",
       "      <td>NaN</td>\n",
       "      <td>NaN</td>\n",
       "      <td>NaN</td>\n",
       "      <td>NaN</td>\n",
       "      <td>1306 m²</td>\n",
       "      <td>1306 m&amp;#178;</td>\n",
       "    </tr>\n",
       "  </tbody>\n",
       "</table>\n",
       "<p>13378 rows × 7 columns</p>\n",
       "</div>"
      ],
      "text/plain": [
       "      Plot area Grundstücksfläche Surface du terrain Superficie del terreno  \\\n",
       "0           NaN               NaN                NaN                    NaN   \n",
       "1        222 m²               NaN                NaN                    NaN   \n",
       "2           NaN               NaN                NaN                    NaN   \n",
       "3        370 m²               NaN                NaN                    NaN   \n",
       "4           NaN               NaN                NaN                    NaN   \n",
       "...         ...               ...                ...                    ...   \n",
       "13373       NaN               NaN                NaN                    NaN   \n",
       "13374    284 m²               NaN                NaN                    NaN   \n",
       "13375    160 m²               NaN                NaN                    NaN   \n",
       "13376    853 m²               NaN                NaN                    NaN   \n",
       "13377   1306 m²               NaN                NaN                    NaN   \n",
       "\n",
       "      detail_responsive#surface_property Plot_area_merged      table_pa  \n",
       "0                                    NaN              NaN           NaN  \n",
       "1                                    NaN           222 m²   222 m&#178;  \n",
       "2                                    NaN              NaN           NaN  \n",
       "3                                    NaN           370 m²   370 m&#178;  \n",
       "4                                    NaN              NaN           NaN  \n",
       "...                                  ...              ...           ...  \n",
       "13373                                NaN              NaN           NaN  \n",
       "13374                                NaN           284 m²   284 m&#178;  \n",
       "13375                                NaN           160 m²   160 m&#178;  \n",
       "13376                                NaN           853 m²   853 m&#178;  \n",
       "13377                                NaN          1306 m²  1306 m&#178;  \n",
       "\n",
       "[13378 rows x 7 columns]"
      ]
     },
     "execution_count": 145,
     "metadata": {},
     "output_type": "execute_result"
    }
   ],
   "source": [
    "df_plot_area"
   ]
  },
  {
   "cell_type": "code",
   "execution_count": 146,
   "metadata": {},
   "outputs": [
    {
     "data": {
      "text/plain": [
       "Plot area                             False\n",
       "Grundstücksfläche                     False\n",
       "Surface du terrain                    False\n",
       "Superficie del terreno                 True\n",
       "detail_responsive#surface_property    False\n",
       "dtype: bool"
      ]
     },
     "execution_count": 146,
     "metadata": {},
     "output_type": "execute_result"
    }
   ],
   "source": [
    "plot_area = ['Plot area', 'Grundstücksfläche', 'Surface du terrain', 'Superficie del terreno', 'detail_responsive#surface_property', 'Plot_area_merged']\n",
    "\n",
    "df_plot_area[plot_area[0:5]].count().cumsum() == df_plot_area[plot_area[5]].count()"
   ]
  },
  {
   "cell_type": "code",
   "execution_count": 147,
   "metadata": {},
   "outputs": [
    {
     "data": {
      "text/plain": [
       "13378"
      ]
     },
     "execution_count": 147,
     "metadata": {},
     "output_type": "execute_result"
    }
   ],
   "source": [
    "df_plot_area['plot_area'] = df_plot_area[plot_area[0]].fillna('') + \\\n",
    "  (df_plot_area[plot_area[1]]).fillna('') + \\\n",
    "  (df_plot_area[plot_area[2]]).fillna('') + \\\n",
    "  (df_plot_area[plot_area[3]]).fillna('')\n",
    "\n",
    "(df_plot_area['plot_area'] == df_plot_area[plot_area[5]].fillna('')).sum()"
   ]
  },
  {
   "cell_type": "code",
   "execution_count": 148,
   "metadata": {},
   "outputs": [
    {
     "data": {
      "text/plain": [
       "4953"
      ]
     },
     "execution_count": 148,
     "metadata": {},
     "output_type": "execute_result"
    }
   ],
   "source": [
    "df_plot_area['plot_area'] = df_plot_area[plot_area[5]].fillna('') + \\\n",
    "  (df_plot_area[plot_area[4]]).fillna('')\n",
    "\n",
    "df_plot_area['plot_area'] = df_plot_area['plot_area'].replace('', np.nan)\n",
    "\n",
    "df_plot_area['plot_area'].count()"
   ]
  },
  {
   "cell_type": "code",
   "execution_count": 149,
   "metadata": {},
   "outputs": [
    {
     "data": {
      "text/html": [
       "<div>\n",
       "<style scoped>\n",
       "    .dataframe tbody tr th:only-of-type {\n",
       "        vertical-align: middle;\n",
       "    }\n",
       "\n",
       "    .dataframe tbody tr th {\n",
       "        vertical-align: top;\n",
       "    }\n",
       "\n",
       "    .dataframe thead th {\n",
       "        text-align: right;\n",
       "    }\n",
       "</style>\n",
       "<table border=\"1\" class=\"dataframe\">\n",
       "  <thead>\n",
       "    <tr style=\"text-align: right;\">\n",
       "      <th></th>\n",
       "      <th>plot_area</th>\n",
       "    </tr>\n",
       "  </thead>\n",
       "  <tbody>\n",
       "    <tr>\n",
       "      <th>count</th>\n",
       "      <td>4953.000000</td>\n",
       "    </tr>\n",
       "    <tr>\n",
       "      <th>mean</th>\n",
       "      <td>934.845548</td>\n",
       "    </tr>\n",
       "    <tr>\n",
       "      <th>std</th>\n",
       "      <td>1174.532146</td>\n",
       "    </tr>\n",
       "    <tr>\n",
       "      <th>min</th>\n",
       "      <td>10.000000</td>\n",
       "    </tr>\n",
       "    <tr>\n",
       "      <th>25%</th>\n",
       "      <td>329.000000</td>\n",
       "    </tr>\n",
       "    <tr>\n",
       "      <th>50%</th>\n",
       "      <td>600.000000</td>\n",
       "    </tr>\n",
       "    <tr>\n",
       "      <th>75%</th>\n",
       "      <td>1024.000000</td>\n",
       "    </tr>\n",
       "    <tr>\n",
       "      <th>max</th>\n",
       "      <td>9681.000000</td>\n",
       "    </tr>\n",
       "  </tbody>\n",
       "</table>\n",
       "</div>"
      ],
      "text/plain": [
       "         plot_area\n",
       "count  4953.000000\n",
       "mean    934.845548\n",
       "std    1174.532146\n",
       "min      10.000000\n",
       "25%     329.000000\n",
       "50%     600.000000\n",
       "75%    1024.000000\n",
       "max    9681.000000"
      ]
     },
     "execution_count": 149,
     "metadata": {},
     "output_type": "execute_result"
    }
   ],
   "source": [
    "df_plot_area['plot_area'] = df_plot_area.plot_area.str.extract('(\\d+)').astype(float)\n",
    "df_plot_area.drop(['Plot area', 'Grundstücksfläche', 'Surface du terrain', 'Superficie del terreno', 'detail_responsive#surface_property', 'Plot_area_merged'], axis=1, inplace=True)\n",
    "df_plot_area.describe()"
   ]
  },
  {
   "cell_type": "markdown",
   "metadata": {},
   "source": [
    "## Floor Space"
   ]
  },
  {
   "cell_type": "code",
   "execution_count": 150,
   "metadata": {},
   "outputs": [
    {
     "data": {
      "text/plain": [
       "Floor space                         False\n",
       "Nutzfläche                          False\n",
       "Surface utile                       False\n",
       "Superficie utile                     True\n",
       "detail_responsive#surface_usable    False\n",
       "dtype: bool"
      ]
     },
     "execution_count": 150,
     "metadata": {},
     "output_type": "execute_result"
    }
   ],
   "source": [
    "floor_space = ['Floor space', 'Nutzfläche', 'Surface utile', 'Superficie utile', 'detail_responsive#surface_usable', 'Floor_space_merged']\n",
    "df_floor_space = df.loc[:, floor_space]\n",
    "\n",
    "df_floor_space[floor_space[0:5]].count().cumsum() == df_floor_space[floor_space[5]].count()"
   ]
  },
  {
   "cell_type": "code",
   "execution_count": 151,
   "metadata": {},
   "outputs": [
    {
     "data": {
      "text/plain": [
       "13378"
      ]
     },
     "execution_count": 151,
     "metadata": {},
     "output_type": "execute_result"
    }
   ],
   "source": [
    "df_floor_space['floor_space'] = df_floor_space[floor_space[0]].fillna('') + \\\n",
    "  (df_floor_space[floor_space[1]]).fillna('') + \\\n",
    "  (df_floor_space[floor_space[2]]).fillna('') + \\\n",
    "  (df_floor_space[floor_space[3]]).fillna('')\n",
    "\n",
    "(df_floor_space['floor_space'] == df_floor_space[floor_space[5]].fillna('')).sum()"
   ]
  },
  {
   "cell_type": "code",
   "execution_count": 152,
   "metadata": {},
   "outputs": [
    {
     "data": {
      "text/plain": [
       "2842"
      ]
     },
     "execution_count": 152,
     "metadata": {},
     "output_type": "execute_result"
    }
   ],
   "source": [
    "# df_floor_space['floor_space'] = df_floor_space[floor_space[0]].fillna('') + \\\n",
    "#   (df_floor_space[floor_space[1]]).fillna('') + \\\n",
    "#   (df_floor_space[floor_space[2]]).fillna('') + \\\n",
    "#   (df_floor_space[floor_space[3]]).fillna('')\n",
    "\n",
    "df_floor_space[df_floor_space['floor_space'] != '']['floor_space'].count()"
   ]
  },
  {
   "cell_type": "code",
   "execution_count": 153,
   "metadata": {},
   "outputs": [
    {
     "data": {
      "text/html": [
       "<div>\n",
       "<style scoped>\n",
       "    .dataframe tbody tr th:only-of-type {\n",
       "        vertical-align: middle;\n",
       "    }\n",
       "\n",
       "    .dataframe tbody tr th {\n",
       "        vertical-align: top;\n",
       "    }\n",
       "\n",
       "    .dataframe thead th {\n",
       "        text-align: right;\n",
       "    }\n",
       "</style>\n",
       "<table border=\"1\" class=\"dataframe\">\n",
       "  <thead>\n",
       "    <tr style=\"text-align: right;\">\n",
       "      <th></th>\n",
       "      <th>0</th>\n",
       "    </tr>\n",
       "  </thead>\n",
       "  <tbody>\n",
       "    <tr>\n",
       "      <th>count</th>\n",
       "      <td>2842.000000</td>\n",
       "    </tr>\n",
       "    <tr>\n",
       "      <th>mean</th>\n",
       "      <td>209.717804</td>\n",
       "    </tr>\n",
       "    <tr>\n",
       "      <th>std</th>\n",
       "      <td>273.712382</td>\n",
       "    </tr>\n",
       "    <tr>\n",
       "      <th>min</th>\n",
       "      <td>4.000000</td>\n",
       "    </tr>\n",
       "    <tr>\n",
       "      <th>25%</th>\n",
       "      <td>107.000000</td>\n",
       "    </tr>\n",
       "    <tr>\n",
       "      <th>50%</th>\n",
       "      <td>155.000000</td>\n",
       "    </tr>\n",
       "    <tr>\n",
       "      <th>75%</th>\n",
       "      <td>243.750000</td>\n",
       "    </tr>\n",
       "    <tr>\n",
       "      <th>max</th>\n",
       "      <td>7549.000000</td>\n",
       "    </tr>\n",
       "  </tbody>\n",
       "</table>\n",
       "</div>"
      ],
      "text/plain": [
       "                 0\n",
       "count  2842.000000\n",
       "mean    209.717804\n",
       "std     273.712382\n",
       "min       4.000000\n",
       "25%     107.000000\n",
       "50%     155.000000\n",
       "75%     243.750000\n",
       "max    7549.000000"
      ]
     },
     "execution_count": 153,
     "metadata": {},
     "output_type": "execute_result"
    }
   ],
   "source": [
    "df_floor_space.Floor_space_merged.str.extract('(\\d+)').astype(float).describe()"
   ]
  },
  {
   "cell_type": "code",
   "execution_count": 154,
   "metadata": {},
   "outputs": [
    {
     "data": {
      "text/plain": [
       "2953"
      ]
     },
     "execution_count": 154,
     "metadata": {},
     "output_type": "execute_result"
    }
   ],
   "source": [
    "df_floor_space['floor_space'] = df_floor_space[floor_space[5]].fillna('') + \\\n",
    "  (df_floor_space[floor_space[4]]).fillna('')\n",
    "\n",
    "df_floor_space['floor_space'] = df_floor_space['floor_space'].replace('', np.nan)\n",
    "\n",
    "df_floor_space['floor_space'].count()"
   ]
  },
  {
   "cell_type": "code",
   "execution_count": 155,
   "metadata": {},
   "outputs": [
    {
     "data": {
      "text/plain": [
       "count    2953.000000\n",
       "mean      208.836776\n",
       "std       269.952305\n",
       "min         4.000000\n",
       "25%       107.000000\n",
       "50%       154.000000\n",
       "75%       243.000000\n",
       "max      7549.000000\n",
       "Name: floor_space, dtype: float64"
      ]
     },
     "execution_count": 155,
     "metadata": {},
     "output_type": "execute_result"
    }
   ],
   "source": [
    "df_floor_space['floor_space'] = df_floor_space.floor_space.str.extract('(\\d+)').astype(float)\n",
    "df_floor_space.drop(['Floor space', 'Nutzfläche', 'Surface utile', 'Superficie utile', 'detail_responsive#surface_usable', 'Floor_space_merged'], axis=1, inplace=True)\n",
    "df_floor_space.floor_space.describe()"
   ]
  },
  {
   "cell_type": "markdown",
   "metadata": {},
   "source": [
    "## Floor"
   ]
  },
  {
   "cell_type": "code",
   "execution_count": 156,
   "metadata": {},
   "outputs": [
    {
     "data": {
      "text/plain": [
       "Floor                      False\n",
       "Stockwerk                  False\n",
       "Étage                      False\n",
       "Piano                       True\n",
       "detail_responsive#floor    False\n",
       "dtype: bool"
      ]
     },
     "execution_count": 156,
     "metadata": {},
     "output_type": "execute_result"
    }
   ],
   "source": [
    "floor = ['Floor', 'Stockwerk', 'Étage', 'Piano', 'detail_responsive#floor', 'Floor_merged']\n",
    "df_floor = df.loc[:, floor]\n",
    "\n",
    "df_floor[floor[0:5]].count().cumsum() == df_floor[floor[5]].count()"
   ]
  },
  {
   "cell_type": "code",
   "execution_count": 244,
   "metadata": {},
   "outputs": [
    {
     "data": {
      "text/plain": [
       "13378"
      ]
     },
     "execution_count": 244,
     "metadata": {},
     "output_type": "execute_result"
    }
   ],
   "source": [
    "df_floor['floor'] = df_floor[floor[0]].fillna('') + \\\n",
    "  (df_floor[floor[1]]).fillna('') + \\\n",
    "  (df_floor[floor[2]]).fillna('') + \\\n",
    "  (df_floor[floor[3]]).fillna('')\n",
    "\n",
    "(df_floor['floor'] == df_floor[floor[5]].fillna('')).sum()"
   ]
  },
  {
   "cell_type": "code",
   "execution_count": 245,
   "metadata": {},
   "outputs": [
    {
     "data": {
      "text/plain": [
       "5414"
      ]
     },
     "execution_count": 245,
     "metadata": {},
     "output_type": "execute_result"
    }
   ],
   "source": [
    "# df_floor['floor'] = df_floor[floor[0]].fillna('') + \\\n",
    "#   (df_floor[floor[1]]).fillna('') + \\\n",
    "#   (df_floor[floor[2]]).fillna('') + \\\n",
    "#   (df_floor[floor[3]]).fillna('')\n",
    "\n",
    "df_floor[df_floor['floor'] != '']['floor'].count()"
   ]
  },
  {
   "cell_type": "code",
   "execution_count": 246,
   "metadata": {},
   "outputs": [
    {
     "data": {
      "text/plain": [
       "5620"
      ]
     },
     "execution_count": 246,
     "metadata": {},
     "output_type": "execute_result"
    }
   ],
   "source": [
    "df_floor['floor'] = df_floor[floor[5]].fillna('') + \\\n",
    "  (df_floor[floor[4]]).fillna('')\n",
    "\n",
    "df_floor['floor'] = df_floor['floor'].replace('', np.nan)\n",
    "\n",
    "df_floor['floor'].count()"
   ]
  },
  {
   "cell_type": "code",
   "execution_count": 248,
   "metadata": {},
   "outputs": [
    {
     "data": {
      "text/html": [
       "<div>\n",
       "<style scoped>\n",
       "    .dataframe tbody tr th:only-of-type {\n",
       "        vertical-align: middle;\n",
       "    }\n",
       "\n",
       "    .dataframe tbody tr th {\n",
       "        vertical-align: top;\n",
       "    }\n",
       "\n",
       "    .dataframe thead th {\n",
       "        text-align: right;\n",
       "    }\n",
       "</style>\n",
       "<table border=\"1\" class=\"dataframe\">\n",
       "  <thead>\n",
       "    <tr style=\"text-align: right;\">\n",
       "      <th></th>\n",
       "      <th>floor</th>\n",
       "    </tr>\n",
       "  </thead>\n",
       "  <tbody>\n",
       "    <tr>\n",
       "      <th>0</th>\n",
       "      <td>4. floor</td>\n",
       "    </tr>\n",
       "    <tr>\n",
       "      <th>1</th>\n",
       "      <td>NaN</td>\n",
       "    </tr>\n",
       "    <tr>\n",
       "      <th>2</th>\n",
       "      <td>2. floor</td>\n",
       "    </tr>\n",
       "    <tr>\n",
       "      <th>3</th>\n",
       "      <td>NaN</td>\n",
       "    </tr>\n",
       "    <tr>\n",
       "      <th>4</th>\n",
       "      <td>Ground floor</td>\n",
       "    </tr>\n",
       "    <tr>\n",
       "      <th>...</th>\n",
       "      <td>...</td>\n",
       "    </tr>\n",
       "    <tr>\n",
       "      <th>13373</th>\n",
       "      <td>NaN</td>\n",
       "    </tr>\n",
       "    <tr>\n",
       "      <th>13374</th>\n",
       "      <td>NaN</td>\n",
       "    </tr>\n",
       "    <tr>\n",
       "      <th>13375</th>\n",
       "      <td>NaN</td>\n",
       "    </tr>\n",
       "    <tr>\n",
       "      <th>13376</th>\n",
       "      <td>NaN</td>\n",
       "    </tr>\n",
       "    <tr>\n",
       "      <th>13377</th>\n",
       "      <td>NaN</td>\n",
       "    </tr>\n",
       "  </tbody>\n",
       "</table>\n",
       "<p>13378 rows × 1 columns</p>\n",
       "</div>"
      ],
      "text/plain": [
       "              floor\n",
       "0          4. floor\n",
       "1               NaN\n",
       "2          2. floor\n",
       "3               NaN\n",
       "4      Ground floor\n",
       "...             ...\n",
       "13373           NaN\n",
       "13374           NaN\n",
       "13375           NaN\n",
       "13376           NaN\n",
       "13377           NaN\n",
       "\n",
       "[13378 rows x 1 columns]"
      ]
     },
     "execution_count": 248,
     "metadata": {},
     "output_type": "execute_result"
    }
   ],
   "source": [
    "df_floor.drop(['Floor', 'Stockwerk', 'Étage', 'Piano', 'detail_responsive#floor', 'Floor_merged'], axis=1, inplace=True)\n",
    "def parse_floor(x):\n",
    "  if x != x:\n",
    "    return np.nan\n",
    "  elif x == 'Ground floor':\n",
    "    return 0\n",
    "  elif re.search('\\. floor', x):\n",
    "    return re.search('\\d+', x).group()\n",
    "  elif re.search('Basement', x):\n",
    "    return '-' + re.search('\\d+', x).group()\n",
    "\n",
    "\n",
    "df_floor['floor'] = df_floor['floor'].apply(parse_floor).astype(float)\n",
    "df_floor['floor'].unique()\n",
    "df_floor"
   ]
  },
  {
   "cell_type": "markdown",
   "metadata": {},
   "source": [
    "# Availability"
   ]
  },
  {
   "cell_type": "code",
   "execution_count": 249,
   "metadata": {},
   "outputs": [
    {
     "data": {
      "text/plain": [
       "Availability                        False\n",
       "Verfügbarkeit                       False\n",
       "Disponibilité                       False\n",
       "Disponibilità                        True\n",
       "detail_responsive#available_from    False\n",
       "dtype: bool"
      ]
     },
     "execution_count": 249,
     "metadata": {},
     "output_type": "execute_result"
    }
   ],
   "source": [
    "availability = ['Availability', 'Verfügbarkeit', 'Disponibilité', 'Disponibilità', 'detail_responsive#available_from',  'Availability_merged']\n",
    "df_availability = df.loc[:, availability]\n",
    "\n",
    "df_availability.iloc[:, 0:5].count().cumsum() == df_availability.iloc[:, 5].count()"
   ]
  },
  {
   "cell_type": "code",
   "execution_count": 250,
   "metadata": {},
   "outputs": [
    {
     "data": {
      "text/plain": [
       "13378"
      ]
     },
     "execution_count": 250,
     "metadata": {},
     "output_type": "execute_result"
    }
   ],
   "source": [
    "df_availability['availability'] = df_availability[availability[0]].fillna('') + \\\n",
    "  (df_availability[availability[1]]).fillna('') + \\\n",
    "  (df_availability[availability[2]]).fillna('') + \\\n",
    "  (df_availability[availability[3]]).fillna('')\n",
    "\n",
    "(df_availability['availability'] == df_availability[availability[5]].fillna('')).sum()"
   ]
  },
  {
   "cell_type": "code",
   "execution_count": 251,
   "metadata": {},
   "outputs": [
    {
     "data": {
      "text/plain": [
       "13378"
      ]
     },
     "execution_count": 251,
     "metadata": {},
     "output_type": "execute_result"
    }
   ],
   "source": [
    "df_availability['availability'] = df_availability[availability[5]].fillna('') + \\\n",
    "  (df_availability[availability[4]]).fillna('')\n",
    "\n",
    "df_availability['availability'] = df_availability['availability'].replace('', np.nan)\n",
    "\n",
    "df_availability['availability'].count()"
   ]
  },
  {
   "cell_type": "code",
   "execution_count": 253,
   "metadata": {},
   "outputs": [
    {
     "data": {
      "text/html": [
       "<div>\n",
       "<style scoped>\n",
       "    .dataframe tbody tr th:only-of-type {\n",
       "        vertical-align: middle;\n",
       "    }\n",
       "\n",
       "    .dataframe tbody tr th {\n",
       "        vertical-align: top;\n",
       "    }\n",
       "\n",
       "    .dataframe thead th {\n",
       "        text-align: right;\n",
       "    }\n",
       "</style>\n",
       "<table border=\"1\" class=\"dataframe\">\n",
       "  <thead>\n",
       "    <tr style=\"text-align: right;\">\n",
       "      <th></th>\n",
       "      <th>availability</th>\n",
       "    </tr>\n",
       "  </thead>\n",
       "  <tbody>\n",
       "    <tr>\n",
       "      <th>0</th>\n",
       "      <td>On request</td>\n",
       "    </tr>\n",
       "    <tr>\n",
       "      <th>1</th>\n",
       "      <td>On request</td>\n",
       "    </tr>\n",
       "    <tr>\n",
       "      <th>2</th>\n",
       "      <td>Immediately</td>\n",
       "    </tr>\n",
       "    <tr>\n",
       "      <th>3</th>\n",
       "      <td>On request</td>\n",
       "    </tr>\n",
       "    <tr>\n",
       "      <th>4</th>\n",
       "      <td>On request</td>\n",
       "    </tr>\n",
       "    <tr>\n",
       "      <th>...</th>\n",
       "      <td>...</td>\n",
       "    </tr>\n",
       "    <tr>\n",
       "      <th>13373</th>\n",
       "      <td>On request</td>\n",
       "    </tr>\n",
       "    <tr>\n",
       "      <th>13374</th>\n",
       "      <td>On request</td>\n",
       "    </tr>\n",
       "    <tr>\n",
       "      <th>13375</th>\n",
       "      <td>On request</td>\n",
       "    </tr>\n",
       "    <tr>\n",
       "      <th>13376</th>\n",
       "      <td>Immediately</td>\n",
       "    </tr>\n",
       "    <tr>\n",
       "      <th>13377</th>\n",
       "      <td>Immediately</td>\n",
       "    </tr>\n",
       "  </tbody>\n",
       "</table>\n",
       "<p>13378 rows × 1 columns</p>\n",
       "</div>"
      ],
      "text/plain": [
       "      availability\n",
       "0       On request\n",
       "1       On request\n",
       "2      Immediately\n",
       "3       On request\n",
       "4       On request\n",
       "...            ...\n",
       "13373   On request\n",
       "13374   On request\n",
       "13375   On request\n",
       "13376  Immediately\n",
       "13377  Immediately\n",
       "\n",
       "[13378 rows x 1 columns]"
      ]
     },
     "execution_count": 253,
     "metadata": {},
     "output_type": "execute_result"
    }
   ],
   "source": [
    "df_availability.drop(['Availability', 'Verfügbarkeit', 'Disponibilité', 'Disponibilità', 'detail_responsive#available_from', 'Availability_merged'], axis=1, inplace=True)\n",
    "df_availability"
   ]
  },
  {
   "cell_type": "markdown",
   "metadata": {},
   "source": [
    "# Gross return"
   ]
  },
  {
   "cell_type": "code",
   "execution_count": 213,
   "metadata": {},
   "outputs": [
    {
     "data": {
      "text/plain": [
       "array([nan, '0.00 %', '4.5 %'], dtype=object)"
      ]
     },
     "execution_count": 213,
     "metadata": {},
     "output_type": "execute_result"
    }
   ],
   "source": [
    "df['Gross return'].unique()"
   ]
  },
  {
   "cell_type": "code",
   "execution_count": 214,
   "metadata": {},
   "outputs": [
    {
     "data": {
      "text/plain": [
       "6"
      ]
     },
     "execution_count": 214,
     "metadata": {},
     "output_type": "execute_result"
    }
   ],
   "source": [
    "df['Gross return'].count()"
   ]
  },
  {
   "cell_type": "markdown",
   "metadata": {},
   "source": [
    "This column does not contain a whole lot of information, therefore we will not consider it for our analysis. "
   ]
  },
  {
   "cell_type": "markdown",
   "metadata": {},
   "source": [
    "# Price"
   ]
  },
  {
   "cell_type": "code",
   "execution_count": 265,
   "metadata": {},
   "outputs": [
    {
     "data": {
      "text/html": [
       "<div>\n",
       "<style scoped>\n",
       "    .dataframe tbody tr th:only-of-type {\n",
       "        vertical-align: middle;\n",
       "    }\n",
       "\n",
       "    .dataframe tbody tr th {\n",
       "        vertical-align: top;\n",
       "    }\n",
       "\n",
       "    .dataframe thead th {\n",
       "        text-align: right;\n",
       "    }\n",
       "</style>\n",
       "<table border=\"1\" class=\"dataframe\">\n",
       "  <thead>\n",
       "    <tr style=\"text-align: right;\">\n",
       "      <th></th>\n",
       "      <th>price</th>\n",
       "      <th>price_cleaned</th>\n",
       "      <th>description_price</th>\n",
       "    </tr>\n",
       "  </thead>\n",
       "  <tbody>\n",
       "    <tr>\n",
       "      <th>0</th>\n",
       "      <td>CHF 1,150,000.—</td>\n",
       "      <td>1150000.0</td>\n",
       "      <td>1,150,000.</td>\n",
       "    </tr>\n",
       "    <tr>\n",
       "      <th>1</th>\n",
       "      <td>CHF 1,420,000.—</td>\n",
       "      <td>1420000.0</td>\n",
       "      <td>1,420,000.</td>\n",
       "    </tr>\n",
       "    <tr>\n",
       "      <th>2</th>\n",
       "      <td>CHF 720,000.—</td>\n",
       "      <td>720000.0</td>\n",
       "      <td>720,000.</td>\n",
       "    </tr>\n",
       "    <tr>\n",
       "      <th>3</th>\n",
       "      <td>CHF 1,430,000.—</td>\n",
       "      <td>1430000.0</td>\n",
       "      <td>1,430,000.</td>\n",
       "    </tr>\n",
       "    <tr>\n",
       "      <th>4</th>\n",
       "      <td>CHF 995,000.—</td>\n",
       "      <td>995000.0</td>\n",
       "      <td>995,000.</td>\n",
       "    </tr>\n",
       "    <tr>\n",
       "      <th>...</th>\n",
       "      <td>...</td>\n",
       "      <td>...</td>\n",
       "      <td>...</td>\n",
       "    </tr>\n",
       "    <tr>\n",
       "      <th>13373</th>\n",
       "      <td>CHF 1,101,000.—</td>\n",
       "      <td>1101000.0</td>\n",
       "      <td>1,101,000.</td>\n",
       "    </tr>\n",
       "    <tr>\n",
       "      <th>13374</th>\n",
       "      <td>CHF 1,750,000.—</td>\n",
       "      <td>1750000.0</td>\n",
       "      <td>1,750,000.</td>\n",
       "    </tr>\n",
       "    <tr>\n",
       "      <th>13375</th>\n",
       "      <td>CHF 1,415,000.—</td>\n",
       "      <td>1415000.0</td>\n",
       "      <td>1,415,000.</td>\n",
       "    </tr>\n",
       "    <tr>\n",
       "      <th>13376</th>\n",
       "      <td>CHF 1,465,000.—</td>\n",
       "      <td>1465000.0</td>\n",
       "      <td>1,465,000.</td>\n",
       "    </tr>\n",
       "    <tr>\n",
       "      <th>13377</th>\n",
       "      <td>CHF 2,750,000.—</td>\n",
       "      <td>2750000.0</td>\n",
       "      <td>2,750,000.</td>\n",
       "    </tr>\n",
       "  </tbody>\n",
       "</table>\n",
       "<p>13378 rows × 3 columns</p>\n",
       "</div>"
      ],
      "text/plain": [
       "                 price  price_cleaned description_price\n",
       "0      CHF 1,150,000.—      1150000.0        1,150,000.\n",
       "1      CHF 1,420,000.—      1420000.0        1,420,000.\n",
       "2        CHF 720,000.—       720000.0          720,000.\n",
       "3      CHF 1,430,000.—      1430000.0        1,430,000.\n",
       "4        CHF 995,000.—       995000.0          995,000.\n",
       "...                ...            ...               ...\n",
       "13373  CHF 1,101,000.—      1101000.0        1,101,000.\n",
       "13374  CHF 1,750,000.—      1750000.0        1,750,000.\n",
       "13375  CHF 1,415,000.—      1415000.0        1,415,000.\n",
       "13376  CHF 1,465,000.—      1465000.0        1,465,000.\n",
       "13377  CHF 2,750,000.—      2750000.0        2,750,000.\n",
       "\n",
       "[13378 rows x 3 columns]"
      ]
     },
     "execution_count": 265,
     "metadata": {},
     "output_type": "execute_result"
    }
   ],
   "source": [
    "df_price"
   ]
  },
  {
   "cell_type": "code",
   "execution_count": 266,
   "metadata": {},
   "outputs": [
    {
     "data": {
      "text/plain": [
       "0        1150000.0\n",
       "1        1420000.0\n",
       "2         720000.0\n",
       "3        1430000.0\n",
       "4         995000.0\n",
       "           ...    \n",
       "13373    1101000.0\n",
       "13374    1750000.0\n",
       "13375    1415000.0\n",
       "13376    1465000.0\n",
       "13377    2750000.0\n",
       "Name: price, Length: 13378, dtype: float64"
      ]
     },
     "execution_count": 266,
     "metadata": {},
     "output_type": "execute_result"
    }
   ],
   "source": [
    "df_price['price'] = df_price['price'].str.extract('CHF ([\\d,]+)').replace(',', '', regex=True).astype(float)\n",
    "df_price['price'].describe()"
   ]
  },
  {
   "cell_type": "code",
   "execution_count": 267,
   "metadata": {},
   "outputs": [
    {
     "data": {
      "text/plain": [
       "0        1150000.0\n",
       "1        1420000.0\n",
       "2         720000.0\n",
       "3        1430000.0\n",
       "4         995000.0\n",
       "           ...    \n",
       "13373    1101000.0\n",
       "13374    1750000.0\n",
       "13375    1415000.0\n",
       "13376    1465000.0\n",
       "13377    2750000.0\n",
       "Name: description_price, Length: 13378, dtype: float64"
      ]
     },
     "execution_count": 267,
     "metadata": {},
     "output_type": "execute_result"
    }
   ],
   "source": [
    "df_price['description_price'] = df_price['description_price'].str.extract('([\\d,]+)').replace(',', '', regex=True).astype(float)\n",
    "df_price['description_price'].describe()"
   ]
  },
  {
   "cell_type": "code",
   "execution_count": 271,
   "metadata": {},
   "outputs": [
    {
     "data": {
      "text/plain": [
       "13378"
      ]
     },
     "execution_count": 271,
     "metadata": {},
     "output_type": "execute_result"
    }
   ],
   "source": [
    "(df_price['description_price'] == df_price['price']).count()"
   ]
  },
  {
   "cell_type": "code",
   "execution_count": 272,
   "metadata": {},
   "outputs": [
    {
     "data": {
      "text/plain": [
       "13378"
      ]
     },
     "execution_count": 272,
     "metadata": {},
     "output_type": "execute_result"
    }
   ],
   "source": [
    "(df_price['price'] == df_price['price_cleaned']).count()"
   ]
  },
  {
   "cell_type": "code",
   "execution_count": 273,
   "metadata": {},
   "outputs": [],
   "source": [
    "df_price.drop(['price_cleaned', 'description_price'], axis=1, inplace=True)"
   ]
  },
  {
   "cell_type": "markdown",
   "metadata": {},
   "source": [
    "# Function"
   ]
  },
  {
   "cell_type": "code",
   "execution_count": 286,
   "metadata": {},
   "outputs": [],
   "source": [
    "# def clean_integers(df):\n",
    "#   '''Cleans the following columns in a dataframe and removes unnecessary columns:\n",
    "#   - Living Space\n",
    "#   - Plot Area\n",
    "#   - Floor Space\n",
    "#   - Floor\n",
    "#   - Rooms\n",
    "#   - Price\n",
    "#   - Availability\n",
    "\n",
    "#   Args:\n",
    "#       df (pandas DataFrame): The .csv as dataframe\n",
    "#   '''\n",
    "#   def parse_floor(x):\n",
    "#     if x != x:\n",
    "#       return np.nan\n",
    "#     elif x == 'Ground floor':\n",
    "#       return 0\n",
    "#     elif re.search('\\. floor', x):\n",
    "#       return re.search('\\d+', x).group()\n",
    "#     elif re.search('Basement', x):\n",
    "#       return '-' + re.search('\\d+', x).group()\n",
    "\n",
    "#   col_names = df.columns.array\n",
    "#   col_names[0:2] = ['Index1', 'Index2']\n",
    "#   df.columns = col_names\n",
    "\n",
    "#   df_clean = pd.DataFrame()  \n",
    "\n",
    "#   # Merge columns\n",
    "#   ## Living Space\n",
    "#   df['living_space'] = df['Space extracted']\n",
    "#   df['details_ls'] = df['details'].str.extract(', (\\d+) m').astype(float)\n",
    "#   df.loc[df['details_ls'].notna() & df['living_space'].isna(), 'living_space'] = df.loc[df['details_ls'].notna() & df['living_space'].isna(), 'details_ls']\n",
    "#   df_clean['living_space'] = df['living_space'].astype(float)\n",
    "#   ## Rooms\n",
    "#   df_clean['rooms'] = df['details'].str.extract('(\\d+\\.?\\d?) rooms, ').astype(float)\n",
    "#   ## Plot Area\n",
    "#   df_clean['plot_area'] = df['Plot_area_merged'].fillna('') + \\\n",
    "#     df['detail_responsive#surface_property'].fillna('')\n",
    "#   ## Floor Space\n",
    "#   df_clean['floor_space'] = df['Floor_space_merged'].fillna('') + \\\n",
    "#     df['detail_responsive#surface_usable'].fillna('')\n",
    "#   ## FLoor\n",
    "#   df_clean['floor'] = df['Floor_merged'].fillna('') + \\\n",
    "#     df['detail_responsive#floor'].fillna('')\n",
    "#   ## Availability\n",
    "#   df_clean['availability'] = df['Availability_merged'].fillna('') + \\\n",
    "#     df['detail_responsive#available_from'].fillna('')\n",
    "#   ## Price\n",
    "#   df_clean['price'] = df['price_cleaned']\n",
    "\n",
    "#   # Parsing\n",
    "#   df_clean['plot_area'] = df_clean['plot_area'].replace('', np.nan).str.extract('(\\d+)').astype(float)\n",
    "#   df_clean['floor_space'] = df_clean['floor_space'].replace('', np.nan).str.extract('(\\d+)').astype(float)\n",
    "#   df_clean['floor'] = df_clean['floor'].replace('', np.nan).apply(parse_floor).astype(float)\n",
    "#   df_clean['availability'] = df_clean['availability'].replace('', np.nan)\n",
    "#   df_clean = df_clean.join(df.loc[:, 'ForestDensityL':'type'])\n",
    "#   df_clean.drop('price_cleaned', axis=1, inplace=True)\n",
    "\n",
    "#   return df_clean  "
   ]
  },
  {
   "cell_type": "code",
   "execution_count": 287,
   "metadata": {},
   "outputs": [
    {
     "data": {
      "text/html": [
       "<div>\n",
       "<style scoped>\n",
       "    .dataframe tbody tr th:only-of-type {\n",
       "        vertical-align: middle;\n",
       "    }\n",
       "\n",
       "    .dataframe tbody tr th {\n",
       "        vertical-align: top;\n",
       "    }\n",
       "\n",
       "    .dataframe thead th {\n",
       "        text-align: right;\n",
       "    }\n",
       "</style>\n",
       "<table border=\"1\" class=\"dataframe\">\n",
       "  <thead>\n",
       "    <tr style=\"text-align: right;\">\n",
       "      <th></th>\n",
       "      <th>living_space</th>\n",
       "      <th>rooms</th>\n",
       "      <th>plot_area</th>\n",
       "      <th>floor_space</th>\n",
       "      <th>floor</th>\n",
       "      <th>availability</th>\n",
       "      <th>price</th>\n",
       "      <th>ForestDensityL</th>\n",
       "      <th>ForestDensityM</th>\n",
       "      <th>ForestDensityS</th>\n",
       "      <th>Latitude</th>\n",
       "      <th>Locality</th>\n",
       "      <th>Longitude</th>\n",
       "      <th>NoisePollutionRailwayL</th>\n",
       "      <th>NoisePollutionRailwayM</th>\n",
       "      <th>NoisePollutionRailwayS</th>\n",
       "      <th>NoisePollutionRoadL</th>\n",
       "      <th>NoisePollutionRoadM</th>\n",
       "      <th>NoisePollutionRoadS</th>\n",
       "      <th>PopulationDensityL</th>\n",
       "      <th>PopulationDensityM</th>\n",
       "      <th>PopulationDensityS</th>\n",
       "      <th>RiversAndLakesL</th>\n",
       "      <th>RiversAndLakesM</th>\n",
       "      <th>RiversAndLakesS</th>\n",
       "      <th>WorkplaceDensityL</th>\n",
       "      <th>WorkplaceDensityM</th>\n",
       "      <th>WorkplaceDensityS</th>\n",
       "      <th>Zip</th>\n",
       "      <th>distanceToTrainStation</th>\n",
       "      <th>gde_area_agriculture_percentage</th>\n",
       "      <th>gde_area_forest_percentage</th>\n",
       "      <th>gde_area_nonproductive_percentage</th>\n",
       "      <th>gde_area_settlement_percentage</th>\n",
       "      <th>gde_average_house_hold</th>\n",
       "      <th>gde_empty_apartments</th>\n",
       "      <th>gde_foreigners_percentage</th>\n",
       "      <th>gde_new_homes_per_1000</th>\n",
       "      <th>gde_politics_bdp</th>\n",
       "      <th>gde_politics_cvp</th>\n",
       "      <th>gde_politics_evp</th>\n",
       "      <th>gde_politics_fdp</th>\n",
       "      <th>gde_politics_glp</th>\n",
       "      <th>gde_politics_gps</th>\n",
       "      <th>gde_politics_pda</th>\n",
       "      <th>gde_politics_rights</th>\n",
       "      <th>gde_politics_sp</th>\n",
       "      <th>gde_politics_svp</th>\n",
       "      <th>gde_pop_per_km2</th>\n",
       "      <th>gde_population</th>\n",
       "      <th>gde_private_apartments</th>\n",
       "      <th>gde_social_help_quota</th>\n",
       "      <th>gde_tax</th>\n",
       "      <th>gde_workers_sector1</th>\n",
       "      <th>gde_workers_sector2</th>\n",
       "      <th>gde_workers_sector3</th>\n",
       "      <th>gde_workers_total</th>\n",
       "      <th>type</th>\n",
       "    </tr>\n",
       "  </thead>\n",
       "  <tbody>\n",
       "    <tr>\n",
       "      <th>0</th>\n",
       "      <td>100.0</td>\n",
       "      <td>3.5</td>\n",
       "      <td>NaN</td>\n",
       "      <td>NaN</td>\n",
       "      <td>4.0</td>\n",
       "      <td>On request</td>\n",
       "      <td>1150000.0</td>\n",
       "      <td>0.511176</td>\n",
       "      <td>0.286451</td>\n",
       "      <td>0.090908</td>\n",
       "      <td>47.415927</td>\n",
       "      <td>Biberstein</td>\n",
       "      <td>8.085840</td>\n",
       "      <td>0.0</td>\n",
       "      <td>0.0</td>\n",
       "      <td>0.0</td>\n",
       "      <td>0.058298</td>\n",
       "      <td>0.067048</td>\n",
       "      <td>0.103850</td>\n",
       "      <td>0.092914</td>\n",
       "      <td>0.209530</td>\n",
       "      <td>0.366674</td>\n",
       "      <td>0.082170</td>\n",
       "      <td>0.001811</td>\n",
       "      <td>0.011871</td>\n",
       "      <td>0.030169</td>\n",
       "      <td>0.052120</td>\n",
       "      <td>0.098951</td>\n",
       "      <td>5023</td>\n",
       "      <td>3.038467</td>\n",
       "      <td>30.676329</td>\n",
       "      <td>51.449275</td>\n",
       "      <td>4.589372</td>\n",
       "      <td>13.285024</td>\n",
       "      <td>2.23</td>\n",
       "      <td>1.994681</td>\n",
       "      <td>9.255663</td>\n",
       "      <td>4.739336</td>\n",
       "      <td>5.873715</td>\n",
       "      <td>4.579662</td>\n",
       "      <td>3.359031</td>\n",
       "      <td>18.355360</td>\n",
       "      <td>6.057269</td>\n",
       "      <td>7.066814</td>\n",
       "      <td>NaN</td>\n",
       "      <td>0.220264</td>\n",
       "      <td>20.392805</td>\n",
       "      <td>30.809471</td>\n",
       "      <td>376.829268</td>\n",
       "      <td>1545.0</td>\n",
       "      <td>686.0</td>\n",
       "      <td>2.234259</td>\n",
       "      <td>5.89</td>\n",
       "      <td>14.0</td>\n",
       "      <td>9.0</td>\n",
       "      <td>308.0</td>\n",
       "      <td>331.0</td>\n",
       "      <td>penthouse</td>\n",
       "    </tr>\n",
       "    <tr>\n",
       "      <th>1</th>\n",
       "      <td>156.0</td>\n",
       "      <td>4.5</td>\n",
       "      <td>222.0</td>\n",
       "      <td>242.0</td>\n",
       "      <td>NaN</td>\n",
       "      <td>On request</td>\n",
       "      <td>1420000.0</td>\n",
       "      <td>0.511176</td>\n",
       "      <td>0.286451</td>\n",
       "      <td>0.090908</td>\n",
       "      <td>47.415927</td>\n",
       "      <td>Biberstein</td>\n",
       "      <td>8.085840</td>\n",
       "      <td>0.0</td>\n",
       "      <td>0.0</td>\n",
       "      <td>0.0</td>\n",
       "      <td>0.058298</td>\n",
       "      <td>0.067048</td>\n",
       "      <td>0.103850</td>\n",
       "      <td>0.092914</td>\n",
       "      <td>0.209530</td>\n",
       "      <td>0.366674</td>\n",
       "      <td>0.082170</td>\n",
       "      <td>0.001811</td>\n",
       "      <td>0.011871</td>\n",
       "      <td>0.030169</td>\n",
       "      <td>0.052120</td>\n",
       "      <td>0.098951</td>\n",
       "      <td>5023</td>\n",
       "      <td>3.038467</td>\n",
       "      <td>30.676329</td>\n",
       "      <td>51.449275</td>\n",
       "      <td>4.589372</td>\n",
       "      <td>13.285024</td>\n",
       "      <td>2.23</td>\n",
       "      <td>1.994681</td>\n",
       "      <td>9.255663</td>\n",
       "      <td>4.739336</td>\n",
       "      <td>5.873715</td>\n",
       "      <td>4.579662</td>\n",
       "      <td>3.359031</td>\n",
       "      <td>18.355360</td>\n",
       "      <td>6.057269</td>\n",
       "      <td>7.066814</td>\n",
       "      <td>NaN</td>\n",
       "      <td>0.220264</td>\n",
       "      <td>20.392805</td>\n",
       "      <td>30.809471</td>\n",
       "      <td>376.829268</td>\n",
       "      <td>1545.0</td>\n",
       "      <td>686.0</td>\n",
       "      <td>2.234259</td>\n",
       "      <td>5.89</td>\n",
       "      <td>14.0</td>\n",
       "      <td>9.0</td>\n",
       "      <td>308.0</td>\n",
       "      <td>331.0</td>\n",
       "      <td>terrace-house</td>\n",
       "    </tr>\n",
       "    <tr>\n",
       "      <th>2</th>\n",
       "      <td>93.0</td>\n",
       "      <td>2.5</td>\n",
       "      <td>NaN</td>\n",
       "      <td>NaN</td>\n",
       "      <td>2.0</td>\n",
       "      <td>Immediately</td>\n",
       "      <td>720000.0</td>\n",
       "      <td>0.163362</td>\n",
       "      <td>0.095877</td>\n",
       "      <td>0.001911</td>\n",
       "      <td>47.397416</td>\n",
       "      <td>Aarau</td>\n",
       "      <td>8.043150</td>\n",
       "      <td>0.0</td>\n",
       "      <td>0.0</td>\n",
       "      <td>0.0</td>\n",
       "      <td>0.334957</td>\n",
       "      <td>0.381257</td>\n",
       "      <td>0.297575</td>\n",
       "      <td>0.325887</td>\n",
       "      <td>0.393783</td>\n",
       "      <td>0.635194</td>\n",
       "      <td>0.154274</td>\n",
       "      <td>0.188229</td>\n",
       "      <td>0.000000</td>\n",
       "      <td>0.172646</td>\n",
       "      <td>0.163850</td>\n",
       "      <td>0.165830</td>\n",
       "      <td>5000</td>\n",
       "      <td>0.909587</td>\n",
       "      <td>11.354420</td>\n",
       "      <td>32.197891</td>\n",
       "      <td>7.137064</td>\n",
       "      <td>49.310624</td>\n",
       "      <td>2.01</td>\n",
       "      <td>2.023799</td>\n",
       "      <td>21.358623</td>\n",
       "      <td>3.814582</td>\n",
       "      <td>3.633134</td>\n",
       "      <td>5.324421</td>\n",
       "      <td>3.782202</td>\n",
       "      <td>18.089552</td>\n",
       "      <td>7.899807</td>\n",
       "      <td>8.851305</td>\n",
       "      <td>NaN</td>\n",
       "      <td>0.735032</td>\n",
       "      <td>26.515854</td>\n",
       "      <td>22.662290</td>\n",
       "      <td>1704.700162</td>\n",
       "      <td>21036.0</td>\n",
       "      <td>10149.0</td>\n",
       "      <td>3.549010</td>\n",
       "      <td>6.05</td>\n",
       "      <td>37.0</td>\n",
       "      <td>3092.0</td>\n",
       "      <td>30364.0</td>\n",
       "      <td>33493.0</td>\n",
       "      <td>penthouse</td>\n",
       "    </tr>\n",
       "    <tr>\n",
       "      <th>3</th>\n",
       "      <td>154.0</td>\n",
       "      <td>4.5</td>\n",
       "      <td>370.0</td>\n",
       "      <td>257.0</td>\n",
       "      <td>NaN</td>\n",
       "      <td>On request</td>\n",
       "      <td>1430000.0</td>\n",
       "      <td>0.511176</td>\n",
       "      <td>0.286451</td>\n",
       "      <td>0.090908</td>\n",
       "      <td>47.415927</td>\n",
       "      <td>Biberstein</td>\n",
       "      <td>8.085840</td>\n",
       "      <td>0.0</td>\n",
       "      <td>0.0</td>\n",
       "      <td>0.0</td>\n",
       "      <td>0.058298</td>\n",
       "      <td>0.067048</td>\n",
       "      <td>0.103850</td>\n",
       "      <td>0.092914</td>\n",
       "      <td>0.209530</td>\n",
       "      <td>0.366674</td>\n",
       "      <td>0.082170</td>\n",
       "      <td>0.001811</td>\n",
       "      <td>0.011871</td>\n",
       "      <td>0.030169</td>\n",
       "      <td>0.052120</td>\n",
       "      <td>0.098951</td>\n",
       "      <td>5023</td>\n",
       "      <td>3.038467</td>\n",
       "      <td>30.676329</td>\n",
       "      <td>51.449275</td>\n",
       "      <td>4.589372</td>\n",
       "      <td>13.285024</td>\n",
       "      <td>2.23</td>\n",
       "      <td>1.994681</td>\n",
       "      <td>9.255663</td>\n",
       "      <td>4.739336</td>\n",
       "      <td>5.873715</td>\n",
       "      <td>4.579662</td>\n",
       "      <td>3.359031</td>\n",
       "      <td>18.355360</td>\n",
       "      <td>6.057269</td>\n",
       "      <td>7.066814</td>\n",
       "      <td>NaN</td>\n",
       "      <td>0.220264</td>\n",
       "      <td>20.392805</td>\n",
       "      <td>30.809471</td>\n",
       "      <td>376.829268</td>\n",
       "      <td>1545.0</td>\n",
       "      <td>686.0</td>\n",
       "      <td>2.234259</td>\n",
       "      <td>5.89</td>\n",
       "      <td>14.0</td>\n",
       "      <td>9.0</td>\n",
       "      <td>308.0</td>\n",
       "      <td>331.0</td>\n",
       "      <td>detached-house</td>\n",
       "    </tr>\n",
       "    <tr>\n",
       "      <th>4</th>\n",
       "      <td>142.0</td>\n",
       "      <td>4.5</td>\n",
       "      <td>NaN</td>\n",
       "      <td>NaN</td>\n",
       "      <td>0.0</td>\n",
       "      <td>On request</td>\n",
       "      <td>995000.0</td>\n",
       "      <td>0.333865</td>\n",
       "      <td>0.279276</td>\n",
       "      <td>0.145835</td>\n",
       "      <td>47.404870</td>\n",
       "      <td>Rombach</td>\n",
       "      <td>8.052781</td>\n",
       "      <td>0.0</td>\n",
       "      <td>0.0</td>\n",
       "      <td>0.0</td>\n",
       "      <td>0.133498</td>\n",
       "      <td>0.132933</td>\n",
       "      <td>0.235917</td>\n",
       "      <td>0.190986</td>\n",
       "      <td>0.136984</td>\n",
       "      <td>0.204549</td>\n",
       "      <td>0.109586</td>\n",
       "      <td>0.141473</td>\n",
       "      <td>0.091805</td>\n",
       "      <td>0.046950</td>\n",
       "      <td>0.038008</td>\n",
       "      <td>0.055509</td>\n",
       "      <td>5022</td>\n",
       "      <td>1.460245</td>\n",
       "      <td>33.137090</td>\n",
       "      <td>49.705635</td>\n",
       "      <td>1.177460</td>\n",
       "      <td>15.979815</td>\n",
       "      <td>2.28</td>\n",
       "      <td>0.691563</td>\n",
       "      <td>15.901990</td>\n",
       "      <td>1.160862</td>\n",
       "      <td>5.217740</td>\n",
       "      <td>5.728026</td>\n",
       "      <td>5.006679</td>\n",
       "      <td>19.158429</td>\n",
       "      <td>6.502805</td>\n",
       "      <td>7.477959</td>\n",
       "      <td>NaN</td>\n",
       "      <td>0.892332</td>\n",
       "      <td>20.459524</td>\n",
       "      <td>27.590168</td>\n",
       "      <td>511.008403</td>\n",
       "      <td>6081.0</td>\n",
       "      <td>2638.0</td>\n",
       "      <td>1.708126</td>\n",
       "      <td>6.30</td>\n",
       "      <td>65.0</td>\n",
       "      <td>349.0</td>\n",
       "      <td>941.0</td>\n",
       "      <td>1355.0</td>\n",
       "      <td>flat</td>\n",
       "    </tr>\n",
       "  </tbody>\n",
       "</table>\n",
       "</div>"
      ],
      "text/plain": [
       "   living_space  rooms  plot_area  floor_space  floor availability      price  \\\n",
       "0         100.0    3.5        NaN          NaN    4.0   On request  1150000.0   \n",
       "1         156.0    4.5      222.0        242.0    NaN   On request  1420000.0   \n",
       "2          93.0    2.5        NaN          NaN    2.0  Immediately   720000.0   \n",
       "3         154.0    4.5      370.0        257.0    NaN   On request  1430000.0   \n",
       "4         142.0    4.5        NaN          NaN    0.0   On request   995000.0   \n",
       "\n",
       "   ForestDensityL  ForestDensityM  ForestDensityS   Latitude    Locality  \\\n",
       "0        0.511176        0.286451        0.090908  47.415927  Biberstein   \n",
       "1        0.511176        0.286451        0.090908  47.415927  Biberstein   \n",
       "2        0.163362        0.095877        0.001911  47.397416       Aarau   \n",
       "3        0.511176        0.286451        0.090908  47.415927  Biberstein   \n",
       "4        0.333865        0.279276        0.145835  47.404870     Rombach   \n",
       "\n",
       "   Longitude  NoisePollutionRailwayL  NoisePollutionRailwayM  \\\n",
       "0   8.085840                     0.0                     0.0   \n",
       "1   8.085840                     0.0                     0.0   \n",
       "2   8.043150                     0.0                     0.0   \n",
       "3   8.085840                     0.0                     0.0   \n",
       "4   8.052781                     0.0                     0.0   \n",
       "\n",
       "   NoisePollutionRailwayS  NoisePollutionRoadL  NoisePollutionRoadM  \\\n",
       "0                     0.0             0.058298             0.067048   \n",
       "1                     0.0             0.058298             0.067048   \n",
       "2                     0.0             0.334957             0.381257   \n",
       "3                     0.0             0.058298             0.067048   \n",
       "4                     0.0             0.133498             0.132933   \n",
       "\n",
       "   NoisePollutionRoadS  PopulationDensityL  PopulationDensityM  \\\n",
       "0             0.103850            0.092914            0.209530   \n",
       "1             0.103850            0.092914            0.209530   \n",
       "2             0.297575            0.325887            0.393783   \n",
       "3             0.103850            0.092914            0.209530   \n",
       "4             0.235917            0.190986            0.136984   \n",
       "\n",
       "   PopulationDensityS  RiversAndLakesL  RiversAndLakesM  RiversAndLakesS  \\\n",
       "0            0.366674         0.082170         0.001811         0.011871   \n",
       "1            0.366674         0.082170         0.001811         0.011871   \n",
       "2            0.635194         0.154274         0.188229         0.000000   \n",
       "3            0.366674         0.082170         0.001811         0.011871   \n",
       "4            0.204549         0.109586         0.141473         0.091805   \n",
       "\n",
       "   WorkplaceDensityL  WorkplaceDensityM  WorkplaceDensityS   Zip  \\\n",
       "0           0.030169           0.052120           0.098951  5023   \n",
       "1           0.030169           0.052120           0.098951  5023   \n",
       "2           0.172646           0.163850           0.165830  5000   \n",
       "3           0.030169           0.052120           0.098951  5023   \n",
       "4           0.046950           0.038008           0.055509  5022   \n",
       "\n",
       "   distanceToTrainStation  gde_area_agriculture_percentage  \\\n",
       "0                3.038467                        30.676329   \n",
       "1                3.038467                        30.676329   \n",
       "2                0.909587                        11.354420   \n",
       "3                3.038467                        30.676329   \n",
       "4                1.460245                        33.137090   \n",
       "\n",
       "   gde_area_forest_percentage  gde_area_nonproductive_percentage  \\\n",
       "0                   51.449275                           4.589372   \n",
       "1                   51.449275                           4.589372   \n",
       "2                   32.197891                           7.137064   \n",
       "3                   51.449275                           4.589372   \n",
       "4                   49.705635                           1.177460   \n",
       "\n",
       "   gde_area_settlement_percentage  gde_average_house_hold  \\\n",
       "0                       13.285024                    2.23   \n",
       "1                       13.285024                    2.23   \n",
       "2                       49.310624                    2.01   \n",
       "3                       13.285024                    2.23   \n",
       "4                       15.979815                    2.28   \n",
       "\n",
       "   gde_empty_apartments  gde_foreigners_percentage  gde_new_homes_per_1000  \\\n",
       "0              1.994681                   9.255663                4.739336   \n",
       "1              1.994681                   9.255663                4.739336   \n",
       "2              2.023799                  21.358623                3.814582   \n",
       "3              1.994681                   9.255663                4.739336   \n",
       "4              0.691563                  15.901990                1.160862   \n",
       "\n",
       "   gde_politics_bdp  gde_politics_cvp  gde_politics_evp  gde_politics_fdp  \\\n",
       "0          5.873715          4.579662          3.359031         18.355360   \n",
       "1          5.873715          4.579662          3.359031         18.355360   \n",
       "2          3.633134          5.324421          3.782202         18.089552   \n",
       "3          5.873715          4.579662          3.359031         18.355360   \n",
       "4          5.217740          5.728026          5.006679         19.158429   \n",
       "\n",
       "   gde_politics_glp  gde_politics_gps  gde_politics_pda  gde_politics_rights  \\\n",
       "0          6.057269          7.066814               NaN             0.220264   \n",
       "1          6.057269          7.066814               NaN             0.220264   \n",
       "2          7.899807          8.851305               NaN             0.735032   \n",
       "3          6.057269          7.066814               NaN             0.220264   \n",
       "4          6.502805          7.477959               NaN             0.892332   \n",
       "\n",
       "   gde_politics_sp  gde_politics_svp  gde_pop_per_km2  gde_population  \\\n",
       "0        20.392805         30.809471       376.829268          1545.0   \n",
       "1        20.392805         30.809471       376.829268          1545.0   \n",
       "2        26.515854         22.662290      1704.700162         21036.0   \n",
       "3        20.392805         30.809471       376.829268          1545.0   \n",
       "4        20.459524         27.590168       511.008403          6081.0   \n",
       "\n",
       "   gde_private_apartments  gde_social_help_quota  gde_tax  \\\n",
       "0                   686.0               2.234259     5.89   \n",
       "1                   686.0               2.234259     5.89   \n",
       "2                 10149.0               3.549010     6.05   \n",
       "3                   686.0               2.234259     5.89   \n",
       "4                  2638.0               1.708126     6.30   \n",
       "\n",
       "   gde_workers_sector1  gde_workers_sector2  gde_workers_sector3  \\\n",
       "0                 14.0                  9.0                308.0   \n",
       "1                 14.0                  9.0                308.0   \n",
       "2                 37.0               3092.0              30364.0   \n",
       "3                 14.0                  9.0                308.0   \n",
       "4                 65.0                349.0                941.0   \n",
       "\n",
       "   gde_workers_total            type  \n",
       "0              331.0       penthouse  \n",
       "1              331.0   terrace-house  \n",
       "2            33493.0       penthouse  \n",
       "3              331.0  detached-house  \n",
       "4             1355.0            flat  "
      ]
     },
     "execution_count": 287,
     "metadata": {},
     "output_type": "execute_result"
    }
   ],
   "source": [
    "# df_cleaned = clean_integers(pd.read_csv('../data/immoscout_cleaned_lat_lon_fixed_v9.csv', low_memory=False))\n",
    "# df_cleaned.head()"
   ]
  }
 ],
 "metadata": {
  "kernelspec": {
   "display_name": "Python 3.10.6 ('base')",
   "language": "python",
   "name": "python3"
  },
  "language_info": {
   "codemirror_mode": {
    "name": "ipython",
    "version": 3
   },
   "file_extension": ".py",
   "mimetype": "text/x-python",
   "name": "python",
   "nbconvert_exporter": "python",
   "pygments_lexer": "ipython3",
   "version": "3.10.6"
  },
  "orig_nbformat": 4,
  "vscode": {
   "interpreter": {
    "hash": "d4d1e4263499bec80672ea0156c357c1ee493ec2b1c70f0acce89fc37c4a6abe"
   }
  }
 },
 "nbformat": 4,
 "nbformat_minor": 2
}
