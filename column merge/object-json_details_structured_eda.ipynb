{
 "cells": [
  {
   "cell_type": "markdown",
   "metadata": {},
   "source": [
    "aus table und details_structured"
   ]
  },
  {
   "cell_type": "code",
   "execution_count": 1,
   "metadata": {},
   "outputs": [],
   "source": [
    "# Import Modules\n",
    "import pandas as pd\n",
    "import numpy as np\n",
    "import matplotlib.pyplot as plt\n",
    "import seaborn as sns"
   ]
  },
  {
   "cell_type": "code",
   "execution_count": 121,
   "metadata": {},
   "outputs": [
    {
     "name": "stderr",
     "output_type": "stream",
     "text": [
      "C:\\Users\\Si Ben Tran\\AppData\\Roaming\\Python\\Python39\\site-packages\\IPython\\core\\interactiveshell.py:3418: DtypeWarning: Columns (34) have mixed types.Specify dtype option on import or set low_memory=False.\n",
      "  exec(code_obj, self.user_global_ns, self.user_ns)\n"
     ]
    },
    {
     "data": {
      "text/html": [
       "<div>\n",
       "<style scoped>\n",
       "    .dataframe tbody tr th:only-of-type {\n",
       "        vertical-align: middle;\n",
       "    }\n",
       "\n",
       "    .dataframe tbody tr th {\n",
       "        vertical-align: top;\n",
       "    }\n",
       "\n",
       "    .dataframe thead th {\n",
       "        text-align: right;\n",
       "    }\n",
       "</style>\n",
       "<table border=\"1\" class=\"dataframe\">\n",
       "  <thead>\n",
       "    <tr style=\"text-align: right;\">\n",
       "      <th></th>\n",
       "      <th>details_structured</th>\n",
       "    </tr>\n",
       "  </thead>\n",
       "  <tbody>\n",
       "    <tr>\n",
       "      <th>0</th>\n",
       "      <td>{'Municipality': 'Biberstein', 'Living space':...</td>\n",
       "    </tr>\n",
       "    <tr>\n",
       "      <th>1</th>\n",
       "      <td>{'Municipality': 'Biberstein', 'Living space':...</td>\n",
       "    </tr>\n",
       "  </tbody>\n",
       "</table>\n",
       "</div>"
      ],
      "text/plain": [
       "                                  details_structured\n",
       "0  {'Municipality': 'Biberstein', 'Living space':...\n",
       "1  {'Municipality': 'Biberstein', 'Living space':..."
      ]
     },
     "execution_count": 121,
     "metadata": {},
     "output_type": "execute_result"
    }
   ],
   "source": [
    "# import DataFarme\n",
    "df = pd.read_csv(\"https://raw.githubusercontent.com/Immobilienrechner-Challenge/data/main/immoscout_cleaned_lat_lon_fixed_v9.csv\")\n",
    "\n",
    "# select the details_structured column\n",
    "df_structured = df[[\"details_structured\"]]\n",
    "\n",
    "# display column\n",
    "df_structured.head(2)\n"
   ]
  },
  {
   "cell_type": "code",
   "execution_count": 122,
   "metadata": {},
   "outputs": [
    {
     "name": "stderr",
     "output_type": "stream",
     "text": [
      "<ipython-input-122-a6351f749db1>:3: SettingWithCopyWarning: \n",
      "A value is trying to be set on a copy of a slice from a DataFrame.\n",
      "Try using .loc[row_indexer,col_indexer] = value instead\n",
      "\n",
      "See the caveats in the documentation: https://pandas.pydata.org/pandas-docs/stable/user_guide/indexing.html#returning-a-view-versus-a-copy\n",
      "  df_structured[\"details_structured\"] = (df_structured[\"details_structured\"].apply(eval))\n"
     ]
    },
    {
     "data": {
      "text/html": [
       "<div>\n",
       "<style scoped>\n",
       "    .dataframe tbody tr th:only-of-type {\n",
       "        vertical-align: middle;\n",
       "    }\n",
       "\n",
       "    .dataframe tbody tr th {\n",
       "        vertical-align: top;\n",
       "    }\n",
       "\n",
       "    .dataframe thead th {\n",
       "        text-align: right;\n",
       "    }\n",
       "</style>\n",
       "<table border=\"1\" class=\"dataframe\">\n",
       "  <thead>\n",
       "    <tr style=\"text-align: right;\">\n",
       "      <th></th>\n",
       "      <th>Municipality</th>\n",
       "      <th>Living space</th>\n",
       "      <th>Floor</th>\n",
       "      <th>Availability</th>\n",
       "      <th>location</th>\n",
       "      <th>description</th>\n",
       "      <th>detailed_description</th>\n",
       "      <th>url</th>\n",
       "      <th>table</th>\n",
       "      <th>Plot area</th>\n",
       "      <th>...</th>\n",
       "      <th>Comune</th>\n",
       "      <th>Superficie abitabile</th>\n",
       "      <th>Disponibilità</th>\n",
       "      <th>Stockwerk</th>\n",
       "      <th>Gross return</th>\n",
       "      <th>Surface du terrain</th>\n",
       "      <th>Surface utile</th>\n",
       "      <th>Superficie del terreno</th>\n",
       "      <th>Superficie utile</th>\n",
       "      <th>Piano</th>\n",
       "    </tr>\n",
       "  </thead>\n",
       "  <tbody>\n",
       "    <tr>\n",
       "      <th>0</th>\n",
       "      <td>Biberstein</td>\n",
       "      <td>100 m²</td>\n",
       "      <td>4. floor</td>\n",
       "      <td>On request</td>\n",
       "      <td>5023 Biberstein, AG</td>\n",
       "      <td>3.5 rooms, 100 m²«Luxuriöse Attika-Wohnung mit...</td>\n",
       "      <td>DescriptionLuxuriöse Attika-Wohnung direkt an ...</td>\n",
       "      <td>https://www.immoscout24.ch//en/d/penthouse-buy...</td>\n",
       "      <td>b'&lt;article class=\"Box-cYFBPY hKrxoH\"&gt;&lt;h2 class...</td>\n",
       "      <td>NaN</td>\n",
       "      <td>...</td>\n",
       "      <td>NaN</td>\n",
       "      <td>NaN</td>\n",
       "      <td>NaN</td>\n",
       "      <td>NaN</td>\n",
       "      <td>NaN</td>\n",
       "      <td>NaN</td>\n",
       "      <td>NaN</td>\n",
       "      <td>NaN</td>\n",
       "      <td>NaN</td>\n",
       "      <td>NaN</td>\n",
       "    </tr>\n",
       "    <tr>\n",
       "      <th>1</th>\n",
       "      <td>Biberstein</td>\n",
       "      <td>156 m²</td>\n",
       "      <td>NaN</td>\n",
       "      <td>On request</td>\n",
       "      <td>Buhldenstrasse 8d5023 Biberstein, AG</td>\n",
       "      <td>4.5 rooms, 156 m²«Stilvolle Liegenschaft - ruh...</td>\n",
       "      <td>DescriptionStilvolle Liegenschaft an ruhiger L...</td>\n",
       "      <td>https://www.immoscout24.ch//en/d/terrace-house...</td>\n",
       "      <td>b'&lt;article class=\"Box-cYFBPY hKrxoH\"&gt;&lt;h2 class...</td>\n",
       "      <td>222 m²</td>\n",
       "      <td>...</td>\n",
       "      <td>NaN</td>\n",
       "      <td>NaN</td>\n",
       "      <td>NaN</td>\n",
       "      <td>NaN</td>\n",
       "      <td>NaN</td>\n",
       "      <td>NaN</td>\n",
       "      <td>NaN</td>\n",
       "      <td>NaN</td>\n",
       "      <td>NaN</td>\n",
       "      <td>NaN</td>\n",
       "    </tr>\n",
       "  </tbody>\n",
       "</table>\n",
       "<p>2 rows × 36 columns</p>\n",
       "</div>"
      ],
      "text/plain": [
       "  Municipality Living space     Floor Availability  \\\n",
       "0   Biberstein       100 m²  4. floor   On request   \n",
       "1   Biberstein       156 m²       NaN   On request   \n",
       "\n",
       "                               location  \\\n",
       "0                   5023 Biberstein, AG   \n",
       "1  Buhldenstrasse 8d5023 Biberstein, AG   \n",
       "\n",
       "                                         description  \\\n",
       "0  3.5 rooms, 100 m²«Luxuriöse Attika-Wohnung mit...   \n",
       "1  4.5 rooms, 156 m²«Stilvolle Liegenschaft - ruh...   \n",
       "\n",
       "                                detailed_description  \\\n",
       "0  DescriptionLuxuriöse Attika-Wohnung direkt an ...   \n",
       "1  DescriptionStilvolle Liegenschaft an ruhiger L...   \n",
       "\n",
       "                                                 url  \\\n",
       "0  https://www.immoscout24.ch//en/d/penthouse-buy...   \n",
       "1  https://www.immoscout24.ch//en/d/terrace-house...   \n",
       "\n",
       "                                               table Plot area  ... Comune  \\\n",
       "0  b'<article class=\"Box-cYFBPY hKrxoH\"><h2 class...       NaN  ...    NaN   \n",
       "1  b'<article class=\"Box-cYFBPY hKrxoH\"><h2 class...    222 m²  ...    NaN   \n",
       "\n",
       "  Superficie abitabile Disponibilità Stockwerk Gross return  \\\n",
       "0                  NaN           NaN       NaN          NaN   \n",
       "1                  NaN           NaN       NaN          NaN   \n",
       "\n",
       "  Surface du terrain Surface utile Superficie del terreno Superficie utile  \\\n",
       "0                NaN           NaN                    NaN              NaN   \n",
       "1                NaN           NaN                    NaN              NaN   \n",
       "\n",
       "  Piano  \n",
       "0   NaN  \n",
       "1   NaN  \n",
       "\n",
       "[2 rows x 36 columns]"
      ]
     },
     "execution_count": 122,
     "metadata": {},
     "output_type": "execute_result"
    }
   ],
   "source": [
    "# Gabus Magic\n",
    "import json\n",
    "df_structured[\"details_structured\"] = (df_structured[\"details_structured\"].apply(eval))\n",
    "\n",
    "df_structured = pd.json_normalize(df_structured[\"details_structured\"])\n",
    "\n",
    "# display column\n",
    "df_structured.head(2)"
   ]
  },
  {
   "cell_type": "markdown",
   "metadata": {},
   "source": [
    "## Municiplatiy check"
   ]
  },
  {
   "cell_type": "code",
   "execution_count": 127,
   "metadata": {},
   "outputs": [
    {
     "data": {
      "text/plain": [
       "True"
      ]
     },
     "execution_count": 127,
     "metadata": {},
     "output_type": "execute_result"
    }
   ],
   "source": [
    "df_structured[\"Municipality\"].isna().sum() == df[\"Municipality\"].isna().sum()"
   ]
  },
  {
   "cell_type": "markdown",
   "metadata": {},
   "source": [
    "Municipality from details_structured doesnt add more information than our normal DataFrame"
   ]
  },
  {
   "cell_type": "markdown",
   "metadata": {},
   "source": [
    "## Living Space Check"
   ]
  },
  {
   "cell_type": "code",
   "execution_count": 153,
   "metadata": {},
   "outputs": [
    {
     "name": "stdout",
     "output_type": "stream",
     "text": [
      "True    13378\n",
      "Name: Living space, dtype: int64\n",
      "(13378,)\n"
     ]
    }
   ],
   "source": [
    "living_space = [\"Living space\", \"Wohnfläche\", \"Surface habitable\", \"Superficie abitabile\", \"detail_responsive#surface_living\", \"Living_space_merged\"]\n",
    "df_structured[\"Living space\"].isna().sum() == df[\"Living_space_merged\"].isna().sum()\n",
    "\n",
    "# check the number of common values in df_structured[\"Living space\"] and df[\"Living_space_merged\"]\n",
    "print(df_structured[\"Living space\"].isin(df[\"Living_space_merged\"]).value_counts())\n",
    "\n",
    "#  True = numbers of common values \n",
    "#  False = numbers of not common values\n",
    "\n",
    "# print shape of df_structured[\"Living space\"]\n",
    "print(df_structured[\"Living space\"].shape)\n"
   ]
  },
  {
   "cell_type": "markdown",
   "metadata": {},
   "source": [
    "Living space from details_structured doesnt add more information than our normal DataFrame"
   ]
  },
  {
   "cell_type": "markdown",
   "metadata": {},
   "source": [
    "## Comparing every columns \n",
    " \n",
    "Fernando probably extracted the details_structured and added them to our given DataFrame.\n",
    "So we can try to select all those columns and compare the if the Na of both columns are the same"
   ]
  },
  {
   "cell_type": "code",
   "execution_count": 164,
   "metadata": {},
   "outputs": [
    {
     "data": {
      "text/plain": [
       "Municipality                          True\n",
       "Living space                          True\n",
       "Floor                                 True\n",
       "Availability                          True\n",
       "location                              True\n",
       "description                           True\n",
       "detailed_description                  True\n",
       "url                                   True\n",
       "table                                 True\n",
       "Plot area                             True\n",
       "Floor space                           True\n",
       "detail_responsive#municipality        True\n",
       "detail_responsive#surface_living      True\n",
       "detail_responsive#floor               True\n",
       "detail_responsive#available_from      True\n",
       "Gemeinde                              True\n",
       "Wohnfläche                            True\n",
       "Nutzfläche                            True\n",
       "Verfügbarkeit                         True\n",
       "Grundstücksfläche                     True\n",
       "detail_responsive#surface_property    True\n",
       "detail_responsive#surface_usable      True\n",
       "Commune                               True\n",
       "Surface habitable                     True\n",
       "Étage                                 True\n",
       "Disponibilité                         True\n",
       "Comune                                True\n",
       "Superficie abitabile                  True\n",
       "Disponibilità                         True\n",
       "Stockwerk                             True\n",
       "Gross return                          True\n",
       "Surface du terrain                    True\n",
       "Surface utile                         True\n",
       "Superficie del terreno                True\n",
       "Superficie utile                      True\n",
       "Piano                                 True\n",
       "dtype: bool"
      ]
     },
     "execution_count": 164,
     "metadata": {},
     "output_type": "execute_result"
    }
   ],
   "source": [
    "# Display everything\n",
    "df_comparing = df_structured.isna().sum() == df[df_structured.columns].isna().sum()\n",
    "df_comparing"
   ]
  }
 ],
 "metadata": {
  "kernelspec": {
   "display_name": "Python 3.9.7 64-bit",
   "language": "python",
   "name": "python3"
  },
  "language_info": {
   "codemirror_mode": {
    "name": "ipython",
    "version": 3
   },
   "file_extension": ".py",
   "mimetype": "text/x-python",
   "name": "python",
   "nbconvert_exporter": "python",
   "pygments_lexer": "ipython3",
   "version": "3.9.7"
  },
  "orig_nbformat": 4,
  "vscode": {
   "interpreter": {
    "hash": "11938c6bc6919ae2720b4d5011047913343b08a43b18698fd82dedb0d4417594"
   }
  }
 },
 "nbformat": 4,
 "nbformat_minor": 2
}
