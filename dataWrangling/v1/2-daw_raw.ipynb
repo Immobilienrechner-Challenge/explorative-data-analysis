{
 "cells": [
  {
   "attachments": {},
   "cell_type": "markdown",
   "metadata": {},
   "source": [
    "# Purpose\n",
    "This notebooks explores what information can be extracted from the following columns:\n",
    "- `description`\n",
    "- `detailed_description`\n",
    "- `table`\n",
    "- `details_structured` and   \n",
    "- `details`"
   ]
  },
  {
   "attachments": {},
   "cell_type": "markdown",
   "metadata": {},
   "source": [
    "# Summary\n",
    "| Column        | Contains information on |\n",
    "| ------------- | ----------------------- |\n",
    "| `description` | `Rooms`, `Living Space` and `Price` |\n",
    "| `detailed_description` | No way to extract data in a structured way |\n",
    "| `table`  | `Availability`, `Municipality`, `Floor`, `Floor Space`, `Gross Return`, `Plot Area` and `Living Space` |\n",
    "| `details_structured` |`Availability`, `Municipality`, `Floor`, `Floor Space`, `Gross Return`, `Plot Area`, `Living Space`, `Price`, `Rooms` |\n",
    "| `details` | `Living Space` and `Rooms` |"
   ]
  },
  {
   "cell_type": "code",
   "execution_count": 1,
   "metadata": {},
   "outputs": [],
   "source": [
    "# Import libraries\n",
    "import pandas as pd\n",
    "import numpy as np\n",
    "import re\n"
   ]
  },
  {
   "cell_type": "code",
   "execution_count": 2,
   "metadata": {},
   "outputs": [],
   "source": [
    "# Set display options\n",
    "pd.set_option(\n",
    "    \"display.max_columns\", None, \"display.max_rows\", 100, \"display.max_colwidth\", None\n",
    ")\n"
   ]
  },
  {
   "cell_type": "code",
   "execution_count": 3,
   "metadata": {},
   "outputs": [],
   "source": [
    "# Read Data\n",
    "df = pd.read_csv(\n",
    "    \"https://raw.githubusercontent.com/Immobilienrechner-Challenge/data/main/immo_data_202208.csv\",\n",
    "    low_memory=False,\n",
    ")\n"
   ]
  },
  {
   "attachments": {},
   "cell_type": "markdown",
   "metadata": {},
   "source": [
    "# Description\n",
    "Let's look at the `value_counts()` to get an idea about the information contained in the `description` column "
   ]
  },
  {
   "cell_type": "code",
   "execution_count": 4,
   "metadata": {},
   "outputs": [
    {
     "data": {
      "text/plain": [
       "4.5 rooms, 153 m²«Duplex dans les combles avec 2 terrasses !»CHF 686,700.—Favourite                                                                               4\n",
       "3.5 rooms, 98 m²«Belle promotion Minergie de 22 appartements au calme ! Du 2.5 pces au 4.5 pces !»CHF 495,000.—Favourite                                          4\n",
       "5.5 rooms, 153 m²«####Les Vergers d Ollon#### à Ollon VD Magnifique Villa Mitoyenne avec un grand jardin d environ 1 000 m2 à vendre»CHF 1,260,000.—Favourite     4\n",
       "5.5 rooms, 170 m²«NOUVELLE PROMOTION»CHF 1,795,000.—Favourite                                                                                                     4\n",
       "2.5 rooms, 82 m²«Quartier Saint-Michel Appartement 2.5 pces au 3e»CHF 492,000.—Favourite                                                                          3\n",
       "                                                                                                                                                                 ..\n",
       "3.5 rooms, 101 m²«LES 3 DERNIÈRES MAISONS DISPONIBLE»CHF 316,000.—Favourite                                                                                       1\n",
       "4.5 rooms, 115 m²«Maison atypique en ville historique de Porrentruy.»CHF 395,000.—Favourite                                                                       1\n",
       "6.5 rooms, 367 m²«Très jolie maison avec grand terrain et beaucoup de potentiel»CHF 595,000.—Favourite                                                            1\n",
       "4.5 rooms«4.5-Zimmer-Wohnung | Schachenweid»CHF 790,000.—FavouriteNew building projectThis property is part of the project ####Schachenweid####.To the project    1\n",
       "7.5 rooms, 385 m²«Wohnen an ruhiger, sonniger Wohnlage mit bester Aussicht»CHF 2,750,000.—Favourite                                                               1\n",
       "Name: description, Length: 13167, dtype: int64"
      ]
     },
     "execution_count": 4,
     "metadata": {},
     "output_type": "execute_result"
    }
   ],
   "source": [
    "df[\"description\"].value_counts()\n"
   ]
  },
  {
   "attachments": {},
   "cell_type": "markdown",
   "metadata": {},
   "source": [
    "Two things immediately stand out:\n",
    "- The same description has been recorded multiple times for different objects.\n",
    "- There seems to be a distinctive pattern in the data contained in the `description`-column.  \n",
    "\n",
    "Since we cannot inspect every column manually we built a regex matching group to check if the structure of the data is consistent in all observations."
   ]
  },
  {
   "cell_type": "code",
   "execution_count": 5,
   "metadata": {},
   "outputs": [
    {
     "data": {
      "text/plain": [
       "13378"
      ]
     },
     "execution_count": 5,
     "metadata": {},
     "output_type": "execute_result"
    }
   ],
   "source": [
    "df[\"description\"].count()\n"
   ]
  },
  {
   "cell_type": "code",
   "execution_count": 6,
   "metadata": {},
   "outputs": [
    {
     "data": {
      "text/plain": [
       "11201"
      ]
     },
     "execution_count": 6,
     "metadata": {},
     "output_type": "execute_result"
    }
   ],
   "source": [
    "description_pattern = \"\\d+\\.?\\d? *rooms,? *\\d+ *m² *«.+» *CHF *[\\d,]+\\.\"\n",
    "df[\"description\"].str.contains(description_pattern).sum()\n"
   ]
  },
  {
   "attachments": {},
   "cell_type": "markdown",
   "metadata": {},
   "source": [
    "The column 'description' contains information for every observation in the dataset. 11201 of which follow the defined structure. What about the rest?"
   ]
  },
  {
   "cell_type": "code",
   "execution_count": 7,
   "metadata": {},
   "outputs": [
    {
     "data": {
      "text/plain": [
       "2177"
      ]
     },
     "execution_count": 7,
     "metadata": {},
     "output_type": "execute_result"
    }
   ],
   "source": [
    "is_structured = df[\"description\"].str.contains(description_pattern)\n",
    "not_structured = is_structured[is_structured == False]\n",
    "not_structured.count()\n"
   ]
  },
  {
   "cell_type": "code",
   "execution_count": 8,
   "metadata": {},
   "outputs": [
    {
     "data": {
      "text/plain": [
       "7                                                       4.5 rooms«Preishit! Grossräumige Wohnung mitten in Aarau»CHF 590,000.—Favourite\n",
       "15                        258 m²«Mehrgenerationenhaus mit grossem Garten oder Anlageimmobilie? Sie entscheiden»CHF 1,580,000.—Favourite\n",
       "21                                                    4.5 rooms, 236 m²«Terrassenhaus mit malerischer Weitsicht»Price on requestFavorit\n",
       "22    167 m²«EFH 6.5 davon 1 Zi-Studio (Büro / Praxis), Garten Terrasse mit Aussicht, Nähe Schule, Einkauf, ÖV»CHF 1,095,000.—Favourite\n",
       "33                        258 m²«Mehrgenerationenhaus mit grossem Garten oder Anlageimmobilie? Sie entscheiden»CHF 1,580,000.—Favourite\n",
       "35                                                      4.5 rooms«Preishit! Grossräumige Wohnung mitten in Aarau»CHF 590,000.—Favourite\n",
       "41                                                  4.5 rooms, 150 m²«####Two in One#### mit Einliegerwohnung»Price on requestFavourite\n",
       "44       7.5 rooms, 216 m²«Verzauberndes Generationenhaus mit wunderbarer Aussicht ins Grüne»Price on requestdetail_responsive#bookmark\n",
       "45                                  5 rooms, 104 m²«#### Top Einfamilienhaus eingebettet in grüner Idylle####»Price on requestFavourite\n",
       "52                                                             5.5 rooms, 160 m²«FAMILIENGLÜCK MIT VIEL PLATZ»Price on requestFavourite\n",
       "Name: description, dtype: object"
      ]
     },
     "execution_count": 8,
     "metadata": {},
     "output_type": "execute_result"
    }
   ],
   "source": [
    "df.iloc[not_structured.index][\"description\"].head(10)\n"
   ]
  },
  {
   "attachments": {},
   "cell_type": "markdown",
   "metadata": {},
   "source": [
    "So not every row of `description` contains complete information about the rooms, living space and price."
   ]
  },
  {
   "attachments": {},
   "cell_type": "markdown",
   "metadata": {},
   "source": [
    "## Living Space"
   ]
  },
  {
   "cell_type": "code",
   "execution_count": 9,
   "metadata": {},
   "outputs": [
    {
     "data": {
      "text/plain": [
       "12308"
      ]
     },
     "execution_count": 9,
     "metadata": {},
     "output_type": "execute_result"
    }
   ],
   "source": [
    "df[\"description\"].str.contains(\"\\d *m²\", flags=re.IGNORECASE).sum()\n"
   ]
  },
  {
   "attachments": {},
   "cell_type": "markdown",
   "metadata": {},
   "source": [
    "## Price"
   ]
  },
  {
   "cell_type": "code",
   "execution_count": 10,
   "metadata": {},
   "outputs": [
    {
     "data": {
      "text/plain": [
       "12363"
      ]
     },
     "execution_count": 10,
     "metadata": {},
     "output_type": "execute_result"
    }
   ],
   "source": [
    "df[\"description\"].str.contains(\"CHF\", flags=re.IGNORECASE).sum()\n"
   ]
  },
  {
   "attachments": {},
   "cell_type": "markdown",
   "metadata": {},
   "source": [
    "## Rooms"
   ]
  },
  {
   "cell_type": "code",
   "execution_count": 11,
   "metadata": {},
   "outputs": [
    {
     "data": {
      "text/plain": [
       "12799"
      ]
     },
     "execution_count": 11,
     "metadata": {},
     "output_type": "execute_result"
    }
   ],
   "source": [
    "df[\"description\"].str.contains(\"\\d *rooms\", flags=re.IGNORECASE).sum()\n"
   ]
  },
  {
   "attachments": {},
   "cell_type": "markdown",
   "metadata": {},
   "source": [
    "# Detailed Description"
   ]
  },
  {
   "cell_type": "code",
   "execution_count": 12,
   "metadata": {},
   "outputs": [
    {
     "data": {
      "text/plain": [
       "Extract from the debt collection registerIn a few days by e-mail and by post at your home. Per invoice, for CHF 29.–Order the extract                                                                                                                                                                                                                                                                                                                                                                                                                                                                                                                                                                                                                                                                                                                                                                                                                                                                                                                                                                                                                                                                                                                                                                                                                                                                                                                                                                                                                                                                                                                                                                                                                                                                                                                                                                                                                                                                                                                                                                                                                                                                                                                                                                                                                                                                                                                                                                                                                                                                                                                                                                                                                                                                                                                                                                                                                                                                                                                                                                                                                                                                                                                                                                         41\n",
       "DescriptionWillkommen im Chürzi-ParkIm Quartier am Sonnenhang von Gelterkinden heissen Sie bald die Eigentumswohnungen ####Chürzi-Park#### willkommen. Hier entstehen grosszügige Wohnungen welche durch einen zeitlosen Stil und edle Materialisierung brillieren. Abgesehen von technischen Highlights wie der Tiefgarage mit zwei Autoliften ist im ####Chürzi-Park#### vor allem der Bezug zur Natur zu spüren. Die Erdgeschosswohnungen haben alle einen grossen Garten und für jede Wohnung ist Weitsicht in die grüne Hügellandschaft um Gelterkinden garantiert! Der ####Chürzi-Park#### entspricht den neuesten bautechnischen Ansprüchen und bietet trotz verdichteter Bauweise genügend Freiraum und Rückzugsmöglichkeit für ein angenehmes Zuhause.Wohnen, wohlfühlen, leben!Übersicht ProjektDas Projekt Chürzi-Park umfasst drei Gebäude mit je fünf Wohnungen an sonniger Lage in Gelterkinden.Die Erschliessung erfolgt über den ####Oberen Chürziweg#### Nebst Besucherparkplätzen befinden sich dort auch die Haupteingänge zu den Häusern sowie die Einstellhallenzufahrt via Autolift. Die Einstellhalle erstreckt sich unter dem gesamten ####Chürzi-Park#### und bietet jedem Eigentümer mindestens 2 Parkplätze.Zwischen den Gebäuden befinden sich Freizeitflächen mit Sitzgelegenheiten und Bepflanzung die zum Verweilen einlädt.Im Erd- und Obergeschoss befinden sich jeweils eine 3.5- und eine 4.5-Zimmer Wohnung. Die Wohnungen verfügen über einen grosszügigen Sitzplatz bzw. Loggia, welche durch eine Verglasung auch vor Regen und Wind geschützt ist. Auf dem gesamten Attikageschoss erstreckt sich eine luxuriöse 6.5-Zimmer Wohnung mit Terrasse über die ganze Gebäudelänge.Ein Autoeinstellplatz in der Tiefgarage ist im Kaufpreis inbegriffen. Zusätzlich kann ein weiterer Einstellplatz für CHF 38 000.00 erworben werden.Dieses Objekt können Sie per Videoanruf besichtigen.                                                                                                                                                                                                                                                                                                                                                                                                                                                                                                                                                                                                                                                                                                                                                                                                                                                                                                                                                                                                                                                                                                                                                                                                                                                                                                                                                                                  15\n",
       "DescriptionDie Überbauung ####Eichgarten#### in Pfeffikon Luzern, umfasst 15 Hauseinheiten mit eigenem Grundstück und einer Architektur die in diesem Preissegment seinesgleichen sucht! Wir haben uns zum Ziel gesetz, den Eigentümern dieser Häuser all das zu bieten, was ein Haus im anspruchsvollen Jahr 2022 bieten muss:massive Bauweise die auch zu einem späteren Zeitpunkt Ihren Bedürfnissen angepasst werden kannhochwertiger InnenausbauPhotovoltaikanlageTiefgarage für komplette Überbauung mit direktem HauszugangEigene Wärmepumpe mit Erdwärmegrosszügige Budgetpositionenund vieles mehr!!Der Baustart ist per Oktober / November 2022 geplant und im Juni 2024 können die Häuser bezogen werden. Sie entscheiden mitteils grosszügiger Budgetpositionen wie Ihr zukünftiges Haus aussehen wird. Ein professionelles Innenarchitektur Team unterstützt Sie bei bedarf gerne bei der Auswahl der Materialien. Das Innenleben wird nach Ihrem ####Gusto#### bemustert.Ganz nach dem Prinzip ####first come, first serve#### veräussert DK Homes & Investments ohne Bieterverfahren. Beeilen Sie sich und ergattern Sie eine der begehrten Häuser!Es het solangs het!                                                                                                                                                                                                                                                                                                                                                                                                                                                                                                                                                                                                                                                                                                                                                                                                                                                                                                                                                                                                                                                                                                                                                                                                                                                                                                                                                                                                                                                                                                                                                                                                                                                                                                                                                                                                                                                                                                                                                                                                                                                                                                                         13\n",
       "DescriptionMagnifiques logements du studio au 4.5 pces, jouissant d espaces lumineux dans un cadre champêtre et offrant le confort d une habitation contemporaine et chaleureuse.Des places de parc intérieures et extérieures sont à disposition (en sus).Début des travaux : automne 2022                                                                                                                                                                                                                                                                                                                                                                                                                                                                                                                                                                                                                                                                                                                                                                                                                                                                                                                                                                                                                                                                                                                                                                                                                                                                                                                                                                                                                                                                                                                                                                                                                                                                                                                                                                                                                                                                                                                                                                                                                                                                                                                                                                                                                                                                                                                                                                                                                                                                                                                                                                                                                                                                                                                                                                                                                                                                                                                                                                                                                   13\n",
       "DescriptionNaturverbundene Lebensqualität am Bodensee  Die Grundrisse sowie detaillierte Informationen zum Projekt ####Wohnen im Park#### in Salmsach finden Sie auf https://www.salmsach-park.ch/ oder in der umfassenden Dokumentation, die wir Ihnen auf Anfrage gerne zustellen.Inmitten eines Parks im Salmsach, nur fünf Fussminuten vom Bodenseeufer entfernt, entstehen sechs freistehende, zu drei Clustern komponierte Mehrfamilienhäuser. Diese bieten auf vier Wohngeschossen insgesamt 21 hochwertig ausgestattete 2½ bis 5½ -Zimmer-Eigentumswohnungen und werden in ökologisch wegweisender Holz-Hybridbauweise realisiert. Für ein optimales Wohnklima und modernes Wohnen im Einklang mit der Natur.Drei Gebäude, drei Namen, eine VisionAdventure - Balance - Courage. Die Namen der drei Dual-Gebäude sind Ausdruck unserer Vision von zukunftsorientiertem, ökologisch nachhaltigen Bauen, Leben und Wohnen. Die Architektur der Wohnüberbauung ist modern, integral - und begeisternd anders. Die Gebäude entstehen mitten im Park - für ein Leben im Einklang mit der Natur. Die Gebäude werden in Holz-Hybridbauweise errichtet - mit Mut zur Innovation, und weil Holzgebäude klare Vorteile bieten.Zentral, im Grünen, nahe am SeeDie im Süden von Romanshorn gelegene Gemeinde Salmsach ist der ideale Lebensort für aktive, naturbegeistere Familien, Paare und Individualisten. Das Dorf bezaubert mit viel Natur, dem milden Bodenseeklima, hohem Freizeitwert und besticht mit seiner ländlichen, aber doch zentralen Lage. Romanshorn und der Fährhafen sind nur einen Katzensprung entfernt und St.Gallen sowie Kreuzlingen und Konstanz liegen im 30-Minuten-Radius. Zudem existiert ein breites Bildungsangebot und der Kultur- und Freizeitwert der Bodenseeregion ist sprichwörtlich.Individuell, komfortabel, naturverbundenDie sechs freistehenden Gebäude sind über offene Zugangsbereiche zu drei Doppel-Clustern zusammengefasst, sehr hochwertig ausgestattet - und gehen auf Tuchfühlung mit der Natur des umliegenden Parks. Mit raumhohen Fenstern, einem ####Gartenzimmer####, mindestens drei Blickrichtungen sowie teilweise mit Balkon oder Terrasse. Zudem verfügt jede Wohnung dank der besonders cleveren Architektur über ihre eigenen vier Wände - für Diskretion und Komfort wie im Einfamilienhaus.Ökologisch, langlebig, wertstabilDie Gebäude von ####Wohnen im Park#### werden in innovativer Hybridbauweise errichtet. Dabei werden die 40 Stellplätze zählende Tiefgarage, von der aus alle Wohnungen direkt zugänglich sind, sowie die Keller-, Velo- und Technikräume aus Stahlbeton errichtet. Darüber, ab Niveau Umgebung, werden die Häuser im Systemholzbau realisiert ? aus regionalem Holz, dem ökologischsten und nachhaltigsten Baustoff. Das bietet zahlreiche Vorteile: Ein unerreicht natürliches Wohnklima, hervorragende Energieeffizienz, präzise Qualität sowie hohe Sicherheit und Wertbeständigkeit.Jetzt informierenReservieren Sie jetzt ihre Traumwohnung - und geniessen Sie schon bald das Leben am Ufer des Bodensees! An zentraler Lage mitten im Grünen, modern, nachhaltig, mit exzellentem Komfort und einem unübertrefflichen Wohnklima.Dieses Objekt können Sie per Videoanruf besichtigen.Further information    11\n",
       "                                                                                                                                                                                                                                                                                                                                                                                                                                                                                                                                                                                                                                                                                                                                                                                                                                                                                                                                                                                                                                                                                                                                                                                                                                                                                                                                                                                                                                                                                                                                                                                                                                                                                                                                                                                                                                                                                                                                                                                                                                                                                                                                                                                                                                                                                                                                                                                                                                                                                                                                                                                                                                                                                                                                                                                                                                                                                                                                                                                                                                                                                                                                                                                                                                                                                                              ..\n",
       "DescriptionNebst einem innovativen, modernen Wohnkonzept mit vielen Annehmlichkeiten und toller Lage welche durch gute Anschliessung die Eleganz und den Komfort noch weiter vorhebt. Der Extravagante fast 50m2 grosse Wohnraum: perfekt für alle, die sich nach den Vorzügen einer urbanen und dennoch ruhigen Umgebung sehnen.Hier werden also keine Wünsche offen gelassen. Profitieren Sie und überzeugen Sie sich selbst!Dieses PREMIUM HOMES Angebot bietet:Tageslicht mittels OblichtEinbauschränkediverse EinbauspotsEichenparkettDusche/WCKüche mit Glaskeramikherd und Kühlschrankund, und, und...Interessiert? Gerne führen wir Sie durch eine unverbindliche Besichtigung!Sie wollen Ihr Haus oder Ihre Wohnung sorgenfrei verkaufen?Wir sagen Ihnen den aktuellen Marktwert Ihrer Immobilie, diskret und unverbindlich!Haben Sie Interesse an einem ersten unverbindlichen Gedankenaustausch? Zögern Sie nicht und kontaktieren Sie uns.Wir freuen uns auf Sie.                                                                                                                                                                                                                                                                                                                                                                                                                                                                                                                                                                                                                                                                                                                                                                                                                                                                                                                                                                                                                                                                                                                                                                                                                                                                                                                                                                                                                                                                                                                                                                                                                                                                                                                                                                                                                                                                                                                                                                                                                                                                                                                                                                                                                                                                                                                                  1\n",
       "DescriptionWohnfläche: ca.53.54 m²Weitere Informationen und zusätzliche Bilder finden Sie unter folgendem Link: https://angebot.home-visit.ch/de/objects/detail/3779677Raumkonzept:UG:  KellerWaschen4.OG:  EingangKücheWohn-/Esszimmer1 ZimmerWC/BadBalkonTerrasseInteressiert? Kontaktieren Sie uns gerne für eine unverbindliche Besichtigung!Sie wollen Ihr Haus oder Ihre Wohnung sorgenfrei verkaufen, aber wissen nicht zu welchen Preis Sie es verkaufen können?Wir sagen Ihnen den aktuellen Marktwert Ihrer Immobilie, diskret und unverbindlich!Haben Sie Interesse an einem ersten kostenlosen und unverbindlichen Informationsgespräch?Zögern Sie nicht und kontaktieren Sie uns.Wir freuen uns auf Sie!Weitere Informationen und zusätzliche Bilder finden Sie unter folgendem Link: https://angebot.home-visit.ch/de/objects/detail/3779677Weitere Interessante Liegenschaften finden Sie unter: www.home-visit.chFurther information                                                                                                                                                                                                                                                                                                                                                                                                                                                                                                                                                                                                                                                                                                                                                                                                                                                                                                                                                                                                                                                                                                                                                                                                                                                                                                                                                                                                                                                                                                                                                                                                                                                                                                                                                                                                                                                                                                                                                                                                                                                                                                                                                                                                                                                                                                                                                           1\n",
       "DescriptionEin DEFH mit mehr als nur phänomenaler Aussicht...Hier in der Neuhushöhe an unverbaubarer Lage entsteht ein wunderschönes Doppeleinfamilienhaus mit zwei 5,5 Zimmer-Wohnungen und ca. je 127 m² beeindruckender Wohnfläche und 48m² Nebenflächen.Die nordwestlich ausgerichtete Wohnlage bietet eine tolle Weitsicht auf den Pilatus und überzeugt mit der perfekten Ausrichtung für eine ganztägige Besonnung.Die Räume sind hell, lichtdurchflutet und entsprechen einem unvergleichbaren modernen Wohnerlebnis.Über die Garage gelangt man direkt in den Keller, worin auch die Technik untergebracht ist. Zusätzlich gibt es einen separater Raum, der als Hobby-, Büro- oder Gästeraum genutzt werden kann. Ein Stockwerk hinauf auf der Erdgeschossebene, worin ebenfalls der offizelle Hauseingang von Aussen befindlich ist, finden sich drei weitere schöne Räumlichkeiten. Auf dem nächsten Zwischengeschoss befindet sich eine moderne Nasszelle mit Doppellavabo, Badewanne, WC und Dusche. Im Obergeschoss befindet sich die Wohn- Essküche und ein grosses Wohnzimmer.Luxus ist zudem, wer eine Aussentreppe benutzen kann, um auf das eigene begehbare Dach zu gelangen, bei der eine ca. 30m² grosse Terrasse überrascht und für unvergessliche Abende sorgt.Was Materialien und Geräte betrifft, sind wir offen für Ihre Wünsche und Vorstellungen und erledigen es über ein +/- zum Basispreis.Wenn Sie interessiert sind, freuen wir uns über Ihre Kontaktaufnahme. Herr Marcus Waldmeier gibt Ihnen gerne Auskunft und begleitet Sie durch die weiteren Schritte zu Ihrem neuen Wohntraum.Dieses Objekt können Sie per Videoanruf besichtigen.                                                                                                                                                                                                                                                                                                                                                                                                                                                                                                                                                                                                                                                                                                                                                                                                                                                                                                                                                                                                                                                                                                                                                                                                                                                                                                                                                                                                                                                                                                                                                                                                                                  1\n",
       "DescriptionAbsolute Ruhe und eine traumhafte Sicht auf den Vierwaldstättersee und die Zentralschweizer Voralpen sind hier garantiert. Der durchdachte Grundriss verteilt auf 3 Etagen verschafft eine individuelle Bühne für seine Bewohner. Grosszügige Räumlichkeiten mit edlen Materialien sind hier eine Selbstverständlichkeit. Der Innen- und Aussenraum dieses Wohnjuwels bilden einen faszinierenden Lebenstraum. Geniesser erfreuen sich ganz besonders über den privaten Fitnessraum mit Sauna, den eigenen Weinkeller sowie die wunderschön angelegte Gartenanlage mit Swimmingpool, ideal für ein gemütliches Sonnenbad. Lassen Sie sich von diesem exklusiven Anwesen verzaubern und schaffen Sie Ihre persönliche Wohlfühloase. Zwei zusätzliche Seeparzelle mit einem verbrieften Baderecht, ermöglichen Ihnen den Zugang zum Vierwaldstättersee.Highlights:Traumhafte und unverbaubare Sicht über den VierwaldstätterseeRuhiges und bevorzugtes WohnquartierIdyllisch und doch StadtnahTraumhafte GartenanlageHochwertiger InnenausbauWellnessbereich mit SaunaWhirlpool mit SeesichtPool mit GegenstromanlageBaderecht an einer SeeparzelleWeitere Informationen zum Objekt finden Sie auf unserer Website www.domba.ch. Fragen Sie uns nach dem ausführlichen Exposé oder kontaktieren Sie uns für eine unverbindliche Besichtigung. Frau Martina Knobel freut sich auf Ihre Kontaktaufnahme!Gerne weisen wir Sie drauf hin, dass wir jederzeit auch via Telefon, WhatsApp, FaceTime und E-Mail für Sie erreichbar sind.Martina Knobel041 418 08 55079 418 53 53martina.knobel@domba.ch                                                                                                                                                                                                                                                                                                                                                                                                                                                                                                                                                                                                                                                                                                                                                                                                                                                                                                                                                                                                                                                                                                                                                                                                                                                                                                                                                                                                                                                                                                                                                                                                                                                                                                      1\n",
       "DescriptionDas freistehende Einfamilienhaus an erhöhter und ruhiger Wohnlage ist von einem schön gestalteten Garten umgeben, in dem es diverse Aufenthaltsbereiche gibt. Bei herrlicher Aus- und Weitsicht ins Grüne und bis in die Stadt lässt es sich gut erholen. Die vielen Spaziermöglichkeiten in der Nähe laden in die Natur ein.Das schöne Haus besteht aus 2 Wohngeschossen mit diversen Neben- und Disporäumen und besticht durch seine praktische Grösse. Je nach Bedürfnissen kann das Innere noch nach Geschmack angepasst werden.Kommen Sie vorbei und überzeugen Sie sich selbt. Alle Details entnehmen Sie der angehängten Verkaufsdokumentation.                                                                                                                                                                                                                                                                                                                                                                                                                                                                                                                                                                                                                                                                                                                                                                                                                                                                                                                                                                                                                                                                                                                                                                                                                                                                                                                                                                                                                                                                                                                                                                                                                                                                                                                                                                                                                                                                                                                                                                                                                                                                                                                                                                                                                                                                                                                                                                                                                                                                                                                                                                                                                                              1\n",
       "Name: detailed_description, Length: 12543, dtype: int64"
      ]
     },
     "execution_count": 12,
     "metadata": {},
     "output_type": "execute_result"
    }
   ],
   "source": [
    "df[\"detailed_description\"].value_counts()\n"
   ]
  },
  {
   "attachments": {},
   "cell_type": "markdown",
   "metadata": {},
   "source": [
    "This column contains, as the name suggests, the detailed description of the posting. This data does not follow any specific pattern and is therefore no reliable source for information on the features we are investigating in this notebook. Therefore we discard it.  \n",
    "With natural language processing techniques this column could become useful for fine tuning predictions however. "
   ]
  },
  {
   "attachments": {},
   "cell_type": "markdown",
   "metadata": {},
   "source": [
    "# Table"
   ]
  },
  {
   "cell_type": "code",
   "execution_count": 13,
   "metadata": {},
   "outputs": [
    {
     "data": {
      "text/plain": [
       "b <article class=####Box-cYFBPY hKrxoH####><h2 class=####Box-cYFBPY gZLPvm####>Main information</h2><table class=####DataTable__StyledTable-sc-1o2xig5-1 jbXaEC####><tbody><tr><td class=####DataTable__SimpleCell-sc-1o2xig5-2 DataTable__Cell-sc-1o2xig5-4 edrNfG dGBatU####>Municipality</td><td class=####DataTable__SimpleCell-sc-1o2xig5-2 DataTable__CellValue-sc-1o2xig5-3 edrNfG rJZBK####>Le Mouret</td></tr><tr><td class=####DataTable__SimpleCell-sc-1o2xig5-2 DataTable__Cell-sc-1o2xig5-4 edrNfG dGBatU####>Availability</td><td class=####DataTable__SimpleCell-sc-1o2xig5-2 DataTable__CellValue-sc-1o2xig5-3 edrNfG rJZBK####>On request</td></tr></tbody></table><hr class=####Divider-iprSaI bBhTLQ####/></article>                                                                                                                                                                                                                                                                                                                                                                                                                                                                                                                                                                                                                                                                                                                                                                                                                                                                                                                                                                                                                                                                                                                                                                                                                                                                                                                                                                                                                                                                                                                                                                                                                                                                                                                                                                                                                                                                                                                                                                                                                                                                                                                                                                                                                                                                                                                                                                                                                                                                                                                                                                                                                                                                                                                                                                                                                                                                                                                                                                                                                                                                                                                                                                                                                                                                                                                                                                                                                                                                                                                                                                                                                                                                                                                                                                                                                                                                                                     7\n",
       "b <article class=####Box-cYFBPY hKrxoH####><h2 class=####Box-cYFBPY gZLPvm####>Main information</h2><table class=####DataTable__StyledTable-sc-1o2xig5-1 jbXaEC####><tbody><tr><td class=####DataTable__SimpleCell-sc-1o2xig5-2 DataTable__Cell-sc-1o2xig5-4 edrNfG dGBatU####>Municipality</td><td class=####DataTable__SimpleCell-sc-1o2xig5-2 DataTable__CellValue-sc-1o2xig5-3 edrNfG rJZBK####>Lugano</td></tr><tr><td class=####DataTable__SimpleCell-sc-1o2xig5-2 DataTable__Cell-sc-1o2xig5-4 edrNfG dGBatU####>Floor</td><td class=####DataTable__SimpleCell-sc-1o2xig5-2 DataTable__CellValue-sc-1o2xig5-3 edrNfG rJZBK####>1. floor</td></tr><tr><td class=####DataTable__SimpleCell-sc-1o2xig5-2 DataTable__Cell-sc-1o2xig5-4 edrNfG dGBatU####>Availability</td><td class=####DataTable__SimpleCell-sc-1o2xig5-2 DataTable__CellValue-sc-1o2xig5-3 edrNfG rJZBK####>On request</td></tr></tbody></table><hr class=####Divider-iprSaI bBhTLQ####/></article>                                                                                                                                                                                                                                                                                                                                                                                                                                                                                                                                                                                                                                                                                                                                                                                                                                                                                                                                                                                                                                                                                                                                                                                                                                                                                                                                                                                                                                                                                                                                                                                                                                                                                                                                                                                                                                                                                                                                                                                                                                                                                                                                                                                                                                                                                                                                                                                                                                                                                                                                                                                                                                                                                                                                                                                                                                                                                                                                                                                                                                                                                                                                                                                                                                                                                                                                                                                                                                                                                                                                                                                                                                                                    6\n",
       "b <article class=####Box-cYFBPY hKrxoH####><h2 class=####Box-cYFBPY gZLPvm####>Main information</h2><table class=####DataTable__StyledTable-sc-1o2xig5-1 jbXaEC####><tbody><tr><td class=####DataTable__SimpleCell-sc-1o2xig5-2 DataTable__Cell-sc-1o2xig5-4 edrNfG dGBatU####>Municipality</td><td class=####DataTable__SimpleCell-sc-1o2xig5-2 DataTable__CellValue-sc-1o2xig5-3 edrNfG rJZBK####>Courrendlin</td></tr><tr><td class=####DataTable__SimpleCell-sc-1o2xig5-2 DataTable__Cell-sc-1o2xig5-4 edrNfG dGBatU####>Availability</td><td class=####DataTable__SimpleCell-sc-1o2xig5-2 DataTable__CellValue-sc-1o2xig5-3 edrNfG rJZBK####>On request</td></tr></tbody></table><hr class=####Divider-iprSaI bBhTLQ####/></article>                                                                                                                                                                                                                                                                                                                                                                                                                                                                                                                                                                                                                                                                                                                                                                                                                                                                                                                                                                                                                                                                                                                                                                                                                                                                                                                                                                                                                                                                                                                                                                                                                                                                                                                                                                                                                                                                                                                                                                                                                                                                                                                                                                                                                                                                                                                                                                                                                                                                                                                                                                                                                                                                                                                                                                                                                                                                                                                                                                                                                                                                                                                                                                                                                                                                                                                                                                                                                                                                                                                                                                                                                                                                                                                                                                                                                                                                                                   6\n",
       "b <article class=####Box-cYFBPY hKrxoH####><h2 class=####Box-cYFBPY gZLPvm####>Main information</h2><table class=####DataTable__StyledTable-sc-1o2xig5-1 jbXaEC####><tbody><tr><td class=####DataTable__SimpleCell-sc-1o2xig5-2 DataTable__Cell-sc-1o2xig5-4 edrNfG dGBatU####>Municipality</td><td class=####DataTable__SimpleCell-sc-1o2xig5-2 DataTable__CellValue-sc-1o2xig5-3 edrNfG rJZBK####>Lugano</td></tr><tr><td class=####DataTable__SimpleCell-sc-1o2xig5-2 DataTable__Cell-sc-1o2xig5-4 edrNfG dGBatU####>Availability</td><td class=####DataTable__SimpleCell-sc-1o2xig5-2 DataTable__CellValue-sc-1o2xig5-3 edrNfG rJZBK####>On request</td></tr></tbody></table><hr class=####Divider-iprSaI bBhTLQ####/></article>                                                                                                                                                                                                                                                                                                                                                                                                                                                                                                                                                                                                                                                                                                                                                                                                                                                                                                                                                                                                                                                                                                                                                                                                                                                                                                                                                                                                                                                                                                                                                                                                                                                                                                                                                                                                                                                                                                                                                                                                                                                                                                                                                                                                                                                                                                                                                                                                                                                                                                                                                                                                                                                                                                                                                                                                                                                                                                                                                                                                                                                                                                                                                                                                                                                                                                                                                                                                                                                                                                                                                                                                                                                                                                                                                                                                                                                                                                        6\n",
       "b <article class=####Box-cYFBPY hKrxoH####><h2 class=####Box-cYFBPY gZLPvm####>Main information</h2><table class=####DataTable__StyledTable-sc-1o2xig5-1 jbXaEC####><tbody><tr><td class=####DataTable__SimpleCell-sc-1o2xig5-2 DataTable__Cell-sc-1o2xig5-4 edrNfG dGBatU####>Municipality</td><td class=####DataTable__SimpleCell-sc-1o2xig5-2 DataTable__CellValue-sc-1o2xig5-3 edrNfG rJZBK####>Au (SG)</td></tr><tr><td class=####DataTable__SimpleCell-sc-1o2xig5-2 DataTable__Cell-sc-1o2xig5-4 edrNfG dGBatU####>Living space</td><td class=####DataTable__SimpleCell-sc-1o2xig5-2 DataTable__CellValue-sc-1o2xig5-3 edrNfG rJZBK####>154 m&#178;</td></tr><tr><td class=####DataTable__SimpleCell-sc-1o2xig5-2 DataTable__Cell-sc-1o2xig5-4 edrNfG dGBatU####>Availability</td><td class=####DataTable__SimpleCell-sc-1o2xig5-2 DataTable__CellValue-sc-1o2xig5-3 edrNfG rJZBK####>On request</td></tr></tbody></table><hr class=####Divider-iprSaI bBhTLQ####/></article>                                                                                                                                                                                                                                                                                                                                                                                                                                                                                                                                                                                                                                                                                                                                                                                                                                                                                                                                                                                                                                                                                                                                                                                                                                                                                                                                                                                                                                                                                                                                                                                                                                                                                                                                                                                                                                                                                                                                                                                                                                                                                                                                                                                                                                                                                                                                                                                                                                                                                                                                                                                                                                                                                                                                                                                                                                                                                                                                                                                                                                                                                                                                                                                                                                                                                                                                                                                                                                                                                                                                                                                                                                                         6\n",
       "                                                                                                                                                                                                                                                                                                                                                                                                                                                                                                                                                                                                                                                                                                                                                                                                                                                                                                                                                                                                                                                                                                                                                                                                                                                                                                                                                                                                                                                                                                                                                                                                                                                                                                                                                                                                                                                                                                                                                                                                                                                                                                                                                                                                                                                                                                                                                                                                                                                                                                                                                                                                                                                                                                                                                                                                                                                                                                                                                                                                                                                                                                                                                                                                                                                                                                                                                                                                                                                                                                                                                                                                                                                                                                                                                                                                                                                                                                                                                                                                                                                                                                                                                                                                                                                                                                                                                                                                                                                                                                                                                                                                                                           ..\n",
       "b <article class=####Box-cYFBPY hKrxoH####><h2 class=####Box-cYFBPY gZLPvm####>Main information</h2><table class=####DataTable__StyledTable-sc-1o2xig5-1 jbXaEC####><tbody><tr><td class=####DataTable__SimpleCell-sc-1o2xig5-2 DataTable__Cell-sc-1o2xig5-4 edrNfG dGBatU####>Municipality</td><td class=####DataTable__SimpleCell-sc-1o2xig5-2 DataTable__CellValue-sc-1o2xig5-3 edrNfG rJZBK####>Entlebuch</td></tr><tr><td class=####DataTable__SimpleCell-sc-1o2xig5-2 DataTable__Cell-sc-1o2xig5-4 edrNfG dGBatU####>Living space</td><td class=####DataTable__SimpleCell-sc-1o2xig5-2 DataTable__CellValue-sc-1o2xig5-3 edrNfG rJZBK####>130 m&#178;</td></tr><tr><td class=####DataTable__SimpleCell-sc-1o2xig5-2 DataTable__Cell-sc-1o2xig5-4 edrNfG dGBatU####>Floor</td><td class=####DataTable__SimpleCell-sc-1o2xig5-2 DataTable__CellValue-sc-1o2xig5-3 edrNfG rJZBK####>1. floor</td></tr><tr><td class=####DataTable__SimpleCell-sc-1o2xig5-2 DataTable__Cell-sc-1o2xig5-4 edrNfG dGBatU####>Availability</td><td class=####DataTable__SimpleCell-sc-1o2xig5-2 DataTable__CellValue-sc-1o2xig5-3 edrNfG rJZBK####>Immediately</td></tr></tbody></table><hr class=####Divider-iprSaI bBhTLQ####/></article>                                                                                                                                                                                                                                                                                                                                                                                                                                                                                                                                                                                                                                                                                                                                                                                                                                                                                                                                                                                                                                                                                                                                                                                                                                                                                                                                                                                                                                                                                                                                                                                                                                                                                                                                                                                                                                                                                                                                                                                                                                                                                                                                                                                                                                                                                                                                                                                                                                                                                                                                                                                                                                                                                                                                                                                                                                                                                                                                                                                                                                                                                                                                                                                                                                                                                                                                                                                                                  1\n",
       "b <article class=####Box-cYFBPY hKrxoH####><h2 class=####Box-cYFBPY gZLPvm####>Main information</h2><table class=####DataTable__StyledTable-sc-1o2xig5-1 jbXaEC####><tbody><tr><td class=####DataTable__SimpleCell-sc-1o2xig5-2 DataTable__Cell-sc-1o2xig5-4 edrNfG dGBatU####>Municipality</td><td class=####DataTable__SimpleCell-sc-1o2xig5-2 DataTable__CellValue-sc-1o2xig5-3 edrNfG rJZBK####>Entlebuch</td></tr><tr><td class=####DataTable__SimpleCell-sc-1o2xig5-2 DataTable__Cell-sc-1o2xig5-4 edrNfG dGBatU####>Living space</td><td class=####DataTable__SimpleCell-sc-1o2xig5-2 DataTable__CellValue-sc-1o2xig5-3 edrNfG rJZBK####>153 m&#178;</td></tr><tr><td class=####DataTable__SimpleCell-sc-1o2xig5-2 DataTable__Cell-sc-1o2xig5-4 edrNfG dGBatU####>Floor</td><td class=####DataTable__SimpleCell-sc-1o2xig5-2 DataTable__CellValue-sc-1o2xig5-3 edrNfG rJZBK####>1. floor</td></tr><tr><td class=####DataTable__SimpleCell-sc-1o2xig5-2 DataTable__Cell-sc-1o2xig5-4 edrNfG dGBatU####>Floor space</td><td class=####DataTable__SimpleCell-sc-1o2xig5-2 DataTable__CellValue-sc-1o2xig5-3 edrNfG rJZBK####>153 m&#178;</td></tr><tr><td class=####DataTable__SimpleCell-sc-1o2xig5-2 DataTable__Cell-sc-1o2xig5-4 edrNfG dGBatU####>Availability</td><td class=####DataTable__SimpleCell-sc-1o2xig5-2 DataTable__CellValue-sc-1o2xig5-3 edrNfG rJZBK####>On request</td></tr><tr class=####Box-cYFBPY fgkiRl####><td colspan=####2#### class=####DataTable__SimpleCell-sc-1o2xig5-2 DataTable__Cell-sc-1o2xig5-4 edrNfG fFglmV####><a href=####https://cis01.immoscout24.ch/is24media/f4/33/cff5a04644-220629.pdf#### target=####_blank#### rel=####noopener#### class=####Box-cYFBPY Link__Shell-kMBQAv ljXWtL hMCCae####><svg width=####24#### height=####24#### viewbox=####0 0 24 24#### fill=####none#### class=####Pdf__SvgPdf-fVqkQz jPOpoj####><path d=####M18 18v2H6v-2H4v4h16v-5l-2 1zM4 10V8l6-6h10v8h-2V4h-6v6H4zm6-5L7 8h3V5zm-2.042 7.386a2.131 2.131 0 00-1.405-1.228A6.203 6.203 0 005 11H4v6h1v-1.995a6.2 6.2 0 001.552-.159 2.131 2.131 0 001.406-1.227 2.756 2.756 0 000-1.233zM5.995 14L5 14.002V12h1s1.073 0 1.036 1a1.026 1.026 0 01-1.041 1zM19 12v-1h-4v6h1v-2h2v-1h-2v-2h3zm-5.033 1.886C13.927 11.931 12.79 11 10.913 11H9v6h1.913c1.877 0 3.014-.931 3.054-2.886v-.228zM11 16h-1v-4h1a1.789 1.789 0 012.003 2A1.788 1.788 0 0111 16z#### fill=#####333####/></svg>Verkaufsdokument 2021.12.22.pdf</a></td></tr><tr class=####Box-cYFBPY fgkiRl####><td colspan=####2#### class=####DataTable__SimpleCell-sc-1o2xig5-2 DataTable__Cell-sc-1o2xig5-4 edrNfG fFglmV####><a href=####https://cis01.immoscout24.ch/is24media/ea/7c/8e23ee2841-220629.pdf#### target=####_blank#### rel=####noopener#### class=####Box-cYFBPY Link__Shell-kMBQAv ljXWtL hMCCae####><svg width=####24#### height=####24#### viewbox=####0 0 24 24#### fill=####none#### class=####Pdf__SvgPdf-fVqkQz jPOpoj####><path d=####M18 18v2H6v-2H4v4h16v-5l-2 1zM4 10V8l6-6h10v8h-2V4h-6v6H4zm6-5L7 8h3V5zm-2.042 7.386a2.131 2.131 0 00-1.405-1.228A6.203 6.203 0 005 11H4v6h1v-1.995a6.2 6.2 0 001.552-.159 2.131 2.131 0 001.406-1.227 2.756 2.756 0 000-1.233zM5.995 14L5 14.002V12h1s1.073 0 1.036 1a1.026 1.026 0 01-1.041 1zM19 12v-1h-4v6h1v-2h2v-1h-2v-2h3zm-5.033 1.886C13.927 11.931 12.79 11 10.913 11H9v6h1.913c1.877 0 3.014-.931 3.054-2.886v-.228zM11 16h-1v-4h1a1.789 1.789 0 012.003 2A1.788 1.788 0 0111 16z#### fill=#####333####/></svg>Baubeschrieb.pdf</a></td></tr><tr class=####Box-cYFBPY fgkiRl####><td colspan=####2#### class=####DataTable__SimpleCell-sc-1o2xig5-2 DataTable__Cell-sc-1o2xig5-4 edrNfG fFglmV####><a href=####https://cis01.immoscout24.ch/is24media/b5/f5/21a82aa04f-220629.pdf#### target=####_blank#### rel=####noopener#### class=####Box-cYFBPY Link__Shell-kMBQAv ljXWtL hMCCae####><svg width=####24#### height=####24#### viewbox=####0 0 24 24#### fill=####none#### class=####Pdf__SvgPdf-fVqkQz jPOpoj####><path d=####M18 18v2H6v-2H4v4h16v-5l-2 1zM4 10V8l6-6h10v8h-2V4h-6v6H4zm6-5L7 8h3V5zm-2.042 7.386a2.131 2.131 0 00-1.405-1.228A6.203 6.203 0 005 11H4v6h1v-1.995a6.2 6.2 0 001.552-.159 2.131 2.131 0 001.406-1.227 2.756 2.756 0 000-1.233zM5.995 14L5 14.002V12h1s1.073 0 1.036 1a1.026 1.026 0 01-1.041 1zM19 12v-1h-4v6h1v-2h2v-1h-2v-2h3zm-5.033 1.886C13.927 11.931 12.79 11 10.913 11H9v6h1.913c1.877 0 3.014-.931 3.054-2.886v-.228zM11 16h-1v-4h1a1.789 1.789 0 012.003 2A1.788 1.788 0 0111 16z#### fill=#####333####/></svg>Allgemeines zum Kauf.pdf</a></td></tr></tbody></table><hr class=####Divider-iprSaI bBhTLQ####/></article>     1\n",
       "b <article class=####Box-cYFBPY hKrxoH####><h2 class=####Box-cYFBPY gZLPvm####>Main information</h2><table class=####DataTable__StyledTable-sc-1o2xig5-1 jbXaEC####><tbody><tr><td class=####DataTable__SimpleCell-sc-1o2xig5-2 DataTable__Cell-sc-1o2xig5-4 edrNfG dGBatU####>Municipality</td><td class=####DataTable__SimpleCell-sc-1o2xig5-2 DataTable__CellValue-sc-1o2xig5-3 edrNfG rJZBK####>Cornol</td></tr><tr><td class=####DataTable__SimpleCell-sc-1o2xig5-2 DataTable__Cell-sc-1o2xig5-4 edrNfG dGBatU####>Living space</td><td class=####DataTable__SimpleCell-sc-1o2xig5-2 DataTable__CellValue-sc-1o2xig5-3 edrNfG rJZBK####>300 m&#178;</td></tr><tr><td class=####DataTable__SimpleCell-sc-1o2xig5-2 DataTable__Cell-sc-1o2xig5-4 edrNfG dGBatU####>Availability</td><td class=####DataTable__SimpleCell-sc-1o2xig5-2 DataTable__CellValue-sc-1o2xig5-3 edrNfG rJZBK####>On request</td></tr></tbody></table><hr class=####Divider-iprSaI bBhTLQ####/></article>                                                                                                                                                                                                                                                                                                                                                                                                                                                                                                                                                                                                                                                                                                                                                                                                                                                                                                                                                                                                                                                                                                                                                                                                                                                                                                                                                                                                                                                                                                                                                                                                                                                                                                                                                                                                                                                                                                                                                                                                                                                                                                                                                                                                                                                                                                                                                                                                                                                                                                                                                                                                                                                                                                                                                                                                                                                                                                                                                                                                                                                                                                                                                                                                                                                                                                                                                                                                                                                                                                                                                                                                                                                          1\n",
       "b <article class=####Box-cYFBPY hKrxoH####><h2 class=####Box-cYFBPY gZLPvm####>Main information</h2><table class=####DataTable__StyledTable-sc-1o2xig5-1 jbXaEC####><tbody><tr><td class=####DataTable__SimpleCell-sc-1o2xig5-2 DataTable__Cell-sc-1o2xig5-4 edrNfG dGBatU####>Municipality</td><td class=####DataTable__SimpleCell-sc-1o2xig5-2 DataTable__CellValue-sc-1o2xig5-3 edrNfG rJZBK####>Boncourt</td></tr><tr><td class=####DataTable__SimpleCell-sc-1o2xig5-2 DataTable__Cell-sc-1o2xig5-4 edrNfG dGBatU####>Plot area</td><td class=####DataTable__SimpleCell-sc-1o2xig5-2 DataTable__CellValue-sc-1o2xig5-3 edrNfG rJZBK####>2941 m&#178;</td></tr><tr><td class=####DataTable__SimpleCell-sc-1o2xig5-2 DataTable__Cell-sc-1o2xig5-4 edrNfG dGBatU####>Availability</td><td class=####DataTable__SimpleCell-sc-1o2xig5-2 DataTable__CellValue-sc-1o2xig5-3 edrNfG rJZBK####>On request</td></tr></tbody></table><hr class=####Divider-iprSaI bBhTLQ####/></article>                                                                                                                                                                                                                                                                                                                                                                                                                                                                                                                                                                                                                                                                                                                                                                                                                                                                                                                                                                                                                                                                                                                                                                                                                                                                                                                                                                                                                                                                                                                                                                                                                                                                                                                                                                                                                                                                                                                                                                                                                                                                                                                                                                                                                                                                                                                                                                                                                                                                                                                                                                                                                                                                                                                                                                                                                                                                                                                                                                                                                                                                                                                                                                                                                                                                                                                                                                                                                                                                                                                                                                                                                                                          1\n",
       "b <article class=####Box-cYFBPY hKrxoH####><h2 class=####Box-cYFBPY gZLPvm####>Main information</h2><table class=####DataTable__StyledTable-sc-1o2xig5-1 jbXaEC####><tbody><tr><td class=####DataTable__SimpleCell-sc-1o2xig5-2 DataTable__Cell-sc-1o2xig5-4 edrNfG dGBatU####>Municipality</td><td class=####DataTable__SimpleCell-sc-1o2xig5-2 DataTable__CellValue-sc-1o2xig5-3 edrNfG rJZBK####>Winterthur</td></tr><tr><td class=####DataTable__SimpleCell-sc-1o2xig5-2 DataTable__Cell-sc-1o2xig5-4 edrNfG dGBatU####>Living space</td><td class=####DataTable__SimpleCell-sc-1o2xig5-2 DataTable__CellValue-sc-1o2xig5-3 edrNfG rJZBK####>385 m&#178;</td></tr><tr><td class=####DataTable__SimpleCell-sc-1o2xig5-2 DataTable__Cell-sc-1o2xig5-4 edrNfG dGBatU####>Plot area</td><td class=####DataTable__SimpleCell-sc-1o2xig5-2 DataTable__CellValue-sc-1o2xig5-3 edrNfG rJZBK####>1306 m&#178;</td></tr><tr><td class=####DataTable__SimpleCell-sc-1o2xig5-2 DataTable__Cell-sc-1o2xig5-4 edrNfG dGBatU####>Availability</td><td class=####DataTable__SimpleCell-sc-1o2xig5-2 DataTable__CellValue-sc-1o2xig5-3 edrNfG rJZBK####>Immediately</td></tr><tr class=####Box-cYFBPY fgkiRl####><td colspan=####2#### class=####DataTable__SimpleCell-sc-1o2xig5-2 DataTable__Cell-sc-1o2xig5-4 edrNfG fFglmV####><a href=####https://cis01.immoscout24.ch/is24media/64/82/e5669c254c-220815.pdf#### target=####_blank#### rel=####noopener#### class=####Box-cYFBPY Link__Shell-kMBQAv ljXWtL hMCCae####><svg width=####24#### height=####24#### viewbox=####0 0 24 24#### fill=####none#### class=####Pdf__SvgPdf-fVqkQz jPOpoj####><path d=####M18 18v2H6v-2H4v4h16v-5l-2 1zM4 10V8l6-6h10v8h-2V4h-6v6H4zm6-5L7 8h3V5zm-2.042 7.386a2.131 2.131 0 00-1.405-1.228A6.203 6.203 0 005 11H4v6h1v-1.995a6.2 6.2 0 001.552-.159 2.131 2.131 0 001.406-1.227 2.756 2.756 0 000-1.233zM5.995 14L5 14.002V12h1s1.073 0 1.036 1a1.026 1.026 0 01-1.041 1zM19 12v-1h-4v6h1v-2h2v-1h-2v-2h3zm-5.033 1.886C13.927 11.931 12.79 11 10.913 11H9v6h1.913c1.877 0 3.014-.931 3.054-2.886v-.228zM11 16h-1v-4h1a1.789 1.789 0 012.003 2A1.788 1.788 0 0111 16z#### fill=#####333####/></svg>Verkaufsdoku.pdf</a></td></tr></tbody></table><hr class=####Divider-iprSaI bBhTLQ####/></article>                                                                                                                                                                                                                                                                                                                                                                                                                                                                                                                                                                                                                                                                                                                                                                                                                                                                                                                                                                                                                                                                                                                                                                                                                                                                                                                                                                                                                                                                                                                                                                                                                                                                                                                                                                                                                                                                                                                                                                                                                                                                                                                                                                                                                                                                                                                                                           1\n",
       "Name: table, Length: 12713, dtype: int64"
      ]
     },
     "execution_count": 13,
     "metadata": {},
     "output_type": "execute_result"
    }
   ],
   "source": [
    "df[\"table\"].value_counts()\n"
   ]
  },
  {
   "attachments": {},
   "cell_type": "markdown",
   "metadata": {},
   "source": [
    "This output suggests that there's information in the column `table` on the Municipality, Plot Area, Availability, Floor, Floor Space and Living Space.   \n",
    "Let's inspect how many observations we can find in `table` per feature."
   ]
  },
  {
   "attachments": {},
   "cell_type": "markdown",
   "metadata": {},
   "source": [
    "## Availability"
   ]
  },
  {
   "cell_type": "code",
   "execution_count": 14,
   "metadata": {},
   "outputs": [
    {
     "data": {
      "text/plain": [
       "12663"
      ]
     },
     "execution_count": 14,
     "metadata": {},
     "output_type": "execute_result"
    }
   ],
   "source": [
    "df[\"table\"].str.contains(\"availability\", flags=re.IGNORECASE).sum()\n"
   ]
  },
  {
   "attachments": {},
   "cell_type": "markdown",
   "metadata": {},
   "source": [
    "## Address\n",
    "### Municipality"
   ]
  },
  {
   "cell_type": "code",
   "execution_count": 15,
   "metadata": {},
   "outputs": [
    {
     "data": {
      "text/plain": [
       "12897"
      ]
     },
     "execution_count": 15,
     "metadata": {},
     "output_type": "execute_result"
    }
   ],
   "source": [
    "df[\"table\"].str.contains(\"Municipality\", flags=re.IGNORECASE).sum()\n"
   ]
  },
  {
   "attachments": {},
   "cell_type": "markdown",
   "metadata": {},
   "source": [
    "### Zip Code"
   ]
  },
  {
   "cell_type": "code",
   "execution_count": 16,
   "metadata": {},
   "outputs": [
    {
     "data": {
      "text/plain": [
       "0"
      ]
     },
     "execution_count": 16,
     "metadata": {},
     "output_type": "execute_result"
    }
   ],
   "source": [
    "df[\"table\"].str.contains(\"Zip\", flags=re.IGNORECASE).sum()\n"
   ]
  },
  {
   "attachments": {},
   "cell_type": "markdown",
   "metadata": {},
   "source": [
    "### Canton"
   ]
  },
  {
   "cell_type": "code",
   "execution_count": 17,
   "metadata": {},
   "outputs": [
    {
     "data": {
      "text/plain": [
       "23"
      ]
     },
     "execution_count": 17,
     "metadata": {},
     "output_type": "execute_result"
    }
   ],
   "source": [
    "df[\"table\"].str.contains(\"Canton\", flags=re.IGNORECASE).sum()\n"
   ]
  },
  {
   "attachments": {},
   "cell_type": "markdown",
   "metadata": {},
   "source": [
    "### Street"
   ]
  },
  {
   "cell_type": "code",
   "execution_count": 18,
   "metadata": {},
   "outputs": [
    {
     "data": {
      "text/plain": [
       "0"
      ]
     },
     "execution_count": 18,
     "metadata": {},
     "output_type": "execute_result"
    }
   ],
   "source": [
    "df[\"table\"].str.contains(\"Street\", flags=re.IGNORECASE).sum()\n"
   ]
  },
  {
   "cell_type": "code",
   "execution_count": 19,
   "metadata": {},
   "outputs": [
    {
     "data": {
      "text/plain": [
       "0"
      ]
     },
     "execution_count": 19,
     "metadata": {},
     "output_type": "execute_result"
    }
   ],
   "source": [
    "df[\"table\"].str.contains(\"location\", flags=re.IGNORECASE).sum()\n"
   ]
  },
  {
   "cell_type": "code",
   "execution_count": 20,
   "metadata": {},
   "outputs": [
    {
     "data": {
      "text/plain": [
       "0"
      ]
     },
     "execution_count": 20,
     "metadata": {},
     "output_type": "execute_result"
    }
   ],
   "source": [
    "df[\"table\"].str.contains(\"address\", flags=re.IGNORECASE).sum()\n"
   ]
  },
  {
   "attachments": {},
   "cell_type": "markdown",
   "metadata": {},
   "source": [
    "## Floor"
   ]
  },
  {
   "cell_type": "code",
   "execution_count": 21,
   "metadata": {},
   "outputs": [
    {
     "data": {
      "text/plain": [
       "7173"
      ]
     },
     "execution_count": 21,
     "metadata": {},
     "output_type": "execute_result"
    }
   ],
   "source": [
    "df[\"table\"].str.contains(\"floor\", flags=re.IGNORECASE).sum()\n"
   ]
  },
  {
   "attachments": {},
   "cell_type": "markdown",
   "metadata": {},
   "source": [
    "## Floor Space"
   ]
  },
  {
   "cell_type": "code",
   "execution_count": 22,
   "metadata": {},
   "outputs": [
    {
     "data": {
      "text/plain": [
       "2780"
      ]
     },
     "execution_count": 22,
     "metadata": {},
     "output_type": "execute_result"
    }
   ],
   "source": [
    "df[\"table\"].str.contains(\"floor space\", flags=re.IGNORECASE).sum()\n"
   ]
  },
  {
   "attachments": {},
   "cell_type": "markdown",
   "metadata": {},
   "source": [
    "## Gross Return"
   ]
  },
  {
   "cell_type": "code",
   "execution_count": 23,
   "metadata": {},
   "outputs": [
    {
     "data": {
      "text/plain": [
       "6"
      ]
     },
     "execution_count": 23,
     "metadata": {},
     "output_type": "execute_result"
    }
   ],
   "source": [
    "df[\"table\"].str.contains(\"gross return\", flags=re.IGNORECASE).sum()\n"
   ]
  },
  {
   "attachments": {},
   "cell_type": "markdown",
   "metadata": {},
   "source": [
    "## Plot Area"
   ]
  },
  {
   "cell_type": "code",
   "execution_count": 24,
   "metadata": {},
   "outputs": [
    {
     "data": {
      "text/plain": [
       "4696"
      ]
     },
     "execution_count": 24,
     "metadata": {},
     "output_type": "execute_result"
    }
   ],
   "source": [
    "df[\"table\"].str.contains(\"Plot area\", flags=re.IGNORECASE).sum()\n"
   ]
  },
  {
   "attachments": {},
   "cell_type": "markdown",
   "metadata": {},
   "source": [
    "## Living Space"
   ]
  },
  {
   "cell_type": "code",
   "execution_count": 25,
   "metadata": {},
   "outputs": [
    {
     "data": {
      "text/plain": [
       "11634"
      ]
     },
     "execution_count": 25,
     "metadata": {},
     "output_type": "execute_result"
    }
   ],
   "source": [
    "df[\"table\"].str.contains(\"living space\", flags=re.IGNORECASE).sum()\n"
   ]
  },
  {
   "attachments": {},
   "cell_type": "markdown",
   "metadata": {},
   "source": [
    "## Price"
   ]
  },
  {
   "cell_type": "code",
   "execution_count": 26,
   "metadata": {},
   "outputs": [
    {
     "data": {
      "text/plain": [
       "0"
      ]
     },
     "execution_count": 26,
     "metadata": {},
     "output_type": "execute_result"
    }
   ],
   "source": [
    "df[\"table\"].str.contains(\"price\", flags=re.IGNORECASE).sum()\n"
   ]
  },
  {
   "attachments": {},
   "cell_type": "markdown",
   "metadata": {},
   "source": [
    "## Rooms"
   ]
  },
  {
   "cell_type": "code",
   "execution_count": 27,
   "metadata": {},
   "outputs": [
    {
     "data": {
      "text/plain": [
       "0"
      ]
     },
     "execution_count": 27,
     "metadata": {},
     "output_type": "execute_result"
    }
   ],
   "source": [
    "df[\"table\"].str.contains(\"rooms\", flags=re.IGNORECASE).sum()\n"
   ]
  },
  {
   "attachments": {},
   "cell_type": "markdown",
   "metadata": {},
   "source": [
    "# Details Structured"
   ]
  },
  {
   "cell_type": "code",
   "execution_count": 28,
   "metadata": {},
   "outputs": [
    {
     "data": {
      "text/plain": [
       "{'Municipality': 'Biberstein', 'Living space': '100 m²', 'Floor': '4. floor', 'Availability': 'On request', 'location': '5023 Biberstein, AG', 'description': '3.5 rooms, 100 m²«Luxuriöse Attika-Wohnung mit herrlicher Aussicht»CHF 1,150,000.—Favourite', 'detailed_description': 'DescriptionLuxuriöse Attika-Wohnung direkt an der Aare und angrenzend an die Landwirtschaftszone, mit unverbaubarer Weitsicht, grosszügiger Garage und Option auf ein zusätzliches Zimmer.Einzigartige Lage, top Aussicht und hochwertige Innenausstattung? Das alles bietet diese charmante Eigentumswohnung auf 100m2 im steuergünstigen Biberstein. Stadtnah gelegen und mit direktem Naturzugang sorgt sie für ein rundum angenehmes Wohngefühl.In der ganzen Wohnung sind hochwertige Materialien mit einem südländischen Touch verbaut. Der Boden ist mit einem Jurastein und die beiden Zimmer mit Holz versehen (mit Bodenheizung).In die Wohnung gelangt man über einen separaten Eingang, ein halbes Stockwerk vom gewachsenen Boden erhöht (kein gemeinsames Treppenhaus). Die grosse Terrasse (rund 70m2) öffnet nach Süden ein einzigartiges Panorama mit einem herrlichen Blick auf Natur, Aare und Alpen.Naturfreunde können von der Haustür direkt an die Aare oder in die Wälder gelangen. Zur Arbeit ist die Bushaltestelle nur 200m entfernt (Bahnhof Aarau ist innerhalb von wenigen Minuten erreichbar). Für die Fahrzeuge bestehen 3 Parkmöglichkeiten: Eine grosse Garage mit Fenster direkt unterhalb der Wohnung (Länge: 7m / Breite: 3m), ein Aussenparkplatz vor der Garage und daneben ein grosszügiger Carport.Die Wohnung zeichnet sich besonders durch ihren grosszügigen Wohn-/Essbereich mit einer bodentiefen Fensterfronst nach Süden aus. Vom Eingangsbereich mit Garderobe gelangt man auf beiden Seiten direkt in zwei separate Zimmer. Anschliessend findet sich links das ideal ausgestattete Badezimmer (Badewanne, Dusche, zwei Lavabos, elektrischer Handtuchwärmer, alles in hochwertiger Qualität - Villeroy&Boch/Granit/Jurastein/Murano-Glas). Die Küche ist grosszügig und halb offen zum Essbereich konzipiert. Zwischen dem Badezimmer und der Küche befindet sich ein grosser Abstellraum (fast 10m2) mit eigener Waschmaschine / Tumbler/Lavabo. Noch mehr Stauraum bietet ein grosszügiger Keller im Untergeschoss. Im Wohn-/Essbereich war ursprünglich ein weiteres Zimmer geplant, womit die Wohnung mit wenig Aufwand zu einer 4.5-Zimmer-Wohnung erweitert werden könnte.Neben der grossen Süd-Terrasse hat es einen weiteren Balkon Richtung Osten, wo sich das Frühstück wunderbar an der Morgensonne geniessen lässt. Die eingebaute Klimaanlage bietet zudem auch an heissen Sommertagen eine angenehme Raumtemperatur.Das Haus ist mit einer modernen, effizienten Ölheizung ausgestattet. Sie überzeugt mit einem sehr tiefen Verbrauch und wird jährlich per Serviceabonnement gewartet. Der wohnungseigene Warmwasser-Boiler fasst 300 Liter und ist ab Service.Es würde uns freuen, Ihnen diese einzigartige Wohnung an einem individuellen Besichtigungstermin vorzustellen.', 'url': 'https://www.immoscout24.ch//en/d/penthouse-buy-biberstein/7255200', 'table': 'b\\'<article class=\"Box-cYFBPY hKrxoH\"><h2 class=\"Box-cYFBPY gZLPvm\">Main information</h2><table class=\"DataTable__StyledTable-sc-1o2xig5-1 jbXaEC\"><tbody><tr><td class=\"DataTable__SimpleCell-sc-1o2xig5-2 DataTable__Cell-sc-1o2xig5-4 edrNfG dGBatU\">Municipality</td><td class=\"DataTable__SimpleCell-sc-1o2xig5-2 DataTable__CellValue-sc-1o2xig5-3 edrNfG rJZBK\">Biberstein</td></tr><tr><td class=\"DataTable__SimpleCell-sc-1o2xig5-2 DataTable__Cell-sc-1o2xig5-4 edrNfG dGBatU\">Living space</td><td class=\"DataTable__SimpleCell-sc-1o2xig5-2 DataTable__CellValue-sc-1o2xig5-3 edrNfG rJZBK\">100 m&#178;</td></tr><tr><td class=\"DataTable__SimpleCell-sc-1o2xig5-2 DataTable__Cell-sc-1o2xig5-4 edrNfG dGBatU\">Floor</td><td class=\"DataTable__SimpleCell-sc-1o2xig5-2 DataTable__CellValue-sc-1o2xig5-3 edrNfG rJZBK\">4. floor</td></tr><tr><td class=\"DataTable__SimpleCell-sc-1o2xig5-2 DataTable__Cell-sc-1o2xig5-4 edrNfG dGBatU\">Availability</td><td class=\"DataTable__SimpleCell-sc-1o2xig5-2 DataTable__CellValue-sc-1o2xig5-3 edrNfG rJZBK\">On request</td></tr><tr class=\"Box-cYFBPY fgkiRl\"><td colspan=\"2\" class=\"DataTable__SimpleCell-sc-1o2xig5-2 DataTable__Cell-sc-1o2xig5-4 edrNfG fFglmV\"><a href=\"https://cis01.immoscout24.ch/is24media/13/d5/2bb0f98746-220805.pdf\" target=\"_blank\" rel=\"noopener\" class=\"Box-cYFBPY Link__Shell-kMBQAv ljXWtL hMCCae\"><svg width=\"24\" height=\"24\" viewbox=\"0 0 24 24\" fill=\"none\" class=\"Pdf__SvgPdf-fVqkQz jPOpoj\"><path d=\"M18 18v2H6v-2H4v4h16v-5l-2 1zM4 10V8l6-6h10v8h-2V4h-6v6H4zm6-5L7 8h3V5zm-2.042 7.386a2.131 2.131 0 00-1.405-1.228A6.203 6.203 0 005 11H4v6h1v-1.995a6.2 6.2 0 001.552-.159 2.131 2.131 0 001.406-1.227 2.756 2.756 0 000-1.233zM5.995 14L5 14.002V12h1s1.073 0 1.036 1a1.026 1.026 0 01-1.041 1zM19 12v-1h-4v6h1v-2h2v-1h-2v-2h3zm-5.033 1.886C13.927 11.931 12.79 11 10.913 11H9v6h1.913c1.877 0 3.014-.931 3.054-2.886v-.228zM11 16h-1v-4h1a1.789 1.789 0 012.003 2A1.788 1.788 0 0111 16z\" fill=\"#333\"/></svg>A_Grundriss.pdf</a></td></tr></tbody></table><hr class=\"Divider-iprSaI bBhTLQ\"/></article>\\''}    2\n",
       "{'Municipality': 'Aarau', 'Living space': '152 m²', 'Plot area': '839 m²', 'Floor space': '132 m²', 'Availability': 'On request', 'location': 'Schönenwerderstrasse 545000 Aarau, AG', 'description': '5 rooms, 152 m²«RESERVIERT.»CHF 1,200,000.—Favourite', 'detailed_description': 'DescriptionDas im Jahr 1936 massiv in Beton erbaute, lichtdurchflutete Künstler-Atelier wurde 1957 zum Wohnhaus umgebaut, mit Innenhof und Anbau erweitert (zweischaliger Backstein) und Gartenmauer eingefriedet.Von 2008 bis 2020 wurde das Haus umfassend fachmännisch renoviert (Bäder, Küche, Parkett, Fenster, Rolläden, Wände), und auch das Flach- und das Giebeldach wurden von Grund auf erneuert. 2015 wurde eine neue Gasheizung mit einer Thermo- und Photovoltaik-Anlage kombiniert, 2017 ein Schwedenofen installiert.Mit zwei Hauseingängen ist das Gebäude auch für eine WG oder zwei Generationen geeignet.', 'url': 'https://www.immoscout24.ch//en/d/detached-house-buy-aarau/7257409', 'table': 'b\\'<article class=\"Box-cYFBPY hKrxoH\"><h2 class=\"Box-cYFBPY gZLPvm\">Main information</h2><table class=\"DataTable__StyledTable-sc-1o2xig5-1 jbXaEC\"><tbody><tr><td class=\"DataTable__SimpleCell-sc-1o2xig5-2 DataTable__Cell-sc-1o2xig5-4 edrNfG dGBatU\">Municipality</td><td class=\"DataTable__SimpleCell-sc-1o2xig5-2 DataTable__CellValue-sc-1o2xig5-3 edrNfG rJZBK\">Aarau</td></tr><tr><td class=\"DataTable__SimpleCell-sc-1o2xig5-2 DataTable__Cell-sc-1o2xig5-4 edrNfG dGBatU\">Living space</td><td class=\"DataTable__SimpleCell-sc-1o2xig5-2 DataTable__CellValue-sc-1o2xig5-3 edrNfG rJZBK\">152 m&#178;</td></tr><tr><td class=\"DataTable__SimpleCell-sc-1o2xig5-2 DataTable__Cell-sc-1o2xig5-4 edrNfG dGBatU\">Plot area</td><td class=\"DataTable__SimpleCell-sc-1o2xig5-2 DataTable__CellValue-sc-1o2xig5-3 edrNfG rJZBK\">839 m&#178;</td></tr><tr><td class=\"DataTable__SimpleCell-sc-1o2xig5-2 DataTable__Cell-sc-1o2xig5-4 edrNfG dGBatU\">Floor space</td><td class=\"DataTable__SimpleCell-sc-1o2xig5-2 DataTable__CellValue-sc-1o2xig5-3 edrNfG rJZBK\">132 m&#178;</td></tr><tr><td class=\"DataTable__SimpleCell-sc-1o2xig5-2 DataTable__Cell-sc-1o2xig5-4 edrNfG dGBatU\">Availability</td><td class=\"DataTable__SimpleCell-sc-1o2xig5-2 DataTable__CellValue-sc-1o2xig5-3 edrNfG rJZBK\">On request</td></tr></tbody></table><hr class=\"Divider-iprSaI bBhTLQ\"/></article>\\''}                                                                                                                                                                                                                                                                                                                                                                                                                                                                                                                                                                                                                                                                                                                                                                                                                                                                                                                                                                                                                                                                                                                                                                                                                                                                                                                                                                                                                                                                                                                                                                                                                                                                                                                                                                                                                                                                                                                                                                                                                                                                                                                                                                                                                                                                                                                                                                                                                                                                                                                                                                                                                                                                                                                                                                                                                                                                                                                                            2\n",
       "{'Municipality': 'Biberstein', 'Living space': '156 m²', 'Plot area': '222 m²', 'Floor space': '242 m²', 'Availability': 'On request', 'location': 'Buhldenstrasse 8d5023 Biberstein, AG', 'description': '4.5 rooms, 156 m²«Stilvolle Liegenschaft - ruhige Lage, unverbaubare Aussicht»CHF 1,420,000.—Favourite', 'detailed_description': 'DescriptionStilvolle Liegenschaft an ruhiger Lage mit unverbaubarer Aussicht in den JuraDiese hochwertige Liegenschaft mit Baujahr 2013 liegt an ruhiger Aussichtslage im steuergünstigen Biberstein. Die Liegenschaft präsentiert sich in neuwertigem Zustand. Die Materialisierung ist sehr stilvoll und der Ausbaustandard sehr hoch. Das ganze Haus verfügt über einen hochwertigen Eichenparkett (Echtholz) sowie Wände mit Gipsglattstrich und Küchengeräte der Marke V-Zug. Die Liegenschaft ist im Minergie Standard erstellt und zertifiziert.Das Haus eignet sich bestens für eine Familie oder ein Paar in Kombination mit Homeoffice. Es verfügt über eine Nettogeschossfläche (beheizte Wohnfläche) von 156.50m2 und eine Nutzfläche (inkl. Garage, Hobbyraum und Waschen/Trocknen/Technik) von 242.00m2.Erdgeschoss  Sie betreten das Haus über einen grosszügigen Eingangsbereich. Der grosse Garderobenschrank bietet Platz für die ganze Familie, Sporttaschen und vieles mehr.Vom Eingangsbereich gelangen Sie direkt in die übergrosse Garage (ca. 47.50m2). Zwei Autos finden mühelos darin Platz und im hinteren Teil der Garage verfügen Sie über zusätzlichen Raum um eine Werkstatt einzurichten oder Velos und Kinderwagen zu parkieren.Obergeschoss  Über die Sichtbetontreppe erreichen Sie das Obergeschoss. Die ganze Treppe gleicht einer Skulptur und der grosszügige Vorbereich führt zu den beiden Kinderzimmer. gegenüber befindet sich WC/Dusche und der Eingangsbereich in den Masterbedroom (Elternzimmer mit separater Ankleide und Bad).Fernen befindet sich auf diesem Geschoss der Hobbyraum (ca. 22.00m2) und dahinter liegend der Technikraum mit Waschmaschine und Tumbler (ca. 16.00m2).Das Haus wird mit einer eigenen Wärmepumpe (Luft-Wasser) beheizt und die Wärmeverteilung erfolgt über eine Fussbodenheizung. Zudem verfügt das Haus über eine eigene, kontrollierte Wohnungslüftung. Anschlüsse für eine Wasserentkalkung sind vorhanden.Attikageschoss  Im Attikageschoss befindet sich der offen Wohn-, Ess, und Kochbereich. Die Küche mit viel Stauraum verfügt über eine Chromstahlabdeckung, Topgeräte der Firma V-Zug (Induktionsherd, Backofen, Steamer, Geschirrwaschmaschine), einen grosse Kühlschrank sowie einen Dampfabzug. Der Küche direkt angegliedert ist ein Reduit. Der perfekte Raum für Vorräte und alles was nicht täglich in der Küche gebraucht wird.Dem Essbereich zugeordnet befindet sich die Ostterrasse (Morgensonne, ca. 25.00m2). Ein schön bepflanzter Gartenteil bildet den Abschluss.Die grosse Westterrasse (Mittag- und Abendsonne, ca. 52.50m2) erreichen Sie über den Wohnbereich. Die Aussicht in den nahen Jura ist phänomenal.Das ganze Haus verfügt über einen hochwertigen Eichenparkett (Echtholz) sowie Wände mit Gipsglattstrich.Haben wir Ihr Interesse geweckt?Gerne zeigen wir Ihnen diese stilvolle Liegenschaft unverbindlich vor Ort.', 'url': 'https://www.immoscout24.ch//en/d/terrace-house-buy-biberstein/7266694', 'table': 'b\\'<article class=\"Box-cYFBPY hKrxoH\"><h2 class=\"Box-cYFBPY gZLPvm\">Main information</h2><table class=\"DataTable__StyledTable-sc-1o2xig5-1 jbXaEC\"><tbody><tr><td class=\"DataTable__SimpleCell-sc-1o2xig5-2 DataTable__Cell-sc-1o2xig5-4 edrNfG dGBatU\">Municipality</td><td class=\"DataTable__SimpleCell-sc-1o2xig5-2 DataTable__CellValue-sc-1o2xig5-3 edrNfG rJZBK\">Biberstein</td></tr><tr><td class=\"DataTable__SimpleCell-sc-1o2xig5-2 DataTable__Cell-sc-1o2xig5-4 edrNfG dGBatU\">Living space</td><td class=\"DataTable__SimpleCell-sc-1o2xig5-2 DataTable__CellValue-sc-1o2xig5-3 edrNfG rJZBK\">156 m&#178;</td></tr><tr><td class=\"DataTable__SimpleCell-sc-1o2xig5-2 DataTable__Cell-sc-1o2xig5-4 edrNfG dGBatU\">Plot area</td><td class=\"DataTable__SimpleCell-sc-1o2xig5-2 DataTable__CellValue-sc-1o2xig5-3 edrNfG rJZBK\">222 m&#178;</td></tr><tr><td class=\"DataTable__SimpleCell-sc-1o2xig5-2 DataTable__Cell-sc-1o2xig5-4 edrNfG dGBatU\">Floor space</td><td class=\"DataTable__SimpleCell-sc-1o2xig5-2 DataTable__CellValue-sc-1o2xig5-3 edrNfG rJZBK\">242 m&#178;</td></tr><tr><td class=\"DataTable__SimpleCell-sc-1o2xig5-2 DataTable__Cell-sc-1o2xig5-4 edrNfG dGBatU\">Availability</td><td class=\"DataTable__SimpleCell-sc-1o2xig5-2 DataTable__CellValue-sc-1o2xig5-3 edrNfG rJZBK\">On request</td></tr></tbody></table><hr class=\"Divider-iprSaI bBhTLQ\"/></article>\\''}                                                                                                                                                                                                                                                                                                                                                                                                                                                                                                                                                           2\n",
       "{'Municipality': 'Erlinsbach (AG)', 'Living space': '228 m²', 'Plot area': '700 m²', 'Availability': 'On request', 'location': 'Erlenweg 45018 Erlinsbach, AG', 'description': '6.5 rooms, 228 m²«WOHNTRAUM - 6½-Zimmer-Einfamilienhaus an bester Lage!»CHF 1,990,000.—Favourite', 'detailed_description': 'DescriptionDieses traumhafte, moderne und grosszügige Haus wird voraussichtlich im 2023 erbaut. Aktuell ist das Baugesuch bei der Bauverwaltung eingereicht und wird bald publiziert. Somit besteht die Möglichkeit, beim kompletten Innenausbau, in gewissem Umfang, mit zu entscheiden.Ihr Haus liegt in einem ruhigen Quartier direkt am Rande eines Naherholungsgebiets und einem kleinen Bach. Sie schmiegen sich an einen sanften Hang; beide Häuser sind sehr gut besonnt. Die Höhe der Räume und die grosse Fensterfläche sorgen für eine freundliche, lichtdurchflutete Atmosphäre. Die grossflächigen Balkone und Gartensitzplätze können optional auch verglast werden. Besonderes Augenmerk lag beim Planen auf den grosszügig geschnittenen, praktischen Grundrissen, auf einer hohen Bauqualität und auf erstklassigen Einbauten, Geräten und Armaturen.Ein weiteres Highlight ist natürlich das grosse Grundstück mit ca. 700m2. Ausreichend Platz, für Kinder & Gartenliebhaber.', 'url': 'https://www.immoscout24.ch//en/d/detached-house-buy-erlinsbach/7221252', 'table': 'b\\'<article class=\"Box-cYFBPY hKrxoH\"><h2 class=\"Box-cYFBPY gZLPvm\">Main information</h2><table class=\"DataTable__StyledTable-sc-1o2xig5-1 jbXaEC\"><tbody><tr><td class=\"DataTable__SimpleCell-sc-1o2xig5-2 DataTable__Cell-sc-1o2xig5-4 edrNfG dGBatU\">Municipality</td><td class=\"DataTable__SimpleCell-sc-1o2xig5-2 DataTable__CellValue-sc-1o2xig5-3 edrNfG rJZBK\">Erlinsbach (AG)</td></tr><tr><td class=\"DataTable__SimpleCell-sc-1o2xig5-2 DataTable__Cell-sc-1o2xig5-4 edrNfG dGBatU\">Living space</td><td class=\"DataTable__SimpleCell-sc-1o2xig5-2 DataTable__CellValue-sc-1o2xig5-3 edrNfG rJZBK\">228 m&#178;</td></tr><tr><td class=\"DataTable__SimpleCell-sc-1o2xig5-2 DataTable__Cell-sc-1o2xig5-4 edrNfG dGBatU\">Plot area</td><td class=\"DataTable__SimpleCell-sc-1o2xig5-2 DataTable__CellValue-sc-1o2xig5-3 edrNfG rJZBK\">700 m&#178;</td></tr><tr><td class=\"DataTable__SimpleCell-sc-1o2xig5-2 DataTable__Cell-sc-1o2xig5-4 edrNfG dGBatU\">Availability</td><td class=\"DataTable__SimpleCell-sc-1o2xig5-2 DataTable__CellValue-sc-1o2xig5-3 edrNfG rJZBK\">On request</td></tr></tbody></table><hr class=\"Divider-iprSaI bBhTLQ\"/></article>\\''}                                                                                                                                                                                                                                                                                                                                                                                                                                                                                                                                                                                                                                                                                                                                                                                                                                                                                                                                                                                                                                                                                                                                                                                                                                                                                                                                                                                                                                                                                                                                                                                                                                                                                                                                                                                                                                                                                                                                                                                                                                                                                                                                                                                                                                                                                                                                                                                                                                                                                                                                                                                                                                                                                                                                                                      2\n",
       "{'Municipality': 'Buchs (AG)', 'Living space': '93 m²', 'Floor': 'Ground floor', 'Availability': 'On request', 'location': 'Trieschweg 265033 Buchs AG, AG', 'description': '3.5 rooms, 93 m²«Neuwertige 3½ Zimmer Parterre-Wohnung ? ideal als erstes Eigenheim»CHF 695,000.—Favourite', 'detailed_description': \"DescriptionIn dem im 2020 neu erbauten Trieschpark-Quartier in Buchs AG ist diese moderne Gartenwohnung zu verkaufen. Das Wohnquartier befindet sich an ruhiger und idealer Lage und ist doch verkehrstechnisch ideal gelegen. Kinder sind herzlich willkommen.Die Wohnung überzeug durch folgende Eckdaten:Praktischer Grundriss ? 93 m² WohnflächeOffene Küche mit KochinselBadezimmer en Suite mit Dusche/WCGästebad mit BadewanneReduit mit Waschmaschine/Tumbler in der WohnungOffene Einbaugarderobe im EntréeHelles Wohnzimmer mit grossen Fensterfronten und Zugang zum SitzplatzMorderner, zeitgemässer AusbaustandardEichenparkett im Wohn-/Esszimmer und in allen SchlafräumenGedeckter Gartensitzplatz 12 m²Mittag- und AbendsonneElektrische Lamellen- und SonnenstorenFussbodenheizungRollstuhlgängigKellerraum rund 10 m²Der ökologische Wohnkomfort wird durch die Ausführung im Minergie-P-Standard ? dem Gütesiegel für geringen Energiebedarf gewährt.Distanzen:Bushaltestelle Alterszentrum 500 mKindergarten Triesch: 200 mSchulanlage Risiacher: 400 mSchulhaus Suhrenmatte: 550 mEinkaufen: 1.4 km (Wynencenter)Autobahnanschluss:In 3 Min. ist die Schnellstrasse T5 mit Anschluss an die A1 zu erreichenPreisübersicht:3½\\xa0Zimmer-Parterre-Wohnung: CHF 695'000.-Parkplatz in der Tiefgarage: CHF 30'000.-Möglichkeit, eine Festhypothek zu 0.98% zu übernehmen (Laufzeit bis Februar 2030)Könnte dies Ihr zukünftiges Zuhause sein? Dann freuen wir uns auf Ihre Kontaktaufnahme.\", 'url': 'https://www.immoscout24.ch//en/d/flat-buy-buchs-ag/7295068', 'table': 'b\\'<article class=\"Box-cYFBPY hKrxoH\"><h2 class=\"Box-cYFBPY gZLPvm\">Main information</h2><table class=\"DataTable__StyledTable-sc-1o2xig5-1 jbXaEC\"><tbody><tr><td class=\"DataTable__SimpleCell-sc-1o2xig5-2 DataTable__Cell-sc-1o2xig5-4 edrNfG dGBatU\">Municipality</td><td class=\"DataTable__SimpleCell-sc-1o2xig5-2 DataTable__CellValue-sc-1o2xig5-3 edrNfG rJZBK\">Buchs (AG)</td></tr><tr><td class=\"DataTable__SimpleCell-sc-1o2xig5-2 DataTable__Cell-sc-1o2xig5-4 edrNfG dGBatU\">Living space</td><td class=\"DataTable__SimpleCell-sc-1o2xig5-2 DataTable__CellValue-sc-1o2xig5-3 edrNfG rJZBK\">93 m&#178;</td></tr><tr><td class=\"DataTable__SimpleCell-sc-1o2xig5-2 DataTable__Cell-sc-1o2xig5-4 edrNfG dGBatU\">Floor</td><td class=\"DataTable__SimpleCell-sc-1o2xig5-2 DataTable__CellValue-sc-1o2xig5-3 edrNfG rJZBK\">Ground floor</td></tr><tr><td class=\"DataTable__SimpleCell-sc-1o2xig5-2 DataTable__Cell-sc-1o2xig5-4 edrNfG dGBatU\">Availability</td><td class=\"DataTable__SimpleCell-sc-1o2xig5-2 DataTable__CellValue-sc-1o2xig5-3 edrNfG rJZBK\">On request</td></tr></tbody></table><hr class=\"Divider-iprSaI bBhTLQ\"/></article>\\''}                                                                                                                                                                                                                                                                                                                                                                                                                                                                                                                                                                                                                                                                                                                                                                                                                                                                                                                                                                                                                                                                                                                                                                                                                                                                                                                                                                                                                                                                                                                                                                                                                                                                                                                                                                                                                                                                                                                                                                                                                                                                                                                                                                                                                                                                       2\n",
       "                                                                                                                                                                                                                                                                                                                                                                                                                                                                                                                                                                                                                                                                                                                                                                                                                                                                                                                                                                                                                                                                                                                                                                                                                                                                                                                                                                                                                                                                                                                                                                                                                                                                                                                                                                                                                                                                                                                                                                                                                                                                                                                                                                                                                                                                                                                                                                                                                                                                                                                                                                                                                                                                                                                                                                                                                                                                                                                                                                                                                                                                                                                                                                                                                                                                                                                                                                                                                                                                                                                                                                                                                                                                                                                                                                                                                                                                                                                                                                                                                                                                                                                                                                                                                                                                                                                                                                                                                                                                                                                                                                                                                                                                                                                                                                                                                                                                                                                                                                                                                                                                                                                                                                                                                                                                                                                                                  ..\n",
       "{'Municipality': 'Werthenstein', 'Availability': 'On request', 'location': 'Bahnhofstrasse6105 Schachen LU, LU', 'description': '3.5 rooms«3.5-Zimmer-Wohnung | Schachenweid»CHF 630,000.—FavouriteNew building projectThis property is part of the project \"Schachenweid\".To the project', 'detailed_description': 'DescriptionOptimales Wohnen für vielseitige Bedürfnisse  Mit der ?Schachenweid? erhält die Gemeinde Werthenstein eine stilvolle Wohnüberbauung an attraktivster Lage, direkt neben dem Bahnhof Schachen. Hier, entstehen moderne Neubau Eigentumswohnungen für Singles, Paare und Familien. Insgesamt sind es 36 Wohnungen in den Grössen 2.5- bis 4.5-Zimmer.Ideale Grundrisse, moderne und zeitlose Innenausstattungen, ein eigener Kinderspielplatz sowie die direkte Anbindung an den Bahnhof Schachen machen die ?Schachenweid? zum optimalen Wohnort. Nebst der Einbettung in die grüne und kinderfreundliche Umgebung, punktet die Überbauung mit einer hochwertigen Wohnungsausstattung. Entsprechend finden sich nur werthaltige, zeitlose Materialien und energieeffiziente Geräte in dieser einzigartigen Liegenschaft. Sämtliche Wohnungen verfügen über eine eigene Waschmaschine sowie einen Tumbler.Diverse Einkaufs- und Sportmöglichkeiten finden Sie in unmittelbarer Gehdistanz, genauso wie der Kindergarten oder die Schule. Durch den direkten Bahnanschluss erreichen Sie alle Ziele der Schweiz, wie beispielsweise die Stadt Luzern in nur 15 Minuten. Natürlich hält die Überbauung noch viele weitere Details für Sie bereit.Verkaufsangebot:  6x 2.5-Zimmer-Wohnung | ab 65 m² | ab CHF 350000.0014x 3.5-Zimmer-Wohnung | ab 103 m² | ab CHF 505000.0016x 4.5-Zimmer-Wohnung | ab 134 m² | ab CHF 650000.00Einstellhallen-Parkplatz à CHF 35000.00Haben wir Ihr Interesse geweckt?Gerne erklären wir Ihnen bei einem unverbindlichen Gespräch das Projekt im Detail.Bei Fragen können Sie uns jederzeit kontaktieren.', 'url': 'https://www.immoscout24.ch//en/d/flat-buy-schachen-lu/7270211', 'table': 'b\\'<article class=\"Box-cYFBPY hKrxoH\"><h2 class=\"Box-cYFBPY gZLPvm\">Main information</h2><table class=\"DataTable__StyledTable-sc-1o2xig5-1 jbXaEC\"><tbody><tr><td class=\"DataTable__SimpleCell-sc-1o2xig5-2 DataTable__Cell-sc-1o2xig5-4 edrNfG dGBatU\">Municipality</td><td class=\"DataTable__SimpleCell-sc-1o2xig5-2 DataTable__CellValue-sc-1o2xig5-3 edrNfG rJZBK\">Werthenstein</td></tr><tr><td class=\"DataTable__SimpleCell-sc-1o2xig5-2 DataTable__Cell-sc-1o2xig5-4 edrNfG dGBatU\">Availability</td><td class=\"DataTable__SimpleCell-sc-1o2xig5-2 DataTable__CellValue-sc-1o2xig5-3 edrNfG rJZBK\">On request</td></tr></tbody></table><hr class=\"Divider-iprSaI bBhTLQ\"/></article>\\''}                                                                                                                                                                                                                                                                                                                                                                                                                                                                                                                                                                                                                                                                                                                                                                                                                                                                                                                                                                                                                                                                                                                                                                                                                                                                                                                                                                                                                                                                                                                                                                                                                                                                                                                                                                                                                                                                                                                                                                                                                                                                                                                                                                                                                                                                                                                                                                                                                                                                                                                                                                                         1\n",
       "{'Municipality': 'Boncourt', 'Living space': '101 m²', 'Plot area': '45 m²', 'Availability': 'On request', 'location': '2926 Boncourt, JU', 'description': '3.5 rooms, 101 m²«LES 3 DERNIÈRES MAISONS DISPONIBLE»CHF 316,000.—Favourite', 'detailed_description': \"DescriptionCharmante petite maison écologique et original. Vous rêvez d'une petite maison qui allie confort et écologie, ne manquez pas ce nouveau projet de 12 petite villa d'environ 100m2 avec sa terrasse un espace jardin et une place de parc. Ses maisons serons disponible dès mars 2021 information et plan sur demande. Minergie A, Une consommation pour le chauffage virtuellement inexistanteChaque maison aura son propre système photovoltaïqueChaque maison aura système de chauffage avec le système UNICO, des split capable de générer air chaude et air conditionnée pendant lété pour une gérance optimale de la temperature pendant toutes les périodes de lannée.Cette offre de BETTERHOMES se caractérise par les avantages suivants:charmanteécologiqueau calmeneuvedisponible dès mai 2022 plus que 3 maisons disponibleprix très intéressantIntéressé? Contactez-nous pour une visite sans engagement - visite en ligne également possible!Rien qui correspond? Vous trouverez plus de 2'300 autres objets sur: www.betterhomes.ch - Le spécialiste suisse des transactions immobilières.Vous avez un bien immobilier à commercialiser?Profitez de notre savoir-faire: https://www.betterhomes.ch/fr/profiterVous souhaitez connaître la valeur de votre bien immobilier?Découvrez sa valeur dès maintenant grâce à notre estimation gratuite, immédiate et sans engagement!https://www.betterhomes.ch/fr/knowledge/estimationPlus détailsSituation: au calme et idéalement situéSalles de bain: 1 (1x douche/baignoire/wc/lavabo)Transport publics: bus, 1 min. à piedEcole: école primaire et secondaire, 5 min. à piedCommerces: Coop et Migros, 500 mFurther information\", 'url': 'https://www.immoscout24.ch//en/d/detached-house-buy-boncourt/7272683', 'table': 'b\\'<article class=\"Box-cYFBPY hKrxoH\"><h2 class=\"Box-cYFBPY gZLPvm\">Main information</h2><table class=\"DataTable__StyledTable-sc-1o2xig5-1 jbXaEC\"><tbody><tr><td class=\"DataTable__SimpleCell-sc-1o2xig5-2 DataTable__Cell-sc-1o2xig5-4 edrNfG dGBatU\">Municipality</td><td class=\"DataTable__SimpleCell-sc-1o2xig5-2 DataTable__CellValue-sc-1o2xig5-3 edrNfG rJZBK\">Boncourt</td></tr><tr><td class=\"DataTable__SimpleCell-sc-1o2xig5-2 DataTable__Cell-sc-1o2xig5-4 edrNfG dGBatU\">Living space</td><td class=\"DataTable__SimpleCell-sc-1o2xig5-2 DataTable__CellValue-sc-1o2xig5-3 edrNfG rJZBK\">101 m&#178;</td></tr><tr><td class=\"DataTable__SimpleCell-sc-1o2xig5-2 DataTable__Cell-sc-1o2xig5-4 edrNfG dGBatU\">Plot area</td><td class=\"DataTable__SimpleCell-sc-1o2xig5-2 DataTable__CellValue-sc-1o2xig5-3 edrNfG rJZBK\">45 m&#178;</td></tr><tr><td class=\"DataTable__SimpleCell-sc-1o2xig5-2 DataTable__Cell-sc-1o2xig5-4 edrNfG dGBatU\">Availability</td><td class=\"DataTable__SimpleCell-sc-1o2xig5-2 DataTable__CellValue-sc-1o2xig5-3 edrNfG rJZBK\">On request</td></tr></tbody></table><hr class=\"Divider-iprSaI bBhTLQ\"/></article>\\''}                                                                                                                                                                                                                                                                                                                                                                                                                                                                                                                                                                                                                                                                                                                                                                                                                                                                                                                                                                                                                                                                                                                                                                                                                                                                                                                                                                                                                                                                                                                                                                                                                                                                                                                                                                                                                                                                                                                                                                                                                                                                                                                  1\n",
       "{'Municipality': 'Porrentruy', 'Living space': '115 m²', 'Plot area': '38 m²', 'Availability': 'Immediately', 'location': '2900 Porrentruy, JU', 'description': '4.5 rooms, 115 m²«Maison atypique en ville historique de Porrentruy.»CHF 395,000.—Favourite', 'detailed_description': \"DescriptionSur les hauteurs du centre historique se dresse une maison que l'on peut désigner comme une habitation typique de la ville ancienne. On peut l'habiter sur quatre étages qui sont reliés les uns aux autres par des escaliers de pierre en colimaçon. Les propriétaires précédents l'ont bien entretenue et rénovée. Les pierres apparentes dans l'entrée et dans la cage d'escaliers donnent à ce bâtiment une âme authentique. Au rez de chaussée se trouvent une entrée, un WC et une buanderie. Le premier étage, très chaleureux, est occupé par le séjour et la cuisine. A l'étage supérieur, deux chambres et une mezzanine complètent cette charmante demeure. La maison est chauffée par des poêles à pellets.Auf den Höhen des historischen Zentrums steht ein Haus, das als typisches Wohnhaus der Altstadt bezeichnet werden kann. Es kann auf vier Etagen bewohnt werden, die durch steinerne Wendeltreppen miteinander verbunden sind. Die Vorbesitzer haben es gut gepflegt und renoviert. Die freigelegten Steine im Eingangsbereich und im Treppenhaus verleihen diesem Gebäude eine authentische Seele. Im Erdgeschoss befinden sich ein Eingang, eine Toilette und eine Waschküche. Der erste Stock, sehr warm, wird vom Wohnzimmer und der Küche eingenommen. Im Obergeschoss vervollständigen zwei Schlafzimmer und ein Zwischengeschoss diese charmante Residenz. Das Haus wird mit Pelletöfen beheizt.Further information\", 'url': 'https://www.immoscout24.ch//en/d/detached-house-buy-porrentruy/7193252', 'table': 'b\\'<article class=\"Box-cYFBPY hKrxoH\"><h2 class=\"Box-cYFBPY gZLPvm\">Main information</h2><table class=\"DataTable__StyledTable-sc-1o2xig5-1 jbXaEC\"><tbody><tr><td class=\"DataTable__SimpleCell-sc-1o2xig5-2 DataTable__Cell-sc-1o2xig5-4 edrNfG dGBatU\">Municipality</td><td class=\"DataTable__SimpleCell-sc-1o2xig5-2 DataTable__CellValue-sc-1o2xig5-3 edrNfG rJZBK\">Porrentruy</td></tr><tr><td class=\"DataTable__SimpleCell-sc-1o2xig5-2 DataTable__Cell-sc-1o2xig5-4 edrNfG dGBatU\">Living space</td><td class=\"DataTable__SimpleCell-sc-1o2xig5-2 DataTable__CellValue-sc-1o2xig5-3 edrNfG rJZBK\">115 m&#178;</td></tr><tr><td class=\"DataTable__SimpleCell-sc-1o2xig5-2 DataTable__Cell-sc-1o2xig5-4 edrNfG dGBatU\">Plot area</td><td class=\"DataTable__SimpleCell-sc-1o2xig5-2 DataTable__CellValue-sc-1o2xig5-3 edrNfG rJZBK\">38 m&#178;</td></tr><tr><td class=\"DataTable__SimpleCell-sc-1o2xig5-2 DataTable__Cell-sc-1o2xig5-4 edrNfG dGBatU\">Availability</td><td class=\"DataTable__SimpleCell-sc-1o2xig5-2 DataTable__CellValue-sc-1o2xig5-3 edrNfG rJZBK\">Immediately</td></tr></tbody></table><hr class=\"Divider-iprSaI bBhTLQ\"/></article>\\''}                                                                                                                                                                                                                                                                                                                                                                                                                                                                                                                                                                                                                                                                                                                                                                                                                                                                                                                                                                                                                                                                                                                                                                                                                                                                                                                                                                                                                                                                                                                                                                                                                                                                                                                                                                                                                                                                                                                                                                                                                                                                                                                                                                                                                                                                                                                                    1\n",
       "{'Municipality': 'Cornol', 'Living space': '367 m²', 'Plot area': '911 m²', 'Availability': 'Immediately', 'location': 'Cornol2952 Cornol, JU', 'description': '6.5 rooms, 367 m²«Très jolie maison avec grand terrain et beaucoup de potentiel»CHF 595,000.—Favourite', 'detailed_description': \"DescriptionTrès jolie maison avec grand terrain et beaucoup de potentielIdéalement exposée et située dans un endroit très calme, cette jolie maison bénéficie d'un splendide environnement et d'un grand terrain. Les surfaces généreuses des pièces, le grand jardin réparti des 2 côtés de la maison, l'atelier de 50 m2, l'énorme potentiel d'aménagement du volume du grenier, le cachet de la maison ou les travaux effectués sont autant d'arguments qui vous séduiront. N'attendez pas pour demander une visite!Adresse exacte disponible après inscription sur neho.ch.VOUS SOUHAITEZ VISITER ? MERCI DE BIEN VOULOIR VOUS INSCRIRE D'ABORD : https://neho.ch/p/2952-22-1Sehr schönes Haus mit großem Grundstück und viel PotenzialDieses hübsche Haus ist ideal gelegen und befindet sich in einer sehr ruhigen Gegend. Es profitiert von einer herrlichen Umgebung und einem großen Grundstück. Die großzügigen Flächen der Zimmer, der große Garten auf beiden Seiten des Hauses, das 50 m2 große Atelier, das enorme Ausbaupotenzial des Dachbodens, der Charakter des Hauses und die durchgeführten Arbeiten sind allesamt Argumente, die Sie begeistern werden. Warten Sie nicht, um eine Besichtigung anzufordern!Genaue Adresse verfügbar nach Registrierung auf neho.ch.AN EINER BESICHTIGUNG INTERESSIERT? BITTE ANMELDEN: https://neho.ch/p/2952-22-1Very nice house with a large plot and a lot of potentialIdeally exposed and located in a very quiet area, this pretty house benefits from a splendid environment and a large plot of land. The generous surfaces of the rooms, the large garden on both sides of the house, the workshop of 50 m2, the enormous potential of development of the volume of the attic, the character of the house or the work carried out are as many arguments which will allure you. Do not wait to ask for a visit!Exact address available upon registration on neho.ch.INTERESTED IN VISITING THE PROPERTY? PLEASE REGISTER FIRST : https://neho.ch/p/2952-22-1Further information\", 'url': 'https://www.immoscout24.ch//en/d/detached-house-buy-cornol/7195073', 'table': 'b\\'<article class=\"Box-cYFBPY hKrxoH\"><h2 class=\"Box-cYFBPY gZLPvm\">Main information</h2><table class=\"DataTable__StyledTable-sc-1o2xig5-1 jbXaEC\"><tbody><tr><td class=\"DataTable__SimpleCell-sc-1o2xig5-2 DataTable__Cell-sc-1o2xig5-4 edrNfG dGBatU\">Municipality</td><td class=\"DataTable__SimpleCell-sc-1o2xig5-2 DataTable__CellValue-sc-1o2xig5-3 edrNfG rJZBK\">Cornol</td></tr><tr><td class=\"DataTable__SimpleCell-sc-1o2xig5-2 DataTable__Cell-sc-1o2xig5-4 edrNfG dGBatU\">Living space</td><td class=\"DataTable__SimpleCell-sc-1o2xig5-2 DataTable__CellValue-sc-1o2xig5-3 edrNfG rJZBK\">367 m&#178;</td></tr><tr><td class=\"DataTable__SimpleCell-sc-1o2xig5-2 DataTable__Cell-sc-1o2xig5-4 edrNfG dGBatU\">Plot area</td><td class=\"DataTable__SimpleCell-sc-1o2xig5-2 DataTable__CellValue-sc-1o2xig5-3 edrNfG rJZBK\">911 m&#178;</td></tr><tr><td class=\"DataTable__SimpleCell-sc-1o2xig5-2 DataTable__Cell-sc-1o2xig5-4 edrNfG dGBatU\">Availability</td><td class=\"DataTable__SimpleCell-sc-1o2xig5-2 DataTable__CellValue-sc-1o2xig5-3 edrNfG rJZBK\">Immediately</td></tr></tbody></table><hr class=\"Divider-iprSaI bBhTLQ\"/></article>\\''}                                                                                                                                                                                                                                                                                                                                                                                                                                                                                                                                                                                                                                                                                                                                                                                                                                                                                                                                                                                                                                                                                                                                                                                                                                                                                                                                                                                                                                                                                                                                                                                                                                                                                                                                                1\n",
       "{'Municipality': 'Winterthur', 'Living space': '385 m²', 'Plot area': '1306 m²', 'Availability': 'Immediately', 'location': 'Im Eichbühl 508405 Winterthur, ZH', 'description': '7.5 rooms, 385 m²«Wohnen an ruhiger, sonniger Wohnlage mit bester Aussicht»CHF 2,750,000.—Favourite', 'detailed_description': 'DescriptionDas freistehende Einfamilienhaus an erhöhter und ruhiger Wohnlage ist von einem schön gestalteten Garten umgeben, in dem es diverse Aufenthaltsbereiche gibt. Bei herrlicher Aus- und Weitsicht ins Grüne und bis in die Stadt lässt es sich gut erholen. Die vielen Spaziermöglichkeiten in der Nähe laden in die Natur ein.Das schöne Haus besteht aus 2 Wohngeschossen mit diversen Neben- und Disporäumen und besticht durch seine praktische Grösse. Je nach Bedürfnissen kann das Innere noch nach Geschmack angepasst werden.Kommen Sie vorbei und überzeugen Sie sich selbt. Alle Details entnehmen Sie der angehängten Verkaufsdokumentation.', 'url': 'https://www.immoscout24.ch//en/d/detached-house-buy-winterthur/7269251', 'table': 'b\\'<article class=\"Box-cYFBPY hKrxoH\"><h2 class=\"Box-cYFBPY gZLPvm\">Main information</h2><table class=\"DataTable__StyledTable-sc-1o2xig5-1 jbXaEC\"><tbody><tr><td class=\"DataTable__SimpleCell-sc-1o2xig5-2 DataTable__Cell-sc-1o2xig5-4 edrNfG dGBatU\">Municipality</td><td class=\"DataTable__SimpleCell-sc-1o2xig5-2 DataTable__CellValue-sc-1o2xig5-3 edrNfG rJZBK\">Winterthur</td></tr><tr><td class=\"DataTable__SimpleCell-sc-1o2xig5-2 DataTable__Cell-sc-1o2xig5-4 edrNfG dGBatU\">Living space</td><td class=\"DataTable__SimpleCell-sc-1o2xig5-2 DataTable__CellValue-sc-1o2xig5-3 edrNfG rJZBK\">385 m&#178;</td></tr><tr><td class=\"DataTable__SimpleCell-sc-1o2xig5-2 DataTable__Cell-sc-1o2xig5-4 edrNfG dGBatU\">Plot area</td><td class=\"DataTable__SimpleCell-sc-1o2xig5-2 DataTable__CellValue-sc-1o2xig5-3 edrNfG rJZBK\">1306 m&#178;</td></tr><tr><td class=\"DataTable__SimpleCell-sc-1o2xig5-2 DataTable__Cell-sc-1o2xig5-4 edrNfG dGBatU\">Availability</td><td class=\"DataTable__SimpleCell-sc-1o2xig5-2 DataTable__CellValue-sc-1o2xig5-3 edrNfG rJZBK\">Immediately</td></tr><tr class=\"Box-cYFBPY fgkiRl\"><td colspan=\"2\" class=\"DataTable__SimpleCell-sc-1o2xig5-2 DataTable__Cell-sc-1o2xig5-4 edrNfG fFglmV\"><a href=\"https://cis01.immoscout24.ch/is24media/64/82/e5669c254c-220815.pdf\" target=\"_blank\" rel=\"noopener\" class=\"Box-cYFBPY Link__Shell-kMBQAv ljXWtL hMCCae\"><svg width=\"24\" height=\"24\" viewbox=\"0 0 24 24\" fill=\"none\" class=\"Pdf__SvgPdf-fVqkQz jPOpoj\"><path d=\"M18 18v2H6v-2H4v4h16v-5l-2 1zM4 10V8l6-6h10v8h-2V4h-6v6H4zm6-5L7 8h3V5zm-2.042 7.386a2.131 2.131 0 00-1.405-1.228A6.203 6.203 0 005 11H4v6h1v-1.995a6.2 6.2 0 001.552-.159 2.131 2.131 0 001.406-1.227 2.756 2.756 0 000-1.233zM5.995 14L5 14.002V12h1s1.073 0 1.036 1a1.026 1.026 0 01-1.041 1zM19 12v-1h-4v6h1v-2h2v-1h-2v-2h3zm-5.033 1.886C13.927 11.931 12.79 11 10.913 11H9v6h1.913c1.877 0 3.014-.931 3.054-2.886v-.228zM11 16h-1v-4h1a1.789 1.789 0 012.003 2A1.788 1.788 0 0111 16z\" fill=\"#333\"/></svg>Verkaufsdoku.pdf</a></td></tr></tbody></table><hr class=\"Divider-iprSaI bBhTLQ\"/></article>\\''}                                                                                                                                                                                                                                                                                                                                                                                                                                                                                                                                                                                                                                                                                                                                                                                                                                                                                                                                                                                                                                                                                                                                                                                                                                                                                                                                                                                                                                                                                                                                                                                                                                                                                                                                                                                                                                                                                                                                                                                                                                                                                                                                          1\n",
       "Name: details_structured, Length: 13358, dtype: int64"
      ]
     },
     "execution_count": 28,
     "metadata": {},
     "output_type": "execute_result"
    }
   ],
   "source": [
    "df[\"details_structured\"].value_counts()\n"
   ]
  },
  {
   "attachments": {},
   "cell_type": "markdown",
   "metadata": {},
   "source": [
    "From this structure it's apparent that there's information contained on \n",
    "- Municipality\n",
    "- Living Space\n",
    "- Plot Area\n",
    "- Availability\n",
    "- Floor Space\n",
    "- Location\n",
    "- Description\n",
    "- Detailed Description\n",
    "- URL\n",
    "- Table \n",
    "- Floor\n",
    "\n",
    "Let's see how much information we can extract from it."
   ]
  },
  {
   "attachments": {},
   "cell_type": "markdown",
   "metadata": {},
   "source": [
    "## Availability"
   ]
  },
  {
   "cell_type": "code",
   "execution_count": 29,
   "metadata": {},
   "outputs": [
    {
     "data": {
      "text/plain": [
       "12664"
      ]
     },
     "execution_count": 29,
     "metadata": {},
     "output_type": "execute_result"
    }
   ],
   "source": [
    "df[\"details_structured\"].str.contains(\"Availability\", flags=re.IGNORECASE).sum()\n"
   ]
  },
  {
   "attachments": {},
   "cell_type": "markdown",
   "metadata": {},
   "source": [
    "## Address\n",
    "### Municipality"
   ]
  },
  {
   "cell_type": "code",
   "execution_count": 30,
   "metadata": {},
   "outputs": [
    {
     "data": {
      "text/plain": [
       "12897"
      ]
     },
     "execution_count": 30,
     "metadata": {},
     "output_type": "execute_result"
    }
   ],
   "source": [
    "df[\"details_structured\"].str.contains(\"Municipality\", flags=re.IGNORECASE).sum()\n"
   ]
  },
  {
   "attachments": {},
   "cell_type": "markdown",
   "metadata": {},
   "source": [
    "### Location"
   ]
  },
  {
   "cell_type": "code",
   "execution_count": 31,
   "metadata": {},
   "outputs": [
    {
     "data": {
      "text/plain": [
       "13378"
      ]
     },
     "execution_count": 31,
     "metadata": {},
     "output_type": "execute_result"
    }
   ],
   "source": [
    "df[\"details_structured\"].str.contains(\"location\", flags=re.IGNORECASE).sum()\n"
   ]
  },
  {
   "attachments": {},
   "cell_type": "markdown",
   "metadata": {},
   "source": [
    "## Floor"
   ]
  },
  {
   "cell_type": "code",
   "execution_count": 32,
   "metadata": {},
   "outputs": [
    {
     "data": {
      "text/plain": [
       "7380"
      ]
     },
     "execution_count": 32,
     "metadata": {},
     "output_type": "execute_result"
    }
   ],
   "source": [
    "df[\"details_structured\"].str.contains(\"Floor\", flags=re.IGNORECASE).sum()\n"
   ]
  },
  {
   "attachments": {},
   "cell_type": "markdown",
   "metadata": {},
   "source": [
    "## Floor Space"
   ]
  },
  {
   "cell_type": "code",
   "execution_count": 33,
   "metadata": {},
   "outputs": [
    {
     "data": {
      "text/plain": [
       "2784"
      ]
     },
     "execution_count": 33,
     "metadata": {},
     "output_type": "execute_result"
    }
   ],
   "source": [
    "df[\"details_structured\"].str.contains(\"Floor space\", flags=re.IGNORECASE).sum()\n"
   ]
  },
  {
   "attachments": {},
   "cell_type": "markdown",
   "metadata": {},
   "source": [
    "## Gross Return"
   ]
  },
  {
   "cell_type": "code",
   "execution_count": 34,
   "metadata": {},
   "outputs": [
    {
     "data": {
      "text/plain": [
       "6"
      ]
     },
     "execution_count": 34,
     "metadata": {},
     "output_type": "execute_result"
    }
   ],
   "source": [
    "df[\"details_structured\"].str.contains(\"Gross Return\", flags=re.IGNORECASE).sum()\n"
   ]
  },
  {
   "attachments": {},
   "cell_type": "markdown",
   "metadata": {},
   "source": [
    "## Plot Area"
   ]
  },
  {
   "cell_type": "code",
   "execution_count": 35,
   "metadata": {},
   "outputs": [
    {
     "data": {
      "text/plain": [
       "4696"
      ]
     },
     "execution_count": 35,
     "metadata": {},
     "output_type": "execute_result"
    }
   ],
   "source": [
    "df[\"details_structured\"].str.contains(\"Plot area\", flags=re.IGNORECASE).sum()\n"
   ]
  },
  {
   "attachments": {},
   "cell_type": "markdown",
   "metadata": {},
   "source": [
    "## Living Space"
   ]
  },
  {
   "cell_type": "code",
   "execution_count": 36,
   "metadata": {},
   "outputs": [
    {
     "data": {
      "text/plain": [
       "11647"
      ]
     },
     "execution_count": 36,
     "metadata": {},
     "output_type": "execute_result"
    }
   ],
   "source": [
    "df[\"details_structured\"].str.contains(\"Living space\", flags=re.IGNORECASE).sum()\n"
   ]
  },
  {
   "attachments": {},
   "cell_type": "markdown",
   "metadata": {},
   "source": [
    "## Price"
   ]
  },
  {
   "cell_type": "code",
   "execution_count": 37,
   "metadata": {},
   "outputs": [
    {
     "data": {
      "text/plain": [
       "1120"
      ]
     },
     "execution_count": 37,
     "metadata": {},
     "output_type": "execute_result"
    }
   ],
   "source": [
    "df[\"details_structured\"].str.contains(\"Price\", flags=re.IGNORECASE).sum()\n"
   ]
  },
  {
   "attachments": {},
   "cell_type": "markdown",
   "metadata": {},
   "source": [
    "## Rooms"
   ]
  },
  {
   "cell_type": "code",
   "execution_count": 38,
   "metadata": {},
   "outputs": [
    {
     "data": {
      "text/plain": [
       "12816"
      ]
     },
     "execution_count": 38,
     "metadata": {},
     "output_type": "execute_result"
    }
   ],
   "source": [
    "df[\"details_structured\"].str.contains(\"rooms\", flags=re.IGNORECASE).sum()\n"
   ]
  },
  {
   "attachments": {},
   "cell_type": "markdown",
   "metadata": {},
   "source": [
    "## Description"
   ]
  },
  {
   "cell_type": "code",
   "execution_count": 39,
   "metadata": {},
   "outputs": [
    {
     "data": {
      "text/plain": [
       "13378"
      ]
     },
     "execution_count": 39,
     "metadata": {},
     "output_type": "execute_result"
    }
   ],
   "source": [
    "df[\"details_structured\"].str.contains(\"description\", flags=re.IGNORECASE).sum()\n"
   ]
  },
  {
   "attachments": {},
   "cell_type": "markdown",
   "metadata": {},
   "source": [
    "## Detailed Description"
   ]
  },
  {
   "cell_type": "code",
   "execution_count": 40,
   "metadata": {},
   "outputs": [
    {
     "data": {
      "text/plain": [
       "13378"
      ]
     },
     "execution_count": 40,
     "metadata": {},
     "output_type": "execute_result"
    }
   ],
   "source": [
    "df[\"details_structured\"].str.contains(\"detailed_description\", flags=re.IGNORECASE).sum()\n"
   ]
  },
  {
   "attachments": {},
   "cell_type": "markdown",
   "metadata": {},
   "source": [
    "## URL"
   ]
  },
  {
   "cell_type": "code",
   "execution_count": 41,
   "metadata": {},
   "outputs": [
    {
     "data": {
      "text/plain": [
       "13378"
      ]
     },
     "execution_count": 41,
     "metadata": {},
     "output_type": "execute_result"
    }
   ],
   "source": [
    "df[\"details_structured\"].str.contains(\"url\", flags=re.IGNORECASE).sum()\n"
   ]
  },
  {
   "attachments": {},
   "cell_type": "markdown",
   "metadata": {},
   "source": [
    "## Table"
   ]
  },
  {
   "cell_type": "code",
   "execution_count": 42,
   "metadata": {},
   "outputs": [
    {
     "data": {
      "text/plain": [
       "13378"
      ]
     },
     "execution_count": 42,
     "metadata": {},
     "output_type": "execute_result"
    }
   ],
   "source": [
    "df[\"details_structured\"].str.contains(\"table\", flags=re.IGNORECASE).sum()\n"
   ]
  },
  {
   "attachments": {},
   "cell_type": "markdown",
   "metadata": {},
   "source": [
    "# Details"
   ]
  },
  {
   "cell_type": "code",
   "execution_count": 43,
   "metadata": {},
   "outputs": [
    {
     "data": {
      "text/plain": [
       "4.5 rooms, 120 m²,     135\n",
       "4.5 rooms, 110 m²,     132\n",
       "4.5 rooms,             120\n",
       "3.5 rooms, 100 m²,     111\n",
       "4.5 rooms, 100 m²,     102\n",
       "                      ... \n",
       "121 m²,                  1\n",
       "6 rooms, 132 m²,         1\n",
       "5.5 rooms, 340 m²,       1\n",
       "393 m²,                  1\n",
       "7.5 rooms, 385 m²,       1\n",
       "Name: details, Length: 2741, dtype: int64"
      ]
     },
     "execution_count": 43,
     "metadata": {},
     "output_type": "execute_result"
    }
   ],
   "source": [
    "df[\"details\"].value_counts()\n"
   ]
  },
  {
   "attachments": {},
   "cell_type": "markdown",
   "metadata": {},
   "source": [
    "It looks like we've got another column with information about the rooms and living space (or some other space). Let's extract and count it.  "
   ]
  },
  {
   "attachments": {},
   "cell_type": "markdown",
   "metadata": {},
   "source": [
    "## Rooms"
   ]
  },
  {
   "cell_type": "code",
   "execution_count": 44,
   "metadata": {},
   "outputs": [
    {
     "data": {
      "text/plain": [
       "12799"
      ]
     },
     "execution_count": 44,
     "metadata": {},
     "output_type": "execute_result"
    }
   ],
   "source": [
    "df[\"details\"].str.contains(\"rooms\", flags=re.IGNORECASE).sum()\n"
   ]
  },
  {
   "attachments": {},
   "cell_type": "markdown",
   "metadata": {},
   "source": [
    "## Living Space"
   ]
  },
  {
   "cell_type": "code",
   "execution_count": 45,
   "metadata": {},
   "outputs": [
    {
     "data": {
      "text/plain": [
       "12777"
      ]
     },
     "execution_count": 45,
     "metadata": {},
     "output_type": "execute_result"
    }
   ],
   "source": [
    "df[\"details\"].str.contains(\"m²\").sum()\n"
   ]
  }
 ],
 "metadata": {
  "kernelspec": {
   "display_name": "base",
   "language": "python",
   "name": "python3"
  },
  "language_info": {
   "codemirror_mode": {
    "name": "ipython",
    "version": 3
   },
   "file_extension": ".py",
   "mimetype": "text/x-python",
   "name": "python",
   "nbconvert_exporter": "python",
   "pygments_lexer": "ipython3",
   "version": "3.10.6"
  },
  "orig_nbformat": 4,
  "vscode": {
   "interpreter": {
    "hash": "d4d1e4263499bec80672ea0156c357c1ee493ec2b1c70f0acce89fc37c4a6abe"
   }
  }
 },
 "nbformat": 4,
 "nbformat_minor": 2
}
