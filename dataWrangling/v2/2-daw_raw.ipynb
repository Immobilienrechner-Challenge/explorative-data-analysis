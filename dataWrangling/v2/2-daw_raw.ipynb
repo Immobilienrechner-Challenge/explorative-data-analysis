{
 "cells": [
  {
   "attachments": {},
   "cell_type": "markdown",
   "metadata": {},
   "source": [
    "# Purpose\n",
    "This notebooks explores how much more information in comparison to the first version of the dataset can be extracted from the following columns:\n",
    "- `description` (+8450)  \n",
    "- `description_detailed` (new)\n",
    "- `detailed_description` (+9126)\n",
    "- `table` (=)\n",
    "- `details_structured` (=) and   \n",
    "- `details` (=)"
   ]
  },
  {
   "attachments": {},
   "cell_type": "markdown",
   "metadata": {},
   "source": [
    "# Summary\n",
    "New data has been added to columns `description` and `detailed_description`. The column `description_detailed` is completely unseen before and the rest of the columns contain still the same information. It is therefore not feasable to extract common data from any of these columns. "
   ]
  },
  {
   "cell_type": "code",
   "execution_count": 1,
   "metadata": {},
   "outputs": [],
   "source": [
    "# Import libraries\n",
    "import pandas as pd\n",
    "import numpy as np\n",
    "import sweetviz as sv\n",
    "import re\n"
   ]
  },
  {
   "cell_type": "code",
   "execution_count": 2,
   "metadata": {},
   "outputs": [],
   "source": [
    "# Set display options\n",
    "pd.set_option(\"display.max_columns\", None, \"display.max_rows\", 100)\n"
   ]
  },
  {
   "cell_type": "code",
   "execution_count": 3,
   "metadata": {},
   "outputs": [],
   "source": [
    "# Read Data\n",
    "df = pd.read_parquet(\n",
    "    \"https://github.com/Immobilienrechner-Challenge/data/blob/main/immo_data_202208_v2.parquet?raw=true\"\n",
    ")\n"
   ]
  },
  {
   "attachments": {},
   "cell_type": "markdown",
   "metadata": {},
   "source": [
    "# Description\n",
    "The following statements help to get an idea of the data contained in the `description` column."
   ]
  },
  {
   "cell_type": "code",
   "execution_count": 4,
   "metadata": {},
   "outputs": [
    {
     "data": {
      "text/plain": [
       "21805"
      ]
     },
     "execution_count": 4,
     "metadata": {},
     "output_type": "execute_result"
    }
   ],
   "source": [
    "df[\"description\"].count()\n"
   ]
  },
  {
   "cell_type": "code",
   "execution_count": 5,
   "metadata": {},
   "outputs": [
    {
     "data": {
      "text/plain": [
       "0    3.5 rooms, 100 m²«Luxuriöse Attika-Wohnung mit...\n",
       "1    4.5 rooms, 156 m²«Stilvolle Liegenschaft - ruh...\n",
       "2    2.5 rooms, 93 m²«Moderne, lichtdurchflutete At...\n",
       "3    4.5 rooms, 154 m²«AgentSelly - Luxuriöses Eckh...\n",
       "4    4.5 rooms, 142 m²«MIT GARTENSITZPLATZ UND VIEL...\n",
       "Name: description, dtype: object"
      ]
     },
     "execution_count": 5,
     "metadata": {},
     "output_type": "execute_result"
    }
   ],
   "source": [
    "df[\"description\"].head()\n"
   ]
  },
  {
   "cell_type": "code",
   "execution_count": 6,
   "metadata": {},
   "outputs": [
    {
     "data": {
      "text/plain": [
       "22476    None\n",
       "22477    None\n",
       "22478    None\n",
       "22479    None\n",
       "22480    None\n",
       "Name: description, dtype: object"
      ]
     },
     "execution_count": 6,
     "metadata": {},
     "output_type": "execute_result"
    }
   ],
   "source": [
    "df[\"description\"].tail()\n"
   ]
  },
  {
   "cell_type": "code",
   "execution_count": 7,
   "metadata": {},
   "outputs": [
    {
     "data": {
      "text/plain": [
       "CHANTIER OUVERT!FRAIS DE NOTAIRE ET DROITS DE MUTATION RÉDUITS !Idéalement située à quelques minutes de la gare CFF de Payerne et de toutes ses commodités, découvrez notre nouveau projet immobilier \"Le Saule\". Ce projet se compose de 18 appartements du 2,5 au 4,5 pièces aux surfaces habitables variant de 55 à 110 m2. Les appartements situés au rez disposent de belles terrasses et certains de jardins privatifs alors que les appartements aux étages bénéficient d'un balcon aux surfaces variables entre 11 et 16 m2.Le bâtiment est réparti sur 4 niveaux: sous-sol, rez, 1er étage et 2ème étage. Au sous-sol, vous trouverez les caves, le local vélo-poussettes ainsi que le garage souterrain qui compte 14 places de parc. Les ascenseurs desservent tous les appartements.                                                                                                                                                                                                                                                                                                                                                                                                                                                                                                                                                                                                                                                                                                                                                                                                                                                                                                                                                                                                                                                                                                                                                                                                                               14\n",
       "Le projet Alpano offre 22 appartements neufs de haut standing pour des résidences principales. Avec une parfaite exposition au sud-ouest, de beaux espaces et des prestations de qualité, ce complexe immobilier remplit tous les critères d'une clientèle exigeante souhaitant s'établir dans la prestigieuse station de Verbier. L'atout majeur de ce projet, pensé autour de son orientation, est la vue imprenable sur la vallée depuis tous les appartements.Les logements offrent des prestations et un confort sur mesure ainsi que des finitions personnalisées pour un appartement à votre image. Un style contemporain dominera la conception des intérieurs et des touches de bois donneront un aspect chaleureux et confortable.Ces lieux de vie haut de gamme ont été intelligemment conçus pour optimiser les espaces et épouser au mieux les lignes du bâtiment. Chaque appartement bénéficie d'une vue panoramique sur la vallée ainsi que d'une grande luminosité naturelle grâce à une orientation au sud.Visitez le site de la promotion ! : https://alpano.ch/Le bâtiment répond aux plus hauts standards en matière d'efficience énergétique et aux dernières normes éditées par les professionnels de l'immobilier. Pour chaque appartement, nous proposons des finitions de grande qualité laissées au choix du futur acquéreur. Ainsi personnalisés, les logements leur assurent une qualité de vie optimale et une expérience exclusive.                                                                                                                                                                                                                                                                                                                                                                                                                                                                                                                                                              11\n",
       "\" RESIDENCE EMARONE \" à CHARDONNESitué dans un environnement verdoyant, le nouveau projet « Résidence Emarone » à Chardonne satisfera chaque personne à la recherche d'espace, de tranquillité et voulant profiter d'un panorama privilégié sur les hauteurs de la ville de Vevey.Composée de 4 petits bâtiments de 3 appartements chacun en PPE, avec deux duplex en rez-de-jardin et un attique, tous orientés sud, cette résidence offre un maximum d'indépendance, de privacité et de confort. Tous les appartements de cette promotion sont des 5.5 pièces, soit 4 chambres, avec en plus des espaces bureaux pour certains, afin de répondre aux mieux aux besoins actuels. En plus des surfaces généreuses d'habitation (dès 151 m2 pondérée), chaque appartement dispose de grands espaces extérieurs avec terrasse, jardin privatif, balcon pour les duplex en rez-de-chaussée, et terrasse panoramique ainsi que loggias pour les attiques. Chaque immeuble a été implanté de manière réfléchie afin d'offrir une qualité de vie maximum dans un cadre reposant et bucolique. Une place de jeux, un parking souterrain avec caves, et un parking extérieur avec places visiteurs viennent compléter ce projet. Chaque acquéreur a la possibilité de personnaliser entièrement son appartement selon ses goûts et son mode de vie ; en faisant le choix de sa cuisine, de ses sanitaires, des sols et des couleurs des murs, selon les budgets alloués. La vente des appartements est en quote-part terrain, permettant ainsi une économie considérable sur les frais d'acquisition.*(Des modifications mineurs des plans peuvent être apportées avec consultation préalable de l'architecte et soumise à plus-value).Le chantier a débuté, et la livraison est prévue pour le dernier trimestre 2023.Prix de vente: dès CHF 1'140'000.-Venez visiter notre site internet: www.emarone-chardonne.ch                                                                                                                   11\n",
       "Prévu pour fin juin 2023, ce tout nouveau bâtiment actuellement en construction à l'Avenue des Alpes 15 & 17 bénéficiera de la proximité de tous les commerces et commodités du centre ville de Sierre. De plus, il sera en mesure de satisfaire tous les besoins de nos futurs clients, du fait qu'il comporte 38 lots divers et variés, allant du studio au 5.5 pièces en attique ainsi que trois surfaces commerciales au rez-de-chaussée.Un autre point fort de cette promotion est son concept énergétique de pointe. En effet, LA REZE, c'est avant tout une mise en avant environnementale sur plusieurs détails :- obtention de l'étiquette énergétique CECB AA - triple vitrage- ventilation double flux- panneaux solaires photovoltaïques - appareils ménagers avec étiquette énergétique A++Ses avantages: emplacement central, concept énergétique de pointe, modernité, confort, luminosité, construction de qualité, finitions au gré du preneur Pour plus d'informations, contactez-nous au 027 456 20 50 !Dieser Neubau, der zum Ende Juni 2023 an der Avenue des Alpes 15 & 17 geplant ist, wird die Nähe zu allen Geschäften und Annehmlichkeiten des Stadtzentrums von Siders bieten. Zudem wird er den unterschiedlichsten Bedürfnissen unserer zukünftigen Kunden gerecht werden mit seinen 38 verschiedenen Wohneinheiten, die vom Studio bis zur 5.5-Zimmer Attikawohnung reichen und auch drei Gewerbelokale im Erdgeschoss einschliessen. Ein weiterer Trumpf dieses Projekts ist sein effizientes Energiekonzept. Der Umweltschutz steht beim Neubau LA REZE in vielen Belangen im Vordergrund:- Erhalt der Energieetikette GEAK AA - Dreifachverglasung- Dual-Flow Belüftungssystem- Photovoltaik-Solarmodule- Haushaltsgeräte mit Energieetikette A++Die Vorteile: zentrale Lage, effizientes Energiekonzept, moderner Charakter, Komfort, Helligkeit, hohe Bauqualität, feine Ausführungen nach Wunsch des Käufers.Für weitere Informationen kontaktieren Sie uns bitte unter 027 456 20 50 !    10\n",
       "Vous cherchez un appartement contemporain équipé avec soin, idéalement situé à proximité de tous les commerces et transports publics ? Cette nouvelle promotion saura vous séduire !Joli bâtiment de 13 lots (2 surfaces commerciales et 11 appartements du studio au 3.5 pièces), cet immeuble se situe à quelques pas du centre du bourg d'Echallens. Outre des balcons loggia et une cave, chaque lot dispose d'une place de parc (intérieure ou extérieure). La livraison est prévue pour juin 2024. Intéressé(e) ? N'hésitez pas à nous contacter, les lots sont à vendre sur plans, avec une solution de financement permettant la réservation de taux à 10 ans encore attractive.                                                                                                                                                                                                                                                                                                                                                                                                                                                                                                                                                                                                                                                                                                                                                                                                                                                                                                                                                                                                                                                                                                                                                                                                                                                                                                                                       10\n",
       "                                                                                                                                                                                                                                                                                                                                                                                                                                                                                                                                                                                                                                                                                                                                                                                                                                                                                                                                                                                                                                                                                                                                                                                                                                                                                                                                                                                                                                                                                                                                                                                                                                                                                                                                                                                                                                                                                                                                                                                                                               ..\n",
       "11 rooms, 280 m²«Ein Tessinerhaus mit vielen Möglichkeiten (11)»CHF 1,730,000.—Favourite                                                                                                                                                                                                                                                                                                                                                                                                                                                                                                                                                                                                                                                                                                                                                                                                                                                                                                                                                                                                                                                                                                                                                                                                                                                                                                                                                                                                                                                                                                                                                                                                                                                                                                                                                                                                                                                                                                                                        1\n",
       "«*Abitazione con ampio giardino a Sant Abbondio*»CHF 1,000,000.—Favourite                                                                                                                                                                                                                                                                                                                                                                                                                                                                                                                                                                                                                                                                                                                                                                                                                                                                                                                                                                                                                                                                                                                                                                                                                                                                                                                                                                                                                                                                                                                                                                                                                                                                                                                                                                                                                                                                                                                                                       1\n",
       "8.5 rooms, 250 m²«2-Familienhaus mit 4 1/2-Zi-Wohnungen und grossem Garten/Bauland / casa bifamilare con 2 app. di 4 1/2 locali con giardino e terreno edificabile»CHF 1,475,000.—Favourite                                                                                                                                                                                                                                                                                                                                                                                                                                                                                                                                                                                                                                                                                                                                                                                                                                                                                                                                                                                                                                                                                                                                                                                                                                                                                                                                                                                                                                                                                                                                                                                                                                                                                                                                                                                                                                     1\n",
       "7.5 rooms, 200 m²«Zweifamilienhaus mit grosser Baulandreseve an Alleinlage / casa bifamiliare con grande terrene edificabile»CHF 2,290,000.—Favourite                                                                                                                                                                                                                                                                                                                                                                                                                                                                                                                                                                                                                                                                                                                                                                                                                                                                                                                                                                                                                                                                                                                                                                                                                                                                                                                                                                                                                                                                                                                                                                                                                                                                                                                                                                                                                                                                           1\n",
       "Situé en plein cœur de Crans-Montana et à seulement 200m du Driving Range Ballesteros, ce magnifique appartement en attique sur 2 étages construit dans une petite résidence en 2002, saura ravir les amoureux de la montagne et du charme valaisan. Ce bien exclusif d'une surface intérieure de 276 m2, offre confort et bien-être et jouit d'un calme absolu. Accueillant, chaleureux et aux finitions de qualité et rustiques, vous vous sentirez chez vous comme dans un chalet. Grâce à ses 2 balcons plein Sud et ses multiples puits de lumière, vous bénéficiez d'un panorama sur les sommets environnants valaisans avec un ensoleillement optimal tout au long de la journée.DISPOSITION : ETAGE 1 : Hall d'entrée avec rangement, salon avec cheminée, cuisine entièrement équipée, salle à manger, 2 suites parentales, 1 chambre à coucher, 1 salle de douches complète, 1 bureau, 2 balcons Sud.ETAGE 2 : 1 Suite parentale, 2 chambres à coucher, 1 salle de douches complète, 1 balcon Nord.ANNEXES : 2 Garages box pour CHF 120'000.- (obligatoire), 1 place de parc extérieure privée, 2 caves.CARACTERISTIQUES : Nombres de pièces : 8.5Nombre de chambres : 7Nombre de salles de bains : 5Nombre de suites parentales : 3Etage : AttiqueCharges de copropriété : CHF 10'830/annéeAnnée de construction : 2002SURFACES Surface habitable : 276 m2Surface pondérée : 287 m2Surface balcons sud : 22 m2VENTE aux résidents Suisses uniquementContact visite : Audrey De Visscher +41 76 722 96 96Cette plaquette de vente ne constitue pas un document contractuel. Son contenu confidentiel est communiqué sans engagement et sous réserve de modifications ou de vente. Les surfaces mentionnées sont indicatives.                                                                                                                                                                                                                                                                                          1\n",
       "Name: description, Length: 21002, dtype: int64"
      ]
     },
     "execution_count": 7,
     "metadata": {},
     "output_type": "execute_result"
    }
   ],
   "source": [
    "df[\"description\"].value_counts()\n"
   ]
  },
  {
   "attachments": {},
   "cell_type": "markdown",
   "metadata": {},
   "source": [
    "This output looks like unstructured data which makes it hard to reliably extract data for known features."
   ]
  },
  {
   "attachments": {},
   "cell_type": "markdown",
   "metadata": {},
   "source": [
    "# Description Detailed"
   ]
  },
  {
   "cell_type": "code",
   "execution_count": 8,
   "metadata": {},
   "outputs": [
    {
     "data": {
      "text/plain": [
       "9126"
      ]
     },
     "execution_count": 8,
     "metadata": {},
     "output_type": "execute_result"
    }
   ],
   "source": [
    "df[\"description_detailed\"].count()\n"
   ]
  },
  {
   "attachments": {},
   "cell_type": "markdown",
   "metadata": {},
   "source": [
    "The count suggests that the column `description_detailed` is only filled for rows that are from homegate.ch"
   ]
  },
  {
   "cell_type": "code",
   "execution_count": 9,
   "metadata": {},
   "outputs": [
    {
     "data": {
      "text/plain": [
       "array(['homegate.ch'], dtype=object)"
      ]
     },
     "execution_count": 9,
     "metadata": {},
     "output_type": "execute_result"
    }
   ],
   "source": [
    "# Select rows where description_detailed is not null and display unique values of provider\n",
    "df[df[\"description_detailed\"].notna()][\"provider\"].unique()\n"
   ]
  },
  {
   "attachments": {},
   "cell_type": "markdown",
   "metadata": {},
   "source": [
    "And this proves it. Let's see what data is stored inside this column."
   ]
  },
  {
   "cell_type": "code",
   "execution_count": 10,
   "metadata": {},
   "outputs": [
    {
     "data": {
      "text/plain": [
       "Description\\n\"LE SAULE - 18 logements MINERGIE DU 2,5 au 4,5 pièces à vendre\"\\nCHANTIER OUVERT!\\n\\nFRAIS DE NOTAIRE ET DROITS DE MUTATION RÉDUITS !\\n\\nIdéalement située à quelques minutes de la gare CFF de Payerne et de toutes ses commodités, découvrez notre nouveau projet immobilier \"Le Saule\".\\n\\nCe projet se compose de 18 appartements du 2,5 au 4,5 pièces aux surfaces habitables variant de 55 à 110 m2.\\n\\nLes appartements situés au rez disposent de belles terrasses et certains de jardins privatifs alors que les appartements aux étages bénéficient d'un balcon aux surfaces variables entre 11 et 16 m2.\\n\\nLe bâtiment est réparti sur 4 niveaux: sous-sol, rez, 1er étage et 2ème étage.\\n\\nAu sous-sol, vous trouverez les caves, le local vélo-poussettes ainsi que le garage souterrain qui compte 14 places de parc.\\n\\nLes ascenseurs desservent tous les appartements.                                                                                                                                                                                                                                                                                                                                                                                                                                                                                                                                                                                                                                                                                                                                                                                                                                                                                                                                                                                                                                                                                                                                                                                                                                                                                                                                                                                                                                                                                                                                                                                                                                                                                                                                                                                                                                                                                                                                                                                                                                                                                                                                                                                                                                                                                                                                                                                                                                                                                   16\n",
       "Description\\n\"Résidence Emarone à Chardonne - 12 appartements de 5.5 pièces\"\\n\" RESIDENCE EMARONE \" à CHARDONNE\\n\\nSitué dans un environnement verdoyant, le nouveau projet « Résidence Emarone » à Chardonne satisfera chaque personne à la recherche d'espace, de tranquillité et voulant profiter d'un panorama privilégié sur les hauteurs de la ville de Vevey.\\n\\nComposée de 4 petits bâtiments de 3 appartements chacun en PPE, avec deux duplex en rez-de-jardin et un attique, tous orientés sud, cette résidence offre un maximum d'indépendance, de privacité et de confort. \\n\\nTous les appartements de cette promotion sont des 5.5 pièces, soit 4 chambres, avec en plus des espaces bureaux pour certains, afin de répondre aux mieux aux besoins actuels.  \\n\\nEn plus des surfaces généreuses d'habitation (dès 151 m2 pondérée), chaque appartement dispose de grands espaces extérieurs avec terrasse, jardin privatif, balcon pour les duplex en rez-de-chaussée, et terrasse panoramique ainsi que loggias pour les attiques. \\n\\nChaque immeuble a été implanté de manière réfléchie afin d'offrir une qualité de vie maximum dans un cadre reposant et bucolique. \\n\\nUne place de jeux, un parking souterrain avec caves, et un parking extérieur avec places visiteurs viennent compléter ce projet. \\n\\nChaque acquéreur a la possibilité de personnaliser entièrement son appartement selon ses goûts et son mode de vie ; en faisant le choix de sa cuisine, de ses sanitaires, des sols et des couleurs des murs, selon les budgets alloués.\\n\\nLa vente des appartements est en quote-part terrain, permettant ainsi une économie considérable sur les frais d'acquisition.\\n\\n*(Des modifications mineurs des plans peuvent être apportées avec consultation préalable de l'architecte et soumise à plus-value).\\n\\nLe chantier a débuté, et la livraison est prévue pour le dernier trimestre 2023.\\n\\nPrix de vente: dès CHF 1'140'000.-\\n\\nVenez visiter notre site internet: www.emarone-chardonne.ch                                                                                                                                                                                                                                                                                                                                                                                                                                                                                                                                                                                                                                                                                                                                                                                                                                                                                                                                                                                                                                                                                                                                                                                                                                                                                                                                                11\n",
       "Description\\n\"Nouvelle promotion en résidence principale !\"\\nNouvelle promotion MINERGIE en résidence principale à Crans-Montana !\\n\\nSitué dans la station de Crans-Montana, le projet s'implante sur les hauts de la commune de Randogne (Vermala).\\n\\nLa résidence Master Alpin offre une proximité avec le coeur de la station de Crans-Montana et répond d'une tranquillité absolue de par son emplacement en lisière de forêt.\\n\\nCARACTÉRISTIQUES :\\n- Construction Minergie\\n- Chaudière à gaz\\n- Chauffage au sol\\n- Parquet dans les chambres\\n- Isolation périphérique\\n- Dallages en pierres naturelles parties communes\\n- Stores électriques\\n- Garage avec télécommande\\n- Ascenseur aux normes des handicapés\\n- Interphone\\n\\nPROXIMITÉS :\\n- Arrêt de bus à 200 m\\n- Golf Club à 2000 m\\n- Centre de la station de Crans-Montana à 1000 m\\n- Télécabine à 700 m\\n\\n4 Places de parc visiteurs extérieures\\n16 Places de parc extérieures couvertes sont disponibles et déjà attribuées aux appartements !\\n\\nPlace de parc : CHF 35'000.- en sus\\n\\nPlaquette de vente sur demande\\n\\nChez nous, la curiosité est un joli défaut ! Appelez- nous pour une visite\\n+ 41 79 464 11 35\\n\\n**Tous les lots disponibles sur Berra-immobilier.ch**                                                                                                                                                                                                                                                                                                                                                                                                                                                                                                                                                                                                                                                                                                                                                                                                                                                                                                                                                                                                                                                                                                                                                                                                                                                                                                                                                                                                                                                                                                                                                                                                                                                                                                                                                                                                                                                                                                                                                                                                                                                                                                                            10\n",
       "Description\\n\"LA RESIDENCE DU BOURG : UNE NOUVELLE PROMOTION AU COEUR D'ECHALLENS\"\\nVous cherchez un appartement contemporain équipé avec soin, idéalement situé à proximité de tous les commerces et transports publics ? Cette nouvelle promotion saura vous séduire !\\n\\nJoli bâtiment de 13 lots (2 surfaces commerciales et 11 appartements du studio au 3.5 pièces), cet immeuble se situe à quelques pas du centre du bourg d'Echallens. Outre des balcons loggia et une cave, chaque lot dispose d'une place de parc (intérieure ou extérieure). \\n\\nLa livraison est prévue pour juin 2024. Intéressé(e) ? N'hésitez pas à nous contacter, les lots sont à vendre sur plans, avec une solution de financement permettant la réservation de taux à 10 ans encore attractive.                                                                                                                                                                                                                                                                                                                                                                                                                                                                                                                                                                                                                                                                                                                                                                                                                                                                                                                                                                                                                                                                                                                                                                                                                                                                                                                                                                                                                                                                                                                                                                                                                                                                                                                                                                                                                                                                                                                                                                                                                                                                                                                                                                                                                                                                                                                                                                                                                                                                                                                                                                                                      10\n",
       "Description\\n\"Immeuble certifié CECB-AA et extrêmement bien situé\"\\nActuellement en construction, à seulement 20 minutes de la Riviera vaudoise, dans un quartier tranquille à mi-chemin entre le centre-ville de Monthey et l'autoroute A9 (sortie Monthey Sud), ce projet d'appartements bénéficie d'un emplacement idéal (route du Pont Rouge, à deux pas de l'arrêt de bus \"vers le Nant de Choëx\"). Ce futur complexe est doté de 4 bâtiments de 11 appartements chacun et sa construction est prévue tout prochainement.\\n\\nCette promotion compte des lots divers et variés allant du studio au 5,5, pièces. Toutes les unités disposent d'un balcon (ou d'une pelouse privative pour ce qui est des appartements du rez-de-chaussée) ainsi que de vastes séjours. \\n\\nAvec son concept énergétique de pointe, cette promotion saura apporter tout le confort nécessaire à ses futurs propriétaires.\\n\\nEn effet, TANGRAM c'est avant tout une mise en avant environnementale sur plusieurs détails. Ci-dessous, un aperçu des différents engagements que nous prenons pour rendre ce quartier eco-friendly :\\n- obtention de l'étiquette énergétique CECB AA \\n- les bâtiments sont reliés au chauffage à distance - CAD - de la ville de Monthey\\n- triple vitrage & ventilation double flux\\n- panneaux solaires photovoltaïques\\n- appareils ménagers avec étiquette énergétique A++\\n- équipement domotique ESMART\\n\\n\\nSes avantages: concept énergétique de pointe, système eSMART, modernité, confort, luminosité, construction de qualité, finitions au gré du preneur, emplacement idéal.  \\n\\nLivraison :   automne 2023\\nPour plus d'informations, contactez-nous au 079 615 26 40.\\n\\nNur 20 Minuten von der Waadtländer Riviera entfernt, in einem ruhigen Quartier zwischen dem Stadtzentrum von Monthey und der Autobahn A9 (Ausfahrt Monthey Sud) gelegen, bietet diese Überbauung einen idealen Standort (route du Pont Rouge; die Bushaltestelle \"vers le Nant de Choëx\" ist in 2 Gehminuten erreichbar). Diese zukünftige Überbauung wird aus 4 Gebäuden mit je 11 Wohnungen bestehen. Die Wohnungen der ersten Phase (Gebäude A + B) können ab jetzt gekauft werden.\\n\\nDieses Projekt umfasst verschiedene Wohneinheiten, die vom Studio bis zur 5.5-Zimmerwohnung reichen. Jede Einheit verfügt über einen Balkon (oder einen eigenen Rasenplatz für die Wohnungen im Erdgeschoss) und ein grosszügiges Wohnzimmer.\\n\\nMit ihrem effizienten Energiekonzept, wird diese Überbauung den zukünftigen Eigentümern einen hohen Wohnkomfort bieten.\\n\\nIn der Tat, die Berücksichtigung der Nachhaltigkeit steht bei TANGRAM im Vordergrund. Nachstehend ein Überblick über die verschiedenen Verpflichtungen, die wir eingehen, um dieses Quartier umweltfreundlich zu gestalten:\\n- Erhalt der Energieetikette GEAK AA \\n- die Gebäude werden an das Fernwärmenetz - FW - der Stadt Monthey angeschlossen\\n- Dreifachverglasung & Dual-Flow Belüftungssystem\\n- Photovoltaik-Solarmodule\\n- Haushaltsgeräte mit Energieetikette A++\\n- Gebäudeautomation ESMART\\n\\nDie Vorteile: effizientes Energiekonzept, eSMART-System, moderner Charakter, Komfort, Helligkeit, hohe Bauqualität, feine Ausführungen nach Wunsch des Käufers, ideale Lage.\\n\\nVerfügbarkeit: September 2023\\nFür weitere Informationen kontaktieren Sie uns bitte unter 079 615 26 40.    10\n",
       "                                                                                                                                                                                                                                                                                                                                                                                                                                                                                                                                                                                                                                                                                                                                                                                                                                                                                                                                                                                                                                                                                                                                                                                                                                                                                                                                                                                                                                                                                                                                                                                                                                                                                                                                                                                                                                                                                                                                                                                                                                                                                                                                                                                                                                                                                                                                                                                                                                                                                                                                                                                                                                                                                                                                                                                                                                                                                                                                                                                                                                                                                                                                                                                                                                                                                                                                                                                          ..\n",
       "Description\\n\"Magnifique 3,5 pièces à Mannens\"\\nDuplex de 3.5 pièces - Mannens\\nSuperbe promotion pour un immeuble de 4 appartements à Mannens. Magnifique appartement de 3,5 pièces. Il se compose comme suit :\\n\\n-         Hall avec penderie\\n\\n-         2 belles chambres\\n\\n-         1 salle de bain\\n\\n-         Cuisine ouverte\\n\\n-         Salon\\n\\n-         1 balcon\\n\\n-         1 garage privatif (CHF 30'000.-)\\n\\n-         1 place de parc extérieure (CHF 10'000.-)\\n\\n-         1 cave\\n\\n \\n\\nIl s'agit d'un projet et non d'un immeuble déjà construit, les choix des matériaux seront au gré du preneur.                                                                                                                                                                                                                                                                                                                                                                                                                                                                                                                                                                                                                                                                                                                                                                                                                                                                                                                                                                                                                                                                                                                                                                                                                                                                                                                                                                                                                                                                                                                                                                                                                                                                                                                                                                                                                                                                                                                                                                                                                                                                                                                                                                                                                                                                                                                                                                                                                                                                                                                                                                                                                                                                                                                                                           1\n",
       "Description\\n\"Demeure atypique de charme à Grandsivaz\"\\n\"Sur les hauteurs de Payerne, à mi-distance entre Lausanne et Berne et en bordure d'une large zone agricole, cette spacieuse demeure vous séduira par ses volumes, son ensoleillement et l'intimité rare de ses jardins. L'étage principal de 200m2, un grand séjour de 100m2, un studio indépendant de 40 m2, un étage supérieur aménageable en plusieurs chambres à coucher, un grand jardin ombragé et une très jolie vue dégagée, sont les atouts de cette maison. En outre, elle dispose d'une pompe à chaleur géothermique et de 30m2 de cellules photovoltaïques.\\nCette demeure vous charmera par ses proportions et sa luminosité présente de l'aube au crépuscule; vous y jouirez d'un cadre de vie paradisiaque.\\nGrand garage, deux caves, buanderie/salle de sport, local technique.\\nTrès bien entretenue.\\nSurface du terrain : 1300m2\\nSurface utile: 600m2 (200m2 par étage)\\nSurface habitable actuelle: 240 m2, extensibles à 380 m2.\\nVolume : 1600 m3\\n\\nCETTE ANNONCE A ÉTÉ CRÉÉE PAR UN PARTICULIER ET PUBLIÉE PAR LE SERVICE \"\"PARTENAIRE PARTICULIER\"\"\"                                                                                                                                                                                                                                                                                                                                                                                                                                                                                                                                                                                                                                                                                                                                                                                                                                                                                                                                                                                                                                                                                                                                                                                                                                                                                                                                                                                                                                                                                                                                                                                                                                                                                                                                                                                                                                                                                                                                                                                                                                                                                                                                                                                                                                                   1\n",
       "Description\\n\"Grande villa individuelle au calme\"\\nTrès belle Villa individuelle de 5.5 pièces située à Russy à, 10 minutes en voiture du centre de Payerne.\\n\\nCette habitation se trouve dans un petit quartier très paisible et tranquille où le calme et la sérénité règnent.\\n\\nDatant de 2003, la villa est dans un parfait état. Ayant été habitée pendant peu d'années, la maison est donc d'excellente qualité.\\n\\nElle se compose d'un splendide jardin pittoresque très arboré de 1400m2, un vrai bonheur pour vos enfants ou pour y profiter après une journée de travail.\\n\\nLe prix de la villa inclue également un garage de 2 places, ainsi que 3 places de parc extérieure. Idéal pour une grande famille.\\n\\nDisponible de suite\\n\\nContactez-nous pour plus d'information ou pour une visite sur place                                                                                                                                                                                                                                                                                                                                                                                                                                                                                                                                                                                                                                                                                                                                                                                                                                                                                                                                                                                                                                                                                                                                                                                                                                                                                                                                                                                                                                                                                                                                                                                                                                                                                                                                                                                                                                                                                                                                                                                                                                                                                                                                                                                                                                                                                                                                                                                                                                                                                                                                                                  1\n",
       "Description\\n\"Maison individuelle de 5.5 pièces \"Type Provençale\"\"\\nSituée dans un quartier calme en bordure de zone agricole, cette grande propriété de 5.5 pièces jouit d'un environnement paisible à quelques minutes du Centre de Payerne.\\n\\nImplantée sur une belle et grande parcelle de 1573 m², cette bâtisse se distribue sur trois niveaux et dispose d'environ 356 m² de surface utile dont 232 m² habitables. Au sous-sol, vous y trouverez une très grande cave ainsi que 2 grands disponibles pouvant être aménagés en salle de jeux ou bureaux.\\n\\nVous apprécierez notamment son jardin joliment arborisé et équipé d'une tondeuse-robot et clôturé partiellement, ses multiples moustiquaires aux fenêtres et sa grande salle de cinéma de 30 m².\\n\\nOrientée Sud-Ouest, cette habitation saura vous convaincre grâce à ses nombreux atouts, notamment avec sa belle hauteur sous-plafond à l'étage, son grand et spacieux séjour de 41m² avec poêle suédois, sa grande cuisine/coin repas 36m² ainsi que sa terrasse couverte et équipée d'un four à pizza.\\n\\nUn garage-box double ainsi qu'un portail d'entrée électrique complètent ce bien.\\n\\nVisite virtuelle au lien suivant :\\nhttps://nodalview.com/s/0UeX9bS5n3u9Ja3W5ruIzo                                                                                                                                                                                                                                                                                                                                                                                                                                                                                                                                                                                                                                                                                                                                                                                                                                                                                                                                                                                                                                                                                                                                                                                                                                                                                                                                                                                                                                                                                                                                                                                                                                                                                                                                                                                                                                                                                                                                                                                                                                                                                                                                   1\n",
       "Description\\n\"Historisches Altstadthaus im \"Städtli\" Lichtensteig\"\\nSchöne Altbau-Liegenschaft mit Terrasse, (!) im Zentrum von Lichtensteig bietet historisches Wohn-Feeling mit viel Charme.\\nhttps://bavag.ch/altbau-lichtensteig/\\nBitte keine Anfragen von Vermittlungen                                                                                                                                                                                                                                                                                                                                                                                                                                                                                                                                                                                                                                                                                                                                                                                                                                                                                                                                                                                                                                                                                                                                                                                                                                                                                                                                                                                                                                                                                                                                                                                                                                                                                                                                                                                                                                                                                                                                                                                                                                                                                                                                                                                                                                                                                                                                                                                                                                                                                                                                                                                                                                                                                                                                                                                                                                                                                                                                                                                                                                                                                                              1\n",
       "Name: description_detailed, Length: 8674, dtype: int64"
      ]
     },
     "execution_count": 10,
     "metadata": {},
     "output_type": "execute_result"
    }
   ],
   "source": [
    "df[\"description_detailed\"].value_counts()\n"
   ]
  },
  {
   "attachments": {},
   "cell_type": "markdown",
   "metadata": {},
   "source": [
    "As with `detailed_description` from the first dataset, `description_detailed` contains unstructured data which makes it hard to extract data from reliably. "
   ]
  },
  {
   "attachments": {},
   "cell_type": "markdown",
   "metadata": {},
   "source": [
    "# Detailed Description"
   ]
  },
  {
   "cell_type": "code",
   "execution_count": 11,
   "metadata": {},
   "outputs": [
    {
     "data": {
      "text/plain": [
       "22481"
      ]
     },
     "execution_count": 11,
     "metadata": {},
     "output_type": "execute_result"
    }
   ],
   "source": [
    "df[\"detailed_description\"].count()\n"
   ]
  },
  {
   "cell_type": "code",
   "execution_count": 12,
   "metadata": {},
   "outputs": [
    {
     "data": {
      "text/plain": [
       "Extract from the debt collection registerIn a few days by e-mail and by post at your home. Per invoice, for CHF 29.–Order the extract                                                                                                                                                                                                                                                                                                                                                                                                                                                                                                                                                                                                                                                                                                                                                                                                                                                                                                                                                                                                                                                                                                                                                                                                                                                                                                                                                                                                                                                                                                                                                                                                                                                                                                                                                                                                                                                                                                                                                                                                                                                                                                                                                                                                                                                                                                                                                                                                                                                                                                                                                                                                                                                                                                                                                                                     41\n",
       "Description\\n\"LE SAULE - 18 logements MINERGIE DU 2,5 au 4,5 pièces à vendre\"\\nCHANTIER OUVERT!\\n\\nFRAIS DE NOTAIRE ET DROITS DE MUTATION RÉDUITS !\\n\\nIdéalement située à quelques minutes de la gare CFF de Payerne et de toutes ses commodités, découvrez notre nouveau projet immobilier \"Le Saule\".\\n\\nCe projet se compose de 18 appartements du 2,5 au 4,5 pièces aux surfaces habitables variant de 55 à 110 m2.\\n\\nLes appartements situés au rez disposent de belles terrasses et certains de jardins privatifs alors que les appartements aux étages bénéficient d'un balcon aux surfaces variables entre 11 et 16 m2.\\n\\nLe bâtiment est réparti sur 4 niveaux: sous-sol, rez, 1er étage et 2ème étage.\\n\\nAu sous-sol, vous trouverez les caves, le local vélo-poussettes ainsi que le garage souterrain qui compte 14 places de parc.\\n\\nLes ascenseurs desservent tous les appartements.                                                                                                                                                                                                                                                                                                                                                                                                                                                                                                                                                                                                                                                                                                                                                                                                                                                                                                                                                                                                                                                                                                                                                                                                                                                                                                                                                                                                                                                                                                                                                                                                                                                                                                                                                                                                                                                                                                                                                                                                                   16\n",
       "DescriptionWillkommen im Chürzi-ParkIm Quartier am Sonnenhang von Gelterkinden heissen Sie bald die Eigentumswohnungen ####Chürzi-Park#### willkommen. Hier entstehen grosszügige Wohnungen welche durch einen zeitlosen Stil und edle Materialisierung brillieren. Abgesehen von technischen Highlights wie der Tiefgarage mit zwei Autoliften ist im ####Chürzi-Park#### vor allem der Bezug zur Natur zu spüren. Die Erdgeschosswohnungen haben alle einen grossen Garten und für jede Wohnung ist Weitsicht in die grüne Hügellandschaft um Gelterkinden garantiert! Der ####Chürzi-Park#### entspricht den neuesten bautechnischen Ansprüchen und bietet trotz verdichteter Bauweise genügend Freiraum und Rückzugsmöglichkeit für ein angenehmes Zuhause.Wohnen, wohlfühlen, leben!Übersicht ProjektDas Projekt Chürzi-Park umfasst drei Gebäude mit je fünf Wohnungen an sonniger Lage in Gelterkinden.Die Erschliessung erfolgt über den ####Oberen Chürziweg#### Nebst Besucherparkplätzen befinden sich dort auch die Haupteingänge zu den Häusern sowie die Einstellhallenzufahrt via Autolift. Die Einstellhalle erstreckt sich unter dem gesamten ####Chürzi-Park#### und bietet jedem Eigentümer mindestens 2 Parkplätze.Zwischen den Gebäuden befinden sich Freizeitflächen mit Sitzgelegenheiten und Bepflanzung die zum Verweilen einlädt.Im Erd- und Obergeschoss befinden sich jeweils eine 3.5- und eine 4.5-Zimmer Wohnung. Die Wohnungen verfügen über einen grosszügigen Sitzplatz bzw. Loggia, welche durch eine Verglasung auch vor Regen und Wind geschützt ist. Auf dem gesamten Attikageschoss erstreckt sich eine luxuriöse 6.5-Zimmer Wohnung mit Terrasse über die ganze Gebäudelänge.Ein Autoeinstellplatz in der Tiefgarage ist im Kaufpreis inbegriffen. Zusätzlich kann ein weiterer Einstellplatz für CHF 38 000.00 erworben werden.Dieses Objekt können Sie per Videoanruf besichtigen.                                                                                                                                                                                                                                                                                                                                                                                                                                                                                                                                                                                                                                                                                                                                                                                                                                                                                                                                                                                              15\n",
       "DescriptionMagnifiques logements du studio au 4.5 pces, jouissant d espaces lumineux dans un cadre champêtre et offrant le confort d une habitation contemporaine et chaleureuse.Des places de parc intérieures et extérieures sont à disposition (en sus).Début des travaux : automne 2022                                                                                                                                                                                                                                                                                                                                                                                                                                                                                                                                                                                                                                                                                                                                                                                                                                                                                                                                                                                                                                                                                                                                                                                                                                                                                                                                                                                                                                                                                                                                                                                                                                                                                                                                                                                                                                                                                                                                                                                                                                                                                                                                                                                                                                                                                                                                                                                                                                                                                                                                                                                                                               13\n",
       "DescriptionDie Überbauung ####Eichgarten#### in Pfeffikon Luzern, umfasst 15 Hauseinheiten mit eigenem Grundstück und einer Architektur die in diesem Preissegment seinesgleichen sucht! Wir haben uns zum Ziel gesetz, den Eigentümern dieser Häuser all das zu bieten, was ein Haus im anspruchsvollen Jahr 2022 bieten muss:massive Bauweise die auch zu einem späteren Zeitpunkt Ihren Bedürfnissen angepasst werden kannhochwertiger InnenausbauPhotovoltaikanlageTiefgarage für komplette Überbauung mit direktem HauszugangEigene Wärmepumpe mit Erdwärmegrosszügige Budgetpositionenund vieles mehr!!Der Baustart ist per Oktober / November 2022 geplant und im Juni 2024 können die Häuser bezogen werden. Sie entscheiden mitteils grosszügiger Budgetpositionen wie Ihr zukünftiges Haus aussehen wird. Ein professionelles Innenarchitektur Team unterstützt Sie bei bedarf gerne bei der Auswahl der Materialien. Das Innenleben wird nach Ihrem ####Gusto#### bemustert.Ganz nach dem Prinzip ####first come, first serve#### veräussert DK Homes & Investments ohne Bieterverfahren. Beeilen Sie sich und ergattern Sie eine der begehrten Häuser!Es het solangs het!                                                                                                                                                                                                                                                                                                                                                                                                                                                                                                                                                                                                                                                                                                                                                                                                                                                                                                                                                                                                                                                                                                                                                                                                                                                                                                                                                                                                                                                                                                                                                                                                                                                                                                                                     13\n",
       "                                                                                                                                                                                                                                                                                                                                                                                                                                                                                                                                                                                                                                                                                                                                                                                                                                                                                                                                                                                                                                                                                                                                                                                                                                                                                                                                                                                                                                                                                                                                                                                                                                                                                                                                                                                                                                                                                                                                                                                                                                                                                                                                                                                                                                                                                                                                                                                                                                                                                                                                                                                                                                                                                                                                                                                                                                                                                                                          ..\n",
       "DescriptionDie 3.5-Zimmer-Maisonette-Ferienwohnung befindet sich im charakteristischen Kern von Rovio in einem Haus mit 4 Wohnungen.Im Erdgeschoss befinden sich die Küche und das Esszimmer mit Zugang zum Innenhof, ein Schlafzimmer und ein Badezimmer mit Badewanne.Im Obergeschoss sind das Wohnzimmer, ein weiteres Schlafzimmer und ein Badezimmer mit Dusche.Öffentliche Parkplätze sind in der Nähe.                                                                                                                                                                                                                                                                                                                                                                                                                                                                                                                                                                                                                                                                                                                                                                                                                                                                                                                                                                                                                                                                                                                                                                                                                                                                                                                                                                                                                                                                                                                                                                                                                                                                                                                                                                                                                                                                                                                                                                                                                                                                                                                                                                                                                                                                                                                                                                                                                                                                                                              1\n",
       "DescriptionLa casa d epoca di 3 appartamenti è situata sulle rive del Ceresio ai piedi del Monte San Giorgio, affacciata sulla sponda di Morcote, dista pochi km da Riva San Vitale e da Porto Ceresio (I). Questa bella proprietà ha una splendida vista lago e un curato giardino.L elegante edificio di inizio900 è stato completamente e accuratamente ristrutturato recentemente mantenendo tutto il suo splendore nei dettagli e dei decori storici del tempo, con i suoi affreschi e bassi rilievi, il ferro battuto dei parapetti dei balconi e i colori pastello originari del tempo.Oggetto di reddito residenziale di prestigio, si trovano nelle immediate vicinanze raggiungibili a piedi parco giochi, lido comunale, campi da tennis e di calcio; interessate pure per liberi professionisti, amanti delle attività nautiche sportive, pesca (posti barca nel porto comunale), delle passeggiate per immergersi nella natura e per tutti coloro che desiderano vivere in paesino ancora con un sapore tipico ticinese.                                                                                                                                                                                                                                                                                                                                                                                                                                                                                                                                                                                                                                                                                                                                                                                                                                                                                                                                                                                                                                                                                                                                                                                                                                                                                                                                                                                                                                                                                                                                                                                                                                                                                                                                                                                                                                                                                      1\n",
       "DescriptionCLICCA IL LINK QUI SOTTO PER FARE UNA VISITA VIRTUALE ALLA PROPRIETÀ! -https://youtu.be/u6NHhG8eaL0<br><br>Grande villa uni/bifamiliare di ca. 400 mq lordi, con ascensore, giardino e due terrazze da cui godere di una vista panoramica sul lago ed i monti, composta da 8.5 locali sviluppati su 3 livelli, edificata nel 2008 su un fondo di 772 mq ai quali aggiungere circa 1950 mq di bosco ed attualmente come nuova, in una zona a pochi passi dai servizi nel comune di Melano.La villa è disposta come segue:Al PIANO TERRA, piano di accesso principale, si trova un grande disimpegno di ingresso, un piccolo appartamento ideale per gli ospiti o figli/e, con cucinotto e bagno con box doccia, seguito da un ampio locale lavanderia, una dispensa/ripostiglio e dalla possibilità di raggiungere l&039;ampio garage doppio con soppalco.Al PRIMO PIANO tramite una scala si accede ad un locale studio/camera da letto con servizio per gli ospiti, mentre utilizzando l&039;ascensore si raggiunge un corridoio che porta ad un 3.5 locali composto da soggiorno con angolo TV, cucina accessoriata con isola centrale ed accesso ad una ampia terrazza e due camere da letto, di cui una matrimoniale ed una camera singola, entrambe con accesso ad una seconda terrazza, un servizio con box doccia ed un ulteriore bagno con vasca ed accesso secondario al box doccia.Salendo al SECONDO PIANO, si accede ad un 4.5 locali con ampia e confortevole zona giorno di 72 mq con grande cucina a vista, un bel camino sospeso, un&039;area relax attualmente con divani, TV ed una grande libreria a parete e tre camere da letto, di cui una singola, apribile sul soggiorno se richiesto, e due matrimoniali, di cui una con bagno privato dotato di moderna vasca.Completa il piano un secondo bagno dotato di grande box doccia con parete a mosaico.Dal tetto, accessibile con l&039;ascensore, è quindi possibile accedere al bosco di proprietà, che permette di avere una privacy assoluta e garantita nel tempo, e godersi momenti di relax nella splendida vasca jacuzzi posizionata sulla grande terrazza vista lago.Gli infissi della proprietà sono in legno all&039;interno ed alluminio all&039;esterno, con doppi vetri, che insieme al cappotto termico spesso 14 cm garantiscono un ottimo isolamento termoacustico.La casa è riscaldata mediante un moderno impianto a pompa di calore geotermica, con erogazione tramite serpentine a pavimento.L&039;immobile si trova nei pressi di tutti i principali servizi, a pochi minuti a piedi dal lido, dai supermercati, dalla farmacia e dalla banca.Completano la proprietà un box doppio, un&039;area esterna in cui è possibile posteggiare ulteriori 2/3 automobili e la disponibilità di posteggi a strisce blu ad uso esclusivo dei residenti e degli ospiti nelle immediate vicinanze.DM/3975Further information     1\n",
       "DescriptionÈ nel comune di Rovio, a pochi km da Lugano, che vi presentiamo questa villa di 8.5 locali del98 perfettamente tenuta negli anni che non richiede alcun intervento se non qualche personalizzazione. La proprietà nasce in posizione dominante con circa 814 mq di terreno annesso alla villa e più di oltre 1000 mq di bosco, una villa per chi ama l immersione nella natura. Sviluppata su circa 400 mq la villa si articola su 3 piani abitabili ed un piano dedicato al garage, ciascuno di circa 110 mq. Abitazione attualmente mono familiare offre la possibilità di ricavare due unità abitative già strutturate con due accessi separati già esistenti. Quattro livelli totali così strutturati:- garage + locale accessoriopiano livingpiano nottepiano inferiore, spazio adibito come appartamento indipendente o zona ospitiGarage:- due posti autospazio per motorini e motoPiano living: illuminato dalle grandi porte finestre sulla terrazza- salotto con area tv e caminosala da pranzocucina semiaperta sulla zona living completamente accessoriataun area attualmente studio = estensione del soggiornobagnoaccesso diretto alla terrazza che gira attorno al pianoPiano notte: camere di metratura generosa con pavimenti in parquet a listoncini- una camera matrimoniale spaziosa affacciata sul verdeuna camera matrimoniale con accesso ad una terrazza spaziosauna camera da letto spaziosa con accesso alla terrazzagrande sala bagno padronale con idromassaggio, doccia e zona da dedicare ad un eventuale lavanderiaCantina vini climatizzata con roccia a vista interposta tra il piano notte e l inferiore.Piano inferiore:- locale lavanderiacucina a vista con forno a legnasoggiorno spaziosobagno con docciauna camera da letto matrimonialeaccesso diretto al giardinoRiscaldamento a nafta.Per una visita online richiedete maggiori informazioni nello spazio dedicato del sito.                                                                                                                                                                                                                                                                                                                                                                                                                                                                                                                                                                                                                                                                                                                                                                                                                                                                                                                                                                                        1\n",
       "Description\\n\"Historisches Altstadthaus im \"Städtli\" Lichtensteig\"\\nSchöne Altbau-Liegenschaft mit Terrasse, (!) im Zentrum von Lichtensteig bietet historisches Wohn-Feeling mit viel Charme.\\nhttps://bavag.ch/altbau-lichtensteig/\\nBitte keine Anfragen von Vermittlungen                                                                                                                                                                                                                                                                                                                                                                                                                                                                                                                                                                                                                                                                                                                                                                                                                                                                                                                                                                                                                                                                                                                                                                                                                                                                                                                                                                                                                                                                                                                                                                                                                                                                                                                                                                                                                                                                                                                                                                                                                                                                                                                                                                                                                                                                                                                                                                                                                                                                                                                                                                                                                                              1\n",
       "Name: detailed_description, Length: 21214, dtype: int64"
      ]
     },
     "execution_count": 12,
     "metadata": {},
     "output_type": "execute_result"
    }
   ],
   "source": [
    "df[\"detailed_description\"].value_counts()\n"
   ]
  },
  {
   "attachments": {},
   "cell_type": "markdown",
   "metadata": {},
   "source": [
    "Like before this column is not suitable for extracting data from with RegEx."
   ]
  },
  {
   "attachments": {},
   "cell_type": "markdown",
   "metadata": {},
   "source": [
    "# Table"
   ]
  },
  {
   "cell_type": "code",
   "execution_count": 13,
   "metadata": {},
   "outputs": [
    {
     "data": {
      "text/plain": [
       "13355"
      ]
     },
     "execution_count": 13,
     "metadata": {},
     "output_type": "execute_result"
    }
   ],
   "source": [
    "df[\"table\"].count()\n"
   ]
  },
  {
   "cell_type": "code",
   "execution_count": 14,
   "metadata": {},
   "outputs": [
    {
     "data": {
      "text/plain": [
       "Series([], Name: table, dtype: int64)"
      ]
     },
     "execution_count": 14,
     "metadata": {},
     "output_type": "execute_result"
    }
   ],
   "source": [
    "df[df[\"provider\"] == \"homegate.ch\"][\"table\"].value_counts()\n"
   ]
  },
  {
   "attachments": {},
   "cell_type": "markdown",
   "metadata": {},
   "source": [
    "No new data has been added to this column so the findings from [this](../../v1/exports/2-daw_raw.html) notebook still hold true."
   ]
  },
  {
   "attachments": {},
   "cell_type": "markdown",
   "metadata": {},
   "source": [
    "# Details Structured"
   ]
  },
  {
   "cell_type": "code",
   "execution_count": 15,
   "metadata": {},
   "outputs": [
    {
     "data": {
      "text/plain": [
       "13355"
      ]
     },
     "execution_count": 15,
     "metadata": {},
     "output_type": "execute_result"
    }
   ],
   "source": [
    "df[\"details_structured\"].count()\n"
   ]
  },
  {
   "cell_type": "code",
   "execution_count": 16,
   "metadata": {},
   "outputs": [
    {
     "data": {
      "text/plain": [
       "Series([], Name: details_structured, dtype: int64)"
      ]
     },
     "execution_count": 16,
     "metadata": {},
     "output_type": "execute_result"
    }
   ],
   "source": [
    "df[df[\"provider\"] == \"homegate.ch\"][\"details_structured\"].value_counts()\n"
   ]
  },
  {
   "attachments": {},
   "cell_type": "markdown",
   "metadata": {},
   "source": [
    "The same goes for `details_structured`."
   ]
  },
  {
   "attachments": {},
   "cell_type": "markdown",
   "metadata": {},
   "source": [
    "# Details"
   ]
  },
  {
   "cell_type": "code",
   "execution_count": 17,
   "metadata": {},
   "outputs": [
    {
     "data": {
      "text/plain": [
       "13179"
      ]
     },
     "execution_count": 17,
     "metadata": {},
     "output_type": "execute_result"
    }
   ],
   "source": [
    "df[\"details\"].count()\n"
   ]
  },
  {
   "cell_type": "code",
   "execution_count": 18,
   "metadata": {},
   "outputs": [
    {
     "data": {
      "text/plain": [
       "Series([], Name: details, dtype: int64)"
      ]
     },
     "execution_count": 18,
     "metadata": {},
     "output_type": "execute_result"
    }
   ],
   "source": [
    "df[df[\"provider\"] == \"homegate.ch\"][\"details\"].value_counts()\n"
   ]
  },
  {
   "attachments": {},
   "cell_type": "markdown",
   "metadata": {},
   "source": [
    "And for `details`."
   ]
  }
 ],
 "metadata": {
  "kernelspec": {
   "display_name": "base",
   "language": "python",
   "name": "python3"
  },
  "language_info": {
   "codemirror_mode": {
    "name": "ipython",
    "version": 3
   },
   "file_extension": ".py",
   "mimetype": "text/x-python",
   "name": "python",
   "nbconvert_exporter": "python",
   "pygments_lexer": "ipython3",
   "version": "3.10.6"
  },
  "orig_nbformat": 4,
  "vscode": {
   "interpreter": {
    "hash": "d4d1e4263499bec80672ea0156c357c1ee493ec2b1c70f0acce89fc37c4a6abe"
   }
  }
 },
 "nbformat": 4,
 "nbformat_minor": 2
}
