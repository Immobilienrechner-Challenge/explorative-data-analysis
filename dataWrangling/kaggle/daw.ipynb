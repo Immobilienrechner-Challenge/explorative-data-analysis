{
 "cells": [
  {
   "cell_type": "code",
   "execution_count": 1,
   "metadata": {},
   "outputs": [],
   "source": [
    "# Import modules\n",
    "import pandas as pd\n",
    "import numpy as np"
   ]
  },
  {
   "cell_type": "code",
   "execution_count": 4,
   "metadata": {},
   "outputs": [],
   "source": [
    "df = pd.read_parquet('https://github.com/Immobilienrechner-Challenge/data/blob/main/kaggle_uncleaned.parquet?raw=true')"
   ]
  },
  {
   "cell_type": "code",
   "execution_count": 9,
   "metadata": {},
   "outputs": [
    {
     "data": {
      "text/plain": [
       "(24556, 132)"
      ]
     },
     "execution_count": 9,
     "metadata": {},
     "output_type": "execute_result"
    }
   ],
   "source": [
    "df.shape"
   ]
  },
  {
   "cell_type": "code",
   "execution_count": 6,
   "metadata": {},
   "outputs": [],
   "source": [
    "df_cleaned = pd.DataFrame()"
   ]
  },
  {
   "cell_type": "code",
   "execution_count": 7,
   "metadata": {},
   "outputs": [],
   "source": [
    "df_cleaned['living_space'] = df['Space extracted']"
   ]
  },
  {
   "cell_type": "code",
   "execution_count": 8,
   "metadata": {},
   "outputs": [
    {
     "data": {
      "text/plain": [
       "11563"
      ]
     },
     "execution_count": 8,
     "metadata": {},
     "output_type": "execute_result"
    }
   ],
   "source": [
    "df_cleaned['living_space'].count()"
   ]
  },
  {
   "cell_type": "code",
   "execution_count": 10,
   "metadata": {},
   "outputs": [],
   "source": [
    "## Rooms\n",
    "df_cleaned['rooms'] = df['details_structured'].str.extract('(\\d+\\.?\\d?) rooms').astype(float)\n",
    "df_cleaned['rooms'] = df['rooms'].fillna(df['No. of rooms:'])"
   ]
  },
  {
   "cell_type": "code",
   "execution_count": 12,
   "metadata": {},
   "outputs": [],
   "source": [
    "df_cleaned['rooms'] = df_cleaned['rooms'].replace('', np.nan)"
   ]
  },
  {
   "cell_type": "code",
   "execution_count": 13,
   "metadata": {},
   "outputs": [
    {
     "data": {
      "text/plain": [
       "23557"
      ]
     },
     "execution_count": 13,
     "metadata": {},
     "output_type": "execute_result"
    }
   ],
   "source": [
    "df_cleaned['rooms'].count()"
   ]
  },
  {
   "cell_type": "code",
   "execution_count": 21,
   "metadata": {},
   "outputs": [],
   "source": [
    "## Plot Area\n",
    "df_cleaned['plot_area'] = df['Plot_area_merged'].fillna(df['detail_responsive#surface_property']).fillna(df['Land area:'])"
   ]
  },
  {
   "cell_type": "code",
   "execution_count": 22,
   "metadata": {},
   "outputs": [
    {
     "data": {
      "text/plain": [
       "9484"
      ]
     },
     "execution_count": 22,
     "metadata": {},
     "output_type": "execute_result"
    }
   ],
   "source": [
    "df_cleaned['plot_area'].count()"
   ]
  },
  {
   "cell_type": "code",
   "execution_count": 24,
   "metadata": {},
   "outputs": [],
   "source": [
    "## Floor Space\n",
    "df_cleaned['floor_space'] = df['Floor_space_merged'].fillna(df['detail_responsive#surface_usable']).fillna(df['Floor space:'])"
   ]
  },
  {
   "cell_type": "code",
   "execution_count": 25,
   "metadata": {},
   "outputs": [],
   "source": [
    "## Floor\n",
    "df_cleaned['floor'] = df['Floor_merged'].fillna(df['detail_responsive#floor']).fillna(df['Floor'])"
   ]
  },
  {
   "cell_type": "code",
   "execution_count": 26,
   "metadata": {},
   "outputs": [],
   "source": [
    "## Availability\n",
    "df_cleaned['availability'] = df['Availability_merged'].fillna(df['detail_responsive#available_from'])"
   ]
  },
  {
   "cell_type": "code",
   "execution_count": 29,
   "metadata": {},
   "outputs": [],
   "source": [
    "## zip code\n",
    "df_cleaned['zip_code'] = df['address'].str.extract(r'(\\d{4}) [A-ZÀ-Ÿ]') \n",
    "df_cleaned['zip_address_s'] = df['address_s'].str.extract(\"(\\d{4}) [A-ZÀ-Ÿ]\")\n",
    "df_cleaned['zip_code'] = df_cleaned['zip_code'].fillna(df_cleaned['zip_address_s']) "
   ]
  },
  {
   "cell_type": "code",
   "execution_count": 30,
   "metadata": {},
   "outputs": [
    {
     "data": {
      "text/plain": [
       "24555"
      ]
     },
     "execution_count": 30,
     "metadata": {},
     "output_type": "execute_result"
    }
   ],
   "source": [
    "df_cleaned['zip_code'].count()"
   ]
  },
  {
   "cell_type": "code",
   "execution_count": 33,
   "metadata": {},
   "outputs": [
    {
     "data": {
      "text/html": [
       "<div>\n",
       "<style scoped>\n",
       "    .dataframe tbody tr th:only-of-type {\n",
       "        vertical-align: middle;\n",
       "    }\n",
       "\n",
       "    .dataframe tbody tr th {\n",
       "        vertical-align: top;\n",
       "    }\n",
       "\n",
       "    .dataframe thead th {\n",
       "        text-align: right;\n",
       "    }\n",
       "</style>\n",
       "<table border=\"1\" class=\"dataframe\">\n",
       "  <thead>\n",
       "    <tr style=\"text-align: right;\">\n",
       "      <th></th>\n",
       "      <th>Unnamed: 0.1</th>\n",
       "      <th>Unnamed: 0</th>\n",
       "      <th>Municipality</th>\n",
       "      <th>Living space</th>\n",
       "      <th>Plot area</th>\n",
       "      <th>Floor space</th>\n",
       "      <th>Availability</th>\n",
       "      <th>location</th>\n",
       "      <th>description</th>\n",
       "      <th>detailed_description</th>\n",
       "      <th>...</th>\n",
       "      <th>Floor space:</th>\n",
       "      <th>Number of floors:</th>\n",
       "      <th>Volume:</th>\n",
       "      <th>plz</th>\n",
       "      <th>Number of toilets:</th>\n",
       "      <th>Gross yield:</th>\n",
       "      <th>Minimum floor space:</th>\n",
       "      <th>space_cleaned</th>\n",
       "      <th>Type:</th>\n",
       "      <th>Hall height:</th>\n",
       "    </tr>\n",
       "  </thead>\n",
       "  <tbody>\n",
       "    <tr>\n",
       "      <th>22022</th>\n",
       "      <td>22032</td>\n",
       "      <td>22032</td>\n",
       "      <td>rancate</td>\n",
       "      <td>None</td>\n",
       "      <td>None</td>\n",
       "      <td>None</td>\n",
       "      <td>None</td>\n",
       "      <td>6862 rancate</td>\n",
       "      <td>Questo grazioso appartamento totalmente ristru...</td>\n",
       "      <td>Description\\n\"Grazioso appartamento nel cuore ...</td>\n",
       "      <td>...</td>\n",
       "      <td>None</td>\n",
       "      <td>NaN</td>\n",
       "      <td>None</td>\n",
       "      <td>6862.0</td>\n",
       "      <td>NaN</td>\n",
       "      <td>None</td>\n",
       "      <td>None</td>\n",
       "      <td>NaN</td>\n",
       "      <td>Apartment</td>\n",
       "      <td>None</td>\n",
       "    </tr>\n",
       "  </tbody>\n",
       "</table>\n",
       "<p>1 rows × 132 columns</p>\n",
       "</div>"
      ],
      "text/plain": [
       "       Unnamed: 0.1  Unnamed: 0 Municipality Living space Plot area  \\\n",
       "22022         22032       22032      rancate         None      None   \n",
       "\n",
       "      Floor space Availability      location  \\\n",
       "22022        None         None  6862 rancate   \n",
       "\n",
       "                                             description  \\\n",
       "22022  Questo grazioso appartamento totalmente ristru...   \n",
       "\n",
       "                                    detailed_description  ... Floor space:  \\\n",
       "22022  Description\\n\"Grazioso appartamento nel cuore ...  ...         None   \n",
       "\n",
       "      Number of floors: Volume:     plz Number of toilets: Gross yield:  \\\n",
       "22022               NaN    None  6862.0                NaN         None   \n",
       "\n",
       "      Minimum floor space: space_cleaned      Type: Hall height:  \n",
       "22022                 None           NaN  Apartment         None  \n",
       "\n",
       "[1 rows x 132 columns]"
      ]
     },
     "execution_count": 33,
     "metadata": {},
     "output_type": "execute_result"
    }
   ],
   "source": [
    "df.iloc[df_cleaned[df_cleaned['zip_code'].isna()].index]"
   ]
  },
  {
   "cell_type": "code",
   "execution_count": 34,
   "metadata": {},
   "outputs": [],
   "source": [
    "df_cleaned.dropna(subset=['zip_code'], inplace=True)"
   ]
  },
  {
   "cell_type": "code",
   "execution_count": 35,
   "metadata": {},
   "outputs": [],
   "source": [
    "# clean up typos\n",
    "df_cleaned.loc[df_cleaned['zip_code'] == '2737', 'zip_code'] = '2735'\n",
    "df_cleaned.loc[df_cleaned['zip_code'] == '3217', 'zip_code'] = '3127'\n",
    "df_cleaned.loc[df_cleaned['zip_code'] == '3364', 'zip_code'] = '3365'"
   ]
  },
  {
   "cell_type": "code",
   "execution_count": 37,
   "metadata": {},
   "outputs": [],
   "source": [
    "df_cleaned['municipality'] = df['address'].str.extract(r'\\d{4} (.+?),')\n",
    "df_cleaned['municipality_address_s'] = df['address_s'].str.extract(r\"\\d{4} (.+)$\")\n",
    "df_cleaned['municipality'] = df_cleaned['municipality'].fillna(df_cleaned['municipality_address_s'])"
   ]
  },
  {
   "cell_type": "code",
   "execution_count": 38,
   "metadata": {},
   "outputs": [
    {
     "name": "stderr",
     "output_type": "stream",
     "text": [
      "/opt/conda/lib/python3.10/site-packages/openpyxl/worksheet/_reader.py:312: UserWarning: Unknown extension is not supported and will be removed\n",
      "  warn(msg)\n"
     ]
    }
   ],
   "source": [
    "df_xlsx_plz = pd.read_excel(\"../../eda/utils/plz.xlsx\", sheet_name='Blatt1')\n",
    "df_xlsx_plz.drop(['Kanton', 'Canton', 'Cantone', 'Land', 'Pays', 'Paese'], axis=1, inplace=True)\n",
    "df_xlsx_plz.rename(columns={df_xlsx_plz.columns[0]: 'plz', df_xlsx_plz.columns[1]: 'municipality', df_xlsx_plz.columns[2]: 'canton'}, inplace=True)\n",
    "df_xlsx_plz.drop_duplicates(subset=['plz'], inplace=True)"
   ]
  },
  {
   "cell_type": "code",
   "execution_count": 40,
   "metadata": {},
   "outputs": [],
   "source": [
    "df_cleaned['canton'] = df_cleaned['zip_code'].astype(int).map(df_xlsx_plz.set_index('plz')['canton']).copy()"
   ]
  },
  {
   "cell_type": "code",
   "execution_count": 42,
   "metadata": {},
   "outputs": [],
   "source": [
    "# Clean up cantons\n",
    "df_cleaned.loc[df_cleaned['zip_code'] == '1919', 'canton'] = 'VS'\n",
    "df_cleaned.loc[df_cleaned['zip_code'] == '1818', 'canton'] = 'VD'"
   ]
  },
  {
   "cell_type": "code",
   "execution_count": 44,
   "metadata": {},
   "outputs": [],
   "source": [
    "## Street\n",
    "df_cleaned[\"street\"] = df['address'].str.extract(r\"(.+), \\d{4}\")\n",
    "df_cleaned.loc[df_cleaned['street'] == '-', 'street'] = np.nan\n",
    "df_cleaned.loc[df_cleaned['street'] == 'à', 'street'] = np.nan"
   ]
  },
  {
   "cell_type": "code",
   "execution_count": 45,
   "metadata": {},
   "outputs": [],
   "source": [
    "df_cleaned[\"street_nr\"] = df_cleaned['street'].str.extract(r'^.+ (\\d.+)')\n",
    "      \n",
    "# separate street name from street number\n",
    "df_cleaned[\"street\"] = df_cleaned['street'].str.extract(r'^(.+?) \\d')\n",
    "df_cleaned[\"street\"] = df_cleaned['street'].str.rstrip()"
   ]
  }
 ],
 "metadata": {
  "kernelspec": {
   "display_name": "base",
   "language": "python",
   "name": "python3"
  },
  "language_info": {
   "codemirror_mode": {
    "name": "ipython",
    "version": 3
   },
   "file_extension": ".py",
   "mimetype": "text/x-python",
   "name": "python",
   "nbconvert_exporter": "python",
   "pygments_lexer": "ipython3",
   "version": "3.10.6"
  },
  "orig_nbformat": 4,
  "vscode": {
   "interpreter": {
    "hash": "d4d1e4263499bec80672ea0156c357c1ee493ec2b1c70f0acce89fc37c4a6abe"
   }
  }
 },
 "nbformat": 4,
 "nbformat_minor": 2
}
