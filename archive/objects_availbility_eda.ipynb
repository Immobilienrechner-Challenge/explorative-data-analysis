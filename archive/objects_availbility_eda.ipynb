{
 "cells": [
  {
   "cell_type": "code",
   "execution_count": 1,
   "metadata": {},
   "outputs": [],
   "source": [
    "# Import Modules\n",
    "import pandas as pd\n",
    "import numpy as np\n",
    "import matplotlib.pyplot as plt\n",
    "import seaborn as sns"
   ]
  },
  {
   "cell_type": "code",
   "execution_count": 2,
   "metadata": {},
   "outputs": [
    {
     "name": "stderr",
     "output_type": "stream",
     "text": [
      "C:\\Users\\Si Ben Tran\\AppData\\Roaming\\Python\\Python39\\site-packages\\IPython\\core\\interactiveshell.py:3418: DtypeWarning: Columns (34) have mixed types.Specify dtype option on import or set low_memory=False.\n",
      "  exec(code_obj, self.user_global_ns, self.user_ns)\n"
     ]
    },
    {
     "data": {
      "text/html": [
       "<div>\n",
       "<style scoped>\n",
       "    .dataframe tbody tr th:only-of-type {\n",
       "        vertical-align: middle;\n",
       "    }\n",
       "\n",
       "    .dataframe tbody tr th {\n",
       "        vertical-align: top;\n",
       "    }\n",
       "\n",
       "    .dataframe thead th {\n",
       "        text-align: right;\n",
       "    }\n",
       "</style>\n",
       "<table border=\"1\" class=\"dataframe\">\n",
       "  <thead>\n",
       "    <tr style=\"text-align: right;\">\n",
       "      <th></th>\n",
       "      <th>Unnamed: 0</th>\n",
       "      <th>Unnamed: 0.1</th>\n",
       "      <th>Municipality</th>\n",
       "      <th>Living space</th>\n",
       "      <th>Plot area</th>\n",
       "      <th>Floor space</th>\n",
       "      <th>Availability</th>\n",
       "      <th>location</th>\n",
       "      <th>description</th>\n",
       "      <th>detailed_description</th>\n",
       "      <th>...</th>\n",
       "      <th>gde_social_help_quota</th>\n",
       "      <th>gde_tax</th>\n",
       "      <th>gde_workers_sector1</th>\n",
       "      <th>gde_workers_sector2</th>\n",
       "      <th>gde_workers_sector3</th>\n",
       "      <th>gde_workers_total</th>\n",
       "      <th>price_cleaned</th>\n",
       "      <th>type</th>\n",
       "      <th>Space extracted</th>\n",
       "      <th>rooms</th>\n",
       "    </tr>\n",
       "  </thead>\n",
       "  <tbody>\n",
       "    <tr>\n",
       "      <th>0</th>\n",
       "      <td>0</td>\n",
       "      <td>0</td>\n",
       "      <td>Biberstein</td>\n",
       "      <td>100 m²</td>\n",
       "      <td>NaN</td>\n",
       "      <td>NaN</td>\n",
       "      <td>On request</td>\n",
       "      <td>5023 Biberstein, AG</td>\n",
       "      <td>3.5 rooms, 100 m²«Luxuriöse Attika-Wohnung mit...</td>\n",
       "      <td>DescriptionLuxuriöse Attika-Wohnung direkt an ...</td>\n",
       "      <td>...</td>\n",
       "      <td>2.234259</td>\n",
       "      <td>5.89</td>\n",
       "      <td>14.0</td>\n",
       "      <td>9.0</td>\n",
       "      <td>308.0</td>\n",
       "      <td>331.0</td>\n",
       "      <td>1150000.0</td>\n",
       "      <td>penthouse</td>\n",
       "      <td>100.0</td>\n",
       "      <td>5.0</td>\n",
       "    </tr>\n",
       "  </tbody>\n",
       "</table>\n",
       "<p>1 rows × 108 columns</p>\n",
       "</div>"
      ],
      "text/plain": [
       "   Unnamed: 0  Unnamed: 0.1 Municipality Living space Plot area Floor space  \\\n",
       "0           0             0   Biberstein       100 m²       NaN         NaN   \n",
       "\n",
       "  Availability             location  \\\n",
       "0   On request  5023 Biberstein, AG   \n",
       "\n",
       "                                         description  \\\n",
       "0  3.5 rooms, 100 m²«Luxuriöse Attika-Wohnung mit...   \n",
       "\n",
       "                                detailed_description  ...  \\\n",
       "0  DescriptionLuxuriöse Attika-Wohnung direkt an ...  ...   \n",
       "\n",
       "  gde_social_help_quota gde_tax gde_workers_sector1 gde_workers_sector2  \\\n",
       "0              2.234259    5.89                14.0                 9.0   \n",
       "\n",
       "  gde_workers_sector3 gde_workers_total price_cleaned       type  \\\n",
       "0               308.0             331.0     1150000.0  penthouse   \n",
       "\n",
       "  Space extracted rooms  \n",
       "0           100.0   5.0  \n",
       "\n",
       "[1 rows x 108 columns]"
      ]
     },
     "metadata": {},
     "output_type": "display_data"
    },
    {
     "name": "stdout",
     "output_type": "stream",
     "text": [
      "['Municipality', 'Living space', 'Plot area', 'Floor space', 'Availability', 'location', 'description', 'detailed_description', 'url', 'table', 'Floor', 'detail_responsive#municipality', 'detail_responsive#surface_living', 'detail_responsive#floor', 'detail_responsive#available_from', 'Gemeinde', 'Wohnfläche', 'Stockwerk', 'Nutzfläche', 'Verfügbarkeit', 'Grundstücksfläche', 'detail_responsive#surface_property', 'detail_responsive#surface_usable', 'Commune', 'Surface habitable', 'Surface du terrain', 'Surface utile', 'Disponibilité', 'Étage', 'Comune', 'Superficie abitabile', 'Disponibilità', 'Gross return', 'Piano', 'Superficie del terreno', 'Superficie utile', 'Municipality_merged', 'Floor_merged', 'Living_space_merged', 'Floor_space_merged', 'Plot_area_merged', 'Availability_merged', 'location_parsed', 'title', 'details', 'address', 'price', 'link', 'details_structured', 'Locality', 'type']\n",
      "51\n"
     ]
    }
   ],
   "source": [
    "# import DataFarme\n",
    "df = pd.read_csv(\"https://raw.githubusercontent.com/Immobilienrechner-Challenge/data/main/immoscout_cleaned_lat_lon_fixed_v9.csv\")\n",
    "\n",
    "# print head of DataFrame\n",
    "display(df.head(1))\n",
    "\n",
    "# filter for columns with dtype object\n",
    "df_objects = df[df.select_dtypes(include=['object']).columns]\n",
    "\n",
    "# get every column name with dtype object and save it in a list\n",
    "df_objects_list = df_objects.columns.tolist()\n",
    "\n",
    "# display df_objects_list\n",
    "print(df_objects_list)\n",
    "\n",
    "# print len of df_objects_list\n",
    "print(len(df_objects_list))\n",
    "\n",
    "# create empty list for dropping the coloumn names in the future\n",
    "drop_list = []\n"
   ]
  },
  {
   "cell_type": "code",
   "execution_count": 3,
   "metadata": {},
   "outputs": [],
   "source": [
    "# selecting Availability, descirption, detailed_description, url, table, detail_responsive#available_from\\\n",
    "# Verfügbarkeit, Disponsibilité, Disponsibilità, Gross return, Piano, Availbility_merged, title, link, \\\n",
    "# type\n",
    "\n",
    "# create avability list\n",
    "avability_list = ['Availability', 'detail_responsive#available_from', 'Verfügbarkeit', \\\n",
    "                'Disponibilité', 'Disponibilità']\n",
    "\n",
    "# create json list\n",
    "json_cols = ['details_structured']\n",
    "\n",
    "# other categorical list\n",
    "other_list = ['url', 'table', 'Gross return', 'Piano', 'title', 'link', 'type']"
   ]
  },
  {
   "cell_type": "markdown",
   "metadata": {},
   "source": [
    "# Availbility"
   ]
  },
  {
   "cell_type": "code",
   "execution_count": 4,
   "metadata": {},
   "outputs": [
    {
     "data": {
      "text/html": [
       "<div>\n",
       "<style scoped>\n",
       "    .dataframe tbody tr th:only-of-type {\n",
       "        vertical-align: middle;\n",
       "    }\n",
       "\n",
       "    .dataframe tbody tr th {\n",
       "        vertical-align: top;\n",
       "    }\n",
       "\n",
       "    .dataframe thead th {\n",
       "        text-align: right;\n",
       "    }\n",
       "</style>\n",
       "<table border=\"1\" class=\"dataframe\">\n",
       "  <thead>\n",
       "    <tr style=\"text-align: right;\">\n",
       "      <th></th>\n",
       "      <th>Availability</th>\n",
       "      <th>detail_responsive#available_from</th>\n",
       "      <th>Verfügbarkeit</th>\n",
       "      <th>Disponibilité</th>\n",
       "      <th>Disponibilità</th>\n",
       "    </tr>\n",
       "  </thead>\n",
       "  <tbody>\n",
       "    <tr>\n",
       "      <th>0</th>\n",
       "      <td>On request</td>\n",
       "      <td>NaN</td>\n",
       "      <td>NaN</td>\n",
       "      <td>NaN</td>\n",
       "      <td>NaN</td>\n",
       "    </tr>\n",
       "    <tr>\n",
       "      <th>1</th>\n",
       "      <td>On request</td>\n",
       "      <td>NaN</td>\n",
       "      <td>NaN</td>\n",
       "      <td>NaN</td>\n",
       "      <td>NaN</td>\n",
       "    </tr>\n",
       "    <tr>\n",
       "      <th>2</th>\n",
       "      <td>NaN</td>\n",
       "      <td>Immediately</td>\n",
       "      <td>NaN</td>\n",
       "      <td>NaN</td>\n",
       "      <td>NaN</td>\n",
       "    </tr>\n",
       "    <tr>\n",
       "      <th>3</th>\n",
       "      <td>On request</td>\n",
       "      <td>NaN</td>\n",
       "      <td>NaN</td>\n",
       "      <td>NaN</td>\n",
       "      <td>NaN</td>\n",
       "    </tr>\n",
       "    <tr>\n",
       "      <th>4</th>\n",
       "      <td>On request</td>\n",
       "      <td>NaN</td>\n",
       "      <td>NaN</td>\n",
       "      <td>NaN</td>\n",
       "      <td>NaN</td>\n",
       "    </tr>\n",
       "    <tr>\n",
       "      <th>5</th>\n",
       "      <td>On request</td>\n",
       "      <td>NaN</td>\n",
       "      <td>NaN</td>\n",
       "      <td>NaN</td>\n",
       "      <td>NaN</td>\n",
       "    </tr>\n",
       "    <tr>\n",
       "      <th>6</th>\n",
       "      <td>Immediately</td>\n",
       "      <td>NaN</td>\n",
       "      <td>NaN</td>\n",
       "      <td>NaN</td>\n",
       "      <td>NaN</td>\n",
       "    </tr>\n",
       "    <tr>\n",
       "      <th>7</th>\n",
       "      <td>On request</td>\n",
       "      <td>NaN</td>\n",
       "      <td>NaN</td>\n",
       "      <td>NaN</td>\n",
       "      <td>NaN</td>\n",
       "    </tr>\n",
       "    <tr>\n",
       "      <th>8</th>\n",
       "      <td>On request</td>\n",
       "      <td>NaN</td>\n",
       "      <td>NaN</td>\n",
       "      <td>NaN</td>\n",
       "      <td>NaN</td>\n",
       "    </tr>\n",
       "    <tr>\n",
       "      <th>9</th>\n",
       "      <td>On request</td>\n",
       "      <td>NaN</td>\n",
       "      <td>NaN</td>\n",
       "      <td>NaN</td>\n",
       "      <td>NaN</td>\n",
       "    </tr>\n",
       "  </tbody>\n",
       "</table>\n",
       "</div>"
      ],
      "text/plain": [
       "  Availability detail_responsive#available_from Verfügbarkeit Disponibilité  \\\n",
       "0   On request                              NaN           NaN           NaN   \n",
       "1   On request                              NaN           NaN           NaN   \n",
       "2          NaN                      Immediately           NaN           NaN   \n",
       "3   On request                              NaN           NaN           NaN   \n",
       "4   On request                              NaN           NaN           NaN   \n",
       "5   On request                              NaN           NaN           NaN   \n",
       "6  Immediately                              NaN           NaN           NaN   \n",
       "7   On request                              NaN           NaN           NaN   \n",
       "8   On request                              NaN           NaN           NaN   \n",
       "9   On request                              NaN           NaN           NaN   \n",
       "\n",
       "  Disponibilità  \n",
       "0           NaN  \n",
       "1           NaN  \n",
       "2           NaN  \n",
       "3           NaN  \n",
       "4           NaN  \n",
       "5           NaN  \n",
       "6           NaN  \n",
       "7           NaN  \n",
       "8           NaN  \n",
       "9           NaN  "
      ]
     },
     "metadata": {},
     "output_type": "display_data"
    },
    {
     "name": "stdout",
     "output_type": "stream",
     "text": [
      "Availability 715\n",
      "detail_responsive#available_from 12918\n",
      "Verfügbarkeit 13218\n",
      "Disponibilité 13311\n",
      "Disponibilità 13350\n"
     ]
    },
    {
     "data": {
      "image/png": "[encoded data removed]",
      "text/plain": [
       "<Figure size 432x288 with 1 Axes>"
      ]
     },
     "metadata": {
      "needs_background": "light"
     },
     "output_type": "display_data"
    }
   ],
   "source": [
    "# selecting all coloumns with availbility_list\n",
    "df_availability = df[avability_list]\n",
    "\n",
    "# display the dataframe\n",
    "display(df_availability.head(10))\n",
    "\n",
    "# Iterate thorugh every coloumn and the get number of Na Values\n",
    "for col in df_availability.columns:\n",
    "    print(col, df_availability[col].isna().sum())\n",
    "\n",
    "# create isna heatmap\n",
    "sns.heatmap(df_availability.isna(), cbar=False)\n",
    "plt.show()"
   ]
  },
  {
   "cell_type": "code",
   "execution_count": 5,
   "metadata": {},
   "outputs": [
    {
     "name": "stderr",
     "output_type": "stream",
     "text": [
      "<ipython-input-5-429af6696bbc>:2: SettingWithCopyWarning: \n",
      "A value is trying to be set on a copy of a slice from a DataFrame.\n",
      "Try using .loc[row_indexer,col_indexer] = value instead\n",
      "\n",
      "See the caveats in the documentation: https://pandas.pydata.org/pandas-docs/stable/user_guide/indexing.html#returning-a-view-versus-a-copy\n",
      "  df_availability['avability_merged'] = df_availability[avability_list].apply(lambda x: x.dropna().values[0], axis=1)\n"
     ]
    },
    {
     "data": {
      "text/html": [
       "<div>\n",
       "<style scoped>\n",
       "    .dataframe tbody tr th:only-of-type {\n",
       "        vertical-align: middle;\n",
       "    }\n",
       "\n",
       "    .dataframe tbody tr th {\n",
       "        vertical-align: top;\n",
       "    }\n",
       "\n",
       "    .dataframe thead th {\n",
       "        text-align: right;\n",
       "    }\n",
       "</style>\n",
       "<table border=\"1\" class=\"dataframe\">\n",
       "  <thead>\n",
       "    <tr style=\"text-align: right;\">\n",
       "      <th></th>\n",
       "      <th>Availability</th>\n",
       "      <th>detail_responsive#available_from</th>\n",
       "      <th>Verfügbarkeit</th>\n",
       "      <th>Disponibilité</th>\n",
       "      <th>Disponibilità</th>\n",
       "      <th>avability_merged</th>\n",
       "    </tr>\n",
       "  </thead>\n",
       "  <tbody>\n",
       "    <tr>\n",
       "      <th>13376</th>\n",
       "      <td>Immediately</td>\n",
       "      <td>NaN</td>\n",
       "      <td>NaN</td>\n",
       "      <td>NaN</td>\n",
       "      <td>NaN</td>\n",
       "      <td>Immediately</td>\n",
       "    </tr>\n",
       "    <tr>\n",
       "      <th>13377</th>\n",
       "      <td>Immediately</td>\n",
       "      <td>NaN</td>\n",
       "      <td>NaN</td>\n",
       "      <td>NaN</td>\n",
       "      <td>NaN</td>\n",
       "      <td>Immediately</td>\n",
       "    </tr>\n",
       "  </tbody>\n",
       "</table>\n",
       "</div>"
      ],
      "text/plain": [
       "      Availability detail_responsive#available_from Verfügbarkeit  \\\n",
       "13376  Immediately                              NaN           NaN   \n",
       "13377  Immediately                              NaN           NaN   \n",
       "\n",
       "      Disponibilité Disponibilità avability_merged  \n",
       "13376           NaN           NaN      Immediately  \n",
       "13377           NaN           NaN      Immediately  "
      ]
     },
     "metadata": {},
     "output_type": "display_data"
    },
    {
     "name": "stdout",
     "output_type": "stream",
     "text": [
      "['On request' 'Immediately' '30.12.2022' '01.12.2022' '01.04.2023'\n",
      " '01.08.2023' '01.10.2022' '01.11.2022' '01.09.2023' '01.07.2023'\n",
      " '07.07.2023' '22.10.2022' '01.02.2023' '01.06.2023' '31.10.2023'\n",
      " '01.01.2023' '01.05.2023' '01.12.2023' '01.10.2023' '30.11.2022'\n",
      " '31.12.2023' '20.03.2023' '19.01.2024' '01.03.2023' '01.05.2024'\n",
      " '15.08.2023' '31.12.2022' '31.03.2023' '30.06.2024' '01.02.2024'\n",
      " '31.07.2023' '02.01.2023' '15.10.2022' '11.11.2022' '30.11.2023'\n",
      " '01.04.2024' '01.12.2024' '30.09.2022' '01.04.2025' '01.10.2024'\n",
      " '01.07.2024' '01.11.2024' '15.12.2022' '01.06.2024' '01.01.2024'\n",
      " '01.11.2023' '25.01.2024' '24.06.2023' '26.10.2022' '28.02.2023'\n",
      " '15.09.2022' '30.09.2023' '30.01.2024' '03.04.2023' '15.02.2024'\n",
      " '01.04.2030' '30.04.2023' '05.09.2022' '03.10.2022' '31.05.2024'\n",
      " '31.05.2023' '31.03.2024' '30.12.2023' '16.12.2022' '07.11.2022'\n",
      " '05.02.2024' '30.10.2023' '31.10.2022' '21.10.2023' '16.09.2022'\n",
      " '31.08.2023' '01.03.2025' '15.12.2023' '20.04.2023' '17.10.2022'\n",
      " '17.12.2023' '30.06.2023' '07.06.2023' '01.09.2024' '08.02.2023'\n",
      " '04.04.2024' '30.03.2023' '21.01.2023' '02.12.2022' '20.07.2023'\n",
      " '25.12.2022' '16.04.2023' '20.05.2023' '15.03.2023' '31.01.2024'\n",
      " '03.08.2023' '07.12.2022' '15.07.2024' '15.09.2023' '15.03.2024'\n",
      " '20.12.2022' '23.12.2022' '31.01.2023' '09.12.2022' '15.06.2023'\n",
      " '09.05.2023' '22.12.2023' '05.06.2023' '24.12.2023' '02.10.2023'\n",
      " '24.12.2022' '30.05.2023' '01.12.2025' '31.07.2024' '27.09.2023'\n",
      " '26.12.2022' '29.02.2024']\n",
      "0\n"
     ]
    }
   ],
   "source": [
    "# create a coloumn and save the value of the coloumn with the most values\n",
    "df_availability['avability_merged'] = df_availability[avability_list].apply(lambda x: x.dropna().values[0], axis=1)\n",
    "\n",
    "# display the dataframe\n",
    "display(df_availability.tail(2))\n",
    "\n",
    "# get all unique values of the coloumn avability_merged\n",
    "print(df_availability['avability_merged'].unique())\n",
    "\n",
    "# check if there is an na value in availbility_merged\n",
    "print(df_availability['avability_merged'].isna().sum())\n"
   ]
  },
  {
   "cell_type": "code",
   "execution_count": 6,
   "metadata": {},
   "outputs": [
    {
     "data": {
      "image/png": "[encoded data removed]",
      "text/plain": [
       "<Figure size 432x288 with 2 Axes>"
      ]
     },
     "metadata": {
      "needs_background": "light"
     },
     "output_type": "display_data"
    }
   ],
   "source": [
    "# create isna heatmap\n",
    "sns.heatmap(df_availability.isna(), cbar=True)\n",
    "plt.show()"
   ]
  },
  {
   "cell_type": "code",
   "execution_count": 7,
   "metadata": {},
   "outputs": [
    {
     "data": {
      "text/html": [
       "<div>\n",
       "<style scoped>\n",
       "    .dataframe tbody tr th:only-of-type {\n",
       "        vertical-align: middle;\n",
       "    }\n",
       "\n",
       "    .dataframe tbody tr th {\n",
       "        vertical-align: top;\n",
       "    }\n",
       "\n",
       "    .dataframe thead th {\n",
       "        text-align: right;\n",
       "    }\n",
       "</style>\n",
       "<table border=\"1\" class=\"dataframe\">\n",
       "  <thead>\n",
       "    <tr style=\"text-align: right;\">\n",
       "      <th></th>\n",
       "      <th>avability_merged</th>\n",
       "    </tr>\n",
       "  </thead>\n",
       "  <tbody>\n",
       "    <tr>\n",
       "      <th>On request</th>\n",
       "      <td>9650</td>\n",
       "    </tr>\n",
       "    <tr>\n",
       "      <th>Immediately</th>\n",
       "      <td>2647</td>\n",
       "    </tr>\n",
       "  </tbody>\n",
       "</table>\n",
       "</div>"
      ],
      "text/plain": [
       "             avability_merged\n",
       "On request               9650\n",
       "Immediately              2647"
      ]
     },
     "metadata": {},
     "output_type": "display_data"
    }
   ],
   "source": [
    "# create a dataframe with the number of unique values in availbility_merged\n",
    "df_availability_merged = df_availability['avability_merged'].value_counts().to_frame()\n",
    "\n",
    "# display the dataframe\n",
    "display(df_availability_merged.head(2))\n"
   ]
  },
  {
   "cell_type": "markdown",
   "metadata": {},
   "source": [
    "### Function for availability"
   ]
  },
  {
   "cell_type": "code",
   "execution_count": 8,
   "metadata": {},
   "outputs": [],
   "source": [
    "# create a function for the availbility_merged\n",
    "def availability_merged(df):\n",
    "    '''\n",
    "    This funktion takes a dataframe and selects all the availability coloumns and merges them into one coloumn.\n",
    "    Also drops the used coloumns and returns a dataframe.\n",
    "\n",
    "    df: pd.DataFrame (Our immo raw csv file)\n",
    "    '''\n",
    "    \n",
    "    # create a list for the availabilty_merged\n",
    "    col = ['Availability', 'detail_responsive#available_from', 'Verfügbarkeit', 'Disponibilité', 'Disponibilità']\n",
    "\n",
    "    # create a coloumn and save the value of the coloumn with the most values\n",
    "    df['avability_merged'] = df[col].apply(lambda x: x.dropna().values[0], axis=1)\n",
    "\n",
    "    # drop the coloumns\n",
    "    df.drop(col, axis=1, inplace=True)\n",
    "\n",
    "    # return the dataframe\n",
    "    return df\n",
    "\n",
    "    "
   ]
  },
  {
   "cell_type": "code",
   "execution_count": 9,
   "metadata": {},
   "outputs": [
    {
     "data": {
      "text/html": [
       "<div>\n",
       "<style scoped>\n",
       "    .dataframe tbody tr th:only-of-type {\n",
       "        vertical-align: middle;\n",
       "    }\n",
       "\n",
       "    .dataframe tbody tr th {\n",
       "        vertical-align: top;\n",
       "    }\n",
       "\n",
       "    .dataframe thead th {\n",
       "        text-align: right;\n",
       "    }\n",
       "</style>\n",
       "<table border=\"1\" class=\"dataframe\">\n",
       "  <thead>\n",
       "    <tr style=\"text-align: right;\">\n",
       "      <th></th>\n",
       "      <th>Space extracted</th>\n",
       "      <th>rooms</th>\n",
       "      <th>avability_merged</th>\n",
       "    </tr>\n",
       "  </thead>\n",
       "  <tbody>\n",
       "    <tr>\n",
       "      <th>0</th>\n",
       "      <td>100.0</td>\n",
       "      <td>5.0</td>\n",
       "      <td>On request</td>\n",
       "    </tr>\n",
       "    <tr>\n",
       "      <th>1</th>\n",
       "      <td>156.0</td>\n",
       "      <td>5.0</td>\n",
       "      <td>On request</td>\n",
       "    </tr>\n",
       "    <tr>\n",
       "      <th>2</th>\n",
       "      <td>93.0</td>\n",
       "      <td>5.0</td>\n",
       "      <td>Immediately</td>\n",
       "    </tr>\n",
       "  </tbody>\n",
       "</table>\n",
       "</div>"
      ],
      "text/plain": [
       "   Space extracted  rooms avability_merged\n",
       "0            100.0    5.0       On request\n",
       "1            156.0    5.0       On request\n",
       "2             93.0    5.0      Immediately"
      ]
     },
     "metadata": {},
     "output_type": "display_data"
    }
   ],
   "source": [
    "# testing function\n",
    "df_test_avail = availability_merged(df)\n",
    "\n",
    "# display the dataframe \n",
    "display(df_test_avail.iloc[: , -3:].head(3))\n"
   ]
  }
 ],
 "metadata": {
  "kernelspec": {
   "display_name": "base",
   "language": "python",
   "name": "python3"
  },
  "language_info": {
   "codemirror_mode": {
    "name": "ipython",
    "version": 3
   },
   "file_extension": ".py",
   "mimetype": "text/x-python",
   "name": "python",
   "nbconvert_exporter": "python",
   "pygments_lexer": "ipython3",
   "version": "3.10.6 | packaged by conda-forge | (main, Aug 22 2022, 20:35:26) [GCC 10.4.0]"
  },
  "orig_nbformat": 4,
  "vscode": {
   "interpreter": {
    "hash": "d4d1e4263499bec80672ea0156c357c1ee493ec2b1c70f0acce89fc37c4a6abe"
   }
  }
 },
 "nbformat": 4,
 "nbformat_minor": 2
}
