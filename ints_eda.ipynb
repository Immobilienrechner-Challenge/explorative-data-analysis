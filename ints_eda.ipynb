{
 "cells": [
  {
   "cell_type": "code",
   "execution_count": 221,
   "metadata": {},
   "outputs": [
    {
     "data": {
      "text/plain": [
       "(13378, 24)"
      ]
     },
     "execution_count": 221,
     "metadata": {},
     "output_type": "execute_result"
    }
   ],
   "source": [
    "import pandas as pd\n",
    "import numpy as np\n",
    "import re\n",
    "\n",
    "pd.set_option(\"display.max_columns\", None, \"display.max_rows\", 100)\n",
    "\n",
    "df = pd.read_csv(\"../data/immoscout_cleaned_lat_lon_fixed_v9.csv\", low_memory=False)\n",
    "\n",
    "col_names = df.columns.array\n",
    "col_names[0:2] = [\"Index1\", \"Index2\"]\n",
    "df.columns = col_names\n",
    "\n",
    "numeric_columns = [\"Living space\", \"Plot area\", \"Floor space\", \"Floor\", \"detail_responsive#surface_living\", \"detail_responsive#floor\", \"Wohnfläche\", \"Stockwerk\", \"Nutzfläche\", \"Grundstücksfläche\", \"detail_responsive#surface_property\", \"detail_responsive#surface_usable\", \"Surface habitable\", \"Surface du terrain\", \"Surface utile\", \"Étage\", \"Superficie abitabile\", \"Piano\", \"Superficie del terreno\", \"Superficie utile\", \"Floor_merged\", \"Living_space_merged\", \"Floor_space_merged\", \"Plot_area_merged\"]\n",
    "df_numeric = df[numeric_columns]\n",
    "\n",
    "df_numeric.shape"
   ]
  },
  {
   "cell_type": "markdown",
   "metadata": {},
   "source": [
    "In this part of the data analysis we focus on the numeric variables. For each one of them we find a \"_merged\" column in the dataset. How this column has been merged however is unclear, therefore we cannot assume that this column contains all the data.  \n",
    "Therefore we split by values containing information on \"Living Space\", \"Plot Area\", \"Floor Space\" and \"Floor\"."
   ]
  },
  {
   "cell_type": "markdown",
   "metadata": {},
   "source": [
    "## Living Space"
   ]
  },
  {
   "cell_type": "code",
   "execution_count": 223,
   "metadata": {},
   "outputs": [],
   "source": [
    "living_space = [\"Living space\", \"Wohnfläche\", \"Surface habitable\", \"Superficie abitabile\", \"detail_responsive#surface_living\", \"Living_space_merged\"]\n",
    "df_living_space = df_numeric[living_space]"
   ]
  },
  {
   "cell_type": "markdown",
   "metadata": {},
   "source": [
    "To get a sense of how the \"merged\" column was created, we inspect the cumulative sum of the value counts per column and check it against the \"merged\"-count. "
   ]
  },
  {
   "cell_type": "code",
   "execution_count": 224,
   "metadata": {},
   "outputs": [
    {
     "data": {
      "text/plain": [
       "Living space                        False\n",
       "Wohnfläche                          False\n",
       "Surface habitable                   False\n",
       "Superficie abitabile                 True\n",
       "detail_responsive#surface_living    False\n",
       "dtype: bool"
      ]
     },
     "execution_count": 224,
     "metadata": {},
     "output_type": "execute_result"
    }
   ],
   "source": [
    "df_living_space.iloc[:,0:5].count().cumsum() == df_living_space[living_space[5]].count()"
   ]
  },
  {
   "cell_type": "markdown",
   "metadata": {},
   "source": [
    "This suggests, that the column \"Living_space_merged\" contains the information of all the columns excluding \"detail_responsive#surface_living\". \n",
    "\n",
    "Let's see, if this is actually true.\n",
    "\n",
    "First, we merge the relevant columns into one"
   ]
  },
  {
   "cell_type": "code",
   "execution_count": 225,
   "metadata": {},
   "outputs": [
    {
     "data": {
      "text/plain": [
       "0        100 m²\n",
       "1        156 m²\n",
       "2           NaN\n",
       "3        154 m²\n",
       "4        142 m²\n",
       "          ...  \n",
       "13373     70 m²\n",
       "13374       NaN\n",
       "13375    150 m²\n",
       "13376    145 m²\n",
       "13377    385 m²\n",
       "Name: Living space, Length: 13378, dtype: object"
      ]
     },
     "execution_count": 225,
     "metadata": {},
     "output_type": "execute_result"
    }
   ],
   "source": [
    "df_living_space.loc[:, living_space[0]]"
   ]
  },
  {
   "cell_type": "code",
   "execution_count": 226,
   "metadata": {},
   "outputs": [
    {
     "name": "stderr",
     "output_type": "stream",
     "text": [
      "/tmp/ipykernel_20814/4020886721.py:1: SettingWithCopyWarning: \n",
      "A value is trying to be set on a copy of a slice from a DataFrame.\n",
      "Try using .loc[row_indexer,col_indexer] = value instead\n",
      "\n",
      "See the caveats in the documentation: https://pandas.pydata.org/pandas-docs/stable/user_guide/indexing.html#returning-a-view-versus-a-copy\n",
      "  df_living_space['living_space'] = df_living_space[living_space[0]].fillna('') + \\\n"
     ]
    },
    {
     "data": {
      "text/plain": [
       "13378"
      ]
     },
     "execution_count": 226,
     "metadata": {},
     "output_type": "execute_result"
    }
   ],
   "source": [
    "df_living_space['living_space'] = df_living_space[living_space[0]].fillna('') + \\\n",
    "  (df_living_space[living_space[1]]).fillna('') + \\\n",
    "  (df_living_space[living_space[2]]).fillna('') + \\\n",
    "  (df_living_space[living_space[3]]).fillna('')\n",
    "\n",
    "(df_living_space['living_space'] == df_living_space[living_space[5]].fillna('')).sum()"
   ]
  },
  {
   "cell_type": "markdown",
   "metadata": {},
   "source": [
    "Counting the True values of the above condition yields the same count as the column count of the dataset meaning that the columns are identical.\n",
    "\n",
    "The suggestion from the cumulative sum has therefore been proven correct!\n",
    "Now to get one column with the full information, we merge the \"Living_space_merged\" column with \"detail_responsive#surface_living\"."
   ]
  },
  {
   "cell_type": "code",
   "execution_count": 227,
   "metadata": {},
   "outputs": [
    {
     "name": "stderr",
     "output_type": "stream",
     "text": [
      "/tmp/ipykernel_20814/3070984261.py:1: SettingWithCopyWarning: \n",
      "A value is trying to be set on a copy of a slice from a DataFrame.\n",
      "Try using .loc[row_indexer,col_indexer] = value instead\n",
      "\n",
      "See the caveats in the documentation: https://pandas.pydata.org/pandas-docs/stable/user_guide/indexing.html#returning-a-view-versus-a-copy\n",
      "  df_living_space['living_space'] = df_living_space[living_space[5]].fillna('') + \\\n",
      "/tmp/ipykernel_20814/3070984261.py:4: SettingWithCopyWarning: \n",
      "A value is trying to be set on a copy of a slice from a DataFrame.\n",
      "Try using .loc[row_indexer,col_indexer] = value instead\n",
      "\n",
      "See the caveats in the documentation: https://pandas.pydata.org/pandas-docs/stable/user_guide/indexing.html#returning-a-view-versus-a-copy\n",
      "  df_living_space['living_space'] = df_living_space['living_space'].replace('', np.nan)\n"
     ]
    },
    {
     "data": {
      "text/plain": [
       "12304"
      ]
     },
     "execution_count": 227,
     "metadata": {},
     "output_type": "execute_result"
    }
   ],
   "source": [
    "df_living_space['living_space'] = df_living_space[living_space[5]].fillna('') + \\\n",
    "  (df_living_space[living_space[4]]).fillna('')\n",
    "\n",
    "df_living_space['living_space'] = df_living_space['living_space'].replace('', np.nan)\n",
    "\n",
    "df_living_space['living_space'].count()"
   ]
  },
  {
   "cell_type": "markdown",
   "metadata": {},
   "source": [
    "We now have 12304 observations for living space in our dataset. Nice! Let's transfer this back into the numeric subset of the dataframe and drop the unused columns."
   ]
  },
  {
   "cell_type": "code",
   "execution_count": 228,
   "metadata": {},
   "outputs": [
    {
     "data": {
      "text/plain": [
       "(13378, 19)"
      ]
     },
     "execution_count": 228,
     "metadata": {},
     "output_type": "execute_result"
    }
   ],
   "source": [
    "df_numeric = df_numeric.drop(living_space, axis=1) # drops 6 columns -> 18 remain\n",
    "df_numeric[\"living_space\"] = df_living_space['living_space'] # adds 1 column -> 19\n",
    "df_numeric.shape"
   ]
  },
  {
   "cell_type": "code",
   "execution_count": 247,
   "metadata": {},
   "outputs": [
    {
     "data": {
      "text/plain": [
       "13378"
      ]
     },
     "execution_count": 247,
     "metadata": {},
     "output_type": "execute_result"
    }
   ],
   "source": [
    "df_numeric[\"Space extracted\"] = df[\"Space extracted\"]\n",
    "df_numeric[df_numeric[\"Space extracted\"].notna() & df_numeric[\"living_space\"].isna()][\"living_space\"] = df_numeric[df_numeric[\"Space extracted\"].notna() & df_numeric[\"living_space\"].isna()][\"Space extracted\"]\n",
    "(df_numeric[\"Space extracted\"].fillna(0).astype(\"int\") == df_numeric[\"living_space\"]).count()"
   ]
  },
  {
   "cell_type": "markdown",
   "metadata": {},
   "source": [
    "We then rinse and repeat this process for all data with a \"_merged\" column present in the dataset. "
   ]
  },
  {
   "cell_type": "markdown",
   "metadata": {},
   "source": [
    "## Plot Area"
   ]
  },
  {
   "cell_type": "code",
   "execution_count": 187,
   "metadata": {},
   "outputs": [
    {
     "data": {
      "text/plain": [
       "Plot area                             False\n",
       "Grundstücksfläche                     False\n",
       "Surface du terrain                    False\n",
       "Superficie del terreno                 True\n",
       "detail_responsive#surface_property    False\n",
       "dtype: bool"
      ]
     },
     "execution_count": 187,
     "metadata": {},
     "output_type": "execute_result"
    }
   ],
   "source": [
    "plot_area = [\"Plot area\", \"Grundstücksfläche\", \"Surface du terrain\", \"Superficie del terreno\", \"detail_responsive#surface_property\", \"Plot_area_merged\"]\n",
    "df_plot_area = df_numeric[plot_area]\n",
    "\n",
    "df_plot_area[plot_area[0:5]].count().cumsum() == df_plot_area[plot_area[5]].count()"
   ]
  },
  {
   "cell_type": "code",
   "execution_count": 188,
   "metadata": {},
   "outputs": [
    {
     "name": "stderr",
     "output_type": "stream",
     "text": [
      "/tmp/ipykernel_20814/2286274601.py:1: SettingWithCopyWarning: \n",
      "A value is trying to be set on a copy of a slice from a DataFrame.\n",
      "Try using .loc[row_indexer,col_indexer] = value instead\n",
      "\n",
      "See the caveats in the documentation: https://pandas.pydata.org/pandas-docs/stable/user_guide/indexing.html#returning-a-view-versus-a-copy\n",
      "  df_plot_area['plot_area'] = df_plot_area[plot_area[0]].fillna('') + \\\n"
     ]
    },
    {
     "data": {
      "text/plain": [
       "13378"
      ]
     },
     "execution_count": 188,
     "metadata": {},
     "output_type": "execute_result"
    }
   ],
   "source": [
    "df_plot_area['plot_area'] = df_plot_area[plot_area[0]].fillna('') + \\\n",
    "  (df_plot_area[plot_area[1]]).fillna('') + \\\n",
    "  (df_plot_area[plot_area[2]]).fillna('') + \\\n",
    "  (df_plot_area[plot_area[3]]).fillna('')\n",
    "\n",
    "(df_plot_area['plot_area'] == df_plot_area[plot_area[5]].fillna('')).sum()"
   ]
  },
  {
   "cell_type": "code",
   "execution_count": 189,
   "metadata": {},
   "outputs": [
    {
     "name": "stderr",
     "output_type": "stream",
     "text": [
      "/tmp/ipykernel_20814/670439676.py:1: SettingWithCopyWarning: \n",
      "A value is trying to be set on a copy of a slice from a DataFrame.\n",
      "Try using .loc[row_indexer,col_indexer] = value instead\n",
      "\n",
      "See the caveats in the documentation: https://pandas.pydata.org/pandas-docs/stable/user_guide/indexing.html#returning-a-view-versus-a-copy\n",
      "  df_plot_area['plot_area'] = df_plot_area[plot_area[5]].fillna('') + \\\n",
      "/tmp/ipykernel_20814/670439676.py:4: SettingWithCopyWarning: \n",
      "A value is trying to be set on a copy of a slice from a DataFrame.\n",
      "Try using .loc[row_indexer,col_indexer] = value instead\n",
      "\n",
      "See the caveats in the documentation: https://pandas.pydata.org/pandas-docs/stable/user_guide/indexing.html#returning-a-view-versus-a-copy\n",
      "  df_plot_area['plot_area'] = df_plot_area['plot_area'].replace('', np.nan)\n"
     ]
    },
    {
     "data": {
      "text/plain": [
       "4953"
      ]
     },
     "execution_count": 189,
     "metadata": {},
     "output_type": "execute_result"
    }
   ],
   "source": [
    "df_plot_area['plot_area'] = df_plot_area[plot_area[5]].fillna('') + \\\n",
    "  (df_plot_area[plot_area[4]]).fillna('')\n",
    "\n",
    "df_plot_area['plot_area'] = df_plot_area['plot_area'].replace('', np.nan)\n",
    "\n",
    "df_plot_area['plot_area'].count()"
   ]
  },
  {
   "cell_type": "code",
   "execution_count": 190,
   "metadata": {},
   "outputs": [
    {
     "data": {
      "text/plain": [
       "(13378, 14)"
      ]
     },
     "execution_count": 190,
     "metadata": {},
     "output_type": "execute_result"
    }
   ],
   "source": [
    "df_numeric = df_numeric.drop(plot_area, axis=1) # drops 6 columns -> 13 remain\n",
    "df_numeric[\"plot_area\"] = df_plot_area['plot_area'] # adds 1 column -> 14\n",
    "df_numeric.shape"
   ]
  },
  {
   "cell_type": "code",
   "execution_count": 191,
   "metadata": {},
   "outputs": [],
   "source": [
    "df_numeric[\"plot_area\"] = df_numeric.plot_area.str.extract('(\\d+)').fillna(0).astype(int)"
   ]
  },
  {
   "cell_type": "markdown",
   "metadata": {},
   "source": [
    "## Floor Space"
   ]
  },
  {
   "cell_type": "code",
   "execution_count": 192,
   "metadata": {},
   "outputs": [
    {
     "data": {
      "text/plain": [
       "Floor space                         False\n",
       "Nutzfläche                          False\n",
       "Surface utile                       False\n",
       "Superficie utile                     True\n",
       "detail_responsive#surface_usable    False\n",
       "dtype: bool"
      ]
     },
     "execution_count": 192,
     "metadata": {},
     "output_type": "execute_result"
    }
   ],
   "source": [
    "floor_space = [\"Floor space\", \"Nutzfläche\", \"Surface utile\", \"Superficie utile\", \"detail_responsive#surface_usable\", \"Floor_space_merged\"]\n",
    "df_floor_space = df_numeric[floor_space]\n",
    "\n",
    "df_floor_space[floor_space[0:5]].count().cumsum() == df_floor_space[floor_space[5]].count()"
   ]
  },
  {
   "cell_type": "code",
   "execution_count": 193,
   "metadata": {},
   "outputs": [
    {
     "name": "stderr",
     "output_type": "stream",
     "text": [
      "/tmp/ipykernel_20814/87451161.py:1: SettingWithCopyWarning: \n",
      "A value is trying to be set on a copy of a slice from a DataFrame.\n",
      "Try using .loc[row_indexer,col_indexer] = value instead\n",
      "\n",
      "See the caveats in the documentation: https://pandas.pydata.org/pandas-docs/stable/user_guide/indexing.html#returning-a-view-versus-a-copy\n",
      "  df_floor_space['floor_space'] = df_floor_space[floor_space[0]].fillna('') + \\\n"
     ]
    },
    {
     "data": {
      "text/plain": [
       "13378"
      ]
     },
     "execution_count": 193,
     "metadata": {},
     "output_type": "execute_result"
    }
   ],
   "source": [
    "df_floor_space['floor_space'] = df_floor_space[floor_space[0]].fillna('') + \\\n",
    "  (df_floor_space[floor_space[1]]).fillna('') + \\\n",
    "  (df_floor_space[floor_space[2]]).fillna('') + \\\n",
    "  (df_floor_space[floor_space[3]]).fillna('')\n",
    "\n",
    "(df_floor_space['floor_space'] == df_floor_space[floor_space[5]].fillna('')).sum()"
   ]
  },
  {
   "cell_type": "code",
   "execution_count": 194,
   "metadata": {},
   "outputs": [
    {
     "name": "stderr",
     "output_type": "stream",
     "text": [
      "/tmp/ipykernel_20814/2352240836.py:1: SettingWithCopyWarning: \n",
      "A value is trying to be set on a copy of a slice from a DataFrame.\n",
      "Try using .loc[row_indexer,col_indexer] = value instead\n",
      "\n",
      "See the caveats in the documentation: https://pandas.pydata.org/pandas-docs/stable/user_guide/indexing.html#returning-a-view-versus-a-copy\n",
      "  df_floor_space['floor_space'] = df_floor_space[floor_space[0]].fillna('') + \\\n"
     ]
    },
    {
     "data": {
      "text/plain": [
       "2842"
      ]
     },
     "execution_count": 194,
     "metadata": {},
     "output_type": "execute_result"
    }
   ],
   "source": [
    "df_floor_space['floor_space'] = df_floor_space[floor_space[0]].fillna('') + \\\n",
    "  (df_floor_space[floor_space[1]]).fillna('') + \\\n",
    "  (df_floor_space[floor_space[2]]).fillna('') + \\\n",
    "  (df_floor_space[floor_space[3]]).fillna('')\n",
    "\n",
    "df_floor_space[df_floor_space['floor_space'] != '']['floor_space'].count()"
   ]
  },
  {
   "cell_type": "code",
   "execution_count": 195,
   "metadata": {},
   "outputs": [
    {
     "name": "stderr",
     "output_type": "stream",
     "text": [
      "/tmp/ipykernel_20814/3136786986.py:1: SettingWithCopyWarning: \n",
      "A value is trying to be set on a copy of a slice from a DataFrame.\n",
      "Try using .loc[row_indexer,col_indexer] = value instead\n",
      "\n",
      "See the caveats in the documentation: https://pandas.pydata.org/pandas-docs/stable/user_guide/indexing.html#returning-a-view-versus-a-copy\n",
      "  df_floor_space['floor_space'] = df_floor_space[floor_space[5]].fillna('') + \\\n",
      "/tmp/ipykernel_20814/3136786986.py:4: SettingWithCopyWarning: \n",
      "A value is trying to be set on a copy of a slice from a DataFrame.\n",
      "Try using .loc[row_indexer,col_indexer] = value instead\n",
      "\n",
      "See the caveats in the documentation: https://pandas.pydata.org/pandas-docs/stable/user_guide/indexing.html#returning-a-view-versus-a-copy\n",
      "  df_floor_space['floor_space'] = df_floor_space['floor_space'].replace('', np.nan)\n"
     ]
    },
    {
     "data": {
      "text/plain": [
       "2953"
      ]
     },
     "execution_count": 195,
     "metadata": {},
     "output_type": "execute_result"
    }
   ],
   "source": [
    "df_floor_space['floor_space'] = df_floor_space[floor_space[5]].fillna('') + \\\n",
    "  (df_floor_space[floor_space[4]]).fillna('')\n",
    "\n",
    "df_floor_space['floor_space'] = df_floor_space['floor_space'].replace('', np.nan)\n",
    "\n",
    "df_floor_space['floor_space'].count()"
   ]
  },
  {
   "cell_type": "code",
   "execution_count": 196,
   "metadata": {},
   "outputs": [
    {
     "data": {
      "text/plain": [
       "(13378, 9)"
      ]
     },
     "execution_count": 196,
     "metadata": {},
     "output_type": "execute_result"
    }
   ],
   "source": [
    "df_numeric = df_numeric.drop(floor_space, axis=1) # drops 6 columns -> 8 remain\n",
    "df_numeric[\"floor_space\"] = df_floor_space['floor_space'] # adds 1 column -> 9\n",
    "df_numeric.shape"
   ]
  },
  {
   "cell_type": "code",
   "execution_count": 197,
   "metadata": {},
   "outputs": [],
   "source": [
    "df_numeric[\"floor_space\"] = df_numeric.floor_space.str.extract('(\\d+)').fillna(0).astype(int)"
   ]
  },
  {
   "cell_type": "markdown",
   "metadata": {},
   "source": [
    "## Floor"
   ]
  },
  {
   "cell_type": "code",
   "execution_count": 198,
   "metadata": {},
   "outputs": [
    {
     "data": {
      "text/plain": [
       "Floor                      False\n",
       "Stockwerk                  False\n",
       "Étage                      False\n",
       "Piano                       True\n",
       "detail_responsive#floor    False\n",
       "dtype: bool"
      ]
     },
     "execution_count": 198,
     "metadata": {},
     "output_type": "execute_result"
    }
   ],
   "source": [
    "floor = [\"Floor\", \"Stockwerk\", \"Étage\", \"Piano\", \"detail_responsive#floor\", \"Floor_merged\"]\n",
    "df_floor = df_numeric[floor]\n",
    "\n",
    "df_floor[floor[0:5]].count().cumsum() == df_floor[floor[5]].count()"
   ]
  },
  {
   "cell_type": "code",
   "execution_count": 199,
   "metadata": {},
   "outputs": [
    {
     "name": "stderr",
     "output_type": "stream",
     "text": [
      "/tmp/ipykernel_20814/1722899567.py:1: SettingWithCopyWarning: \n",
      "A value is trying to be set on a copy of a slice from a DataFrame.\n",
      "Try using .loc[row_indexer,col_indexer] = value instead\n",
      "\n",
      "See the caveats in the documentation: https://pandas.pydata.org/pandas-docs/stable/user_guide/indexing.html#returning-a-view-versus-a-copy\n",
      "  df_floor['floor'] = df_floor[floor[0]].fillna('') + \\\n"
     ]
    },
    {
     "data": {
      "text/plain": [
       "13378"
      ]
     },
     "execution_count": 199,
     "metadata": {},
     "output_type": "execute_result"
    }
   ],
   "source": [
    "df_floor['floor'] = df_floor[floor[0]].fillna('') + \\\n",
    "  (df_floor[floor[1]]).fillna('') + \\\n",
    "  (df_floor[floor[2]]).fillna('') + \\\n",
    "  (df_floor[floor[3]]).fillna('')\n",
    "\n",
    "(df_floor['floor'] == df_floor[floor[5]].fillna('')).sum()"
   ]
  },
  {
   "cell_type": "code",
   "execution_count": 200,
   "metadata": {},
   "outputs": [
    {
     "name": "stderr",
     "output_type": "stream",
     "text": [
      "/tmp/ipykernel_20814/1016433515.py:1: SettingWithCopyWarning: \n",
      "A value is trying to be set on a copy of a slice from a DataFrame.\n",
      "Try using .loc[row_indexer,col_indexer] = value instead\n",
      "\n",
      "See the caveats in the documentation: https://pandas.pydata.org/pandas-docs/stable/user_guide/indexing.html#returning-a-view-versus-a-copy\n",
      "  df_floor['floor'] = df_floor[floor[0]].fillna('') + \\\n"
     ]
    },
    {
     "data": {
      "text/plain": [
       "5414"
      ]
     },
     "execution_count": 200,
     "metadata": {},
     "output_type": "execute_result"
    }
   ],
   "source": [
    "df_floor['floor'] = df_floor[floor[0]].fillna('') + \\\n",
    "  (df_floor[floor[1]]).fillna('') + \\\n",
    "  (df_floor[floor[2]]).fillna('') + \\\n",
    "  (df_floor[floor[3]]).fillna('')\n",
    "\n",
    "df_floor[df_floor['floor'] != '']['floor'].count()"
   ]
  },
  {
   "cell_type": "code",
   "execution_count": 201,
   "metadata": {},
   "outputs": [
    {
     "name": "stderr",
     "output_type": "stream",
     "text": [
      "/tmp/ipykernel_20814/1727788760.py:1: SettingWithCopyWarning: \n",
      "A value is trying to be set on a copy of a slice from a DataFrame.\n",
      "Try using .loc[row_indexer,col_indexer] = value instead\n",
      "\n",
      "See the caveats in the documentation: https://pandas.pydata.org/pandas-docs/stable/user_guide/indexing.html#returning-a-view-versus-a-copy\n",
      "  df_floor['floor'] = df_floor[floor[5]].fillna('') + \\\n",
      "/tmp/ipykernel_20814/1727788760.py:4: SettingWithCopyWarning: \n",
      "A value is trying to be set on a copy of a slice from a DataFrame.\n",
      "Try using .loc[row_indexer,col_indexer] = value instead\n",
      "\n",
      "See the caveats in the documentation: https://pandas.pydata.org/pandas-docs/stable/user_guide/indexing.html#returning-a-view-versus-a-copy\n",
      "  df_floor['floor'] = df_floor['floor'].replace('', np.nan)\n"
     ]
    },
    {
     "data": {
      "text/plain": [
       "5620"
      ]
     },
     "execution_count": 201,
     "metadata": {},
     "output_type": "execute_result"
    }
   ],
   "source": [
    "df_floor['floor'] = df_floor[floor[5]].fillna('') + \\\n",
    "  (df_floor[floor[4]]).fillna('')\n",
    "\n",
    "df_floor['floor'] = df_floor['floor'].replace('', np.nan)\n",
    "\n",
    "df_floor['floor'].count()"
   ]
  },
  {
   "cell_type": "code",
   "execution_count": 202,
   "metadata": {},
   "outputs": [
    {
     "data": {
      "text/plain": [
       "(13378, 4)"
      ]
     },
     "execution_count": 202,
     "metadata": {},
     "output_type": "execute_result"
    }
   ],
   "source": [
    "df_numeric = df_numeric.drop(floor, axis=1) # drops 6 columns -> 3 remain\n",
    "df_numeric[\"floor\"] = df_floor['floor'] # adds 1 column -> 4\n",
    "df_numeric.shape"
   ]
  },
  {
   "cell_type": "code",
   "execution_count": 203,
   "metadata": {},
   "outputs": [
    {
     "data": {
      "text/html": [
       "<div>\n",
       "<style scoped>\n",
       "    .dataframe tbody tr th:only-of-type {\n",
       "        vertical-align: middle;\n",
       "    }\n",
       "\n",
       "    .dataframe tbody tr th {\n",
       "        vertical-align: top;\n",
       "    }\n",
       "\n",
       "    .dataframe thead th {\n",
       "        text-align: right;\n",
       "    }\n",
       "</style>\n",
       "<table border=\"1\" class=\"dataframe\">\n",
       "  <thead>\n",
       "    <tr style=\"text-align: right;\">\n",
       "      <th></th>\n",
       "      <th>living_space</th>\n",
       "      <th>plot_area</th>\n",
       "      <th>floor_space</th>\n",
       "      <th>floor</th>\n",
       "    </tr>\n",
       "  </thead>\n",
       "  <tbody>\n",
       "    <tr>\n",
       "      <th>0</th>\n",
       "      <td>100</td>\n",
       "      <td>0</td>\n",
       "      <td>0</td>\n",
       "      <td>4. floor</td>\n",
       "    </tr>\n",
       "    <tr>\n",
       "      <th>1</th>\n",
       "      <td>156</td>\n",
       "      <td>222</td>\n",
       "      <td>242</td>\n",
       "      <td>NaN</td>\n",
       "    </tr>\n",
       "    <tr>\n",
       "      <th>2</th>\n",
       "      <td>93</td>\n",
       "      <td>0</td>\n",
       "      <td>0</td>\n",
       "      <td>2. floor</td>\n",
       "    </tr>\n",
       "    <tr>\n",
       "      <th>3</th>\n",
       "      <td>154</td>\n",
       "      <td>370</td>\n",
       "      <td>257</td>\n",
       "      <td>NaN</td>\n",
       "    </tr>\n",
       "    <tr>\n",
       "      <th>4</th>\n",
       "      <td>142</td>\n",
       "      <td>0</td>\n",
       "      <td>0</td>\n",
       "      <td>Ground floor</td>\n",
       "    </tr>\n",
       "    <tr>\n",
       "      <th>...</th>\n",
       "      <td>...</td>\n",
       "      <td>...</td>\n",
       "      <td>...</td>\n",
       "      <td>...</td>\n",
       "    </tr>\n",
       "    <tr>\n",
       "      <th>13373</th>\n",
       "      <td>70</td>\n",
       "      <td>0</td>\n",
       "      <td>0</td>\n",
       "      <td>NaN</td>\n",
       "    </tr>\n",
       "    <tr>\n",
       "      <th>13374</th>\n",
       "      <td>0</td>\n",
       "      <td>284</td>\n",
       "      <td>0</td>\n",
       "      <td>NaN</td>\n",
       "    </tr>\n",
       "    <tr>\n",
       "      <th>13375</th>\n",
       "      <td>150</td>\n",
       "      <td>160</td>\n",
       "      <td>0</td>\n",
       "      <td>NaN</td>\n",
       "    </tr>\n",
       "    <tr>\n",
       "      <th>13376</th>\n",
       "      <td>145</td>\n",
       "      <td>853</td>\n",
       "      <td>140</td>\n",
       "      <td>NaN</td>\n",
       "    </tr>\n",
       "    <tr>\n",
       "      <th>13377</th>\n",
       "      <td>385</td>\n",
       "      <td>1306</td>\n",
       "      <td>0</td>\n",
       "      <td>NaN</td>\n",
       "    </tr>\n",
       "  </tbody>\n",
       "</table>\n",
       "<p>13378 rows × 4 columns</p>\n",
       "</div>"
      ],
      "text/plain": [
       "       living_space  plot_area  floor_space         floor\n",
       "0               100          0            0      4. floor\n",
       "1               156        222          242           NaN\n",
       "2                93          0            0      2. floor\n",
       "3               154        370          257           NaN\n",
       "4               142          0            0  Ground floor\n",
       "...             ...        ...          ...           ...\n",
       "13373            70          0            0           NaN\n",
       "13374             0        284            0           NaN\n",
       "13375           150        160            0           NaN\n",
       "13376           145        853          140           NaN\n",
       "13377           385       1306            0           NaN\n",
       "\n",
       "[13378 rows x 4 columns]"
      ]
     },
     "execution_count": 203,
     "metadata": {},
     "output_type": "execute_result"
    }
   ],
   "source": [
    "df_numeric"
   ]
  },
  {
   "cell_type": "markdown",
   "metadata": {},
   "source": [
    "# Cleaning and Parsing\n",
    "## Floor"
   ]
  },
  {
   "cell_type": "code",
   "execution_count": 204,
   "metadata": {},
   "outputs": [
    {
     "data": {
      "text/plain": [
       "array(['4. floor', nan, '2. floor', 'Ground floor', '3. floor',\n",
       "       '6. floor', '1. floor', '5. floor', '14. floor', '20. floor',\n",
       "       '8. floor', '2. Basement', '7. floor', '15. floor', '10. floor',\n",
       "       '11. floor', '4. Basement', '100. floor', '12. floor',\n",
       "       '1. Basement', '21. floor', '9. floor', '3. Basement',\n",
       "       '999. floor', '23. floor'], dtype=object)"
      ]
     },
     "execution_count": 204,
     "metadata": {},
     "output_type": "execute_result"
    }
   ],
   "source": [
    "df_numeric[\"floor\"].unique()"
   ]
  },
  {
   "cell_type": "code",
   "execution_count": 205,
   "metadata": {},
   "outputs": [
    {
     "data": {
      "text/plain": [
       "array(['4', nan, '2', 0, '3', '6', '1', '5', '14', '20', '8', '-2', '7',\n",
       "       '15', '10', '11', '-4', '100', '12', '-1', '21', '9', '-3', '999',\n",
       "       '23'], dtype=object)"
      ]
     },
     "execution_count": 205,
     "metadata": {},
     "output_type": "execute_result"
    }
   ],
   "source": [
    "def parse_floor(x):\n",
    "  if x != x:\n",
    "    return np.nan\n",
    "  elif x == \"Ground floor\":\n",
    "    return 0\n",
    "  elif re.search('\\. floor', x):\n",
    "    return re.search('\\d+', x).group()\n",
    "  elif re.search('Basement', x):\n",
    "    return \"-\" + re.search('\\d+', x).group()\n",
    "\n",
    "\n",
    "df_numeric[\"floor\"] = df_numeric[\"floor\"].apply(parse_floor)\n",
    "df_numeric[\"floor\"].unique()"
   ]
  },
  {
   "cell_type": "code",
   "execution_count": 206,
   "metadata": {},
   "outputs": [
    {
     "data": {
      "text/plain": [
       "array([  4.,  nan,   2.,   0.,   3.,   6.,   1.,   5.,  14.,  20.,   8.,\n",
       "        -2.,   7.,  15.,  10.,  11.,  -4., 100.,  12.,  -1.,  21.,   9.,\n",
       "        -3., 999.,  23.])"
      ]
     },
     "execution_count": 206,
     "metadata": {},
     "output_type": "execute_result"
    }
   ],
   "source": [
    "df_numeric[\"floor\"] = df_numeric[\"floor\"].astype(float)\n",
    "df_numeric[\"floor\"].unique()"
   ]
  },
  {
   "cell_type": "code",
   "execution_count": 207,
   "metadata": {},
   "outputs": [
    {
     "data": {
      "text/plain": [
       "living_space    123.475275\n",
       "plot_area       845.261158\n",
       "floor_space     153.571314\n",
       "floor            29.809057\n",
       "dtype: float64"
      ]
     },
     "execution_count": 207,
     "metadata": {},
     "output_type": "execute_result"
    }
   ],
   "source": [
    "df_numeric.std()"
   ]
  },
  {
   "cell_type": "markdown",
   "metadata": {},
   "source": [
    "# Availability"
   ]
  },
  {
   "cell_type": "code",
   "execution_count": 208,
   "metadata": {},
   "outputs": [
    {
     "data": {
      "text/plain": [
       "Availability                        False\n",
       "Verfügbarkeit                       False\n",
       "Disponibilité                       False\n",
       "Disponibilità                        True\n",
       "detail_responsive#available_from    False\n",
       "dtype: bool"
      ]
     },
     "execution_count": 208,
     "metadata": {},
     "output_type": "execute_result"
    }
   ],
   "source": [
    "availability = [\"Availability\", \"Verfügbarkeit\", \"Disponibilité\", \"Disponibilità\", \"detail_responsive#available_from\",  \"Availability_merged\"]\n",
    "df_availability = df[availability]\n",
    "\n",
    "df_availability.iloc[:, 0:5].count().cumsum() == df_availability.iloc[:, 5].count()"
   ]
  },
  {
   "cell_type": "code",
   "execution_count": 209,
   "metadata": {},
   "outputs": [
    {
     "name": "stderr",
     "output_type": "stream",
     "text": [
      "/tmp/ipykernel_20814/549891744.py:1: SettingWithCopyWarning: \n",
      "A value is trying to be set on a copy of a slice from a DataFrame.\n",
      "Try using .loc[row_indexer,col_indexer] = value instead\n",
      "\n",
      "See the caveats in the documentation: https://pandas.pydata.org/pandas-docs/stable/user_guide/indexing.html#returning-a-view-versus-a-copy\n",
      "  df_availability['availability'] = df_availability[availability[0]].fillna('') + \\\n"
     ]
    },
    {
     "data": {
      "text/plain": [
       "13378"
      ]
     },
     "execution_count": 209,
     "metadata": {},
     "output_type": "execute_result"
    }
   ],
   "source": [
    "df_availability['availability'] = df_availability[availability[0]].fillna('') + \\\n",
    "  (df_availability[availability[1]]).fillna('') + \\\n",
    "  (df_availability[availability[2]]).fillna('') + \\\n",
    "  (df_availability[availability[3]]).fillna('')\n",
    "\n",
    "(df_availability['availability'] == df_availability[availability[5]].fillna('')).sum()"
   ]
  },
  {
   "cell_type": "code",
   "execution_count": 210,
   "metadata": {},
   "outputs": [
    {
     "name": "stderr",
     "output_type": "stream",
     "text": [
      "/tmp/ipykernel_20814/4129642663.py:1: SettingWithCopyWarning: \n",
      "A value is trying to be set on a copy of a slice from a DataFrame.\n",
      "Try using .loc[row_indexer,col_indexer] = value instead\n",
      "\n",
      "See the caveats in the documentation: https://pandas.pydata.org/pandas-docs/stable/user_guide/indexing.html#returning-a-view-versus-a-copy\n",
      "  df_availability['availability'] = df_availability[availability[5]].fillna('') + \\\n",
      "/tmp/ipykernel_20814/4129642663.py:4: SettingWithCopyWarning: \n",
      "A value is trying to be set on a copy of a slice from a DataFrame.\n",
      "Try using .loc[row_indexer,col_indexer] = value instead\n",
      "\n",
      "See the caveats in the documentation: https://pandas.pydata.org/pandas-docs/stable/user_guide/indexing.html#returning-a-view-versus-a-copy\n",
      "  df_availability['availability'] = df_availability['availability'].replace('', np.nan)\n"
     ]
    },
    {
     "data": {
      "text/plain": [
       "13378"
      ]
     },
     "execution_count": 210,
     "metadata": {},
     "output_type": "execute_result"
    }
   ],
   "source": [
    "df_availability['availability'] = df_availability[availability[5]].fillna('') + \\\n",
    "  (df_availability[availability[4]]).fillna('')\n",
    "\n",
    "df_availability['availability'] = df_availability['availability'].replace('', np.nan)\n",
    "\n",
    "df_availability['availability'].count()"
   ]
  },
  {
   "cell_type": "code",
   "execution_count": 211,
   "metadata": {},
   "outputs": [
    {
     "data": {
      "text/plain": [
       "array(['On request', 'Immediately', '30.12.2022', '01.12.2022',\n",
       "       '01.04.2023', '01.08.2023', '01.10.2022', '01.11.2022',\n",
       "       '01.09.2023', '01.07.2023', '07.07.2023', '22.10.2022',\n",
       "       '01.02.2023', '01.06.2023', '31.10.2023', '01.01.2023',\n",
       "       '01.05.2023', '01.12.2023', '01.10.2023', '30.11.2022',\n",
       "       '31.12.2023', '20.03.2023', '19.01.2024', '01.03.2023',\n",
       "       '01.05.2024', '15.08.2023', '31.12.2022', '31.03.2023',\n",
       "       '30.06.2024', '01.02.2024', '31.07.2023', '02.01.2023',\n",
       "       '15.10.2022', '11.11.2022', '30.11.2023', '01.04.2024',\n",
       "       '01.12.2024', '30.09.2022', '01.04.2025', '01.10.2024',\n",
       "       '01.07.2024', '01.11.2024', '15.12.2022', '01.06.2024',\n",
       "       '01.01.2024', '01.11.2023', '25.01.2024', '24.06.2023',\n",
       "       '26.10.2022', '28.02.2023', '15.09.2022', '30.09.2023',\n",
       "       '30.01.2024', '03.04.2023', '15.02.2024', '01.04.2030',\n",
       "       '30.04.2023', '05.09.2022', '03.10.2022', '31.05.2024',\n",
       "       '31.05.2023', '31.03.2024', '30.12.2023', '16.12.2022',\n",
       "       '07.11.2022', '05.02.2024', '30.10.2023', '31.10.2022',\n",
       "       '21.10.2023', '16.09.2022', '31.08.2023', '01.03.2025',\n",
       "       '15.12.2023', '20.04.2023', '17.10.2022', '17.12.2023',\n",
       "       '30.06.2023', '07.06.2023', '01.09.2024', '08.02.2023',\n",
       "       '04.04.2024', '30.03.2023', '21.01.2023', '02.12.2022',\n",
       "       '20.07.2023', '25.12.2022', '16.04.2023', '20.05.2023',\n",
       "       '15.03.2023', '31.01.2024', '03.08.2023', '07.12.2022',\n",
       "       '15.07.2024', '15.09.2023', '15.03.2024', '20.12.2022',\n",
       "       '23.12.2022', '31.01.2023', '09.12.2022', '15.06.2023',\n",
       "       '09.05.2023', '22.12.2023', '05.06.2023', '24.12.2023',\n",
       "       '02.10.2023', '24.12.2022', '30.05.2023', '01.12.2025',\n",
       "       '31.07.2024', '27.09.2023', '26.12.2022', '29.02.2024'],\n",
       "      dtype=object)"
      ]
     },
     "execution_count": 211,
     "metadata": {},
     "output_type": "execute_result"
    }
   ],
   "source": [
    "df_availability[\"availability\"].unique()"
   ]
  },
  {
   "cell_type": "code",
   "execution_count": 212,
   "metadata": {},
   "outputs": [],
   "source": [
    "df_numeric[\"availability\"] = df_availability[\"availability\"]"
   ]
  },
  {
   "cell_type": "markdown",
   "metadata": {},
   "source": [
    "# Gross return"
   ]
  },
  {
   "cell_type": "code",
   "execution_count": 213,
   "metadata": {},
   "outputs": [
    {
     "data": {
      "text/plain": [
       "array([nan, '0.00 %', '4.5 %'], dtype=object)"
      ]
     },
     "execution_count": 213,
     "metadata": {},
     "output_type": "execute_result"
    }
   ],
   "source": [
    "df[\"Gross return\"].unique()"
   ]
  },
  {
   "cell_type": "code",
   "execution_count": 214,
   "metadata": {},
   "outputs": [
    {
     "data": {
      "text/plain": [
       "6"
      ]
     },
     "execution_count": 214,
     "metadata": {},
     "output_type": "execute_result"
    }
   ],
   "source": [
    "df[\"Gross return\"].count()"
   ]
  },
  {
   "cell_type": "markdown",
   "metadata": {},
   "source": [
    "This column does not contain a whole lot of information, therefore we will not consider it for our analysis. "
   ]
  },
  {
   "cell_type": "markdown",
   "metadata": {},
   "source": [
    "# Rooms"
   ]
  },
  {
   "cell_type": "code",
   "execution_count": 215,
   "metadata": {},
   "outputs": [
    {
     "data": {
      "text/plain": [
       "5.0    10937\n",
       "6.0      344\n",
       "7.0      309\n",
       "4.0      250\n",
       "8.0      239\n",
       "3.0      200\n",
       "2.0      152\n",
       "9.0      140\n",
       "0.0      138\n",
       "1.0       90\n",
       "Name: rooms, dtype: int64"
      ]
     },
     "execution_count": 215,
     "metadata": {},
     "output_type": "execute_result"
    }
   ],
   "source": [
    "df[\"rooms\"].value_counts()"
   ]
  },
  {
   "cell_type": "code",
   "execution_count": 216,
   "metadata": {},
   "outputs": [
    {
     "data": {
      "text/plain": [
       "4.5     3481\n",
       "3.5     2318\n",
       "5.5     2188\n",
       "6.5      918\n",
       "2.5      850\n",
       "7.5      362\n",
       "8.5      195\n",
       "1.5       86\n",
       "9.5       64\n",
       "10.5      42\n",
       "12.5      23\n",
       "11.5      21\n",
       "13.5      12\n",
       "14.5      11\n",
       "15.5       3\n",
       "17.5       3\n",
       "16.5       2\n",
       "21.5       1\n",
       "Name: rooms, dtype: int64"
      ]
     },
     "execution_count": 216,
     "metadata": {},
     "output_type": "execute_result"
    }
   ],
   "source": [
    "def parse_rooms(x):\n",
    "  pattern = '(\\d+\\.\\d) rooms'\n",
    "  match = re.search(pattern, x)\n",
    "  if match is not None:\n",
    "    result = match.group(1)\n",
    "  else:\n",
    "    result = np.NaN\n",
    "  return result\n",
    "\n",
    "df_numeric[\"rooms\"] = df[\"details_structured\"].apply(parse_rooms).astype(\"float\")\n",
    "\n",
    "df_numeric[\"rooms\"].value_counts()"
   ]
  },
  {
   "cell_type": "markdown",
   "metadata": {},
   "source": [
    "# Price"
   ]
  },
  {
   "cell_type": "code",
   "execution_count": 217,
   "metadata": {},
   "outputs": [],
   "source": [
    "df_numeric[\"price\"] = df[\"price_cleaned\"]"
   ]
  },
  {
   "cell_type": "code",
   "execution_count": 218,
   "metadata": {},
   "outputs": [
    {
     "data": {
      "text/html": [
       "<div>\n",
       "<style scoped>\n",
       "    .dataframe tbody tr th:only-of-type {\n",
       "        vertical-align: middle;\n",
       "    }\n",
       "\n",
       "    .dataframe tbody tr th {\n",
       "        vertical-align: top;\n",
       "    }\n",
       "\n",
       "    .dataframe thead th {\n",
       "        text-align: right;\n",
       "    }\n",
       "</style>\n",
       "<table border=\"1\" class=\"dataframe\">\n",
       "  <thead>\n",
       "    <tr style=\"text-align: right;\">\n",
       "      <th></th>\n",
       "      <th>living_space</th>\n",
       "      <th>plot_area</th>\n",
       "      <th>floor_space</th>\n",
       "      <th>floor</th>\n",
       "      <th>availability</th>\n",
       "      <th>rooms</th>\n",
       "      <th>price</th>\n",
       "    </tr>\n",
       "  </thead>\n",
       "  <tbody>\n",
       "    <tr>\n",
       "      <th>0</th>\n",
       "      <td>100</td>\n",
       "      <td>0</td>\n",
       "      <td>0</td>\n",
       "      <td>4.0</td>\n",
       "      <td>On request</td>\n",
       "      <td>3.5</td>\n",
       "      <td>1150000.0</td>\n",
       "    </tr>\n",
       "    <tr>\n",
       "      <th>1</th>\n",
       "      <td>156</td>\n",
       "      <td>222</td>\n",
       "      <td>242</td>\n",
       "      <td>NaN</td>\n",
       "      <td>On request</td>\n",
       "      <td>4.5</td>\n",
       "      <td>1420000.0</td>\n",
       "    </tr>\n",
       "    <tr>\n",
       "      <th>2</th>\n",
       "      <td>93</td>\n",
       "      <td>0</td>\n",
       "      <td>0</td>\n",
       "      <td>2.0</td>\n",
       "      <td>Immediately</td>\n",
       "      <td>2.5</td>\n",
       "      <td>720000.0</td>\n",
       "    </tr>\n",
       "    <tr>\n",
       "      <th>3</th>\n",
       "      <td>154</td>\n",
       "      <td>370</td>\n",
       "      <td>257</td>\n",
       "      <td>NaN</td>\n",
       "      <td>On request</td>\n",
       "      <td>4.5</td>\n",
       "      <td>1430000.0</td>\n",
       "    </tr>\n",
       "    <tr>\n",
       "      <th>4</th>\n",
       "      <td>142</td>\n",
       "      <td>0</td>\n",
       "      <td>0</td>\n",
       "      <td>0.0</td>\n",
       "      <td>On request</td>\n",
       "      <td>4.5</td>\n",
       "      <td>995000.0</td>\n",
       "    </tr>\n",
       "    <tr>\n",
       "      <th>...</th>\n",
       "      <td>...</td>\n",
       "      <td>...</td>\n",
       "      <td>...</td>\n",
       "      <td>...</td>\n",
       "      <td>...</td>\n",
       "      <td>...</td>\n",
       "      <td>...</td>\n",
       "    </tr>\n",
       "    <tr>\n",
       "      <th>13373</th>\n",
       "      <td>70</td>\n",
       "      <td>0</td>\n",
       "      <td>0</td>\n",
       "      <td>NaN</td>\n",
       "      <td>On request</td>\n",
       "      <td>2.5</td>\n",
       "      <td>1101000.0</td>\n",
       "    </tr>\n",
       "    <tr>\n",
       "      <th>13374</th>\n",
       "      <td>0</td>\n",
       "      <td>284</td>\n",
       "      <td>0</td>\n",
       "      <td>NaN</td>\n",
       "      <td>On request</td>\n",
       "      <td>NaN</td>\n",
       "      <td>1750000.0</td>\n",
       "    </tr>\n",
       "    <tr>\n",
       "      <th>13375</th>\n",
       "      <td>150</td>\n",
       "      <td>160</td>\n",
       "      <td>0</td>\n",
       "      <td>NaN</td>\n",
       "      <td>On request</td>\n",
       "      <td>6.5</td>\n",
       "      <td>1415000.0</td>\n",
       "    </tr>\n",
       "    <tr>\n",
       "      <th>13376</th>\n",
       "      <td>145</td>\n",
       "      <td>853</td>\n",
       "      <td>140</td>\n",
       "      <td>NaN</td>\n",
       "      <td>Immediately</td>\n",
       "      <td>NaN</td>\n",
       "      <td>1465000.0</td>\n",
       "    </tr>\n",
       "    <tr>\n",
       "      <th>13377</th>\n",
       "      <td>385</td>\n",
       "      <td>1306</td>\n",
       "      <td>0</td>\n",
       "      <td>NaN</td>\n",
       "      <td>Immediately</td>\n",
       "      <td>7.5</td>\n",
       "      <td>2750000.0</td>\n",
       "    </tr>\n",
       "  </tbody>\n",
       "</table>\n",
       "<p>13378 rows × 7 columns</p>\n",
       "</div>"
      ],
      "text/plain": [
       "       living_space  plot_area  floor_space  floor availability  rooms  \\\n",
       "0               100          0            0    4.0   On request    3.5   \n",
       "1               156        222          242    NaN   On request    4.5   \n",
       "2                93          0            0    2.0  Immediately    2.5   \n",
       "3               154        370          257    NaN   On request    4.5   \n",
       "4               142          0            0    0.0   On request    4.5   \n",
       "...             ...        ...          ...    ...          ...    ...   \n",
       "13373            70          0            0    NaN   On request    2.5   \n",
       "13374             0        284            0    NaN   On request    NaN   \n",
       "13375           150        160            0    NaN   On request    6.5   \n",
       "13376           145        853          140    NaN  Immediately    NaN   \n",
       "13377           385       1306            0    NaN  Immediately    7.5   \n",
       "\n",
       "           price  \n",
       "0      1150000.0  \n",
       "1      1420000.0  \n",
       "2       720000.0  \n",
       "3      1430000.0  \n",
       "4       995000.0  \n",
       "...          ...  \n",
       "13373  1101000.0  \n",
       "13374  1750000.0  \n",
       "13375  1415000.0  \n",
       "13376  1465000.0  \n",
       "13377  2750000.0  \n",
       "\n",
       "[13378 rows x 7 columns]"
      ]
     },
     "execution_count": 218,
     "metadata": {},
     "output_type": "execute_result"
    }
   ],
   "source": [
    "df_numeric"
   ]
  },
  {
   "cell_type": "markdown",
   "metadata": {},
   "source": [
    "# Function"
   ]
  },
  {
   "cell_type": "code",
   "execution_count": 268,
   "metadata": {},
   "outputs": [],
   "source": [
    "def clean_integers(df):\n",
    "  \"\"\"Cleans the following columns in a dataframe and removes unnecessary columns:\n",
    "  - Living Space\n",
    "  - Plot Area\n",
    "  - Floor Space\n",
    "  - Floor\n",
    "  - Rooms\n",
    "  - Price\n",
    "  - Availability\n",
    "\n",
    "  Args:\n",
    "      df (pandas DataFrame): The .csv as dataframe\n",
    "  \"\"\"\n",
    "  def parse_rooms(x):\n",
    "    pattern = '(\\d+\\.\\d) rooms'\n",
    "    match = re.search(pattern, x)\n",
    "    if match is not None:\n",
    "      result = match.group(1)\n",
    "    else:\n",
    "      result = np.NaN\n",
    "    return result\n",
    "\n",
    "  def parse_floor(x):\n",
    "    if x != x:\n",
    "      return np.nan\n",
    "    elif x == \"Ground floor\":\n",
    "      return 0\n",
    "    elif re.search('\\. floor', x):\n",
    "      return re.search('\\d+', x).group()\n",
    "    elif re.search('Basement', x):\n",
    "      return \"-\" + re.search('\\d+', x).group()\n",
    "\n",
    "  col_names = df.columns.array\n",
    "  col_names[0:2] = [\"Index1\", \"Index2\"]\n",
    "  df.columns = col_names  \n",
    "\n",
    "  columns_to_drop = [\"Index1\", \"Index2\", \"Living space\", \"Plot area\", \"Floor space\", \"Floor\", \"detail_responsive#surface_living\", \"detail_responsive#floor\", \"Wohnfläche\", \"Stockwerk\", \"Nutzfläche\", \"Grundstücksfläche\", \"detail_responsive#surface_property\", \"detail_responsive#surface_usable\", \"Surface habitable\", \"Surface du terrain\", \"Surface utile\", \"Étage\", \"Superficie abitabile\", \"Piano\", \"Superficie del terreno\", \"Superficie utile\", \"Floor_merged\", \"Living_space_merged\", \"Floor_space_merged\", \"Plot_area_merged\", \"Space extracted\", \"Gross return\", \"price_cleaned\", \"Availability\", \"Verfügbarkeit\", \"Disponibilité\", \"Disponibilità\", \"detail_responsive#available_from\",  \"Availability_merged\"]\n",
    "  \n",
    "  # Merge columns\n",
    "  df['living_space'] = df[\"Space extracted\"]\n",
    "  df['plot_area'] = df[\"Plot_area_merged\"].fillna('') + \\\n",
    "    df[\"detail_responsive#surface_property\"].fillna('')\n",
    "  df['floor_space'] = df[\"Floor_space_merged\"].fillna('') + \\\n",
    "    df[\"detail_responsive#surface_usable\"].fillna('')\n",
    "  df['floor'] = df[\"Floor_merged\"].fillna('') + \\\n",
    "    df[\"detail_responsive#floor\"].fillna('')\n",
    "  df['availability'] = df[\"Availability_merged\"].fillna('') + \\\n",
    "    df[\"detail_responsive#available_from\"].fillna('')\n",
    "  df[\"price\"] = df[\"price_cleaned\"]\n",
    "\n",
    "  # Parsing\n",
    "  df['plot_area'] = df['plot_area'].replace('', np.nan).str.extract('(\\d+)').astype(float)\n",
    "  df['floor_space'] = df['floor_space'].replace('', np.nan).str.extract('(\\d+)').astype(float)\n",
    "  df['floor'] = df['floor'].replace('', np.nan).apply(parse_floor).astype(float)\n",
    "  df['availability'] = df['availability'].replace('', np.nan)\n",
    "  df['rooms'] = df['details_structured'].apply(parse_rooms).astype(float)\n",
    "\n",
    "  df.drop(columns_to_drop, axis=1, inplace=True)\n",
    "\n",
    "  return df  "
   ]
  },
  {
   "cell_type": "code",
   "execution_count": 270,
   "metadata": {},
   "outputs": [
    {
     "data": {
      "text/html": [
       "<div>\n",
       "<style scoped>\n",
       "    .dataframe tbody tr th:only-of-type {\n",
       "        vertical-align: middle;\n",
       "    }\n",
       "\n",
       "    .dataframe tbody tr th {\n",
       "        vertical-align: top;\n",
       "    }\n",
       "\n",
       "    .dataframe thead th {\n",
       "        text-align: right;\n",
       "    }\n",
       "</style>\n",
       "<table border=\"1\" class=\"dataframe\">\n",
       "  <thead>\n",
       "    <tr style=\"text-align: right;\">\n",
       "      <th></th>\n",
       "      <th>Municipality</th>\n",
       "      <th>location</th>\n",
       "      <th>description</th>\n",
       "      <th>detailed_description</th>\n",
       "      <th>url</th>\n",
       "      <th>table</th>\n",
       "      <th>detail_responsive#municipality</th>\n",
       "      <th>Gemeinde</th>\n",
       "      <th>Commune</th>\n",
       "      <th>Comune</th>\n",
       "      <th>Municipality_merged</th>\n",
       "      <th>location_parsed</th>\n",
       "      <th>title</th>\n",
       "      <th>details</th>\n",
       "      <th>address</th>\n",
       "      <th>price</th>\n",
       "      <th>link</th>\n",
       "      <th>details_structured</th>\n",
       "      <th>lat</th>\n",
       "      <th>lon</th>\n",
       "      <th>index</th>\n",
       "      <th>ForestDensityL</th>\n",
       "      <th>ForestDensityM</th>\n",
       "      <th>ForestDensityS</th>\n",
       "      <th>Latitude</th>\n",
       "      <th>Locality</th>\n",
       "      <th>Longitude</th>\n",
       "      <th>NoisePollutionRailwayL</th>\n",
       "      <th>NoisePollutionRailwayM</th>\n",
       "      <th>NoisePollutionRailwayS</th>\n",
       "      <th>NoisePollutionRoadL</th>\n",
       "      <th>NoisePollutionRoadM</th>\n",
       "      <th>NoisePollutionRoadS</th>\n",
       "      <th>PopulationDensityL</th>\n",
       "      <th>PopulationDensityM</th>\n",
       "      <th>PopulationDensityS</th>\n",
       "      <th>RiversAndLakesL</th>\n",
       "      <th>RiversAndLakesM</th>\n",
       "      <th>RiversAndLakesS</th>\n",
       "      <th>WorkplaceDensityL</th>\n",
       "      <th>WorkplaceDensityM</th>\n",
       "      <th>WorkplaceDensityS</th>\n",
       "      <th>Zip</th>\n",
       "      <th>distanceToTrainStation</th>\n",
       "      <th>gde_area_agriculture_percentage</th>\n",
       "      <th>gde_area_forest_percentage</th>\n",
       "      <th>gde_area_nonproductive_percentage</th>\n",
       "      <th>gde_area_settlement_percentage</th>\n",
       "      <th>gde_average_house_hold</th>\n",
       "      <th>gde_empty_apartments</th>\n",
       "      <th>gde_foreigners_percentage</th>\n",
       "      <th>gde_new_homes_per_1000</th>\n",
       "      <th>gde_politics_bdp</th>\n",
       "      <th>gde_politics_cvp</th>\n",
       "      <th>gde_politics_evp</th>\n",
       "      <th>gde_politics_fdp</th>\n",
       "      <th>gde_politics_glp</th>\n",
       "      <th>gde_politics_gps</th>\n",
       "      <th>gde_politics_pda</th>\n",
       "      <th>gde_politics_rights</th>\n",
       "      <th>gde_politics_sp</th>\n",
       "      <th>gde_politics_svp</th>\n",
       "      <th>gde_pop_per_km2</th>\n",
       "      <th>gde_population</th>\n",
       "      <th>gde_private_apartments</th>\n",
       "      <th>gde_social_help_quota</th>\n",
       "      <th>gde_tax</th>\n",
       "      <th>gde_workers_sector1</th>\n",
       "      <th>gde_workers_sector2</th>\n",
       "      <th>gde_workers_sector3</th>\n",
       "      <th>gde_workers_total</th>\n",
       "      <th>type</th>\n",
       "      <th>rooms</th>\n",
       "      <th>living_space</th>\n",
       "      <th>plot_area</th>\n",
       "      <th>floor_space</th>\n",
       "      <th>floor</th>\n",
       "      <th>availability</th>\n",
       "    </tr>\n",
       "  </thead>\n",
       "  <tbody>\n",
       "    <tr>\n",
       "      <th>0</th>\n",
       "      <td>Biberstein</td>\n",
       "      <td>5023 Biberstein, AG</td>\n",
       "      <td>3.5 rooms, 100 m²«Luxuriöse Attika-Wohnung mit...</td>\n",
       "      <td>DescriptionLuxuriöse Attika-Wohnung direkt an ...</td>\n",
       "      <td>https://www.immoscout24.ch//en/d/penthouse-buy...</td>\n",
       "      <td>b &lt;article class=####Box-cYFBPY hKrxoH####&gt;&lt;h2...</td>\n",
       "      <td>NaN</td>\n",
       "      <td>NaN</td>\n",
       "      <td>NaN</td>\n",
       "      <td>NaN</td>\n",
       "      <td>Biberstein</td>\n",
       "      <td>Strasse:  plz:5023 Stadt: Biberstein Kanton: AG</td>\n",
       "      <td>Luxuriöse Attika-Wohnung mit herrlicher Aussicht</td>\n",
       "      <td>3.5 rooms, 100 m²,</td>\n",
       "      <td>5023 Biberstein, AG</td>\n",
       "      <td>1150000.0</td>\n",
       "      <td>/en/d/penthouse-buy-biberstein/7255200</td>\n",
       "      <td>{'Municipality': 'Biberstein', 'Living space':...</td>\n",
       "      <td>47.417100</td>\n",
       "      <td>8.085600</td>\n",
       "      <td>16620</td>\n",
       "      <td>0.511176</td>\n",
       "      <td>0.286451</td>\n",
       "      <td>0.090908</td>\n",
       "      <td>47.415927</td>\n",
       "      <td>Biberstein</td>\n",
       "      <td>8.085840</td>\n",
       "      <td>0.0</td>\n",
       "      <td>0.0</td>\n",
       "      <td>0.0</td>\n",
       "      <td>0.058298</td>\n",
       "      <td>0.067048</td>\n",
       "      <td>0.103850</td>\n",
       "      <td>0.092914</td>\n",
       "      <td>0.209530</td>\n",
       "      <td>0.366674</td>\n",
       "      <td>0.082170</td>\n",
       "      <td>0.001811</td>\n",
       "      <td>0.011871</td>\n",
       "      <td>0.030169</td>\n",
       "      <td>0.052120</td>\n",
       "      <td>0.098951</td>\n",
       "      <td>5023</td>\n",
       "      <td>3.038467</td>\n",
       "      <td>30.676329</td>\n",
       "      <td>51.449275</td>\n",
       "      <td>4.589372</td>\n",
       "      <td>13.285024</td>\n",
       "      <td>2.23</td>\n",
       "      <td>1.994681</td>\n",
       "      <td>9.255663</td>\n",
       "      <td>4.739336</td>\n",
       "      <td>5.873715</td>\n",
       "      <td>4.579662</td>\n",
       "      <td>3.359031</td>\n",
       "      <td>18.355360</td>\n",
       "      <td>6.057269</td>\n",
       "      <td>7.066814</td>\n",
       "      <td>NaN</td>\n",
       "      <td>0.220264</td>\n",
       "      <td>20.392805</td>\n",
       "      <td>30.809471</td>\n",
       "      <td>376.829268</td>\n",
       "      <td>1545.0</td>\n",
       "      <td>686.0</td>\n",
       "      <td>2.234259</td>\n",
       "      <td>5.89</td>\n",
       "      <td>14.0</td>\n",
       "      <td>9.0</td>\n",
       "      <td>308.0</td>\n",
       "      <td>331.0</td>\n",
       "      <td>penthouse</td>\n",
       "      <td>3.5</td>\n",
       "      <td>100.0</td>\n",
       "      <td>NaN</td>\n",
       "      <td>NaN</td>\n",
       "      <td>4.0</td>\n",
       "      <td>On request</td>\n",
       "    </tr>\n",
       "    <tr>\n",
       "      <th>1</th>\n",
       "      <td>Biberstein</td>\n",
       "      <td>Buhldenstrasse 8d5023 Biberstein, AG</td>\n",
       "      <td>4.5 rooms, 156 m²«Stilvolle Liegenschaft - ruh...</td>\n",
       "      <td>DescriptionStilvolle Liegenschaft an ruhiger L...</td>\n",
       "      <td>https://www.immoscout24.ch//en/d/terrace-house...</td>\n",
       "      <td>b &lt;article class=####Box-cYFBPY hKrxoH####&gt;&lt;h2...</td>\n",
       "      <td>NaN</td>\n",
       "      <td>NaN</td>\n",
       "      <td>NaN</td>\n",
       "      <td>NaN</td>\n",
       "      <td>Biberstein</td>\n",
       "      <td>Strasse:Buhldenstrasse  8d plz:5023 Stadt: Bib...</td>\n",
       "      <td>Stilvolle Liegenschaft - ruhige Lage, unverbau...</td>\n",
       "      <td>4.5 rooms, 156 m²,</td>\n",
       "      <td>Buhldenstrasse 8d, 5023 Biberstein, AG</td>\n",
       "      <td>1420000.0</td>\n",
       "      <td>/en/d/terrace-house-buy-biberstein/7266694</td>\n",
       "      <td>{'Municipality': 'Biberstein', 'Living space':...</td>\n",
       "      <td>47.419500</td>\n",
       "      <td>8.082700</td>\n",
       "      <td>16620</td>\n",
       "      <td>0.511176</td>\n",
       "      <td>0.286451</td>\n",
       "      <td>0.090908</td>\n",
       "      <td>47.415927</td>\n",
       "      <td>Biberstein</td>\n",
       "      <td>8.085840</td>\n",
       "      <td>0.0</td>\n",
       "      <td>0.0</td>\n",
       "      <td>0.0</td>\n",
       "      <td>0.058298</td>\n",
       "      <td>0.067048</td>\n",
       "      <td>0.103850</td>\n",
       "      <td>0.092914</td>\n",
       "      <td>0.209530</td>\n",
       "      <td>0.366674</td>\n",
       "      <td>0.082170</td>\n",
       "      <td>0.001811</td>\n",
       "      <td>0.011871</td>\n",
       "      <td>0.030169</td>\n",
       "      <td>0.052120</td>\n",
       "      <td>0.098951</td>\n",
       "      <td>5023</td>\n",
       "      <td>3.038467</td>\n",
       "      <td>30.676329</td>\n",
       "      <td>51.449275</td>\n",
       "      <td>4.589372</td>\n",
       "      <td>13.285024</td>\n",
       "      <td>2.23</td>\n",
       "      <td>1.994681</td>\n",
       "      <td>9.255663</td>\n",
       "      <td>4.739336</td>\n",
       "      <td>5.873715</td>\n",
       "      <td>4.579662</td>\n",
       "      <td>3.359031</td>\n",
       "      <td>18.355360</td>\n",
       "      <td>6.057269</td>\n",
       "      <td>7.066814</td>\n",
       "      <td>NaN</td>\n",
       "      <td>0.220264</td>\n",
       "      <td>20.392805</td>\n",
       "      <td>30.809471</td>\n",
       "      <td>376.829268</td>\n",
       "      <td>1545.0</td>\n",
       "      <td>686.0</td>\n",
       "      <td>2.234259</td>\n",
       "      <td>5.89</td>\n",
       "      <td>14.0</td>\n",
       "      <td>9.0</td>\n",
       "      <td>308.0</td>\n",
       "      <td>331.0</td>\n",
       "      <td>terrace-house</td>\n",
       "      <td>4.5</td>\n",
       "      <td>156.0</td>\n",
       "      <td>222.0</td>\n",
       "      <td>242.0</td>\n",
       "      <td>NaN</td>\n",
       "      <td>On request</td>\n",
       "    </tr>\n",
       "    <tr>\n",
       "      <th>2</th>\n",
       "      <td>NaN</td>\n",
       "      <td>5022 Rombach, AG</td>\n",
       "      <td>2.5 rooms, 93 m²«Moderne, lichtdurchflutete At...</td>\n",
       "      <td>detail_responsive#description_title2,5 Zimmerw...</td>\n",
       "      <td>https://www.immoscout24.ch//en/d/penthouse-buy...</td>\n",
       "      <td>b &lt;article class=####Box-cYFBPY hKrxoH####&gt;&lt;h2...</td>\n",
       "      <td>Küttigen</td>\n",
       "      <td>NaN</td>\n",
       "      <td>NaN</td>\n",
       "      <td>NaN</td>\n",
       "      <td>NaN</td>\n",
       "      <td>Strasse:  plz:5022 Stadt: Rombach Kanton: AG</td>\n",
       "      <td>Moderne, lichtdurchflutete Attikawohnung mit E...</td>\n",
       "      <td>2.5 rooms, 93 m²,</td>\n",
       "      <td>5022 Rombach, AG</td>\n",
       "      <td>720000.0</td>\n",
       "      <td>/en/d/penthouse-buy-rombach/7261389</td>\n",
       "      <td>{'detail_responsive#municipality': 'Küttigen',...</td>\n",
       "      <td>47.403300</td>\n",
       "      <td>8.033000</td>\n",
       "      <td>17812</td>\n",
       "      <td>0.163362</td>\n",
       "      <td>0.095877</td>\n",
       "      <td>0.001911</td>\n",
       "      <td>47.397416</td>\n",
       "      <td>Aarau</td>\n",
       "      <td>8.043150</td>\n",
       "      <td>0.0</td>\n",
       "      <td>0.0</td>\n",
       "      <td>0.0</td>\n",
       "      <td>0.334957</td>\n",
       "      <td>0.381257</td>\n",
       "      <td>0.297575</td>\n",
       "      <td>0.325887</td>\n",
       "      <td>0.393783</td>\n",
       "      <td>0.635194</td>\n",
       "      <td>0.154274</td>\n",
       "      <td>0.188229</td>\n",
       "      <td>0.000000</td>\n",
       "      <td>0.172646</td>\n",
       "      <td>0.163850</td>\n",
       "      <td>0.165830</td>\n",
       "      <td>5000</td>\n",
       "      <td>0.909587</td>\n",
       "      <td>11.354420</td>\n",
       "      <td>32.197891</td>\n",
       "      <td>7.137064</td>\n",
       "      <td>49.310624</td>\n",
       "      <td>2.01</td>\n",
       "      <td>2.023799</td>\n",
       "      <td>21.358623</td>\n",
       "      <td>3.814582</td>\n",
       "      <td>3.633134</td>\n",
       "      <td>5.324421</td>\n",
       "      <td>3.782202</td>\n",
       "      <td>18.089552</td>\n",
       "      <td>7.899807</td>\n",
       "      <td>8.851305</td>\n",
       "      <td>NaN</td>\n",
       "      <td>0.735032</td>\n",
       "      <td>26.515854</td>\n",
       "      <td>22.662290</td>\n",
       "      <td>1704.700162</td>\n",
       "      <td>21036.0</td>\n",
       "      <td>10149.0</td>\n",
       "      <td>3.549010</td>\n",
       "      <td>6.05</td>\n",
       "      <td>37.0</td>\n",
       "      <td>3092.0</td>\n",
       "      <td>30364.0</td>\n",
       "      <td>33493.0</td>\n",
       "      <td>penthouse</td>\n",
       "      <td>2.5</td>\n",
       "      <td>93.0</td>\n",
       "      <td>NaN</td>\n",
       "      <td>NaN</td>\n",
       "      <td>2.0</td>\n",
       "      <td>Immediately</td>\n",
       "    </tr>\n",
       "    <tr>\n",
       "      <th>3</th>\n",
       "      <td>Biberstein</td>\n",
       "      <td>Buhaldenstrasse 8A5023 Biberstein, AG</td>\n",
       "      <td>4.5 rooms, 154 m²«AgentSelly - Luxuriöses Eckh...</td>\n",
       "      <td>DescriptionDieses äusserst grosszügige Minergi...</td>\n",
       "      <td>https://www.immoscout24.ch//en/d/detached-hous...</td>\n",
       "      <td>b &lt;article class=####Box-cYFBPY hKrxoH####&gt;&lt;h2...</td>\n",
       "      <td>NaN</td>\n",
       "      <td>NaN</td>\n",
       "      <td>NaN</td>\n",
       "      <td>NaN</td>\n",
       "      <td>Biberstein</td>\n",
       "      <td>Strasse:Buhaldenstrasse  8A plz:5023 Stadt: Bi...</td>\n",
       "      <td>AgentSelly - Luxuriöses Eckhaus an toller Süd-...</td>\n",
       "      <td>4.5 rooms, 154 m²,</td>\n",
       "      <td>Buhaldenstrasse 8A, 5023 Biberstein, AG</td>\n",
       "      <td>1430000.0</td>\n",
       "      <td>/en/d/detached-house-buy-biberstein/7047212</td>\n",
       "      <td>{'Municipality': 'Biberstein', 'Living space':...</td>\n",
       "      <td>47.415643</td>\n",
       "      <td>8.085423</td>\n",
       "      <td>16620</td>\n",
       "      <td>0.511176</td>\n",
       "      <td>0.286451</td>\n",
       "      <td>0.090908</td>\n",
       "      <td>47.415927</td>\n",
       "      <td>Biberstein</td>\n",
       "      <td>8.085840</td>\n",
       "      <td>0.0</td>\n",
       "      <td>0.0</td>\n",
       "      <td>0.0</td>\n",
       "      <td>0.058298</td>\n",
       "      <td>0.067048</td>\n",
       "      <td>0.103850</td>\n",
       "      <td>0.092914</td>\n",
       "      <td>0.209530</td>\n",
       "      <td>0.366674</td>\n",
       "      <td>0.082170</td>\n",
       "      <td>0.001811</td>\n",
       "      <td>0.011871</td>\n",
       "      <td>0.030169</td>\n",
       "      <td>0.052120</td>\n",
       "      <td>0.098951</td>\n",
       "      <td>5023</td>\n",
       "      <td>3.038467</td>\n",
       "      <td>30.676329</td>\n",
       "      <td>51.449275</td>\n",
       "      <td>4.589372</td>\n",
       "      <td>13.285024</td>\n",
       "      <td>2.23</td>\n",
       "      <td>1.994681</td>\n",
       "      <td>9.255663</td>\n",
       "      <td>4.739336</td>\n",
       "      <td>5.873715</td>\n",
       "      <td>4.579662</td>\n",
       "      <td>3.359031</td>\n",
       "      <td>18.355360</td>\n",
       "      <td>6.057269</td>\n",
       "      <td>7.066814</td>\n",
       "      <td>NaN</td>\n",
       "      <td>0.220264</td>\n",
       "      <td>20.392805</td>\n",
       "      <td>30.809471</td>\n",
       "      <td>376.829268</td>\n",
       "      <td>1545.0</td>\n",
       "      <td>686.0</td>\n",
       "      <td>2.234259</td>\n",
       "      <td>5.89</td>\n",
       "      <td>14.0</td>\n",
       "      <td>9.0</td>\n",
       "      <td>308.0</td>\n",
       "      <td>331.0</td>\n",
       "      <td>detached-house</td>\n",
       "      <td>4.5</td>\n",
       "      <td>154.0</td>\n",
       "      <td>370.0</td>\n",
       "      <td>257.0</td>\n",
       "      <td>NaN</td>\n",
       "      <td>On request</td>\n",
       "    </tr>\n",
       "    <tr>\n",
       "      <th>4</th>\n",
       "      <td>Küttigen</td>\n",
       "      <td>5022 Rombach, AG</td>\n",
       "      <td>4.5 rooms, 142 m²«MIT GARTENSITZPLATZ UND VIEL...</td>\n",
       "      <td>DescriptionAus ehemals zwei Wohnungen wurde ei...</td>\n",
       "      <td>https://www.immoscout24.ch//en/d/flat-buy-romb...</td>\n",
       "      <td>b &lt;article class=####Box-cYFBPY hKrxoH####&gt;&lt;h2...</td>\n",
       "      <td>NaN</td>\n",
       "      <td>NaN</td>\n",
       "      <td>NaN</td>\n",
       "      <td>NaN</td>\n",
       "      <td>Küttigen</td>\n",
       "      <td>Strasse:  plz:5022 Stadt: Rombach Kanton: AG</td>\n",
       "      <td>MIT GARTENSITZPLATZ UND VIELEN EXTRAS</td>\n",
       "      <td>4.5 rooms, 142 m²,</td>\n",
       "      <td>5022 Rombach, AG</td>\n",
       "      <td>995000.0</td>\n",
       "      <td>/en/d/flat-buy-rombach/7293107</td>\n",
       "      <td>{'Municipality': 'Küttigen', 'Living space': '...</td>\n",
       "      <td>47.403824</td>\n",
       "      <td>8.048288</td>\n",
       "      <td>12716</td>\n",
       "      <td>0.333865</td>\n",
       "      <td>0.279276</td>\n",
       "      <td>0.145835</td>\n",
       "      <td>47.404870</td>\n",
       "      <td>Rombach</td>\n",
       "      <td>8.052781</td>\n",
       "      <td>0.0</td>\n",
       "      <td>0.0</td>\n",
       "      <td>0.0</td>\n",
       "      <td>0.133498</td>\n",
       "      <td>0.132933</td>\n",
       "      <td>0.235917</td>\n",
       "      <td>0.190986</td>\n",
       "      <td>0.136984</td>\n",
       "      <td>0.204549</td>\n",
       "      <td>0.109586</td>\n",
       "      <td>0.141473</td>\n",
       "      <td>0.091805</td>\n",
       "      <td>0.046950</td>\n",
       "      <td>0.038008</td>\n",
       "      <td>0.055509</td>\n",
       "      <td>5022</td>\n",
       "      <td>1.460245</td>\n",
       "      <td>33.137090</td>\n",
       "      <td>49.705635</td>\n",
       "      <td>1.177460</td>\n",
       "      <td>15.979815</td>\n",
       "      <td>2.28</td>\n",
       "      <td>0.691563</td>\n",
       "      <td>15.901990</td>\n",
       "      <td>1.160862</td>\n",
       "      <td>5.217740</td>\n",
       "      <td>5.728026</td>\n",
       "      <td>5.006679</td>\n",
       "      <td>19.158429</td>\n",
       "      <td>6.502805</td>\n",
       "      <td>7.477959</td>\n",
       "      <td>NaN</td>\n",
       "      <td>0.892332</td>\n",
       "      <td>20.459524</td>\n",
       "      <td>27.590168</td>\n",
       "      <td>511.008403</td>\n",
       "      <td>6081.0</td>\n",
       "      <td>2638.0</td>\n",
       "      <td>1.708126</td>\n",
       "      <td>6.30</td>\n",
       "      <td>65.0</td>\n",
       "      <td>349.0</td>\n",
       "      <td>941.0</td>\n",
       "      <td>1355.0</td>\n",
       "      <td>flat</td>\n",
       "      <td>4.5</td>\n",
       "      <td>142.0</td>\n",
       "      <td>NaN</td>\n",
       "      <td>NaN</td>\n",
       "      <td>0.0</td>\n",
       "      <td>On request</td>\n",
       "    </tr>\n",
       "  </tbody>\n",
       "</table>\n",
       "</div>"
      ],
      "text/plain": [
       "  Municipality                               location  \\\n",
       "0   Biberstein                    5023 Biberstein, AG   \n",
       "1   Biberstein   Buhldenstrasse 8d5023 Biberstein, AG   \n",
       "2          NaN                       5022 Rombach, AG   \n",
       "3   Biberstein  Buhaldenstrasse 8A5023 Biberstein, AG   \n",
       "4     Küttigen                       5022 Rombach, AG   \n",
       "\n",
       "                                         description  \\\n",
       "0  3.5 rooms, 100 m²«Luxuriöse Attika-Wohnung mit...   \n",
       "1  4.5 rooms, 156 m²«Stilvolle Liegenschaft - ruh...   \n",
       "2  2.5 rooms, 93 m²«Moderne, lichtdurchflutete At...   \n",
       "3  4.5 rooms, 154 m²«AgentSelly - Luxuriöses Eckh...   \n",
       "4  4.5 rooms, 142 m²«MIT GARTENSITZPLATZ UND VIEL...   \n",
       "\n",
       "                                detailed_description  \\\n",
       "0  DescriptionLuxuriöse Attika-Wohnung direkt an ...   \n",
       "1  DescriptionStilvolle Liegenschaft an ruhiger L...   \n",
       "2  detail_responsive#description_title2,5 Zimmerw...   \n",
       "3  DescriptionDieses äusserst grosszügige Minergi...   \n",
       "4  DescriptionAus ehemals zwei Wohnungen wurde ei...   \n",
       "\n",
       "                                                 url  \\\n",
       "0  https://www.immoscout24.ch//en/d/penthouse-buy...   \n",
       "1  https://www.immoscout24.ch//en/d/terrace-house...   \n",
       "2  https://www.immoscout24.ch//en/d/penthouse-buy...   \n",
       "3  https://www.immoscout24.ch//en/d/detached-hous...   \n",
       "4  https://www.immoscout24.ch//en/d/flat-buy-romb...   \n",
       "\n",
       "                                               table  \\\n",
       "0  b <article class=####Box-cYFBPY hKrxoH####><h2...   \n",
       "1  b <article class=####Box-cYFBPY hKrxoH####><h2...   \n",
       "2  b <article class=####Box-cYFBPY hKrxoH####><h2...   \n",
       "3  b <article class=####Box-cYFBPY hKrxoH####><h2...   \n",
       "4  b <article class=####Box-cYFBPY hKrxoH####><h2...   \n",
       "\n",
       "  detail_responsive#municipality Gemeinde Commune Comune Municipality_merged  \\\n",
       "0                            NaN      NaN     NaN    NaN          Biberstein   \n",
       "1                            NaN      NaN     NaN    NaN          Biberstein   \n",
       "2                       Küttigen      NaN     NaN    NaN                 NaN   \n",
       "3                            NaN      NaN     NaN    NaN          Biberstein   \n",
       "4                            NaN      NaN     NaN    NaN            Küttigen   \n",
       "\n",
       "                                     location_parsed  \\\n",
       "0    Strasse:  plz:5023 Stadt: Biberstein Kanton: AG   \n",
       "1  Strasse:Buhldenstrasse  8d plz:5023 Stadt: Bib...   \n",
       "2       Strasse:  plz:5022 Stadt: Rombach Kanton: AG   \n",
       "3  Strasse:Buhaldenstrasse  8A plz:5023 Stadt: Bi...   \n",
       "4       Strasse:  plz:5022 Stadt: Rombach Kanton: AG   \n",
       "\n",
       "                                               title              details  \\\n",
       "0   Luxuriöse Attika-Wohnung mit herrlicher Aussicht  3.5 rooms, 100 m²,    \n",
       "1  Stilvolle Liegenschaft - ruhige Lage, unverbau...  4.5 rooms, 156 m²,    \n",
       "2  Moderne, lichtdurchflutete Attikawohnung mit E...   2.5 rooms, 93 m²,    \n",
       "3  AgentSelly - Luxuriöses Eckhaus an toller Süd-...  4.5 rooms, 154 m²,    \n",
       "4              MIT GARTENSITZPLATZ UND VIELEN EXTRAS  4.5 rooms, 142 m²,    \n",
       "\n",
       "                                   address      price  \\\n",
       "0                      5023 Biberstein, AG  1150000.0   \n",
       "1   Buhldenstrasse 8d, 5023 Biberstein, AG  1420000.0   \n",
       "2                         5022 Rombach, AG   720000.0   \n",
       "3  Buhaldenstrasse 8A, 5023 Biberstein, AG  1430000.0   \n",
       "4                         5022 Rombach, AG   995000.0   \n",
       "\n",
       "                                          link  \\\n",
       "0       /en/d/penthouse-buy-biberstein/7255200   \n",
       "1   /en/d/terrace-house-buy-biberstein/7266694   \n",
       "2          /en/d/penthouse-buy-rombach/7261389   \n",
       "3  /en/d/detached-house-buy-biberstein/7047212   \n",
       "4               /en/d/flat-buy-rombach/7293107   \n",
       "\n",
       "                                  details_structured        lat       lon  \\\n",
       "0  {'Municipality': 'Biberstein', 'Living space':...  47.417100  8.085600   \n",
       "1  {'Municipality': 'Biberstein', 'Living space':...  47.419500  8.082700   \n",
       "2  {'detail_responsive#municipality': 'Küttigen',...  47.403300  8.033000   \n",
       "3  {'Municipality': 'Biberstein', 'Living space':...  47.415643  8.085423   \n",
       "4  {'Municipality': 'Küttigen', 'Living space': '...  47.403824  8.048288   \n",
       "\n",
       "   index  ForestDensityL  ForestDensityM  ForestDensityS   Latitude  \\\n",
       "0  16620        0.511176        0.286451        0.090908  47.415927   \n",
       "1  16620        0.511176        0.286451        0.090908  47.415927   \n",
       "2  17812        0.163362        0.095877        0.001911  47.397416   \n",
       "3  16620        0.511176        0.286451        0.090908  47.415927   \n",
       "4  12716        0.333865        0.279276        0.145835  47.404870   \n",
       "\n",
       "     Locality  Longitude  NoisePollutionRailwayL  NoisePollutionRailwayM  \\\n",
       "0  Biberstein   8.085840                     0.0                     0.0   \n",
       "1  Biberstein   8.085840                     0.0                     0.0   \n",
       "2       Aarau   8.043150                     0.0                     0.0   \n",
       "3  Biberstein   8.085840                     0.0                     0.0   \n",
       "4     Rombach   8.052781                     0.0                     0.0   \n",
       "\n",
       "   NoisePollutionRailwayS  NoisePollutionRoadL  NoisePollutionRoadM  \\\n",
       "0                     0.0             0.058298             0.067048   \n",
       "1                     0.0             0.058298             0.067048   \n",
       "2                     0.0             0.334957             0.381257   \n",
       "3                     0.0             0.058298             0.067048   \n",
       "4                     0.0             0.133498             0.132933   \n",
       "\n",
       "   NoisePollutionRoadS  PopulationDensityL  PopulationDensityM  \\\n",
       "0             0.103850            0.092914            0.209530   \n",
       "1             0.103850            0.092914            0.209530   \n",
       "2             0.297575            0.325887            0.393783   \n",
       "3             0.103850            0.092914            0.209530   \n",
       "4             0.235917            0.190986            0.136984   \n",
       "\n",
       "   PopulationDensityS  RiversAndLakesL  RiversAndLakesM  RiversAndLakesS  \\\n",
       "0            0.366674         0.082170         0.001811         0.011871   \n",
       "1            0.366674         0.082170         0.001811         0.011871   \n",
       "2            0.635194         0.154274         0.188229         0.000000   \n",
       "3            0.366674         0.082170         0.001811         0.011871   \n",
       "4            0.204549         0.109586         0.141473         0.091805   \n",
       "\n",
       "   WorkplaceDensityL  WorkplaceDensityM  WorkplaceDensityS   Zip  \\\n",
       "0           0.030169           0.052120           0.098951  5023   \n",
       "1           0.030169           0.052120           0.098951  5023   \n",
       "2           0.172646           0.163850           0.165830  5000   \n",
       "3           0.030169           0.052120           0.098951  5023   \n",
       "4           0.046950           0.038008           0.055509  5022   \n",
       "\n",
       "   distanceToTrainStation  gde_area_agriculture_percentage  \\\n",
       "0                3.038467                        30.676329   \n",
       "1                3.038467                        30.676329   \n",
       "2                0.909587                        11.354420   \n",
       "3                3.038467                        30.676329   \n",
       "4                1.460245                        33.137090   \n",
       "\n",
       "   gde_area_forest_percentage  gde_area_nonproductive_percentage  \\\n",
       "0                   51.449275                           4.589372   \n",
       "1                   51.449275                           4.589372   \n",
       "2                   32.197891                           7.137064   \n",
       "3                   51.449275                           4.589372   \n",
       "4                   49.705635                           1.177460   \n",
       "\n",
       "   gde_area_settlement_percentage  gde_average_house_hold  \\\n",
       "0                       13.285024                    2.23   \n",
       "1                       13.285024                    2.23   \n",
       "2                       49.310624                    2.01   \n",
       "3                       13.285024                    2.23   \n",
       "4                       15.979815                    2.28   \n",
       "\n",
       "   gde_empty_apartments  gde_foreigners_percentage  gde_new_homes_per_1000  \\\n",
       "0              1.994681                   9.255663                4.739336   \n",
       "1              1.994681                   9.255663                4.739336   \n",
       "2              2.023799                  21.358623                3.814582   \n",
       "3              1.994681                   9.255663                4.739336   \n",
       "4              0.691563                  15.901990                1.160862   \n",
       "\n",
       "   gde_politics_bdp  gde_politics_cvp  gde_politics_evp  gde_politics_fdp  \\\n",
       "0          5.873715          4.579662          3.359031         18.355360   \n",
       "1          5.873715          4.579662          3.359031         18.355360   \n",
       "2          3.633134          5.324421          3.782202         18.089552   \n",
       "3          5.873715          4.579662          3.359031         18.355360   \n",
       "4          5.217740          5.728026          5.006679         19.158429   \n",
       "\n",
       "   gde_politics_glp  gde_politics_gps  gde_politics_pda  gde_politics_rights  \\\n",
       "0          6.057269          7.066814               NaN             0.220264   \n",
       "1          6.057269          7.066814               NaN             0.220264   \n",
       "2          7.899807          8.851305               NaN             0.735032   \n",
       "3          6.057269          7.066814               NaN             0.220264   \n",
       "4          6.502805          7.477959               NaN             0.892332   \n",
       "\n",
       "   gde_politics_sp  gde_politics_svp  gde_pop_per_km2  gde_population  \\\n",
       "0        20.392805         30.809471       376.829268          1545.0   \n",
       "1        20.392805         30.809471       376.829268          1545.0   \n",
       "2        26.515854         22.662290      1704.700162         21036.0   \n",
       "3        20.392805         30.809471       376.829268          1545.0   \n",
       "4        20.459524         27.590168       511.008403          6081.0   \n",
       "\n",
       "   gde_private_apartments  gde_social_help_quota  gde_tax  \\\n",
       "0                   686.0               2.234259     5.89   \n",
       "1                   686.0               2.234259     5.89   \n",
       "2                 10149.0               3.549010     6.05   \n",
       "3                   686.0               2.234259     5.89   \n",
       "4                  2638.0               1.708126     6.30   \n",
       "\n",
       "   gde_workers_sector1  gde_workers_sector2  gde_workers_sector3  \\\n",
       "0                 14.0                  9.0                308.0   \n",
       "1                 14.0                  9.0                308.0   \n",
       "2                 37.0               3092.0              30364.0   \n",
       "3                 14.0                  9.0                308.0   \n",
       "4                 65.0                349.0                941.0   \n",
       "\n",
       "   gde_workers_total            type  rooms  living_space  plot_area  \\\n",
       "0              331.0       penthouse    3.5         100.0        NaN   \n",
       "1              331.0   terrace-house    4.5         156.0      222.0   \n",
       "2            33493.0       penthouse    2.5          93.0        NaN   \n",
       "3              331.0  detached-house    4.5         154.0      370.0   \n",
       "4             1355.0            flat    4.5         142.0        NaN   \n",
       "\n",
       "   floor_space  floor availability  \n",
       "0          NaN    4.0   On request  \n",
       "1        242.0    NaN   On request  \n",
       "2          NaN    2.0  Immediately  \n",
       "3        257.0    NaN   On request  \n",
       "4          NaN    0.0   On request  "
      ]
     },
     "execution_count": 270,
     "metadata": {},
     "output_type": "execute_result"
    }
   ],
   "source": [
    "df_cleaned = clean_integers(pd.read_csv(\"../data/immoscout_cleaned_lat_lon_fixed_v9.csv\", low_memory=False))\n",
    "df_cleaned.head()"
   ]
  }
 ],
 "metadata": {
  "kernelspec": {
   "display_name": "Python 3.10.6 ('base')",
   "language": "python",
   "name": "python3"
  },
  "language_info": {
   "codemirror_mode": {
    "name": "ipython",
    "version": 3
   },
   "file_extension": ".py",
   "mimetype": "text/x-python",
   "name": "python",
   "nbconvert_exporter": "python",
   "pygments_lexer": "ipython3",
   "version": "3.10.6"
  },
  "orig_nbformat": 4,
  "vscode": {
   "interpreter": {
    "hash": "d4d1e4263499bec80672ea0156c357c1ee493ec2b1c70f0acce89fc37c4a6abe"
   }
  }
 },
 "nbformat": 4,
 "nbformat_minor": 2
}
