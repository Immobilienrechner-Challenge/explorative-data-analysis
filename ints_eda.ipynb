{
 "cells": [
  {
   "cell_type": "code",
   "execution_count": 1,
   "metadata": {},
   "outputs": [
    {
     "data": {
      "text/plain": [
       "(13378, 27)"
      ]
     },
     "execution_count": 1,
     "metadata": {},
     "output_type": "execute_result"
    }
   ],
   "source": [
    "import pandas as pd\n",
    "import numpy as np\n",
    "import re\n",
    "import json\n",
    "from itertools import permutations\n",
    "from itertools import combinations\n",
    "\n",
    "pd.set_option('display.max_columns', None, 'display.max_rows', 100)\n",
    "\n",
    "df = pd.read_csv('../data/immoscout_cleaned_lat_lon_fixed_v9.csv', low_memory=False)\n",
    "\n",
    "col_names = df.columns.array\n",
    "col_names[0:2] = ['Index1', 'Index2']\n",
    "df.columns = col_names\n",
    "\n",
    "numeric_columns = ['Living space', 'Plot area', 'Floor space', 'Floor', 'detail_responsive#surface_living', 'detail_responsive#floor', 'Wohnfläche', 'Stockwerk', 'Nutzfläche', 'Grundstücksfläche', 'detail_responsive#surface_property', 'detail_responsive#surface_usable', 'Surface habitable', 'Surface du terrain', 'Surface utile', 'Étage', 'Superficie abitabile', 'Piano', 'Superficie del terreno', 'Superficie utile', 'Floor_merged', 'Living_space_merged', 'Floor_space_merged', 'Plot_area_merged', 'price_cleaned', 'price', 'Space extracted']\n",
    "df_numeric = df[numeric_columns]\n",
    "\n",
    "df_numeric.shape"
   ]
  },
  {
   "cell_type": "markdown",
   "metadata": {},
   "source": [
    "In this part of the data analysis we focus primarily on the variables containing information about 'Living Space', 'Plot Area', 'Floor Space' and 'Floor'. For each one of them we find at least 6 columns containing relevant data (columns with corresponding names in German, French, Italian, English, one '..._merged' and one 'detail_responsive#...').  \n",
    "\n",
    "For the living space there's also another column called 'Space extracted'.  \n",
    "\n",
    "How the '_merged' column has been merged is unclear, therefore we cannot assume that this column contains all the data.  "
   ]
  },
  {
   "cell_type": "markdown",
   "metadata": {},
   "source": [
    "## Living Space"
   ]
  },
  {
   "cell_type": "markdown",
   "metadata": {},
   "source": [
    "To investigate, how we can get the full set of data for living space, let's first create a subset containing only the columns with data on the living space."
   ]
  },
  {
   "cell_type": "code",
   "execution_count": 2,
   "metadata": {},
   "outputs": [],
   "source": [
    "living_space = ['Living space', 'Wohnfläche', 'Surface habitable', 'Superficie abitabile', 'detail_responsive#surface_living', 'Living_space_merged', 'Space extracted']\n",
    "df_living_space = df_numeric.loc[:, living_space]"
   ]
  },
  {
   "cell_type": "markdown",
   "metadata": {},
   "source": [
    "The cumulative sum of the value counts per column can be checked against the 'merged'-count to see if any combination of value counts add up to the same number."
   ]
  },
  {
   "cell_type": "code",
   "execution_count": 3,
   "metadata": {},
   "outputs": [
    {
     "data": {
      "text/plain": [
       "Living space                        False\n",
       "Wohnfläche                          False\n",
       "Surface habitable                   False\n",
       "Superficie abitabile                 True\n",
       "detail_responsive#surface_living    False\n",
       "dtype: bool"
      ]
     },
     "execution_count": 3,
     "metadata": {},
     "output_type": "execute_result"
    }
   ],
   "source": [
    "df_living_space[living_space[0:5]].count().cumsum() == df_living_space[living_space[5]].count()"
   ]
  },
  {
   "cell_type": "markdown",
   "metadata": {},
   "source": [
    "Here we see, that the cumulative sum of the values in columns 'Living space', 'Wohnfläche', 'Surface habitable', 'Superficie abitabile' adds up to the same amount as the 'Living_space_merged' value count.  \n",
    "\n",
    "Let's see if the data contained in 'Living_space_merged' is actually the same data contained in columns 'Living space', 'Wohnfläche', 'Surface habitable' and 'Superficie abitabile'.  \n",
    "\n",
    "To do so we first combine the respective columns into one so we can compare the columns."
   ]
  },
  {
   "cell_type": "code",
   "execution_count": 4,
   "metadata": {},
   "outputs": [
    {
     "data": {
      "text/plain": [
       "True"
      ]
     },
     "execution_count": 4,
     "metadata": {},
     "output_type": "execute_result"
    }
   ],
   "source": [
    "df_living_space['living_space'] = df_living_space[living_space[0]].fillna('') + \\\n",
    "  (df_living_space[living_space[1]]).fillna('') + \\\n",
    "  (df_living_space[living_space[2]]).fillna('') + \\\n",
    "  (df_living_space[living_space[3]]).fillna('')\n",
    "\n",
    "(df_living_space.loc[:, 'living_space'] == df_living_space.loc[:, living_space[5]].fillna('')).sum() == df_numeric.shape[0]"
   ]
  },
  {
   "cell_type": "markdown",
   "metadata": {},
   "source": [
    "Counting the `True` values of the comparison of the two columns yields the same count as the column count of the dataset meaning that all rows of the two columns are identical.\n",
    "\n",
    "Therefore we can confirm, that the '_merged'-column contains all information from the columns 'Living space', 'Wohnfläche', 'Surface habitable' and 'Superficie abitabile'.  \n",
    "\n",
    "There are still two remaining columns with data about the living space: 'detail_responsive#surface_living' and 'Space extracted'.  \n",
    "\n",
    "Let's check if there's any new data in 'detail_responsive#surface_living':"
   ]
  },
  {
   "cell_type": "code",
   "execution_count": 5,
   "metadata": {},
   "outputs": [
    {
     "data": {
      "text/html": [
       "<div>\n",
       "<style scoped>\n",
       "    .dataframe tbody tr th:only-of-type {\n",
       "        vertical-align: middle;\n",
       "    }\n",
       "\n",
       "    .dataframe tbody tr th {\n",
       "        vertical-align: top;\n",
       "    }\n",
       "\n",
       "    .dataframe thead th {\n",
       "        text-align: right;\n",
       "    }\n",
       "</style>\n",
       "<table border=\"1\" class=\"dataframe\">\n",
       "  <thead>\n",
       "    <tr style=\"text-align: right;\">\n",
       "      <th></th>\n",
       "      <th>Living space</th>\n",
       "      <th>Wohnfläche</th>\n",
       "      <th>Surface habitable</th>\n",
       "      <th>Superficie abitabile</th>\n",
       "      <th>detail_responsive#surface_living</th>\n",
       "      <th>Living_space_merged</th>\n",
       "      <th>Space extracted</th>\n",
       "      <th>living_space</th>\n",
       "    </tr>\n",
       "  </thead>\n",
       "  <tbody>\n",
       "    <tr>\n",
       "      <th>2</th>\n",
       "      <td>NaN</td>\n",
       "      <td>NaN</td>\n",
       "      <td>NaN</td>\n",
       "      <td>NaN</td>\n",
       "      <td>93 m²</td>\n",
       "      <td>NaN</td>\n",
       "      <td>93.0</td>\n",
       "      <td>NaN</td>\n",
       "    </tr>\n",
       "    <tr>\n",
       "      <th>39</th>\n",
       "      <td>NaN</td>\n",
       "      <td>NaN</td>\n",
       "      <td>NaN</td>\n",
       "      <td>NaN</td>\n",
       "      <td>97 m²</td>\n",
       "      <td>NaN</td>\n",
       "      <td>97.0</td>\n",
       "      <td>NaN</td>\n",
       "    </tr>\n",
       "    <tr>\n",
       "      <th>44</th>\n",
       "      <td>NaN</td>\n",
       "      <td>NaN</td>\n",
       "      <td>NaN</td>\n",
       "      <td>NaN</td>\n",
       "      <td>216 m²</td>\n",
       "      <td>NaN</td>\n",
       "      <td>216.0</td>\n",
       "      <td>NaN</td>\n",
       "    </tr>\n",
       "    <tr>\n",
       "      <th>170</th>\n",
       "      <td>NaN</td>\n",
       "      <td>NaN</td>\n",
       "      <td>NaN</td>\n",
       "      <td>NaN</td>\n",
       "      <td>70 m²</td>\n",
       "      <td>NaN</td>\n",
       "      <td>70.0</td>\n",
       "      <td>NaN</td>\n",
       "    </tr>\n",
       "    <tr>\n",
       "      <th>178</th>\n",
       "      <td>NaN</td>\n",
       "      <td>NaN</td>\n",
       "      <td>NaN</td>\n",
       "      <td>NaN</td>\n",
       "      <td>127 m²</td>\n",
       "      <td>NaN</td>\n",
       "      <td>127.0</td>\n",
       "      <td>NaN</td>\n",
       "    </tr>\n",
       "    <tr>\n",
       "      <th>...</th>\n",
       "      <td>...</td>\n",
       "      <td>...</td>\n",
       "      <td>...</td>\n",
       "      <td>...</td>\n",
       "      <td>...</td>\n",
       "      <td>...</td>\n",
       "      <td>...</td>\n",
       "      <td>...</td>\n",
       "    </tr>\n",
       "    <tr>\n",
       "      <th>13351</th>\n",
       "      <td>NaN</td>\n",
       "      <td>NaN</td>\n",
       "      <td>NaN</td>\n",
       "      <td>NaN</td>\n",
       "      <td>93 m²</td>\n",
       "      <td>NaN</td>\n",
       "      <td>93.0</td>\n",
       "      <td>NaN</td>\n",
       "    </tr>\n",
       "    <tr>\n",
       "      <th>13356</th>\n",
       "      <td>NaN</td>\n",
       "      <td>NaN</td>\n",
       "      <td>NaN</td>\n",
       "      <td>NaN</td>\n",
       "      <td>157 m²</td>\n",
       "      <td>NaN</td>\n",
       "      <td>157.0</td>\n",
       "      <td>NaN</td>\n",
       "    </tr>\n",
       "    <tr>\n",
       "      <th>13357</th>\n",
       "      <td>NaN</td>\n",
       "      <td>NaN</td>\n",
       "      <td>NaN</td>\n",
       "      <td>NaN</td>\n",
       "      <td>121 m²</td>\n",
       "      <td>NaN</td>\n",
       "      <td>121.0</td>\n",
       "      <td>NaN</td>\n",
       "    </tr>\n",
       "    <tr>\n",
       "      <th>13359</th>\n",
       "      <td>NaN</td>\n",
       "      <td>NaN</td>\n",
       "      <td>NaN</td>\n",
       "      <td>NaN</td>\n",
       "      <td>83 m²</td>\n",
       "      <td>NaN</td>\n",
       "      <td>83.0</td>\n",
       "      <td>NaN</td>\n",
       "    </tr>\n",
       "    <tr>\n",
       "      <th>13363</th>\n",
       "      <td>NaN</td>\n",
       "      <td>NaN</td>\n",
       "      <td>NaN</td>\n",
       "      <td>NaN</td>\n",
       "      <td>164 m²</td>\n",
       "      <td>NaN</td>\n",
       "      <td>164.0</td>\n",
       "      <td>NaN</td>\n",
       "    </tr>\n",
       "  </tbody>\n",
       "</table>\n",
       "<p>430 rows × 8 columns</p>\n",
       "</div>"
      ],
      "text/plain": [
       "      Living space Wohnfläche Surface habitable Superficie abitabile  \\\n",
       "2              NaN        NaN               NaN                  NaN   \n",
       "39             NaN        NaN               NaN                  NaN   \n",
       "44             NaN        NaN               NaN                  NaN   \n",
       "170            NaN        NaN               NaN                  NaN   \n",
       "178            NaN        NaN               NaN                  NaN   \n",
       "...            ...        ...               ...                  ...   \n",
       "13351          NaN        NaN               NaN                  NaN   \n",
       "13356          NaN        NaN               NaN                  NaN   \n",
       "13357          NaN        NaN               NaN                  NaN   \n",
       "13359          NaN        NaN               NaN                  NaN   \n",
       "13363          NaN        NaN               NaN                  NaN   \n",
       "\n",
       "      detail_responsive#surface_living Living_space_merged  Space extracted  \\\n",
       "2                                93 m²                 NaN             93.0   \n",
       "39                               97 m²                 NaN             97.0   \n",
       "44                              216 m²                 NaN            216.0   \n",
       "170                              70 m²                 NaN             70.0   \n",
       "178                             127 m²                 NaN            127.0   \n",
       "...                                ...                 ...              ...   \n",
       "13351                            93 m²                 NaN             93.0   \n",
       "13356                           157 m²                 NaN            157.0   \n",
       "13357                           121 m²                 NaN            121.0   \n",
       "13359                            83 m²                 NaN             83.0   \n",
       "13363                           164 m²                 NaN            164.0   \n",
       "\n",
       "      living_space  \n",
       "2              NaN  \n",
       "39             NaN  \n",
       "44             NaN  \n",
       "170            NaN  \n",
       "178            NaN  \n",
       "...            ...  \n",
       "13351          NaN  \n",
       "13356          NaN  \n",
       "13357          NaN  \n",
       "13359          NaN  \n",
       "13363          NaN  \n",
       "\n",
       "[430 rows x 8 columns]"
      ]
     },
     "execution_count": 5,
     "metadata": {},
     "output_type": "execute_result"
    }
   ],
   "source": [
    "df_living_space['living_space'] = df_living_space['living_space'].replace('', np.NaN)\n",
    "\n",
    "df_living_space[df_living_space['living_space'].isna() & df_living_space[\"detail_responsive#surface_living\"].notna()]"
   ]
  },
  {
   "cell_type": "markdown",
   "metadata": {},
   "source": [
    "Interesting. This output shows that not only 'detail_responsive#surface_living' but also 'Space extracted' contains more information on living space. In a first step we can merge the 'detail_responsive#surface_living' into 'living_space' and compare the counts."
   ]
  },
  {
   "cell_type": "code",
   "execution_count": 6,
   "metadata": {},
   "outputs": [
    {
     "data": {
      "text/plain": [
       "(12304, 12308)"
      ]
     },
     "execution_count": 6,
     "metadata": {},
     "output_type": "execute_result"
    }
   ],
   "source": [
    "df_living_space['living_space'] = df_living_space[living_space[5]].fillna('') + \\\n",
    "  (df_living_space[living_space[4]]).fillna('')\n",
    "\n",
    "df_living_space['living_space'] = df_living_space['living_space'].replace('', np.nan)\n",
    "\n",
    "df_living_space['living_space'].count(), df_living_space['Space extracted'].count()"
   ]
  },
  {
   "cell_type": "markdown",
   "metadata": {},
   "source": [
    "With all columns containing direct information about the living space except 'Space extracted' we get 12304 rows of data. 'Space extracted' has 12308, 4 more rows."
   ]
  },
  {
   "cell_type": "code",
   "execution_count": 7,
   "metadata": {},
   "outputs": [
    {
     "data": {
      "text/html": [
       "<div>\n",
       "<style scoped>\n",
       "    .dataframe tbody tr th:only-of-type {\n",
       "        vertical-align: middle;\n",
       "    }\n",
       "\n",
       "    .dataframe tbody tr th {\n",
       "        vertical-align: top;\n",
       "    }\n",
       "\n",
       "    .dataframe thead th {\n",
       "        text-align: right;\n",
       "    }\n",
       "</style>\n",
       "<table border=\"1\" class=\"dataframe\">\n",
       "  <thead>\n",
       "    <tr style=\"text-align: right;\">\n",
       "      <th></th>\n",
       "      <th>Living space</th>\n",
       "      <th>Wohnfläche</th>\n",
       "      <th>Surface habitable</th>\n",
       "      <th>Superficie abitabile</th>\n",
       "      <th>detail_responsive#surface_living</th>\n",
       "      <th>Living_space_merged</th>\n",
       "      <th>Space extracted</th>\n",
       "      <th>living_space</th>\n",
       "    </tr>\n",
       "  </thead>\n",
       "  <tbody>\n",
       "    <tr>\n",
       "      <th>786</th>\n",
       "      <td>NaN</td>\n",
       "      <td>NaN</td>\n",
       "      <td>NaN</td>\n",
       "      <td>NaN</td>\n",
       "      <td>NaN</td>\n",
       "      <td>NaN</td>\n",
       "      <td>200.0</td>\n",
       "      <td>NaN</td>\n",
       "    </tr>\n",
       "    <tr>\n",
       "      <th>3380</th>\n",
       "      <td>NaN</td>\n",
       "      <td>NaN</td>\n",
       "      <td>NaN</td>\n",
       "      <td>NaN</td>\n",
       "      <td>NaN</td>\n",
       "      <td>NaN</td>\n",
       "      <td>210.0</td>\n",
       "      <td>NaN</td>\n",
       "    </tr>\n",
       "    <tr>\n",
       "      <th>3696</th>\n",
       "      <td>NaN</td>\n",
       "      <td>NaN</td>\n",
       "      <td>NaN</td>\n",
       "      <td>NaN</td>\n",
       "      <td>NaN</td>\n",
       "      <td>NaN</td>\n",
       "      <td>228.0</td>\n",
       "      <td>NaN</td>\n",
       "    </tr>\n",
       "    <tr>\n",
       "      <th>6506</th>\n",
       "      <td>NaN</td>\n",
       "      <td>NaN</td>\n",
       "      <td>NaN</td>\n",
       "      <td>NaN</td>\n",
       "      <td>NaN</td>\n",
       "      <td>NaN</td>\n",
       "      <td>200.0</td>\n",
       "      <td>NaN</td>\n",
       "    </tr>\n",
       "  </tbody>\n",
       "</table>\n",
       "</div>"
      ],
      "text/plain": [
       "     Living space Wohnfläche Surface habitable Superficie abitabile  \\\n",
       "786           NaN        NaN               NaN                  NaN   \n",
       "3380          NaN        NaN               NaN                  NaN   \n",
       "3696          NaN        NaN               NaN                  NaN   \n",
       "6506          NaN        NaN               NaN                  NaN   \n",
       "\n",
       "     detail_responsive#surface_living Living_space_merged  Space extracted  \\\n",
       "786                               NaN                 NaN            200.0   \n",
       "3380                              NaN                 NaN            210.0   \n",
       "3696                              NaN                 NaN            228.0   \n",
       "6506                              NaN                 NaN            200.0   \n",
       "\n",
       "     living_space  \n",
       "786           NaN  \n",
       "3380          NaN  \n",
       "3696          NaN  \n",
       "6506          NaN  "
      ]
     },
     "execution_count": 7,
     "metadata": {},
     "output_type": "execute_result"
    }
   ],
   "source": [
    "df_living_space.loc[df_numeric['Space extracted'].notna() & df_living_space['living_space'].isna(), :] "
   ]
  },
  {
   "cell_type": "markdown",
   "metadata": {},
   "source": [
    "Does the column 'Space extracted' contain the same information as the merged column plus 4 more rows? To check that, the data has to be parsed the same way. "
   ]
  },
  {
   "cell_type": "code",
   "execution_count": 8,
   "metadata": {},
   "outputs": [
    {
     "data": {
      "text/plain": [
       "True"
      ]
     },
     "execution_count": 8,
     "metadata": {},
     "output_type": "execute_result"
    }
   ],
   "source": [
    "df_living_space['living_space'] = df_living_space.living_space.str.extract('(\\d+)').astype(float)\n",
    "\n",
    "df_living_space['living_space'].dtype == df_living_space['Space extracted'].dtype"
   ]
  },
  {
   "cell_type": "markdown",
   "metadata": {},
   "source": [
    "Now with the same datatype, the data can be merged and compared once more."
   ]
  },
  {
   "cell_type": "code",
   "execution_count": 9,
   "metadata": {},
   "outputs": [
    {
     "data": {
      "text/plain": [
       "True"
      ]
     },
     "execution_count": 9,
     "metadata": {},
     "output_type": "execute_result"
    }
   ],
   "source": [
    "df_living_space.loc[df_living_space['Space extracted'].notna() & df_living_space['living_space'].isna(), 'living_space'] = df_living_space.loc[df_living_space['Space extracted'].notna() & df_living_space['living_space'].isna(), 'Space extracted']\n",
    "(df_living_space['Space extracted'].fillna(0).astype('int') == df_living_space['living_space']).count() == df_living_space.shape[0]"
   ]
  },
  {
   "cell_type": "markdown",
   "metadata": {},
   "source": [
    "And with this we can see that the column 'Space extracted' contained the most complete data of the investigated columns for living space. 4 more than the '..._merged' and 'detail_responsive#...' combined. "
   ]
  },
  {
   "cell_type": "code",
   "execution_count": 10,
   "metadata": {},
   "outputs": [
    {
     "data": {
      "text/plain": [
       "(13378, 21)"
      ]
     },
     "execution_count": 10,
     "metadata": {},
     "output_type": "execute_result"
    }
   ],
   "source": [
    "df_numeric = df_numeric.drop(living_space, axis=1) \n",
    "df_numeric['living_space'] = df_living_space['Space extracted'] \n",
    "df_numeric.shape"
   ]
  },
  {
   "cell_type": "markdown",
   "metadata": {},
   "source": [
    "Now the next question is, where did those 4 more rows come from?  \n",
    "In the dataset we have many redundant columns but we discovered a pattern for the above described columns. They are all extracted from different forms (mobile, desktop, different languages) of the website immoscout24.ch and the column names 'description', 'detailed_description', 'table', 'details', 'details_structured' suggest that they may contain raw data. "
   ]
  },
  {
   "cell_type": "markdown",
   "metadata": {},
   "source": [
    "# Description"
   ]
  },
  {
   "cell_type": "markdown",
   "metadata": {},
   "source": [
    "To get an idea of the information contained in the 'description' column, let's look at the `value_counts()`"
   ]
  },
  {
   "cell_type": "code",
   "execution_count": 11,
   "metadata": {},
   "outputs": [
    {
     "data": {
      "text/plain": [
       "4.5 rooms, 153 m²«Duplex dans les combles avec 2 terrasses !»CHF 686,700.—Favourite                                                                               4\n",
       "3.5 rooms, 98 m²«Belle promotion Minergie de 22 appartements au calme ! Du 2.5 pces au 4.5 pces !»CHF 495,000.—Favourite                                          4\n",
       "5.5 rooms, 153 m²«####Les Vergers d Ollon#### à Ollon VD Magnifique Villa Mitoyenne avec un grand jardin d environ 1 000 m2 à vendre»CHF 1,260,000.—Favourite     4\n",
       "5.5 rooms, 170 m²«NOUVELLE PROMOTION»CHF 1,795,000.—Favourite                                                                                                     4\n",
       "2.5 rooms, 82 m²«Quartier Saint-Michel Appartement 2.5 pces au 3e»CHF 492,000.—Favourite                                                                          3\n",
       "                                                                                                                                                                 ..\n",
       "3.5 rooms, 101 m²«LES 3 DERNIÈRES MAISONS DISPONIBLE»CHF 316,000.—Favourite                                                                                       1\n",
       "4.5 rooms, 115 m²«Maison atypique en ville historique de Porrentruy.»CHF 395,000.—Favourite                                                                       1\n",
       "6.5 rooms, 367 m²«Très jolie maison avec grand terrain et beaucoup de potentiel»CHF 595,000.—Favourite                                                            1\n",
       "4.5 rooms«4.5-Zimmer-Wohnung | Schachenweid»CHF 790,000.—FavouriteNew building projectThis property is part of the project ####Schachenweid####.To the project    1\n",
       "7.5 rooms, 385 m²«Wohnen an ruhiger, sonniger Wohnlage mit bester Aussicht»CHF 2,750,000.—Favourite                                                               1\n",
       "Name: description, Length: 13167, dtype: int64"
      ]
     },
     "execution_count": 11,
     "metadata": {},
     "output_type": "execute_result"
    }
   ],
   "source": [
    "df['description'].value_counts()"
   ]
  },
  {
   "cell_type": "markdown",
   "metadata": {},
   "source": [
    "Two things immediately stand out:\n",
    "- The same description (and maybe more features) have been recorded multiple times for some observations\n",
    "- There seems to be a distinctive pattern in the data contained in the 'description'-column.  \n",
    "\n",
    "Since we cannot inspect every column manually, we've built a regex matching group to check, if the structure of the data is consistent in all observations."
   ]
  },
  {
   "cell_type": "code",
   "execution_count": 12,
   "metadata": {},
   "outputs": [
    {
     "data": {
      "text/plain": [
       "13378"
      ]
     },
     "execution_count": 12,
     "metadata": {},
     "output_type": "execute_result"
    }
   ],
   "source": [
    "df['description'].count()"
   ]
  },
  {
   "cell_type": "code",
   "execution_count": 13,
   "metadata": {},
   "outputs": [
    {
     "data": {
      "text/plain": [
       "11201"
      ]
     },
     "execution_count": 13,
     "metadata": {},
     "output_type": "execute_result"
    }
   ],
   "source": [
    "description_pattern = '\\d+\\.?\\d? rooms, \\d+ m²«.+»CHF [\\d,]+\\.'\n",
    "df['description'].str.contains(description_pattern).sum()"
   ]
  },
  {
   "cell_type": "markdown",
   "metadata": {},
   "source": [
    "The column 'description' contains information for every observation in the dataset. 11201 of which follow the defined structure. What about the rest?"
   ]
  },
  {
   "cell_type": "code",
   "execution_count": 14,
   "metadata": {},
   "outputs": [
    {
     "data": {
      "text/plain": [
       "2177"
      ]
     },
     "execution_count": 14,
     "metadata": {},
     "output_type": "execute_result"
    }
   ],
   "source": [
    "is_structured = df['description'].str.contains(description_pattern)\n",
    "not_structured = is_structured[is_structured == False]\n",
    "not_structured.count()"
   ]
  },
  {
   "cell_type": "code",
   "execution_count": 15,
   "metadata": {},
   "outputs": [
    {
     "data": {
      "text/plain": [
       "7     4.5 rooms«Preishit! Grossräumige Wohnung mitte...\n",
       "15    258 m²«Mehrgenerationenhaus mit grossem Garten...\n",
       "21    4.5 rooms, 236 m²«Terrassenhaus mit malerische...\n",
       "22    167 m²«EFH 6.5 davon 1 Zi-Studio (Büro / Praxi...\n",
       "33    258 m²«Mehrgenerationenhaus mit grossem Garten...\n",
       "35    4.5 rooms«Preishit! Grossräumige Wohnung mitte...\n",
       "41    4.5 rooms, 150 m²«####Two in One#### mit Einli...\n",
       "44    7.5 rooms, 216 m²«Verzauberndes Generationenha...\n",
       "45    5 rooms, 104 m²«#### Top Einfamilienhaus einge...\n",
       "52    5.5 rooms, 160 m²«FAMILIENGLÜCK MIT VIEL PLATZ...\n",
       "Name: description, dtype: object"
      ]
     },
     "execution_count": 15,
     "metadata": {},
     "output_type": "execute_result"
    }
   ],
   "source": [
    "df.iloc[not_structured.index]['description'].head(10)"
   ]
  },
  {
   "cell_type": "markdown",
   "metadata": {},
   "source": [
    "So not every row of 'description' contains complete information about the rooms, living space and price. Let's check how it compares to the information contained in other columns in the dataset. \n",
    "\n",
    "## Rooms"
   ]
  },
  {
   "cell_type": "code",
   "execution_count": 16,
   "metadata": {},
   "outputs": [
    {
     "data": {
      "text/plain": [
       "11998"
      ]
     },
     "execution_count": 16,
     "metadata": {},
     "output_type": "execute_result"
    }
   ],
   "source": [
    "df['description'].str.contains('\\d+\\.?\\d? rooms, ').sum()\n",
    "#TODO"
   ]
  },
  {
   "cell_type": "markdown",
   "metadata": {},
   "source": [
    "11998 rows of rooms-data can be extracted from 'description'"
   ]
  },
  {
   "cell_type": "markdown",
   "metadata": {},
   "source": [
    "## Living Space"
   ]
  },
  {
   "cell_type": "code",
   "execution_count": 17,
   "metadata": {},
   "outputs": [
    {
     "data": {
      "text/plain": [
       "12304"
      ]
     },
     "execution_count": 17,
     "metadata": {},
     "output_type": "execute_result"
    }
   ],
   "source": [
    "df['description'].str.contains('\\d+ m²«').sum()"
   ]
  },
  {
   "cell_type": "markdown",
   "metadata": {},
   "source": [
    "Interesting, here we see the same count as before, when we merged all columns except 'Space extracted'. Is it actually the same information?"
   ]
  },
  {
   "cell_type": "code",
   "execution_count": 18,
   "metadata": {},
   "outputs": [
    {
     "data": {
      "text/plain": [
       "12304"
      ]
     },
     "execution_count": 18,
     "metadata": {},
     "output_type": "execute_result"
    }
   ],
   "source": [
    "df_living_space['extracted_ls'] = df['description'].str.extract('(\\d+) m²«')\n",
    "(df_living_space['extracted_ls'].astype(float) == df_living_space['living_space']).sum()"
   ]
  },
  {
   "cell_type": "code",
   "execution_count": 19,
   "metadata": {},
   "outputs": [
    {
     "data": {
      "text/html": [
       "<div>\n",
       "<style scoped>\n",
       "    .dataframe tbody tr th:only-of-type {\n",
       "        vertical-align: middle;\n",
       "    }\n",
       "\n",
       "    .dataframe tbody tr th {\n",
       "        vertical-align: top;\n",
       "    }\n",
       "\n",
       "    .dataframe thead th {\n",
       "        text-align: right;\n",
       "    }\n",
       "</style>\n",
       "<table border=\"1\" class=\"dataframe\">\n",
       "  <thead>\n",
       "    <tr style=\"text-align: right;\">\n",
       "      <th></th>\n",
       "      <th>Living space</th>\n",
       "      <th>Wohnfläche</th>\n",
       "      <th>Surface habitable</th>\n",
       "      <th>Superficie abitabile</th>\n",
       "      <th>detail_responsive#surface_living</th>\n",
       "      <th>Living_space_merged</th>\n",
       "      <th>Space extracted</th>\n",
       "      <th>living_space</th>\n",
       "      <th>extracted_ls</th>\n",
       "    </tr>\n",
       "  </thead>\n",
       "  <tbody>\n",
       "    <tr>\n",
       "      <th>786</th>\n",
       "      <td>NaN</td>\n",
       "      <td>NaN</td>\n",
       "      <td>NaN</td>\n",
       "      <td>NaN</td>\n",
       "      <td>NaN</td>\n",
       "      <td>NaN</td>\n",
       "      <td>200.0</td>\n",
       "      <td>200.0</td>\n",
       "      <td>NaN</td>\n",
       "    </tr>\n",
       "    <tr>\n",
       "      <th>3380</th>\n",
       "      <td>NaN</td>\n",
       "      <td>NaN</td>\n",
       "      <td>NaN</td>\n",
       "      <td>NaN</td>\n",
       "      <td>NaN</td>\n",
       "      <td>NaN</td>\n",
       "      <td>210.0</td>\n",
       "      <td>210.0</td>\n",
       "      <td>NaN</td>\n",
       "    </tr>\n",
       "    <tr>\n",
       "      <th>3696</th>\n",
       "      <td>NaN</td>\n",
       "      <td>NaN</td>\n",
       "      <td>NaN</td>\n",
       "      <td>NaN</td>\n",
       "      <td>NaN</td>\n",
       "      <td>NaN</td>\n",
       "      <td>228.0</td>\n",
       "      <td>228.0</td>\n",
       "      <td>NaN</td>\n",
       "    </tr>\n",
       "    <tr>\n",
       "      <th>6506</th>\n",
       "      <td>NaN</td>\n",
       "      <td>NaN</td>\n",
       "      <td>NaN</td>\n",
       "      <td>NaN</td>\n",
       "      <td>NaN</td>\n",
       "      <td>NaN</td>\n",
       "      <td>200.0</td>\n",
       "      <td>200.0</td>\n",
       "      <td>NaN</td>\n",
       "    </tr>\n",
       "  </tbody>\n",
       "</table>\n",
       "</div>"
      ],
      "text/plain": [
       "     Living space Wohnfläche Surface habitable Superficie abitabile  \\\n",
       "786           NaN        NaN               NaN                  NaN   \n",
       "3380          NaN        NaN               NaN                  NaN   \n",
       "3696          NaN        NaN               NaN                  NaN   \n",
       "6506          NaN        NaN               NaN                  NaN   \n",
       "\n",
       "     detail_responsive#surface_living Living_space_merged  Space extracted  \\\n",
       "786                               NaN                 NaN            200.0   \n",
       "3380                              NaN                 NaN            210.0   \n",
       "3696                              NaN                 NaN            228.0   \n",
       "6506                              NaN                 NaN            200.0   \n",
       "\n",
       "      living_space extracted_ls  \n",
       "786          200.0          NaN  \n",
       "3380         210.0          NaN  \n",
       "3696         228.0          NaN  \n",
       "6506         200.0          NaN  "
      ]
     },
     "execution_count": 19,
     "metadata": {},
     "output_type": "execute_result"
    }
   ],
   "source": [
    "df_living_space.loc[df_numeric['living_space'].notna() & df_living_space['extracted_ls'].isna(), :] "
   ]
  },
  {
   "cell_type": "markdown",
   "metadata": {},
   "source": [
    "Indeed! with this we have proven, that the column 'description' does not contain more information about the living space. But the question, where those 4 rows come from, remains unanswered for now.  \n",
    "\n",
    "## Price"
   ]
  },
  {
   "cell_type": "code",
   "execution_count": 20,
   "metadata": {},
   "outputs": [
    {
     "data": {
      "text/plain": [
       "12359"
      ]
     },
     "execution_count": 20,
     "metadata": {},
     "output_type": "execute_result"
    }
   ],
   "source": [
    "df['description'].str.contains('CHF [\\d.,]+').sum()"
   ]
  },
  {
   "cell_type": "markdown",
   "metadata": {},
   "source": [
    "We can extract 12359 rows of data containing information about the price. We'll keep that in mind and move forward.  \n",
    "\n",
    "# Detailed Description"
   ]
  },
  {
   "cell_type": "code",
   "execution_count": 21,
   "metadata": {},
   "outputs": [
    {
     "data": {
      "text/plain": [
       "Extract from the debt collection registerIn a few days by e-mail and by post at your home. Per invoice, for CHF 29.–Order the extract                                                                                                                                                                                                                                                                                                                                                                                                                                                                                                                                                                                                                                                                                                                                                                                                                                                                                                                                                                                                                                                                                                                                                                                                                                                                                                                                                                                                                                                                                                                                                                                                                                                                                                                                                                                                                                                                                                                                                                                                                                                                                                                                                                                                                                                                                                                                                                                                                                                                                                                                                                                                                                                                                                                                                                                                                                                                                                                                                                                                                                                                                                                                                                         41\n",
       "DescriptionWillkommen im Chürzi-ParkIm Quartier am Sonnenhang von Gelterkinden heissen Sie bald die Eigentumswohnungen ####Chürzi-Park#### willkommen. Hier entstehen grosszügige Wohnungen welche durch einen zeitlosen Stil und edle Materialisierung brillieren. Abgesehen von technischen Highlights wie der Tiefgarage mit zwei Autoliften ist im ####Chürzi-Park#### vor allem der Bezug zur Natur zu spüren. Die Erdgeschosswohnungen haben alle einen grossen Garten und für jede Wohnung ist Weitsicht in die grüne Hügellandschaft um Gelterkinden garantiert! Der ####Chürzi-Park#### entspricht den neuesten bautechnischen Ansprüchen und bietet trotz verdichteter Bauweise genügend Freiraum und Rückzugsmöglichkeit für ein angenehmes Zuhause.Wohnen, wohlfühlen, leben!Übersicht ProjektDas Projekt Chürzi-Park umfasst drei Gebäude mit je fünf Wohnungen an sonniger Lage in Gelterkinden.Die Erschliessung erfolgt über den ####Oberen Chürziweg#### Nebst Besucherparkplätzen befinden sich dort auch die Haupteingänge zu den Häusern sowie die Einstellhallenzufahrt via Autolift. Die Einstellhalle erstreckt sich unter dem gesamten ####Chürzi-Park#### und bietet jedem Eigentümer mindestens 2 Parkplätze.Zwischen den Gebäuden befinden sich Freizeitflächen mit Sitzgelegenheiten und Bepflanzung die zum Verweilen einlädt.Im Erd- und Obergeschoss befinden sich jeweils eine 3.5- und eine 4.5-Zimmer Wohnung. Die Wohnungen verfügen über einen grosszügigen Sitzplatz bzw. Loggia, welche durch eine Verglasung auch vor Regen und Wind geschützt ist. Auf dem gesamten Attikageschoss erstreckt sich eine luxuriöse 6.5-Zimmer Wohnung mit Terrasse über die ganze Gebäudelänge.Ein Autoeinstellplatz in der Tiefgarage ist im Kaufpreis inbegriffen. Zusätzlich kann ein weiterer Einstellplatz für CHF 38 000.00 erworben werden.Dieses Objekt können Sie per Videoanruf besichtigen.                                                                                                                                                                                                                                                                                                                                                                                                                                                                                                                                                                                                                                                                                                                                                                                                                                                                                                                                                                                                                                                                                                                                                                                                                                                                                                                                                                                  15\n",
       "DescriptionDie Überbauung ####Eichgarten#### in Pfeffikon Luzern, umfasst 15 Hauseinheiten mit eigenem Grundstück und einer Architektur die in diesem Preissegment seinesgleichen sucht! Wir haben uns zum Ziel gesetz, den Eigentümern dieser Häuser all das zu bieten, was ein Haus im anspruchsvollen Jahr 2022 bieten muss:massive Bauweise die auch zu einem späteren Zeitpunkt Ihren Bedürfnissen angepasst werden kannhochwertiger InnenausbauPhotovoltaikanlageTiefgarage für komplette Überbauung mit direktem HauszugangEigene Wärmepumpe mit Erdwärmegrosszügige Budgetpositionenund vieles mehr!!Der Baustart ist per Oktober / November 2022 geplant und im Juni 2024 können die Häuser bezogen werden. Sie entscheiden mitteils grosszügiger Budgetpositionen wie Ihr zukünftiges Haus aussehen wird. Ein professionelles Innenarchitektur Team unterstützt Sie bei bedarf gerne bei der Auswahl der Materialien. Das Innenleben wird nach Ihrem ####Gusto#### bemustert.Ganz nach dem Prinzip ####first come, first serve#### veräussert DK Homes & Investments ohne Bieterverfahren. Beeilen Sie sich und ergattern Sie eine der begehrten Häuser!Es het solangs het!                                                                                                                                                                                                                                                                                                                                                                                                                                                                                                                                                                                                                                                                                                                                                                                                                                                                                                                                                                                                                                                                                                                                                                                                                                                                                                                                                                                                                                                                                                                                                                                                                                                                                                                                                                                                                                                                                                                                                                                                                                                                                                                         13\n",
       "DescriptionMagnifiques logements du studio au 4.5 pces, jouissant d espaces lumineux dans un cadre champêtre et offrant le confort d une habitation contemporaine et chaleureuse.Des places de parc intérieures et extérieures sont à disposition (en sus).Début des travaux : automne 2022                                                                                                                                                                                                                                                                                                                                                                                                                                                                                                                                                                                                                                                                                                                                                                                                                                                                                                                                                                                                                                                                                                                                                                                                                                                                                                                                                                                                                                                                                                                                                                                                                                                                                                                                                                                                                                                                                                                                                                                                                                                                                                                                                                                                                                                                                                                                                                                                                                                                                                                                                                                                                                                                                                                                                                                                                                                                                                                                                                                                                   13\n",
       "DescriptionNaturverbundene Lebensqualität am Bodensee  Die Grundrisse sowie detaillierte Informationen zum Projekt ####Wohnen im Park#### in Salmsach finden Sie auf https://www.salmsach-park.ch/ oder in der umfassenden Dokumentation, die wir Ihnen auf Anfrage gerne zustellen.Inmitten eines Parks im Salmsach, nur fünf Fussminuten vom Bodenseeufer entfernt, entstehen sechs freistehende, zu drei Clustern komponierte Mehrfamilienhäuser. Diese bieten auf vier Wohngeschossen insgesamt 21 hochwertig ausgestattete 2½ bis 5½ -Zimmer-Eigentumswohnungen und werden in ökologisch wegweisender Holz-Hybridbauweise realisiert. Für ein optimales Wohnklima und modernes Wohnen im Einklang mit der Natur.Drei Gebäude, drei Namen, eine VisionAdventure - Balance - Courage. Die Namen der drei Dual-Gebäude sind Ausdruck unserer Vision von zukunftsorientiertem, ökologisch nachhaltigen Bauen, Leben und Wohnen. Die Architektur der Wohnüberbauung ist modern, integral - und begeisternd anders. Die Gebäude entstehen mitten im Park - für ein Leben im Einklang mit der Natur. Die Gebäude werden in Holz-Hybridbauweise errichtet - mit Mut zur Innovation, und weil Holzgebäude klare Vorteile bieten.Zentral, im Grünen, nahe am SeeDie im Süden von Romanshorn gelegene Gemeinde Salmsach ist der ideale Lebensort für aktive, naturbegeistere Familien, Paare und Individualisten. Das Dorf bezaubert mit viel Natur, dem milden Bodenseeklima, hohem Freizeitwert und besticht mit seiner ländlichen, aber doch zentralen Lage. Romanshorn und der Fährhafen sind nur einen Katzensprung entfernt und St.Gallen sowie Kreuzlingen und Konstanz liegen im 30-Minuten-Radius. Zudem existiert ein breites Bildungsangebot und der Kultur- und Freizeitwert der Bodenseeregion ist sprichwörtlich.Individuell, komfortabel, naturverbundenDie sechs freistehenden Gebäude sind über offene Zugangsbereiche zu drei Doppel-Clustern zusammengefasst, sehr hochwertig ausgestattet - und gehen auf Tuchfühlung mit der Natur des umliegenden Parks. Mit raumhohen Fenstern, einem ####Gartenzimmer####, mindestens drei Blickrichtungen sowie teilweise mit Balkon oder Terrasse. Zudem verfügt jede Wohnung dank der besonders cleveren Architektur über ihre eigenen vier Wände - für Diskretion und Komfort wie im Einfamilienhaus.Ökologisch, langlebig, wertstabilDie Gebäude von ####Wohnen im Park#### werden in innovativer Hybridbauweise errichtet. Dabei werden die 40 Stellplätze zählende Tiefgarage, von der aus alle Wohnungen direkt zugänglich sind, sowie die Keller-, Velo- und Technikräume aus Stahlbeton errichtet. Darüber, ab Niveau Umgebung, werden die Häuser im Systemholzbau realisiert ? aus regionalem Holz, dem ökologischsten und nachhaltigsten Baustoff. Das bietet zahlreiche Vorteile: Ein unerreicht natürliches Wohnklima, hervorragende Energieeffizienz, präzise Qualität sowie hohe Sicherheit und Wertbeständigkeit.Jetzt informierenReservieren Sie jetzt ihre Traumwohnung - und geniessen Sie schon bald das Leben am Ufer des Bodensees! An zentraler Lage mitten im Grünen, modern, nachhaltig, mit exzellentem Komfort und einem unübertrefflichen Wohnklima.Dieses Objekt können Sie per Videoanruf besichtigen.Further information    11\n",
       "                                                                                                                                                                                                                                                                                                                                                                                                                                                                                                                                                                                                                                                                                                                                                                                                                                                                                                                                                                                                                                                                                                                                                                                                                                                                                                                                                                                                                                                                                                                                                                                                                                                                                                                                                                                                                                                                                                                                                                                                                                                                                                                                                                                                                                                                                                                                                                                                                                                                                                                                                                                                                                                                                                                                                                                                                                                                                                                                                                                                                                                                                                                                                                                                                                                                                                              ..\n",
       "DescriptionNebst einem innovativen, modernen Wohnkonzept mit vielen Annehmlichkeiten und toller Lage welche durch gute Anschliessung die Eleganz und den Komfort noch weiter vorhebt. Der Extravagante fast 50m2 grosse Wohnraum: perfekt für alle, die sich nach den Vorzügen einer urbanen und dennoch ruhigen Umgebung sehnen.Hier werden also keine Wünsche offen gelassen. Profitieren Sie und überzeugen Sie sich selbst!Dieses PREMIUM HOMES Angebot bietet:Tageslicht mittels OblichtEinbauschränkediverse EinbauspotsEichenparkettDusche/WCKüche mit Glaskeramikherd und Kühlschrankund, und, und...Interessiert? Gerne führen wir Sie durch eine unverbindliche Besichtigung!Sie wollen Ihr Haus oder Ihre Wohnung sorgenfrei verkaufen?Wir sagen Ihnen den aktuellen Marktwert Ihrer Immobilie, diskret und unverbindlich!Haben Sie Interesse an einem ersten unverbindlichen Gedankenaustausch? Zögern Sie nicht und kontaktieren Sie uns.Wir freuen uns auf Sie.                                                                                                                                                                                                                                                                                                                                                                                                                                                                                                                                                                                                                                                                                                                                                                                                                                                                                                                                                                                                                                                                                                                                                                                                                                                                                                                                                                                                                                                                                                                                                                                                                                                                                                                                                                                                                                                                                                                                                                                                                                                                                                                                                                                                                                                                                                                                  1\n",
       "DescriptionWohnfläche: ca.53.54 m²Weitere Informationen und zusätzliche Bilder finden Sie unter folgendem Link: https://angebot.home-visit.ch/de/objects/detail/3779677Raumkonzept:UG:  KellerWaschen4.OG:  EingangKücheWohn-/Esszimmer1 ZimmerWC/BadBalkonTerrasseInteressiert? Kontaktieren Sie uns gerne für eine unverbindliche Besichtigung!Sie wollen Ihr Haus oder Ihre Wohnung sorgenfrei verkaufen, aber wissen nicht zu welchen Preis Sie es verkaufen können?Wir sagen Ihnen den aktuellen Marktwert Ihrer Immobilie, diskret und unverbindlich!Haben Sie Interesse an einem ersten kostenlosen und unverbindlichen Informationsgespräch?Zögern Sie nicht und kontaktieren Sie uns.Wir freuen uns auf Sie!Weitere Informationen und zusätzliche Bilder finden Sie unter folgendem Link: https://angebot.home-visit.ch/de/objects/detail/3779677Weitere Interessante Liegenschaften finden Sie unter: www.home-visit.chFurther information                                                                                                                                                                                                                                                                                                                                                                                                                                                                                                                                                                                                                                                                                                                                                                                                                                                                                                                                                                                                                                                                                                                                                                                                                                                                                                                                                                                                                                                                                                                                                                                                                                                                                                                                                                                                                                                                                                                                                                                                                                                                                                                                                                                                                                                                                                                                                           1\n",
       "DescriptionEin DEFH mit mehr als nur phänomenaler Aussicht...Hier in der Neuhushöhe an unverbaubarer Lage entsteht ein wunderschönes Doppeleinfamilienhaus mit zwei 5,5 Zimmer-Wohnungen und ca. je 127 m² beeindruckender Wohnfläche und 48m² Nebenflächen.Die nordwestlich ausgerichtete Wohnlage bietet eine tolle Weitsicht auf den Pilatus und überzeugt mit der perfekten Ausrichtung für eine ganztägige Besonnung.Die Räume sind hell, lichtdurchflutet und entsprechen einem unvergleichbaren modernen Wohnerlebnis.Über die Garage gelangt man direkt in den Keller, worin auch die Technik untergebracht ist. Zusätzlich gibt es einen separater Raum, der als Hobby-, Büro- oder Gästeraum genutzt werden kann. Ein Stockwerk hinauf auf der Erdgeschossebene, worin ebenfalls der offizelle Hauseingang von Aussen befindlich ist, finden sich drei weitere schöne Räumlichkeiten. Auf dem nächsten Zwischengeschoss befindet sich eine moderne Nasszelle mit Doppellavabo, Badewanne, WC und Dusche. Im Obergeschoss befindet sich die Wohn- Essküche und ein grosses Wohnzimmer.Luxus ist zudem, wer eine Aussentreppe benutzen kann, um auf das eigene begehbare Dach zu gelangen, bei der eine ca. 30m² grosse Terrasse überrascht und für unvergessliche Abende sorgt.Was Materialien und Geräte betrifft, sind wir offen für Ihre Wünsche und Vorstellungen und erledigen es über ein +/- zum Basispreis.Wenn Sie interessiert sind, freuen wir uns über Ihre Kontaktaufnahme. Herr Marcus Waldmeier gibt Ihnen gerne Auskunft und begleitet Sie durch die weiteren Schritte zu Ihrem neuen Wohntraum.Dieses Objekt können Sie per Videoanruf besichtigen.                                                                                                                                                                                                                                                                                                                                                                                                                                                                                                                                                                                                                                                                                                                                                                                                                                                                                                                                                                                                                                                                                                                                                                                                                                                                                                                                                                                                                                                                                                                                                                                                                                  1\n",
       "DescriptionAbsolute Ruhe und eine traumhafte Sicht auf den Vierwaldstättersee und die Zentralschweizer Voralpen sind hier garantiert. Der durchdachte Grundriss verteilt auf 3 Etagen verschafft eine individuelle Bühne für seine Bewohner. Grosszügige Räumlichkeiten mit edlen Materialien sind hier eine Selbstverständlichkeit. Der Innen- und Aussenraum dieses Wohnjuwels bilden einen faszinierenden Lebenstraum. Geniesser erfreuen sich ganz besonders über den privaten Fitnessraum mit Sauna, den eigenen Weinkeller sowie die wunderschön angelegte Gartenanlage mit Swimmingpool, ideal für ein gemütliches Sonnenbad. Lassen Sie sich von diesem exklusiven Anwesen verzaubern und schaffen Sie Ihre persönliche Wohlfühloase. Zwei zusätzliche Seeparzelle mit einem verbrieften Baderecht, ermöglichen Ihnen den Zugang zum Vierwaldstättersee.Highlights:Traumhafte und unverbaubare Sicht über den VierwaldstätterseeRuhiges und bevorzugtes WohnquartierIdyllisch und doch StadtnahTraumhafte GartenanlageHochwertiger InnenausbauWellnessbereich mit SaunaWhirlpool mit SeesichtPool mit GegenstromanlageBaderecht an einer SeeparzelleWeitere Informationen zum Objekt finden Sie auf unserer Website www.domba.ch. Fragen Sie uns nach dem ausführlichen Exposé oder kontaktieren Sie uns für eine unverbindliche Besichtigung. Frau Martina Knobel freut sich auf Ihre Kontaktaufnahme!Gerne weisen wir Sie drauf hin, dass wir jederzeit auch via Telefon, WhatsApp, FaceTime und E-Mail für Sie erreichbar sind.Martina Knobel041 418 08 55079 418 53 53martina.knobel@domba.ch                                                                                                                                                                                                                                                                                                                                                                                                                                                                                                                                                                                                                                                                                                                                                                                                                                                                                                                                                                                                                                                                                                                                                                                                                                                                                                                                                                                                                                                                                                                                                                                                                                                                                                      1\n",
       "DescriptionDas freistehende Einfamilienhaus an erhöhter und ruhiger Wohnlage ist von einem schön gestalteten Garten umgeben, in dem es diverse Aufenthaltsbereiche gibt. Bei herrlicher Aus- und Weitsicht ins Grüne und bis in die Stadt lässt es sich gut erholen. Die vielen Spaziermöglichkeiten in der Nähe laden in die Natur ein.Das schöne Haus besteht aus 2 Wohngeschossen mit diversen Neben- und Disporäumen und besticht durch seine praktische Grösse. Je nach Bedürfnissen kann das Innere noch nach Geschmack angepasst werden.Kommen Sie vorbei und überzeugen Sie sich selbt. Alle Details entnehmen Sie der angehängten Verkaufsdokumentation.                                                                                                                                                                                                                                                                                                                                                                                                                                                                                                                                                                                                                                                                                                                                                                                                                                                                                                                                                                                                                                                                                                                                                                                                                                                                                                                                                                                                                                                                                                                                                                                                                                                                                                                                                                                                                                                                                                                                                                                                                                                                                                                                                                                                                                                                                                                                                                                                                                                                                                                                                                                                                                              1\n",
       "Name: detailed_description, Length: 12543, dtype: int64"
      ]
     },
     "execution_count": 21,
     "metadata": {},
     "output_type": "execute_result"
    }
   ],
   "source": [
    "df['detailed_description'].value_counts()"
   ]
  },
  {
   "cell_type": "markdown",
   "metadata": {},
   "source": [
    "In this column we find, as the name suggests, the detailed description of the posting. This data does not follow any specific pattern and does not contain any reliable information on the features we are investigating in this notebook. Therefore we discard it.  \n",
    "With nlp techniques applied it may become useful for fine tuning predictions though. \n",
    "\n",
    "# Table"
   ]
  },
  {
   "cell_type": "code",
   "execution_count": 22,
   "metadata": {},
   "outputs": [
    {
     "data": {
      "text/plain": [
       "b <article class=####Box-cYFBPY hKrxoH####><h2 class=####Box-cYFBPY gZLPvm####>Main information</h2><table class=####DataTable__StyledTable-sc-1o2xig5-1 jbXaEC####><tbody><tr><td class=####DataTable__SimpleCell-sc-1o2xig5-2 DataTable__Cell-sc-1o2xig5-4 edrNfG dGBatU####>Municipality</td><td class=####DataTable__SimpleCell-sc-1o2xig5-2 DataTable__CellValue-sc-1o2xig5-3 edrNfG rJZBK####>Le Mouret</td></tr><tr><td class=####DataTable__SimpleCell-sc-1o2xig5-2 DataTable__Cell-sc-1o2xig5-4 edrNfG dGBatU####>Availability</td><td class=####DataTable__SimpleCell-sc-1o2xig5-2 DataTable__CellValue-sc-1o2xig5-3 edrNfG rJZBK####>On request</td></tr></tbody></table><hr class=####Divider-iprSaI bBhTLQ####/></article>                                                                                                                                                                                                                                                                                                                                                                                                                                                                                                                                                                                                                                                                                                                                                                                                                                                                                                                                                                                                                                                                                                                                                                                                                                                                                                                                                                                                                                                                                                                                                                                                                                                                                                                                                                                                                                                                                                                                                                                                                                                                                                                                                                                                                                                                                                                                                                                                                                                                                                                                                                                                                                                                                                                                                                                                                                                                                                                                                                                                                                                                                                                                                                                                                                                                                                                                                                                                                                                                                                                                                                                                                                                                                                                                                                                                                                                                                                     7\n",
       "b <article class=####Box-cYFBPY hKrxoH####><h2 class=####Box-cYFBPY gZLPvm####>Main information</h2><table class=####DataTable__StyledTable-sc-1o2xig5-1 jbXaEC####><tbody><tr><td class=####DataTable__SimpleCell-sc-1o2xig5-2 DataTable__Cell-sc-1o2xig5-4 edrNfG dGBatU####>Municipality</td><td class=####DataTable__SimpleCell-sc-1o2xig5-2 DataTable__CellValue-sc-1o2xig5-3 edrNfG rJZBK####>Lugano</td></tr><tr><td class=####DataTable__SimpleCell-sc-1o2xig5-2 DataTable__Cell-sc-1o2xig5-4 edrNfG dGBatU####>Floor</td><td class=####DataTable__SimpleCell-sc-1o2xig5-2 DataTable__CellValue-sc-1o2xig5-3 edrNfG rJZBK####>1. floor</td></tr><tr><td class=####DataTable__SimpleCell-sc-1o2xig5-2 DataTable__Cell-sc-1o2xig5-4 edrNfG dGBatU####>Availability</td><td class=####DataTable__SimpleCell-sc-1o2xig5-2 DataTable__CellValue-sc-1o2xig5-3 edrNfG rJZBK####>On request</td></tr></tbody></table><hr class=####Divider-iprSaI bBhTLQ####/></article>                                                                                                                                                                                                                                                                                                                                                                                                                                                                                                                                                                                                                                                                                                                                                                                                                                                                                                                                                                                                                                                                                                                                                                                                                                                                                                                                                                                                                                                                                                                                                                                                                                                                                                                                                                                                                                                                                                                                                                                                                                                                                                                                                                                                                                                                                                                                                                                                                                                                                                                                                                                                                                                                                                                                                                                                                                                                                                                                                                                                                                                                                                                                                                                                                                                                                                                                                                                                                                                                                                                                                                                                                                                                    6\n",
       "b <article class=####Box-cYFBPY hKrxoH####><h2 class=####Box-cYFBPY gZLPvm####>Main information</h2><table class=####DataTable__StyledTable-sc-1o2xig5-1 jbXaEC####><tbody><tr><td class=####DataTable__SimpleCell-sc-1o2xig5-2 DataTable__Cell-sc-1o2xig5-4 edrNfG dGBatU####>Municipality</td><td class=####DataTable__SimpleCell-sc-1o2xig5-2 DataTable__CellValue-sc-1o2xig5-3 edrNfG rJZBK####>Courrendlin</td></tr><tr><td class=####DataTable__SimpleCell-sc-1o2xig5-2 DataTable__Cell-sc-1o2xig5-4 edrNfG dGBatU####>Availability</td><td class=####DataTable__SimpleCell-sc-1o2xig5-2 DataTable__CellValue-sc-1o2xig5-3 edrNfG rJZBK####>On request</td></tr></tbody></table><hr class=####Divider-iprSaI bBhTLQ####/></article>                                                                                                                                                                                                                                                                                                                                                                                                                                                                                                                                                                                                                                                                                                                                                                                                                                                                                                                                                                                                                                                                                                                                                                                                                                                                                                                                                                                                                                                                                                                                                                                                                                                                                                                                                                                                                                                                                                                                                                                                                                                                                                                                                                                                                                                                                                                                                                                                                                                                                                                                                                                                                                                                                                                                                                                                                                                                                                                                                                                                                                                                                                                                                                                                                                                                                                                                                                                                                                                                                                                                                                                                                                                                                                                                                                                                                                                                                                   6\n",
       "b <article class=####Box-cYFBPY hKrxoH####><h2 class=####Box-cYFBPY gZLPvm####>Main information</h2><table class=####DataTable__StyledTable-sc-1o2xig5-1 jbXaEC####><tbody><tr><td class=####DataTable__SimpleCell-sc-1o2xig5-2 DataTable__Cell-sc-1o2xig5-4 edrNfG dGBatU####>Municipality</td><td class=####DataTable__SimpleCell-sc-1o2xig5-2 DataTable__CellValue-sc-1o2xig5-3 edrNfG rJZBK####>Lugano</td></tr><tr><td class=####DataTable__SimpleCell-sc-1o2xig5-2 DataTable__Cell-sc-1o2xig5-4 edrNfG dGBatU####>Availability</td><td class=####DataTable__SimpleCell-sc-1o2xig5-2 DataTable__CellValue-sc-1o2xig5-3 edrNfG rJZBK####>On request</td></tr></tbody></table><hr class=####Divider-iprSaI bBhTLQ####/></article>                                                                                                                                                                                                                                                                                                                                                                                                                                                                                                                                                                                                                                                                                                                                                                                                                                                                                                                                                                                                                                                                                                                                                                                                                                                                                                                                                                                                                                                                                                                                                                                                                                                                                                                                                                                                                                                                                                                                                                                                                                                                                                                                                                                                                                                                                                                                                                                                                                                                                                                                                                                                                                                                                                                                                                                                                                                                                                                                                                                                                                                                                                                                                                                                                                                                                                                                                                                                                                                                                                                                                                                                                                                                                                                                                                                                                                                                                                        6\n",
       "b <article class=####Box-cYFBPY hKrxoH####><h2 class=####Box-cYFBPY gZLPvm####>Main information</h2><table class=####DataTable__StyledTable-sc-1o2xig5-1 jbXaEC####><tbody><tr><td class=####DataTable__SimpleCell-sc-1o2xig5-2 DataTable__Cell-sc-1o2xig5-4 edrNfG dGBatU####>Municipality</td><td class=####DataTable__SimpleCell-sc-1o2xig5-2 DataTable__CellValue-sc-1o2xig5-3 edrNfG rJZBK####>Au (SG)</td></tr><tr><td class=####DataTable__SimpleCell-sc-1o2xig5-2 DataTable__Cell-sc-1o2xig5-4 edrNfG dGBatU####>Living space</td><td class=####DataTable__SimpleCell-sc-1o2xig5-2 DataTable__CellValue-sc-1o2xig5-3 edrNfG rJZBK####>154 m&#178;</td></tr><tr><td class=####DataTable__SimpleCell-sc-1o2xig5-2 DataTable__Cell-sc-1o2xig5-4 edrNfG dGBatU####>Availability</td><td class=####DataTable__SimpleCell-sc-1o2xig5-2 DataTable__CellValue-sc-1o2xig5-3 edrNfG rJZBK####>On request</td></tr></tbody></table><hr class=####Divider-iprSaI bBhTLQ####/></article>                                                                                                                                                                                                                                                                                                                                                                                                                                                                                                                                                                                                                                                                                                                                                                                                                                                                                                                                                                                                                                                                                                                                                                                                                                                                                                                                                                                                                                                                                                                                                                                                                                                                                                                                                                                                                                                                                                                                                                                                                                                                                                                                                                                                                                                                                                                                                                                                                                                                                                                                                                                                                                                                                                                                                                                                                                                                                                                                                                                                                                                                                                                                                                                                                                                                                                                                                                                                                                                                                                                                                                                                                                                         6\n",
       "                                                                                                                                                                                                                                                                                                                                                                                                                                                                                                                                                                                                                                                                                                                                                                                                                                                                                                                                                                                                                                                                                                                                                                                                                                                                                                                                                                                                                                                                                                                                                                                                                                                                                                                                                                                                                                                                                                                                                                                                                                                                                                                                                                                                                                                                                                                                                                                                                                                                                                                                                                                                                                                                                                                                                                                                                                                                                                                                                                                                                                                                                                                                                                                                                                                                                                                                                                                                                                                                                                                                                                                                                                                                                                                                                                                                                                                                                                                                                                                                                                                                                                                                                                                                                                                                                                                                                                                                                                                                                                                                                                                                                                           ..\n",
       "b <article class=####Box-cYFBPY hKrxoH####><h2 class=####Box-cYFBPY gZLPvm####>Main information</h2><table class=####DataTable__StyledTable-sc-1o2xig5-1 jbXaEC####><tbody><tr><td class=####DataTable__SimpleCell-sc-1o2xig5-2 DataTable__Cell-sc-1o2xig5-4 edrNfG dGBatU####>Municipality</td><td class=####DataTable__SimpleCell-sc-1o2xig5-2 DataTable__CellValue-sc-1o2xig5-3 edrNfG rJZBK####>Entlebuch</td></tr><tr><td class=####DataTable__SimpleCell-sc-1o2xig5-2 DataTable__Cell-sc-1o2xig5-4 edrNfG dGBatU####>Living space</td><td class=####DataTable__SimpleCell-sc-1o2xig5-2 DataTable__CellValue-sc-1o2xig5-3 edrNfG rJZBK####>130 m&#178;</td></tr><tr><td class=####DataTable__SimpleCell-sc-1o2xig5-2 DataTable__Cell-sc-1o2xig5-4 edrNfG dGBatU####>Floor</td><td class=####DataTable__SimpleCell-sc-1o2xig5-2 DataTable__CellValue-sc-1o2xig5-3 edrNfG rJZBK####>1. floor</td></tr><tr><td class=####DataTable__SimpleCell-sc-1o2xig5-2 DataTable__Cell-sc-1o2xig5-4 edrNfG dGBatU####>Availability</td><td class=####DataTable__SimpleCell-sc-1o2xig5-2 DataTable__CellValue-sc-1o2xig5-3 edrNfG rJZBK####>Immediately</td></tr></tbody></table><hr class=####Divider-iprSaI bBhTLQ####/></article>                                                                                                                                                                                                                                                                                                                                                                                                                                                                                                                                                                                                                                                                                                                                                                                                                                                                                                                                                                                                                                                                                                                                                                                                                                                                                                                                                                                                                                                                                                                                                                                                                                                                                                                                                                                                                                                                                                                                                                                                                                                                                                                                                                                                                                                                                                                                                                                                                                                                                                                                                                                                                                                                                                                                                                                                                                                                                                                                                                                                                                                                                                                                                                                                                                                                                                                                                                                                                  1\n",
       "b <article class=####Box-cYFBPY hKrxoH####><h2 class=####Box-cYFBPY gZLPvm####>Main information</h2><table class=####DataTable__StyledTable-sc-1o2xig5-1 jbXaEC####><tbody><tr><td class=####DataTable__SimpleCell-sc-1o2xig5-2 DataTable__Cell-sc-1o2xig5-4 edrNfG dGBatU####>Municipality</td><td class=####DataTable__SimpleCell-sc-1o2xig5-2 DataTable__CellValue-sc-1o2xig5-3 edrNfG rJZBK####>Entlebuch</td></tr><tr><td class=####DataTable__SimpleCell-sc-1o2xig5-2 DataTable__Cell-sc-1o2xig5-4 edrNfG dGBatU####>Living space</td><td class=####DataTable__SimpleCell-sc-1o2xig5-2 DataTable__CellValue-sc-1o2xig5-3 edrNfG rJZBK####>153 m&#178;</td></tr><tr><td class=####DataTable__SimpleCell-sc-1o2xig5-2 DataTable__Cell-sc-1o2xig5-4 edrNfG dGBatU####>Floor</td><td class=####DataTable__SimpleCell-sc-1o2xig5-2 DataTable__CellValue-sc-1o2xig5-3 edrNfG rJZBK####>1. floor</td></tr><tr><td class=####DataTable__SimpleCell-sc-1o2xig5-2 DataTable__Cell-sc-1o2xig5-4 edrNfG dGBatU####>Floor space</td><td class=####DataTable__SimpleCell-sc-1o2xig5-2 DataTable__CellValue-sc-1o2xig5-3 edrNfG rJZBK####>153 m&#178;</td></tr><tr><td class=####DataTable__SimpleCell-sc-1o2xig5-2 DataTable__Cell-sc-1o2xig5-4 edrNfG dGBatU####>Availability</td><td class=####DataTable__SimpleCell-sc-1o2xig5-2 DataTable__CellValue-sc-1o2xig5-3 edrNfG rJZBK####>On request</td></tr><tr class=####Box-cYFBPY fgkiRl####><td colspan=####2#### class=####DataTable__SimpleCell-sc-1o2xig5-2 DataTable__Cell-sc-1o2xig5-4 edrNfG fFglmV####><a href=####https://cis01.immoscout24.ch/is24media/f4/33/cff5a04644-220629.pdf#### target=####_blank#### rel=####noopener#### class=####Box-cYFBPY Link__Shell-kMBQAv ljXWtL hMCCae####><svg width=####24#### height=####24#### viewbox=####0 0 24 24#### fill=####none#### class=####Pdf__SvgPdf-fVqkQz jPOpoj####><path d=####M18 18v2H6v-2H4v4h16v-5l-2 1zM4 10V8l6-6h10v8h-2V4h-6v6H4zm6-5L7 8h3V5zm-2.042 7.386a2.131 2.131 0 00-1.405-1.228A6.203 6.203 0 005 11H4v6h1v-1.995a6.2 6.2 0 001.552-.159 2.131 2.131 0 001.406-1.227 2.756 2.756 0 000-1.233zM5.995 14L5 14.002V12h1s1.073 0 1.036 1a1.026 1.026 0 01-1.041 1zM19 12v-1h-4v6h1v-2h2v-1h-2v-2h3zm-5.033 1.886C13.927 11.931 12.79 11 10.913 11H9v6h1.913c1.877 0 3.014-.931 3.054-2.886v-.228zM11 16h-1v-4h1a1.789 1.789 0 012.003 2A1.788 1.788 0 0111 16z#### fill=#####333####/></svg>Verkaufsdokument 2021.12.22.pdf</a></td></tr><tr class=####Box-cYFBPY fgkiRl####><td colspan=####2#### class=####DataTable__SimpleCell-sc-1o2xig5-2 DataTable__Cell-sc-1o2xig5-4 edrNfG fFglmV####><a href=####https://cis01.immoscout24.ch/is24media/ea/7c/8e23ee2841-220629.pdf#### target=####_blank#### rel=####noopener#### class=####Box-cYFBPY Link__Shell-kMBQAv ljXWtL hMCCae####><svg width=####24#### height=####24#### viewbox=####0 0 24 24#### fill=####none#### class=####Pdf__SvgPdf-fVqkQz jPOpoj####><path d=####M18 18v2H6v-2H4v4h16v-5l-2 1zM4 10V8l6-6h10v8h-2V4h-6v6H4zm6-5L7 8h3V5zm-2.042 7.386a2.131 2.131 0 00-1.405-1.228A6.203 6.203 0 005 11H4v6h1v-1.995a6.2 6.2 0 001.552-.159 2.131 2.131 0 001.406-1.227 2.756 2.756 0 000-1.233zM5.995 14L5 14.002V12h1s1.073 0 1.036 1a1.026 1.026 0 01-1.041 1zM19 12v-1h-4v6h1v-2h2v-1h-2v-2h3zm-5.033 1.886C13.927 11.931 12.79 11 10.913 11H9v6h1.913c1.877 0 3.014-.931 3.054-2.886v-.228zM11 16h-1v-4h1a1.789 1.789 0 012.003 2A1.788 1.788 0 0111 16z#### fill=#####333####/></svg>Baubeschrieb.pdf</a></td></tr><tr class=####Box-cYFBPY fgkiRl####><td colspan=####2#### class=####DataTable__SimpleCell-sc-1o2xig5-2 DataTable__Cell-sc-1o2xig5-4 edrNfG fFglmV####><a href=####https://cis01.immoscout24.ch/is24media/b5/f5/21a82aa04f-220629.pdf#### target=####_blank#### rel=####noopener#### class=####Box-cYFBPY Link__Shell-kMBQAv ljXWtL hMCCae####><svg width=####24#### height=####24#### viewbox=####0 0 24 24#### fill=####none#### class=####Pdf__SvgPdf-fVqkQz jPOpoj####><path d=####M18 18v2H6v-2H4v4h16v-5l-2 1zM4 10V8l6-6h10v8h-2V4h-6v6H4zm6-5L7 8h3V5zm-2.042 7.386a2.131 2.131 0 00-1.405-1.228A6.203 6.203 0 005 11H4v6h1v-1.995a6.2 6.2 0 001.552-.159 2.131 2.131 0 001.406-1.227 2.756 2.756 0 000-1.233zM5.995 14L5 14.002V12h1s1.073 0 1.036 1a1.026 1.026 0 01-1.041 1zM19 12v-1h-4v6h1v-2h2v-1h-2v-2h3zm-5.033 1.886C13.927 11.931 12.79 11 10.913 11H9v6h1.913c1.877 0 3.014-.931 3.054-2.886v-.228zM11 16h-1v-4h1a1.789 1.789 0 012.003 2A1.788 1.788 0 0111 16z#### fill=#####333####/></svg>Allgemeines zum Kauf.pdf</a></td></tr></tbody></table><hr class=####Divider-iprSaI bBhTLQ####/></article>     1\n",
       "b <article class=####Box-cYFBPY hKrxoH####><h2 class=####Box-cYFBPY gZLPvm####>Main information</h2><table class=####DataTable__StyledTable-sc-1o2xig5-1 jbXaEC####><tbody><tr><td class=####DataTable__SimpleCell-sc-1o2xig5-2 DataTable__Cell-sc-1o2xig5-4 edrNfG dGBatU####>Municipality</td><td class=####DataTable__SimpleCell-sc-1o2xig5-2 DataTable__CellValue-sc-1o2xig5-3 edrNfG rJZBK####>Cornol</td></tr><tr><td class=####DataTable__SimpleCell-sc-1o2xig5-2 DataTable__Cell-sc-1o2xig5-4 edrNfG dGBatU####>Living space</td><td class=####DataTable__SimpleCell-sc-1o2xig5-2 DataTable__CellValue-sc-1o2xig5-3 edrNfG rJZBK####>300 m&#178;</td></tr><tr><td class=####DataTable__SimpleCell-sc-1o2xig5-2 DataTable__Cell-sc-1o2xig5-4 edrNfG dGBatU####>Availability</td><td class=####DataTable__SimpleCell-sc-1o2xig5-2 DataTable__CellValue-sc-1o2xig5-3 edrNfG rJZBK####>On request</td></tr></tbody></table><hr class=####Divider-iprSaI bBhTLQ####/></article>                                                                                                                                                                                                                                                                                                                                                                                                                                                                                                                                                                                                                                                                                                                                                                                                                                                                                                                                                                                                                                                                                                                                                                                                                                                                                                                                                                                                                                                                                                                                                                                                                                                                                                                                                                                                                                                                                                                                                                                                                                                                                                                                                                                                                                                                                                                                                                                                                                                                                                                                                                                                                                                                                                                                                                                                                                                                                                                                                                                                                                                                                                                                                                                                                                                                                                                                                                                                                                                                                                                                                                                                                                                          1\n",
       "b <article class=####Box-cYFBPY hKrxoH####><h2 class=####Box-cYFBPY gZLPvm####>Main information</h2><table class=####DataTable__StyledTable-sc-1o2xig5-1 jbXaEC####><tbody><tr><td class=####DataTable__SimpleCell-sc-1o2xig5-2 DataTable__Cell-sc-1o2xig5-4 edrNfG dGBatU####>Municipality</td><td class=####DataTable__SimpleCell-sc-1o2xig5-2 DataTable__CellValue-sc-1o2xig5-3 edrNfG rJZBK####>Boncourt</td></tr><tr><td class=####DataTable__SimpleCell-sc-1o2xig5-2 DataTable__Cell-sc-1o2xig5-4 edrNfG dGBatU####>Plot area</td><td class=####DataTable__SimpleCell-sc-1o2xig5-2 DataTable__CellValue-sc-1o2xig5-3 edrNfG rJZBK####>2941 m&#178;</td></tr><tr><td class=####DataTable__SimpleCell-sc-1o2xig5-2 DataTable__Cell-sc-1o2xig5-4 edrNfG dGBatU####>Availability</td><td class=####DataTable__SimpleCell-sc-1o2xig5-2 DataTable__CellValue-sc-1o2xig5-3 edrNfG rJZBK####>On request</td></tr></tbody></table><hr class=####Divider-iprSaI bBhTLQ####/></article>                                                                                                                                                                                                                                                                                                                                                                                                                                                                                                                                                                                                                                                                                                                                                                                                                                                                                                                                                                                                                                                                                                                                                                                                                                                                                                                                                                                                                                                                                                                                                                                                                                                                                                                                                                                                                                                                                                                                                                                                                                                                                                                                                                                                                                                                                                                                                                                                                                                                                                                                                                                                                                                                                                                                                                                                                                                                                                                                                                                                                                                                                                                                                                                                                                                                                                                                                                                                                                                                                                                                                                                                                                                          1\n",
       "b <article class=####Box-cYFBPY hKrxoH####><h2 class=####Box-cYFBPY gZLPvm####>Main information</h2><table class=####DataTable__StyledTable-sc-1o2xig5-1 jbXaEC####><tbody><tr><td class=####DataTable__SimpleCell-sc-1o2xig5-2 DataTable__Cell-sc-1o2xig5-4 edrNfG dGBatU####>Municipality</td><td class=####DataTable__SimpleCell-sc-1o2xig5-2 DataTable__CellValue-sc-1o2xig5-3 edrNfG rJZBK####>Winterthur</td></tr><tr><td class=####DataTable__SimpleCell-sc-1o2xig5-2 DataTable__Cell-sc-1o2xig5-4 edrNfG dGBatU####>Living space</td><td class=####DataTable__SimpleCell-sc-1o2xig5-2 DataTable__CellValue-sc-1o2xig5-3 edrNfG rJZBK####>385 m&#178;</td></tr><tr><td class=####DataTable__SimpleCell-sc-1o2xig5-2 DataTable__Cell-sc-1o2xig5-4 edrNfG dGBatU####>Plot area</td><td class=####DataTable__SimpleCell-sc-1o2xig5-2 DataTable__CellValue-sc-1o2xig5-3 edrNfG rJZBK####>1306 m&#178;</td></tr><tr><td class=####DataTable__SimpleCell-sc-1o2xig5-2 DataTable__Cell-sc-1o2xig5-4 edrNfG dGBatU####>Availability</td><td class=####DataTable__SimpleCell-sc-1o2xig5-2 DataTable__CellValue-sc-1o2xig5-3 edrNfG rJZBK####>Immediately</td></tr><tr class=####Box-cYFBPY fgkiRl####><td colspan=####2#### class=####DataTable__SimpleCell-sc-1o2xig5-2 DataTable__Cell-sc-1o2xig5-4 edrNfG fFglmV####><a href=####https://cis01.immoscout24.ch/is24media/64/82/e5669c254c-220815.pdf#### target=####_blank#### rel=####noopener#### class=####Box-cYFBPY Link__Shell-kMBQAv ljXWtL hMCCae####><svg width=####24#### height=####24#### viewbox=####0 0 24 24#### fill=####none#### class=####Pdf__SvgPdf-fVqkQz jPOpoj####><path d=####M18 18v2H6v-2H4v4h16v-5l-2 1zM4 10V8l6-6h10v8h-2V4h-6v6H4zm6-5L7 8h3V5zm-2.042 7.386a2.131 2.131 0 00-1.405-1.228A6.203 6.203 0 005 11H4v6h1v-1.995a6.2 6.2 0 001.552-.159 2.131 2.131 0 001.406-1.227 2.756 2.756 0 000-1.233zM5.995 14L5 14.002V12h1s1.073 0 1.036 1a1.026 1.026 0 01-1.041 1zM19 12v-1h-4v6h1v-2h2v-1h-2v-2h3zm-5.033 1.886C13.927 11.931 12.79 11 10.913 11H9v6h1.913c1.877 0 3.014-.931 3.054-2.886v-.228zM11 16h-1v-4h1a1.789 1.789 0 012.003 2A1.788 1.788 0 0111 16z#### fill=#####333####/></svg>Verkaufsdoku.pdf</a></td></tr></tbody></table><hr class=####Divider-iprSaI bBhTLQ####/></article>                                                                                                                                                                                                                                                                                                                                                                                                                                                                                                                                                                                                                                                                                                                                                                                                                                                                                                                                                                                                                                                                                                                                                                                                                                                                                                                                                                                                                                                                                                                                                                                                                                                                                                                                                                                                                                                                                                                                                                                                                                                                                                                                                                                                                                                                                                                                                           1\n",
       "Name: table, Length: 12713, dtype: int64"
      ]
     },
     "execution_count": 22,
     "metadata": {},
     "output_type": "execute_result"
    }
   ],
   "source": [
    "df['table'].value_counts()"
   ]
  },
  {
   "cell_type": "markdown",
   "metadata": {},
   "source": [
    "In this column, we see information about the Municipality, Living space, Plot area, Availability, Floor and so on. Maybe this is where our information originates from?\n",
    "\n",
    "## Living Space"
   ]
  },
  {
   "cell_type": "code",
   "execution_count": 23,
   "metadata": {},
   "outputs": [
    {
     "data": {
      "text/plain": [
       "11634"
      ]
     },
     "execution_count": 23,
     "metadata": {},
     "output_type": "execute_result"
    }
   ],
   "source": [
    "df['table'].str.contains('Living space').sum()"
   ]
  },
  {
   "cell_type": "markdown",
   "metadata": {},
   "source": [
    "Countwise we're well below the data we've gathered so far for the living space. "
   ]
  },
  {
   "cell_type": "code",
   "execution_count": 24,
   "metadata": {},
   "outputs": [
    {
     "data": {
      "text/plain": [
       "0"
      ]
     },
     "execution_count": 24,
     "metadata": {},
     "output_type": "execute_result"
    }
   ],
   "source": [
    "df_living_space['table_ls'] = df['table'].str.extract('Living space.+####>(\\d+) m').astype(float)\n",
    "df_living_space.loc[df_living_space['living_space'].isna() & df_living_space['table_ls'].notna(), 'living_space'].count()"
   ]
  },
  {
   "cell_type": "markdown",
   "metadata": {},
   "source": [
    "And this confirms, that we cannot extract any more information on the living space from the 'table' column. We'll now extract relevant variables for further investigation."
   ]
  },
  {
   "cell_type": "markdown",
   "metadata": {},
   "source": [
    "## Municipality"
   ]
  },
  {
   "cell_type": "code",
   "execution_count": 44,
   "metadata": {},
   "outputs": [
    {
     "data": {
      "text/plain": [
       "True"
      ]
     },
     "execution_count": 44,
     "metadata": {},
     "output_type": "execute_result"
    }
   ],
   "source": [
    "df['table'].str.contains('Municipality').sum() == df['Municipality'].count()"
   ]
  },
  {
   "cell_type": "code",
   "execution_count": 41,
   "metadata": {},
   "outputs": [
    {
     "data": {
      "text/html": [
       "<div>\n",
       "<style scoped>\n",
       "    .dataframe tbody tr th:only-of-type {\n",
       "        vertical-align: middle;\n",
       "    }\n",
       "\n",
       "    .dataframe tbody tr th {\n",
       "        vertical-align: top;\n",
       "    }\n",
       "\n",
       "    .dataframe thead th {\n",
       "        text-align: right;\n",
       "    }\n",
       "</style>\n",
       "<table border=\"1\" class=\"dataframe\">\n",
       "  <thead>\n",
       "    <tr style=\"text-align: right;\">\n",
       "      <th></th>\n",
       "      <th>table_municipality</th>\n",
       "      <th>Municipality</th>\n",
       "    </tr>\n",
       "  </thead>\n",
       "  <tbody>\n",
       "    <tr>\n",
       "      <th>4</th>\n",
       "      <td>K&amp;#252;ttigen</td>\n",
       "      <td>Küttigen</td>\n",
       "    </tr>\n",
       "    <tr>\n",
       "      <th>43</th>\n",
       "      <td>K&amp;#252;ttigen</td>\n",
       "      <td>Küttigen</td>\n",
       "    </tr>\n",
       "    <tr>\n",
       "      <th>47</th>\n",
       "      <td>K&amp;#252;ttigen</td>\n",
       "      <td>Küttigen</td>\n",
       "    </tr>\n",
       "    <tr>\n",
       "      <th>51</th>\n",
       "      <td>K&amp;#252;ttigen</td>\n",
       "      <td>Küttigen</td>\n",
       "    </tr>\n",
       "    <tr>\n",
       "      <th>55</th>\n",
       "      <td>K&amp;#252;ttigen</td>\n",
       "      <td>Küttigen</td>\n",
       "    </tr>\n",
       "    <tr>\n",
       "      <th>...</th>\n",
       "      <td>...</td>\n",
       "      <td>...</td>\n",
       "    </tr>\n",
       "    <tr>\n",
       "      <th>13291</th>\n",
       "      <td>F&amp;#228;llanden</td>\n",
       "      <td>Fällanden</td>\n",
       "    </tr>\n",
       "    <tr>\n",
       "      <th>13293</th>\n",
       "      <td>D&amp;#252;bendorf, Kreis 7 (Zurich)</td>\n",
       "      <td>Dübendorf, Kreis 7 (Zurich)</td>\n",
       "    </tr>\n",
       "    <tr>\n",
       "      <th>13295</th>\n",
       "      <td>F&amp;#228;llanden</td>\n",
       "      <td>Fällanden</td>\n",
       "    </tr>\n",
       "    <tr>\n",
       "      <th>13297</th>\n",
       "      <td>Z&amp;#252;rich, Kreis 6 (Zurich)</td>\n",
       "      <td>Zürich, Kreis 6 (Zurich)</td>\n",
       "    </tr>\n",
       "    <tr>\n",
       "      <th>13298</th>\n",
       "      <td>F&amp;#228;llanden</td>\n",
       "      <td>Fällanden</td>\n",
       "    </tr>\n",
       "  </tbody>\n",
       "</table>\n",
       "<p>462 rows × 2 columns</p>\n",
       "</div>"
      ],
      "text/plain": [
       "                     table_municipality                 Municipality\n",
       "4                         K&#252;ttigen                     Küttigen\n",
       "43                        K&#252;ttigen                     Küttigen\n",
       "47                        K&#252;ttigen                     Küttigen\n",
       "51                        K&#252;ttigen                     Küttigen\n",
       "55                        K&#252;ttigen                     Küttigen\n",
       "...                                 ...                          ...\n",
       "13291                    F&#228;llanden                    Fällanden\n",
       "13293  D&#252;bendorf, Kreis 7 (Zurich)  Dübendorf, Kreis 7 (Zurich)\n",
       "13295                    F&#228;llanden                    Fällanden\n",
       "13297     Z&#252;rich, Kreis 6 (Zurich)     Zürich, Kreis 6 (Zurich)\n",
       "13298                    F&#228;llanden                    Fällanden\n",
       "\n",
       "[462 rows x 2 columns]"
      ]
     },
     "execution_count": 41,
     "metadata": {},
     "output_type": "execute_result"
    }
   ],
   "source": [
    "df['table_municipality'] = df['table'].str.extract('Municipality<\\/td><td .+?####.+?####>(.+?)<')\n",
    "df.loc[df['table_municipality'].fillna('') != df['Municipality'].fillna(''), ['table_municipality', 'Municipality']]"
   ]
  },
  {
   "cell_type": "markdown",
   "metadata": {},
   "source": [
    "## Plot Area"
   ]
  },
  {
   "cell_type": "code",
   "execution_count": 43,
   "metadata": {},
   "outputs": [
    {
     "data": {
      "text/plain": [
       "True"
      ]
     },
     "execution_count": 43,
     "metadata": {},
     "output_type": "execute_result"
    }
   ],
   "source": [
    "df['table'].str.contains('Plot area').sum() == df['Plot area'].count()"
   ]
  },
  {
   "cell_type": "markdown",
   "metadata": {},
   "source": [
    "# Details"
   ]
  },
  {
   "cell_type": "code",
   "execution_count": 471,
   "metadata": {},
   "outputs": [
    {
     "data": {
      "text/plain": [
       "4.5 rooms, 120 m²,     135\n",
       "4.5 rooms, 110 m²,     132\n",
       "4.5 rooms,             120\n",
       "3.5 rooms, 100 m²,     111\n",
       "4.5 rooms, 100 m²,     102\n",
       "                      ... \n",
       "121 m²,                  1\n",
       "6 rooms, 132 m²,         1\n",
       "5.5 rooms, 340 m²,       1\n",
       "393 m²,                  1\n",
       "7.5 rooms, 385 m²,       1\n",
       "Name: details, Length: 2741, dtype: int64"
      ]
     },
     "execution_count": 471,
     "metadata": {},
     "output_type": "execute_result"
    }
   ],
   "source": [
    "df['details'].value_counts()"
   ]
  },
  {
   "cell_type": "markdown",
   "metadata": {},
   "source": [
    "It looks like we've got another column with information about the rooms and living space (or some other space). Let's extract and compare it.  \n",
    "\n",
    "## Living Space"
   ]
  },
  {
   "cell_type": "code",
   "execution_count": 472,
   "metadata": {},
   "outputs": [
    {
     "data": {
      "text/plain": [
       "12431"
      ]
     },
     "execution_count": 472,
     "metadata": {},
     "output_type": "execute_result"
    }
   ],
   "source": [
    "df_living_space['details_ls'] = df['details'].str.extract(', (\\d+) m').astype(float)\n",
    "df_living_space['details_ls'].count()"
   ]
  },
  {
   "cell_type": "markdown",
   "metadata": {},
   "source": [
    "This count is greater than the number before!"
   ]
  },
  {
   "cell_type": "code",
   "execution_count": 473,
   "metadata": {},
   "outputs": [
    {
     "data": {
      "text/html": [
       "<div>\n",
       "<style scoped>\n",
       "    .dataframe tbody tr th:only-of-type {\n",
       "        vertical-align: middle;\n",
       "    }\n",
       "\n",
       "    .dataframe tbody tr th {\n",
       "        vertical-align: top;\n",
       "    }\n",
       "\n",
       "    .dataframe thead th {\n",
       "        text-align: right;\n",
       "    }\n",
       "</style>\n",
       "<table border=\"1\" class=\"dataframe\">\n",
       "  <thead>\n",
       "    <tr style=\"text-align: right;\">\n",
       "      <th></th>\n",
       "      <th>Living space</th>\n",
       "      <th>Wohnfläche</th>\n",
       "      <th>Surface habitable</th>\n",
       "      <th>Superficie abitabile</th>\n",
       "      <th>detail_responsive#surface_living</th>\n",
       "      <th>Living_space_merged</th>\n",
       "      <th>Space extracted</th>\n",
       "      <th>living_space</th>\n",
       "      <th>extracted_ls</th>\n",
       "      <th>table_ls</th>\n",
       "      <th>details_ls</th>\n",
       "    </tr>\n",
       "  </thead>\n",
       "  <tbody>\n",
       "    <tr>\n",
       "      <th>53</th>\n",
       "      <td>NaN</td>\n",
       "      <td>NaN</td>\n",
       "      <td>NaN</td>\n",
       "      <td>NaN</td>\n",
       "      <td>NaN</td>\n",
       "      <td>NaN</td>\n",
       "      <td>NaN</td>\n",
       "      <td>NaN</td>\n",
       "      <td>NaN</td>\n",
       "      <td>NaN</td>\n",
       "      <td>95.0</td>\n",
       "    </tr>\n",
       "    <tr>\n",
       "      <th>88</th>\n",
       "      <td>NaN</td>\n",
       "      <td>NaN</td>\n",
       "      <td>NaN</td>\n",
       "      <td>NaN</td>\n",
       "      <td>NaN</td>\n",
       "      <td>NaN</td>\n",
       "      <td>NaN</td>\n",
       "      <td>NaN</td>\n",
       "      <td>NaN</td>\n",
       "      <td>NaN</td>\n",
       "      <td>284.0</td>\n",
       "    </tr>\n",
       "    <tr>\n",
       "      <th>141</th>\n",
       "      <td>NaN</td>\n",
       "      <td>NaN</td>\n",
       "      <td>NaN</td>\n",
       "      <td>NaN</td>\n",
       "      <td>NaN</td>\n",
       "      <td>NaN</td>\n",
       "      <td>NaN</td>\n",
       "      <td>NaN</td>\n",
       "      <td>NaN</td>\n",
       "      <td>NaN</td>\n",
       "      <td>114.0</td>\n",
       "    </tr>\n",
       "    <tr>\n",
       "      <th>182</th>\n",
       "      <td>NaN</td>\n",
       "      <td>NaN</td>\n",
       "      <td>NaN</td>\n",
       "      <td>NaN</td>\n",
       "      <td>NaN</td>\n",
       "      <td>NaN</td>\n",
       "      <td>NaN</td>\n",
       "      <td>NaN</td>\n",
       "      <td>NaN</td>\n",
       "      <td>NaN</td>\n",
       "      <td>259.0</td>\n",
       "    </tr>\n",
       "    <tr>\n",
       "      <th>186</th>\n",
       "      <td>NaN</td>\n",
       "      <td>NaN</td>\n",
       "      <td>NaN</td>\n",
       "      <td>NaN</td>\n",
       "      <td>NaN</td>\n",
       "      <td>NaN</td>\n",
       "      <td>NaN</td>\n",
       "      <td>NaN</td>\n",
       "      <td>NaN</td>\n",
       "      <td>NaN</td>\n",
       "      <td>259.0</td>\n",
       "    </tr>\n",
       "    <tr>\n",
       "      <th>...</th>\n",
       "      <td>...</td>\n",
       "      <td>...</td>\n",
       "      <td>...</td>\n",
       "      <td>...</td>\n",
       "      <td>...</td>\n",
       "      <td>...</td>\n",
       "      <td>...</td>\n",
       "      <td>...</td>\n",
       "      <td>...</td>\n",
       "      <td>...</td>\n",
       "      <td>...</td>\n",
       "    </tr>\n",
       "    <tr>\n",
       "      <th>13204</th>\n",
       "      <td>NaN</td>\n",
       "      <td>NaN</td>\n",
       "      <td>NaN</td>\n",
       "      <td>NaN</td>\n",
       "      <td>NaN</td>\n",
       "      <td>NaN</td>\n",
       "      <td>NaN</td>\n",
       "      <td>NaN</td>\n",
       "      <td>NaN</td>\n",
       "      <td>NaN</td>\n",
       "      <td>803.0</td>\n",
       "    </tr>\n",
       "    <tr>\n",
       "      <th>13207</th>\n",
       "      <td>NaN</td>\n",
       "      <td>NaN</td>\n",
       "      <td>NaN</td>\n",
       "      <td>NaN</td>\n",
       "      <td>NaN</td>\n",
       "      <td>NaN</td>\n",
       "      <td>NaN</td>\n",
       "      <td>NaN</td>\n",
       "      <td>NaN</td>\n",
       "      <td>NaN</td>\n",
       "      <td>1436.0</td>\n",
       "    </tr>\n",
       "    <tr>\n",
       "      <th>13278</th>\n",
       "      <td>NaN</td>\n",
       "      <td>NaN</td>\n",
       "      <td>NaN</td>\n",
       "      <td>NaN</td>\n",
       "      <td>NaN</td>\n",
       "      <td>NaN</td>\n",
       "      <td>NaN</td>\n",
       "      <td>NaN</td>\n",
       "      <td>NaN</td>\n",
       "      <td>NaN</td>\n",
       "      <td>345.0</td>\n",
       "    </tr>\n",
       "    <tr>\n",
       "      <th>13337</th>\n",
       "      <td>NaN</td>\n",
       "      <td>NaN</td>\n",
       "      <td>NaN</td>\n",
       "      <td>NaN</td>\n",
       "      <td>NaN</td>\n",
       "      <td>NaN</td>\n",
       "      <td>NaN</td>\n",
       "      <td>NaN</td>\n",
       "      <td>NaN</td>\n",
       "      <td>NaN</td>\n",
       "      <td>544.0</td>\n",
       "    </tr>\n",
       "    <tr>\n",
       "      <th>13374</th>\n",
       "      <td>NaN</td>\n",
       "      <td>NaN</td>\n",
       "      <td>NaN</td>\n",
       "      <td>NaN</td>\n",
       "      <td>NaN</td>\n",
       "      <td>NaN</td>\n",
       "      <td>NaN</td>\n",
       "      <td>NaN</td>\n",
       "      <td>NaN</td>\n",
       "      <td>NaN</td>\n",
       "      <td>284.0</td>\n",
       "    </tr>\n",
       "  </tbody>\n",
       "</table>\n",
       "<p>378 rows × 11 columns</p>\n",
       "</div>"
      ],
      "text/plain": [
       "      Living space Wohnfläche Surface habitable Superficie abitabile  \\\n",
       "53             NaN        NaN               NaN                  NaN   \n",
       "88             NaN        NaN               NaN                  NaN   \n",
       "141            NaN        NaN               NaN                  NaN   \n",
       "182            NaN        NaN               NaN                  NaN   \n",
       "186            NaN        NaN               NaN                  NaN   \n",
       "...            ...        ...               ...                  ...   \n",
       "13204          NaN        NaN               NaN                  NaN   \n",
       "13207          NaN        NaN               NaN                  NaN   \n",
       "13278          NaN        NaN               NaN                  NaN   \n",
       "13337          NaN        NaN               NaN                  NaN   \n",
       "13374          NaN        NaN               NaN                  NaN   \n",
       "\n",
       "      detail_responsive#surface_living Living_space_merged  Space extracted  \\\n",
       "53                                 NaN                 NaN              NaN   \n",
       "88                                 NaN                 NaN              NaN   \n",
       "141                                NaN                 NaN              NaN   \n",
       "182                                NaN                 NaN              NaN   \n",
       "186                                NaN                 NaN              NaN   \n",
       "...                                ...                 ...              ...   \n",
       "13204                              NaN                 NaN              NaN   \n",
       "13207                              NaN                 NaN              NaN   \n",
       "13278                              NaN                 NaN              NaN   \n",
       "13337                              NaN                 NaN              NaN   \n",
       "13374                              NaN                 NaN              NaN   \n",
       "\n",
       "       living_space extracted_ls  table_ls  details_ls  \n",
       "53              NaN          NaN       NaN        95.0  \n",
       "88              NaN          NaN       NaN       284.0  \n",
       "141             NaN          NaN       NaN       114.0  \n",
       "182             NaN          NaN       NaN       259.0  \n",
       "186             NaN          NaN       NaN       259.0  \n",
       "...             ...          ...       ...         ...  \n",
       "13204           NaN          NaN       NaN       803.0  \n",
       "13207           NaN          NaN       NaN      1436.0  \n",
       "13278           NaN          NaN       NaN       345.0  \n",
       "13337           NaN          NaN       NaN       544.0  \n",
       "13374           NaN          NaN       NaN       284.0  \n",
       "\n",
       "[378 rows x 11 columns]"
      ]
     },
     "execution_count": 473,
     "metadata": {},
     "output_type": "execute_result"
    }
   ],
   "source": [
    "df_living_space[df_living_space['details_ls'].notna() & df_living_space['living_space'].isna()]"
   ]
  },
  {
   "cell_type": "markdown",
   "metadata": {},
   "source": [
    "Okay, 378 rows with information, where 'living_space' is NA. But is this data even about living space?"
   ]
  },
  {
   "cell_type": "code",
   "execution_count": 474,
   "metadata": {},
   "outputs": [
    {
     "data": {
      "text/plain": [
       "12744"
      ]
     },
     "execution_count": 474,
     "metadata": {},
     "output_type": "execute_result"
    }
   ],
   "source": [
    "(df_living_space['details_ls'].fillna(0) == df_living_space['living_space'].fillna(0)).sum()"
   ]
  },
  {
   "cell_type": "code",
   "execution_count": 475,
   "metadata": {},
   "outputs": [
    {
     "data": {
      "text/html": [
       "<div>\n",
       "<style scoped>\n",
       "    .dataframe tbody tr th:only-of-type {\n",
       "        vertical-align: middle;\n",
       "    }\n",
       "\n",
       "    .dataframe tbody tr th {\n",
       "        vertical-align: top;\n",
       "    }\n",
       "\n",
       "    .dataframe thead th {\n",
       "        text-align: right;\n",
       "    }\n",
       "</style>\n",
       "<table border=\"1\" class=\"dataframe\">\n",
       "  <thead>\n",
       "    <tr style=\"text-align: right;\">\n",
       "      <th></th>\n",
       "      <th>details_ls</th>\n",
       "      <th>living_space</th>\n",
       "    </tr>\n",
       "  </thead>\n",
       "  <tbody>\n",
       "    <tr>\n",
       "      <th>15</th>\n",
       "      <td>NaN</td>\n",
       "      <td>258.0</td>\n",
       "    </tr>\n",
       "    <tr>\n",
       "      <th>22</th>\n",
       "      <td>NaN</td>\n",
       "      <td>167.0</td>\n",
       "    </tr>\n",
       "    <tr>\n",
       "      <th>33</th>\n",
       "      <td>NaN</td>\n",
       "      <td>258.0</td>\n",
       "    </tr>\n",
       "    <tr>\n",
       "      <th>53</th>\n",
       "      <td>95.0</td>\n",
       "      <td>NaN</td>\n",
       "    </tr>\n",
       "    <tr>\n",
       "      <th>57</th>\n",
       "      <td>NaN</td>\n",
       "      <td>167.0</td>\n",
       "    </tr>\n",
       "    <tr>\n",
       "      <th>...</th>\n",
       "      <td>...</td>\n",
       "      <td>...</td>\n",
       "    </tr>\n",
       "    <tr>\n",
       "      <th>13204</th>\n",
       "      <td>803.0</td>\n",
       "      <td>NaN</td>\n",
       "    </tr>\n",
       "    <tr>\n",
       "      <th>13207</th>\n",
       "      <td>1436.0</td>\n",
       "      <td>NaN</td>\n",
       "    </tr>\n",
       "    <tr>\n",
       "      <th>13278</th>\n",
       "      <td>345.0</td>\n",
       "      <td>NaN</td>\n",
       "    </tr>\n",
       "    <tr>\n",
       "      <th>13337</th>\n",
       "      <td>544.0</td>\n",
       "      <td>NaN</td>\n",
       "    </tr>\n",
       "    <tr>\n",
       "      <th>13374</th>\n",
       "      <td>284.0</td>\n",
       "      <td>NaN</td>\n",
       "    </tr>\n",
       "  </tbody>\n",
       "</table>\n",
       "<p>634 rows × 2 columns</p>\n",
       "</div>"
      ],
      "text/plain": [
       "       details_ls  living_space\n",
       "15            NaN         258.0\n",
       "22            NaN         167.0\n",
       "33            NaN         258.0\n",
       "53           95.0           NaN\n",
       "57            NaN         167.0\n",
       "...           ...           ...\n",
       "13204       803.0           NaN\n",
       "13207      1436.0           NaN\n",
       "13278       345.0           NaN\n",
       "13337       544.0           NaN\n",
       "13374       284.0           NaN\n",
       "\n",
       "[634 rows x 2 columns]"
      ]
     },
     "execution_count": 475,
     "metadata": {},
     "output_type": "execute_result"
    }
   ],
   "source": [
    "not_equal = df_living_space['details_ls'].fillna(0) != df_living_space['living_space'].fillna(0)\n",
    "df_living_space.loc[not_equal[not_equal == True].index, ['details_ls', 'living_space']]"
   ]
  },
  {
   "cell_type": "code",
   "execution_count": 476,
   "metadata": {},
   "outputs": [
    {
     "data": {
      "text/plain": [
       "12686"
      ]
     },
     "execution_count": 476,
     "metadata": {},
     "output_type": "execute_result"
    }
   ],
   "source": [
    "df_living_space.loc[df_living_space['details_ls'].notna() & df_living_space['living_space'].isna(), 'living_space'] = df_living_space.loc[df_living_space['details_ls'].notna() & df_living_space['living_space'].isna(), 'details_ls']\n",
    "df_living_space['living_space'].count()"
   ]
  },
  {
   "cell_type": "markdown",
   "metadata": {},
   "source": [
    "We could extract 378 more rows for the living space from 'details'.  \n",
    "\n",
    "## Rooms"
   ]
  },
  {
   "cell_type": "code",
   "execution_count": 477,
   "metadata": {},
   "outputs": [
    {
     "data": {
      "text/plain": [
       "12799"
      ]
     },
     "execution_count": 477,
     "metadata": {},
     "output_type": "execute_result"
    }
   ],
   "source": [
    "df['details'].str.contains('\\d+\\.?\\d? rooms, ').sum()\n",
    "#TODO"
   ]
  },
  {
   "cell_type": "markdown",
   "metadata": {},
   "source": [
    "# Details Structured"
   ]
  },
  {
   "cell_type": "code",
   "execution_count": 478,
   "metadata": {},
   "outputs": [
    {
     "data": {
      "text/plain": [
       "{'Municipality': 'Biberstein', 'Living space': '100 m²', 'Floor': '4. floor', 'Availability': 'On request', 'location': '5023 Biberstein, AG', 'description': '3.5 rooms, 100 m²«Luxuriöse Attika-Wohnung mit herrlicher Aussicht»CHF 1,150,000.—Favourite', 'detailed_description': 'DescriptionLuxuriöse Attika-Wohnung direkt an der Aare und angrenzend an die Landwirtschaftszone, mit unverbaubarer Weitsicht, grosszügiger Garage und Option auf ein zusätzliches Zimmer.Einzigartige Lage, top Aussicht und hochwertige Innenausstattung? Das alles bietet diese charmante Eigentumswohnung auf 100m2 im steuergünstigen Biberstein. Stadtnah gelegen und mit direktem Naturzugang sorgt sie für ein rundum angenehmes Wohngefühl.In der ganzen Wohnung sind hochwertige Materialien mit einem südländischen Touch verbaut. Der Boden ist mit einem Jurastein und die beiden Zimmer mit Holz versehen (mit Bodenheizung).In die Wohnung gelangt man über einen separaten Eingang, ein halbes Stockwerk vom gewachsenen Boden erhöht (kein gemeinsames Treppenhaus). Die grosse Terrasse (rund 70m2) öffnet nach Süden ein einzigartiges Panorama mit einem herrlichen Blick auf Natur, Aare und Alpen.Naturfreunde können von der Haustür direkt an die Aare oder in die Wälder gelangen. Zur Arbeit ist die Bushaltestelle nur 200m entfernt (Bahnhof Aarau ist innerhalb von wenigen Minuten erreichbar). Für die Fahrzeuge bestehen 3 Parkmöglichkeiten: Eine grosse Garage mit Fenster direkt unterhalb der Wohnung (Länge: 7m / Breite: 3m), ein Aussenparkplatz vor der Garage und daneben ein grosszügiger Carport.Die Wohnung zeichnet sich besonders durch ihren grosszügigen Wohn-/Essbereich mit einer bodentiefen Fensterfronst nach Süden aus. Vom Eingangsbereich mit Garderobe gelangt man auf beiden Seiten direkt in zwei separate Zimmer. Anschliessend findet sich links das ideal ausgestattete Badezimmer (Badewanne, Dusche, zwei Lavabos, elektrischer Handtuchwärmer, alles in hochwertiger Qualität - Villeroy&Boch/Granit/Jurastein/Murano-Glas). Die Küche ist grosszügig und halb offen zum Essbereich konzipiert. Zwischen dem Badezimmer und der Küche befindet sich ein grosser Abstellraum (fast 10m2) mit eigener Waschmaschine / Tumbler/Lavabo. Noch mehr Stauraum bietet ein grosszügiger Keller im Untergeschoss. Im Wohn-/Essbereich war ursprünglich ein weiteres Zimmer geplant, womit die Wohnung mit wenig Aufwand zu einer 4.5-Zimmer-Wohnung erweitert werden könnte.Neben der grossen Süd-Terrasse hat es einen weiteren Balkon Richtung Osten, wo sich das Frühstück wunderbar an der Morgensonne geniessen lässt. Die eingebaute Klimaanlage bietet zudem auch an heissen Sommertagen eine angenehme Raumtemperatur.Das Haus ist mit einer modernen, effizienten Ölheizung ausgestattet. Sie überzeugt mit einem sehr tiefen Verbrauch und wird jährlich per Serviceabonnement gewartet. Der wohnungseigene Warmwasser-Boiler fasst 300 Liter und ist ab Service.Es würde uns freuen, Ihnen diese einzigartige Wohnung an einem individuellen Besichtigungstermin vorzustellen.', 'url': 'https://www.immoscout24.ch//en/d/penthouse-buy-biberstein/7255200', 'table': 'b\\'<article class=\"Box-cYFBPY hKrxoH\"><h2 class=\"Box-cYFBPY gZLPvm\">Main information</h2><table class=\"DataTable__StyledTable-sc-1o2xig5-1 jbXaEC\"><tbody><tr><td class=\"DataTable__SimpleCell-sc-1o2xig5-2 DataTable__Cell-sc-1o2xig5-4 edrNfG dGBatU\">Municipality</td><td class=\"DataTable__SimpleCell-sc-1o2xig5-2 DataTable__CellValue-sc-1o2xig5-3 edrNfG rJZBK\">Biberstein</td></tr><tr><td class=\"DataTable__SimpleCell-sc-1o2xig5-2 DataTable__Cell-sc-1o2xig5-4 edrNfG dGBatU\">Living space</td><td class=\"DataTable__SimpleCell-sc-1o2xig5-2 DataTable__CellValue-sc-1o2xig5-3 edrNfG rJZBK\">100 m&#178;</td></tr><tr><td class=\"DataTable__SimpleCell-sc-1o2xig5-2 DataTable__Cell-sc-1o2xig5-4 edrNfG dGBatU\">Floor</td><td class=\"DataTable__SimpleCell-sc-1o2xig5-2 DataTable__CellValue-sc-1o2xig5-3 edrNfG rJZBK\">4. floor</td></tr><tr><td class=\"DataTable__SimpleCell-sc-1o2xig5-2 DataTable__Cell-sc-1o2xig5-4 edrNfG dGBatU\">Availability</td><td class=\"DataTable__SimpleCell-sc-1o2xig5-2 DataTable__CellValue-sc-1o2xig5-3 edrNfG rJZBK\">On request</td></tr><tr class=\"Box-cYFBPY fgkiRl\"><td colspan=\"2\" class=\"DataTable__SimpleCell-sc-1o2xig5-2 DataTable__Cell-sc-1o2xig5-4 edrNfG fFglmV\"><a href=\"https://cis01.immoscout24.ch/is24media/13/d5/2bb0f98746-220805.pdf\" target=\"_blank\" rel=\"noopener\" class=\"Box-cYFBPY Link__Shell-kMBQAv ljXWtL hMCCae\"><svg width=\"24\" height=\"24\" viewbox=\"0 0 24 24\" fill=\"none\" class=\"Pdf__SvgPdf-fVqkQz jPOpoj\"><path d=\"M18 18v2H6v-2H4v4h16v-5l-2 1zM4 10V8l6-6h10v8h-2V4h-6v6H4zm6-5L7 8h3V5zm-2.042 7.386a2.131 2.131 0 00-1.405-1.228A6.203 6.203 0 005 11H4v6h1v-1.995a6.2 6.2 0 001.552-.159 2.131 2.131 0 001.406-1.227 2.756 2.756 0 000-1.233zM5.995 14L5 14.002V12h1s1.073 0 1.036 1a1.026 1.026 0 01-1.041 1zM19 12v-1h-4v6h1v-2h2v-1h-2v-2h3zm-5.033 1.886C13.927 11.931 12.79 11 10.913 11H9v6h1.913c1.877 0 3.014-.931 3.054-2.886v-.228zM11 16h-1v-4h1a1.789 1.789 0 012.003 2A1.788 1.788 0 0111 16z\" fill=\"#333\"/></svg>A_Grundriss.pdf</a></td></tr></tbody></table><hr class=\"Divider-iprSaI bBhTLQ\"/></article>\\''}    2\n",
       "{'Municipality': 'Aarau', 'Living space': '152 m²', 'Plot area': '839 m²', 'Floor space': '132 m²', 'Availability': 'On request', 'location': 'Schönenwerderstrasse 545000 Aarau, AG', 'description': '5 rooms, 152 m²«RESERVIERT.»CHF 1,200,000.—Favourite', 'detailed_description': 'DescriptionDas im Jahr 1936 massiv in Beton erbaute, lichtdurchflutete Künstler-Atelier wurde 1957 zum Wohnhaus umgebaut, mit Innenhof und Anbau erweitert (zweischaliger Backstein) und Gartenmauer eingefriedet.Von 2008 bis 2020 wurde das Haus umfassend fachmännisch renoviert (Bäder, Küche, Parkett, Fenster, Rolläden, Wände), und auch das Flach- und das Giebeldach wurden von Grund auf erneuert. 2015 wurde eine neue Gasheizung mit einer Thermo- und Photovoltaik-Anlage kombiniert, 2017 ein Schwedenofen installiert.Mit zwei Hauseingängen ist das Gebäude auch für eine WG oder zwei Generationen geeignet.', 'url': 'https://www.immoscout24.ch//en/d/detached-house-buy-aarau/7257409', 'table': 'b\\'<article class=\"Box-cYFBPY hKrxoH\"><h2 class=\"Box-cYFBPY gZLPvm\">Main information</h2><table class=\"DataTable__StyledTable-sc-1o2xig5-1 jbXaEC\"><tbody><tr><td class=\"DataTable__SimpleCell-sc-1o2xig5-2 DataTable__Cell-sc-1o2xig5-4 edrNfG dGBatU\">Municipality</td><td class=\"DataTable__SimpleCell-sc-1o2xig5-2 DataTable__CellValue-sc-1o2xig5-3 edrNfG rJZBK\">Aarau</td></tr><tr><td class=\"DataTable__SimpleCell-sc-1o2xig5-2 DataTable__Cell-sc-1o2xig5-4 edrNfG dGBatU\">Living space</td><td class=\"DataTable__SimpleCell-sc-1o2xig5-2 DataTable__CellValue-sc-1o2xig5-3 edrNfG rJZBK\">152 m&#178;</td></tr><tr><td class=\"DataTable__SimpleCell-sc-1o2xig5-2 DataTable__Cell-sc-1o2xig5-4 edrNfG dGBatU\">Plot area</td><td class=\"DataTable__SimpleCell-sc-1o2xig5-2 DataTable__CellValue-sc-1o2xig5-3 edrNfG rJZBK\">839 m&#178;</td></tr><tr><td class=\"DataTable__SimpleCell-sc-1o2xig5-2 DataTable__Cell-sc-1o2xig5-4 edrNfG dGBatU\">Floor space</td><td class=\"DataTable__SimpleCell-sc-1o2xig5-2 DataTable__CellValue-sc-1o2xig5-3 edrNfG rJZBK\">132 m&#178;</td></tr><tr><td class=\"DataTable__SimpleCell-sc-1o2xig5-2 DataTable__Cell-sc-1o2xig5-4 edrNfG dGBatU\">Availability</td><td class=\"DataTable__SimpleCell-sc-1o2xig5-2 DataTable__CellValue-sc-1o2xig5-3 edrNfG rJZBK\">On request</td></tr></tbody></table><hr class=\"Divider-iprSaI bBhTLQ\"/></article>\\''}                                                                                                                                                                                                                                                                                                                                                                                                                                                                                                                                                                                                                                                                                                                                                                                                                                                                                                                                                                                                                                                                                                                                                                                                                                                                                                                                                                                                                                                                                                                                                                                                                                                                                                                                                                                                                                                                                                                                                                                                                                                                                                                                                                                                                                                                                                                                                                                                                                                                                                                                                                                                                                                                                                                                                                                                                                                                                                                                            2\n",
       "{'Municipality': 'Biberstein', 'Living space': '156 m²', 'Plot area': '222 m²', 'Floor space': '242 m²', 'Availability': 'On request', 'location': 'Buhldenstrasse 8d5023 Biberstein, AG', 'description': '4.5 rooms, 156 m²«Stilvolle Liegenschaft - ruhige Lage, unverbaubare Aussicht»CHF 1,420,000.—Favourite', 'detailed_description': 'DescriptionStilvolle Liegenschaft an ruhiger Lage mit unverbaubarer Aussicht in den JuraDiese hochwertige Liegenschaft mit Baujahr 2013 liegt an ruhiger Aussichtslage im steuergünstigen Biberstein. Die Liegenschaft präsentiert sich in neuwertigem Zustand. Die Materialisierung ist sehr stilvoll und der Ausbaustandard sehr hoch. Das ganze Haus verfügt über einen hochwertigen Eichenparkett (Echtholz) sowie Wände mit Gipsglattstrich und Küchengeräte der Marke V-Zug. Die Liegenschaft ist im Minergie Standard erstellt und zertifiziert.Das Haus eignet sich bestens für eine Familie oder ein Paar in Kombination mit Homeoffice. Es verfügt über eine Nettogeschossfläche (beheizte Wohnfläche) von 156.50m2 und eine Nutzfläche (inkl. Garage, Hobbyraum und Waschen/Trocknen/Technik) von 242.00m2.Erdgeschoss  Sie betreten das Haus über einen grosszügigen Eingangsbereich. Der grosse Garderobenschrank bietet Platz für die ganze Familie, Sporttaschen und vieles mehr.Vom Eingangsbereich gelangen Sie direkt in die übergrosse Garage (ca. 47.50m2). Zwei Autos finden mühelos darin Platz und im hinteren Teil der Garage verfügen Sie über zusätzlichen Raum um eine Werkstatt einzurichten oder Velos und Kinderwagen zu parkieren.Obergeschoss  Über die Sichtbetontreppe erreichen Sie das Obergeschoss. Die ganze Treppe gleicht einer Skulptur und der grosszügige Vorbereich führt zu den beiden Kinderzimmer. gegenüber befindet sich WC/Dusche und der Eingangsbereich in den Masterbedroom (Elternzimmer mit separater Ankleide und Bad).Fernen befindet sich auf diesem Geschoss der Hobbyraum (ca. 22.00m2) und dahinter liegend der Technikraum mit Waschmaschine und Tumbler (ca. 16.00m2).Das Haus wird mit einer eigenen Wärmepumpe (Luft-Wasser) beheizt und die Wärmeverteilung erfolgt über eine Fussbodenheizung. Zudem verfügt das Haus über eine eigene, kontrollierte Wohnungslüftung. Anschlüsse für eine Wasserentkalkung sind vorhanden.Attikageschoss  Im Attikageschoss befindet sich der offen Wohn-, Ess, und Kochbereich. Die Küche mit viel Stauraum verfügt über eine Chromstahlabdeckung, Topgeräte der Firma V-Zug (Induktionsherd, Backofen, Steamer, Geschirrwaschmaschine), einen grosse Kühlschrank sowie einen Dampfabzug. Der Küche direkt angegliedert ist ein Reduit. Der perfekte Raum für Vorräte und alles was nicht täglich in der Küche gebraucht wird.Dem Essbereich zugeordnet befindet sich die Ostterrasse (Morgensonne, ca. 25.00m2). Ein schön bepflanzter Gartenteil bildet den Abschluss.Die grosse Westterrasse (Mittag- und Abendsonne, ca. 52.50m2) erreichen Sie über den Wohnbereich. Die Aussicht in den nahen Jura ist phänomenal.Das ganze Haus verfügt über einen hochwertigen Eichenparkett (Echtholz) sowie Wände mit Gipsglattstrich.Haben wir Ihr Interesse geweckt?Gerne zeigen wir Ihnen diese stilvolle Liegenschaft unverbindlich vor Ort.', 'url': 'https://www.immoscout24.ch//en/d/terrace-house-buy-biberstein/7266694', 'table': 'b\\'<article class=\"Box-cYFBPY hKrxoH\"><h2 class=\"Box-cYFBPY gZLPvm\">Main information</h2><table class=\"DataTable__StyledTable-sc-1o2xig5-1 jbXaEC\"><tbody><tr><td class=\"DataTable__SimpleCell-sc-1o2xig5-2 DataTable__Cell-sc-1o2xig5-4 edrNfG dGBatU\">Municipality</td><td class=\"DataTable__SimpleCell-sc-1o2xig5-2 DataTable__CellValue-sc-1o2xig5-3 edrNfG rJZBK\">Biberstein</td></tr><tr><td class=\"DataTable__SimpleCell-sc-1o2xig5-2 DataTable__Cell-sc-1o2xig5-4 edrNfG dGBatU\">Living space</td><td class=\"DataTable__SimpleCell-sc-1o2xig5-2 DataTable__CellValue-sc-1o2xig5-3 edrNfG rJZBK\">156 m&#178;</td></tr><tr><td class=\"DataTable__SimpleCell-sc-1o2xig5-2 DataTable__Cell-sc-1o2xig5-4 edrNfG dGBatU\">Plot area</td><td class=\"DataTable__SimpleCell-sc-1o2xig5-2 DataTable__CellValue-sc-1o2xig5-3 edrNfG rJZBK\">222 m&#178;</td></tr><tr><td class=\"DataTable__SimpleCell-sc-1o2xig5-2 DataTable__Cell-sc-1o2xig5-4 edrNfG dGBatU\">Floor space</td><td class=\"DataTable__SimpleCell-sc-1o2xig5-2 DataTable__CellValue-sc-1o2xig5-3 edrNfG rJZBK\">242 m&#178;</td></tr><tr><td class=\"DataTable__SimpleCell-sc-1o2xig5-2 DataTable__Cell-sc-1o2xig5-4 edrNfG dGBatU\">Availability</td><td class=\"DataTable__SimpleCell-sc-1o2xig5-2 DataTable__CellValue-sc-1o2xig5-3 edrNfG rJZBK\">On request</td></tr></tbody></table><hr class=\"Divider-iprSaI bBhTLQ\"/></article>\\''}                                                                                                                                                                                                                                                                                                                                                                                                                                                                                                                                                           2\n",
       "{'Municipality': 'Erlinsbach (AG)', 'Living space': '228 m²', 'Plot area': '700 m²', 'Availability': 'On request', 'location': 'Erlenweg 45018 Erlinsbach, AG', 'description': '6.5 rooms, 228 m²«WOHNTRAUM - 6½-Zimmer-Einfamilienhaus an bester Lage!»CHF 1,990,000.—Favourite', 'detailed_description': 'DescriptionDieses traumhafte, moderne und grosszügige Haus wird voraussichtlich im 2023 erbaut. Aktuell ist das Baugesuch bei der Bauverwaltung eingereicht und wird bald publiziert. Somit besteht die Möglichkeit, beim kompletten Innenausbau, in gewissem Umfang, mit zu entscheiden.Ihr Haus liegt in einem ruhigen Quartier direkt am Rande eines Naherholungsgebiets und einem kleinen Bach. Sie schmiegen sich an einen sanften Hang; beide Häuser sind sehr gut besonnt. Die Höhe der Räume und die grosse Fensterfläche sorgen für eine freundliche, lichtdurchflutete Atmosphäre. Die grossflächigen Balkone und Gartensitzplätze können optional auch verglast werden. Besonderes Augenmerk lag beim Planen auf den grosszügig geschnittenen, praktischen Grundrissen, auf einer hohen Bauqualität und auf erstklassigen Einbauten, Geräten und Armaturen.Ein weiteres Highlight ist natürlich das grosse Grundstück mit ca. 700m2. Ausreichend Platz, für Kinder & Gartenliebhaber.', 'url': 'https://www.immoscout24.ch//en/d/detached-house-buy-erlinsbach/7221252', 'table': 'b\\'<article class=\"Box-cYFBPY hKrxoH\"><h2 class=\"Box-cYFBPY gZLPvm\">Main information</h2><table class=\"DataTable__StyledTable-sc-1o2xig5-1 jbXaEC\"><tbody><tr><td class=\"DataTable__SimpleCell-sc-1o2xig5-2 DataTable__Cell-sc-1o2xig5-4 edrNfG dGBatU\">Municipality</td><td class=\"DataTable__SimpleCell-sc-1o2xig5-2 DataTable__CellValue-sc-1o2xig5-3 edrNfG rJZBK\">Erlinsbach (AG)</td></tr><tr><td class=\"DataTable__SimpleCell-sc-1o2xig5-2 DataTable__Cell-sc-1o2xig5-4 edrNfG dGBatU\">Living space</td><td class=\"DataTable__SimpleCell-sc-1o2xig5-2 DataTable__CellValue-sc-1o2xig5-3 edrNfG rJZBK\">228 m&#178;</td></tr><tr><td class=\"DataTable__SimpleCell-sc-1o2xig5-2 DataTable__Cell-sc-1o2xig5-4 edrNfG dGBatU\">Plot area</td><td class=\"DataTable__SimpleCell-sc-1o2xig5-2 DataTable__CellValue-sc-1o2xig5-3 edrNfG rJZBK\">700 m&#178;</td></tr><tr><td class=\"DataTable__SimpleCell-sc-1o2xig5-2 DataTable__Cell-sc-1o2xig5-4 edrNfG dGBatU\">Availability</td><td class=\"DataTable__SimpleCell-sc-1o2xig5-2 DataTable__CellValue-sc-1o2xig5-3 edrNfG rJZBK\">On request</td></tr></tbody></table><hr class=\"Divider-iprSaI bBhTLQ\"/></article>\\''}                                                                                                                                                                                                                                                                                                                                                                                                                                                                                                                                                                                                                                                                                                                                                                                                                                                                                                                                                                                                                                                                                                                                                                                                                                                                                                                                                                                                                                                                                                                                                                                                                                                                                                                                                                                                                                                                                                                                                                                                                                                                                                                                                                                                                                                                                                                                                                                                                                                                                                                                                                                                                                                                                                                                                                      2\n",
       "{'Municipality': 'Buchs (AG)', 'Living space': '93 m²', 'Floor': 'Ground floor', 'Availability': 'On request', 'location': 'Trieschweg 265033 Buchs AG, AG', 'description': '3.5 rooms, 93 m²«Neuwertige 3½ Zimmer Parterre-Wohnung ? ideal als erstes Eigenheim»CHF 695,000.—Favourite', 'detailed_description': \"DescriptionIn dem im 2020 neu erbauten Trieschpark-Quartier in Buchs AG ist diese moderne Gartenwohnung zu verkaufen. Das Wohnquartier befindet sich an ruhiger und idealer Lage und ist doch verkehrstechnisch ideal gelegen. Kinder sind herzlich willkommen.Die Wohnung überzeug durch folgende Eckdaten:Praktischer Grundriss ? 93 m² WohnflächeOffene Küche mit KochinselBadezimmer en Suite mit Dusche/WCGästebad mit BadewanneReduit mit Waschmaschine/Tumbler in der WohnungOffene Einbaugarderobe im EntréeHelles Wohnzimmer mit grossen Fensterfronten und Zugang zum SitzplatzMorderner, zeitgemässer AusbaustandardEichenparkett im Wohn-/Esszimmer und in allen SchlafräumenGedeckter Gartensitzplatz 12 m²Mittag- und AbendsonneElektrische Lamellen- und SonnenstorenFussbodenheizungRollstuhlgängigKellerraum rund 10 m²Der ökologische Wohnkomfort wird durch die Ausführung im Minergie-P-Standard ? dem Gütesiegel für geringen Energiebedarf gewährt.Distanzen:Bushaltestelle Alterszentrum 500 mKindergarten Triesch: 200 mSchulanlage Risiacher: 400 mSchulhaus Suhrenmatte: 550 mEinkaufen: 1.4 km (Wynencenter)Autobahnanschluss:In 3 Min. ist die Schnellstrasse T5 mit Anschluss an die A1 zu erreichenPreisübersicht:3½\\xa0Zimmer-Parterre-Wohnung: CHF 695'000.-Parkplatz in der Tiefgarage: CHF 30'000.-Möglichkeit, eine Festhypothek zu 0.98% zu übernehmen (Laufzeit bis Februar 2030)Könnte dies Ihr zukünftiges Zuhause sein? Dann freuen wir uns auf Ihre Kontaktaufnahme.\", 'url': 'https://www.immoscout24.ch//en/d/flat-buy-buchs-ag/7295068', 'table': 'b\\'<article class=\"Box-cYFBPY hKrxoH\"><h2 class=\"Box-cYFBPY gZLPvm\">Main information</h2><table class=\"DataTable__StyledTable-sc-1o2xig5-1 jbXaEC\"><tbody><tr><td class=\"DataTable__SimpleCell-sc-1o2xig5-2 DataTable__Cell-sc-1o2xig5-4 edrNfG dGBatU\">Municipality</td><td class=\"DataTable__SimpleCell-sc-1o2xig5-2 DataTable__CellValue-sc-1o2xig5-3 edrNfG rJZBK\">Buchs (AG)</td></tr><tr><td class=\"DataTable__SimpleCell-sc-1o2xig5-2 DataTable__Cell-sc-1o2xig5-4 edrNfG dGBatU\">Living space</td><td class=\"DataTable__SimpleCell-sc-1o2xig5-2 DataTable__CellValue-sc-1o2xig5-3 edrNfG rJZBK\">93 m&#178;</td></tr><tr><td class=\"DataTable__SimpleCell-sc-1o2xig5-2 DataTable__Cell-sc-1o2xig5-4 edrNfG dGBatU\">Floor</td><td class=\"DataTable__SimpleCell-sc-1o2xig5-2 DataTable__CellValue-sc-1o2xig5-3 edrNfG rJZBK\">Ground floor</td></tr><tr><td class=\"DataTable__SimpleCell-sc-1o2xig5-2 DataTable__Cell-sc-1o2xig5-4 edrNfG dGBatU\">Availability</td><td class=\"DataTable__SimpleCell-sc-1o2xig5-2 DataTable__CellValue-sc-1o2xig5-3 edrNfG rJZBK\">On request</td></tr></tbody></table><hr class=\"Divider-iprSaI bBhTLQ\"/></article>\\''}                                                                                                                                                                                                                                                                                                                                                                                                                                                                                                                                                                                                                                                                                                                                                                                                                                                                                                                                                                                                                                                                                                                                                                                                                                                                                                                                                                                                                                                                                                                                                                                                                                                                                                                                                                                                                                                                                                                                                                                                                                                                                                                                                                                                                                                                       2\n",
       "                                                                                                                                                                                                                                                                                                                                                                                                                                                                                                                                                                                                                                                                                                                                                                                                                                                                                                                                                                                                                                                                                                                                                                                                                                                                                                                                                                                                                                                                                                                                                                                                                                                                                                                                                                                                                                                                                                                                                                                                                                                                                                                                                                                                                                                                                                                                                                                                                                                                                                                                                                                                                                                                                                                                                                                                                                                                                                                                                                                                                                                                                                                                                                                                                                                                                                                                                                                                                                                                                                                                                                                                                                                                                                                                                                                                                                                                                                                                                                                                                                                                                                                                                                                                                                                                                                                                                                                                                                                                                                                                                                                                                                                                                                                                                                                                                                                                                                                                                                                                                                                                                                                                                                                                                                                                                                                                                  ..\n",
       "{'Municipality': 'Werthenstein', 'Availability': 'On request', 'location': 'Bahnhofstrasse6105 Schachen LU, LU', 'description': '3.5 rooms«3.5-Zimmer-Wohnung | Schachenweid»CHF 630,000.—FavouriteNew building projectThis property is part of the project \"Schachenweid\".To the project', 'detailed_description': 'DescriptionOptimales Wohnen für vielseitige Bedürfnisse  Mit der ?Schachenweid? erhält die Gemeinde Werthenstein eine stilvolle Wohnüberbauung an attraktivster Lage, direkt neben dem Bahnhof Schachen. Hier, entstehen moderne Neubau Eigentumswohnungen für Singles, Paare und Familien. Insgesamt sind es 36 Wohnungen in den Grössen 2.5- bis 4.5-Zimmer.Ideale Grundrisse, moderne und zeitlose Innenausstattungen, ein eigener Kinderspielplatz sowie die direkte Anbindung an den Bahnhof Schachen machen die ?Schachenweid? zum optimalen Wohnort. Nebst der Einbettung in die grüne und kinderfreundliche Umgebung, punktet die Überbauung mit einer hochwertigen Wohnungsausstattung. Entsprechend finden sich nur werthaltige, zeitlose Materialien und energieeffiziente Geräte in dieser einzigartigen Liegenschaft. Sämtliche Wohnungen verfügen über eine eigene Waschmaschine sowie einen Tumbler.Diverse Einkaufs- und Sportmöglichkeiten finden Sie in unmittelbarer Gehdistanz, genauso wie der Kindergarten oder die Schule. Durch den direkten Bahnanschluss erreichen Sie alle Ziele der Schweiz, wie beispielsweise die Stadt Luzern in nur 15 Minuten. Natürlich hält die Überbauung noch viele weitere Details für Sie bereit.Verkaufsangebot:  6x 2.5-Zimmer-Wohnung | ab 65 m² | ab CHF 350000.0014x 3.5-Zimmer-Wohnung | ab 103 m² | ab CHF 505000.0016x 4.5-Zimmer-Wohnung | ab 134 m² | ab CHF 650000.00Einstellhallen-Parkplatz à CHF 35000.00Haben wir Ihr Interesse geweckt?Gerne erklären wir Ihnen bei einem unverbindlichen Gespräch das Projekt im Detail.Bei Fragen können Sie uns jederzeit kontaktieren.', 'url': 'https://www.immoscout24.ch//en/d/flat-buy-schachen-lu/7270211', 'table': 'b\\'<article class=\"Box-cYFBPY hKrxoH\"><h2 class=\"Box-cYFBPY gZLPvm\">Main information</h2><table class=\"DataTable__StyledTable-sc-1o2xig5-1 jbXaEC\"><tbody><tr><td class=\"DataTable__SimpleCell-sc-1o2xig5-2 DataTable__Cell-sc-1o2xig5-4 edrNfG dGBatU\">Municipality</td><td class=\"DataTable__SimpleCell-sc-1o2xig5-2 DataTable__CellValue-sc-1o2xig5-3 edrNfG rJZBK\">Werthenstein</td></tr><tr><td class=\"DataTable__SimpleCell-sc-1o2xig5-2 DataTable__Cell-sc-1o2xig5-4 edrNfG dGBatU\">Availability</td><td class=\"DataTable__SimpleCell-sc-1o2xig5-2 DataTable__CellValue-sc-1o2xig5-3 edrNfG rJZBK\">On request</td></tr></tbody></table><hr class=\"Divider-iprSaI bBhTLQ\"/></article>\\''}                                                                                                                                                                                                                                                                                                                                                                                                                                                                                                                                                                                                                                                                                                                                                                                                                                                                                                                                                                                                                                                                                                                                                                                                                                                                                                                                                                                                                                                                                                                                                                                                                                                                                                                                                                                                                                                                                                                                                                                                                                                                                                                                                                                                                                                                                                                                                                                                                                                                                                                                                                                         1\n",
       "{'Municipality': 'Boncourt', 'Living space': '101 m²', 'Plot area': '45 m²', 'Availability': 'On request', 'location': '2926 Boncourt, JU', 'description': '3.5 rooms, 101 m²«LES 3 DERNIÈRES MAISONS DISPONIBLE»CHF 316,000.—Favourite', 'detailed_description': \"DescriptionCharmante petite maison écologique et original. Vous rêvez d'une petite maison qui allie confort et écologie, ne manquez pas ce nouveau projet de 12 petite villa d'environ 100m2 avec sa terrasse un espace jardin et une place de parc. Ses maisons serons disponible dès mars 2021 information et plan sur demande. Minergie A, Une consommation pour le chauffage virtuellement inexistanteChaque maison aura son propre système photovoltaïqueChaque maison aura système de chauffage avec le système UNICO, des split capable de générer air chaude et air conditionnée pendant lété pour une gérance optimale de la temperature pendant toutes les périodes de lannée.Cette offre de BETTERHOMES se caractérise par les avantages suivants:charmanteécologiqueau calmeneuvedisponible dès mai 2022 plus que 3 maisons disponibleprix très intéressantIntéressé? Contactez-nous pour une visite sans engagement - visite en ligne également possible!Rien qui correspond? Vous trouverez plus de 2'300 autres objets sur: www.betterhomes.ch - Le spécialiste suisse des transactions immobilières.Vous avez un bien immobilier à commercialiser?Profitez de notre savoir-faire: https://www.betterhomes.ch/fr/profiterVous souhaitez connaître la valeur de votre bien immobilier?Découvrez sa valeur dès maintenant grâce à notre estimation gratuite, immédiate et sans engagement!https://www.betterhomes.ch/fr/knowledge/estimationPlus détailsSituation: au calme et idéalement situéSalles de bain: 1 (1x douche/baignoire/wc/lavabo)Transport publics: bus, 1 min. à piedEcole: école primaire et secondaire, 5 min. à piedCommerces: Coop et Migros, 500 mFurther information\", 'url': 'https://www.immoscout24.ch//en/d/detached-house-buy-boncourt/7272683', 'table': 'b\\'<article class=\"Box-cYFBPY hKrxoH\"><h2 class=\"Box-cYFBPY gZLPvm\">Main information</h2><table class=\"DataTable__StyledTable-sc-1o2xig5-1 jbXaEC\"><tbody><tr><td class=\"DataTable__SimpleCell-sc-1o2xig5-2 DataTable__Cell-sc-1o2xig5-4 edrNfG dGBatU\">Municipality</td><td class=\"DataTable__SimpleCell-sc-1o2xig5-2 DataTable__CellValue-sc-1o2xig5-3 edrNfG rJZBK\">Boncourt</td></tr><tr><td class=\"DataTable__SimpleCell-sc-1o2xig5-2 DataTable__Cell-sc-1o2xig5-4 edrNfG dGBatU\">Living space</td><td class=\"DataTable__SimpleCell-sc-1o2xig5-2 DataTable__CellValue-sc-1o2xig5-3 edrNfG rJZBK\">101 m&#178;</td></tr><tr><td class=\"DataTable__SimpleCell-sc-1o2xig5-2 DataTable__Cell-sc-1o2xig5-4 edrNfG dGBatU\">Plot area</td><td class=\"DataTable__SimpleCell-sc-1o2xig5-2 DataTable__CellValue-sc-1o2xig5-3 edrNfG rJZBK\">45 m&#178;</td></tr><tr><td class=\"DataTable__SimpleCell-sc-1o2xig5-2 DataTable__Cell-sc-1o2xig5-4 edrNfG dGBatU\">Availability</td><td class=\"DataTable__SimpleCell-sc-1o2xig5-2 DataTable__CellValue-sc-1o2xig5-3 edrNfG rJZBK\">On request</td></tr></tbody></table><hr class=\"Divider-iprSaI bBhTLQ\"/></article>\\''}                                                                                                                                                                                                                                                                                                                                                                                                                                                                                                                                                                                                                                                                                                                                                                                                                                                                                                                                                                                                                                                                                                                                                                                                                                                                                                                                                                                                                                                                                                                                                                                                                                                                                                                                                                                                                                                                                                                                                                                                                                                                                                                  1\n",
       "{'Municipality': 'Porrentruy', 'Living space': '115 m²', 'Plot area': '38 m²', 'Availability': 'Immediately', 'location': '2900 Porrentruy, JU', 'description': '4.5 rooms, 115 m²«Maison atypique en ville historique de Porrentruy.»CHF 395,000.—Favourite', 'detailed_description': \"DescriptionSur les hauteurs du centre historique se dresse une maison que l'on peut désigner comme une habitation typique de la ville ancienne. On peut l'habiter sur quatre étages qui sont reliés les uns aux autres par des escaliers de pierre en colimaçon. Les propriétaires précédents l'ont bien entretenue et rénovée. Les pierres apparentes dans l'entrée et dans la cage d'escaliers donnent à ce bâtiment une âme authentique. Au rez de chaussée se trouvent une entrée, un WC et une buanderie. Le premier étage, très chaleureux, est occupé par le séjour et la cuisine. A l'étage supérieur, deux chambres et une mezzanine complètent cette charmante demeure. La maison est chauffée par des poêles à pellets.Auf den Höhen des historischen Zentrums steht ein Haus, das als typisches Wohnhaus der Altstadt bezeichnet werden kann. Es kann auf vier Etagen bewohnt werden, die durch steinerne Wendeltreppen miteinander verbunden sind. Die Vorbesitzer haben es gut gepflegt und renoviert. Die freigelegten Steine im Eingangsbereich und im Treppenhaus verleihen diesem Gebäude eine authentische Seele. Im Erdgeschoss befinden sich ein Eingang, eine Toilette und eine Waschküche. Der erste Stock, sehr warm, wird vom Wohnzimmer und der Küche eingenommen. Im Obergeschoss vervollständigen zwei Schlafzimmer und ein Zwischengeschoss diese charmante Residenz. Das Haus wird mit Pelletöfen beheizt.Further information\", 'url': 'https://www.immoscout24.ch//en/d/detached-house-buy-porrentruy/7193252', 'table': 'b\\'<article class=\"Box-cYFBPY hKrxoH\"><h2 class=\"Box-cYFBPY gZLPvm\">Main information</h2><table class=\"DataTable__StyledTable-sc-1o2xig5-1 jbXaEC\"><tbody><tr><td class=\"DataTable__SimpleCell-sc-1o2xig5-2 DataTable__Cell-sc-1o2xig5-4 edrNfG dGBatU\">Municipality</td><td class=\"DataTable__SimpleCell-sc-1o2xig5-2 DataTable__CellValue-sc-1o2xig5-3 edrNfG rJZBK\">Porrentruy</td></tr><tr><td class=\"DataTable__SimpleCell-sc-1o2xig5-2 DataTable__Cell-sc-1o2xig5-4 edrNfG dGBatU\">Living space</td><td class=\"DataTable__SimpleCell-sc-1o2xig5-2 DataTable__CellValue-sc-1o2xig5-3 edrNfG rJZBK\">115 m&#178;</td></tr><tr><td class=\"DataTable__SimpleCell-sc-1o2xig5-2 DataTable__Cell-sc-1o2xig5-4 edrNfG dGBatU\">Plot area</td><td class=\"DataTable__SimpleCell-sc-1o2xig5-2 DataTable__CellValue-sc-1o2xig5-3 edrNfG rJZBK\">38 m&#178;</td></tr><tr><td class=\"DataTable__SimpleCell-sc-1o2xig5-2 DataTable__Cell-sc-1o2xig5-4 edrNfG dGBatU\">Availability</td><td class=\"DataTable__SimpleCell-sc-1o2xig5-2 DataTable__CellValue-sc-1o2xig5-3 edrNfG rJZBK\">Immediately</td></tr></tbody></table><hr class=\"Divider-iprSaI bBhTLQ\"/></article>\\''}                                                                                                                                                                                                                                                                                                                                                                                                                                                                                                                                                                                                                                                                                                                                                                                                                                                                                                                                                                                                                                                                                                                                                                                                                                                                                                                                                                                                                                                                                                                                                                                                                                                                                                                                                                                                                                                                                                                                                                                                                                                                                                                                                                                                                                                                                                                                    1\n",
       "{'Municipality': 'Cornol', 'Living space': '367 m²', 'Plot area': '911 m²', 'Availability': 'Immediately', 'location': 'Cornol2952 Cornol, JU', 'description': '6.5 rooms, 367 m²«Très jolie maison avec grand terrain et beaucoup de potentiel»CHF 595,000.—Favourite', 'detailed_description': \"DescriptionTrès jolie maison avec grand terrain et beaucoup de potentielIdéalement exposée et située dans un endroit très calme, cette jolie maison bénéficie d'un splendide environnement et d'un grand terrain. Les surfaces généreuses des pièces, le grand jardin réparti des 2 côtés de la maison, l'atelier de 50 m2, l'énorme potentiel d'aménagement du volume du grenier, le cachet de la maison ou les travaux effectués sont autant d'arguments qui vous séduiront. N'attendez pas pour demander une visite!Adresse exacte disponible après inscription sur neho.ch.VOUS SOUHAITEZ VISITER ? MERCI DE BIEN VOULOIR VOUS INSCRIRE D'ABORD : https://neho.ch/p/2952-22-1Sehr schönes Haus mit großem Grundstück und viel PotenzialDieses hübsche Haus ist ideal gelegen und befindet sich in einer sehr ruhigen Gegend. Es profitiert von einer herrlichen Umgebung und einem großen Grundstück. Die großzügigen Flächen der Zimmer, der große Garten auf beiden Seiten des Hauses, das 50 m2 große Atelier, das enorme Ausbaupotenzial des Dachbodens, der Charakter des Hauses und die durchgeführten Arbeiten sind allesamt Argumente, die Sie begeistern werden. Warten Sie nicht, um eine Besichtigung anzufordern!Genaue Adresse verfügbar nach Registrierung auf neho.ch.AN EINER BESICHTIGUNG INTERESSIERT? BITTE ANMELDEN: https://neho.ch/p/2952-22-1Very nice house with a large plot and a lot of potentialIdeally exposed and located in a very quiet area, this pretty house benefits from a splendid environment and a large plot of land. The generous surfaces of the rooms, the large garden on both sides of the house, the workshop of 50 m2, the enormous potential of development of the volume of the attic, the character of the house or the work carried out are as many arguments which will allure you. Do not wait to ask for a visit!Exact address available upon registration on neho.ch.INTERESTED IN VISITING THE PROPERTY? PLEASE REGISTER FIRST : https://neho.ch/p/2952-22-1Further information\", 'url': 'https://www.immoscout24.ch//en/d/detached-house-buy-cornol/7195073', 'table': 'b\\'<article class=\"Box-cYFBPY hKrxoH\"><h2 class=\"Box-cYFBPY gZLPvm\">Main information</h2><table class=\"DataTable__StyledTable-sc-1o2xig5-1 jbXaEC\"><tbody><tr><td class=\"DataTable__SimpleCell-sc-1o2xig5-2 DataTable__Cell-sc-1o2xig5-4 edrNfG dGBatU\">Municipality</td><td class=\"DataTable__SimpleCell-sc-1o2xig5-2 DataTable__CellValue-sc-1o2xig5-3 edrNfG rJZBK\">Cornol</td></tr><tr><td class=\"DataTable__SimpleCell-sc-1o2xig5-2 DataTable__Cell-sc-1o2xig5-4 edrNfG dGBatU\">Living space</td><td class=\"DataTable__SimpleCell-sc-1o2xig5-2 DataTable__CellValue-sc-1o2xig5-3 edrNfG rJZBK\">367 m&#178;</td></tr><tr><td class=\"DataTable__SimpleCell-sc-1o2xig5-2 DataTable__Cell-sc-1o2xig5-4 edrNfG dGBatU\">Plot area</td><td class=\"DataTable__SimpleCell-sc-1o2xig5-2 DataTable__CellValue-sc-1o2xig5-3 edrNfG rJZBK\">911 m&#178;</td></tr><tr><td class=\"DataTable__SimpleCell-sc-1o2xig5-2 DataTable__Cell-sc-1o2xig5-4 edrNfG dGBatU\">Availability</td><td class=\"DataTable__SimpleCell-sc-1o2xig5-2 DataTable__CellValue-sc-1o2xig5-3 edrNfG rJZBK\">Immediately</td></tr></tbody></table><hr class=\"Divider-iprSaI bBhTLQ\"/></article>\\''}                                                                                                                                                                                                                                                                                                                                                                                                                                                                                                                                                                                                                                                                                                                                                                                                                                                                                                                                                                                                                                                                                                                                                                                                                                                                                                                                                                                                                                                                                                                                                                                                                                                                                                                                                1\n",
       "{'Municipality': 'Winterthur', 'Living space': '385 m²', 'Plot area': '1306 m²', 'Availability': 'Immediately', 'location': 'Im Eichbühl 508405 Winterthur, ZH', 'description': '7.5 rooms, 385 m²«Wohnen an ruhiger, sonniger Wohnlage mit bester Aussicht»CHF 2,750,000.—Favourite', 'detailed_description': 'DescriptionDas freistehende Einfamilienhaus an erhöhter und ruhiger Wohnlage ist von einem schön gestalteten Garten umgeben, in dem es diverse Aufenthaltsbereiche gibt. Bei herrlicher Aus- und Weitsicht ins Grüne und bis in die Stadt lässt es sich gut erholen. Die vielen Spaziermöglichkeiten in der Nähe laden in die Natur ein.Das schöne Haus besteht aus 2 Wohngeschossen mit diversen Neben- und Disporäumen und besticht durch seine praktische Grösse. Je nach Bedürfnissen kann das Innere noch nach Geschmack angepasst werden.Kommen Sie vorbei und überzeugen Sie sich selbt. Alle Details entnehmen Sie der angehängten Verkaufsdokumentation.', 'url': 'https://www.immoscout24.ch//en/d/detached-house-buy-winterthur/7269251', 'table': 'b\\'<article class=\"Box-cYFBPY hKrxoH\"><h2 class=\"Box-cYFBPY gZLPvm\">Main information</h2><table class=\"DataTable__StyledTable-sc-1o2xig5-1 jbXaEC\"><tbody><tr><td class=\"DataTable__SimpleCell-sc-1o2xig5-2 DataTable__Cell-sc-1o2xig5-4 edrNfG dGBatU\">Municipality</td><td class=\"DataTable__SimpleCell-sc-1o2xig5-2 DataTable__CellValue-sc-1o2xig5-3 edrNfG rJZBK\">Winterthur</td></tr><tr><td class=\"DataTable__SimpleCell-sc-1o2xig5-2 DataTable__Cell-sc-1o2xig5-4 edrNfG dGBatU\">Living space</td><td class=\"DataTable__SimpleCell-sc-1o2xig5-2 DataTable__CellValue-sc-1o2xig5-3 edrNfG rJZBK\">385 m&#178;</td></tr><tr><td class=\"DataTable__SimpleCell-sc-1o2xig5-2 DataTable__Cell-sc-1o2xig5-4 edrNfG dGBatU\">Plot area</td><td class=\"DataTable__SimpleCell-sc-1o2xig5-2 DataTable__CellValue-sc-1o2xig5-3 edrNfG rJZBK\">1306 m&#178;</td></tr><tr><td class=\"DataTable__SimpleCell-sc-1o2xig5-2 DataTable__Cell-sc-1o2xig5-4 edrNfG dGBatU\">Availability</td><td class=\"DataTable__SimpleCell-sc-1o2xig5-2 DataTable__CellValue-sc-1o2xig5-3 edrNfG rJZBK\">Immediately</td></tr><tr class=\"Box-cYFBPY fgkiRl\"><td colspan=\"2\" class=\"DataTable__SimpleCell-sc-1o2xig5-2 DataTable__Cell-sc-1o2xig5-4 edrNfG fFglmV\"><a href=\"https://cis01.immoscout24.ch/is24media/64/82/e5669c254c-220815.pdf\" target=\"_blank\" rel=\"noopener\" class=\"Box-cYFBPY Link__Shell-kMBQAv ljXWtL hMCCae\"><svg width=\"24\" height=\"24\" viewbox=\"0 0 24 24\" fill=\"none\" class=\"Pdf__SvgPdf-fVqkQz jPOpoj\"><path d=\"M18 18v2H6v-2H4v4h16v-5l-2 1zM4 10V8l6-6h10v8h-2V4h-6v6H4zm6-5L7 8h3V5zm-2.042 7.386a2.131 2.131 0 00-1.405-1.228A6.203 6.203 0 005 11H4v6h1v-1.995a6.2 6.2 0 001.552-.159 2.131 2.131 0 001.406-1.227 2.756 2.756 0 000-1.233zM5.995 14L5 14.002V12h1s1.073 0 1.036 1a1.026 1.026 0 01-1.041 1zM19 12v-1h-4v6h1v-2h2v-1h-2v-2h3zm-5.033 1.886C13.927 11.931 12.79 11 10.913 11H9v6h1.913c1.877 0 3.014-.931 3.054-2.886v-.228zM11 16h-1v-4h1a1.789 1.789 0 012.003 2A1.788 1.788 0 0111 16z\" fill=\"#333\"/></svg>Verkaufsdoku.pdf</a></td></tr></tbody></table><hr class=\"Divider-iprSaI bBhTLQ\"/></article>\\''}                                                                                                                                                                                                                                                                                                                                                                                                                                                                                                                                                                                                                                                                                                                                                                                                                                                                                                                                                                                                                                                                                                                                                                                                                                                                                                                                                                                                                                                                                                                                                                                                                                                                                                                                                                                                                                                                                                                                                                                                                                                                                                                                          1\n",
       "Name: details_structured, Length: 13358, dtype: int64"
      ]
     },
     "execution_count": 478,
     "metadata": {},
     "output_type": "execute_result"
    }
   ],
   "source": [
    "df['details_structured'].value_counts()"
   ]
  },
  {
   "cell_type": "markdown",
   "metadata": {},
   "source": [
    "Municipality, Living space, Plot area, Availability, location, description, detailed_description, url, table, Floor space, Floor"
   ]
  },
  {
   "cell_type": "code",
   "execution_count": 45,
   "metadata": {},
   "outputs": [
    {
     "data": {
      "text/plain": [
       "True"
      ]
     },
     "execution_count": 45,
     "metadata": {},
     "output_type": "execute_result"
    }
   ],
   "source": [
    "df['details_structured'].str.contains(\"'Municipality'\").sum() == df['Municipality'].count()"
   ]
  },
  {
   "cell_type": "code",
   "execution_count": 47,
   "metadata": {},
   "outputs": [
    {
     "data": {
      "text/plain": [
       "True"
      ]
     },
     "execution_count": 47,
     "metadata": {},
     "output_type": "execute_result"
    }
   ],
   "source": [
    "df['details_structured'].str.contains(\"'Living space'\").sum() == df['Living space'].count()"
   ]
  },
  {
   "cell_type": "code",
   "execution_count": 482,
   "metadata": {},
   "outputs": [
    {
     "data": {
      "text/plain": [
       "4696"
      ]
     },
     "execution_count": 482,
     "metadata": {},
     "output_type": "execute_result"
    }
   ],
   "source": [
    "df['details_structured'].str.contains(\"'Plot area'\").sum()"
   ]
  },
  {
   "cell_type": "code",
   "execution_count": 488,
   "metadata": {},
   "outputs": [
    {
     "data": {
      "text/plain": [
       "2780"
      ]
     },
     "execution_count": 488,
     "metadata": {},
     "output_type": "execute_result"
    }
   ],
   "source": [
    "df['details_structured'].str.contains(\"'Floor space'\").sum()"
   ]
  },
  {
   "cell_type": "code",
   "execution_count": 483,
   "metadata": {},
   "outputs": [
    {
     "data": {
      "text/plain": [
       "12663"
      ]
     },
     "execution_count": 483,
     "metadata": {},
     "output_type": "execute_result"
    }
   ],
   "source": [
    "df['details_structured'].str.contains(\"'Availability'\").sum()"
   ]
  },
  {
   "cell_type": "code",
   "execution_count": 484,
   "metadata": {},
   "outputs": [
    {
     "data": {
      "text/plain": [
       "13378"
      ]
     },
     "execution_count": 484,
     "metadata": {},
     "output_type": "execute_result"
    }
   ],
   "source": [
    "df['details_structured'].str.contains(\"'location'\").sum()"
   ]
  },
  {
   "cell_type": "code",
   "execution_count": 485,
   "metadata": {},
   "outputs": [
    {
     "data": {
      "text/plain": [
       "13378"
      ]
     },
     "execution_count": 485,
     "metadata": {},
     "output_type": "execute_result"
    }
   ],
   "source": [
    "df['details_structured'].str.contains(\"'description'\").sum()"
   ]
  },
  {
   "cell_type": "code",
   "execution_count": 486,
   "metadata": {},
   "outputs": [
    {
     "data": {
      "text/plain": [
       "13378"
      ]
     },
     "execution_count": 486,
     "metadata": {},
     "output_type": "execute_result"
    }
   ],
   "source": [
    "df['details_structured'].str.contains(\"'detailed_description'\").sum()"
   ]
  },
  {
   "cell_type": "code",
   "execution_count": 487,
   "metadata": {},
   "outputs": [
    {
     "data": {
      "text/plain": [
       "13378"
      ]
     },
     "execution_count": 487,
     "metadata": {},
     "output_type": "execute_result"
    }
   ],
   "source": [
    "df['details_structured'].str.contains(\"'url'\").sum()"
   ]
  },
  {
   "cell_type": "code",
   "execution_count": 489,
   "metadata": {},
   "outputs": [
    {
     "data": {
      "text/plain": [
       "13378"
      ]
     },
     "execution_count": 489,
     "metadata": {},
     "output_type": "execute_result"
    }
   ],
   "source": [
    "df['details_structured'].str.contains(\"'table'\").sum()"
   ]
  },
  {
   "cell_type": "code",
   "execution_count": 490,
   "metadata": {},
   "outputs": [
    {
     "data": {
      "text/plain": [
       "5315"
      ]
     },
     "execution_count": 490,
     "metadata": {},
     "output_type": "execute_result"
    }
   ],
   "source": [
    "df['details_structured'].str.contains(\"'Floor'\").sum()"
   ]
  },
  {
   "cell_type": "markdown",
   "metadata": {},
   "source": [
    "## Plot Area"
   ]
  },
  {
   "cell_type": "code",
   "execution_count": 187,
   "metadata": {},
   "outputs": [
    {
     "data": {
      "text/plain": [
       "Plot area                             False\n",
       "Grundstücksfläche                     False\n",
       "Surface du terrain                    False\n",
       "Superficie del terreno                 True\n",
       "detail_responsive#surface_property    False\n",
       "dtype: bool"
      ]
     },
     "execution_count": 187,
     "metadata": {},
     "output_type": "execute_result"
    }
   ],
   "source": [
    "plot_area = ['Plot area', 'Grundstücksfläche', 'Surface du terrain', 'Superficie del terreno', 'detail_responsive#surface_property', 'Plot_area_merged']\n",
    "df_plot_area = df_numeric[plot_area]\n",
    "\n",
    "df_plot_area[plot_area[0:5]].count().cumsum() == df_plot_area[plot_area[5]].count()"
   ]
  },
  {
   "cell_type": "code",
   "execution_count": 188,
   "metadata": {},
   "outputs": [
    {
     "name": "stderr",
     "output_type": "stream",
     "text": [
      "/tmp/ipykernel_20814/2286274601.py:1: SettingWithCopyWarning: \n",
      "A value is trying to be set on a copy of a slice from a DataFrame.\n",
      "Try using .loc[row_indexer,col_indexer] = value instead\n",
      "\n",
      "See the caveats in the documentation: https://pandas.pydata.org/pandas-docs/stable/user_guide/indexing.html#returning-a-view-versus-a-copy\n",
      "  df_plot_area['plot_area'] = df_plot_area[plot_area[0]].fillna('') + \\\n"
     ]
    },
    {
     "data": {
      "text/plain": [
       "13378"
      ]
     },
     "execution_count": 188,
     "metadata": {},
     "output_type": "execute_result"
    }
   ],
   "source": [
    "df_plot_area['plot_area'] = df_plot_area[plot_area[0]].fillna('') + \\\n",
    "  (df_plot_area[plot_area[1]]).fillna('') + \\\n",
    "  (df_plot_area[plot_area[2]]).fillna('') + \\\n",
    "  (df_plot_area[plot_area[3]]).fillna('')\n",
    "\n",
    "(df_plot_area['plot_area'] == df_plot_area[plot_area[5]].fillna('')).sum()"
   ]
  },
  {
   "cell_type": "code",
   "execution_count": 189,
   "metadata": {},
   "outputs": [
    {
     "name": "stderr",
     "output_type": "stream",
     "text": [
      "/tmp/ipykernel_20814/670439676.py:1: SettingWithCopyWarning: \n",
      "A value is trying to be set on a copy of a slice from a DataFrame.\n",
      "Try using .loc[row_indexer,col_indexer] = value instead\n",
      "\n",
      "See the caveats in the documentation: https://pandas.pydata.org/pandas-docs/stable/user_guide/indexing.html#returning-a-view-versus-a-copy\n",
      "  df_plot_area['plot_area'] = df_plot_area[plot_area[5]].fillna('') + \\\n",
      "/tmp/ipykernel_20814/670439676.py:4: SettingWithCopyWarning: \n",
      "A value is trying to be set on a copy of a slice from a DataFrame.\n",
      "Try using .loc[row_indexer,col_indexer] = value instead\n",
      "\n",
      "See the caveats in the documentation: https://pandas.pydata.org/pandas-docs/stable/user_guide/indexing.html#returning-a-view-versus-a-copy\n",
      "  df_plot_area['plot_area'] = df_plot_area['plot_area'].replace('', np.nan)\n"
     ]
    },
    {
     "data": {
      "text/plain": [
       "4953"
      ]
     },
     "execution_count": 189,
     "metadata": {},
     "output_type": "execute_result"
    }
   ],
   "source": [
    "df_plot_area['plot_area'] = df_plot_area[plot_area[5]].fillna('') + \\\n",
    "  (df_plot_area[plot_area[4]]).fillna('')\n",
    "\n",
    "df_plot_area['plot_area'] = df_plot_area['plot_area'].replace('', np.nan)\n",
    "\n",
    "df_plot_area['plot_area'].count()"
   ]
  },
  {
   "cell_type": "code",
   "execution_count": 190,
   "metadata": {},
   "outputs": [
    {
     "data": {
      "text/plain": [
       "(13378, 14)"
      ]
     },
     "execution_count": 190,
     "metadata": {},
     "output_type": "execute_result"
    }
   ],
   "source": [
    "df_numeric = df_numeric.drop(plot_area, axis=1) # drops 6 columns -> 13 remain\n",
    "df_numeric['plot_area'] = df_plot_area['plot_area'] # adds 1 column -> 14\n",
    "df_numeric.shape"
   ]
  },
  {
   "cell_type": "code",
   "execution_count": 191,
   "metadata": {},
   "outputs": [],
   "source": [
    "df_numeric['plot_area'] = df_numeric.plot_area.str.extract('(\\d+)').fillna(0).astype(int)"
   ]
  },
  {
   "cell_type": "markdown",
   "metadata": {},
   "source": [
    "## Floor Space"
   ]
  },
  {
   "cell_type": "code",
   "execution_count": 192,
   "metadata": {},
   "outputs": [
    {
     "data": {
      "text/plain": [
       "Floor space                         False\n",
       "Nutzfläche                          False\n",
       "Surface utile                       False\n",
       "Superficie utile                     True\n",
       "detail_responsive#surface_usable    False\n",
       "dtype: bool"
      ]
     },
     "execution_count": 192,
     "metadata": {},
     "output_type": "execute_result"
    }
   ],
   "source": [
    "floor_space = ['Floor space', 'Nutzfläche', 'Surface utile', 'Superficie utile', 'detail_responsive#surface_usable', 'Floor_space_merged']\n",
    "df_floor_space = df_numeric[floor_space]\n",
    "\n",
    "df_floor_space[floor_space[0:5]].count().cumsum() == df_floor_space[floor_space[5]].count()"
   ]
  },
  {
   "cell_type": "code",
   "execution_count": 193,
   "metadata": {},
   "outputs": [
    {
     "name": "stderr",
     "output_type": "stream",
     "text": [
      "/tmp/ipykernel_20814/87451161.py:1: SettingWithCopyWarning: \n",
      "A value is trying to be set on a copy of a slice from a DataFrame.\n",
      "Try using .loc[row_indexer,col_indexer] = value instead\n",
      "\n",
      "See the caveats in the documentation: https://pandas.pydata.org/pandas-docs/stable/user_guide/indexing.html#returning-a-view-versus-a-copy\n",
      "  df_floor_space['floor_space'] = df_floor_space[floor_space[0]].fillna('') + \\\n"
     ]
    },
    {
     "data": {
      "text/plain": [
       "13378"
      ]
     },
     "execution_count": 193,
     "metadata": {},
     "output_type": "execute_result"
    }
   ],
   "source": [
    "df_floor_space['floor_space'] = df_floor_space[floor_space[0]].fillna('') + \\\n",
    "  (df_floor_space[floor_space[1]]).fillna('') + \\\n",
    "  (df_floor_space[floor_space[2]]).fillna('') + \\\n",
    "  (df_floor_space[floor_space[3]]).fillna('')\n",
    "\n",
    "(df_floor_space['floor_space'] == df_floor_space[floor_space[5]].fillna('')).sum()"
   ]
  },
  {
   "cell_type": "code",
   "execution_count": 194,
   "metadata": {},
   "outputs": [
    {
     "name": "stderr",
     "output_type": "stream",
     "text": [
      "/tmp/ipykernel_20814/2352240836.py:1: SettingWithCopyWarning: \n",
      "A value is trying to be set on a copy of a slice from a DataFrame.\n",
      "Try using .loc[row_indexer,col_indexer] = value instead\n",
      "\n",
      "See the caveats in the documentation: https://pandas.pydata.org/pandas-docs/stable/user_guide/indexing.html#returning-a-view-versus-a-copy\n",
      "  df_floor_space['floor_space'] = df_floor_space[floor_space[0]].fillna('') + \\\n"
     ]
    },
    {
     "data": {
      "text/plain": [
       "2842"
      ]
     },
     "execution_count": 194,
     "metadata": {},
     "output_type": "execute_result"
    }
   ],
   "source": [
    "df_floor_space['floor_space'] = df_floor_space[floor_space[0]].fillna('') + \\\n",
    "  (df_floor_space[floor_space[1]]).fillna('') + \\\n",
    "  (df_floor_space[floor_space[2]]).fillna('') + \\\n",
    "  (df_floor_space[floor_space[3]]).fillna('')\n",
    "\n",
    "df_floor_space[df_floor_space['floor_space'] != '']['floor_space'].count()"
   ]
  },
  {
   "cell_type": "code",
   "execution_count": 195,
   "metadata": {},
   "outputs": [
    {
     "name": "stderr",
     "output_type": "stream",
     "text": [
      "/tmp/ipykernel_20814/3136786986.py:1: SettingWithCopyWarning: \n",
      "A value is trying to be set on a copy of a slice from a DataFrame.\n",
      "Try using .loc[row_indexer,col_indexer] = value instead\n",
      "\n",
      "See the caveats in the documentation: https://pandas.pydata.org/pandas-docs/stable/user_guide/indexing.html#returning-a-view-versus-a-copy\n",
      "  df_floor_space['floor_space'] = df_floor_space[floor_space[5]].fillna('') + \\\n",
      "/tmp/ipykernel_20814/3136786986.py:4: SettingWithCopyWarning: \n",
      "A value is trying to be set on a copy of a slice from a DataFrame.\n",
      "Try using .loc[row_indexer,col_indexer] = value instead\n",
      "\n",
      "See the caveats in the documentation: https://pandas.pydata.org/pandas-docs/stable/user_guide/indexing.html#returning-a-view-versus-a-copy\n",
      "  df_floor_space['floor_space'] = df_floor_space['floor_space'].replace('', np.nan)\n"
     ]
    },
    {
     "data": {
      "text/plain": [
       "2953"
      ]
     },
     "execution_count": 195,
     "metadata": {},
     "output_type": "execute_result"
    }
   ],
   "source": [
    "df_floor_space['floor_space'] = df_floor_space[floor_space[5]].fillna('') + \\\n",
    "  (df_floor_space[floor_space[4]]).fillna('')\n",
    "\n",
    "df_floor_space['floor_space'] = df_floor_space['floor_space'].replace('', np.nan)\n",
    "\n",
    "df_floor_space['floor_space'].count()"
   ]
  },
  {
   "cell_type": "code",
   "execution_count": 196,
   "metadata": {},
   "outputs": [
    {
     "data": {
      "text/plain": [
       "(13378, 9)"
      ]
     },
     "execution_count": 196,
     "metadata": {},
     "output_type": "execute_result"
    }
   ],
   "source": [
    "df_numeric = df_numeric.drop(floor_space, axis=1) # drops 6 columns -> 8 remain\n",
    "df_numeric['floor_space'] = df_floor_space['floor_space'] # adds 1 column -> 9\n",
    "df_numeric.shape"
   ]
  },
  {
   "cell_type": "code",
   "execution_count": 197,
   "metadata": {},
   "outputs": [],
   "source": [
    "df_numeric['floor_space'] = df_numeric.floor_space.str.extract('(\\d+)').fillna(0).astype(int)"
   ]
  },
  {
   "cell_type": "markdown",
   "metadata": {},
   "source": [
    "## Floor"
   ]
  },
  {
   "cell_type": "code",
   "execution_count": 198,
   "metadata": {},
   "outputs": [
    {
     "data": {
      "text/plain": [
       "Floor                      False\n",
       "Stockwerk                  False\n",
       "Étage                      False\n",
       "Piano                       True\n",
       "detail_responsive#floor    False\n",
       "dtype: bool"
      ]
     },
     "execution_count": 198,
     "metadata": {},
     "output_type": "execute_result"
    }
   ],
   "source": [
    "floor = ['Floor', 'Stockwerk', 'Étage', 'Piano', 'detail_responsive#floor', 'Floor_merged']\n",
    "df_floor = df_numeric[floor]\n",
    "\n",
    "df_floor[floor[0:5]].count().cumsum() == df_floor[floor[5]].count()"
   ]
  },
  {
   "cell_type": "code",
   "execution_count": 199,
   "metadata": {},
   "outputs": [
    {
     "name": "stderr",
     "output_type": "stream",
     "text": [
      "/tmp/ipykernel_20814/1722899567.py:1: SettingWithCopyWarning: \n",
      "A value is trying to be set on a copy of a slice from a DataFrame.\n",
      "Try using .loc[row_indexer,col_indexer] = value instead\n",
      "\n",
      "See the caveats in the documentation: https://pandas.pydata.org/pandas-docs/stable/user_guide/indexing.html#returning-a-view-versus-a-copy\n",
      "  df_floor['floor'] = df_floor[floor[0]].fillna('') + \\\n"
     ]
    },
    {
     "data": {
      "text/plain": [
       "13378"
      ]
     },
     "execution_count": 199,
     "metadata": {},
     "output_type": "execute_result"
    }
   ],
   "source": [
    "df_floor['floor'] = df_floor[floor[0]].fillna('') + \\\n",
    "  (df_floor[floor[1]]).fillna('') + \\\n",
    "  (df_floor[floor[2]]).fillna('') + \\\n",
    "  (df_floor[floor[3]]).fillna('')\n",
    "\n",
    "(df_floor['floor'] == df_floor[floor[5]].fillna('')).sum()"
   ]
  },
  {
   "cell_type": "code",
   "execution_count": 200,
   "metadata": {},
   "outputs": [
    {
     "name": "stderr",
     "output_type": "stream",
     "text": [
      "/tmp/ipykernel_20814/1016433515.py:1: SettingWithCopyWarning: \n",
      "A value is trying to be set on a copy of a slice from a DataFrame.\n",
      "Try using .loc[row_indexer,col_indexer] = value instead\n",
      "\n",
      "See the caveats in the documentation: https://pandas.pydata.org/pandas-docs/stable/user_guide/indexing.html#returning-a-view-versus-a-copy\n",
      "  df_floor['floor'] = df_floor[floor[0]].fillna('') + \\\n"
     ]
    },
    {
     "data": {
      "text/plain": [
       "5414"
      ]
     },
     "execution_count": 200,
     "metadata": {},
     "output_type": "execute_result"
    }
   ],
   "source": [
    "df_floor['floor'] = df_floor[floor[0]].fillna('') + \\\n",
    "  (df_floor[floor[1]]).fillna('') + \\\n",
    "  (df_floor[floor[2]]).fillna('') + \\\n",
    "  (df_floor[floor[3]]).fillna('')\n",
    "\n",
    "df_floor[df_floor['floor'] != '']['floor'].count()"
   ]
  },
  {
   "cell_type": "code",
   "execution_count": 201,
   "metadata": {},
   "outputs": [
    {
     "name": "stderr",
     "output_type": "stream",
     "text": [
      "/tmp/ipykernel_20814/1727788760.py:1: SettingWithCopyWarning: \n",
      "A value is trying to be set on a copy of a slice from a DataFrame.\n",
      "Try using .loc[row_indexer,col_indexer] = value instead\n",
      "\n",
      "See the caveats in the documentation: https://pandas.pydata.org/pandas-docs/stable/user_guide/indexing.html#returning-a-view-versus-a-copy\n",
      "  df_floor['floor'] = df_floor[floor[5]].fillna('') + \\\n",
      "/tmp/ipykernel_20814/1727788760.py:4: SettingWithCopyWarning: \n",
      "A value is trying to be set on a copy of a slice from a DataFrame.\n",
      "Try using .loc[row_indexer,col_indexer] = value instead\n",
      "\n",
      "See the caveats in the documentation: https://pandas.pydata.org/pandas-docs/stable/user_guide/indexing.html#returning-a-view-versus-a-copy\n",
      "  df_floor['floor'] = df_floor['floor'].replace('', np.nan)\n"
     ]
    },
    {
     "data": {
      "text/plain": [
       "5620"
      ]
     },
     "execution_count": 201,
     "metadata": {},
     "output_type": "execute_result"
    }
   ],
   "source": [
    "df_floor['floor'] = df_floor[floor[5]].fillna('') + \\\n",
    "  (df_floor[floor[4]]).fillna('')\n",
    "\n",
    "df_floor['floor'] = df_floor['floor'].replace('', np.nan)\n",
    "\n",
    "df_floor['floor'].count()"
   ]
  },
  {
   "cell_type": "code",
   "execution_count": 202,
   "metadata": {},
   "outputs": [
    {
     "data": {
      "text/plain": [
       "(13378, 4)"
      ]
     },
     "execution_count": 202,
     "metadata": {},
     "output_type": "execute_result"
    }
   ],
   "source": [
    "df_numeric = df_numeric.drop(floor, axis=1) # drops 6 columns -> 3 remain\n",
    "df_numeric['floor'] = df_floor['floor'] # adds 1 column -> 4\n",
    "df_numeric.shape"
   ]
  },
  {
   "cell_type": "code",
   "execution_count": 203,
   "metadata": {},
   "outputs": [
    {
     "data": {
      "text/html": [
       "<div>\n",
       "<style scoped>\n",
       "    .dataframe tbody tr th:only-of-type {\n",
       "        vertical-align: middle;\n",
       "    }\n",
       "\n",
       "    .dataframe tbody tr th {\n",
       "        vertical-align: top;\n",
       "    }\n",
       "\n",
       "    .dataframe thead th {\n",
       "        text-align: right;\n",
       "    }\n",
       "</style>\n",
       "<table border=\"1\" class=\"dataframe\">\n",
       "  <thead>\n",
       "    <tr style=\"text-align: right;\">\n",
       "      <th></th>\n",
       "      <th>living_space</th>\n",
       "      <th>plot_area</th>\n",
       "      <th>floor_space</th>\n",
       "      <th>floor</th>\n",
       "    </tr>\n",
       "  </thead>\n",
       "  <tbody>\n",
       "    <tr>\n",
       "      <th>0</th>\n",
       "      <td>100</td>\n",
       "      <td>0</td>\n",
       "      <td>0</td>\n",
       "      <td>4. floor</td>\n",
       "    </tr>\n",
       "    <tr>\n",
       "      <th>1</th>\n",
       "      <td>156</td>\n",
       "      <td>222</td>\n",
       "      <td>242</td>\n",
       "      <td>NaN</td>\n",
       "    </tr>\n",
       "    <tr>\n",
       "      <th>2</th>\n",
       "      <td>93</td>\n",
       "      <td>0</td>\n",
       "      <td>0</td>\n",
       "      <td>2. floor</td>\n",
       "    </tr>\n",
       "    <tr>\n",
       "      <th>3</th>\n",
       "      <td>154</td>\n",
       "      <td>370</td>\n",
       "      <td>257</td>\n",
       "      <td>NaN</td>\n",
       "    </tr>\n",
       "    <tr>\n",
       "      <th>4</th>\n",
       "      <td>142</td>\n",
       "      <td>0</td>\n",
       "      <td>0</td>\n",
       "      <td>Ground floor</td>\n",
       "    </tr>\n",
       "    <tr>\n",
       "      <th>...</th>\n",
       "      <td>...</td>\n",
       "      <td>...</td>\n",
       "      <td>...</td>\n",
       "      <td>...</td>\n",
       "    </tr>\n",
       "    <tr>\n",
       "      <th>13373</th>\n",
       "      <td>70</td>\n",
       "      <td>0</td>\n",
       "      <td>0</td>\n",
       "      <td>NaN</td>\n",
       "    </tr>\n",
       "    <tr>\n",
       "      <th>13374</th>\n",
       "      <td>0</td>\n",
       "      <td>284</td>\n",
       "      <td>0</td>\n",
       "      <td>NaN</td>\n",
       "    </tr>\n",
       "    <tr>\n",
       "      <th>13375</th>\n",
       "      <td>150</td>\n",
       "      <td>160</td>\n",
       "      <td>0</td>\n",
       "      <td>NaN</td>\n",
       "    </tr>\n",
       "    <tr>\n",
       "      <th>13376</th>\n",
       "      <td>145</td>\n",
       "      <td>853</td>\n",
       "      <td>140</td>\n",
       "      <td>NaN</td>\n",
       "    </tr>\n",
       "    <tr>\n",
       "      <th>13377</th>\n",
       "      <td>385</td>\n",
       "      <td>1306</td>\n",
       "      <td>0</td>\n",
       "      <td>NaN</td>\n",
       "    </tr>\n",
       "  </tbody>\n",
       "</table>\n",
       "<p>13378 rows × 4 columns</p>\n",
       "</div>"
      ],
      "text/plain": [
       "       living_space  plot_area  floor_space         floor\n",
       "0               100          0            0      4. floor\n",
       "1               156        222          242           NaN\n",
       "2                93          0            0      2. floor\n",
       "3               154        370          257           NaN\n",
       "4               142          0            0  Ground floor\n",
       "...             ...        ...          ...           ...\n",
       "13373            70          0            0           NaN\n",
       "13374             0        284            0           NaN\n",
       "13375           150        160            0           NaN\n",
       "13376           145        853          140           NaN\n",
       "13377           385       1306            0           NaN\n",
       "\n",
       "[13378 rows x 4 columns]"
      ]
     },
     "execution_count": 203,
     "metadata": {},
     "output_type": "execute_result"
    }
   ],
   "source": [
    "df_numeric"
   ]
  },
  {
   "cell_type": "markdown",
   "metadata": {},
   "source": [
    "# Cleaning and Parsing\n",
    "## Floor"
   ]
  },
  {
   "cell_type": "code",
   "execution_count": 204,
   "metadata": {},
   "outputs": [
    {
     "data": {
      "text/plain": [
       "array(['4. floor', nan, '2. floor', 'Ground floor', '3. floor',\n",
       "       '6. floor', '1. floor', '5. floor', '14. floor', '20. floor',\n",
       "       '8. floor', '2. Basement', '7. floor', '15. floor', '10. floor',\n",
       "       '11. floor', '4. Basement', '100. floor', '12. floor',\n",
       "       '1. Basement', '21. floor', '9. floor', '3. Basement',\n",
       "       '999. floor', '23. floor'], dtype=object)"
      ]
     },
     "execution_count": 204,
     "metadata": {},
     "output_type": "execute_result"
    }
   ],
   "source": [
    "df_numeric['floor'].unique()"
   ]
  },
  {
   "cell_type": "code",
   "execution_count": 205,
   "metadata": {},
   "outputs": [
    {
     "data": {
      "text/plain": [
       "array(['4', nan, '2', 0, '3', '6', '1', '5', '14', '20', '8', '-2', '7',\n",
       "       '15', '10', '11', '-4', '100', '12', '-1', '21', '9', '-3', '999',\n",
       "       '23'], dtype=object)"
      ]
     },
     "execution_count": 205,
     "metadata": {},
     "output_type": "execute_result"
    }
   ],
   "source": [
    "def parse_floor(x):\n",
    "  if x != x:\n",
    "    return np.nan\n",
    "  elif x == 'Ground floor':\n",
    "    return 0\n",
    "  elif re.search('\\. floor', x):\n",
    "    return re.search('\\d+', x).group()\n",
    "  elif re.search('Basement', x):\n",
    "    return '-' + re.search('\\d+', x).group()\n",
    "\n",
    "\n",
    "df_numeric['floor'] = df_numeric['floor'].apply(parse_floor)\n",
    "df_numeric['floor'].unique()"
   ]
  },
  {
   "cell_type": "code",
   "execution_count": 206,
   "metadata": {},
   "outputs": [
    {
     "data": {
      "text/plain": [
       "array([  4.,  nan,   2.,   0.,   3.,   6.,   1.,   5.,  14.,  20.,   8.,\n",
       "        -2.,   7.,  15.,  10.,  11.,  -4., 100.,  12.,  -1.,  21.,   9.,\n",
       "        -3., 999.,  23.])"
      ]
     },
     "execution_count": 206,
     "metadata": {},
     "output_type": "execute_result"
    }
   ],
   "source": [
    "df_numeric['floor'] = df_numeric['floor'].astype(float)\n",
    "df_numeric['floor'].unique()"
   ]
  },
  {
   "cell_type": "code",
   "execution_count": 207,
   "metadata": {},
   "outputs": [
    {
     "data": {
      "text/plain": [
       "living_space    123.475275\n",
       "plot_area       845.261158\n",
       "floor_space     153.571314\n",
       "floor            29.809057\n",
       "dtype: float64"
      ]
     },
     "execution_count": 207,
     "metadata": {},
     "output_type": "execute_result"
    }
   ],
   "source": [
    "df_numeric.std()"
   ]
  },
  {
   "cell_type": "markdown",
   "metadata": {},
   "source": [
    "# Availability"
   ]
  },
  {
   "cell_type": "code",
   "execution_count": 208,
   "metadata": {},
   "outputs": [
    {
     "data": {
      "text/plain": [
       "Availability                        False\n",
       "Verfügbarkeit                       False\n",
       "Disponibilité                       False\n",
       "Disponibilità                        True\n",
       "detail_responsive#available_from    False\n",
       "dtype: bool"
      ]
     },
     "execution_count": 208,
     "metadata": {},
     "output_type": "execute_result"
    }
   ],
   "source": [
    "availability = ['Availability', 'Verfügbarkeit', 'Disponibilité', 'Disponibilità', 'detail_responsive#available_from',  'Availability_merged']\n",
    "df_availability = df[availability]\n",
    "\n",
    "df_availability.iloc[:, 0:5].count().cumsum() == df_availability.iloc[:, 5].count()"
   ]
  },
  {
   "cell_type": "code",
   "execution_count": 209,
   "metadata": {},
   "outputs": [
    {
     "name": "stderr",
     "output_type": "stream",
     "text": [
      "/tmp/ipykernel_20814/549891744.py:1: SettingWithCopyWarning: \n",
      "A value is trying to be set on a copy of a slice from a DataFrame.\n",
      "Try using .loc[row_indexer,col_indexer] = value instead\n",
      "\n",
      "See the caveats in the documentation: https://pandas.pydata.org/pandas-docs/stable/user_guide/indexing.html#returning-a-view-versus-a-copy\n",
      "  df_availability['availability'] = df_availability[availability[0]].fillna('') + \\\n"
     ]
    },
    {
     "data": {
      "text/plain": [
       "13378"
      ]
     },
     "execution_count": 209,
     "metadata": {},
     "output_type": "execute_result"
    }
   ],
   "source": [
    "df_availability['availability'] = df_availability[availability[0]].fillna('') + \\\n",
    "  (df_availability[availability[1]]).fillna('') + \\\n",
    "  (df_availability[availability[2]]).fillna('') + \\\n",
    "  (df_availability[availability[3]]).fillna('')\n",
    "\n",
    "(df_availability['availability'] == df_availability[availability[5]].fillna('')).sum()"
   ]
  },
  {
   "cell_type": "code",
   "execution_count": 210,
   "metadata": {},
   "outputs": [
    {
     "name": "stderr",
     "output_type": "stream",
     "text": [
      "/tmp/ipykernel_20814/4129642663.py:1: SettingWithCopyWarning: \n",
      "A value is trying to be set on a copy of a slice from a DataFrame.\n",
      "Try using .loc[row_indexer,col_indexer] = value instead\n",
      "\n",
      "See the caveats in the documentation: https://pandas.pydata.org/pandas-docs/stable/user_guide/indexing.html#returning-a-view-versus-a-copy\n",
      "  df_availability['availability'] = df_availability[availability[5]].fillna('') + \\\n",
      "/tmp/ipykernel_20814/4129642663.py:4: SettingWithCopyWarning: \n",
      "A value is trying to be set on a copy of a slice from a DataFrame.\n",
      "Try using .loc[row_indexer,col_indexer] = value instead\n",
      "\n",
      "See the caveats in the documentation: https://pandas.pydata.org/pandas-docs/stable/user_guide/indexing.html#returning-a-view-versus-a-copy\n",
      "  df_availability['availability'] = df_availability['availability'].replace('', np.nan)\n"
     ]
    },
    {
     "data": {
      "text/plain": [
       "13378"
      ]
     },
     "execution_count": 210,
     "metadata": {},
     "output_type": "execute_result"
    }
   ],
   "source": [
    "df_availability['availability'] = df_availability[availability[5]].fillna('') + \\\n",
    "  (df_availability[availability[4]]).fillna('')\n",
    "\n",
    "df_availability['availability'] = df_availability['availability'].replace('', np.nan)\n",
    "\n",
    "df_availability['availability'].count()"
   ]
  },
  {
   "cell_type": "code",
   "execution_count": 211,
   "metadata": {},
   "outputs": [
    {
     "data": {
      "text/plain": [
       "array(['On request', 'Immediately', '30.12.2022', '01.12.2022',\n",
       "       '01.04.2023', '01.08.2023', '01.10.2022', '01.11.2022',\n",
       "       '01.09.2023', '01.07.2023', '07.07.2023', '22.10.2022',\n",
       "       '01.02.2023', '01.06.2023', '31.10.2023', '01.01.2023',\n",
       "       '01.05.2023', '01.12.2023', '01.10.2023', '30.11.2022',\n",
       "       '31.12.2023', '20.03.2023', '19.01.2024', '01.03.2023',\n",
       "       '01.05.2024', '15.08.2023', '31.12.2022', '31.03.2023',\n",
       "       '30.06.2024', '01.02.2024', '31.07.2023', '02.01.2023',\n",
       "       '15.10.2022', '11.11.2022', '30.11.2023', '01.04.2024',\n",
       "       '01.12.2024', '30.09.2022', '01.04.2025', '01.10.2024',\n",
       "       '01.07.2024', '01.11.2024', '15.12.2022', '01.06.2024',\n",
       "       '01.01.2024', '01.11.2023', '25.01.2024', '24.06.2023',\n",
       "       '26.10.2022', '28.02.2023', '15.09.2022', '30.09.2023',\n",
       "       '30.01.2024', '03.04.2023', '15.02.2024', '01.04.2030',\n",
       "       '30.04.2023', '05.09.2022', '03.10.2022', '31.05.2024',\n",
       "       '31.05.2023', '31.03.2024', '30.12.2023', '16.12.2022',\n",
       "       '07.11.2022', '05.02.2024', '30.10.2023', '31.10.2022',\n",
       "       '21.10.2023', '16.09.2022', '31.08.2023', '01.03.2025',\n",
       "       '15.12.2023', '20.04.2023', '17.10.2022', '17.12.2023',\n",
       "       '30.06.2023', '07.06.2023', '01.09.2024', '08.02.2023',\n",
       "       '04.04.2024', '30.03.2023', '21.01.2023', '02.12.2022',\n",
       "       '20.07.2023', '25.12.2022', '16.04.2023', '20.05.2023',\n",
       "       '15.03.2023', '31.01.2024', '03.08.2023', '07.12.2022',\n",
       "       '15.07.2024', '15.09.2023', '15.03.2024', '20.12.2022',\n",
       "       '23.12.2022', '31.01.2023', '09.12.2022', '15.06.2023',\n",
       "       '09.05.2023', '22.12.2023', '05.06.2023', '24.12.2023',\n",
       "       '02.10.2023', '24.12.2022', '30.05.2023', '01.12.2025',\n",
       "       '31.07.2024', '27.09.2023', '26.12.2022', '29.02.2024'],\n",
       "      dtype=object)"
      ]
     },
     "execution_count": 211,
     "metadata": {},
     "output_type": "execute_result"
    }
   ],
   "source": [
    "df_availability['availability'].unique()"
   ]
  },
  {
   "cell_type": "code",
   "execution_count": 212,
   "metadata": {},
   "outputs": [],
   "source": [
    "df_numeric['availability'] = df_availability['availability']"
   ]
  },
  {
   "cell_type": "markdown",
   "metadata": {},
   "source": [
    "# Gross return"
   ]
  },
  {
   "cell_type": "code",
   "execution_count": 213,
   "metadata": {},
   "outputs": [
    {
     "data": {
      "text/plain": [
       "array([nan, '0.00 %', '4.5 %'], dtype=object)"
      ]
     },
     "execution_count": 213,
     "metadata": {},
     "output_type": "execute_result"
    }
   ],
   "source": [
    "df['Gross return'].unique()"
   ]
  },
  {
   "cell_type": "code",
   "execution_count": 214,
   "metadata": {},
   "outputs": [
    {
     "data": {
      "text/plain": [
       "6"
      ]
     },
     "execution_count": 214,
     "metadata": {},
     "output_type": "execute_result"
    }
   ],
   "source": [
    "df['Gross return'].count()"
   ]
  },
  {
   "cell_type": "markdown",
   "metadata": {},
   "source": [
    "This column does not contain a whole lot of information, therefore we will not consider it for our analysis. "
   ]
  },
  {
   "cell_type": "markdown",
   "metadata": {},
   "source": [
    "# Rooms"
   ]
  },
  {
   "cell_type": "code",
   "execution_count": 215,
   "metadata": {},
   "outputs": [
    {
     "data": {
      "text/plain": [
       "5.0    10937\n",
       "6.0      344\n",
       "7.0      309\n",
       "4.0      250\n",
       "8.0      239\n",
       "3.0      200\n",
       "2.0      152\n",
       "9.0      140\n",
       "0.0      138\n",
       "1.0       90\n",
       "Name: rooms, dtype: int64"
      ]
     },
     "execution_count": 215,
     "metadata": {},
     "output_type": "execute_result"
    }
   ],
   "source": [
    "df['rooms'].value_counts()"
   ]
  },
  {
   "cell_type": "code",
   "execution_count": 216,
   "metadata": {},
   "outputs": [
    {
     "data": {
      "text/plain": [
       "4.5     3481\n",
       "3.5     2318\n",
       "5.5     2188\n",
       "6.5      918\n",
       "2.5      850\n",
       "7.5      362\n",
       "8.5      195\n",
       "1.5       86\n",
       "9.5       64\n",
       "10.5      42\n",
       "12.5      23\n",
       "11.5      21\n",
       "13.5      12\n",
       "14.5      11\n",
       "15.5       3\n",
       "17.5       3\n",
       "16.5       2\n",
       "21.5       1\n",
       "Name: rooms, dtype: int64"
      ]
     },
     "execution_count": 216,
     "metadata": {},
     "output_type": "execute_result"
    }
   ],
   "source": [
    "def parse_rooms(x):\n",
    "  pattern = '(\\d+\\.\\d) rooms'\n",
    "  match = re.search(pattern, x)\n",
    "  if match is not None:\n",
    "    result = match.group(1)\n",
    "  else:\n",
    "    result = np.NaN\n",
    "  return result\n",
    "\n",
    "df_numeric['rooms'] = df['details_structured'].apply(parse_rooms).astype('float')\n",
    "\n",
    "df_numeric['rooms'].value_counts()"
   ]
  },
  {
   "cell_type": "markdown",
   "metadata": {},
   "source": [
    "# Price"
   ]
  },
  {
   "cell_type": "code",
   "execution_count": 217,
   "metadata": {},
   "outputs": [],
   "source": [
    "df_numeric['price'] = df['price_cleaned']"
   ]
  },
  {
   "cell_type": "code",
   "execution_count": 218,
   "metadata": {},
   "outputs": [
    {
     "data": {
      "text/html": [
       "<div>\n",
       "<style scoped>\n",
       "    .dataframe tbody tr th:only-of-type {\n",
       "        vertical-align: middle;\n",
       "    }\n",
       "\n",
       "    .dataframe tbody tr th {\n",
       "        vertical-align: top;\n",
       "    }\n",
       "\n",
       "    .dataframe thead th {\n",
       "        text-align: right;\n",
       "    }\n",
       "</style>\n",
       "<table border=\"1\" class=\"dataframe\">\n",
       "  <thead>\n",
       "    <tr style=\"text-align: right;\">\n",
       "      <th></th>\n",
       "      <th>living_space</th>\n",
       "      <th>plot_area</th>\n",
       "      <th>floor_space</th>\n",
       "      <th>floor</th>\n",
       "      <th>availability</th>\n",
       "      <th>rooms</th>\n",
       "      <th>price</th>\n",
       "    </tr>\n",
       "  </thead>\n",
       "  <tbody>\n",
       "    <tr>\n",
       "      <th>0</th>\n",
       "      <td>100</td>\n",
       "      <td>0</td>\n",
       "      <td>0</td>\n",
       "      <td>4.0</td>\n",
       "      <td>On request</td>\n",
       "      <td>3.5</td>\n",
       "      <td>1150000.0</td>\n",
       "    </tr>\n",
       "    <tr>\n",
       "      <th>1</th>\n",
       "      <td>156</td>\n",
       "      <td>222</td>\n",
       "      <td>242</td>\n",
       "      <td>NaN</td>\n",
       "      <td>On request</td>\n",
       "      <td>4.5</td>\n",
       "      <td>1420000.0</td>\n",
       "    </tr>\n",
       "    <tr>\n",
       "      <th>2</th>\n",
       "      <td>93</td>\n",
       "      <td>0</td>\n",
       "      <td>0</td>\n",
       "      <td>2.0</td>\n",
       "      <td>Immediately</td>\n",
       "      <td>2.5</td>\n",
       "      <td>720000.0</td>\n",
       "    </tr>\n",
       "    <tr>\n",
       "      <th>3</th>\n",
       "      <td>154</td>\n",
       "      <td>370</td>\n",
       "      <td>257</td>\n",
       "      <td>NaN</td>\n",
       "      <td>On request</td>\n",
       "      <td>4.5</td>\n",
       "      <td>1430000.0</td>\n",
       "    </tr>\n",
       "    <tr>\n",
       "      <th>4</th>\n",
       "      <td>142</td>\n",
       "      <td>0</td>\n",
       "      <td>0</td>\n",
       "      <td>0.0</td>\n",
       "      <td>On request</td>\n",
       "      <td>4.5</td>\n",
       "      <td>995000.0</td>\n",
       "    </tr>\n",
       "    <tr>\n",
       "      <th>...</th>\n",
       "      <td>...</td>\n",
       "      <td>...</td>\n",
       "      <td>...</td>\n",
       "      <td>...</td>\n",
       "      <td>...</td>\n",
       "      <td>...</td>\n",
       "      <td>...</td>\n",
       "    </tr>\n",
       "    <tr>\n",
       "      <th>13373</th>\n",
       "      <td>70</td>\n",
       "      <td>0</td>\n",
       "      <td>0</td>\n",
       "      <td>NaN</td>\n",
       "      <td>On request</td>\n",
       "      <td>2.5</td>\n",
       "      <td>1101000.0</td>\n",
       "    </tr>\n",
       "    <tr>\n",
       "      <th>13374</th>\n",
       "      <td>0</td>\n",
       "      <td>284</td>\n",
       "      <td>0</td>\n",
       "      <td>NaN</td>\n",
       "      <td>On request</td>\n",
       "      <td>NaN</td>\n",
       "      <td>1750000.0</td>\n",
       "    </tr>\n",
       "    <tr>\n",
       "      <th>13375</th>\n",
       "      <td>150</td>\n",
       "      <td>160</td>\n",
       "      <td>0</td>\n",
       "      <td>NaN</td>\n",
       "      <td>On request</td>\n",
       "      <td>6.5</td>\n",
       "      <td>1415000.0</td>\n",
       "    </tr>\n",
       "    <tr>\n",
       "      <th>13376</th>\n",
       "      <td>145</td>\n",
       "      <td>853</td>\n",
       "      <td>140</td>\n",
       "      <td>NaN</td>\n",
       "      <td>Immediately</td>\n",
       "      <td>NaN</td>\n",
       "      <td>1465000.0</td>\n",
       "    </tr>\n",
       "    <tr>\n",
       "      <th>13377</th>\n",
       "      <td>385</td>\n",
       "      <td>1306</td>\n",
       "      <td>0</td>\n",
       "      <td>NaN</td>\n",
       "      <td>Immediately</td>\n",
       "      <td>7.5</td>\n",
       "      <td>2750000.0</td>\n",
       "    </tr>\n",
       "  </tbody>\n",
       "</table>\n",
       "<p>13378 rows × 7 columns</p>\n",
       "</div>"
      ],
      "text/plain": [
       "       living_space  plot_area  floor_space  floor availability  rooms  \\\n",
       "0               100          0            0    4.0   On request    3.5   \n",
       "1               156        222          242    NaN   On request    4.5   \n",
       "2                93          0            0    2.0  Immediately    2.5   \n",
       "3               154        370          257    NaN   On request    4.5   \n",
       "4               142          0            0    0.0   On request    4.5   \n",
       "...             ...        ...          ...    ...          ...    ...   \n",
       "13373            70          0            0    NaN   On request    2.5   \n",
       "13374             0        284            0    NaN   On request    NaN   \n",
       "13375           150        160            0    NaN   On request    6.5   \n",
       "13376           145        853          140    NaN  Immediately    NaN   \n",
       "13377           385       1306            0    NaN  Immediately    7.5   \n",
       "\n",
       "           price  \n",
       "0      1150000.0  \n",
       "1      1420000.0  \n",
       "2       720000.0  \n",
       "3      1430000.0  \n",
       "4       995000.0  \n",
       "...          ...  \n",
       "13373  1101000.0  \n",
       "13374  1750000.0  \n",
       "13375  1415000.0  \n",
       "13376  1465000.0  \n",
       "13377  2750000.0  \n",
       "\n",
       "[13378 rows x 7 columns]"
      ]
     },
     "execution_count": 218,
     "metadata": {},
     "output_type": "execute_result"
    }
   ],
   "source": [
    "df_numeric"
   ]
  },
  {
   "cell_type": "markdown",
   "metadata": {},
   "source": [
    "# Function"
   ]
  },
  {
   "cell_type": "code",
   "execution_count": 268,
   "metadata": {},
   "outputs": [],
   "source": [
    "def clean_integers(df):\n",
    "  '''Cleans the following columns in a dataframe and removes unnecessary columns:\n",
    "  - Living Space\n",
    "  - Plot Area\n",
    "  - Floor Space\n",
    "  - Floor\n",
    "  - Rooms\n",
    "  - Price\n",
    "  - Availability\n",
    "\n",
    "  Args:\n",
    "      df (pandas DataFrame): The .csv as dataframe\n",
    "  '''\n",
    "  def parse_rooms(x):\n",
    "    pattern = '(\\d+\\.\\d) rooms'\n",
    "    match = re.search(pattern, x)\n",
    "    if match is not None:\n",
    "      result = match.group(1)\n",
    "    else:\n",
    "      result = np.NaN\n",
    "    return result\n",
    "\n",
    "  def parse_floor(x):\n",
    "    if x != x:\n",
    "      return np.nan\n",
    "    elif x == 'Ground floor':\n",
    "      return 0\n",
    "    elif re.search('\\. floor', x):\n",
    "      return re.search('\\d+', x).group()\n",
    "    elif re.search('Basement', x):\n",
    "      return '-' + re.search('\\d+', x).group()\n",
    "\n",
    "  col_names = df.columns.array\n",
    "  col_names[0:2] = ['Index1', 'Index2']\n",
    "  df.columns = col_names  \n",
    "\n",
    "  columns_to_drop = ['Index1', 'Index2', 'Living space', 'Plot area', 'Floor space', 'Floor', 'detail_responsive#surface_living', 'detail_responsive#floor', 'Wohnfläche', 'Stockwerk', 'Nutzfläche', 'Grundstücksfläche', 'detail_responsive#surface_property', 'detail_responsive#surface_usable', 'Surface habitable', 'Surface du terrain', 'Surface utile', 'Étage', 'Superficie abitabile', 'Piano', 'Superficie del terreno', 'Superficie utile', 'Floor_merged', 'Living_space_merged', 'Floor_space_merged', 'Plot_area_merged', 'Space extracted', 'Gross return', 'price_cleaned', 'Availability', 'Verfügbarkeit', 'Disponibilité', 'Disponibilità', 'detail_responsive#available_from',  'Availability_merged']\n",
    "  \n",
    "  # Merge columns\n",
    "  df['living_space'] = df['Space extracted']\n",
    "  df['plot_area'] = df['Plot_area_merged'].fillna('') + \\\n",
    "    df['detail_responsive#surface_property'].fillna('')\n",
    "  df['floor_space'] = df['Floor_space_merged'].fillna('') + \\\n",
    "    df['detail_responsive#surface_usable'].fillna('')\n",
    "  df['floor'] = df['Floor_merged'].fillna('') + \\\n",
    "    df['detail_responsive#floor'].fillna('')\n",
    "  df['availability'] = df['Availability_merged'].fillna('') + \\\n",
    "    df['detail_responsive#available_from'].fillna('')\n",
    "  df['price'] = df['price_cleaned']\n",
    "\n",
    "  # Parsing\n",
    "  df['plot_area'] = df['plot_area'].replace('', np.nan).str.extract('(\\d+)').astype(float)\n",
    "  df['floor_space'] = df['floor_space'].replace('', np.nan).str.extract('(\\d+)').astype(float)\n",
    "  df['floor'] = df['floor'].replace('', np.nan).apply(parse_floor).astype(float)\n",
    "  df['availability'] = df['availability'].replace('', np.nan)\n",
    "  df['rooms'] = df['details_structured'].apply(parse_rooms).astype(float)\n",
    "\n",
    "  df.drop(columns_to_drop, axis=1, inplace=True)\n",
    "\n",
    "  return df  "
   ]
  },
  {
   "cell_type": "code",
   "execution_count": 270,
   "metadata": {},
   "outputs": [
    {
     "data": {
      "text/html": [
       "<div>\n",
       "<style scoped>\n",
       "    .dataframe tbody tr th:only-of-type {\n",
       "        vertical-align: middle;\n",
       "    }\n",
       "\n",
       "    .dataframe tbody tr th {\n",
       "        vertical-align: top;\n",
       "    }\n",
       "\n",
       "    .dataframe thead th {\n",
       "        text-align: right;\n",
       "    }\n",
       "</style>\n",
       "<table border=\"1\" class=\"dataframe\">\n",
       "  <thead>\n",
       "    <tr style=\"text-align: right;\">\n",
       "      <th></th>\n",
       "      <th>Municipality</th>\n",
       "      <th>location</th>\n",
       "      <th>description</th>\n",
       "      <th>detailed_description</th>\n",
       "      <th>url</th>\n",
       "      <th>table</th>\n",
       "      <th>detail_responsive#municipality</th>\n",
       "      <th>Gemeinde</th>\n",
       "      <th>Commune</th>\n",
       "      <th>Comune</th>\n",
       "      <th>Municipality_merged</th>\n",
       "      <th>location_parsed</th>\n",
       "      <th>title</th>\n",
       "      <th>details</th>\n",
       "      <th>address</th>\n",
       "      <th>price</th>\n",
       "      <th>link</th>\n",
       "      <th>details_structured</th>\n",
       "      <th>lat</th>\n",
       "      <th>lon</th>\n",
       "      <th>index</th>\n",
       "      <th>ForestDensityL</th>\n",
       "      <th>ForestDensityM</th>\n",
       "      <th>ForestDensityS</th>\n",
       "      <th>Latitude</th>\n",
       "      <th>Locality</th>\n",
       "      <th>Longitude</th>\n",
       "      <th>NoisePollutionRailwayL</th>\n",
       "      <th>NoisePollutionRailwayM</th>\n",
       "      <th>NoisePollutionRailwayS</th>\n",
       "      <th>NoisePollutionRoadL</th>\n",
       "      <th>NoisePollutionRoadM</th>\n",
       "      <th>NoisePollutionRoadS</th>\n",
       "      <th>PopulationDensityL</th>\n",
       "      <th>PopulationDensityM</th>\n",
       "      <th>PopulationDensityS</th>\n",
       "      <th>RiversAndLakesL</th>\n",
       "      <th>RiversAndLakesM</th>\n",
       "      <th>RiversAndLakesS</th>\n",
       "      <th>WorkplaceDensityL</th>\n",
       "      <th>WorkplaceDensityM</th>\n",
       "      <th>WorkplaceDensityS</th>\n",
       "      <th>Zip</th>\n",
       "      <th>distanceToTrainStation</th>\n",
       "      <th>gde_area_agriculture_percentage</th>\n",
       "      <th>gde_area_forest_percentage</th>\n",
       "      <th>gde_area_nonproductive_percentage</th>\n",
       "      <th>gde_area_settlement_percentage</th>\n",
       "      <th>gde_average_house_hold</th>\n",
       "      <th>gde_empty_apartments</th>\n",
       "      <th>gde_foreigners_percentage</th>\n",
       "      <th>gde_new_homes_per_1000</th>\n",
       "      <th>gde_politics_bdp</th>\n",
       "      <th>gde_politics_cvp</th>\n",
       "      <th>gde_politics_evp</th>\n",
       "      <th>gde_politics_fdp</th>\n",
       "      <th>gde_politics_glp</th>\n",
       "      <th>gde_politics_gps</th>\n",
       "      <th>gde_politics_pda</th>\n",
       "      <th>gde_politics_rights</th>\n",
       "      <th>gde_politics_sp</th>\n",
       "      <th>gde_politics_svp</th>\n",
       "      <th>gde_pop_per_km2</th>\n",
       "      <th>gde_population</th>\n",
       "      <th>gde_private_apartments</th>\n",
       "      <th>gde_social_help_quota</th>\n",
       "      <th>gde_tax</th>\n",
       "      <th>gde_workers_sector1</th>\n",
       "      <th>gde_workers_sector2</th>\n",
       "      <th>gde_workers_sector3</th>\n",
       "      <th>gde_workers_total</th>\n",
       "      <th>type</th>\n",
       "      <th>rooms</th>\n",
       "      <th>living_space</th>\n",
       "      <th>plot_area</th>\n",
       "      <th>floor_space</th>\n",
       "      <th>floor</th>\n",
       "      <th>availability</th>\n",
       "    </tr>\n",
       "  </thead>\n",
       "  <tbody>\n",
       "    <tr>\n",
       "      <th>0</th>\n",
       "      <td>Biberstein</td>\n",
       "      <td>5023 Biberstein, AG</td>\n",
       "      <td>3.5 rooms, 100 m²«Luxuriöse Attika-Wohnung mit...</td>\n",
       "      <td>DescriptionLuxuriöse Attika-Wohnung direkt an ...</td>\n",
       "      <td>https://www.immoscout24.ch//en/d/penthouse-buy...</td>\n",
       "      <td>b &lt;article class=####Box-cYFBPY hKrxoH####&gt;&lt;h2...</td>\n",
       "      <td>NaN</td>\n",
       "      <td>NaN</td>\n",
       "      <td>NaN</td>\n",
       "      <td>NaN</td>\n",
       "      <td>Biberstein</td>\n",
       "      <td>Strasse:  plz:5023 Stadt: Biberstein Kanton: AG</td>\n",
       "      <td>Luxuriöse Attika-Wohnung mit herrlicher Aussicht</td>\n",
       "      <td>3.5 rooms, 100 m²,</td>\n",
       "      <td>5023 Biberstein, AG</td>\n",
       "      <td>1150000.0</td>\n",
       "      <td>/en/d/penthouse-buy-biberstein/7255200</td>\n",
       "      <td>{'Municipality': 'Biberstein', 'Living space':...</td>\n",
       "      <td>47.417100</td>\n",
       "      <td>8.085600</td>\n",
       "      <td>16620</td>\n",
       "      <td>0.511176</td>\n",
       "      <td>0.286451</td>\n",
       "      <td>0.090908</td>\n",
       "      <td>47.415927</td>\n",
       "      <td>Biberstein</td>\n",
       "      <td>8.085840</td>\n",
       "      <td>0.0</td>\n",
       "      <td>0.0</td>\n",
       "      <td>0.0</td>\n",
       "      <td>0.058298</td>\n",
       "      <td>0.067048</td>\n",
       "      <td>0.103850</td>\n",
       "      <td>0.092914</td>\n",
       "      <td>0.209530</td>\n",
       "      <td>0.366674</td>\n",
       "      <td>0.082170</td>\n",
       "      <td>0.001811</td>\n",
       "      <td>0.011871</td>\n",
       "      <td>0.030169</td>\n",
       "      <td>0.052120</td>\n",
       "      <td>0.098951</td>\n",
       "      <td>5023</td>\n",
       "      <td>3.038467</td>\n",
       "      <td>30.676329</td>\n",
       "      <td>51.449275</td>\n",
       "      <td>4.589372</td>\n",
       "      <td>13.285024</td>\n",
       "      <td>2.23</td>\n",
       "      <td>1.994681</td>\n",
       "      <td>9.255663</td>\n",
       "      <td>4.739336</td>\n",
       "      <td>5.873715</td>\n",
       "      <td>4.579662</td>\n",
       "      <td>3.359031</td>\n",
       "      <td>18.355360</td>\n",
       "      <td>6.057269</td>\n",
       "      <td>7.066814</td>\n",
       "      <td>NaN</td>\n",
       "      <td>0.220264</td>\n",
       "      <td>20.392805</td>\n",
       "      <td>30.809471</td>\n",
       "      <td>376.829268</td>\n",
       "      <td>1545.0</td>\n",
       "      <td>686.0</td>\n",
       "      <td>2.234259</td>\n",
       "      <td>5.89</td>\n",
       "      <td>14.0</td>\n",
       "      <td>9.0</td>\n",
       "      <td>308.0</td>\n",
       "      <td>331.0</td>\n",
       "      <td>penthouse</td>\n",
       "      <td>3.5</td>\n",
       "      <td>100.0</td>\n",
       "      <td>NaN</td>\n",
       "      <td>NaN</td>\n",
       "      <td>4.0</td>\n",
       "      <td>On request</td>\n",
       "    </tr>\n",
       "    <tr>\n",
       "      <th>1</th>\n",
       "      <td>Biberstein</td>\n",
       "      <td>Buhldenstrasse 8d5023 Biberstein, AG</td>\n",
       "      <td>4.5 rooms, 156 m²«Stilvolle Liegenschaft - ruh...</td>\n",
       "      <td>DescriptionStilvolle Liegenschaft an ruhiger L...</td>\n",
       "      <td>https://www.immoscout24.ch//en/d/terrace-house...</td>\n",
       "      <td>b &lt;article class=####Box-cYFBPY hKrxoH####&gt;&lt;h2...</td>\n",
       "      <td>NaN</td>\n",
       "      <td>NaN</td>\n",
       "      <td>NaN</td>\n",
       "      <td>NaN</td>\n",
       "      <td>Biberstein</td>\n",
       "      <td>Strasse:Buhldenstrasse  8d plz:5023 Stadt: Bib...</td>\n",
       "      <td>Stilvolle Liegenschaft - ruhige Lage, unverbau...</td>\n",
       "      <td>4.5 rooms, 156 m²,</td>\n",
       "      <td>Buhldenstrasse 8d, 5023 Biberstein, AG</td>\n",
       "      <td>1420000.0</td>\n",
       "      <td>/en/d/terrace-house-buy-biberstein/7266694</td>\n",
       "      <td>{'Municipality': 'Biberstein', 'Living space':...</td>\n",
       "      <td>47.419500</td>\n",
       "      <td>8.082700</td>\n",
       "      <td>16620</td>\n",
       "      <td>0.511176</td>\n",
       "      <td>0.286451</td>\n",
       "      <td>0.090908</td>\n",
       "      <td>47.415927</td>\n",
       "      <td>Biberstein</td>\n",
       "      <td>8.085840</td>\n",
       "      <td>0.0</td>\n",
       "      <td>0.0</td>\n",
       "      <td>0.0</td>\n",
       "      <td>0.058298</td>\n",
       "      <td>0.067048</td>\n",
       "      <td>0.103850</td>\n",
       "      <td>0.092914</td>\n",
       "      <td>0.209530</td>\n",
       "      <td>0.366674</td>\n",
       "      <td>0.082170</td>\n",
       "      <td>0.001811</td>\n",
       "      <td>0.011871</td>\n",
       "      <td>0.030169</td>\n",
       "      <td>0.052120</td>\n",
       "      <td>0.098951</td>\n",
       "      <td>5023</td>\n",
       "      <td>3.038467</td>\n",
       "      <td>30.676329</td>\n",
       "      <td>51.449275</td>\n",
       "      <td>4.589372</td>\n",
       "      <td>13.285024</td>\n",
       "      <td>2.23</td>\n",
       "      <td>1.994681</td>\n",
       "      <td>9.255663</td>\n",
       "      <td>4.739336</td>\n",
       "      <td>5.873715</td>\n",
       "      <td>4.579662</td>\n",
       "      <td>3.359031</td>\n",
       "      <td>18.355360</td>\n",
       "      <td>6.057269</td>\n",
       "      <td>7.066814</td>\n",
       "      <td>NaN</td>\n",
       "      <td>0.220264</td>\n",
       "      <td>20.392805</td>\n",
       "      <td>30.809471</td>\n",
       "      <td>376.829268</td>\n",
       "      <td>1545.0</td>\n",
       "      <td>686.0</td>\n",
       "      <td>2.234259</td>\n",
       "      <td>5.89</td>\n",
       "      <td>14.0</td>\n",
       "      <td>9.0</td>\n",
       "      <td>308.0</td>\n",
       "      <td>331.0</td>\n",
       "      <td>terrace-house</td>\n",
       "      <td>4.5</td>\n",
       "      <td>156.0</td>\n",
       "      <td>222.0</td>\n",
       "      <td>242.0</td>\n",
       "      <td>NaN</td>\n",
       "      <td>On request</td>\n",
       "    </tr>\n",
       "    <tr>\n",
       "      <th>2</th>\n",
       "      <td>NaN</td>\n",
       "      <td>5022 Rombach, AG</td>\n",
       "      <td>2.5 rooms, 93 m²«Moderne, lichtdurchflutete At...</td>\n",
       "      <td>detail_responsive#description_title2,5 Zimmerw...</td>\n",
       "      <td>https://www.immoscout24.ch//en/d/penthouse-buy...</td>\n",
       "      <td>b &lt;article class=####Box-cYFBPY hKrxoH####&gt;&lt;h2...</td>\n",
       "      <td>Küttigen</td>\n",
       "      <td>NaN</td>\n",
       "      <td>NaN</td>\n",
       "      <td>NaN</td>\n",
       "      <td>NaN</td>\n",
       "      <td>Strasse:  plz:5022 Stadt: Rombach Kanton: AG</td>\n",
       "      <td>Moderne, lichtdurchflutete Attikawohnung mit E...</td>\n",
       "      <td>2.5 rooms, 93 m²,</td>\n",
       "      <td>5022 Rombach, AG</td>\n",
       "      <td>720000.0</td>\n",
       "      <td>/en/d/penthouse-buy-rombach/7261389</td>\n",
       "      <td>{'detail_responsive#municipality': 'Küttigen',...</td>\n",
       "      <td>47.403300</td>\n",
       "      <td>8.033000</td>\n",
       "      <td>17812</td>\n",
       "      <td>0.163362</td>\n",
       "      <td>0.095877</td>\n",
       "      <td>0.001911</td>\n",
       "      <td>47.397416</td>\n",
       "      <td>Aarau</td>\n",
       "      <td>8.043150</td>\n",
       "      <td>0.0</td>\n",
       "      <td>0.0</td>\n",
       "      <td>0.0</td>\n",
       "      <td>0.334957</td>\n",
       "      <td>0.381257</td>\n",
       "      <td>0.297575</td>\n",
       "      <td>0.325887</td>\n",
       "      <td>0.393783</td>\n",
       "      <td>0.635194</td>\n",
       "      <td>0.154274</td>\n",
       "      <td>0.188229</td>\n",
       "      <td>0.000000</td>\n",
       "      <td>0.172646</td>\n",
       "      <td>0.163850</td>\n",
       "      <td>0.165830</td>\n",
       "      <td>5000</td>\n",
       "      <td>0.909587</td>\n",
       "      <td>11.354420</td>\n",
       "      <td>32.197891</td>\n",
       "      <td>7.137064</td>\n",
       "      <td>49.310624</td>\n",
       "      <td>2.01</td>\n",
       "      <td>2.023799</td>\n",
       "      <td>21.358623</td>\n",
       "      <td>3.814582</td>\n",
       "      <td>3.633134</td>\n",
       "      <td>5.324421</td>\n",
       "      <td>3.782202</td>\n",
       "      <td>18.089552</td>\n",
       "      <td>7.899807</td>\n",
       "      <td>8.851305</td>\n",
       "      <td>NaN</td>\n",
       "      <td>0.735032</td>\n",
       "      <td>26.515854</td>\n",
       "      <td>22.662290</td>\n",
       "      <td>1704.700162</td>\n",
       "      <td>21036.0</td>\n",
       "      <td>10149.0</td>\n",
       "      <td>3.549010</td>\n",
       "      <td>6.05</td>\n",
       "      <td>37.0</td>\n",
       "      <td>3092.0</td>\n",
       "      <td>30364.0</td>\n",
       "      <td>33493.0</td>\n",
       "      <td>penthouse</td>\n",
       "      <td>2.5</td>\n",
       "      <td>93.0</td>\n",
       "      <td>NaN</td>\n",
       "      <td>NaN</td>\n",
       "      <td>2.0</td>\n",
       "      <td>Immediately</td>\n",
       "    </tr>\n",
       "    <tr>\n",
       "      <th>3</th>\n",
       "      <td>Biberstein</td>\n",
       "      <td>Buhaldenstrasse 8A5023 Biberstein, AG</td>\n",
       "      <td>4.5 rooms, 154 m²«AgentSelly - Luxuriöses Eckh...</td>\n",
       "      <td>DescriptionDieses äusserst grosszügige Minergi...</td>\n",
       "      <td>https://www.immoscout24.ch//en/d/detached-hous...</td>\n",
       "      <td>b &lt;article class=####Box-cYFBPY hKrxoH####&gt;&lt;h2...</td>\n",
       "      <td>NaN</td>\n",
       "      <td>NaN</td>\n",
       "      <td>NaN</td>\n",
       "      <td>NaN</td>\n",
       "      <td>Biberstein</td>\n",
       "      <td>Strasse:Buhaldenstrasse  8A plz:5023 Stadt: Bi...</td>\n",
       "      <td>AgentSelly - Luxuriöses Eckhaus an toller Süd-...</td>\n",
       "      <td>4.5 rooms, 154 m²,</td>\n",
       "      <td>Buhaldenstrasse 8A, 5023 Biberstein, AG</td>\n",
       "      <td>1430000.0</td>\n",
       "      <td>/en/d/detached-house-buy-biberstein/7047212</td>\n",
       "      <td>{'Municipality': 'Biberstein', 'Living space':...</td>\n",
       "      <td>47.415643</td>\n",
       "      <td>8.085423</td>\n",
       "      <td>16620</td>\n",
       "      <td>0.511176</td>\n",
       "      <td>0.286451</td>\n",
       "      <td>0.090908</td>\n",
       "      <td>47.415927</td>\n",
       "      <td>Biberstein</td>\n",
       "      <td>8.085840</td>\n",
       "      <td>0.0</td>\n",
       "      <td>0.0</td>\n",
       "      <td>0.0</td>\n",
       "      <td>0.058298</td>\n",
       "      <td>0.067048</td>\n",
       "      <td>0.103850</td>\n",
       "      <td>0.092914</td>\n",
       "      <td>0.209530</td>\n",
       "      <td>0.366674</td>\n",
       "      <td>0.082170</td>\n",
       "      <td>0.001811</td>\n",
       "      <td>0.011871</td>\n",
       "      <td>0.030169</td>\n",
       "      <td>0.052120</td>\n",
       "      <td>0.098951</td>\n",
       "      <td>5023</td>\n",
       "      <td>3.038467</td>\n",
       "      <td>30.676329</td>\n",
       "      <td>51.449275</td>\n",
       "      <td>4.589372</td>\n",
       "      <td>13.285024</td>\n",
       "      <td>2.23</td>\n",
       "      <td>1.994681</td>\n",
       "      <td>9.255663</td>\n",
       "      <td>4.739336</td>\n",
       "      <td>5.873715</td>\n",
       "      <td>4.579662</td>\n",
       "      <td>3.359031</td>\n",
       "      <td>18.355360</td>\n",
       "      <td>6.057269</td>\n",
       "      <td>7.066814</td>\n",
       "      <td>NaN</td>\n",
       "      <td>0.220264</td>\n",
       "      <td>20.392805</td>\n",
       "      <td>30.809471</td>\n",
       "      <td>376.829268</td>\n",
       "      <td>1545.0</td>\n",
       "      <td>686.0</td>\n",
       "      <td>2.234259</td>\n",
       "      <td>5.89</td>\n",
       "      <td>14.0</td>\n",
       "      <td>9.0</td>\n",
       "      <td>308.0</td>\n",
       "      <td>331.0</td>\n",
       "      <td>detached-house</td>\n",
       "      <td>4.5</td>\n",
       "      <td>154.0</td>\n",
       "      <td>370.0</td>\n",
       "      <td>257.0</td>\n",
       "      <td>NaN</td>\n",
       "      <td>On request</td>\n",
       "    </tr>\n",
       "    <tr>\n",
       "      <th>4</th>\n",
       "      <td>Küttigen</td>\n",
       "      <td>5022 Rombach, AG</td>\n",
       "      <td>4.5 rooms, 142 m²«MIT GARTENSITZPLATZ UND VIEL...</td>\n",
       "      <td>DescriptionAus ehemals zwei Wohnungen wurde ei...</td>\n",
       "      <td>https://www.immoscout24.ch//en/d/flat-buy-romb...</td>\n",
       "      <td>b &lt;article class=####Box-cYFBPY hKrxoH####&gt;&lt;h2...</td>\n",
       "      <td>NaN</td>\n",
       "      <td>NaN</td>\n",
       "      <td>NaN</td>\n",
       "      <td>NaN</td>\n",
       "      <td>Küttigen</td>\n",
       "      <td>Strasse:  plz:5022 Stadt: Rombach Kanton: AG</td>\n",
       "      <td>MIT GARTENSITZPLATZ UND VIELEN EXTRAS</td>\n",
       "      <td>4.5 rooms, 142 m²,</td>\n",
       "      <td>5022 Rombach, AG</td>\n",
       "      <td>995000.0</td>\n",
       "      <td>/en/d/flat-buy-rombach/7293107</td>\n",
       "      <td>{'Municipality': 'Küttigen', 'Living space': '...</td>\n",
       "      <td>47.403824</td>\n",
       "      <td>8.048288</td>\n",
       "      <td>12716</td>\n",
       "      <td>0.333865</td>\n",
       "      <td>0.279276</td>\n",
       "      <td>0.145835</td>\n",
       "      <td>47.404870</td>\n",
       "      <td>Rombach</td>\n",
       "      <td>8.052781</td>\n",
       "      <td>0.0</td>\n",
       "      <td>0.0</td>\n",
       "      <td>0.0</td>\n",
       "      <td>0.133498</td>\n",
       "      <td>0.132933</td>\n",
       "      <td>0.235917</td>\n",
       "      <td>0.190986</td>\n",
       "      <td>0.136984</td>\n",
       "      <td>0.204549</td>\n",
       "      <td>0.109586</td>\n",
       "      <td>0.141473</td>\n",
       "      <td>0.091805</td>\n",
       "      <td>0.046950</td>\n",
       "      <td>0.038008</td>\n",
       "      <td>0.055509</td>\n",
       "      <td>5022</td>\n",
       "      <td>1.460245</td>\n",
       "      <td>33.137090</td>\n",
       "      <td>49.705635</td>\n",
       "      <td>1.177460</td>\n",
       "      <td>15.979815</td>\n",
       "      <td>2.28</td>\n",
       "      <td>0.691563</td>\n",
       "      <td>15.901990</td>\n",
       "      <td>1.160862</td>\n",
       "      <td>5.217740</td>\n",
       "      <td>5.728026</td>\n",
       "      <td>5.006679</td>\n",
       "      <td>19.158429</td>\n",
       "      <td>6.502805</td>\n",
       "      <td>7.477959</td>\n",
       "      <td>NaN</td>\n",
       "      <td>0.892332</td>\n",
       "      <td>20.459524</td>\n",
       "      <td>27.590168</td>\n",
       "      <td>511.008403</td>\n",
       "      <td>6081.0</td>\n",
       "      <td>2638.0</td>\n",
       "      <td>1.708126</td>\n",
       "      <td>6.30</td>\n",
       "      <td>65.0</td>\n",
       "      <td>349.0</td>\n",
       "      <td>941.0</td>\n",
       "      <td>1355.0</td>\n",
       "      <td>flat</td>\n",
       "      <td>4.5</td>\n",
       "      <td>142.0</td>\n",
       "      <td>NaN</td>\n",
       "      <td>NaN</td>\n",
       "      <td>0.0</td>\n",
       "      <td>On request</td>\n",
       "    </tr>\n",
       "  </tbody>\n",
       "</table>\n",
       "</div>"
      ],
      "text/plain": [
       "  Municipality                               location  \\\n",
       "0   Biberstein                    5023 Biberstein, AG   \n",
       "1   Biberstein   Buhldenstrasse 8d5023 Biberstein, AG   \n",
       "2          NaN                       5022 Rombach, AG   \n",
       "3   Biberstein  Buhaldenstrasse 8A5023 Biberstein, AG   \n",
       "4     Küttigen                       5022 Rombach, AG   \n",
       "\n",
       "                                         description  \\\n",
       "0  3.5 rooms, 100 m²«Luxuriöse Attika-Wohnung mit...   \n",
       "1  4.5 rooms, 156 m²«Stilvolle Liegenschaft - ruh...   \n",
       "2  2.5 rooms, 93 m²«Moderne, lichtdurchflutete At...   \n",
       "3  4.5 rooms, 154 m²«AgentSelly - Luxuriöses Eckh...   \n",
       "4  4.5 rooms, 142 m²«MIT GARTENSITZPLATZ UND VIEL...   \n",
       "\n",
       "                                detailed_description  \\\n",
       "0  DescriptionLuxuriöse Attika-Wohnung direkt an ...   \n",
       "1  DescriptionStilvolle Liegenschaft an ruhiger L...   \n",
       "2  detail_responsive#description_title2,5 Zimmerw...   \n",
       "3  DescriptionDieses äusserst grosszügige Minergi...   \n",
       "4  DescriptionAus ehemals zwei Wohnungen wurde ei...   \n",
       "\n",
       "                                                 url  \\\n",
       "0  https://www.immoscout24.ch//en/d/penthouse-buy...   \n",
       "1  https://www.immoscout24.ch//en/d/terrace-house...   \n",
       "2  https://www.immoscout24.ch//en/d/penthouse-buy...   \n",
       "3  https://www.immoscout24.ch//en/d/detached-hous...   \n",
       "4  https://www.immoscout24.ch//en/d/flat-buy-romb...   \n",
       "\n",
       "                                               table  \\\n",
       "0  b <article class=####Box-cYFBPY hKrxoH####><h2...   \n",
       "1  b <article class=####Box-cYFBPY hKrxoH####><h2...   \n",
       "2  b <article class=####Box-cYFBPY hKrxoH####><h2...   \n",
       "3  b <article class=####Box-cYFBPY hKrxoH####><h2...   \n",
       "4  b <article class=####Box-cYFBPY hKrxoH####><h2...   \n",
       "\n",
       "  detail_responsive#municipality Gemeinde Commune Comune Municipality_merged  \\\n",
       "0                            NaN      NaN     NaN    NaN          Biberstein   \n",
       "1                            NaN      NaN     NaN    NaN          Biberstein   \n",
       "2                       Küttigen      NaN     NaN    NaN                 NaN   \n",
       "3                            NaN      NaN     NaN    NaN          Biberstein   \n",
       "4                            NaN      NaN     NaN    NaN            Küttigen   \n",
       "\n",
       "                                     location_parsed  \\\n",
       "0    Strasse:  plz:5023 Stadt: Biberstein Kanton: AG   \n",
       "1  Strasse:Buhldenstrasse  8d plz:5023 Stadt: Bib...   \n",
       "2       Strasse:  plz:5022 Stadt: Rombach Kanton: AG   \n",
       "3  Strasse:Buhaldenstrasse  8A plz:5023 Stadt: Bi...   \n",
       "4       Strasse:  plz:5022 Stadt: Rombach Kanton: AG   \n",
       "\n",
       "                                               title              details  \\\n",
       "0   Luxuriöse Attika-Wohnung mit herrlicher Aussicht  3.5 rooms, 100 m²,    \n",
       "1  Stilvolle Liegenschaft - ruhige Lage, unverbau...  4.5 rooms, 156 m²,    \n",
       "2  Moderne, lichtdurchflutete Attikawohnung mit E...   2.5 rooms, 93 m²,    \n",
       "3  AgentSelly - Luxuriöses Eckhaus an toller Süd-...  4.5 rooms, 154 m²,    \n",
       "4              MIT GARTENSITZPLATZ UND VIELEN EXTRAS  4.5 rooms, 142 m²,    \n",
       "\n",
       "                                   address      price  \\\n",
       "0                      5023 Biberstein, AG  1150000.0   \n",
       "1   Buhldenstrasse 8d, 5023 Biberstein, AG  1420000.0   \n",
       "2                         5022 Rombach, AG   720000.0   \n",
       "3  Buhaldenstrasse 8A, 5023 Biberstein, AG  1430000.0   \n",
       "4                         5022 Rombach, AG   995000.0   \n",
       "\n",
       "                                          link  \\\n",
       "0       /en/d/penthouse-buy-biberstein/7255200   \n",
       "1   /en/d/terrace-house-buy-biberstein/7266694   \n",
       "2          /en/d/penthouse-buy-rombach/7261389   \n",
       "3  /en/d/detached-house-buy-biberstein/7047212   \n",
       "4               /en/d/flat-buy-rombach/7293107   \n",
       "\n",
       "                                  details_structured        lat       lon  \\\n",
       "0  {'Municipality': 'Biberstein', 'Living space':...  47.417100  8.085600   \n",
       "1  {'Municipality': 'Biberstein', 'Living space':...  47.419500  8.082700   \n",
       "2  {'detail_responsive#municipality': 'Küttigen',...  47.403300  8.033000   \n",
       "3  {'Municipality': 'Biberstein', 'Living space':...  47.415643  8.085423   \n",
       "4  {'Municipality': 'Küttigen', 'Living space': '...  47.403824  8.048288   \n",
       "\n",
       "   index  ForestDensityL  ForestDensityM  ForestDensityS   Latitude  \\\n",
       "0  16620        0.511176        0.286451        0.090908  47.415927   \n",
       "1  16620        0.511176        0.286451        0.090908  47.415927   \n",
       "2  17812        0.163362        0.095877        0.001911  47.397416   \n",
       "3  16620        0.511176        0.286451        0.090908  47.415927   \n",
       "4  12716        0.333865        0.279276        0.145835  47.404870   \n",
       "\n",
       "     Locality  Longitude  NoisePollutionRailwayL  NoisePollutionRailwayM  \\\n",
       "0  Biberstein   8.085840                     0.0                     0.0   \n",
       "1  Biberstein   8.085840                     0.0                     0.0   \n",
       "2       Aarau   8.043150                     0.0                     0.0   \n",
       "3  Biberstein   8.085840                     0.0                     0.0   \n",
       "4     Rombach   8.052781                     0.0                     0.0   \n",
       "\n",
       "   NoisePollutionRailwayS  NoisePollutionRoadL  NoisePollutionRoadM  \\\n",
       "0                     0.0             0.058298             0.067048   \n",
       "1                     0.0             0.058298             0.067048   \n",
       "2                     0.0             0.334957             0.381257   \n",
       "3                     0.0             0.058298             0.067048   \n",
       "4                     0.0             0.133498             0.132933   \n",
       "\n",
       "   NoisePollutionRoadS  PopulationDensityL  PopulationDensityM  \\\n",
       "0             0.103850            0.092914            0.209530   \n",
       "1             0.103850            0.092914            0.209530   \n",
       "2             0.297575            0.325887            0.393783   \n",
       "3             0.103850            0.092914            0.209530   \n",
       "4             0.235917            0.190986            0.136984   \n",
       "\n",
       "   PopulationDensityS  RiversAndLakesL  RiversAndLakesM  RiversAndLakesS  \\\n",
       "0            0.366674         0.082170         0.001811         0.011871   \n",
       "1            0.366674         0.082170         0.001811         0.011871   \n",
       "2            0.635194         0.154274         0.188229         0.000000   \n",
       "3            0.366674         0.082170         0.001811         0.011871   \n",
       "4            0.204549         0.109586         0.141473         0.091805   \n",
       "\n",
       "   WorkplaceDensityL  WorkplaceDensityM  WorkplaceDensityS   Zip  \\\n",
       "0           0.030169           0.052120           0.098951  5023   \n",
       "1           0.030169           0.052120           0.098951  5023   \n",
       "2           0.172646           0.163850           0.165830  5000   \n",
       "3           0.030169           0.052120           0.098951  5023   \n",
       "4           0.046950           0.038008           0.055509  5022   \n",
       "\n",
       "   distanceToTrainStation  gde_area_agriculture_percentage  \\\n",
       "0                3.038467                        30.676329   \n",
       "1                3.038467                        30.676329   \n",
       "2                0.909587                        11.354420   \n",
       "3                3.038467                        30.676329   \n",
       "4                1.460245                        33.137090   \n",
       "\n",
       "   gde_area_forest_percentage  gde_area_nonproductive_percentage  \\\n",
       "0                   51.449275                           4.589372   \n",
       "1                   51.449275                           4.589372   \n",
       "2                   32.197891                           7.137064   \n",
       "3                   51.449275                           4.589372   \n",
       "4                   49.705635                           1.177460   \n",
       "\n",
       "   gde_area_settlement_percentage  gde_average_house_hold  \\\n",
       "0                       13.285024                    2.23   \n",
       "1                       13.285024                    2.23   \n",
       "2                       49.310624                    2.01   \n",
       "3                       13.285024                    2.23   \n",
       "4                       15.979815                    2.28   \n",
       "\n",
       "   gde_empty_apartments  gde_foreigners_percentage  gde_new_homes_per_1000  \\\n",
       "0              1.994681                   9.255663                4.739336   \n",
       "1              1.994681                   9.255663                4.739336   \n",
       "2              2.023799                  21.358623                3.814582   \n",
       "3              1.994681                   9.255663                4.739336   \n",
       "4              0.691563                  15.901990                1.160862   \n",
       "\n",
       "   gde_politics_bdp  gde_politics_cvp  gde_politics_evp  gde_politics_fdp  \\\n",
       "0          5.873715          4.579662          3.359031         18.355360   \n",
       "1          5.873715          4.579662          3.359031         18.355360   \n",
       "2          3.633134          5.324421          3.782202         18.089552   \n",
       "3          5.873715          4.579662          3.359031         18.355360   \n",
       "4          5.217740          5.728026          5.006679         19.158429   \n",
       "\n",
       "   gde_politics_glp  gde_politics_gps  gde_politics_pda  gde_politics_rights  \\\n",
       "0          6.057269          7.066814               NaN             0.220264   \n",
       "1          6.057269          7.066814               NaN             0.220264   \n",
       "2          7.899807          8.851305               NaN             0.735032   \n",
       "3          6.057269          7.066814               NaN             0.220264   \n",
       "4          6.502805          7.477959               NaN             0.892332   \n",
       "\n",
       "   gde_politics_sp  gde_politics_svp  gde_pop_per_km2  gde_population  \\\n",
       "0        20.392805         30.809471       376.829268          1545.0   \n",
       "1        20.392805         30.809471       376.829268          1545.0   \n",
       "2        26.515854         22.662290      1704.700162         21036.0   \n",
       "3        20.392805         30.809471       376.829268          1545.0   \n",
       "4        20.459524         27.590168       511.008403          6081.0   \n",
       "\n",
       "   gde_private_apartments  gde_social_help_quota  gde_tax  \\\n",
       "0                   686.0               2.234259     5.89   \n",
       "1                   686.0               2.234259     5.89   \n",
       "2                 10149.0               3.549010     6.05   \n",
       "3                   686.0               2.234259     5.89   \n",
       "4                  2638.0               1.708126     6.30   \n",
       "\n",
       "   gde_workers_sector1  gde_workers_sector2  gde_workers_sector3  \\\n",
       "0                 14.0                  9.0                308.0   \n",
       "1                 14.0                  9.0                308.0   \n",
       "2                 37.0               3092.0              30364.0   \n",
       "3                 14.0                  9.0                308.0   \n",
       "4                 65.0                349.0                941.0   \n",
       "\n",
       "   gde_workers_total            type  rooms  living_space  plot_area  \\\n",
       "0              331.0       penthouse    3.5         100.0        NaN   \n",
       "1              331.0   terrace-house    4.5         156.0      222.0   \n",
       "2            33493.0       penthouse    2.5          93.0        NaN   \n",
       "3              331.0  detached-house    4.5         154.0      370.0   \n",
       "4             1355.0            flat    4.5         142.0        NaN   \n",
       "\n",
       "   floor_space  floor availability  \n",
       "0          NaN    4.0   On request  \n",
       "1        242.0    NaN   On request  \n",
       "2          NaN    2.0  Immediately  \n",
       "3        257.0    NaN   On request  \n",
       "4          NaN    0.0   On request  "
      ]
     },
     "execution_count": 270,
     "metadata": {},
     "output_type": "execute_result"
    }
   ],
   "source": [
    "df_cleaned = clean_integers(pd.read_csv('../data/immoscout_cleaned_lat_lon_fixed_v9.csv', low_memory=False))\n",
    "df_cleaned.head()"
   ]
  }
 ],
 "metadata": {
  "kernelspec": {
   "display_name": "Python 3.10.6 ('base')",
   "language": "python",
   "name": "python3"
  },
  "language_info": {
   "codemirror_mode": {
    "name": "ipython",
    "version": 3
   },
   "file_extension": ".py",
   "mimetype": "text/x-python",
   "name": "python",
   "nbconvert_exporter": "python",
   "pygments_lexer": "ipython3",
   "version": "3.10.6"
  },
  "orig_nbformat": 4,
  "vscode": {
   "interpreter": {
    "hash": "d4d1e4263499bec80672ea0156c357c1ee493ec2b1c70f0acce89fc37c4a6abe"
   }
  }
 },
 "nbformat": 4,
 "nbformat_minor": 2
}
