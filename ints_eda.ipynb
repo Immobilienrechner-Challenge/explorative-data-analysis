{
 "cells": [
  {
   "cell_type": "code",
   "execution_count": 85,
   "metadata": {},
   "outputs": [
    {
     "name": "stderr",
     "output_type": "stream",
     "text": [
      "/tmp/ipykernel_6581/3177212590.py:6: DtypeWarning: Columns (34) have mixed types. Specify dtype option on import or set low_memory=False.\n",
      "  df = pd.read_csv(\"../data/immoscout_cleaned_lat_lon_fixed_v9.csv\")\n"
     ]
    },
    {
     "data": {
      "text/plain": [
       "(13378, 24)"
      ]
     },
     "execution_count": 85,
     "metadata": {},
     "output_type": "execute_result"
    }
   ],
   "source": [
    "import pandas as pd\n",
    "import numpy as np\n",
    "\n",
    "pd.set_option(\"display.max_columns\", None, \"display.max_rows\", 100)\n",
    "\n",
    "df = pd.read_csv(\"../data/immoscout_cleaned_lat_lon_fixed_v9.csv\")\n",
    "\n",
    "col_names = df.columns.array\n",
    "col_names[0:2] = [\"Index1\", \"Index2\"]\n",
    "df.columns = col_names\n",
    "\n",
    "numeric_columns = [\"Living space\", \"Plot area\", \"Floor space\", \"Floor\", \"detail_responsive#surface_living\", \"detail_responsive#floor\", \"Wohnfläche\", \"Stockwerk\", \"Nutzfläche\", \"Grundstücksfläche\", \"detail_responsive#surface_property\", \"detail_responsive#surface_usable\", \"Surface habitable\", \"Surface du terrain\", \"Surface utile\", \"Étage\", \"Superficie abitabile\", \"Piano\", \"Superficie del terreno\", \"Superficie utile\", \"Floor_merged\", \"Living_space_merged\", \"Floor_space_merged\", \"Plot_area_merged\"]\n",
    "df_numeric = df[numeric_columns]\n",
    "\n",
    "df_numeric.shape"
   ]
  },
  {
   "cell_type": "markdown",
   "metadata": {},
   "source": [
    "In this part of the data analysis we focus on the numeric variables. For each one of them we find a \"_merged\" column in the dataset. How this column has been merged however is unclear, therefore we cannot assume that this column contains all the data.  \n",
    "Therefore we split by values containing information on \"Living Space\", \"Plot Area\", \"Floor Space\" and \"Floor\"."
   ]
  },
  {
   "cell_type": "markdown",
   "metadata": {},
   "source": [
    "## Living Space"
   ]
  },
  {
   "cell_type": "code",
   "execution_count": 86,
   "metadata": {},
   "outputs": [],
   "source": [
    "living_space = [\"Living space\", \"Wohnfläche\", \"Surface habitable\", \"Superficie abitabile\", \"detail_responsive#surface_living\", \"Living_space_merged\"]\n",
    "df_living_space = df_numeric[living_space]"
   ]
  },
  {
   "cell_type": "markdown",
   "metadata": {},
   "source": [
    "To get a sense of how the \"merged\" column was created, we inspect the cumulative sum of the value counts per column and check it against the \"merged\"-count. "
   ]
  },
  {
   "cell_type": "code",
   "execution_count": 87,
   "metadata": {},
   "outputs": [
    {
     "data": {
      "text/plain": [
       "Living space                        False\n",
       "Wohnfläche                          False\n",
       "Surface habitable                   False\n",
       "Superficie abitabile                 True\n",
       "detail_responsive#surface_living    False\n",
       "dtype: bool"
      ]
     },
     "execution_count": 87,
     "metadata": {},
     "output_type": "execute_result"
    }
   ],
   "source": [
    "df_living_space.iloc[:,0:5].count().cumsum() == df_living_space[living_space[5]].count()"
   ]
  },
  {
   "cell_type": "markdown",
   "metadata": {},
   "source": [
    "This suggests, that the column \"Living_space_merged\" contains the information of all the columns excluding \"detail_responsive#surface_living\". \n",
    "\n",
    "Let's see, if this is actually true.\n",
    "\n",
    "First, we merge the relevant columns into one"
   ]
  },
  {
   "cell_type": "code",
   "execution_count": 88,
   "metadata": {},
   "outputs": [
    {
     "name": "stderr",
     "output_type": "stream",
     "text": [
      "/tmp/ipykernel_6581/4020886721.py:1: SettingWithCopyWarning: \n",
      "A value is trying to be set on a copy of a slice from a DataFrame.\n",
      "Try using .loc[row_indexer,col_indexer] = value instead\n",
      "\n",
      "See the caveats in the documentation: https://pandas.pydata.org/pandas-docs/stable/user_guide/indexing.html#returning-a-view-versus-a-copy\n",
      "  df_living_space['living_space'] = df_living_space[living_space[0]].fillna('') + \\\n"
     ]
    },
    {
     "data": {
      "text/plain": [
       "13378"
      ]
     },
     "execution_count": 88,
     "metadata": {},
     "output_type": "execute_result"
    }
   ],
   "source": [
    "df_living_space['living_space'] = df_living_space[living_space[0]].fillna('') + \\\n",
    "  (df_living_space[living_space[1]]).fillna('') + \\\n",
    "  (df_living_space[living_space[2]]).fillna('') + \\\n",
    "  (df_living_space[living_space[3]]).fillna('')\n",
    "\n",
    "(df_living_space['living_space'] == df_living_space[living_space[5]].fillna('')).sum()"
   ]
  },
  {
   "cell_type": "markdown",
   "metadata": {},
   "source": [
    "Counting the True values of the above condition yields the same count as the column count of the dataset meaning that the columns are identical.\n",
    "\n",
    "The suggestion from the cumulative sum has therefore been proven correct!\n",
    "Now to get one column with the full information, we merge the \"Living_space_merged\" column with \"detail_responsive#surface_living\"."
   ]
  },
  {
   "cell_type": "code",
   "execution_count": 89,
   "metadata": {},
   "outputs": [
    {
     "name": "stderr",
     "output_type": "stream",
     "text": [
      "/tmp/ipykernel_6581/3070984261.py:1: SettingWithCopyWarning: \n",
      "A value is trying to be set on a copy of a slice from a DataFrame.\n",
      "Try using .loc[row_indexer,col_indexer] = value instead\n",
      "\n",
      "See the caveats in the documentation: https://pandas.pydata.org/pandas-docs/stable/user_guide/indexing.html#returning-a-view-versus-a-copy\n",
      "  df_living_space['living_space'] = df_living_space[living_space[5]].fillna('') + \\\n",
      "/tmp/ipykernel_6581/3070984261.py:4: SettingWithCopyWarning: \n",
      "A value is trying to be set on a copy of a slice from a DataFrame.\n",
      "Try using .loc[row_indexer,col_indexer] = value instead\n",
      "\n",
      "See the caveats in the documentation: https://pandas.pydata.org/pandas-docs/stable/user_guide/indexing.html#returning-a-view-versus-a-copy\n",
      "  df_living_space['living_space'] = df_living_space['living_space'].replace('', np.nan)\n"
     ]
    },
    {
     "data": {
      "text/plain": [
       "12304"
      ]
     },
     "execution_count": 89,
     "metadata": {},
     "output_type": "execute_result"
    }
   ],
   "source": [
    "df_living_space['living_space'] = df_living_space[living_space[5]].fillna('') + \\\n",
    "  (df_living_space[living_space[4]]).fillna('')\n",
    "\n",
    "df_living_space['living_space'] = df_living_space['living_space'].replace('', np.nan)\n",
    "\n",
    "df_living_space['living_space'].count()"
   ]
  },
  {
   "cell_type": "markdown",
   "metadata": {},
   "source": [
    "We now have 12304 observations for living space in our dataset. Nice! Let's transfer this back into the numeric subset of the dataframe and drop the unused columns."
   ]
  },
  {
   "cell_type": "code",
   "execution_count": 90,
   "metadata": {},
   "outputs": [
    {
     "data": {
      "text/plain": [
       "(13378, 19)"
      ]
     },
     "execution_count": 90,
     "metadata": {},
     "output_type": "execute_result"
    }
   ],
   "source": [
    "df_numeric = df_numeric.drop(living_space, axis=1) # drops 6 columns -> 18 remain\n",
    "df_numeric[\"living_space\"] = df_living_space['living_space'] # adds 1 column -> 19\n",
    "df_numeric.shape"
   ]
  },
  {
   "cell_type": "code",
   "execution_count": 91,
   "metadata": {},
   "outputs": [
    {
     "data": {
      "text/html": [
       "<div>\n",
       "<style scoped>\n",
       "    .dataframe tbody tr th:only-of-type {\n",
       "        vertical-align: middle;\n",
       "    }\n",
       "\n",
       "    .dataframe tbody tr th {\n",
       "        vertical-align: top;\n",
       "    }\n",
       "\n",
       "    .dataframe thead th {\n",
       "        text-align: right;\n",
       "    }\n",
       "</style>\n",
       "<table border=\"1\" class=\"dataframe\">\n",
       "  <thead>\n",
       "    <tr style=\"text-align: right;\">\n",
       "      <th></th>\n",
       "      <th>Plot area</th>\n",
       "      <th>Floor space</th>\n",
       "      <th>Floor</th>\n",
       "      <th>detail_responsive#floor</th>\n",
       "      <th>Stockwerk</th>\n",
       "      <th>Nutzfläche</th>\n",
       "      <th>Grundstücksfläche</th>\n",
       "      <th>detail_responsive#surface_property</th>\n",
       "      <th>detail_responsive#surface_usable</th>\n",
       "      <th>Surface du terrain</th>\n",
       "      <th>Surface utile</th>\n",
       "      <th>Étage</th>\n",
       "      <th>Piano</th>\n",
       "      <th>Superficie del terreno</th>\n",
       "      <th>Superficie utile</th>\n",
       "      <th>Floor_merged</th>\n",
       "      <th>Floor_space_merged</th>\n",
       "      <th>Plot_area_merged</th>\n",
       "      <th>living_space</th>\n",
       "      <th>Space extracted</th>\n",
       "    </tr>\n",
       "  </thead>\n",
       "  <tbody>\n",
       "    <tr>\n",
       "      <th>786</th>\n",
       "      <td>NaN</td>\n",
       "      <td>214 m²</td>\n",
       "      <td>3. floor</td>\n",
       "      <td>NaN</td>\n",
       "      <td>NaN</td>\n",
       "      <td>NaN</td>\n",
       "      <td>NaN</td>\n",
       "      <td>NaN</td>\n",
       "      <td>NaN</td>\n",
       "      <td>NaN</td>\n",
       "      <td>NaN</td>\n",
       "      <td>NaN</td>\n",
       "      <td>NaN</td>\n",
       "      <td>NaN</td>\n",
       "      <td>NaN</td>\n",
       "      <td>3. floor</td>\n",
       "      <td>214 m²</td>\n",
       "      <td>NaN</td>\n",
       "      <td>NaN</td>\n",
       "      <td>200.0</td>\n",
       "    </tr>\n",
       "    <tr>\n",
       "      <th>3380</th>\n",
       "      <td>NaN</td>\n",
       "      <td>NaN</td>\n",
       "      <td>3. floor</td>\n",
       "      <td>NaN</td>\n",
       "      <td>NaN</td>\n",
       "      <td>NaN</td>\n",
       "      <td>NaN</td>\n",
       "      <td>NaN</td>\n",
       "      <td>NaN</td>\n",
       "      <td>NaN</td>\n",
       "      <td>NaN</td>\n",
       "      <td>NaN</td>\n",
       "      <td>NaN</td>\n",
       "      <td>NaN</td>\n",
       "      <td>NaN</td>\n",
       "      <td>3. floor</td>\n",
       "      <td>NaN</td>\n",
       "      <td>NaN</td>\n",
       "      <td>NaN</td>\n",
       "      <td>210.0</td>\n",
       "    </tr>\n",
       "    <tr>\n",
       "      <th>3696</th>\n",
       "      <td>NaN</td>\n",
       "      <td>NaN</td>\n",
       "      <td>1. floor</td>\n",
       "      <td>NaN</td>\n",
       "      <td>NaN</td>\n",
       "      <td>NaN</td>\n",
       "      <td>NaN</td>\n",
       "      <td>NaN</td>\n",
       "      <td>NaN</td>\n",
       "      <td>NaN</td>\n",
       "      <td>NaN</td>\n",
       "      <td>NaN</td>\n",
       "      <td>NaN</td>\n",
       "      <td>NaN</td>\n",
       "      <td>NaN</td>\n",
       "      <td>1. floor</td>\n",
       "      <td>NaN</td>\n",
       "      <td>NaN</td>\n",
       "      <td>NaN</td>\n",
       "      <td>228.0</td>\n",
       "    </tr>\n",
       "    <tr>\n",
       "      <th>6506</th>\n",
       "      <td>NaN</td>\n",
       "      <td>NaN</td>\n",
       "      <td>NaN</td>\n",
       "      <td>NaN</td>\n",
       "      <td>NaN</td>\n",
       "      <td>NaN</td>\n",
       "      <td>NaN</td>\n",
       "      <td>NaN</td>\n",
       "      <td>NaN</td>\n",
       "      <td>NaN</td>\n",
       "      <td>NaN</td>\n",
       "      <td>NaN</td>\n",
       "      <td>NaN</td>\n",
       "      <td>NaN</td>\n",
       "      <td>NaN</td>\n",
       "      <td>NaN</td>\n",
       "      <td>NaN</td>\n",
       "      <td>NaN</td>\n",
       "      <td>NaN</td>\n",
       "      <td>200.0</td>\n",
       "    </tr>\n",
       "  </tbody>\n",
       "</table>\n",
       "</div>"
      ],
      "text/plain": [
       "     Plot area Floor space     Floor detail_responsive#floor Stockwerk  \\\n",
       "786        NaN      214 m²  3. floor                     NaN       NaN   \n",
       "3380       NaN         NaN  3. floor                     NaN       NaN   \n",
       "3696       NaN         NaN  1. floor                     NaN       NaN   \n",
       "6506       NaN         NaN       NaN                     NaN       NaN   \n",
       "\n",
       "     Nutzfläche Grundstücksfläche detail_responsive#surface_property  \\\n",
       "786         NaN               NaN                                NaN   \n",
       "3380        NaN               NaN                                NaN   \n",
       "3696        NaN               NaN                                NaN   \n",
       "6506        NaN               NaN                                NaN   \n",
       "\n",
       "     detail_responsive#surface_usable Surface du terrain Surface utile Étage  \\\n",
       "786                               NaN                NaN           NaN   NaN   \n",
       "3380                              NaN                NaN           NaN   NaN   \n",
       "3696                              NaN                NaN           NaN   NaN   \n",
       "6506                              NaN                NaN           NaN   NaN   \n",
       "\n",
       "     Piano Superficie del terreno Superficie utile Floor_merged  \\\n",
       "786    NaN                    NaN              NaN     3. floor   \n",
       "3380   NaN                    NaN              NaN     3. floor   \n",
       "3696   NaN                    NaN              NaN     1. floor   \n",
       "6506   NaN                    NaN              NaN          NaN   \n",
       "\n",
       "     Floor_space_merged Plot_area_merged living_space  Space extracted  \n",
       "786              214 m²              NaN          NaN            200.0  \n",
       "3380                NaN              NaN          NaN            210.0  \n",
       "3696                NaN              NaN          NaN            228.0  \n",
       "6506                NaN              NaN          NaN            200.0  "
      ]
     },
     "execution_count": 91,
     "metadata": {},
     "output_type": "execute_result"
    }
   ],
   "source": [
    "df_numeric[\"Space extracted\"] = df[\"Space extracted\"]\n",
    "df_numeric[df_numeric[\"Space extracted\"].notna() & df_numeric[\"living_space\"].isna()]\n"
   ]
  },
  {
   "cell_type": "code",
   "execution_count": 92,
   "metadata": {},
   "outputs": [],
   "source": [
    "df_numeric[\"living_space\"] = df_numeric.living_space.str.extract('(\\d+)').fillna(0).astype(int)\n",
    "df_numeric[df_numeric[\"Space extracted\"].notna() & df_numeric[\"living_space\"].isna()][\"living_space\"] = df_numeric[df_numeric[\"Space extracted\"].notna() & df_numeric[\"living_space\"].isna()][\"Space extracted\"].astype(\"int\")\n",
    "\n",
    "(df_numeric[\"living_space\"] == df_numeric[\"Space extracted\"].fillna(0).astype(\"int\")).count()\n",
    "df_numeric = df_numeric.drop(\"Space extracted\", axis=1)"
   ]
  },
  {
   "cell_type": "markdown",
   "metadata": {},
   "source": [
    "We then rinse and repeat this process for all data with a \"_merged\" column present in the dataset. "
   ]
  },
  {
   "cell_type": "markdown",
   "metadata": {},
   "source": [
    "## Plot Area"
   ]
  },
  {
   "cell_type": "code",
   "execution_count": 93,
   "metadata": {},
   "outputs": [
    {
     "data": {
      "text/plain": [
       "Plot area                             False\n",
       "Grundstücksfläche                     False\n",
       "Surface du terrain                    False\n",
       "Superficie del terreno                 True\n",
       "detail_responsive#surface_property    False\n",
       "dtype: bool"
      ]
     },
     "execution_count": 93,
     "metadata": {},
     "output_type": "execute_result"
    }
   ],
   "source": [
    "plot_area = [\"Plot area\", \"Grundstücksfläche\", \"Surface du terrain\", \"Superficie del terreno\", \"detail_responsive#surface_property\", \"Plot_area_merged\"]\n",
    "df_plot_area = df_numeric[plot_area]\n",
    "\n",
    "df_plot_area[plot_area[0:5]].count().cumsum() == df_plot_area[plot_area[5]].count()"
   ]
  },
  {
   "cell_type": "code",
   "execution_count": 94,
   "metadata": {},
   "outputs": [
    {
     "name": "stderr",
     "output_type": "stream",
     "text": [
      "/tmp/ipykernel_6581/2286274601.py:1: SettingWithCopyWarning: \n",
      "A value is trying to be set on a copy of a slice from a DataFrame.\n",
      "Try using .loc[row_indexer,col_indexer] = value instead\n",
      "\n",
      "See the caveats in the documentation: https://pandas.pydata.org/pandas-docs/stable/user_guide/indexing.html#returning-a-view-versus-a-copy\n",
      "  df_plot_area['plot_area'] = df_plot_area[plot_area[0]].fillna('') + \\\n"
     ]
    },
    {
     "data": {
      "text/plain": [
       "13378"
      ]
     },
     "execution_count": 94,
     "metadata": {},
     "output_type": "execute_result"
    }
   ],
   "source": [
    "df_plot_area['plot_area'] = df_plot_area[plot_area[0]].fillna('') + \\\n",
    "  (df_plot_area[plot_area[1]]).fillna('') + \\\n",
    "  (df_plot_area[plot_area[2]]).fillna('') + \\\n",
    "  (df_plot_area[plot_area[3]]).fillna('')\n",
    "\n",
    "(df_plot_area['plot_area'] == df_plot_area[plot_area[5]].fillna('')).sum()"
   ]
  },
  {
   "cell_type": "code",
   "execution_count": 95,
   "metadata": {},
   "outputs": [
    {
     "name": "stderr",
     "output_type": "stream",
     "text": [
      "/tmp/ipykernel_6581/670439676.py:1: SettingWithCopyWarning: \n",
      "A value is trying to be set on a copy of a slice from a DataFrame.\n",
      "Try using .loc[row_indexer,col_indexer] = value instead\n",
      "\n",
      "See the caveats in the documentation: https://pandas.pydata.org/pandas-docs/stable/user_guide/indexing.html#returning-a-view-versus-a-copy\n",
      "  df_plot_area['plot_area'] = df_plot_area[plot_area[5]].fillna('') + \\\n",
      "/tmp/ipykernel_6581/670439676.py:4: SettingWithCopyWarning: \n",
      "A value is trying to be set on a copy of a slice from a DataFrame.\n",
      "Try using .loc[row_indexer,col_indexer] = value instead\n",
      "\n",
      "See the caveats in the documentation: https://pandas.pydata.org/pandas-docs/stable/user_guide/indexing.html#returning-a-view-versus-a-copy\n",
      "  df_plot_area['plot_area'] = df_plot_area['plot_area'].replace('', np.nan)\n"
     ]
    },
    {
     "data": {
      "text/plain": [
       "4953"
      ]
     },
     "execution_count": 95,
     "metadata": {},
     "output_type": "execute_result"
    }
   ],
   "source": [
    "df_plot_area['plot_area'] = df_plot_area[plot_area[5]].fillna('') + \\\n",
    "  (df_plot_area[plot_area[4]]).fillna('')\n",
    "\n",
    "df_plot_area['plot_area'] = df_plot_area['plot_area'].replace('', np.nan)\n",
    "\n",
    "df_plot_area['plot_area'].count()"
   ]
  },
  {
   "cell_type": "code",
   "execution_count": 96,
   "metadata": {},
   "outputs": [
    {
     "data": {
      "text/plain": [
       "(13378, 14)"
      ]
     },
     "execution_count": 96,
     "metadata": {},
     "output_type": "execute_result"
    }
   ],
   "source": [
    "df_numeric = df_numeric.drop(plot_area, axis=1) # drops 6 columns -> 13 remain\n",
    "df_numeric[\"plot_area\"] = df_plot_area['plot_area'] # adds 1 column -> 14\n",
    "df_numeric.shape"
   ]
  },
  {
   "cell_type": "code",
   "execution_count": 97,
   "metadata": {},
   "outputs": [],
   "source": [
    "df_numeric[\"plot_area\"] = df_numeric.plot_area.str.extract('(\\d+)').fillna(0).astype(int)"
   ]
  },
  {
   "cell_type": "markdown",
   "metadata": {},
   "source": [
    "## Floor Space"
   ]
  },
  {
   "cell_type": "code",
   "execution_count": 98,
   "metadata": {},
   "outputs": [
    {
     "data": {
      "text/plain": [
       "Floor space                         False\n",
       "Nutzfläche                          False\n",
       "Surface utile                       False\n",
       "Superficie utile                     True\n",
       "detail_responsive#surface_usable    False\n",
       "dtype: bool"
      ]
     },
     "execution_count": 98,
     "metadata": {},
     "output_type": "execute_result"
    }
   ],
   "source": [
    "floor_space = [\"Floor space\", \"Nutzfläche\", \"Surface utile\", \"Superficie utile\", \"detail_responsive#surface_usable\", \"Floor_space_merged\"]\n",
    "df_floor_space = df_numeric[floor_space]\n",
    "\n",
    "df_floor_space[floor_space[0:5]].count().cumsum() == df_floor_space[floor_space[5]].count()"
   ]
  },
  {
   "cell_type": "code",
   "execution_count": 99,
   "metadata": {},
   "outputs": [
    {
     "name": "stderr",
     "output_type": "stream",
     "text": [
      "/tmp/ipykernel_6581/87451161.py:1: SettingWithCopyWarning: \n",
      "A value is trying to be set on a copy of a slice from a DataFrame.\n",
      "Try using .loc[row_indexer,col_indexer] = value instead\n",
      "\n",
      "See the caveats in the documentation: https://pandas.pydata.org/pandas-docs/stable/user_guide/indexing.html#returning-a-view-versus-a-copy\n",
      "  df_floor_space['floor_space'] = df_floor_space[floor_space[0]].fillna('') + \\\n"
     ]
    },
    {
     "data": {
      "text/plain": [
       "13378"
      ]
     },
     "execution_count": 99,
     "metadata": {},
     "output_type": "execute_result"
    }
   ],
   "source": [
    "df_floor_space['floor_space'] = df_floor_space[floor_space[0]].fillna('') + \\\n",
    "  (df_floor_space[floor_space[1]]).fillna('') + \\\n",
    "  (df_floor_space[floor_space[2]]).fillna('') + \\\n",
    "  (df_floor_space[floor_space[3]]).fillna('')\n",
    "\n",
    "(df_floor_space['floor_space'] == df_floor_space[floor_space[5]].fillna('')).sum()"
   ]
  },
  {
   "cell_type": "code",
   "execution_count": 100,
   "metadata": {},
   "outputs": [
    {
     "name": "stderr",
     "output_type": "stream",
     "text": [
      "/tmp/ipykernel_6581/2352240836.py:1: SettingWithCopyWarning: \n",
      "A value is trying to be set on a copy of a slice from a DataFrame.\n",
      "Try using .loc[row_indexer,col_indexer] = value instead\n",
      "\n",
      "See the caveats in the documentation: https://pandas.pydata.org/pandas-docs/stable/user_guide/indexing.html#returning-a-view-versus-a-copy\n",
      "  df_floor_space['floor_space'] = df_floor_space[floor_space[0]].fillna('') + \\\n"
     ]
    },
    {
     "data": {
      "text/plain": [
       "2842"
      ]
     },
     "execution_count": 100,
     "metadata": {},
     "output_type": "execute_result"
    }
   ],
   "source": [
    "df_floor_space['floor_space'] = df_floor_space[floor_space[0]].fillna('') + \\\n",
    "  (df_floor_space[floor_space[1]]).fillna('') + \\\n",
    "  (df_floor_space[floor_space[2]]).fillna('') + \\\n",
    "  (df_floor_space[floor_space[3]]).fillna('')\n",
    "\n",
    "df_floor_space[df_floor_space['floor_space'] != '']['floor_space'].count()"
   ]
  },
  {
   "cell_type": "code",
   "execution_count": 101,
   "metadata": {},
   "outputs": [
    {
     "name": "stderr",
     "output_type": "stream",
     "text": [
      "/tmp/ipykernel_6581/3136786986.py:1: SettingWithCopyWarning: \n",
      "A value is trying to be set on a copy of a slice from a DataFrame.\n",
      "Try using .loc[row_indexer,col_indexer] = value instead\n",
      "\n",
      "See the caveats in the documentation: https://pandas.pydata.org/pandas-docs/stable/user_guide/indexing.html#returning-a-view-versus-a-copy\n",
      "  df_floor_space['floor_space'] = df_floor_space[floor_space[5]].fillna('') + \\\n",
      "/tmp/ipykernel_6581/3136786986.py:4: SettingWithCopyWarning: \n",
      "A value is trying to be set on a copy of a slice from a DataFrame.\n",
      "Try using .loc[row_indexer,col_indexer] = value instead\n",
      "\n",
      "See the caveats in the documentation: https://pandas.pydata.org/pandas-docs/stable/user_guide/indexing.html#returning-a-view-versus-a-copy\n",
      "  df_floor_space['floor_space'] = df_floor_space['floor_space'].replace('', np.nan)\n"
     ]
    },
    {
     "data": {
      "text/plain": [
       "2953"
      ]
     },
     "execution_count": 101,
     "metadata": {},
     "output_type": "execute_result"
    }
   ],
   "source": [
    "df_floor_space['floor_space'] = df_floor_space[floor_space[5]].fillna('') + \\\n",
    "  (df_floor_space[floor_space[4]]).fillna('')\n",
    "\n",
    "df_floor_space['floor_space'] = df_floor_space['floor_space'].replace('', np.nan)\n",
    "\n",
    "df_floor_space['floor_space'].count()"
   ]
  },
  {
   "cell_type": "code",
   "execution_count": 102,
   "metadata": {},
   "outputs": [
    {
     "data": {
      "text/plain": [
       "(13378, 9)"
      ]
     },
     "execution_count": 102,
     "metadata": {},
     "output_type": "execute_result"
    }
   ],
   "source": [
    "df_numeric = df_numeric.drop(floor_space, axis=1) # drops 6 columns -> 8 remain\n",
    "df_numeric[\"floor_space\"] = df_floor_space['floor_space'] # adds 1 column -> 9\n",
    "df_numeric.shape"
   ]
  },
  {
   "cell_type": "code",
   "execution_count": 103,
   "metadata": {},
   "outputs": [],
   "source": [
    "df_numeric[\"floor_space\"] = df_numeric.floor_space.str.extract('(\\d+)').fillna(0).astype(int)"
   ]
  },
  {
   "cell_type": "markdown",
   "metadata": {},
   "source": [
    "## Floor"
   ]
  },
  {
   "cell_type": "code",
   "execution_count": 104,
   "metadata": {},
   "outputs": [
    {
     "data": {
      "text/plain": [
       "Floor                      False\n",
       "Stockwerk                  False\n",
       "Étage                      False\n",
       "Piano                       True\n",
       "detail_responsive#floor    False\n",
       "dtype: bool"
      ]
     },
     "execution_count": 104,
     "metadata": {},
     "output_type": "execute_result"
    }
   ],
   "source": [
    "floor = [\"Floor\", \"Stockwerk\", \"Étage\", \"Piano\", \"detail_responsive#floor\", \"Floor_merged\"]\n",
    "df_floor = df_numeric[floor]\n",
    "\n",
    "df_floor[floor[0:5]].count().cumsum() == df_floor[floor[5]].count()"
   ]
  },
  {
   "cell_type": "code",
   "execution_count": 105,
   "metadata": {},
   "outputs": [
    {
     "name": "stderr",
     "output_type": "stream",
     "text": [
      "/tmp/ipykernel_6581/1722899567.py:1: SettingWithCopyWarning: \n",
      "A value is trying to be set on a copy of a slice from a DataFrame.\n",
      "Try using .loc[row_indexer,col_indexer] = value instead\n",
      "\n",
      "See the caveats in the documentation: https://pandas.pydata.org/pandas-docs/stable/user_guide/indexing.html#returning-a-view-versus-a-copy\n",
      "  df_floor['floor'] = df_floor[floor[0]].fillna('') + \\\n"
     ]
    },
    {
     "data": {
      "text/plain": [
       "13378"
      ]
     },
     "execution_count": 105,
     "metadata": {},
     "output_type": "execute_result"
    }
   ],
   "source": [
    "df_floor['floor'] = df_floor[floor[0]].fillna('') + \\\n",
    "  (df_floor[floor[1]]).fillna('') + \\\n",
    "  (df_floor[floor[2]]).fillna('') + \\\n",
    "  (df_floor[floor[3]]).fillna('')\n",
    "\n",
    "(df_floor['floor'] == df_floor[floor[5]].fillna('')).sum()"
   ]
  },
  {
   "cell_type": "code",
   "execution_count": 106,
   "metadata": {},
   "outputs": [
    {
     "name": "stderr",
     "output_type": "stream",
     "text": [
      "/tmp/ipykernel_6581/1016433515.py:1: SettingWithCopyWarning: \n",
      "A value is trying to be set on a copy of a slice from a DataFrame.\n",
      "Try using .loc[row_indexer,col_indexer] = value instead\n",
      "\n",
      "See the caveats in the documentation: https://pandas.pydata.org/pandas-docs/stable/user_guide/indexing.html#returning-a-view-versus-a-copy\n",
      "  df_floor['floor'] = df_floor[floor[0]].fillna('') + \\\n"
     ]
    },
    {
     "data": {
      "text/plain": [
       "5414"
      ]
     },
     "execution_count": 106,
     "metadata": {},
     "output_type": "execute_result"
    }
   ],
   "source": [
    "df_floor['floor'] = df_floor[floor[0]].fillna('') + \\\n",
    "  (df_floor[floor[1]]).fillna('') + \\\n",
    "  (df_floor[floor[2]]).fillna('') + \\\n",
    "  (df_floor[floor[3]]).fillna('')\n",
    "\n",
    "df_floor[df_floor['floor'] != '']['floor'].count()"
   ]
  },
  {
   "cell_type": "code",
   "execution_count": 107,
   "metadata": {},
   "outputs": [
    {
     "name": "stderr",
     "output_type": "stream",
     "text": [
      "/tmp/ipykernel_6581/1727788760.py:1: SettingWithCopyWarning: \n",
      "A value is trying to be set on a copy of a slice from a DataFrame.\n",
      "Try using .loc[row_indexer,col_indexer] = value instead\n",
      "\n",
      "See the caveats in the documentation: https://pandas.pydata.org/pandas-docs/stable/user_guide/indexing.html#returning-a-view-versus-a-copy\n",
      "  df_floor['floor'] = df_floor[floor[5]].fillna('') + \\\n",
      "/tmp/ipykernel_6581/1727788760.py:4: SettingWithCopyWarning: \n",
      "A value is trying to be set on a copy of a slice from a DataFrame.\n",
      "Try using .loc[row_indexer,col_indexer] = value instead\n",
      "\n",
      "See the caveats in the documentation: https://pandas.pydata.org/pandas-docs/stable/user_guide/indexing.html#returning-a-view-versus-a-copy\n",
      "  df_floor['floor'] = df_floor['floor'].replace('', np.nan)\n"
     ]
    },
    {
     "data": {
      "text/plain": [
       "5620"
      ]
     },
     "execution_count": 107,
     "metadata": {},
     "output_type": "execute_result"
    }
   ],
   "source": [
    "df_floor['floor'] = df_floor[floor[5]].fillna('') + \\\n",
    "  (df_floor[floor[4]]).fillna('')\n",
    "\n",
    "df_floor['floor'] = df_floor['floor'].replace('', np.nan)\n",
    "\n",
    "df_floor['floor'].count()"
   ]
  },
  {
   "cell_type": "code",
   "execution_count": 108,
   "metadata": {},
   "outputs": [
    {
     "data": {
      "text/plain": [
       "(13378, 4)"
      ]
     },
     "execution_count": 108,
     "metadata": {},
     "output_type": "execute_result"
    }
   ],
   "source": [
    "df_numeric = df_numeric.drop(floor, axis=1) # drops 6 columns -> 3 remain\n",
    "df_numeric[\"floor\"] = df_floor['floor'] # adds 1 column -> 4\n",
    "df_numeric.shape"
   ]
  },
  {
   "cell_type": "code",
   "execution_count": 109,
   "metadata": {},
   "outputs": [
    {
     "data": {
      "text/html": [
       "<div>\n",
       "<style scoped>\n",
       "    .dataframe tbody tr th:only-of-type {\n",
       "        vertical-align: middle;\n",
       "    }\n",
       "\n",
       "    .dataframe tbody tr th {\n",
       "        vertical-align: top;\n",
       "    }\n",
       "\n",
       "    .dataframe thead th {\n",
       "        text-align: right;\n",
       "    }\n",
       "</style>\n",
       "<table border=\"1\" class=\"dataframe\">\n",
       "  <thead>\n",
       "    <tr style=\"text-align: right;\">\n",
       "      <th></th>\n",
       "      <th>living_space</th>\n",
       "      <th>plot_area</th>\n",
       "      <th>floor_space</th>\n",
       "      <th>floor</th>\n",
       "    </tr>\n",
       "  </thead>\n",
       "  <tbody>\n",
       "    <tr>\n",
       "      <th>0</th>\n",
       "      <td>100</td>\n",
       "      <td>0</td>\n",
       "      <td>0</td>\n",
       "      <td>4. floor</td>\n",
       "    </tr>\n",
       "    <tr>\n",
       "      <th>1</th>\n",
       "      <td>156</td>\n",
       "      <td>222</td>\n",
       "      <td>242</td>\n",
       "      <td>NaN</td>\n",
       "    </tr>\n",
       "    <tr>\n",
       "      <th>2</th>\n",
       "      <td>93</td>\n",
       "      <td>0</td>\n",
       "      <td>0</td>\n",
       "      <td>2. floor</td>\n",
       "    </tr>\n",
       "    <tr>\n",
       "      <th>3</th>\n",
       "      <td>154</td>\n",
       "      <td>370</td>\n",
       "      <td>257</td>\n",
       "      <td>NaN</td>\n",
       "    </tr>\n",
       "    <tr>\n",
       "      <th>4</th>\n",
       "      <td>142</td>\n",
       "      <td>0</td>\n",
       "      <td>0</td>\n",
       "      <td>Ground floor</td>\n",
       "    </tr>\n",
       "    <tr>\n",
       "      <th>...</th>\n",
       "      <td>...</td>\n",
       "      <td>...</td>\n",
       "      <td>...</td>\n",
       "      <td>...</td>\n",
       "    </tr>\n",
       "    <tr>\n",
       "      <th>13373</th>\n",
       "      <td>70</td>\n",
       "      <td>0</td>\n",
       "      <td>0</td>\n",
       "      <td>NaN</td>\n",
       "    </tr>\n",
       "    <tr>\n",
       "      <th>13374</th>\n",
       "      <td>0</td>\n",
       "      <td>284</td>\n",
       "      <td>0</td>\n",
       "      <td>NaN</td>\n",
       "    </tr>\n",
       "    <tr>\n",
       "      <th>13375</th>\n",
       "      <td>150</td>\n",
       "      <td>160</td>\n",
       "      <td>0</td>\n",
       "      <td>NaN</td>\n",
       "    </tr>\n",
       "    <tr>\n",
       "      <th>13376</th>\n",
       "      <td>145</td>\n",
       "      <td>853</td>\n",
       "      <td>140</td>\n",
       "      <td>NaN</td>\n",
       "    </tr>\n",
       "    <tr>\n",
       "      <th>13377</th>\n",
       "      <td>385</td>\n",
       "      <td>1306</td>\n",
       "      <td>0</td>\n",
       "      <td>NaN</td>\n",
       "    </tr>\n",
       "  </tbody>\n",
       "</table>\n",
       "<p>13378 rows × 4 columns</p>\n",
       "</div>"
      ],
      "text/plain": [
       "       living_space  plot_area  floor_space         floor\n",
       "0               100          0            0      4. floor\n",
       "1               156        222          242           NaN\n",
       "2                93          0            0      2. floor\n",
       "3               154        370          257           NaN\n",
       "4               142          0            0  Ground floor\n",
       "...             ...        ...          ...           ...\n",
       "13373            70          0            0           NaN\n",
       "13374             0        284            0           NaN\n",
       "13375           150        160            0           NaN\n",
       "13376           145        853          140           NaN\n",
       "13377           385       1306            0           NaN\n",
       "\n",
       "[13378 rows x 4 columns]"
      ]
     },
     "execution_count": 109,
     "metadata": {},
     "output_type": "execute_result"
    }
   ],
   "source": [
    "df_numeric"
   ]
  },
  {
   "cell_type": "markdown",
   "metadata": {},
   "source": [
    "# Cleaning and Parsing\n",
    "## Floor"
   ]
  },
  {
   "cell_type": "code",
   "execution_count": 110,
   "metadata": {},
   "outputs": [
    {
     "data": {
      "text/plain": [
       "array(['4. floor', nan, '2. floor', 'Ground floor', '3. floor',\n",
       "       '6. floor', '1. floor', '5. floor', '14. floor', '20. floor',\n",
       "       '8. floor', '2. Basement', '7. floor', '15. floor', '10. floor',\n",
       "       '11. floor', '4. Basement', '100. floor', '12. floor',\n",
       "       '1. Basement', '21. floor', '9. floor', '3. Basement',\n",
       "       '999. floor', '23. floor'], dtype=object)"
      ]
     },
     "execution_count": 110,
     "metadata": {},
     "output_type": "execute_result"
    }
   ],
   "source": [
    "df_numeric[\"floor\"].unique()"
   ]
  },
  {
   "cell_type": "code",
   "execution_count": 111,
   "metadata": {},
   "outputs": [
    {
     "data": {
      "text/plain": [
       "array(['4', nan, '2', 0, '3', '6', '1', '5', '14', '20', '8', '-2', '7',\n",
       "       '15', '10', '11', '-4', '100', '12', '-1', '21', '9', '-3', '999',\n",
       "       '23'], dtype=object)"
      ]
     },
     "execution_count": 111,
     "metadata": {},
     "output_type": "execute_result"
    }
   ],
   "source": [
    "import re\n",
    "\n",
    "def parse_floor(x):\n",
    "  if x != x:\n",
    "    return np.nan\n",
    "  elif x == \"Ground floor\":\n",
    "    return 0\n",
    "  elif re.search('\\. floor', x):\n",
    "    return re.search('\\d+', x).group()\n",
    "  elif re.search('Basement', x):\n",
    "    return \"-\" + re.search('\\d+', x).group()\n",
    "\n",
    "\n",
    "df_numeric[\"floor\"] = df_numeric[\"floor\"].apply(parse_floor)\n",
    "df_numeric[\"floor\"].unique()"
   ]
  },
  {
   "cell_type": "code",
   "execution_count": 112,
   "metadata": {},
   "outputs": [
    {
     "data": {
      "text/plain": [
       "array([  4.,  nan,   2.,   0.,   3.,   6.,   1.,   5.,  14.,  20.,   8.,\n",
       "        -2.,   7.,  15.,  10.,  11.,  -4., 100.,  12.,  -1.,  21.,   9.,\n",
       "        -3., 999.,  23.])"
      ]
     },
     "execution_count": 112,
     "metadata": {},
     "output_type": "execute_result"
    }
   ],
   "source": [
    "df_numeric[\"floor\"] = df_numeric[\"floor\"].astype(float)\n",
    "df_numeric[\"floor\"].unique()"
   ]
  },
  {
   "cell_type": "code",
   "execution_count": 113,
   "metadata": {},
   "outputs": [
    {
     "data": {
      "text/plain": [
       "living_space    123.475275\n",
       "plot_area       845.261158\n",
       "floor_space     153.571314\n",
       "floor            29.809057\n",
       "dtype: float64"
      ]
     },
     "execution_count": 113,
     "metadata": {},
     "output_type": "execute_result"
    }
   ],
   "source": [
    "df_numeric.std()"
   ]
  },
  {
   "cell_type": "markdown",
   "metadata": {},
   "source": [
    "# Availability"
   ]
  },
  {
   "cell_type": "code",
   "execution_count": 114,
   "metadata": {},
   "outputs": [
    {
     "data": {
      "text/plain": [
       "Availability                        False\n",
       "Verfügbarkeit                       False\n",
       "Disponibilité                       False\n",
       "Disponibilità                        True\n",
       "detail_responsive#available_from    False\n",
       "dtype: bool"
      ]
     },
     "execution_count": 114,
     "metadata": {},
     "output_type": "execute_result"
    }
   ],
   "source": [
    "availability = [\"Availability\", \"Verfügbarkeit\", \"Disponibilité\", \"Disponibilità\", \"detail_responsive#available_from\",  \"Availability_merged\"]\n",
    "df_availability = df[availability]\n",
    "\n",
    "df_availability.iloc[:, 0:5].count().cumsum() == df_availability.iloc[:, 5].count()"
   ]
  },
  {
   "cell_type": "code",
   "execution_count": 115,
   "metadata": {},
   "outputs": [
    {
     "name": "stderr",
     "output_type": "stream",
     "text": [
      "/tmp/ipykernel_6581/549891744.py:1: SettingWithCopyWarning: \n",
      "A value is trying to be set on a copy of a slice from a DataFrame.\n",
      "Try using .loc[row_indexer,col_indexer] = value instead\n",
      "\n",
      "See the caveats in the documentation: https://pandas.pydata.org/pandas-docs/stable/user_guide/indexing.html#returning-a-view-versus-a-copy\n",
      "  df_availability['availability'] = df_availability[availability[0]].fillna('') + \\\n"
     ]
    },
    {
     "data": {
      "text/plain": [
       "13378"
      ]
     },
     "execution_count": 115,
     "metadata": {},
     "output_type": "execute_result"
    }
   ],
   "source": [
    "df_availability['availability'] = df_availability[availability[0]].fillna('') + \\\n",
    "  (df_availability[availability[1]]).fillna('') + \\\n",
    "  (df_availability[availability[2]]).fillna('') + \\\n",
    "  (df_availability[availability[3]]).fillna('')\n",
    "\n",
    "(df_availability['availability'] == df_availability[availability[5]].fillna('')).sum()"
   ]
  },
  {
   "cell_type": "code",
   "execution_count": 116,
   "metadata": {},
   "outputs": [
    {
     "name": "stderr",
     "output_type": "stream",
     "text": [
      "/tmp/ipykernel_6581/4129642663.py:1: SettingWithCopyWarning: \n",
      "A value is trying to be set on a copy of a slice from a DataFrame.\n",
      "Try using .loc[row_indexer,col_indexer] = value instead\n",
      "\n",
      "See the caveats in the documentation: https://pandas.pydata.org/pandas-docs/stable/user_guide/indexing.html#returning-a-view-versus-a-copy\n",
      "  df_availability['availability'] = df_availability[availability[5]].fillna('') + \\\n",
      "/tmp/ipykernel_6581/4129642663.py:4: SettingWithCopyWarning: \n",
      "A value is trying to be set on a copy of a slice from a DataFrame.\n",
      "Try using .loc[row_indexer,col_indexer] = value instead\n",
      "\n",
      "See the caveats in the documentation: https://pandas.pydata.org/pandas-docs/stable/user_guide/indexing.html#returning-a-view-versus-a-copy\n",
      "  df_availability['availability'] = df_availability['availability'].replace('', np.nan)\n"
     ]
    },
    {
     "data": {
      "text/plain": [
       "13378"
      ]
     },
     "execution_count": 116,
     "metadata": {},
     "output_type": "execute_result"
    }
   ],
   "source": [
    "df_availability['availability'] = df_availability[availability[5]].fillna('') + \\\n",
    "  (df_availability[availability[4]]).fillna('')\n",
    "\n",
    "df_availability['availability'] = df_availability['availability'].replace('', np.nan)\n",
    "\n",
    "df_availability['availability'].count()"
   ]
  },
  {
   "cell_type": "code",
   "execution_count": 117,
   "metadata": {},
   "outputs": [
    {
     "data": {
      "text/plain": [
       "array(['On request', 'Immediately', '30.12.2022', '01.12.2022',\n",
       "       '01.04.2023', '01.08.2023', '01.10.2022', '01.11.2022',\n",
       "       '01.09.2023', '01.07.2023', '07.07.2023', '22.10.2022',\n",
       "       '01.02.2023', '01.06.2023', '31.10.2023', '01.01.2023',\n",
       "       '01.05.2023', '01.12.2023', '01.10.2023', '30.11.2022',\n",
       "       '31.12.2023', '20.03.2023', '19.01.2024', '01.03.2023',\n",
       "       '01.05.2024', '15.08.2023', '31.12.2022', '31.03.2023',\n",
       "       '30.06.2024', '01.02.2024', '31.07.2023', '02.01.2023',\n",
       "       '15.10.2022', '11.11.2022', '30.11.2023', '01.04.2024',\n",
       "       '01.12.2024', '30.09.2022', '01.04.2025', '01.10.2024',\n",
       "       '01.07.2024', '01.11.2024', '15.12.2022', '01.06.2024',\n",
       "       '01.01.2024', '01.11.2023', '25.01.2024', '24.06.2023',\n",
       "       '26.10.2022', '28.02.2023', '15.09.2022', '30.09.2023',\n",
       "       '30.01.2024', '03.04.2023', '15.02.2024', '01.04.2030',\n",
       "       '30.04.2023', '05.09.2022', '03.10.2022', '31.05.2024',\n",
       "       '31.05.2023', '31.03.2024', '30.12.2023', '16.12.2022',\n",
       "       '07.11.2022', '05.02.2024', '30.10.2023', '31.10.2022',\n",
       "       '21.10.2023', '16.09.2022', '31.08.2023', '01.03.2025',\n",
       "       '15.12.2023', '20.04.2023', '17.10.2022', '17.12.2023',\n",
       "       '30.06.2023', '07.06.2023', '01.09.2024', '08.02.2023',\n",
       "       '04.04.2024', '30.03.2023', '21.01.2023', '02.12.2022',\n",
       "       '20.07.2023', '25.12.2022', '16.04.2023', '20.05.2023',\n",
       "       '15.03.2023', '31.01.2024', '03.08.2023', '07.12.2022',\n",
       "       '15.07.2024', '15.09.2023', '15.03.2024', '20.12.2022',\n",
       "       '23.12.2022', '31.01.2023', '09.12.2022', '15.06.2023',\n",
       "       '09.05.2023', '22.12.2023', '05.06.2023', '24.12.2023',\n",
       "       '02.10.2023', '24.12.2022', '30.05.2023', '01.12.2025',\n",
       "       '31.07.2024', '27.09.2023', '26.12.2022', '29.02.2024'],\n",
       "      dtype=object)"
      ]
     },
     "execution_count": 117,
     "metadata": {},
     "output_type": "execute_result"
    }
   ],
   "source": [
    "df_availability[\"availability\"].unique()"
   ]
  },
  {
   "cell_type": "code",
   "execution_count": 118,
   "metadata": {},
   "outputs": [],
   "source": [
    "df_numeric[\"availability\"] = df_availability[\"availability\"]"
   ]
  },
  {
   "cell_type": "markdown",
   "metadata": {},
   "source": [
    "# Gross return"
   ]
  },
  {
   "cell_type": "code",
   "execution_count": 119,
   "metadata": {},
   "outputs": [
    {
     "data": {
      "text/plain": [
       "array([nan, '0.00 %', '4.5 %'], dtype=object)"
      ]
     },
     "execution_count": 119,
     "metadata": {},
     "output_type": "execute_result"
    }
   ],
   "source": [
    "df[\"Gross return\"].unique()"
   ]
  },
  {
   "cell_type": "code",
   "execution_count": 120,
   "metadata": {},
   "outputs": [
    {
     "data": {
      "text/plain": [
       "6"
      ]
     },
     "execution_count": 120,
     "metadata": {},
     "output_type": "execute_result"
    }
   ],
   "source": [
    "df[\"Gross return\"].count()"
   ]
  },
  {
   "cell_type": "markdown",
   "metadata": {},
   "source": [
    "This column does not contain a whole lot of information, therefore we will not consider it for our analysis. "
   ]
  },
  {
   "cell_type": "markdown",
   "metadata": {},
   "source": [
    "# Rooms"
   ]
  },
  {
   "cell_type": "code",
   "execution_count": 121,
   "metadata": {},
   "outputs": [],
   "source": [
    "def parse_rooms(x):\n",
    "  pattern = '(\\d+\\.\\d) rooms'\n",
    "  match = re.search(pattern, x)\n",
    "  if match is not None:\n",
    "    result = match.group(1)\n",
    "  else:\n",
    "    result = np.NaN\n",
    "  return result\n",
    "\n",
    "df_numeric[\"rooms\"] = df[\"details_structured\"].apply(parse_rooms).astype(\"float\")"
   ]
  },
  {
   "cell_type": "markdown",
   "metadata": {},
   "source": [
    "# Price"
   ]
  },
  {
   "cell_type": "code",
   "execution_count": 122,
   "metadata": {},
   "outputs": [],
   "source": [
    "df_numeric[\"price\"] = df[\"price_cleaned\"]"
   ]
  },
  {
   "cell_type": "code",
   "execution_count": 123,
   "metadata": {},
   "outputs": [
    {
     "data": {
      "text/html": [
       "<div>\n",
       "<style scoped>\n",
       "    .dataframe tbody tr th:only-of-type {\n",
       "        vertical-align: middle;\n",
       "    }\n",
       "\n",
       "    .dataframe tbody tr th {\n",
       "        vertical-align: top;\n",
       "    }\n",
       "\n",
       "    .dataframe thead th {\n",
       "        text-align: right;\n",
       "    }\n",
       "</style>\n",
       "<table border=\"1\" class=\"dataframe\">\n",
       "  <thead>\n",
       "    <tr style=\"text-align: right;\">\n",
       "      <th></th>\n",
       "      <th>living_space</th>\n",
       "      <th>plot_area</th>\n",
       "      <th>floor_space</th>\n",
       "      <th>floor</th>\n",
       "      <th>availability</th>\n",
       "      <th>rooms</th>\n",
       "      <th>price</th>\n",
       "    </tr>\n",
       "  </thead>\n",
       "  <tbody>\n",
       "    <tr>\n",
       "      <th>0</th>\n",
       "      <td>100</td>\n",
       "      <td>0</td>\n",
       "      <td>0</td>\n",
       "      <td>4.0</td>\n",
       "      <td>On request</td>\n",
       "      <td>3.5</td>\n",
       "      <td>1150000.0</td>\n",
       "    </tr>\n",
       "    <tr>\n",
       "      <th>1</th>\n",
       "      <td>156</td>\n",
       "      <td>222</td>\n",
       "      <td>242</td>\n",
       "      <td>NaN</td>\n",
       "      <td>On request</td>\n",
       "      <td>4.5</td>\n",
       "      <td>1420000.0</td>\n",
       "    </tr>\n",
       "    <tr>\n",
       "      <th>2</th>\n",
       "      <td>93</td>\n",
       "      <td>0</td>\n",
       "      <td>0</td>\n",
       "      <td>2.0</td>\n",
       "      <td>Immediately</td>\n",
       "      <td>2.5</td>\n",
       "      <td>720000.0</td>\n",
       "    </tr>\n",
       "    <tr>\n",
       "      <th>3</th>\n",
       "      <td>154</td>\n",
       "      <td>370</td>\n",
       "      <td>257</td>\n",
       "      <td>NaN</td>\n",
       "      <td>On request</td>\n",
       "      <td>4.5</td>\n",
       "      <td>1430000.0</td>\n",
       "    </tr>\n",
       "    <tr>\n",
       "      <th>4</th>\n",
       "      <td>142</td>\n",
       "      <td>0</td>\n",
       "      <td>0</td>\n",
       "      <td>0.0</td>\n",
       "      <td>On request</td>\n",
       "      <td>4.5</td>\n",
       "      <td>995000.0</td>\n",
       "    </tr>\n",
       "    <tr>\n",
       "      <th>...</th>\n",
       "      <td>...</td>\n",
       "      <td>...</td>\n",
       "      <td>...</td>\n",
       "      <td>...</td>\n",
       "      <td>...</td>\n",
       "      <td>...</td>\n",
       "      <td>...</td>\n",
       "    </tr>\n",
       "    <tr>\n",
       "      <th>13373</th>\n",
       "      <td>70</td>\n",
       "      <td>0</td>\n",
       "      <td>0</td>\n",
       "      <td>NaN</td>\n",
       "      <td>On request</td>\n",
       "      <td>2.5</td>\n",
       "      <td>1101000.0</td>\n",
       "    </tr>\n",
       "    <tr>\n",
       "      <th>13374</th>\n",
       "      <td>0</td>\n",
       "      <td>284</td>\n",
       "      <td>0</td>\n",
       "      <td>NaN</td>\n",
       "      <td>On request</td>\n",
       "      <td>NaN</td>\n",
       "      <td>1750000.0</td>\n",
       "    </tr>\n",
       "    <tr>\n",
       "      <th>13375</th>\n",
       "      <td>150</td>\n",
       "      <td>160</td>\n",
       "      <td>0</td>\n",
       "      <td>NaN</td>\n",
       "      <td>On request</td>\n",
       "      <td>6.5</td>\n",
       "      <td>1415000.0</td>\n",
       "    </tr>\n",
       "    <tr>\n",
       "      <th>13376</th>\n",
       "      <td>145</td>\n",
       "      <td>853</td>\n",
       "      <td>140</td>\n",
       "      <td>NaN</td>\n",
       "      <td>Immediately</td>\n",
       "      <td>NaN</td>\n",
       "      <td>1465000.0</td>\n",
       "    </tr>\n",
       "    <tr>\n",
       "      <th>13377</th>\n",
       "      <td>385</td>\n",
       "      <td>1306</td>\n",
       "      <td>0</td>\n",
       "      <td>NaN</td>\n",
       "      <td>Immediately</td>\n",
       "      <td>7.5</td>\n",
       "      <td>2750000.0</td>\n",
       "    </tr>\n",
       "  </tbody>\n",
       "</table>\n",
       "<p>13378 rows × 7 columns</p>\n",
       "</div>"
      ],
      "text/plain": [
       "       living_space  plot_area  floor_space  floor availability  rooms  \\\n",
       "0               100          0            0    4.0   On request    3.5   \n",
       "1               156        222          242    NaN   On request    4.5   \n",
       "2                93          0            0    2.0  Immediately    2.5   \n",
       "3               154        370          257    NaN   On request    4.5   \n",
       "4               142          0            0    0.0   On request    4.5   \n",
       "...             ...        ...          ...    ...          ...    ...   \n",
       "13373            70          0            0    NaN   On request    2.5   \n",
       "13374             0        284            0    NaN   On request    NaN   \n",
       "13375           150        160            0    NaN   On request    6.5   \n",
       "13376           145        853          140    NaN  Immediately    NaN   \n",
       "13377           385       1306            0    NaN  Immediately    7.5   \n",
       "\n",
       "           price  \n",
       "0      1150000.0  \n",
       "1      1420000.0  \n",
       "2       720000.0  \n",
       "3      1430000.0  \n",
       "4       995000.0  \n",
       "...          ...  \n",
       "13373  1101000.0  \n",
       "13374  1750000.0  \n",
       "13375  1415000.0  \n",
       "13376  1465000.0  \n",
       "13377  2750000.0  \n",
       "\n",
       "[13378 rows x 7 columns]"
      ]
     },
     "execution_count": 123,
     "metadata": {},
     "output_type": "execute_result"
    }
   ],
   "source": [
    "df_numeric"
   ]
  }
 ],
 "metadata": {
  "kernelspec": {
   "display_name": "Python 3.10.6 ('base')",
   "language": "python",
   "name": "python3"
  },
  "language_info": {
   "codemirror_mode": {
    "name": "ipython",
    "version": 3
   },
   "file_extension": ".py",
   "mimetype": "text/x-python",
   "name": "python",
   "nbconvert_exporter": "python",
   "pygments_lexer": "ipython3",
   "version": "3.10.6"
  },
  "orig_nbformat": 4,
  "vscode": {
   "interpreter": {
    "hash": "d4d1e4263499bec80672ea0156c357c1ee493ec2b1c70f0acce89fc37c4a6abe"
   }
  }
 },
 "nbformat": 4,
 "nbformat_minor": 2
}
