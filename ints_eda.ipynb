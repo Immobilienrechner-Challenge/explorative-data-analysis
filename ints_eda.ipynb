{
 "cells": [
  {
   "cell_type": "code",
   "execution_count": 237,
   "metadata": {},
   "outputs": [
    {
     "name": "stderr",
     "output_type": "stream",
     "text": [
      "/tmp/ipykernel_51292/3177212590.py:6: DtypeWarning: Columns (34) have mixed types. Specify dtype option on import or set low_memory=False.\n",
      "  df = pd.read_csv(\"../data/immoscout_cleaned_lat_lon_fixed_v9.csv\")\n"
     ]
    },
    {
     "data": {
      "text/plain": [
       "(13378, 24)"
      ]
     },
     "execution_count": 237,
     "metadata": {},
     "output_type": "execute_result"
    }
   ],
   "source": [
    "import pandas as pd\n",
    "import numpy as np\n",
    "\n",
    "pd.set_option(\"display.max_columns\", None, \"display.max_rows\", 100)\n",
    "\n",
    "df = pd.read_csv(\"../data/immoscout_cleaned_lat_lon_fixed_v9.csv\")\n",
    "\n",
    "col_names = df.columns.array\n",
    "col_names[0:2] = [\"Index1\", \"Index2\"]\n",
    "df.columns = col_names\n",
    "\n",
    "numeric_columns = [\"Living space\", \"Plot area\", \"Floor space\", \"Floor\", \"detail_responsive#surface_living\", \"detail_responsive#floor\", \"Wohnfläche\", \"Stockwerk\", \"Nutzfläche\", \"Grundstücksfläche\", \"detail_responsive#surface_property\", \"detail_responsive#surface_usable\", \"Surface habitable\", \"Surface du terrain\", \"Surface utile\", \"Étage\", \"Superficie abitabile\", \"Piano\", \"Superficie del terreno\", \"Superficie utile\", \"Floor_merged\", \"Living_space_merged\", \"Floor_space_merged\", \"Plot_area_merged\"]\n",
    "df_numeric = df[numeric_columns]\n",
    "\n",
    "df_numeric.shape"
   ]
  },
  {
   "cell_type": "markdown",
   "metadata": {},
   "source": [
    "In this part of the data analysis we focus on the numeric variables. For each one of them we find a \"_merged\" column in the dataset. How this column has been merged however is unclear, therefore we cannot assume that this column contains all the data.  \n",
    "Therefore we split by values containing information on \"Living Space\", \"Plot Area\", \"Floor Space\" and \"Floor\"."
   ]
  },
  {
   "cell_type": "markdown",
   "metadata": {},
   "source": [
    "## Living Space"
   ]
  },
  {
   "cell_type": "code",
   "execution_count": 238,
   "metadata": {},
   "outputs": [],
   "source": [
    "living_space = [\"Living space\", \"Wohnfläche\", \"Surface habitable\", \"Superficie abitabile\", \"detail_responsive#surface_living\", \"Living_space_merged\"]\n",
    "df_living_space = df_numeric[living_space]"
   ]
  },
  {
   "cell_type": "markdown",
   "metadata": {},
   "source": [
    "To get a sense of how the \"merged\" column was created, we inspect the cumulative sum of the value counts per column and check it against the \"merged\"-count. "
   ]
  },
  {
   "cell_type": "code",
   "execution_count": 239,
   "metadata": {},
   "outputs": [
    {
     "data": {
      "text/plain": [
       "Living space                        False\n",
       "Wohnfläche                          False\n",
       "Surface habitable                   False\n",
       "Superficie abitabile                 True\n",
       "detail_responsive#surface_living    False\n",
       "dtype: bool"
      ]
     },
     "execution_count": 239,
     "metadata": {},
     "output_type": "execute_result"
    }
   ],
   "source": [
    "df_living_space.iloc[:,0:5].count().cumsum() == df_living_space[living_space[5]].count()"
   ]
  },
  {
   "cell_type": "markdown",
   "metadata": {},
   "source": [
    "This suggests, that the column \"Living_space_merged\" contains the information of all the columns excluding \"detail_responsive#surface_living\". \n",
    "\n",
    "Let's see, if this is actually true.\n",
    "\n",
    "First, we merge the relevant columns into one"
   ]
  },
  {
   "cell_type": "code",
   "execution_count": 240,
   "metadata": {},
   "outputs": [
    {
     "name": "stderr",
     "output_type": "stream",
     "text": [
      "/tmp/ipykernel_51292/4020886721.py:1: SettingWithCopyWarning: \n",
      "A value is trying to be set on a copy of a slice from a DataFrame.\n",
      "Try using .loc[row_indexer,col_indexer] = value instead\n",
      "\n",
      "See the caveats in the documentation: https://pandas.pydata.org/pandas-docs/stable/user_guide/indexing.html#returning-a-view-versus-a-copy\n",
      "  df_living_space['living_space'] = df_living_space[living_space[0]].fillna('') + \\\n"
     ]
    },
    {
     "data": {
      "text/plain": [
       "13378"
      ]
     },
     "execution_count": 240,
     "metadata": {},
     "output_type": "execute_result"
    }
   ],
   "source": [
    "df_living_space['living_space'] = df_living_space[living_space[0]].fillna('') + \\\n",
    "  (df_living_space[living_space[1]]).fillna('') + \\\n",
    "  (df_living_space[living_space[2]]).fillna('') + \\\n",
    "  (df_living_space[living_space[3]]).fillna('')\n",
    "\n",
    "(df_living_space['living_space'] == df_living_space[living_space[5]].fillna('')).sum()"
   ]
  },
  {
   "cell_type": "markdown",
   "metadata": {},
   "source": [
    "Counting the True values of the above condition yields the same count as the column count of the dataset meaning that the columns are identical.\n",
    "\n",
    "The suggestion from the cumulative sum has therefore been proven correct!\n",
    "Now to get one column with the full information, we merge the \"Living_space_merged\" column with \"detail_responsive#surface_living\"."
   ]
  },
  {
   "cell_type": "code",
   "execution_count": 241,
   "metadata": {},
   "outputs": [
    {
     "name": "stderr",
     "output_type": "stream",
     "text": [
      "/tmp/ipykernel_51292/3070984261.py:1: SettingWithCopyWarning: \n",
      "A value is trying to be set on a copy of a slice from a DataFrame.\n",
      "Try using .loc[row_indexer,col_indexer] = value instead\n",
      "\n",
      "See the caveats in the documentation: https://pandas.pydata.org/pandas-docs/stable/user_guide/indexing.html#returning-a-view-versus-a-copy\n",
      "  df_living_space['living_space'] = df_living_space[living_space[5]].fillna('') + \\\n",
      "/tmp/ipykernel_51292/3070984261.py:4: SettingWithCopyWarning: \n",
      "A value is trying to be set on a copy of a slice from a DataFrame.\n",
      "Try using .loc[row_indexer,col_indexer] = value instead\n",
      "\n",
      "See the caveats in the documentation: https://pandas.pydata.org/pandas-docs/stable/user_guide/indexing.html#returning-a-view-versus-a-copy\n",
      "  df_living_space['living_space'] = df_living_space['living_space'].replace('', np.nan)\n"
     ]
    },
    {
     "data": {
      "text/plain": [
       "12304"
      ]
     },
     "execution_count": 241,
     "metadata": {},
     "output_type": "execute_result"
    }
   ],
   "source": [
    "df_living_space['living_space'] = df_living_space[living_space[5]].fillna('') + \\\n",
    "  (df_living_space[living_space[4]]).fillna('')\n",
    "\n",
    "df_living_space['living_space'] = df_living_space['living_space'].replace('', np.nan)\n",
    "\n",
    "df_living_space['living_space'].count()"
   ]
  },
  {
   "cell_type": "markdown",
   "metadata": {},
   "source": [
    "We now have 12304 observations for living space in our dataset. Nice! Let's transfer this back into the numeric subset of the dataframe and drop the unused columns."
   ]
  },
  {
   "cell_type": "code",
   "execution_count": 242,
   "metadata": {},
   "outputs": [
    {
     "data": {
      "text/plain": [
       "(13378, 19)"
      ]
     },
     "execution_count": 242,
     "metadata": {},
     "output_type": "execute_result"
    }
   ],
   "source": [
    "df_numeric = df_numeric.drop(living_space, axis=1) # drops 6 columns -> 18 remain\n",
    "df_numeric[\"living_space\"] = df_living_space['living_space'] # adds 1 column -> 19\n",
    "df_numeric.shape"
   ]
  },
  {
   "cell_type": "markdown",
   "metadata": {},
   "source": [
    "We then rinse and repeat this process for all data with a \"_merged\" column present in the dataset. "
   ]
  },
  {
   "cell_type": "markdown",
   "metadata": {},
   "source": [
    "## Plot Area"
   ]
  },
  {
   "cell_type": "code",
   "execution_count": 243,
   "metadata": {},
   "outputs": [
    {
     "data": {
      "text/plain": [
       "Plot area                             False\n",
       "Grundstücksfläche                     False\n",
       "Surface du terrain                    False\n",
       "Superficie del terreno                 True\n",
       "detail_responsive#surface_property    False\n",
       "dtype: bool"
      ]
     },
     "execution_count": 243,
     "metadata": {},
     "output_type": "execute_result"
    }
   ],
   "source": [
    "plot_area = [\"Plot area\", \"Grundstücksfläche\", \"Surface du terrain\", \"Superficie del terreno\", \"detail_responsive#surface_property\", \"Plot_area_merged\"]\n",
    "df_plot_area = df_numeric[plot_area]\n",
    "\n",
    "df_plot_area[plot_area[0:5]].count().cumsum() == df_plot_area[plot_area[5]].count()"
   ]
  },
  {
   "cell_type": "code",
   "execution_count": 244,
   "metadata": {},
   "outputs": [
    {
     "name": "stderr",
     "output_type": "stream",
     "text": [
      "/tmp/ipykernel_51292/2286274601.py:1: SettingWithCopyWarning: \n",
      "A value is trying to be set on a copy of a slice from a DataFrame.\n",
      "Try using .loc[row_indexer,col_indexer] = value instead\n",
      "\n",
      "See the caveats in the documentation: https://pandas.pydata.org/pandas-docs/stable/user_guide/indexing.html#returning-a-view-versus-a-copy\n",
      "  df_plot_area['plot_area'] = df_plot_area[plot_area[0]].fillna('') + \\\n"
     ]
    },
    {
     "data": {
      "text/plain": [
       "13378"
      ]
     },
     "execution_count": 244,
     "metadata": {},
     "output_type": "execute_result"
    }
   ],
   "source": [
    "df_plot_area['plot_area'] = df_plot_area[plot_area[0]].fillna('') + \\\n",
    "  (df_plot_area[plot_area[1]]).fillna('') + \\\n",
    "  (df_plot_area[plot_area[2]]).fillna('') + \\\n",
    "  (df_plot_area[plot_area[3]]).fillna('')\n",
    "\n",
    "(df_plot_area['plot_area'] == df_plot_area[plot_area[5]].fillna('')).sum()"
   ]
  },
  {
   "cell_type": "code",
   "execution_count": 245,
   "metadata": {},
   "outputs": [
    {
     "name": "stderr",
     "output_type": "stream",
     "text": [
      "/tmp/ipykernel_51292/670439676.py:1: SettingWithCopyWarning: \n",
      "A value is trying to be set on a copy of a slice from a DataFrame.\n",
      "Try using .loc[row_indexer,col_indexer] = value instead\n",
      "\n",
      "See the caveats in the documentation: https://pandas.pydata.org/pandas-docs/stable/user_guide/indexing.html#returning-a-view-versus-a-copy\n",
      "  df_plot_area['plot_area'] = df_plot_area[plot_area[5]].fillna('') + \\\n",
      "/tmp/ipykernel_51292/670439676.py:4: SettingWithCopyWarning: \n",
      "A value is trying to be set on a copy of a slice from a DataFrame.\n",
      "Try using .loc[row_indexer,col_indexer] = value instead\n",
      "\n",
      "See the caveats in the documentation: https://pandas.pydata.org/pandas-docs/stable/user_guide/indexing.html#returning-a-view-versus-a-copy\n",
      "  df_plot_area['plot_area'] = df_plot_area['plot_area'].replace('', np.nan)\n"
     ]
    },
    {
     "data": {
      "text/plain": [
       "4953"
      ]
     },
     "execution_count": 245,
     "metadata": {},
     "output_type": "execute_result"
    }
   ],
   "source": [
    "df_plot_area['plot_area'] = df_plot_area[plot_area[5]].fillna('') + \\\n",
    "  (df_plot_area[plot_area[4]]).fillna('')\n",
    "\n",
    "df_plot_area['plot_area'] = df_plot_area['plot_area'].replace('', np.nan)\n",
    "\n",
    "df_plot_area['plot_area'].count()"
   ]
  },
  {
   "cell_type": "code",
   "execution_count": 246,
   "metadata": {},
   "outputs": [
    {
     "data": {
      "text/plain": [
       "(13378, 14)"
      ]
     },
     "execution_count": 246,
     "metadata": {},
     "output_type": "execute_result"
    }
   ],
   "source": [
    "df_numeric = df_numeric.drop(plot_area, axis=1) # drops 6 columns -> 13 remain\n",
    "df_numeric[\"plot_area\"] = df_plot_area['plot_area'] # adds 1 column -> 14\n",
    "df_numeric.shape"
   ]
  },
  {
   "cell_type": "markdown",
   "metadata": {},
   "source": [
    "## Floor Space"
   ]
  },
  {
   "cell_type": "code",
   "execution_count": 247,
   "metadata": {},
   "outputs": [
    {
     "data": {
      "text/plain": [
       "Floor space                         False\n",
       "Nutzfläche                          False\n",
       "Surface utile                       False\n",
       "Superficie utile                     True\n",
       "detail_responsive#surface_usable    False\n",
       "dtype: bool"
      ]
     },
     "execution_count": 247,
     "metadata": {},
     "output_type": "execute_result"
    }
   ],
   "source": [
    "floor_space = [\"Floor space\", \"Nutzfläche\", \"Surface utile\", \"Superficie utile\", \"detail_responsive#surface_usable\", \"Floor_space_merged\"]\n",
    "df_floor_space = df_numeric[floor_space]\n",
    "\n",
    "df_floor_space[floor_space[0:5]].count().cumsum() == df_floor_space[floor_space[5]].count()"
   ]
  },
  {
   "cell_type": "code",
   "execution_count": 248,
   "metadata": {},
   "outputs": [
    {
     "name": "stderr",
     "output_type": "stream",
     "text": [
      "/tmp/ipykernel_51292/87451161.py:1: SettingWithCopyWarning: \n",
      "A value is trying to be set on a copy of a slice from a DataFrame.\n",
      "Try using .loc[row_indexer,col_indexer] = value instead\n",
      "\n",
      "See the caveats in the documentation: https://pandas.pydata.org/pandas-docs/stable/user_guide/indexing.html#returning-a-view-versus-a-copy\n",
      "  df_floor_space['floor_space'] = df_floor_space[floor_space[0]].fillna('') + \\\n"
     ]
    },
    {
     "data": {
      "text/plain": [
       "13378"
      ]
     },
     "execution_count": 248,
     "metadata": {},
     "output_type": "execute_result"
    }
   ],
   "source": [
    "df_floor_space['floor_space'] = df_floor_space[floor_space[0]].fillna('') + \\\n",
    "  (df_floor_space[floor_space[1]]).fillna('') + \\\n",
    "  (df_floor_space[floor_space[2]]).fillna('') + \\\n",
    "  (df_floor_space[floor_space[3]]).fillna('')\n",
    "\n",
    "(df_floor_space['floor_space'] == df_floor_space[floor_space[5]].fillna('')).sum()"
   ]
  },
  {
   "cell_type": "code",
   "execution_count": 249,
   "metadata": {},
   "outputs": [
    {
     "name": "stderr",
     "output_type": "stream",
     "text": [
      "/tmp/ipykernel_51292/2352240836.py:1: SettingWithCopyWarning: \n",
      "A value is trying to be set on a copy of a slice from a DataFrame.\n",
      "Try using .loc[row_indexer,col_indexer] = value instead\n",
      "\n",
      "See the caveats in the documentation: https://pandas.pydata.org/pandas-docs/stable/user_guide/indexing.html#returning-a-view-versus-a-copy\n",
      "  df_floor_space['floor_space'] = df_floor_space[floor_space[0]].fillna('') + \\\n"
     ]
    },
    {
     "data": {
      "text/plain": [
       "2842"
      ]
     },
     "execution_count": 249,
     "metadata": {},
     "output_type": "execute_result"
    }
   ],
   "source": [
    "df_floor_space['floor_space'] = df_floor_space[floor_space[0]].fillna('') + \\\n",
    "  (df_floor_space[floor_space[1]]).fillna('') + \\\n",
    "  (df_floor_space[floor_space[2]]).fillna('') + \\\n",
    "  (df_floor_space[floor_space[3]]).fillna('')\n",
    "\n",
    "df_floor_space[df_floor_space['floor_space'] != '']['floor_space'].count()"
   ]
  },
  {
   "cell_type": "code",
   "execution_count": 250,
   "metadata": {},
   "outputs": [
    {
     "name": "stderr",
     "output_type": "stream",
     "text": [
      "/tmp/ipykernel_51292/3136786986.py:1: SettingWithCopyWarning: \n",
      "A value is trying to be set on a copy of a slice from a DataFrame.\n",
      "Try using .loc[row_indexer,col_indexer] = value instead\n",
      "\n",
      "See the caveats in the documentation: https://pandas.pydata.org/pandas-docs/stable/user_guide/indexing.html#returning-a-view-versus-a-copy\n",
      "  df_floor_space['floor_space'] = df_floor_space[floor_space[5]].fillna('') + \\\n",
      "/tmp/ipykernel_51292/3136786986.py:4: SettingWithCopyWarning: \n",
      "A value is trying to be set on a copy of a slice from a DataFrame.\n",
      "Try using .loc[row_indexer,col_indexer] = value instead\n",
      "\n",
      "See the caveats in the documentation: https://pandas.pydata.org/pandas-docs/stable/user_guide/indexing.html#returning-a-view-versus-a-copy\n",
      "  df_floor_space['floor_space'] = df_floor_space['floor_space'].replace('', np.nan)\n"
     ]
    },
    {
     "data": {
      "text/plain": [
       "2953"
      ]
     },
     "execution_count": 250,
     "metadata": {},
     "output_type": "execute_result"
    }
   ],
   "source": [
    "df_floor_space['floor_space'] = df_floor_space[floor_space[5]].fillna('') + \\\n",
    "  (df_floor_space[floor_space[4]]).fillna('')\n",
    "\n",
    "df_floor_space['floor_space'] = df_floor_space['floor_space'].replace('', np.nan)\n",
    "\n",
    "df_floor_space['floor_space'].count()"
   ]
  },
  {
   "cell_type": "code",
   "execution_count": 251,
   "metadata": {},
   "outputs": [
    {
     "data": {
      "text/plain": [
       "(13378, 9)"
      ]
     },
     "execution_count": 251,
     "metadata": {},
     "output_type": "execute_result"
    }
   ],
   "source": [
    "df_numeric = df_numeric.drop(floor_space, axis=1) # drops 6 columns -> 8 remain\n",
    "df_numeric[\"floor_space\"] = df_floor_space['floor_space'] # adds 1 column -> 9\n",
    "df_numeric.shape"
   ]
  },
  {
   "cell_type": "markdown",
   "metadata": {},
   "source": [
    "## Floor"
   ]
  },
  {
   "cell_type": "code",
   "execution_count": 252,
   "metadata": {},
   "outputs": [
    {
     "data": {
      "text/plain": [
       "Floor                      False\n",
       "Stockwerk                  False\n",
       "Étage                      False\n",
       "Piano                       True\n",
       "detail_responsive#floor    False\n",
       "dtype: bool"
      ]
     },
     "execution_count": 252,
     "metadata": {},
     "output_type": "execute_result"
    }
   ],
   "source": [
    "floor = [\"Floor\", \"Stockwerk\", \"Étage\", \"Piano\", \"detail_responsive#floor\", \"Floor_merged\"]\n",
    "df_floor = df_numeric[floor]\n",
    "\n",
    "df_floor[floor[0:5]].count().cumsum() == df_floor[floor[5]].count()"
   ]
  },
  {
   "cell_type": "code",
   "execution_count": 253,
   "metadata": {},
   "outputs": [
    {
     "name": "stderr",
     "output_type": "stream",
     "text": [
      "/tmp/ipykernel_51292/1722899567.py:1: SettingWithCopyWarning: \n",
      "A value is trying to be set on a copy of a slice from a DataFrame.\n",
      "Try using .loc[row_indexer,col_indexer] = value instead\n",
      "\n",
      "See the caveats in the documentation: https://pandas.pydata.org/pandas-docs/stable/user_guide/indexing.html#returning-a-view-versus-a-copy\n",
      "  df_floor['floor'] = df_floor[floor[0]].fillna('') + \\\n"
     ]
    },
    {
     "data": {
      "text/plain": [
       "13378"
      ]
     },
     "execution_count": 253,
     "metadata": {},
     "output_type": "execute_result"
    }
   ],
   "source": [
    "df_floor['floor'] = df_floor[floor[0]].fillna('') + \\\n",
    "  (df_floor[floor[1]]).fillna('') + \\\n",
    "  (df_floor[floor[2]]).fillna('') + \\\n",
    "  (df_floor[floor[3]]).fillna('')\n",
    "\n",
    "(df_floor['floor'] == df_floor[floor[5]].fillna('')).sum()"
   ]
  },
  {
   "cell_type": "code",
   "execution_count": 254,
   "metadata": {},
   "outputs": [
    {
     "name": "stderr",
     "output_type": "stream",
     "text": [
      "/tmp/ipykernel_51292/1016433515.py:1: SettingWithCopyWarning: \n",
      "A value is trying to be set on a copy of a slice from a DataFrame.\n",
      "Try using .loc[row_indexer,col_indexer] = value instead\n",
      "\n",
      "See the caveats in the documentation: https://pandas.pydata.org/pandas-docs/stable/user_guide/indexing.html#returning-a-view-versus-a-copy\n",
      "  df_floor['floor'] = df_floor[floor[0]].fillna('') + \\\n"
     ]
    },
    {
     "data": {
      "text/plain": [
       "5414"
      ]
     },
     "execution_count": 254,
     "metadata": {},
     "output_type": "execute_result"
    }
   ],
   "source": [
    "df_floor['floor'] = df_floor[floor[0]].fillna('') + \\\n",
    "  (df_floor[floor[1]]).fillna('') + \\\n",
    "  (df_floor[floor[2]]).fillna('') + \\\n",
    "  (df_floor[floor[3]]).fillna('')\n",
    "\n",
    "df_floor[df_floor['floor'] != '']['floor'].count()"
   ]
  },
  {
   "cell_type": "code",
   "execution_count": 255,
   "metadata": {},
   "outputs": [
    {
     "name": "stderr",
     "output_type": "stream",
     "text": [
      "/tmp/ipykernel_51292/1727788760.py:1: SettingWithCopyWarning: \n",
      "A value is trying to be set on a copy of a slice from a DataFrame.\n",
      "Try using .loc[row_indexer,col_indexer] = value instead\n",
      "\n",
      "See the caveats in the documentation: https://pandas.pydata.org/pandas-docs/stable/user_guide/indexing.html#returning-a-view-versus-a-copy\n",
      "  df_floor['floor'] = df_floor[floor[5]].fillna('') + \\\n",
      "/tmp/ipykernel_51292/1727788760.py:4: SettingWithCopyWarning: \n",
      "A value is trying to be set on a copy of a slice from a DataFrame.\n",
      "Try using .loc[row_indexer,col_indexer] = value instead\n",
      "\n",
      "See the caveats in the documentation: https://pandas.pydata.org/pandas-docs/stable/user_guide/indexing.html#returning-a-view-versus-a-copy\n",
      "  df_floor['floor'] = df_floor['floor'].replace('', np.nan)\n"
     ]
    },
    {
     "data": {
      "text/plain": [
       "5620"
      ]
     },
     "execution_count": 255,
     "metadata": {},
     "output_type": "execute_result"
    }
   ],
   "source": [
    "df_floor['floor'] = df_floor[floor[5]].fillna('') + \\\n",
    "  (df_floor[floor[4]]).fillna('')\n",
    "\n",
    "df_floor['floor'] = df_floor['floor'].replace('', np.nan)\n",
    "\n",
    "df_floor['floor'].count()"
   ]
  },
  {
   "cell_type": "code",
   "execution_count": 256,
   "metadata": {},
   "outputs": [
    {
     "data": {
      "text/plain": [
       "(13378, 4)"
      ]
     },
     "execution_count": 256,
     "metadata": {},
     "output_type": "execute_result"
    }
   ],
   "source": [
    "df_numeric = df_numeric.drop(floor, axis=1) # drops 6 columns -> 3 remain\n",
    "df_numeric[\"floor\"] = df_floor['floor'] # adds 1 column -> 4\n",
    "df_numeric.shape"
   ]
  },
  {
   "cell_type": "code",
   "execution_count": 267,
   "metadata": {},
   "outputs": [
    {
     "data": {
      "text/html": [
       "<div>\n",
       "<style scoped>\n",
       "    .dataframe tbody tr th:only-of-type {\n",
       "        vertical-align: middle;\n",
       "    }\n",
       "\n",
       "    .dataframe tbody tr th {\n",
       "        vertical-align: top;\n",
       "    }\n",
       "\n",
       "    .dataframe thead th {\n",
       "        text-align: right;\n",
       "    }\n",
       "</style>\n",
       "<table border=\"1\" class=\"dataframe\">\n",
       "  <thead>\n",
       "    <tr style=\"text-align: right;\">\n",
       "      <th></th>\n",
       "      <th>living_space</th>\n",
       "      <th>plot_area</th>\n",
       "      <th>floor_space</th>\n",
       "      <th>floor</th>\n",
       "    </tr>\n",
       "  </thead>\n",
       "  <tbody>\n",
       "    <tr>\n",
       "      <th>0</th>\n",
       "      <td>100 m²</td>\n",
       "      <td>NaN</td>\n",
       "      <td>NaN</td>\n",
       "      <td>4. floor</td>\n",
       "    </tr>\n",
       "    <tr>\n",
       "      <th>1</th>\n",
       "      <td>156 m²</td>\n",
       "      <td>222 m²</td>\n",
       "      <td>242 m²</td>\n",
       "      <td>NaN</td>\n",
       "    </tr>\n",
       "    <tr>\n",
       "      <th>2</th>\n",
       "      <td>93 m²</td>\n",
       "      <td>NaN</td>\n",
       "      <td>NaN</td>\n",
       "      <td>2. floor</td>\n",
       "    </tr>\n",
       "    <tr>\n",
       "      <th>3</th>\n",
       "      <td>154 m²</td>\n",
       "      <td>370 m²</td>\n",
       "      <td>257 m²</td>\n",
       "      <td>NaN</td>\n",
       "    </tr>\n",
       "    <tr>\n",
       "      <th>4</th>\n",
       "      <td>142 m²</td>\n",
       "      <td>NaN</td>\n",
       "      <td>NaN</td>\n",
       "      <td>Ground floor</td>\n",
       "    </tr>\n",
       "    <tr>\n",
       "      <th>...</th>\n",
       "      <td>...</td>\n",
       "      <td>...</td>\n",
       "      <td>...</td>\n",
       "      <td>...</td>\n",
       "    </tr>\n",
       "    <tr>\n",
       "      <th>13373</th>\n",
       "      <td>70 m²</td>\n",
       "      <td>NaN</td>\n",
       "      <td>NaN</td>\n",
       "      <td>NaN</td>\n",
       "    </tr>\n",
       "    <tr>\n",
       "      <th>13374</th>\n",
       "      <td>NaN</td>\n",
       "      <td>284 m²</td>\n",
       "      <td>NaN</td>\n",
       "      <td>NaN</td>\n",
       "    </tr>\n",
       "    <tr>\n",
       "      <th>13375</th>\n",
       "      <td>150 m²</td>\n",
       "      <td>160 m²</td>\n",
       "      <td>NaN</td>\n",
       "      <td>NaN</td>\n",
       "    </tr>\n",
       "    <tr>\n",
       "      <th>13376</th>\n",
       "      <td>145 m²</td>\n",
       "      <td>853 m²</td>\n",
       "      <td>140 m²</td>\n",
       "      <td>NaN</td>\n",
       "    </tr>\n",
       "    <tr>\n",
       "      <th>13377</th>\n",
       "      <td>385 m²</td>\n",
       "      <td>1306 m²</td>\n",
       "      <td>NaN</td>\n",
       "      <td>NaN</td>\n",
       "    </tr>\n",
       "  </tbody>\n",
       "</table>\n",
       "<p>13378 rows × 4 columns</p>\n",
       "</div>"
      ],
      "text/plain": [
       "      living_space plot_area floor_space         floor\n",
       "0           100 m²       NaN         NaN      4. floor\n",
       "1           156 m²    222 m²      242 m²           NaN\n",
       "2            93 m²       NaN         NaN      2. floor\n",
       "3           154 m²    370 m²      257 m²           NaN\n",
       "4           142 m²       NaN         NaN  Ground floor\n",
       "...            ...       ...         ...           ...\n",
       "13373        70 m²       NaN         NaN           NaN\n",
       "13374          NaN    284 m²         NaN           NaN\n",
       "13375       150 m²    160 m²         NaN           NaN\n",
       "13376       145 m²    853 m²      140 m²           NaN\n",
       "13377       385 m²   1306 m²         NaN           NaN\n",
       "\n",
       "[13378 rows x 4 columns]"
      ]
     },
     "execution_count": 267,
     "metadata": {},
     "output_type": "execute_result"
    }
   ],
   "source": [
    "df_numeric"
   ]
  },
  {
   "cell_type": "markdown",
   "metadata": {},
   "source": [
    "# Cleaning and Parsing\n",
    "Now that we have shrunken down the 24 columns to only 4, we can parse the values and assign the correct data types."
   ]
  },
  {
   "cell_type": "markdown",
   "metadata": {},
   "source": [
    "## Living Space, Plot Area and Floor Space"
   ]
  },
  {
   "cell_type": "code",
   "execution_count": 273,
   "metadata": {},
   "outputs": [],
   "source": [
    "df_numeric[\"living_space\"] = df_numeric.living_space.str.extract('(\\d+)').fillna(0).astype(int)\n",
    "df_numeric[\"plot_area\"] = df_numeric.plot_area.str.extract('(\\d+)').fillna(0).astype(int)\n",
    "df_numeric[\"floor_space\"] = df_numeric.floor_space.str.extract('(\\d+)').fillna(0).astype(int)\n"
   ]
  },
  {
   "cell_type": "code",
   "execution_count": 276,
   "metadata": {},
   "outputs": [
    {
     "data": {
      "text/html": [
       "<div>\n",
       "<style scoped>\n",
       "    .dataframe tbody tr th:only-of-type {\n",
       "        vertical-align: middle;\n",
       "    }\n",
       "\n",
       "    .dataframe tbody tr th {\n",
       "        vertical-align: top;\n",
       "    }\n",
       "\n",
       "    .dataframe thead th {\n",
       "        text-align: right;\n",
       "    }\n",
       "</style>\n",
       "<table border=\"1\" class=\"dataframe\">\n",
       "  <thead>\n",
       "    <tr style=\"text-align: right;\">\n",
       "      <th></th>\n",
       "      <th>living_space</th>\n",
       "      <th>plot_area</th>\n",
       "      <th>floor_space</th>\n",
       "      <th>floor</th>\n",
       "    </tr>\n",
       "  </thead>\n",
       "  <tbody>\n",
       "    <tr>\n",
       "      <th>0</th>\n",
       "      <td>100</td>\n",
       "      <td>0</td>\n",
       "      <td>0</td>\n",
       "      <td>4. floor</td>\n",
       "    </tr>\n",
       "    <tr>\n",
       "      <th>1</th>\n",
       "      <td>156</td>\n",
       "      <td>222</td>\n",
       "      <td>242</td>\n",
       "      <td>NaN</td>\n",
       "    </tr>\n",
       "    <tr>\n",
       "      <th>2</th>\n",
       "      <td>93</td>\n",
       "      <td>0</td>\n",
       "      <td>0</td>\n",
       "      <td>2. floor</td>\n",
       "    </tr>\n",
       "    <tr>\n",
       "      <th>3</th>\n",
       "      <td>154</td>\n",
       "      <td>370</td>\n",
       "      <td>257</td>\n",
       "      <td>NaN</td>\n",
       "    </tr>\n",
       "    <tr>\n",
       "      <th>4</th>\n",
       "      <td>142</td>\n",
       "      <td>0</td>\n",
       "      <td>0</td>\n",
       "      <td>Ground floor</td>\n",
       "    </tr>\n",
       "  </tbody>\n",
       "</table>\n",
       "</div>"
      ],
      "text/plain": [
       "   living_space  plot_area  floor_space         floor\n",
       "0           100          0            0      4. floor\n",
       "1           156        222          242           NaN\n",
       "2            93          0            0      2. floor\n",
       "3           154        370          257           NaN\n",
       "4           142          0            0  Ground floor"
      ]
     },
     "execution_count": 276,
     "metadata": {},
     "output_type": "execute_result"
    }
   ],
   "source": [
    "df_numeric.head()"
   ]
  },
  {
   "cell_type": "code",
   "execution_count": 275,
   "metadata": {},
   "outputs": [
    {
     "data": {
      "text/plain": [
       "living_space     int64\n",
       "plot_area        int64\n",
       "floor_space      int64\n",
       "floor           object\n",
       "dtype: object"
      ]
     },
     "execution_count": 275,
     "metadata": {},
     "output_type": "execute_result"
    }
   ],
   "source": [
    "df_numeric.dtypes"
   ]
  },
  {
   "cell_type": "code",
   "execution_count": 321,
   "metadata": {},
   "outputs": [
    {
     "data": {
      "text/plain": [
       "array(['4. floor', nan, '2. floor', 'Ground floor', '3. floor',\n",
       "       '6. floor', '1. floor', '5. floor', '14. floor', '20. floor',\n",
       "       '8. floor', '2. Basement', '7. floor', '15. floor', '10. floor',\n",
       "       '11. floor', '4. Basement', '100. floor', '12. floor',\n",
       "       '1. Basement', '21. floor', '9. floor', '3. Basement',\n",
       "       '999. floor', '23. floor'], dtype=object)"
      ]
     },
     "execution_count": 321,
     "metadata": {},
     "output_type": "execute_result"
    }
   ],
   "source": [
    "df_numeric[\"floor\"].unique()"
   ]
  },
  {
   "cell_type": "code",
   "execution_count": 323,
   "metadata": {},
   "outputs": [
    {
     "data": {
      "text/plain": [
       "array(['4', nan, '2', 0, '3', '6', '1', '5', '14', '20', '8', '-2', '7',\n",
       "       '15', '10', '11', '-4', '100', '12', '-1', '21', '9', '-3', '999',\n",
       "       '23'], dtype=object)"
      ]
     },
     "execution_count": 323,
     "metadata": {},
     "output_type": "execute_result"
    }
   ],
   "source": [
    "import re\n",
    "\n",
    "def parse_floor(x):\n",
    "  if x != x:\n",
    "    return np.nan\n",
    "  elif x == \"Ground floor\":\n",
    "    return 0\n",
    "  elif re.search('\\. floor', x):\n",
    "    return re.search('\\d+', x).group()\n",
    "  elif re.search('Basement', x):\n",
    "    return \"-\" + re.search('\\d+', x).group()\n",
    "\n",
    "\n",
    "df_numeric[\"floor\"] = df_numeric[\"floor\"].apply(parse_floor)\n",
    "df_numeric[\"floor\"].unique()\n",
    "\n",
    "  "
   ]
  },
  {
   "cell_type": "code",
   "execution_count": 327,
   "metadata": {},
   "outputs": [
    {
     "data": {
      "text/plain": [
       "array([  4.,  nan,   2.,   0.,   3.,   6.,   1.,   5.,  14.,  20.,   8.,\n",
       "        -2.,   7.,  15.,  10.,  11.,  -4., 100.,  12.,  -1.,  21.,   9.,\n",
       "        -3., 999.,  23.])"
      ]
     },
     "execution_count": 327,
     "metadata": {},
     "output_type": "execute_result"
    }
   ],
   "source": [
    "df_numeric[\"floor\"] = df_numeric[\"floor\"].astype(float)\n",
    "df_numeric[\"floor\"].unique()"
   ]
  },
  {
   "cell_type": "code",
   "execution_count": 331,
   "metadata": {},
   "outputs": [
    {
     "data": {
      "text/plain": [
       "living_space    123.475275\n",
       "plot_area       845.261158\n",
       "floor_space     153.571314\n",
       "floor            29.809057\n",
       "dtype: float64"
      ]
     },
     "execution_count": 331,
     "metadata": {},
     "output_type": "execute_result"
    }
   ],
   "source": [
    "df_numeric.std()"
   ]
  },
  {
   "cell_type": "code",
   "execution_count": null,
   "metadata": {},
   "outputs": [],
   "source": []
  }
 ],
 "metadata": {
  "kernelspec": {
   "display_name": "Python 3.10.6 ('base')",
   "language": "python",
   "name": "python3"
  },
  "language_info": {
   "codemirror_mode": {
    "name": "ipython",
    "version": 3
   },
   "file_extension": ".py",
   "mimetype": "text/x-python",
   "name": "python",
   "nbconvert_exporter": "python",
   "pygments_lexer": "ipython3",
   "version": "3.10.6"
  },
  "orig_nbformat": 4,
  "vscode": {
   "interpreter": {
    "hash": "d4d1e4263499bec80672ea0156c357c1ee493ec2b1c70f0acce89fc37c4a6abe"
   }
  }
 },
 "nbformat": 4,
 "nbformat_minor": 2
}
